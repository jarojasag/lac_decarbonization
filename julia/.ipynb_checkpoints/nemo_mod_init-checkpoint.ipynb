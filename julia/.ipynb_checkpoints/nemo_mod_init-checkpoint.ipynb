{
 "cells": [
  {
   "cell_type": "code",
   "execution_count": null,
   "metadata": {},
   "outputs": [],
   "source": [
    "using Pkg\n",
    "Pkg.activate(\".\")\n",
    "\n",
    "using DataFrames\n",
    "using NemoMod\n",
    "using SQLite\n",
    "using Cbc\n",
    "using JuMP\n",
    "\n",
    "\n",
    "include(\"setup_analysis.jl\")"
   ]
  },
  {
   "cell_type": "code",
   "execution_count": null,
   "metadata": {},
   "outputs": [],
   "source": []
  },
  {
   "cell_type": "code",
   "execution_count": 5,
   "metadata": {},
   "outputs": [],
   "source": [
    "#\n",
    "#  TEMPORARY LOCATIONS FOR PROOF OF CONCEPT\n",
    "#\n",
    "\n",
    "dir_attributes = \"/Users/jsyme/Documents/Projects/git_jbus/lac_decarbonization/docs/source/csvs\"\n",
    "\n",
    "at_fuel = AttributeTable(\n",
    "    joinpath(dir_attributes, \"attribute_cat_fuel.csv\"),\n",
    "    Symbol(\"``\\$CAT-FUEL\\$``\"), \n",
    "    [Symbol(\"Category Name\")],\n",
    "    true\n",
    ");\n",
    "\n",
    "at_region = AttributeTable(\n",
    "    joinpath(dir_attributes, \"attribute_cat_region.csv\"),\n",
    "    Symbol(\"``\\$REGION\\$``\"),\n",
    "    [Symbol(\"Category Name\")],\n",
    "    true\n",
    ");\n",
    "\n",
    "at_technology = AttributeTable(\n",
    "    joinpath(dir_attributes, \"attribute_cat_technology.csv\"),\n",
    "    Symbol(\"``\\$CAT-TECHNOLOGY\\$``\"),\n",
    "    [Symbol(\"Category Name\")],\n",
    "    true\n",
    ");\n",
    "\n",
    "\n"
   ]
  },
  {
   "cell_type": "code",
   "execution_count": null,
   "metadata": {},
   "outputs": [],
   "source": []
  },
  {
   "cell_type": "code",
   "execution_count": null,
   "metadata": {},
   "outputs": [],
   "source": [
    "\n"
   ]
  },
  {
   "cell_type": "code",
   "execution_count": 16,
   "metadata": {},
   "outputs": [
    {
     "ename": "LoadError",
     "evalue": "\u001b[91mUndefVarError: dict_tables not defined\u001b[39m",
     "output_type": "error",
     "traceback": [
      "\u001b[91mUndefVarError: dict_tables not defined\u001b[39m",
      "",
      "Stacktrace:",
      " [1] top-level scope at In[16]:7",
      " [2] include_string(::Function, ::Module, ::String, ::String) at ./loading.jl:1091"
     ]
    }
   ],
   "source": [
    "# get technology categories for integration into tables\n",
    "keys_technology = collect(at_technology.table[:, at_technology.key])\n",
    "categories_technology = [replace(at_technology.field_maps[\"cat_technology_to_category_name\"][x], \"`\" => \"\") for x in keys_technology]\n",
    "categories_technology\n",
    "\n",
    "##  \n",
    "keys_sorted = sort(collect(keys(dict_tables)))\n",
    "files_to_specify = []\n",
    "for k in keys_sorted\n",
    "    if nrow(dict_tables[k]) > 0\n",
    "        push!(files_to_specify, k)\n",
    "    end\n",
    "end;\n"
   ]
  },
  {
   "cell_type": "code",
   "execution_count": null,
   "metadata": {},
   "outputs": [],
   "source": []
  },
  {
   "cell_type": "code",
   "execution_count": 17,
   "metadata": {},
   "outputs": [],
   "source": [
    "\n",
    "##  function for getting powerplants\n",
    "function get_powerplants(\n",
    "        fp_powerplant_data::String, \n",
    "        dict_ext::Dict{Symbol, String}, \n",
    "        attribute_tech::AttributeTable,\n",
    "        attribute_region::AttributeTable,\n",
    "        field_region::Symbol = :country,\n",
    "        field_fuel::Symbol = :primary_fuel\n",
    "    )\n",
    "    \n",
    "    # checkt the dictionary\n",
    "    if !issubset(Set(values(dict_ext)), Set([\"group\", \"sum\", \"mean\"]))\n",
    "        error(\"Error in dict_ext: invalid values.\")\n",
    "    end\n",
    "    fields_ext = Symbol.(collect(keys(dict_ext)))\n",
    "    fields_grp = [Symbol(x) for x in keys(dict_ext) if (dict_ext[x] == \"group\")]\n",
    "    dict_agg = Dict()\n",
    "    for k in fields_ext\n",
    "        if !(k in fields_grp)\n",
    "            if dict_ext[k] == \"sum\"\n",
    "                dict_agg[k] = sum\n",
    "            elseif dict_agg[k] == \"mean\"\n",
    "                dict_ext[k] = mean\n",
    "            end\n",
    "        end\n",
    "    end\n",
    "    fields_data = Symbol.(collect(keys(dict_agg)))\n",
    "    \n",
    "    \n",
    "    # get the dataframe\n",
    "    fp_powerplant_data = check_path(fp_powerplant_data, false)\n",
    "    df_pp = read_csv(fp_powerplant_data, true)\n",
    "    # check fields in the extraction dictionary \n",
    "    check_fields!(df_pp, fields_ext)\n",
    "    \n",
    "    \n",
    "    ##  setup techs to replace (from attribute table)\n",
    "    categories_tech = Set(replace.(attribute_tech.table[:, \"cat_technology\"], \"`\" => \"\"))\n",
    "    set_fuels_pp = union([Set(df_pp[:, x]) for x in names(df_pp) if occursin(\"fuel\", x)]...);\n",
    "    tech_src = collect(skipmissing(set_fuels_pp))\n",
    "    tech_targ = \"pp_\".*replace(lowercase.(tech_src), \"hydro\" => \"hydropower\")\n",
    "    for i in 1:length(tech_src)\n",
    "        tech = tech_targ[i]\n",
    "        if !(tech in categories_tech)\n",
    "            tech_targ[i] = \"pp_other\"\n",
    "        end\n",
    "    end\n",
    "    # a dictionary to replace the values with the techs in\n",
    "    dict_pp_repl = Dict(zip(tech_src, tech_targ))\n",
    "    all_pp_for_cross = sort(collect(intersect(categories_tech, Set(tech_targ))))\n",
    "\n",
    "    ##  get region info (lower case)\n",
    "    all_regions = replace.(keys(at_region.field_maps[\"region_to_category_name\"]), \"`\" => \"\")\n",
    "\n",
    "    ##  very basic approach -- get energy totals by country\n",
    "    df_energy = copy(df_pp[:, fields_ext])\n",
    "    for nm in fields_grp\n",
    "        df_energy[!, nm] = String.(df_energy[!, nm])\n",
    "    end \n",
    "    for fld in Symbol.(collect(keys(dict_agg)))\n",
    "        df_energy[!, fld] = Float64.(df_energy[!, fld])\n",
    "    end\n",
    "    \n",
    "    df_energy[!, field_fuel] = replace(df_energy[:, field_fuel], dict_pp_repl...)\n",
    "    df_energy[!, field_region] = lowercase.(df_energy[:, field_region])\n",
    "    df_energy = combine(groupby(df_energy, fields_grp), Dict(:capacity_mw => sum)..., renamecols = false);\n",
    "    df_energy0 = copy(df_energy)\n",
    "    #reshape(collect(Iterators.product([1, 2, 3], [1, 2, 3], [1, 2])), (18, ))\n",
    "    dfe = crossjoin(DataFrame(field_region => all_regions), DataFrame(field_fuel => all_pp_for_cross))\n",
    "    df_energy = leftjoin(dfe, df_energy, on = Symbol.(names(dfe)));\n",
    "    for fld in fields_data\n",
    "        df_energy[!, fld] = replace(coalesce(df_energy[!, fld]), missing => 0.0);\n",
    "    end\n",
    "    \n",
    "    return sort(df_energy, [field_region, field_fuel])\n",
    "end\n",
    "\n",
    "\n",
    "df_energy = get_powerplants(\n",
    "    \"/Users/jsyme/Documents/Projects/FY21/SWCHE131_1000/Data/LAC_global_power_plant_database.csv\",\n",
    "    Dict(:country => \"group\", :primary_fuel => \"group\", :capacity_mw => \"sum\"),\n",
    "    at_technology,\n",
    "    at_region\n",
    ");\n",
    "\n",
    "\n"
   ]
  },
  {
   "cell_type": "code",
   "execution_count": 47,
   "metadata": {},
   "outputs": [
    {
     "data": {
      "text/plain": [
       "build_nemo_attribute (generic function with 3 methods)"
      ]
     },
     "execution_count": 47,
     "metadata": {},
     "output_type": "execute_result"
    }
   ],
   "source": [
    "##########################################################################\n",
    "###                                                                    ###\n",
    "###    DEFINE FUNCTIONS TO CONVERT DATA TO NEMO MOD INPUT DB TABLES    ###\n",
    "###                                                                    ###\n",
    "##########################################################################\n",
    "\n",
    "# attribute table\n",
    "function build_nemo_attribute(attribute_table::AttributeTable, field_category::Symbol, field_description::Symbol)\n",
    "    \n",
    "    df_out = copy(attribute_table.table)\n",
    "    fields_ext = [field_category, field_description]\n",
    "    check_fields!(df_out, fields_ext)\n",
    "    df_out = df_out[:, [field_category, field_description]]\n",
    "    \n",
    "    rename!(df_out, Dict(field_category => :val, field_description => :desc))\n",
    "    \n",
    "    return df_out\n",
    "end\n",
    "\n",
    "\n"
   ]
  },
  {
   "cell_type": "code",
   "execution_count": 53,
   "metadata": {},
   "outputs": [
    {
     "data": {
      "text/html": [
       "<table class=\"data-frame\"><thead><tr><th></th><th>val</th><th>desc</th></tr><tr><th></th><th>String</th><th>String</th></tr></thead><tbody><p>22 rows × 2 columns</p><tr><th>1</th><td>arg</td><td>Argentina</td></tr><tr><th>2</th><td>bol</td><td>Bolivia</td></tr><tr><th>3</th><td>bra</td><td>Brazil</td></tr><tr><th>4</th><td>chl</td><td>Chile</td></tr><tr><th>5</th><td>col</td><td>Colombia</td></tr><tr><th>6</th><td>cri</td><td>Costa Rica</td></tr><tr><th>7</th><td>dom</td><td>Dominican Republic</td></tr><tr><th>8</th><td>ecu</td><td>Ecuador</td></tr><tr><th>9</th><td>slv</td><td>El Salvador</td></tr><tr><th>10</th><td>gtm</td><td>Guatemala</td></tr><tr><th>11</th><td>guy</td><td>Guyana</td></tr><tr><th>12</th><td>hnd</td><td>Honduras</td></tr><tr><th>13</th><td>jam</td><td>Jamaica</td></tr><tr><th>14</th><td>mex</td><td>Mexico</td></tr><tr><th>15</th><td>nic</td><td>Nicaragua</td></tr><tr><th>16</th><td>pan</td><td>Panama</td></tr><tr><th>17</th><td>pry</td><td>Paraguay</td></tr><tr><th>18</th><td>per</td><td>Peru</td></tr><tr><th>19</th><td>sur</td><td>Suriname</td></tr><tr><th>20</th><td>tto</td><td>Trinidad and Tobago</td></tr><tr><th>21</th><td>ury</td><td>Uruguay</td></tr><tr><th>22</th><td>ven</td><td>Venezuela</td></tr></tbody></table>"
      ],
      "text/latex": [
       "\\begin{tabular}{r|cc}\n",
       "\t& val & desc\\\\\n",
       "\t\\hline\n",
       "\t& String & String\\\\\n",
       "\t\\hline\n",
       "\t1 & arg & Argentina \\\\\n",
       "\t2 & bol & Bolivia \\\\\n",
       "\t3 & bra & Brazil \\\\\n",
       "\t4 & chl & Chile \\\\\n",
       "\t5 & col & Colombia \\\\\n",
       "\t6 & cri & Costa Rica \\\\\n",
       "\t7 & dom & Dominican Republic \\\\\n",
       "\t8 & ecu & Ecuador \\\\\n",
       "\t9 & slv & El Salvador \\\\\n",
       "\t10 & gtm & Guatemala \\\\\n",
       "\t11 & guy & Guyana \\\\\n",
       "\t12 & hnd & Honduras \\\\\n",
       "\t13 & jam & Jamaica \\\\\n",
       "\t14 & mex & Mexico \\\\\n",
       "\t15 & nic & Nicaragua \\\\\n",
       "\t16 & pan & Panama \\\\\n",
       "\t17 & pry & Paraguay \\\\\n",
       "\t18 & per & Peru \\\\\n",
       "\t19 & sur & Suriname \\\\\n",
       "\t20 & tto & Trinidad and Tobago \\\\\n",
       "\t21 & ury & Uruguay \\\\\n",
       "\t22 & ven & Venezuela \\\\\n",
       "\\end{tabular}\n"
      ],
      "text/plain": [
       "\u001b[1m22×2 DataFrame\u001b[0m\n",
       "\u001b[1m Row \u001b[0m│\u001b[1m val    \u001b[0m\u001b[1m desc                \u001b[0m\n",
       "\u001b[1m     \u001b[0m│\u001b[90m String \u001b[0m\u001b[90m String              \u001b[0m\n",
       "─────┼─────────────────────────────\n",
       "   1 │ arg     Argentina\n",
       "   2 │ bol     Bolivia\n",
       "   3 │ bra     Brazil\n",
       "   4 │ chl     Chile\n",
       "   5 │ col     Colombia\n",
       "   6 │ cri     Costa Rica\n",
       "   7 │ dom     Dominican Republic\n",
       "   8 │ ecu     Ecuador\n",
       "   9 │ slv     El Salvador\n",
       "  10 │ gtm     Guatemala\n",
       "  11 │ guy     Guyana\n",
       "  12 │ hnd     Honduras\n",
       "  13 │ jam     Jamaica\n",
       "  14 │ mex     Mexico\n",
       "  15 │ nic     Nicaragua\n",
       "  16 │ pan     Panama\n",
       "  17 │ pry     Paraguay\n",
       "  18 │ per     Peru\n",
       "  19 │ sur     Suriname\n",
       "  20 │ tto     Trinidad and Tobago\n",
       "  21 │ ury     Uruguay\n",
       "  22 │ ven     Venezuela"
      ]
     },
     "execution_count": 53,
     "metadata": {},
     "output_type": "execute_result"
    }
   ],
   "source": [
    "#######################################\n",
    "#    build tables to export to SQL    #\n",
    "#######################################\n",
    "\n",
    "dict_tables_out = Dict{String, DataFrame}()\n",
    "\n",
    "dict_tables_out[\"FUEL\"] = build_nemo_attribute(at_fuel, at_fuel.key, :description)\n",
    "dict_tables_out[\"TECHNOLOGY\"] = build_nemo_attribute(at_technology, at_technology.key, :description)\n",
    "dict_tables_out[\"REGION\"] = build_nemo_attribute(at_region, at_region.key, :category_name)\n",
    "\n"
   ]
  },
  {
   "cell_type": "code",
   "execution_count": null,
   "metadata": {},
   "outputs": [],
   "source": [
    "##### reshape(collect(Iterators.product([1, 2, 3], [1, 2, 3], [1, 2])), (18, ))"
   ]
  },
  {
   "cell_type": "code",
   "execution_count": 180,
   "metadata": {},
   "outputs": [
    {
     "name": "stdout",
     "output_type": "stream",
     "text": [
      "2022-14-Aug 08:58:00.612 Opened SQLite database at /Users/jsyme/Documents/Projects/git_jbus/lac_decarbonization/tmp/testingdb.sqlite.\n",
      "2022-14-Aug 08:58:00.824 Added NEMO structure to SQLite database at /Users/jsyme/Documents/Projects/git_jbus/lac_decarbonization/tmp/testingdb.sqlite.\n"
     ]
    },
    {
     "data": {
      "text/plain": [
       "SQLite.DB(\"/Users/jsyme/Documents/Projects/git_jbus/lac_decarbonization/tmp/testingdb.sqlite\")"
      ]
     },
     "execution_count": 180,
     "metadata": {},
     "output_type": "execute_result"
    }
   ],
   "source": [
    "!ispath(dir_tmp) ? mkdir(dir_tmp) : nothing\n",
    "fp_db = joinpath(dir_tmp, \"testingdb.sqlite\")\n",
    "createnemodb(fp_db)"
   ]
  },
  {
   "cell_type": "code",
   "execution_count": 165,
   "metadata": {},
   "outputs": [],
   "source": [
    "\n",
    "db2 = SQLite.DB(fp_db)\n",
    "\n",
    "dict_tables2 = Dict{String, DataFrame}()\n",
    "tables_vary2 = []\n",
    "\n",
    "\n",
    "for k in SQLite.tables(db2)[1]\n",
    "    df_tmp = DBInterface.execute(db2, \"select * from $(k)\") |> DataFrame\n",
    "    dict_tables2[k] = df_tmp\n",
    "    (nrow(df_tmp) > 0) ? push!(tables_vary2, k) : nothing\n",
    "end;\n",
    "\n"
   ]
  },
  {
   "cell_type": "code",
   "execution_count": 181,
   "metadata": {},
   "outputs": [
    {
     "name": "stdout",
     "output_type": "stream",
     "text": [
      "2022-14-Aug 08:58:03.616 Started modeling scenario.\n",
      "2022-14-Aug 08:58:03.616 Validated run-time arguments.\n",
      "2022-14-Aug 08:58:03.621 Connected to scenario database. Path = /Users/jsyme/Documents/Projects/git_jbus/lac_decarbonization/tmp/testingdb.sqlite.\n",
      "2022-14-Aug 08:58:03.623 Dropped pre-existing result tables from database.\n",
      "2022-14-Aug 08:58:03.623 Verified that transmission modeling is not enabled.\n",
      "2022-14-Aug 08:58:03.694 Created parameter views and indices.\n",
      "2022-14-Aug 08:58:03.714 Created temporary tables.\n",
      "2022-14-Aug 08:58:04.594 Executed core database queries.\n",
      "NEMO encountered an error with the following message: MethodError: no method matching parse(::Type{Int64}, ::Missing)\n",
      "Closest candidates are:\n",
      "  parse(::Type{T}, !Matched::AbstractChar; base) where T<:Integer at parse.jl:40\n",
      "  parse(::Type{T}, !Matched::AbstractString; base) where T<:Integer at parse.jl:237\n",
      "  parse(::Type{T}, !Matched::AbstractString; kwargs...) where T<:Real at parse.jl:376.\n",
      "To report this issue to the NEMO team, please submit an error report at https://leap.sei.org/support/. Please include in the report a list of steps to reproduce the error and the error message.\n"
     ]
    }
   ],
   "source": [
    "NemoMod.calculatescenario(fp_db; jumpmodel=Model(Cbc.Optimizer), numprocs = 1)"
   ]
  },
  {
   "cell_type": "code",
   "execution_count": 177,
   "metadata": {},
   "outputs": [
    {
     "name": "stdout",
     "output_type": "stream",
     "text": [
      "Table MinimumUtilization:\n",
      "Tuple{String,Union}[(\"id\", Union{Missing, Int64}), (\"r\", Union{Missing, String}), (\"t\", Union{Missing, String}), (\"l\", Union{Missing, String}), (\"y\", Union{Missing, String}), (\"val\", Union{Missing, Float64})]\n",
      "\n",
      "Table TransmissionModelingEnabled:\n",
      "Tuple{String,Union}[(\"id\", Union{Missing, Int64}), (\"r\", Union{Missing, String}), (\"f\", Union{Missing, String}), (\"y\", Union{Missing, String}), (\"type\", Union{Missing, Int64})]\n",
      "\n",
      "Table CapacityToActivityUnit:\n",
      "Tuple{String,Union}[(\"id\", Union{Missing, Int64}), (\"r\", Union{Missing, String}), (\"t\", Union{Missing, String}), (\"val\", Union{Missing, Float64})]\n",
      "\n"
     ]
    },
    {
     "ename": "LoadError",
     "evalue": "\u001b[91mKeyError: key \"vusenn\" not found\u001b[39m",
     "output_type": "error",
     "traceback": [
      "\u001b[91mKeyError: key \"vusenn\" not found\u001b[39m",
      "",
      "Stacktrace:",
      " [1] getindex(::Dict{String,DataFrame}, ::String) at ./dict.jl:467",
      " [2] top-level scope at ./In[177]:4",
      " [3] include_string(::Function, ::Module, ::String, ::String) at ./loading.jl:1091"
     ]
    }
   ],
   "source": [
    "for k in keys(dict_tables)\n",
    "    if nrow(dict_tables[k]) >= 0\n",
    "        els = eltype.(eachcol(dict_tables[k]))\n",
    "        nms = names(dict_tables2[k])\n",
    "        pairs = collect(zip(nms, els))\n",
    "        print(\"Table $(k):\\n$(pairs)\\n\\n\")\n",
    "    end\n",
    "end"
   ]
  },
  {
   "cell_type": "code",
   "execution_count": 164,
   "metadata": {},
   "outputs": [
    {
     "name": "stdout",
     "output_type": "stream",
     "text": [
      "2022-14-Aug 03:38:57.598 Started modeling scenario.\n",
      "2022-14-Aug 03:38:57.599 Validated run-time arguments.\n",
      "2022-14-Aug 03:38:57.604 Connected to scenario database. Path = /Users/jsyme/Documents/Projects/git_jbus/lac_decarbonization/tmp/testingdb.sqlite.\n",
      "2022-14-Aug 03:38:57.608 Dropped pre-existing result tables from database.\n",
      "2022-14-Aug 03:38:57.608 Verified that transmission modeling is not enabled.\n",
      "2022-14-Aug 03:38:57.712 Created parameter views and indices.\n",
      "2022-14-Aug 03:38:57.725 Created temporary tables.\n",
      "2022-14-Aug 03:39:01.866 Executed core database queries.\n",
      "NEMO encountered an error with the following message: MethodError: Cannot `convert` an object of type Int64 to an object of type String\n",
      "Closest candidates are:\n",
      "  convert(::Type{String}, !Matched::WeakRefStrings.WeakRefString) at /Users/jsyme/.julia/packages/WeakRefStrings/lqf5B/src/WeakRefStrings.jl:79\n",
      "  convert(::Type{T}, !Matched::T) where T<:AbstractString at strings/basic.jl:229\n",
      "  convert(::Type{T}, !Matched::AbstractString) where T<:AbstractString at strings/basic.jl:230\n",
      "  ....\n",
      "To report this issue to the NEMO team, please submit an error report at https://leap.sei.org/support/. Please include in the report a list of steps to reproduce the error and the error message.\n"
     ]
    }
   ],
   "source": []
  },
  {
   "cell_type": "code",
   "execution_count": 8,
   "metadata": {
    "collapsed": true,
    "jupyter": {
     "outputs_hidden": true
    }
   },
   "outputs": [
    {
     "name": "stdout",
     "output_type": "stream",
     "text": [
      "2022-31-Jul 18:40:43.247 Started modeling scenario.\n",
      "2022-31-Jul 18:40:43.294 Validated run-time arguments.\n",
      "2022-31-Jul 18:40:43.307 Connected to scenario database. Path = /Users/jsyme/.julia/packages/NemoMod/OkhEV/test/storage_test.sqlite.\n",
      "2022-31-Jul 18:40:43.814 Dropped pre-existing result tables from database.\n",
      "2022-31-Jul 18:40:43.817 Verified that transmission modeling is not enabled.\n",
      "2022-31-Jul 18:40:44.355 Created parameter views and indices.\n",
      "2022-31-Jul 18:40:44.362 Created temporary tables.\n",
      "2022-31-Jul 18:40:46.452 Executed core database queries.\n",
      "2022-31-Jul 18:40:46.813 Defined dimensions.\n",
      "2022-31-Jul 18:40:47.344 Defined demand variables.\n",
      "2022-31-Jul 18:40:47.777 Defined storage variables.\n",
      "2022-31-Jul 18:40:47.778 Defined capacity variables.\n",
      "2022-31-Jul 18:40:50.389 Defined activity variables.\n",
      "2022-31-Jul 18:40:50.407 Defined costing variables.\n",
      "2022-31-Jul 18:40:50.407 Defined reserve margin variables.\n",
      "2022-31-Jul 18:40:50.408 Defined renewable energy target variables.\n",
      "2022-31-Jul 18:40:50.408 Defined emissions variables.\n",
      "2022-31-Jul 18:40:50.408 Defined combined nodal and non-nodal variables.\n",
      "2022-31-Jul 18:40:50.408 Finished defining model variables.\n",
      "2022-31-Jul 18:40:50.675 Created constraint CAa1_TotalNewCapacity.\n",
      "2022-31-Jul 18:40:50.704 Created constraint CAa2_TotalAnnualCapacity.\n",
      "2022-31-Jul 18:40:50.836 Created constraint CAa3_TotalActivityOfEachTechnology.\n",
      "2022-31-Jul 18:40:51.311 Created constraint CAa4_Constraint_Capacity.\n",
      "2022-31-Jul 18:40:51.337 Created constraint EBa2_RateOfFuelProduction2.\n",
      "2022-31-Jul 18:40:51.350 Created constraint EBa3_RateOfFuelProduction3.\n",
      "2022-31-Jul 18:40:51.354 Created constraint VRateOfProduction1.\n",
      "2022-31-Jul 18:40:51.366 Created constraint EBa5_RateOfFuelUse2.\n",
      "2022-31-Jul 18:40:51.373 Created constraint EBa6_RateOfFuelUse3.\n",
      "2022-31-Jul 18:40:51.376 Created constraint VRateOfUse1.\n",
      "2022-31-Jul 18:40:51.417 Created constraint EBa7_EnergyBalanceEachTS1.\n",
      "2022-31-Jul 18:40:51.417 Created constraint EBa8_EnergyBalanceEachTS2.\n",
      "2022-31-Jul 18:40:51.458 Created constraint EBa9_EnergyBalanceEachTS3.\n",
      "2022-31-Jul 18:40:51.595 Created constraint EBa11_EnergyBalanceEachTS5.\n",
      "2022-31-Jul 18:40:51.597 Created constraint EBb0_EnergyBalanceEachYear.\n",
      "2022-31-Jul 18:40:51.597 Created constraint EBb1_EnergyBalanceEachYear.\n",
      "2022-31-Jul 18:40:51.598 Created constraint EBb2_EnergyBalanceEachYear.\n",
      "2022-31-Jul 18:40:51.602 Created constraint EBb5_EnergyBalanceEachYear.\n",
      "2022-31-Jul 18:40:51.637 Created constraint Acc3_AverageAnnualRateOfActivity.\n",
      "2022-31-Jul 18:40:51.647 Created constraint NS1_RateOfStorageCharge.\n",
      "2022-31-Jul 18:40:51.656 Created constraint NS2_RateOfStorageDischarge.\n",
      "2022-31-Jul 18:40:51.769 Created constraint NS3_StorageLevelTsGroup1Start.\n",
      "2022-31-Jul 18:40:51.769 Created constraint NS4_StorageLevelTsGroup2Start.\n",
      "2022-31-Jul 18:40:51.769 Created constraint NS5_StorageLevelTimesliceEnd.\n",
      "2022-31-Jul 18:40:51.773 Created constraint NS6_StorageLevelTsGroup2End.\n",
      "2022-31-Jul 18:40:51.774 Created constraint NS7_StorageLevelTsGroup1End.\n",
      "2022-31-Jul 18:40:51.880 Created constraint NS8_StorageLevelYearEnd.\n",
      "2022-31-Jul 18:40:51.880 Created constraint SI1_StorageUpperLimit.\n",
      "2022-31-Jul 18:40:51.900 Created constraint SI2_StorageLowerLimit.\n",
      "2022-31-Jul 18:40:51.900 Created constraint SI3_TotalNewStorage.\n",
      "2022-31-Jul 18:40:51.906 Created constraint NS9a_StorageLevelTsLowerLimit.\n",
      "2022-31-Jul 18:40:51.906 Created constraint NS9b_StorageLevelTsUpperLimit.\n",
      "2022-31-Jul 18:40:51.916 Created constraint NS10_StorageChargeLimit.\n",
      "2022-31-Jul 18:40:51.922 Created constraint NS11_StorageDischargeLimit.\n",
      "2022-31-Jul 18:40:51.922 Created constraint NS12a_StorageLevelTsGroup2LowerLimit.\n",
      "2022-31-Jul 18:40:51.922 Created constraint NS12b_StorageLevelTsGroup2UpperLimit.\n",
      "2022-31-Jul 18:40:51.922 Created constraint NS13a_StorageLevelTsGroup1LowerLimit.\n",
      "2022-31-Jul 18:40:51.923 Created constraint NS13b_StorageLevelTsGroup1UpperLimit.\n",
      "2022-31-Jul 18:40:51.923 Created constraint NS18_FullLoadHours.\n",
      "2022-31-Jul 18:40:51.929 Created constraint SI4_UndiscountedCapitalInvestmentStorage.\n",
      "2022-31-Jul 18:40:51.950 Created constraint SI5_DiscountingCapitalInvestmentStorage.\n",
      "2022-31-Jul 18:40:52.007 Created constraint SI8_SalvageValueStorageAtEndOfPeriod3.\n",
      "2022-31-Jul 18:40:52.008 Created constraint SI9_SalvageValueStorageDiscountedToStartYear.\n",
      "2022-31-Jul 18:40:52.008 Created constraint SI10_TotalDiscountedCostByStorage.\n",
      "2022-31-Jul 18:40:52.009 Created constraint CC1_UndiscountedCapitalInvestment.\n",
      "2022-31-Jul 18:40:52.010 Created constraint CC2_DiscountingCapitalInvestment.\n",
      "2022-31-Jul 18:40:52.032 Created constraint SV1_SalvageValueAtEndOfPeriod1.\n",
      "2022-31-Jul 18:40:52.045 Created constraint SV4_SalvageValueDiscountedToStartYear.\n",
      "2022-31-Jul 18:40:52.046 Created constraint OC1_OperatingCostsVariable.\n",
      "2022-31-Jul 18:40:52.046 Created constraint OC2_OperatingCostsFixedAnnual.\n",
      "2022-31-Jul 18:40:52.046 Created constraint OC3_OperatingCostsTotalAnnual.\n",
      "2022-31-Jul 18:40:52.050 Created constraint OC4_DiscountedOperatingCostsTotalAnnual.\n",
      "2022-31-Jul 18:40:52.050 Created constraint TDC1_TotalDiscountedCostByTechnology.\n",
      "2022-31-Jul 18:40:52.051 Created constraint TDC2_TotalDiscountedCost.\n",
      "2022-31-Jul 18:40:52.051 Created constraint TCC1_TotalAnnualMaxCapacityConstraint.\n",
      "2022-31-Jul 18:40:52.068 Created constraint NCC1_TotalAnnualMaxNewCapacityConstraint.\n",
      "2022-31-Jul 18:40:52.076 Created constraint RM1_ReserveMargin_TechnologiesIncluded_In_Activity_Units.\n",
      "2022-31-Jul 18:40:52.083 Created constraint RM2_ReserveMargin_FuelsIncluded.\n",
      "2022-31-Jul 18:40:52.095 Created constraint RM3_ReserveMargin_Constraint.\n",
      "2022-31-Jul 18:40:52.112 Created constraint RE1_FuelProductionByTechnologyAnnual.\n",
      "2022-31-Jul 18:40:52.117 Created constraint FuelUseByTechnologyAnnual.\n",
      "2022-31-Jul 18:40:52.125 Created constraint E5_DiscountedEmissionsPenaltyByTechnology.\n",
      "2022-31-Jul 18:40:52.179 Defined model objective.\n",
      "2022-31-Jul 18:41:00.497 Solved model. Solver status = OPTIMAL.\n",
      "2022-31-Jul 18:41:01.248 Saved results for vdemandnn to database.\n",
      "2022-31-Jul 18:41:01.601 Saved results for vnewcapacity to database.\n",
      "2022-31-Jul 18:41:01.608 Saved results for vtotalcapacityannual to database.\n",
      "2022-31-Jul 18:41:01.827 Saved results for vproductionbytechnologyannual to database.\n",
      "2022-31-Jul 18:41:01.854 Saved results for vproductionnn to database.\n",
      "2022-31-Jul 18:41:01.860 Saved results for vusebytechnologyannual to database.\n",
      "2022-31-Jul 18:41:01.879 Saved results for vusenn to database.\n",
      "2022-31-Jul 18:41:02.128 Saved results for vtotaldiscountedcost to database.\n",
      "2022-31-Jul 18:41:02.129 Finished saving results to database.\n",
      "2022-31-Jul 18:41:02.134 Dropped temporary tables.\n",
      "2022-31-Jul 18:41:02.134 Finished modeling scenario.\n",
      "Welcome to the CBC MILP Solver \n",
      "Version: 2.10.3 \n",
      "Build Date: Nov  9 2020 \n",
      "\n",
      "command line - Cbc_C_Interface -solve -quit (default strategy 1)\n",
      "Presolve 9303 (-39037) rows, 5900 (-37630) columns and 31379 (-93847) elements\n",
      "Perturbing problem by 0.001% of 7521.1615 - largest nonzero change 0.00098447629 ( 0.13075086%) - largest zero change 0.00098134442\n",
      "0  Obj 0.17913789 Primal inf 19224.223 (2390)\n",
      "261  Obj 230.94889 Primal inf 10432.99 (1589)\n",
      "522  Obj 2532.6555 Primal inf 12009.245 (1327)\n",
      "783  Obj 2532.8142 Primal inf 12922.203 (1301)\n",
      "1044  Obj 2777.2043 Primal inf 11513.802 (1234)\n",
      "1305  Obj 3370.6978 Primal inf 10193.619 (1268)\n",
      "1566  Obj 3772.3896 Primal inf 8973.9702 (1240)\n",
      "1827  Obj 4042.4648 Primal inf 7455.2827 (1251)\n",
      "2088  Obj 4097.6141 Primal inf 4879.6382 (981)\n",
      "2349  Obj 4097.6679 Primal inf 4619.7505 (1237)\n",
      "2610  Obj 4097.7044 Primal inf 5098.6027 (977)\n",
      "2871  Obj 4097.7413 Primal inf 3677.498 (698)\n",
      "3132  Obj 4825.3228 Primal inf 9135.3526 (758)\n",
      "3393  Obj 4825.3626 Primal inf 5539.7036 (785)\n",
      "3654  Obj 4829.4987 Primal inf 1402.8917 (309)\n",
      "3915  Obj 4940.6401 Primal inf 0.00048908855 (10)\n",
      "3920  Obj 4940.6401\n",
      "3920  Obj 4938.9081 Dual inf 5.173759e-07 (1)\n",
      "Optimal - objective value 4938.9081\n",
      "After Postsolve, objective 4938.9081, infeasibilities - dual 2.3839979e-05 (1), primal 0.00021914957 (4)\n",
      "Presolved model was optimal, full model needs cleaning up\n",
      "0  Obj 4938.9081 Primal inf 454.2389 (58) Dual inf 2.7596162e-06 (1)\n",
      "0  Obj 4938.9081 Primal inf 454.2389 (58) Dual inf 7.2879919e+14 (2593)\n",
      "200  Obj 5071.5222 Primal inf 3.9283424e-07 (5) Dual inf 2.1953872e+13 (1290)\n",
      "400  Obj 4939.1829 Primal inf 7.2451179e-06 (2) Dual inf 1.5069488e+15 (801)\n",
      "582  Obj 4938.9081\n",
      "Optimal - objective value 4938.9081\n",
      "Optimal objective 4938.908105 - 4502 iterations time 0.662, Presolve 0.11\n",
      "Total time (CPU seconds):       0.66   (Wallclock seconds):       0.70\n",
      "\n"
     ]
    },
    {
     "data": {
      "text/plain": [
       "OPTIMAL::TerminationStatusCode = 1"
      ]
     },
     "execution_count": 8,
     "metadata": {},
     "output_type": "execute_result"
    }
   ],
   "source": [
    "#### dbpath = normpath(joinpath(pathof(NemoMod), \"..\", \"..\", \"test\", \"storage_test.sqlite\"))\n",
    "# it's important to set numprocs = 1; the parallelization doesn't seem to export the package (or the environment?). need to report\n",
    "NemoMod.calculatescenario(dbpath; jumpmodel=Model(Cbc.Optimizer), numprocs = 1)\n",
    "\n"
   ]
  },
  {
   "cell_type": "code",
   "execution_count": 7,
   "metadata": {},
   "outputs": [
    {
     "data": {
      "text/plain": [
       "SQLite.DB(\"/Users/jsyme/.julia/packages/NemoMod/OkhEV/test/storage_test.sqlite\")"
      ]
     },
     "execution_count": 7,
     "metadata": {},
     "output_type": "execute_result"
    }
   ],
   "source": [
    "dbpath = normpath(joinpath(pathof(NemoMod), \"..\", \"..\", \"test\", \"storage_test.sqlite\"))\n",
    "db = SQLite.DB(dbpath)"
   ]
  },
  {
   "cell_type": "code",
   "execution_count": 32,
   "metadata": {},
   "outputs": [
    {
     "data": {
      "text/plain": [
       "86-element Array{String,1}:\n",
       " \"EMISSION\"\n",
       " \"FUEL\"\n",
       " \"MODE_OF_OPERATION\"\n",
       " \"REGION\"\n",
       " \"TECHNOLOGY\"\n",
       " \"TIMESLICE\"\n",
       " \"TSGROUP1\"\n",
       " \"TSGROUP2\"\n",
       " \"YEAR\"\n",
       " \"YearSplit\"\n",
       " \"VariableCost\"\n",
       " \"TradeRoute\"\n",
       " \"TotalTechnologyModelPeriodActivityUpperLimit\"\n",
       " ⋮\n",
       " \"MinimumUtilization\"\n",
       " \"InterestRateStorage\"\n",
       " \"InterestRateTechnology\"\n",
       " \"TransmissionLine\"\n",
       " \"vdemandnn\"\n",
       " \"vnewcapacity\"\n",
       " \"vtotalcapacityannual\"\n",
       " \"vproductionbytechnologyannual\"\n",
       " \"vproductionnn\"\n",
       " \"vusebytechnologyannual\"\n",
       " \"vusenn\"\n",
       " \"vtotaldiscountedcost\""
      ]
     },
     "execution_count": 32,
     "metadata": {},
     "output_type": "execute_result"
    }
   ],
   "source": [
    "tables_avail = SQLite.tables(db)[:name] \n",
    "tables_avail[startswith.(tables_avail, \"v\")]\n"
   ]
  },
  {
   "cell_type": "code",
   "execution_count": null,
   "metadata": {},
   "outputs": [],
   "source": []
  },
  {
   "cell_type": "code",
   "execution_count": 37,
   "metadata": {},
   "outputs": [
    {
     "data": {
      "text/html": [
       "<table class=\"data-frame\"><thead><tr><th></th><th>id</th><th>r</th><th>t</th><th>y</th><th>val</th></tr><tr><th></th><th>Int64?</th><th>String?</th><th>String?</th><th>String?</th><th>Float64?</th></tr></thead><tbody><p>0 rows × 5 columns</p></tbody></table>"
      ],
      "text/latex": [
       "\\begin{tabular}{r|ccccc}\n",
       "\t& id & r & t & y & val\\\\\n",
       "\t\\hline\n",
       "\t& Int64? & String? & String? & String? & Float64?\\\\\n",
       "\t\\hline\n",
       "\\end{tabular}\n"
      ],
      "text/plain": [
       "\u001b[1m0×5 DataFrame\u001b[0m"
      ]
     },
     "execution_count": 37,
     "metadata": {},
     "output_type": "execute_result"
    }
   ],
   "source": [
    "df_times = DBInterface.execute(db, \"select * from TIMESLICE\") |> DataFrame;\n",
    "#println.(df_times[:, :val])\n",
    "df_cur = DBInterface.execute(db, \"select * from CapacityOfOneTechnologyUnit\") |> DataFrame;\n",
    "df_cur"
   ]
  },
  {
   "cell_type": "code",
   "execution_count": 59,
   "metadata": {},
   "outputs": [],
   "source": [
    "df_tmp = DBInterface.execute(db, \"select * from vproductionbytechnologyannual\") |> DataFrame;"
   ]
  },
  {
   "cell_type": "code",
   "execution_count": null,
   "metadata": {},
   "outputs": [],
   "source": []
  },
  {
   "cell_type": "code",
   "execution_count": 38,
   "metadata": {
    "collapsed": true,
    "jupyter": {
     "outputs_hidden": true
    }
   },
   "outputs": [
    {
     "name": "stdout",
     "output_type": "stream",
     "text": [
      "\n",
      "Finished with table EMISSION...\n",
      "\n",
      "Finished with table FUEL...\n",
      "\n",
      "Finished with table MODE_OF_OPERATION...\n",
      "\n",
      "Finished with table REGION...\n",
      "\n",
      "Finished with table TECHNOLOGY...\n",
      "\n",
      "Finished with table TIMESLICE...\n",
      "\n",
      "Finished with table TSGROUP1...\n",
      "\n",
      "Finished with table TSGROUP2...\n",
      "\n",
      "Finished with table YEAR...\n",
      "\n",
      "Finished with table YearSplit...\n",
      "\n",
      "Finished with table VariableCost...\n",
      "\n",
      "Finished with table TradeRoute...\n",
      "\n",
      "Finished with table TotalTechnologyModelPeriodActivityUpperLimit...\n",
      "\n",
      "Finished with table TotalTechnologyModelPeriodActivityLowerLimit...\n",
      "\n",
      "Finished with table TotalTechnologyAnnualActivityUpperLimit...\n",
      "\n",
      "Finished with table TotalTechnologyAnnualActivityLowerLimit...\n",
      "\n",
      "Finished with table TotalAnnualMinCapacityInvestment...\n",
      "\n",
      "Finished with table TotalAnnualMinCapacityInvestmentStorage...\n",
      "\n",
      "Finished with table TotalAnnualMinCapacity...\n",
      "\n",
      "Finished with table TotalAnnualMinCapacityStorage...\n",
      "\n",
      "Finished with table TotalAnnualMaxCapacityInvestment...\n",
      "\n",
      "Finished with table TotalAnnualMaxCapacityInvestmentStorage...\n",
      "\n",
      "Finished with table TotalAnnualMaxCapacity...\n",
      "\n",
      "Finished with table TotalAnnualMaxCapacityStorage...\n",
      "\n",
      "Finished with table TechnologyToStorage...\n",
      "\n",
      "Finished with table TechnologyFromStorage...\n",
      "\n",
      "Finished with table StorageMaxDischargeRate...\n",
      "\n",
      "Finished with table StorageMaxChargeRate...\n",
      "\n",
      "Finished with table StorageLevelStart...\n",
      "\n",
      "Finished with table SpecifiedDemandProfile...\n",
      "\n",
      "Finished with table SpecifiedAnnualDemand...\n",
      "\n",
      "Finished with table ResidualStorageCapacity...\n",
      "\n",
      "Finished with table ResidualCapacity...\n",
      "\n",
      "Finished with table ReserveMarginTagTechnology...\n",
      "\n",
      "Finished with table ReserveMarginTagFuel...\n",
      "\n",
      "Finished with table ReserveMargin...\n",
      "\n",
      "Finished with table RETagTechnology...\n",
      "\n",
      "Finished with table RETagFuel...\n",
      "\n",
      "Finished with table REMinProductionTarget...\n",
      "\n",
      "Finished with table OutputActivityRatio...\n",
      "\n",
      "Finished with table OperationalLifeStorage...\n",
      "\n",
      "Finished with table OperationalLife...\n",
      "\n",
      "Finished with table ModelPeriodExogenousEmission...\n",
      "\n",
      "Finished with table ModelPeriodEmissionLimit...\n",
      "\n",
      "Finished with table MinStorageCharge...\n",
      "\n",
      "Finished with table LTsGroup...\n",
      "\n",
      "Finished with table sqlite_sequence...\n",
      "\n",
      "Finished with table InputActivityRatio...\n",
      "\n",
      "Finished with table FixedCost...\n",
      "\n",
      "Finished with table EmissionsPenalty...\n",
      "\n",
      "Finished with table EmissionActivityRatio...\n",
      "\n",
      "Finished with table DiscountRate...\n",
      "\n",
      "Finished with table DepreciationMethod...\n",
      "\n",
      "Finished with table CapitalCostStorage...\n",
      "\n",
      "Finished with table CapitalCost...\n",
      "\n",
      "Finished with table CapacityToActivityUnit...\n",
      "\n",
      "Finished with table CapacityOfOneTechnologyUnit...\n",
      "\n",
      "Finished with table CapacityFactor...\n",
      "\n",
      "Finished with table AvailabilityFactor...\n",
      "\n",
      "Finished with table AnnualExogenousEmission...\n",
      "\n",
      "Finished with table AnnualEmissionLimit...\n",
      "\n",
      "Finished with table AccumulatedAnnualDemand...\n",
      "\n",
      "Finished with table DefaultParams...\n",
      "\n",
      "Finished with table NODE...\n",
      "\n",
      "Finished with table TransmissionModelingEnabled...\n",
      "\n",
      "Finished with table NodalDistributionDemand...\n",
      "\n",
      "Finished with table NodalDistributionStorageCapacity...\n",
      "\n",
      "Finished with table NodalDistributionTechnologyCapacity...\n",
      "\n",
      "Finished with table StorageFullLoadHours...\n",
      "\n",
      "Finished with table Version...\n",
      "\n",
      "Finished with table STORAGE...\n",
      "\n",
      "Finished with table TransmissionCapacityToActivityUnit...\n",
      "\n",
      "Finished with table RampRate...\n",
      "\n",
      "Finished with table RampingReset...\n",
      "\n",
      "Finished with table MinimumUtilization...\n",
      "\n",
      "Finished with table InterestRateStorage...\n",
      "\n",
      "Finished with table InterestRateTechnology...\n",
      "\n",
      "Finished with table TransmissionLine...\n",
      "\n",
      "Finished with table vdemandnn...\n",
      "\n",
      "Finished with table vnewcapacity...\n",
      "\n",
      "Finished with table vtotalcapacityannual...\n",
      "\n",
      "Finished with table vproductionbytechnologyannual...\n",
      "\n",
      "Finished with table vproductionnn...\n",
      "\n",
      "Finished with table vusebytechnologyannual...\n",
      "\n",
      "Finished with table vusenn...\n",
      "\n",
      "Finished with table vtotaldiscountedcost...\n"
     ]
    }
   ],
   "source": [
    "#SQLite.columns(db, \"EMISSION\")\n",
    "\n",
    "dict_tables = Dict{String, DataFrame}()\n",
    "tables_vary = []\n",
    "\n",
    "\n",
    "for k in SQLite.tables(db)[1]\n",
    "    df_tmp = DBInterface.execute(db, \"select * from $(k)\") |> DataFrame\n",
    "    dict_tables[k] = df_tmp\n",
    "    \n",
    "    if nrow(df_tmp) > 0\n",
    "        push!(tables_vary, k)\n",
    "    end\n",
    "    \n",
    "    #fp_out = joinpath(dir_out, \"$(k).csv\")\n",
    "    \n",
    "    #if !ispath(fp_out)\n",
    "    #    CSV.write(fp_out, df_tmp)\n",
    "    #end\n",
    "    \n",
    "    print(\"\\nFinished with table $(k)...\\n\")\n",
    "end;\n"
   ]
  },
  {
   "cell_type": "code",
   "execution_count": 112,
   "metadata": {},
   "outputs": [],
   "source": [
    "#dict_tables[\"LTsGroup\"]\n",
    "dict_"
   ]
  },
  {
   "cell_type": "code",
   "execution_count": 146,
   "metadata": {},
   "outputs": [
    {
     "data": {
      "text/html": [
       "<table class=\"data-frame\"><thead><tr><th></th><th>id</th><th>r</th><th>y</th><th>val</th></tr><tr><th></th><th>Int64</th><th>String</th><th>String</th><th>Float64</th></tr></thead><tbody><p>10 rows × 4 columns</p><tr><th>1</th><td>1</td><td>1</td><td>2020</td><td>1.25</td></tr><tr><th>2</th><td>2</td><td>1</td><td>2021</td><td>1.25</td></tr><tr><th>3</th><td>3</td><td>1</td><td>2022</td><td>1.25</td></tr><tr><th>4</th><td>4</td><td>1</td><td>2023</td><td>1.25</td></tr><tr><th>5</th><td>5</td><td>1</td><td>2024</td><td>1.25</td></tr><tr><th>6</th><td>6</td><td>1</td><td>2025</td><td>1.25</td></tr><tr><th>7</th><td>7</td><td>1</td><td>2026</td><td>1.25</td></tr><tr><th>8</th><td>8</td><td>1</td><td>2027</td><td>1.25</td></tr><tr><th>9</th><td>9</td><td>1</td><td>2028</td><td>1.25</td></tr><tr><th>10</th><td>10</td><td>1</td><td>2029</td><td>1.25</td></tr></tbody></table>"
      ],
      "text/latex": [
       "\\begin{tabular}{r|cccc}\n",
       "\t& id & r & y & val\\\\\n",
       "\t\\hline\n",
       "\t& Int64 & String & String & Float64\\\\\n",
       "\t\\hline\n",
       "\t1 & 1 & 1 & 2020 & 1.25 \\\\\n",
       "\t2 & 2 & 1 & 2021 & 1.25 \\\\\n",
       "\t3 & 3 & 1 & 2022 & 1.25 \\\\\n",
       "\t4 & 4 & 1 & 2023 & 1.25 \\\\\n",
       "\t5 & 5 & 1 & 2024 & 1.25 \\\\\n",
       "\t6 & 6 & 1 & 2025 & 1.25 \\\\\n",
       "\t7 & 7 & 1 & 2026 & 1.25 \\\\\n",
       "\t8 & 8 & 1 & 2027 & 1.25 \\\\\n",
       "\t9 & 9 & 1 & 2028 & 1.25 \\\\\n",
       "\t10 & 10 & 1 & 2029 & 1.25 \\\\\n",
       "\\end{tabular}\n"
      ],
      "text/plain": [
       "\u001b[1m10×4 DataFrame\u001b[0m\n",
       "\u001b[1m Row \u001b[0m│\u001b[1m id    \u001b[0m\u001b[1m r      \u001b[0m\u001b[1m y      \u001b[0m\u001b[1m val     \u001b[0m\n",
       "\u001b[1m     \u001b[0m│\u001b[90m Int64 \u001b[0m\u001b[90m String \u001b[0m\u001b[90m String \u001b[0m\u001b[90m Float64 \u001b[0m\n",
       "─────┼────────────────────────────────\n",
       "   1 │     1  1       2020       1.25\n",
       "   2 │     2  1       2021       1.25\n",
       "   3 │     3  1       2022       1.25\n",
       "   4 │     4  1       2023       1.25\n",
       "   5 │     5  1       2024       1.25\n",
       "   6 │     6  1       2025       1.25\n",
       "   7 │     7  1       2026       1.25\n",
       "   8 │     8  1       2027       1.25\n",
       "   9 │     9  1       2028       1.25\n",
       "  10 │    10  1       2029       1.25"
      ]
     },
     "execution_count": 146,
     "metadata": {},
     "output_type": "execute_result"
    }
   ],
   "source": [
    "dict_tables[\"ReserveMargin\"]"
   ]
  },
  {
   "cell_type": "code",
   "execution_count": 133,
   "metadata": {},
   "outputs": [
    {
     "data": {
      "text/plain": [
       "\"/Users/jsyme/Documents/Projects/git_jbus/lac_decarbonization/ref/nemo_mod/default_param.csv\""
      ]
     },
     "execution_count": 133,
     "metadata": {},
     "output_type": "execute_result"
    }
   ],
   "source": [
    "#dict_tables[\"YearSplit\"]\n",
    "CSV.write(\n",
    "    \"/Users/jsyme/Documents/Projects/git_jbus/lac_decarbonization/ref/nemo_mod/default_param.csv\",\n",
    "    dict_tables[\"DefaultParams\"]\n",
    ")"
   ]
  },
  {
   "cell_type": "code",
   "execution_count": 84,
   "metadata": {},
   "outputs": [
    {
     "data": {
      "text/html": [
       "<table class=\"data-frame\"><thead><tr><th></th><th>id</th><th>l</th><th>lorder</th><th>tg2</th><th>tg1</th></tr><tr><th></th><th>Int64</th><th>String</th><th>Int64</th><th>String</th><th>String</th></tr></thead><tbody><p>8 rows × 5 columns</p><tr><th>1</th><td>1</td><td>winterwe0</td><td>1</td><td>weekend</td><td>winter</td></tr><tr><th>2</th><td>2</td><td>winterwe1</td><td>2</td><td>weekend</td><td>winter</td></tr><tr><th>3</th><td>25</td><td>winterwd0</td><td>1</td><td>weekday</td><td>winter</td></tr><tr><th>4</th><td>26</td><td>winterwd1</td><td>2</td><td>weekday</td><td>winter</td></tr><tr><th>5</th><td>49</td><td>summerwe0</td><td>1</td><td>weekend</td><td>summer</td></tr><tr><th>6</th><td>50</td><td>summerwe1</td><td>2</td><td>weekend</td><td>summer</td></tr><tr><th>7</th><td>73</td><td>summerwd0</td><td>1</td><td>weekday</td><td>summer</td></tr><tr><th>8</th><td>74</td><td>summerwd1</td><td>2</td><td>weekday</td><td>summer</td></tr></tbody></table>"
      ],
      "text/latex": [
       "\\begin{tabular}{r|ccccc}\n",
       "\t& id & l & lorder & tg2 & tg1\\\\\n",
       "\t\\hline\n",
       "\t& Int64 & String & Int64 & String & String\\\\\n",
       "\t\\hline\n",
       "\t1 & 1 & winterwe0 & 1 & weekend & winter \\\\\n",
       "\t2 & 2 & winterwe1 & 2 & weekend & winter \\\\\n",
       "\t3 & 25 & winterwd0 & 1 & weekday & winter \\\\\n",
       "\t4 & 26 & winterwd1 & 2 & weekday & winter \\\\\n",
       "\t5 & 49 & summerwe0 & 1 & weekend & summer \\\\\n",
       "\t6 & 50 & summerwe1 & 2 & weekend & summer \\\\\n",
       "\t7 & 73 & summerwd0 & 1 & weekday & summer \\\\\n",
       "\t8 & 74 & summerwd1 & 2 & weekday & summer \\\\\n",
       "\\end{tabular}\n"
      ],
      "text/plain": [
       "\u001b[1m8×5 DataFrame\u001b[0m\n",
       "\u001b[1m Row \u001b[0m│\u001b[1m id    \u001b[0m\u001b[1m l         \u001b[0m\u001b[1m lorder \u001b[0m\u001b[1m tg2     \u001b[0m\u001b[1m tg1    \u001b[0m\n",
       "\u001b[1m     \u001b[0m│\u001b[90m Int64 \u001b[0m\u001b[90m String    \u001b[0m\u001b[90m Int64  \u001b[0m\u001b[90m String  \u001b[0m\u001b[90m String \u001b[0m\n",
       "─────┼───────────────────────────────────────────\n",
       "   1 │     1  winterwe0       1  weekend  winter\n",
       "   2 │     2  winterwe1       2  weekend  winter\n",
       "   3 │    25  winterwd0       1  weekday  winter\n",
       "   4 │    26  winterwd1       2  weekday  winter\n",
       "   5 │    49  summerwe0       1  weekend  summer\n",
       "   6 │    50  summerwe1       2  weekend  summer\n",
       "   7 │    73  summerwd0       1  weekday  summer\n",
       "   8 │    74  summerwd1       2  weekday  summer"
      ]
     },
     "execution_count": 84,
     "metadata": {},
     "output_type": "execute_result"
    }
   ],
   "source": [
    "#filter(x -> (occursin(\"winterwe\", x)), dict_tables[\"TIMESLICE\"][:, :val]);\n",
    "#filter(x -> ((x[:f] == \"electricity\") & (x[:y] == \"2020\")), dict_tables[\"SpecifiedDemandProfile\"])[:, :val]\n",
    "filter(x -> (x[:lorder] in [1, 2]), dict_tables[\"LTsGroup\"])\n",
    "\n"
   ]
  },
  {
   "cell_type": "code",
   "execution_count": 145,
   "metadata": {},
   "outputs": [
    {
     "data": {
      "text/html": [
       "<table class=\"data-frame\"><thead><tr><th></th><th>id</th><th>r</th><th>f</th><th>y</th><th>val</th></tr><tr><th></th><th>Int64</th><th>String</th><th>String</th><th>String</th><th>Float64</th></tr></thead><tbody><p>10 rows × 5 columns</p><tr><th>1</th><td>1</td><td>1</td><td>electricity</td><td>2020</td><td>1.0</td></tr><tr><th>2</th><td>2</td><td>1</td><td>electricity</td><td>2021</td><td>1.0</td></tr><tr><th>3</th><td>3</td><td>1</td><td>electricity</td><td>2022</td><td>1.0</td></tr><tr><th>4</th><td>4</td><td>1</td><td>electricity</td><td>2023</td><td>1.0</td></tr><tr><th>5</th><td>5</td><td>1</td><td>electricity</td><td>2024</td><td>1.0</td></tr><tr><th>6</th><td>6</td><td>1</td><td>electricity</td><td>2025</td><td>1.0</td></tr><tr><th>7</th><td>7</td><td>1</td><td>electricity</td><td>2026</td><td>1.0</td></tr><tr><th>8</th><td>8</td><td>1</td><td>electricity</td><td>2027</td><td>1.0</td></tr><tr><th>9</th><td>9</td><td>1</td><td>electricity</td><td>2028</td><td>1.0</td></tr><tr><th>10</th><td>10</td><td>1</td><td>electricity</td><td>2029</td><td>1.0</td></tr></tbody></table>"
      ],
      "text/latex": [
       "\\begin{tabular}{r|ccccc}\n",
       "\t& id & r & f & y & val\\\\\n",
       "\t\\hline\n",
       "\t& Int64 & String & String & String & Float64\\\\\n",
       "\t\\hline\n",
       "\t1 & 1 & 1 & electricity & 2020 & 1.0 \\\\\n",
       "\t2 & 2 & 1 & electricity & 2021 & 1.0 \\\\\n",
       "\t3 & 3 & 1 & electricity & 2022 & 1.0 \\\\\n",
       "\t4 & 4 & 1 & electricity & 2023 & 1.0 \\\\\n",
       "\t5 & 5 & 1 & electricity & 2024 & 1.0 \\\\\n",
       "\t6 & 6 & 1 & electricity & 2025 & 1.0 \\\\\n",
       "\t7 & 7 & 1 & electricity & 2026 & 1.0 \\\\\n",
       "\t8 & 8 & 1 & electricity & 2027 & 1.0 \\\\\n",
       "\t9 & 9 & 1 & electricity & 2028 & 1.0 \\\\\n",
       "\t10 & 10 & 1 & electricity & 2029 & 1.0 \\\\\n",
       "\\end{tabular}\n"
      ],
      "text/plain": [
       "\u001b[1m10×5 DataFrame\u001b[0m\n",
       "\u001b[1m Row \u001b[0m│\u001b[1m id    \u001b[0m\u001b[1m r      \u001b[0m\u001b[1m f           \u001b[0m\u001b[1m y      \u001b[0m\u001b[1m val     \u001b[0m\n",
       "\u001b[1m     \u001b[0m│\u001b[90m Int64 \u001b[0m\u001b[90m String \u001b[0m\u001b[90m String      \u001b[0m\u001b[90m String \u001b[0m\u001b[90m Float64 \u001b[0m\n",
       "─────┼─────────────────────────────────────────────\n",
       "   1 │     1  1       electricity  2020        1.0\n",
       "   2 │     2  1       electricity  2021        1.0\n",
       "   3 │     3  1       electricity  2022        1.0\n",
       "   4 │     4  1       electricity  2023        1.0\n",
       "   5 │     5  1       electricity  2024        1.0\n",
       "   6 │     6  1       electricity  2025        1.0\n",
       "   7 │     7  1       electricity  2026        1.0\n",
       "   8 │     8  1       electricity  2027        1.0\n",
       "   9 │     9  1       electricity  2028        1.0\n",
       "  10 │    10  1       electricity  2029        1.0"
      ]
     },
     "execution_count": 145,
     "metadata": {},
     "output_type": "execute_result"
    }
   ],
   "source": [
    "#filter(x -> ((x[\"t\"] == \"solar\")), dict_tables[\"CapacityFactor\"])\n",
    "#df_tmp = dict_tables[\"CapacityFactor\"]\n",
    "#filter(x -> ((x[:t] != \"solar\") & (x[:y] == \"2020\")), df_tmp)\n",
    "dict_tables[\"ReserveMarginTagFuel\"]\n"
   ]
  },
  {
   "cell_type": "code",
   "execution_count": 142,
   "metadata": {},
   "outputs": [
    {
     "data": {
      "text/html": [
       "<table class=\"data-frame\"><thead><tr><th></th><th>id</th><th>r</th><th>t</th><th>l</th><th>y</th><th>val</th></tr><tr><th></th><th>Int64</th><th>String</th><th>String</th><th>String</th><th>String</th><th>Float64</th></tr></thead><tbody><p>960 rows × 6 columns</p><tr><th>1</th><td>1</td><td>1</td><td>solar</td><td>winterwe0</td><td>2020</td><td>0.0</td></tr><tr><th>2</th><td>2</td><td>1</td><td>solar</td><td>winterwe1</td><td>2020</td><td>0.0</td></tr><tr><th>3</th><td>3</td><td>1</td><td>solar</td><td>winterwe2</td><td>2020</td><td>0.0</td></tr><tr><th>4</th><td>4</td><td>1</td><td>solar</td><td>winterwe3</td><td>2020</td><td>0.0</td></tr><tr><th>5</th><td>5</td><td>1</td><td>solar</td><td>winterwe4</td><td>2020</td><td>0.0</td></tr><tr><th>6</th><td>6</td><td>1</td><td>solar</td><td>winterwe5</td><td>2020</td><td>0.0</td></tr><tr><th>7</th><td>7</td><td>1</td><td>solar</td><td>winterwe6</td><td>2020</td><td>1.0</td></tr><tr><th>8</th><td>8</td><td>1</td><td>solar</td><td>winterwe7</td><td>2020</td><td>1.0</td></tr><tr><th>9</th><td>9</td><td>1</td><td>solar</td><td>winterwe8</td><td>2020</td><td>1.0</td></tr><tr><th>10</th><td>10</td><td>1</td><td>solar</td><td>winterwe9</td><td>2020</td><td>1.0</td></tr><tr><th>11</th><td>11</td><td>1</td><td>solar</td><td>winterwe10</td><td>2020</td><td>1.0</td></tr><tr><th>12</th><td>12</td><td>1</td><td>solar</td><td>winterwe11</td><td>2020</td><td>1.0</td></tr><tr><th>13</th><td>13</td><td>1</td><td>solar</td><td>winterwe12</td><td>2020</td><td>1.0</td></tr><tr><th>14</th><td>14</td><td>1</td><td>solar</td><td>winterwe13</td><td>2020</td><td>1.0</td></tr><tr><th>15</th><td>15</td><td>1</td><td>solar</td><td>winterwe14</td><td>2020</td><td>1.0</td></tr><tr><th>16</th><td>16</td><td>1</td><td>solar</td><td>winterwe15</td><td>2020</td><td>1.0</td></tr><tr><th>17</th><td>17</td><td>1</td><td>solar</td><td>winterwe16</td><td>2020</td><td>1.0</td></tr><tr><th>18</th><td>18</td><td>1</td><td>solar</td><td>winterwe17</td><td>2020</td><td>1.0</td></tr><tr><th>19</th><td>19</td><td>1</td><td>solar</td><td>winterwe18</td><td>2020</td><td>0.0</td></tr><tr><th>20</th><td>20</td><td>1</td><td>solar</td><td>winterwe19</td><td>2020</td><td>0.0</td></tr><tr><th>21</th><td>21</td><td>1</td><td>solar</td><td>winterwe20</td><td>2020</td><td>0.0</td></tr><tr><th>22</th><td>22</td><td>1</td><td>solar</td><td>winterwe21</td><td>2020</td><td>0.0</td></tr><tr><th>23</th><td>23</td><td>1</td><td>solar</td><td>winterwe22</td><td>2020</td><td>0.0</td></tr><tr><th>24</th><td>24</td><td>1</td><td>solar</td><td>winterwe23</td><td>2020</td><td>0.0</td></tr><tr><th>25</th><td>25</td><td>1</td><td>solar</td><td>winterwd0</td><td>2020</td><td>0.0</td></tr><tr><th>26</th><td>26</td><td>1</td><td>solar</td><td>winterwd1</td><td>2020</td><td>0.0</td></tr><tr><th>27</th><td>27</td><td>1</td><td>solar</td><td>winterwd2</td><td>2020</td><td>0.0</td></tr><tr><th>28</th><td>28</td><td>1</td><td>solar</td><td>winterwd3</td><td>2020</td><td>0.0</td></tr><tr><th>29</th><td>29</td><td>1</td><td>solar</td><td>winterwd4</td><td>2020</td><td>0.0</td></tr><tr><th>30</th><td>30</td><td>1</td><td>solar</td><td>winterwd5</td><td>2020</td><td>0.0</td></tr><tr><th>&vellip;</th><td>&vellip;</td><td>&vellip;</td><td>&vellip;</td><td>&vellip;</td><td>&vellip;</td><td>&vellip;</td></tr></tbody></table>"
      ],
      "text/latex": [
       "\\begin{tabular}{r|cccccc}\n",
       "\t& id & r & t & l & y & val\\\\\n",
       "\t\\hline\n",
       "\t& Int64 & String & String & String & String & Float64\\\\\n",
       "\t\\hline\n",
       "\t1 & 1 & 1 & solar & winterwe0 & 2020 & 0.0 \\\\\n",
       "\t2 & 2 & 1 & solar & winterwe1 & 2020 & 0.0 \\\\\n",
       "\t3 & 3 & 1 & solar & winterwe2 & 2020 & 0.0 \\\\\n",
       "\t4 & 4 & 1 & solar & winterwe3 & 2020 & 0.0 \\\\\n",
       "\t5 & 5 & 1 & solar & winterwe4 & 2020 & 0.0 \\\\\n",
       "\t6 & 6 & 1 & solar & winterwe5 & 2020 & 0.0 \\\\\n",
       "\t7 & 7 & 1 & solar & winterwe6 & 2020 & 1.0 \\\\\n",
       "\t8 & 8 & 1 & solar & winterwe7 & 2020 & 1.0 \\\\\n",
       "\t9 & 9 & 1 & solar & winterwe8 & 2020 & 1.0 \\\\\n",
       "\t10 & 10 & 1 & solar & winterwe9 & 2020 & 1.0 \\\\\n",
       "\t11 & 11 & 1 & solar & winterwe10 & 2020 & 1.0 \\\\\n",
       "\t12 & 12 & 1 & solar & winterwe11 & 2020 & 1.0 \\\\\n",
       "\t13 & 13 & 1 & solar & winterwe12 & 2020 & 1.0 \\\\\n",
       "\t14 & 14 & 1 & solar & winterwe13 & 2020 & 1.0 \\\\\n",
       "\t15 & 15 & 1 & solar & winterwe14 & 2020 & 1.0 \\\\\n",
       "\t16 & 16 & 1 & solar & winterwe15 & 2020 & 1.0 \\\\\n",
       "\t17 & 17 & 1 & solar & winterwe16 & 2020 & 1.0 \\\\\n",
       "\t18 & 18 & 1 & solar & winterwe17 & 2020 & 1.0 \\\\\n",
       "\t19 & 19 & 1 & solar & winterwe18 & 2020 & 0.0 \\\\\n",
       "\t20 & 20 & 1 & solar & winterwe19 & 2020 & 0.0 \\\\\n",
       "\t21 & 21 & 1 & solar & winterwe20 & 2020 & 0.0 \\\\\n",
       "\t22 & 22 & 1 & solar & winterwe21 & 2020 & 0.0 \\\\\n",
       "\t23 & 23 & 1 & solar & winterwe22 & 2020 & 0.0 \\\\\n",
       "\t24 & 24 & 1 & solar & winterwe23 & 2020 & 0.0 \\\\\n",
       "\t25 & 25 & 1 & solar & winterwd0 & 2020 & 0.0 \\\\\n",
       "\t26 & 26 & 1 & solar & winterwd1 & 2020 & 0.0 \\\\\n",
       "\t27 & 27 & 1 & solar & winterwd2 & 2020 & 0.0 \\\\\n",
       "\t28 & 28 & 1 & solar & winterwd3 & 2020 & 0.0 \\\\\n",
       "\t29 & 29 & 1 & solar & winterwd4 & 2020 & 0.0 \\\\\n",
       "\t30 & 30 & 1 & solar & winterwd5 & 2020 & 0.0 \\\\\n",
       "\t$\\dots$ & $\\dots$ & $\\dots$ & $\\dots$ & $\\dots$ & $\\dots$ & $\\dots$ \\\\\n",
       "\\end{tabular}\n"
      ],
      "text/plain": [
       "\u001b[1m960×6 DataFrame\u001b[0m\n",
       "\u001b[1m Row \u001b[0m│\u001b[1m id    \u001b[0m\u001b[1m r      \u001b[0m\u001b[1m t      \u001b[0m\u001b[1m l          \u001b[0m\u001b[1m y      \u001b[0m\u001b[1m val     \u001b[0m\n",
       "\u001b[1m     \u001b[0m│\u001b[90m Int64 \u001b[0m\u001b[90m String \u001b[0m\u001b[90m String \u001b[0m\u001b[90m String     \u001b[0m\u001b[90m String \u001b[0m\u001b[90m Float64 \u001b[0m\n",
       "─────┼────────────────────────────────────────────────────\n",
       "   1 │     1  1       solar   winterwe0   2020        0.0\n",
       "   2 │     2  1       solar   winterwe1   2020        0.0\n",
       "   3 │     3  1       solar   winterwe2   2020        0.0\n",
       "   4 │     4  1       solar   winterwe3   2020        0.0\n",
       "   5 │     5  1       solar   winterwe4   2020        0.0\n",
       "   6 │     6  1       solar   winterwe5   2020        0.0\n",
       "   7 │     7  1       solar   winterwe6   2020        1.0\n",
       "   8 │     8  1       solar   winterwe7   2020        1.0\n",
       "   9 │     9  1       solar   winterwe8   2020        1.0\n",
       "  10 │    10  1       solar   winterwe9   2020        1.0\n",
       "  11 │    11  1       solar   winterwe10  2020        1.0\n",
       "  ⋮  │   ⋮      ⋮       ⋮         ⋮         ⋮        ⋮\n",
       " 951 │   951  1       solar   summerwd14  2029        1.0\n",
       " 952 │   952  1       solar   summerwd15  2029        1.0\n",
       " 953 │   953  1       solar   summerwd16  2029        1.0\n",
       " 954 │   954  1       solar   summerwd17  2029        1.0\n",
       " 955 │   955  1       solar   summerwd18  2029        0.0\n",
       " 956 │   956  1       solar   summerwd19  2029        0.0\n",
       " 957 │   957  1       solar   summerwd20  2029        0.0\n",
       " 958 │   958  1       solar   summerwd21  2029        0.0\n",
       " 959 │   959  1       solar   summerwd22  2029        0.0\n",
       " 960 │   960  1       solar   summerwd23  2029        0.0\n",
       "\u001b[36m                                          939 rows omitted\u001b[0m"
      ]
     },
     "execution_count": 142,
     "metadata": {},
     "output_type": "execute_result"
    }
   ],
   "source": [
    "#println.(sort(tables_vary))fg\n",
    "dict_tables[\"CapacityFactor\"]\n"
   ]
  },
  {
   "cell_type": "code",
   "execution_count": 33,
   "metadata": {},
   "outputs": [
    {
     "data": {
      "text/plain": [
       "8-element Array{String,1}:\n",
       " \"vusenn\"\n",
       " \"vdemandnn\"\n",
       " \"vproductionnn\"\n",
       " \"vtotaldiscountedcost\"\n",
       " \"vusebytechnologyannual\"\n",
       " \"vproductionbytechnologyannual\"\n",
       " \"vnewcapacity\"\n",
       " \"vtotalcapacityannual\""
      ]
     },
     "execution_count": 33,
     "metadata": {},
     "output_type": "execute_result"
    }
   ],
   "source": [
    "[x for x in keys(dict_tables) if \"$(x[1])\" == \"v\"]"
   ]
  },
  {
   "cell_type": "code",
   "execution_count": 32,
   "metadata": {},
   "outputs": [
    {
     "name": "stdout",
     "output_type": "stream",
     "text": [
      "\n",
      "AccumulatedAnnualDemand\n",
      "AnnualEmissionLimit\n",
      "AnnualExogenousEmission\n",
      "AvailabilityFactor\n",
      "CapacityFactor\n",
      "CapacityOfOneTechnologyUnit\n",
      "CapacityToActivityUnit\n",
      "CapitalCost\n",
      "CapitalCostStorage\n",
      "DefaultParams\n",
      "DepreciationMethod\n",
      "DiscountRate\n",
      "EMISSION\n",
      "EmissionActivityRatio\n",
      "EmissionsPenalty\n",
      "FUEL\n",
      "FixedCost\n",
      "InputActivityRatio\n",
      "InterestRateStorage\n",
      "InterestRateTechnology\n",
      "LTsGroup\n",
      "MODE_OF_OPERATION\n",
      "MinStorageCharge\n",
      "MinimumUtilization\n",
      "ModelPeriodEmissionLimit\n",
      "ModelPeriodExogenousEmission\n",
      "NODE\n",
      "NodalDistributionDemand\n",
      "NodalDistributionStorageCapacity\n",
      "NodalDistributionTechnologyCapacity\n",
      "OperationalLife\n",
      "OperationalLifeStorage\n",
      "OutputActivityRatio\n",
      "REGION\n",
      "REMinProductionTarget\n",
      "RETagFuel\n",
      "RETagTechnology\n",
      "RampRate\n",
      "RampingReset\n",
      "ReserveMargin\n",
      "ReserveMarginTagFuel\n",
      "ReserveMarginTagTechnology\n",
      "ResidualCapacity\n",
      "ResidualStorageCapacity\n",
      "STORAGE\n",
      "SpecifiedAnnualDemand\n",
      "SpecifiedDemandProfile\n",
      "StorageFullLoadHours\n",
      "StorageLevelStart\n",
      "StorageMaxChargeRate\n",
      "StorageMaxDischargeRate\n",
      "TECHNOLOGY\n",
      "TIMESLICE\n",
      "TSGROUP1\n",
      "TSGROUP2\n",
      "TechnologyFromStorage\n",
      "TechnologyToStorage\n",
      "TotalAnnualMaxCapacity\n",
      "TotalAnnualMaxCapacityInvestment\n",
      "TotalAnnualMaxCapacityInvestmentStorage\n",
      "TotalAnnualMaxCapacityStorage\n",
      "TotalAnnualMinCapacity\n",
      "TotalAnnualMinCapacityInvestment\n",
      "TotalAnnualMinCapacityInvestmentStorage\n",
      "TotalAnnualMinCapacityStorage\n",
      "TotalTechnologyAnnualActivityLowerLimit\n",
      "TotalTechnologyAnnualActivityUpperLimit\n",
      "TotalTechnologyModelPeriodActivityLowerLimit\n",
      "TotalTechnologyModelPeriodActivityUpperLimit\n",
      "TradeRoute\n",
      "TransmissionCapacityToActivityUnit\n",
      "TransmissionLine\n",
      "TransmissionModelingEnabled\n",
      "VariableCost\n",
      "Version\n",
      "YEAR\n",
      "YearSplit\n",
      "sqlite_sequence\n",
      "vdemandnn\n",
      "vnewcapacity\n",
      "vproductionbytechnologyannual\n",
      "vproductionnn\n",
      "vtotalcapacityannual\n",
      "vtotaldiscountedcost\n",
      "vusebytechnologyannual\n",
      "vusenn"
     ]
    }
   ],
   "source": [
    "for k in sort(collect(keys(dict_tables)))\n",
    "    print(\"\\n$(k)\")\n",
    "end"
   ]
  },
  {
   "cell_type": "code",
   "execution_count": null,
   "metadata": {},
   "outputs": [],
   "source": []
  }
 ],
 "metadata": {
  "kernelspec": {
   "display_name": "Julia 1.5.3",
   "language": "julia",
   "name": "julia-1.5"
  },
  "language_info": {
   "file_extension": ".jl",
   "mimetype": "application/julia",
   "name": "julia",
   "version": "1.5.3"
  }
 },
 "nbformat": 4,
 "nbformat_minor": 4
}
