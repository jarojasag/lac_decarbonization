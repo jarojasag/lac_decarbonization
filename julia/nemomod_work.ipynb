{
 "cells": [
  {
   "cell_type": "code",
   "execution_count": null,
   "metadata": {},
   "outputs": [],
   "source": []
  },
  {
   "cell_type": "code",
   "execution_count": 23,
   "metadata": {},
   "outputs": [
    {
     "data": {
      "text/plain": [
       "4-element Vector{String}:\n",
       " \"@\"\n",
       " \"@v#.#\"\n",
       " \"@stdlib\"\n",
       " \"/Users/jsyme/Documents/Projects/git_jbus/lac_decarbonization/julia\""
      ]
     },
     "execution_count": 23,
     "metadata": {},
     "output_type": "execute_result"
    }
   ],
   "source": [
    "LOAD_PATH"
   ]
  },
  {
   "cell_type": "code",
   "execution_count": 21,
   "metadata": {},
   "outputs": [
    {
     "ename": "LoadError",
     "evalue": "ArgumentError: Package SISEPUEDEPyJuliaSupportFunctions not found in current path:\n- Run `import Pkg; Pkg.add(\"SISEPUEDEPyJuliaSupportFunctions\")` to install the SISEPUEDEPyJuliaSupportFunctions package.\n",
     "output_type": "error",
     "traceback": [
      "ArgumentError: Package SISEPUEDEPyJuliaSupportFunctions not found in current path:\n- Run `import Pkg; Pkg.add(\"SISEPUEDEPyJuliaSupportFunctions\")` to install the SISEPUEDEPyJuliaSupportFunctions package.\n",
      "",
      "Stacktrace:",
      " [1] require(into::Module, mod::Symbol)",
      "   @ Base ./loading.jl:967",
      " [2] eval",
      "   @ ./boot.jl:373 [inlined]",
      " [3] include_string(mapexpr::typeof(REPL.softscope), mod::Module, code::String, filename::String)",
      "   @ Base ./loading.jl:1196"
     ]
    }
   ],
   "source": [
    "using SISEPUEDEPyJuliaSupportFunctions"
   ]
  },
  {
   "cell_type": "code",
   "execution_count": 5,
   "metadata": {},
   "outputs": [
    {
     "data": {
      "text/plain": [
       "10-element Vector{String}:\n",
       " \"CSV\"\n",
       " \"GAMS\"\n",
       " \"SQLite\"\n",
       " \"Cbc\"\n",
       " \"Clp\"\n",
       " \"DataFrames\"\n",
       " \"Gurobi\"\n",
       " \"MathOptInterface\"\n",
       " \"JuMP\"\n",
       " \"NemoMod\""
      ]
     },
     "execution_count": 5,
     "metadata": {},
     "output_type": "execute_result"
    }
   ],
   "source": [
    "collect(keys(Pkg.project().dependencies))"
   ]
  },
  {
   "cell_type": "code",
   "execution_count": 17,
   "metadata": {},
   "outputs": [
    {
     "name": "stderr",
     "output_type": "stream",
     "text": [
      "┌ Info: Precompiling Clp [e2554f3b-3117-50c0-817c-e040a3ddf72d]\n",
      "└ @ Base loading.jl:1423\n"
     ]
    }
   ],
   "source": [
    "using Clp"
   ]
  },
  {
   "cell_type": "code",
   "execution_count": 32,
   "metadata": {},
   "outputs": [
    {
     "name": "stdout",
     "output_type": "stream",
     "text": [
      "2022-14-Aug 13:49:56.453 Opened SQLite database at /Users/jsyme/Documents/Projects/git_jbus/lac_decarbonization/tmp/testingdb.sqlite.\n",
      "2022-14-Aug 13:49:56.684 Added NEMO structure to SQLite database at /Users/jsyme/Documents/Projects/git_jbus/lac_decarbonization/tmp/testingdb.sqlite.\n"
     ]
    },
    {
     "data": {
      "text/plain": [
       "SQLite.DB(\"/Users/jsyme/Documents/Projects/git_jbus/lac_decarbonization/tmp/testingdb.sqlite\")"
      ]
     },
     "execution_count": 32,
     "metadata": {},
     "output_type": "execute_result"
    }
   ],
   "source": [
    "!ispath(dir_tmp) ? mkdir(dir_tmp) : nothing\n",
    "fp_db = joinpath(dir_tmp, \"testingdb.sqlite\")\n",
    "#createnemodb(fp_db)"
   ]
  },
  {
   "cell_type": "code",
   "execution_count": 31,
   "metadata": {},
   "outputs": [
    {
     "name": "stdout",
     "output_type": "stream",
     "text": [
      "2022-14-Aug 13:18:02.188 Opened SQLite database at /Users/jsyme/Documents/Projects/git_jbus/lac_decarbonization/tmp/testingdb.sqlite.\n",
      "2022-14-Aug 13:18:02.267 Added NEMO structure to SQLite database at /Users/jsyme/Documents/Projects/git_jbus/lac_decarbonization/tmp/testingdb.sqlite.\n"
     ]
    },
    {
     "data": {
      "text/plain": [
       "SQLite.DB(\"/Users/jsyme/Documents/Projects/git_jbus/lac_decarbonization/tmp/testingdb.sqlite\")"
      ]
     },
     "execution_count": 31,
     "metadata": {},
     "output_type": "execute_result"
    }
   ],
   "source": [
    "rm(fp_db)\n",
    "createnemodb(fp_db)"
   ]
  },
  {
   "cell_type": "code",
   "execution_count": 10,
   "metadata": {},
   "outputs": [],
   "source": [
    "\n",
    "db2 = SQLite.DB(fp_db)\n",
    "\n",
    "dict_tables2 = Dict{String, Dat aFrame}()\n",
    "tables_vary2 = []\n",
    "\n",
    "tabs = SQLite.tables(db2)[1]\n",
    "table_name = 0\n",
    "for k in 1:length(tabs)\n",
    "    table_name = tabs[k]\n",
    "    df_tmp = DBInterface.execute(db2, \"select * from $(table_name)\") |> DataFrame\n",
    "    dict_tables2[table_name] = df_tmp\n",
    "    (nrow(df_tmp) > 0) ? push!(tables_vary2, table_name) : nothing\n",
    "end\n",
    "\n"
   ]
  },
  {
   "cell_type": "code",
   "execution_count": 29,
   "metadata": {},
   "outputs": [
    {
     "data": {
      "text/plain": [
       "SQLite.Query(SQLite.Stmt(SQLite.DB(\"/Users/jsyme/Documents/Projects/git_jbus/lac_decarbonization/tmp/testingdb.sqlite\"), 94), Base.RefValue{Int32}(100), [:sql], Type[Union{Missing, String}], Dict(:sql => 1), Base.RefValue{Int64}(0))"
      ]
     },
     "execution_count": 29,
     "metadata": {},
     "output_type": "execute_result"
    }
   ],
   "source": [
    "df_out = DBInterface.execute(db2, \"select sql from sqlite_master where type = 'index';\")\n",
    "\n"
   ]
  },
  {
   "cell_type": "markdown",
   "metadata": {},
   "source": [
    "### Try running the model"
   ]
  },
  {
   "cell_type": "code",
   "execution_count": 11,
   "metadata": {
    "collapsed": true,
    "jupyter": {
     "outputs_hidden": true
    }
   },
   "outputs": [
    {
     "name": "stdout",
     "output_type": "stream",
     "text": [
      "2022-14-Aug 18:47:37.208 Started modeling scenario.\n",
      "2022-14-Aug 18:47:37.215 Validated run-time arguments.\n",
      "2022-14-Aug 18:47:37.224 Connected to scenario database. Path = /Users/jsyme/Documents/Projects/git_jbus/lac_decarbonization/tmp/nemomod_intermediate_database.sqlite.\n",
      "2022-14-Aug 18:47:37.257 Dropped pre-existing result tables from database.\n",
      "2022-14-Aug 18:47:37.258 Verified that transmission modeling is not enabled.\n",
      "2022-14-Aug 18:47:37.366 Created parameter views and indices.\n",
      "2022-14-Aug 18:47:37.380 Created temporary tables.\n",
      "2022-14-Aug 18:47:37.680 Executed core database queries.\n",
      "2022-14-Aug 18:47:37.692 Defined dimensions.\n",
      "2022-14-Aug 18:47:37.696 Defined demand variables.\n",
      "2022-14-Aug 18:47:37.702 Defined storage variables.\n",
      "2022-14-Aug 18:47:37.703 Defined capacity variables.\n",
      "2022-14-Aug 18:47:37.879 Defined activity variables.\n",
      "2022-14-Aug 18:47:37.880 Defined costing variables.\n",
      "2022-14-Aug 18:47:37.880 Defined reserve margin variables.\n",
      "2022-14-Aug 18:47:37.882 Defined emissions variables.\n",
      "2022-14-Aug 18:47:37.882 Defined combined nodal and non-nodal variables.\n",
      "2022-14-Aug 18:47:37.882 Finished defining model variables.\n",
      "2022-14-Aug 18:47:37.882 Scheduled task to add constraints to model.\n",
      "2022-14-Aug 18:47:37.883 Queued constraint CAa1_TotalNewCapacity for creation.\n",
      "2022-14-Aug 18:47:37.885 Queued constraint CAa2_TotalAnnualCapacity for creation.\n",
      "2022-14-Aug 18:47:37.887 Queued constraint VRateOfActivity1 for creation.\n",
      "2022-14-Aug 18:47:37.887 Queued constraint RampRate for creation.\n",
      "2022-14-Aug 18:47:37.889 Queued constraint CAa3_TotalActivityOfEachTechnology for creation.\n",
      "2022-14-Aug 18:47:37.899 Queued constraint CAa4_Constraint_Capacity for creation.\n",
      "2022-14-Aug 18:47:37.916 Queued constraint MinimumTechnologyUtilization for creation.\n",
      "2022-14-Aug 18:47:37.916 Queued constraint EBa2_RateOfFuelProduction2 for creation.\n",
      "2022-14-Aug 18:47:37.940 Queued constraint GenerationAnnualNN for creation.\n",
      "2022-14-Aug 18:47:37.940 Queued constraint ReGenerationAnnualNN for creation.\n",
      "2022-14-Aug 18:47:37.940 Queued constraint EBa3_RateOfFuelProduction3 for creation.\n",
      "2022-14-Aug 18:47:37.963 Queued constraint VRateOfProduction1 for creation.\n",
      "2022-14-Aug 18:47:37.968 Queued constraint EBa5_RateOfFuelUse2 for creation.\n",
      "2022-14-Aug 18:47:37.980 Queued constraint EBa6_RateOfFuelUse3 for creation.\n",
      "2022-14-Aug 18:47:37.986 Queued constraint VRateOfUse1 for creation.\n",
      "2022-14-Aug 18:47:37.992 Queued constraint EBa7_EnergyBalanceEachTS1 for creation.\n",
      "2022-14-Aug 18:47:38.013 Queued constraint EBa8_EnergyBalanceEachTS2 for creation.\n",
      "2022-14-Aug 18:47:38.014 Queued constraint EBa9_EnergyBalanceEachTS3 for creation.\n",
      "2022-14-Aug 18:47:38.015 Queued constraint EBa11_EnergyBalanceEachTS5 for creation.\n",
      "2022-14-Aug 18:47:38.030 Queued constraint EBb0_EnergyBalanceEachYear for creation.\n",
      "2022-14-Aug 18:47:38.031 Queued constraint EBb1_EnergyBalanceEachYear for creation.\n",
      "2022-14-Aug 18:47:38.033 Queued constraint EBb2_EnergyBalanceEachYear for creation.\n",
      "2022-14-Aug 18:47:38.034 Queued constraint EBb3_EnergyBalanceEachYear for creation.\n",
      "2022-14-Aug 18:47:38.035 Queued constraint EBb5_EnergyBalanceEachYear for creation.\n",
      "2022-14-Aug 18:47:38.038 Queued constraint Acc3_AverageAnnualRateOfActivity for creation.\n",
      "2022-14-Aug 18:47:38.049 Queued constraint NS1_RateOfStorageCharge for creation.\n",
      "2022-14-Aug 18:47:38.060 Queued constraint NS2_RateOfStorageDischarge for creation.\n",
      "2022-14-Aug 18:47:38.065 Queued constraint NS3_StorageLevelTsGroup1Start for creation.\n",
      "2022-14-Aug 18:47:38.070 Queued constraint NS4_StorageLevelTsGroup2Start for creation.\n",
      "2022-14-Aug 18:47:38.071 Queued constraint NS5_StorageLevelTimesliceEnd for creation.\n",
      "2022-14-Aug 18:47:38.071 Queued constraint NS6_StorageLevelTsGroup2End for creation.\n",
      "2022-14-Aug 18:47:38.073 Queued constraint NS6a_StorageLevelTsGroup2NetZero for creation.\n",
      "2022-14-Aug 18:47:38.073 Queued constraint NS7_StorageLevelTsGroup1End for creation.\n",
      "2022-14-Aug 18:47:38.074 Queued constraint NS7a_StorageLevelTsGroup1NetZero for creation.\n",
      "2022-14-Aug 18:47:38.074 Queued constraint NS8_StorageLevelYearEnd for creation.\n",
      "2022-14-Aug 18:47:38.082 Queued constraint NS8a_StorageLevelYearEndNetZero for creation.\n",
      "2022-14-Aug 18:47:38.082 Queued constraint SI1_StorageUpperLimit for creation.\n",
      "2022-14-Aug 18:47:38.083 Queued constraint SI2_StorageLowerLimit for creation.\n",
      "2022-14-Aug 18:47:38.084 Queued constraint SI3_TotalNewStorage for creation.\n",
      "2022-14-Aug 18:47:38.084 Queued constraint NS9a_StorageLevelTsLowerLimit for creation.\n",
      "2022-14-Aug 18:47:38.089 Queued constraint NS9b_StorageLevelTsUpperLimit for creation.\n",
      "2022-14-Aug 18:47:38.089 Queued constraint NS10_StorageChargeLimit for creation.\n",
      "2022-14-Aug 18:47:38.091 Queued constraint NS11_StorageDischargeLimit for creation.\n",
      "2022-14-Aug 18:47:38.093 Queued constraint NS12a_StorageLevelTsGroup2LowerLimit for creation.\n",
      "2022-14-Aug 18:47:38.094 Queued constraint NS12b_StorageLevelTsGroup2UpperLimit for creation.\n",
      "2022-14-Aug 18:47:38.094 Queued constraint NS13a_StorageLevelTsGroup1LowerLimit for creation.\n",
      "2022-14-Aug 18:47:38.095 Queued constraint NS13b_StorageLevelTsGroup1UpperLimit for creation.\n",
      "2022-14-Aug 18:47:38.095 Queued constraint NS14_MaxStorageCapacity for creation.\n",
      "2022-14-Aug 18:47:38.095 Queued constraint NS15_MinStorageCapacity for creation.\n",
      "2022-14-Aug 18:47:38.095 Queued constraint NS16_MaxStorageCapacityInvestment for creation.\n",
      "2022-14-Aug 18:47:38.095 Queued constraint NS17_MinStorageCapacityInvestment for creation.\n",
      "2022-14-Aug 18:47:38.096 Queued constraint NS18_FullLoadHours for creation.\n",
      "2022-14-Aug 18:47:38.096 Queued constraint SI4a_FinancingStorage for creation.\n",
      "2022-14-Aug 18:47:38.097 Queued constraint SI4_UndiscountedCapitalInvestmentStorage for creation.\n",
      "2022-14-Aug 18:47:38.097 Queued constraint SI5_DiscountingCapitalInvestmentStorage for creation.\n",
      "2022-14-Aug 18:47:38.098 Queued constraint SI6_SalvageValueStorageAtEndOfPeriod1 for creation.\n",
      "2022-14-Aug 18:47:38.099 Queued constraint SI7_SalvageValueStorageAtEndOfPeriod2 for creation.\n",
      "2022-14-Aug 18:47:38.099 Queued constraint SI8_SalvageValueStorageAtEndOfPeriod3 for creation.\n",
      "2022-14-Aug 18:47:38.100 Queued constraint SI9_SalvageValueStorageDiscountedToStartYear for creation.\n",
      "2022-14-Aug 18:47:38.101 Queued constraint SI10_TotalDiscountedCostByStorage for creation.\n",
      "2022-14-Aug 18:47:38.101 Queued constraint CC1a_FinancingTechnology for creation.\n",
      "2022-14-Aug 18:47:38.102 Queued constraint CC1_UndiscountedCapitalInvestment for creation.\n",
      "2022-14-Aug 18:47:38.103 Queued constraint CC2_DiscountingCapitalInvestment for creation.\n",
      "2022-14-Aug 18:47:38.105 Queued constraint SV1_SalvageValueAtEndOfPeriod1 for creation.\n",
      "2022-14-Aug 18:47:38.107 Queued constraint SV2_SalvageValueAtEndOfPeriod2 for creation.\n",
      "2022-14-Aug 18:47:38.108 Queued constraint SV3_SalvageValueAtEndOfPeriod3 for creation.\n",
      "2022-14-Aug 18:47:38.109 Queued constraint SV4_SalvageValueDiscountedToStartYear for creation.\n",
      "2022-14-Aug 18:47:38.109 Queued constraint OC1_OperatingCostsVariable for creation.\n",
      "2022-14-Aug 18:47:38.110 Queued constraint OC2_OperatingCostsFixedAnnual for creation.\n",
      "2022-14-Aug 18:47:38.111 Queued constraint OC3_OperatingCostsTotalAnnual for creation.\n",
      "2022-14-Aug 18:47:38.111 Queued constraint OC4_DiscountedOperatingCostsTotalAnnual for creation.\n",
      "2022-14-Aug 18:47:38.115 Queued constraint TDC1_TotalDiscountedCostByTechnology for creation.\n",
      "2022-14-Aug 18:47:38.116 Queued constraint TDC2_TotalDiscountedCost for creation.\n",
      "2022-14-Aug 18:47:38.116 Queued constraint TCC1_TotalAnnualMaxCapacityConstraint for creation.\n",
      "2022-14-Aug 18:47:38.118 Queued constraint TCC2_TotalAnnualMinCapacityConstraint for creation.\n",
      "2022-14-Aug 18:47:38.118 Queued constraint NCC1_TotalAnnualMaxNewCapacityConstraint for creation.\n",
      "2022-14-Aug 18:47:38.119 Queued constraint NCC2_TotalAnnualMinNewCapacityConstraint for creation.\n",
      "2022-14-Aug 18:47:38.120 Queued constraint RM1_ReserveMargin_TechnologiesIncluded_In_Activity_Units for creation.\n",
      "2022-14-Aug 18:47:38.121 Queued constraint RM2_ReserveMargin_FuelsIncluded for creation.\n",
      "2022-14-Aug 18:47:38.123 Queued constraint RM3_ReserveMargin_Constraint for creation.\n",
      "2022-14-Aug 18:47:38.124 Queued constraint RE1_FuelProductionByTechnologyAnnual for creation.\n",
      "2022-14-Aug 18:47:38.129 Queued constraint FuelUseByTechnologyAnnual for creation.\n",
      "2022-14-Aug 18:47:38.135 Queued constraint RE2_ProductionTarget for creation.\n",
      "2022-14-Aug 18:47:38.137 Queued constraint MinShareProduction for creation.\n",
      "2022-14-Aug 18:47:38.137 Queued constraint E2a_AnnualEmissionProduction for creation.\n",
      "2022-14-Aug 18:47:38.145 Queued constraint E2b_AnnualEmissionProduction for creation.\n",
      "2022-14-Aug 18:47:38.150 Queued constraint E4_EmissionsPenaltyByTechnology for creation.\n",
      "2022-14-Aug 18:47:38.150 Queued constraint E5_DiscountedEmissionsPenaltyByTechnology for creation.\n",
      "2022-14-Aug 18:47:38.153 Queued constraint E6_EmissionsAccounting1 for creation.\n",
      "2022-14-Aug 18:47:38.163 Queued constraint E7_EmissionsAccounting2 for creation.\n",
      "2022-14-Aug 18:47:38.164 Queued constraint E8_AnnualEmissionsLimit for creation.\n",
      "2022-14-Aug 18:47:38.165 Queued constraint E9_ModelPeriodEmissionsLimit for creation.\n",
      "2022-14-Aug 18:47:38.166 Queued 92 standard constraints for creation.\n",
      "2022-14-Aug 18:47:38.167 Finished scheduled task to add constraints to model.\n",
      "2022-14-Aug 18:47:38.167 Added 92 standard constraints to model.\n",
      "2022-14-Aug 18:47:38.167 Defined model objective.\n",
      "2022-14-Aug 18:47:38.408 Solved model. Solver status = INFEASIBLE_OR_UNBOUNDED.\n",
      "2022-14-Aug 18:47:38.412 Solver did not find an optimal solution for model. No results will be saved to database.\n",
      "2022-14-Aug 18:47:38.423 Dropped temporary tables.\n",
      "2022-14-Aug 18:47:38.423 Finished modeling scenario.\n",
      "  1.237277 seconds (1.94 M allocations: 104.270 MiB)\n",
      "Presolve 996 (-15662) rows, 739 (-15651) columns and 3651 (-40496) elements\n",
      "Perturbing problem by 0.001% of 10182.624 - largest nonzero change 0.010257592 ( 10.051585%) - largest zero change 0.010221777\n",
      "0  Obj 206210.49 Primal inf 474.60113 (108)\n",
      "94  Obj 231130.82 Primal inf 4.1779709 (144)\n",
      "188  Obj 323785.46 Primal inf 590.73876 (196)\n",
      "245  Obj 3050591.3 Primal inf 1502.1098 (177)\n",
      "Primal infeasible - objective value 3050591.3\n",
      "Presolved problem not optimal, resolve after postsolve\n",
      "After Postsolve, objective 3050534.9, infeasibilities - dual 2.8870749 (313), primal 53619.529 (268)\n",
      "Perturbing problem by 1e-08% of 18.930224 - largest nonzero change 0 ( 0%) - largest zero change 9.8622696e-05\n",
      "0  Obj 3050534.9 Primal inf 6715.7683 (372)\n",
      "3  Obj 3050534.9 Primal inf 11324.156 (431)\n",
      "Primal infeasible - objective value 3050534.9\n",
      "PrimalInfeasible objective 3050534.94 - 248 iterations time 0.072, Presolve 0.04\n"
     ]
    },
    {
     "data": {
      "text/plain": [
       "INFEASIBLE_OR_UNBOUNDED::TerminationStatusCode = 6"
      ]
     },
     "execution_count": 11,
     "metadata": {},
     "output_type": "execute_result"
    }
   ],
   "source": [
    "@time NemoMod.calculatescenario(\n",
    "    fp_sqlite_nemomod_db_tmp; \n",
    "    jumpmodel = Model(Cbc.Optimizer),\n",
    "    numprocs = 1\n",
    ")"
   ]
  },
  {
   "cell_type": "code",
   "execution_count": 64,
   "metadata": {},
   "outputs": [
    {
     "data": {
      "text/plain": [
       "Set{String} with 6 elements:\n",
       "  \"ModelPeriodEmissionLimit\"\n",
       "  \"ModelPeriodExogenousEmission\"\n",
       "  \"AnnualEmissionLimit\"\n",
       "  \"EmissionsPenalty\"\n",
       "  \"AnnualExogenousEmission\"\n",
       "  \"EmissionActivityRatio\""
      ]
     },
     "execution_count": 64,
     "metadata": {},
     "output_type": "execute_result"
    }
   ],
   "source": [
    "filter(x -> occursin(\"Emission\", x), keys(dict_tables_demo))"
   ]
  },
  {
   "cell_type": "code",
   "execution_count": 119,
   "metadata": {},
   "outputs": [],
   "source": [
    "using GLPK\n",
    "using Clp\n"
   ]
  },
  {
   "cell_type": "code",
   "execution_count": 130,
   "metadata": {},
   "outputs": [
    {
     "name": "stdout",
     "output_type": "stream",
     "text": [
      "2022-18-Aug 17:13:54.162 Started modeling scenario.\n",
      "2022-18-Aug 17:13:54.166 Validated run-time arguments.\n",
      "2022-18-Aug 17:13:54.183 Connected to scenario database. Path = /Users/jsyme/.julia/packages/NemoMod/vg6Tx/test/ramp_test.sqlite.\n",
      "2022-18-Aug 17:13:54.310 Dropped pre-existing result tables from database.\n",
      "2022-18-Aug 17:13:54.313 Verified that transmission modeling is not enabled.\n",
      "2022-18-Aug 17:13:54.591 Created parameter views and indices.\n",
      "2022-18-Aug 17:13:54.605 Created temporary tables.\n",
      "2022-18-Aug 17:13:57.550 Executed core database queries.\n",
      "2022-18-Aug 17:13:57.640 Defined dimensions.\n",
      "2022-18-Aug 17:13:57.744 Defined demand variables.\n",
      "2022-18-Aug 17:13:57.822 Defined storage variables.\n",
      "2022-18-Aug 17:13:57.826 Defined capacity variables.\n",
      "2022-18-Aug 17:14:13.919 Defined activity variables.\n",
      "2022-18-Aug 17:14:13.946 Defined costing variables.\n",
      "2022-18-Aug 17:14:13.949 Defined reserve margin variables.\n",
      "2022-18-Aug 17:14:13.949 Defined emissions variables.\n",
      "2022-18-Aug 17:14:13.949 Defined combined nodal and non-nodal variables.\n",
      "2022-18-Aug 17:14:13.949 Finished defining model variables.\n",
      "2022-18-Aug 17:14:13.950 Scheduled task to add constraints to model.\n",
      "2022-18-Aug 17:14:13.951 Queued constraint CAa1_TotalNewCapacity for creation.\n",
      "2022-18-Aug 17:14:14.001 Queued constraint CAa2_TotalAnnualCapacity for creation.\n",
      "2022-18-Aug 17:14:14.008 Queued constraint VRateOfActivity1 for creation.\n",
      "2022-18-Aug 17:14:14.020 Queued constraint RampRate for creation.\n",
      "2022-18-Aug 17:14:14.136 Queued constraint CAa3_TotalActivityOfEachTechnology for creation.\n",
      "2022-18-Aug 17:14:14.226 Queued constraint CAa4_Constraint_Capacity for creation.\n",
      "2022-18-Aug 17:14:14.416 Queued constraint MinimumTechnologyUtilization for creation.\n",
      "2022-18-Aug 17:14:14.416 Queued constraint EBa2_RateOfFuelProduction2 for creation.\n",
      "2022-18-Aug 17:14:15.055 Queued constraint GenerationAnnualNN for creation.\n",
      "2022-18-Aug 17:14:15.056 Queued constraint ReGenerationAnnualNN for creation.\n",
      "2022-18-Aug 17:14:15.056 Queued constraint EBa3_RateOfFuelProduction3 for creation.\n",
      "2022-18-Aug 17:14:15.137 Queued constraint VRateOfProduction1 for creation.\n",
      "2022-18-Aug 17:14:15.157 Queued constraint EBa5_RateOfFuelUse2 for creation.\n",
      "2022-18-Aug 17:14:15.217 Queued constraint EBa6_RateOfFuelUse3 for creation.\n",
      "2022-18-Aug 17:14:15.366 Queued constraint VRateOfUse1 for creation.\n",
      "2022-18-Aug 17:14:15.493 Queued constraint EBa7_EnergyBalanceEachTS1 for creation.\n",
      "2022-18-Aug 17:14:15.780 Queued constraint EBa8_EnergyBalanceEachTS2 for creation.\n",
      "2022-18-Aug 17:14:15.780 Queued constraint EBa9_EnergyBalanceEachTS3 for creation.\n",
      "2022-18-Aug 17:14:15.794 Queued constraint EBa11_EnergyBalanceEachTS5 for creation.\n",
      "2022-18-Aug 17:14:15.901 Queued constraint EBb0_EnergyBalanceEachYear for creation.\n",
      "2022-18-Aug 17:14:15.913 Queued constraint EBb1_EnergyBalanceEachYear for creation.\n",
      "2022-18-Aug 17:14:15.917 Queued constraint EBb2_EnergyBalanceEachYear for creation.\n",
      "2022-18-Aug 17:14:15.924 Queued constraint EBb3_EnergyBalanceEachYear for creation.\n",
      "2022-18-Aug 17:14:15.925 Queued constraint EBb5_EnergyBalanceEachYear for creation.\n",
      "2022-18-Aug 17:14:15.929 Queued constraint Acc3_AverageAnnualRateOfActivity for creation.\n",
      "2022-18-Aug 17:14:16.402 Queued constraint NS1_RateOfStorageCharge for creation.\n",
      "2022-18-Aug 17:14:16.492 Queued constraint NS2_RateOfStorageDischarge for creation.\n",
      "2022-18-Aug 17:14:16.628 Queued constraint NS3_StorageLevelTsGroup1Start for creation.\n",
      "2022-18-Aug 17:14:16.692 Queued constraint NS4_StorageLevelTsGroup2Start for creation.\n",
      "2022-18-Aug 17:14:16.699 Queued constraint NS5_StorageLevelTimesliceEnd for creation.\n",
      "2022-18-Aug 17:14:16.699 Queued constraint NS6_StorageLevelTsGroup2End for creation.\n",
      "2022-18-Aug 17:14:16.709 Queued constraint NS6a_StorageLevelTsGroup2NetZero for creation.\n",
      "2022-18-Aug 17:14:16.709 Queued constraint NS7_StorageLevelTsGroup1End for creation.\n",
      "2022-18-Aug 17:14:16.717 Queued constraint NS7a_StorageLevelTsGroup1NetZero for creation.\n",
      "2022-18-Aug 17:14:16.718 Queued constraint NS8_StorageLevelYearEnd for creation.\n",
      "2022-18-Aug 17:14:16.767 Queued constraint NS8a_StorageLevelYearEndNetZero for creation.\n",
      "2022-18-Aug 17:14:16.768 Queued constraint SI1_StorageUpperLimit for creation.\n",
      "2022-18-Aug 17:14:16.770 Queued constraint SI2_StorageLowerLimit for creation.\n",
      "2022-18-Aug 17:14:16.771 Queued constraint SI3_TotalNewStorage for creation.\n",
      "2022-18-Aug 17:14:16.775 Queued constraint NS9a_StorageLevelTsLowerLimit for creation.\n",
      "2022-18-Aug 17:14:16.846 Queued constraint NS9b_StorageLevelTsUpperLimit for creation.\n",
      "2022-18-Aug 17:14:16.846 Queued constraint NS10_StorageChargeLimit for creation.\n",
      "2022-18-Aug 17:14:16.894 Queued constraint NS11_StorageDischargeLimit for creation.\n",
      "2022-18-Aug 17:14:16.927 Queued constraint NS12a_StorageLevelTsGroup2LowerLimit for creation.\n",
      "2022-18-Aug 17:14:16.938 Queued constraint NS12b_StorageLevelTsGroup2UpperLimit for creation.\n",
      "2022-18-Aug 17:14:16.938 Queued constraint NS13a_StorageLevelTsGroup1LowerLimit for creation.\n",
      "2022-18-Aug 17:14:16.940 Queued constraint NS13b_StorageLevelTsGroup1UpperLimit for creation.\n",
      "2022-18-Aug 17:14:16.940 Queued constraint NS14_MaxStorageCapacity for creation.\n",
      "2022-18-Aug 17:14:16.942 Queued constraint NS15_MinStorageCapacity for creation.\n",
      "2022-18-Aug 17:14:16.944 Queued constraint NS16_MaxStorageCapacityInvestment for creation.\n",
      "2022-18-Aug 17:14:16.946 Queued constraint NS17_MinStorageCapacityInvestment for creation.\n",
      "2022-18-Aug 17:14:16.947 Queued constraint NS18_FullLoadHours for creation.\n",
      "2022-18-Aug 17:14:16.951 Queued constraint SI4a_FinancingStorage for creation.\n",
      "2022-18-Aug 17:14:16.953 Queued constraint SI4_UndiscountedCapitalInvestmentStorage for creation.\n",
      "2022-18-Aug 17:14:16.954 Queued constraint SI5_DiscountingCapitalInvestmentStorage for creation.\n",
      "2022-18-Aug 17:14:16.958 Queued constraint SI6_SalvageValueStorageAtEndOfPeriod1 for creation.\n",
      "2022-18-Aug 17:14:16.959 Queued constraint SI7_SalvageValueStorageAtEndOfPeriod2 for creation.\n",
      "2022-18-Aug 17:14:16.967 Queued constraint SI8_SalvageValueStorageAtEndOfPeriod3 for creation.\n",
      "2022-18-Aug 17:14:16.976 Queued constraint SI9_SalvageValueStorageDiscountedToStartYear for creation.\n",
      "2022-18-Aug 17:14:16.978 Queued constraint SI10_TotalDiscountedCostByStorage for creation.\n",
      "2022-18-Aug 17:14:16.979 Queued constraint CC1a_FinancingTechnology for creation.\n",
      "2022-18-Aug 17:14:16.983 Queued constraint CC1_UndiscountedCapitalInvestment for creation.\n",
      "2022-18-Aug 17:14:16.986 Queued constraint CC2_DiscountingCapitalInvestment for creation.\n",
      "2022-18-Aug 17:14:17.007 Queued constraint SV1_SalvageValueAtEndOfPeriod1 for creation.\n",
      "2022-18-Aug 17:14:17.023 Queued constraint SV2_SalvageValueAtEndOfPeriod2 for creation.\n",
      "2022-18-Aug 17:14:17.031 Queued constraint SV3_SalvageValueAtEndOfPeriod3 for creation.\n",
      "2022-18-Aug 17:14:17.032 Queued constraint SV4_SalvageValueDiscountedToStartYear for creation.\n",
      "2022-18-Aug 17:14:17.033 Queued constraint OC1_OperatingCostsVariable for creation.\n",
      "2022-18-Aug 17:14:17.043 Queued constraint OC2_OperatingCostsFixedAnnual for creation.\n",
      "2022-18-Aug 17:14:17.047 Queued constraint OC3_OperatingCostsTotalAnnual for creation.\n",
      "2022-18-Aug 17:14:17.049 Queued constraint OC4_DiscountedOperatingCostsTotalAnnual for creation.\n",
      "2022-18-Aug 17:14:17.076 Queued constraint TDC1_TotalDiscountedCostByTechnology for creation.\n",
      "2022-18-Aug 17:14:17.076 Queued constraint TDC2_TotalDiscountedCost for creation.\n",
      "2022-18-Aug 17:14:17.077 Queued constraint TCC1_TotalAnnualMaxCapacityConstraint for creation.\n",
      "2022-18-Aug 17:14:17.082 Queued constraint TCC2_TotalAnnualMinCapacityConstraint for creation.\n",
      "2022-18-Aug 17:14:17.082 Queued constraint NCC1_TotalAnnualMaxNewCapacityConstraint for creation.\n",
      "2022-18-Aug 17:14:17.085 Queued constraint NCC2_TotalAnnualMinNewCapacityConstraint for creation.\n",
      "2022-18-Aug 17:14:17.087 Queued constraint RM1_ReserveMargin_TechnologiesIncluded_In_Activity_Units for creation.\n",
      "2022-18-Aug 17:14:17.093 Queued constraint RM2_ReserveMargin_FuelsIncluded for creation.\n",
      "2022-18-Aug 17:14:17.185 Queued constraint RM3_ReserveMargin_Constraint for creation.\n",
      "2022-18-Aug 17:14:17.240 Queued constraint RE1_FuelProductionByTechnologyAnnual for creation.\n",
      "2022-18-Aug 17:14:17.546 Queued constraint FuelUseByTechnologyAnnual for creation.\n",
      "2022-18-Aug 17:14:17.724 Queued constraint RE2_ProductionTarget for creation.\n",
      "2022-18-Aug 17:14:17.724 Queued constraint MinShareProduction for creation.\n",
      "2022-18-Aug 17:14:17.725 Queued constraint E2a_AnnualEmissionProduction for creation.\n",
      "2022-18-Aug 17:14:17.725 Queued constraint E2b_AnnualEmissionProduction for creation.\n",
      "2022-18-Aug 17:14:17.727 Queued constraint E4_EmissionsPenaltyByTechnology for creation.\n",
      "2022-18-Aug 17:14:17.728 Queued constraint E5_DiscountedEmissionsPenaltyByTechnology for creation.\n",
      "2022-18-Aug 17:14:17.789 Queued constraint E6_EmissionsAccounting1 for creation.\n",
      "2022-18-Aug 17:14:17.791 Queued constraint E7_EmissionsAccounting2 for creation.\n",
      "2022-18-Aug 17:14:17.793 Queued constraint E8_AnnualEmissionsLimit for creation.\n",
      "2022-18-Aug 17:14:17.794 Queued constraint E9_ModelPeriodEmissionsLimit for creation.\n",
      "2022-18-Aug 17:14:17.795 Queued 92 standard constraints for creation.\n",
      "2022-18-Aug 17:14:17.798 Finished scheduled task to add constraints to model.\n",
      "2022-18-Aug 17:14:17.799 Added 92 standard constraints to model.\n",
      "2022-18-Aug 17:14:17.800 Defined model objective.\n",
      "2022-18-Aug 17:14:20.730 Solved model. Solver status = OPTIMAL.\n",
      "2022-18-Aug 17:14:21.209 Saved results for vdemandnn to database.\n",
      "2022-18-Aug 17:14:21.230 Saved results for vnewcapacity to database.\n",
      "2022-18-Aug 17:14:21.249 Saved results for vtotalcapacityannual to database.\n",
      "2022-18-Aug 17:14:21.270 Saved results for vproductionbytechnologyannual to database.\n",
      "2022-18-Aug 17:14:21.746 Saved results for vproductionnn to database.\n",
      "2022-18-Aug 17:14:21.761 Saved results for vusebytechnologyannual to database.\n",
      "2022-18-Aug 17:14:22.179 Saved results for vusenn to database.\n",
      "2022-18-Aug 17:14:22.196 Saved results for vtotaldiscountedcost to database.\n",
      "2022-18-Aug 17:14:22.196 Finished saving results to database.\n",
      "2022-18-Aug 17:14:22.208 Dropped temporary tables.\n",
      "2022-18-Aug 17:14:22.208 Finished modeling scenario.\n",
      "Presolve 14531 (-49539) rows, 8337 (-49093) columns and 44754 (-129112) elements\n",
      "0  Obj 0 Primal inf 19254.693 (980) Dual inf 9.2763083e+13 (970)\n",
      "Perturbing problem by 0.001% of 9.6635798e+08 - largest nonzero change 0.69905281 ( 0.18888349%) - largest zero change 0\n",
      "297  Obj 13137.913 Primal inf 13668.619 (963) Dual inf 7.8397013e+13 (1640)\n",
      "594  Obj 4720.9557 Primal inf 11068.391 (992) Dual inf 9.4357857e+13 (2585)\n",
      "891  Obj 1732.0814 Primal inf 10282.721 (994) Dual inf 1.2393356e+14 (3273)\n",
      "1188  Obj 388.51046 Primal inf 9647.0231 (995) Dual inf 1.4699663e+14 (3688)\n",
      "1485  Obj 308.69967 Primal inf 9589.2161 (1037) Dual inf 1.3705963e+14 (3380)\n",
      "1782  Obj 122.64174 Primal inf 9288.6627 (1056) Dual inf 1.3013383e+14 (3204)\n",
      "2079  Obj 944.38098 Primal inf 7943.1185 (1014) Dual inf 1.2847025e+14 (2986)\n",
      "2376  Obj 944.40831 Primal inf 7403.8111 (947) Dual inf 1.1706086e+14 (2786)\n",
      "2673  Obj 932.99166 Primal inf 6690.9371 (848) Dual inf 1.0577567e+14 (2525)\n",
      "2970  Obj 933.00036 Primal inf 4843.6634 (673) Dual inf 9.994694e+13 (2192)\n",
      "3267  Obj 2602.4323 Primal inf 3799.6059 (652) Dual inf 7.4954097e+13 (1999)\n",
      "3564  Obj 3430.1269 Primal inf 3217.7054 (586) Dual inf 1.0743475e+14 (2519)\n",
      "3861  Obj 5416.3285 Primal inf 2457.4937 (485) Dual inf 9.06719e+13 (2482)\n",
      "4158  Obj 9621.4952 Primal inf 1713.0812 (450) Dual inf 7.5006847e+13 (2507)\n",
      "4455  Obj 15065.884 Primal inf 1118.6972 (420) Dual inf 5.7015357e+13 (2460)\n",
      "4752  Obj 25599.496 Primal inf 227.39001 (324) Dual inf 1.7575545e+13 (2377)\n",
      "5058  Obj 28254.68 Primal inf 21.950968 (89) Dual inf 2.8760837e+12 (2430)\n",
      "5355  Obj 29872.415 Primal inf 5.5978358 (23) Dual inf 2.992674e+11 (1489)\n",
      "5652  Obj 32068.347 Primal inf 2.9707333 (22) Dual inf 9.7583155e+11 (1758)\n",
      "5949  Obj 37070.465 Primal inf 1.6237633 (13) Dual inf 1.5728656e+11 (1461)\n",
      "6246  Obj 37969.922 Dual inf 108612.05 (1052)\n",
      "6517  Obj 31501.392 Dual inf 190299.19 (874)\n",
      "6812  Obj 25313.947 Dual inf 52157.178 (615)\n",
      "7109  Obj 20886.335 Dual inf 133391.01 (653)\n",
      "7406  Obj 17728.365 Dual inf 24734.339 (445)\n",
      "7703  Obj 17416.948 Dual inf 16899.926 (373)\n",
      "8000  Obj 17031.814 Dual inf 7190.8104 (387)\n",
      "8297  Obj 16279.109 Dual inf 5920.3581 (252)\n",
      "8594  Obj 16204.094 Dual inf 516.79119 (239)\n",
      "8891  Obj 16144.058 Dual inf 62.012341 (292)\n",
      "9188  Obj 16142.085 Dual inf 0.3961196 (22)\n",
      "9222  Obj 16141.909\n",
      "Optimal - objective value 16147.646\n",
      "After Postsolve, objective 16147.646, infeasibilities - dual 0 (0), primal 0 (0)\n",
      "Optimal objective 16147.64593 - 9222 iterations time 1.352, Presolve 0.17\n"
     ]
    },
    {
     "data": {
      "text/plain": [
       "1.660868062213042e9"
      ]
     },
     "execution_count": 130,
     "metadata": {},
     "output_type": "execute_result"
    }
   ],
   "source": [
    "dbpath = normpath(joinpath(pathof(NemoMod), \"..\", \"..\", \"test\", \"ramp_test.sqlite\"))\n",
    "chmod(dbpath, 0o777)\n",
    "t0 = time()\n",
    "NemoMod.calculatescenario(dbpath; jumpmodel=Model(Cbc.Optimizer), numprocs = 1)\n",
    "t1 = time()"
   ]
  },
  {
   "cell_type": "code",
   "execution_count": null,
   "metadata": {},
   "outputs": [],
   "source": []
  },
  {
   "cell_type": "code",
   "execution_count": 131,
   "metadata": {},
   "outputs": [],
   "source": [
    "# get tables from SISEPUEDE\n",
    "db = SQLite.DB(fp_sqlite_nemomod_db_tmp)\n",
    "\n",
    "dict_tables = Dict{String, DataFrame}()\n",
    "tables_vary = []\n",
    "\n",
    "tabs = SQLite.tables(db)[1]\n",
    "table_name = 0\n",
    "for k in 1:length(tabs)\n",
    "    table_name = tabs[k]\n",
    "    df_tmp = DBInterface.execute(db, \"select * from $(table_name)\") |> DataFrame\n",
    "    dict_tables[table_name] = df_tmp\n",
    "    (nrow(df_tmp) > 0) ? push!(tables_vary, table_name) : nothing\n",
    "end\n",
    "\n",
    "\n",
    "# get tables from DEMO\n",
    "db_demo = SQLite.DB(dbpath)\n",
    "\n",
    "dict_tables_demo = Dict{String, DataFrame}()\n",
    "tables_vary_demo = []\n",
    "\n",
    "tabs_demo = SQLite.tables(db_demo)[1]\n",
    "for k in 1:length(tabs_demo)\n",
    "    table_name = tabs_demo[k]\n",
    "    df_tmp = DBInterface.execute(db_demo, \"select * from $(table_name)\") |> DataFrame\n",
    "    dict_tables_demo[table_name] = df_tmp\n",
    "    (nrow(df_tmp) > 0) ? push!(tables_vary_demo, table_name) : nothing\n",
    "end"
   ]
  },
  {
   "cell_type": "code",
   "execution_count": 10,
   "metadata": {},
   "outputs": [
    {
     "name": "stdout",
     "output_type": "stream",
     "text": [
      "StorageLevelStart\n",
      "StorageFullLoadHours\n"
     ]
    }
   ],
   "source": [
    "#setdiff(keys(dict_tables_demo), keys(dict_tables))\n",
    "for k in keys(dict_tables_demo)\n",
    "    #((\"f\" in names(dict_tables_demo[k])) & (nrow(dict_tables_demo[k]) > 0)) ? println(k) : nothing\n",
    "    if k in keys(dict_tables)\n",
    "        if (nrow(dict_tables_demo[k]) != 0) & (nrow(dict_tables[k]) == 0)\n",
    "            println(k)\n",
    "        end\n",
    "    end\n",
    "        \n",
    "end\n",
    "#dict_tables_demo[\"InputActivityRatio\"]"
   ]
  },
  {
   "cell_type": "code",
   "execution_count": 19,
   "metadata": {
    "collapsed": true,
    "jupyter": {
     "outputs_hidden": true
    }
   },
   "outputs": [
    {
     "data": {
      "text/html": [
       "<div class=\"data-frame\"><p>5 rows × 7 columns</p><table class=\"data-frame\"><thead><tr><th></th><th>id</th><th>r</th><th>t</th><th>f</th><th>m</th><th>y</th><th>val</th></tr><tr><th></th><th title=\"Int64\">Int64</th><th title=\"String\">String</th><th title=\"String\">String</th><th title=\"String\">String</th><th title=\"String\">String</th><th title=\"String\">String</th><th title=\"Float64\">Float64</th></tr></thead><tbody><tr><th>1</th><td>6</td><td>1</td><td>gas</td><td>electricity</td><td>generate</td><td>2025</td><td>1.0</td></tr><tr><th>2</th><td>16</td><td>1</td><td>solar</td><td>electricity</td><td>generate</td><td>2025</td><td>1.0</td></tr><tr><th>3</th><td>26</td><td>1</td><td>storage1</td><td>electricity</td><td>generate</td><td>2025</td><td>1.0</td></tr><tr><th>4</th><td>36</td><td>1</td><td>gassupply</td><td>gas</td><td>generate</td><td>2025</td><td>1.0</td></tr><tr><th>5</th><td>46</td><td>1</td><td>solarsupply</td><td>solar</td><td>generate</td><td>2025</td><td>1.0</td></tr></tbody></table></div>"
      ],
      "text/latex": [
       "\\begin{tabular}{r|ccccccc}\n",
       "\t& id & r & t & f & m & y & val\\\\\n",
       "\t\\hline\n",
       "\t& Int64 & String & String & String & String & String & Float64\\\\\n",
       "\t\\hline\n",
       "\t1 & 6 & 1 & gas & electricity & generate & 2025 & 1.0 \\\\\n",
       "\t2 & 16 & 1 & solar & electricity & generate & 2025 & 1.0 \\\\\n",
       "\t3 & 26 & 1 & storage1 & electricity & generate & 2025 & 1.0 \\\\\n",
       "\t4 & 36 & 1 & gassupply & gas & generate & 2025 & 1.0 \\\\\n",
       "\t5 & 46 & 1 & solarsupply & solar & generate & 2025 & 1.0 \\\\\n",
       "\\end{tabular}\n"
      ],
      "text/plain": [
       "\u001b[1m5×7 DataFrame\u001b[0m\n",
       "\u001b[1m Row \u001b[0m│\u001b[1m id    \u001b[0m\u001b[1m r      \u001b[0m\u001b[1m t           \u001b[0m\u001b[1m f           \u001b[0m\u001b[1m m        \u001b[0m\u001b[1m y      \u001b[0m\u001b[1m val     \u001b[0m\n",
       "\u001b[1m     \u001b[0m│\u001b[90m Int64 \u001b[0m\u001b[90m String \u001b[0m\u001b[90m String      \u001b[0m\u001b[90m String      \u001b[0m\u001b[90m String   \u001b[0m\u001b[90m String \u001b[0m\u001b[90m Float64 \u001b[0m\n",
       "─────┼────────────────────────────────────────────────────────────────────\n",
       "   1 │     6  1       gas          electricity  generate  2025        1.0\n",
       "   2 │    16  1       solar        electricity  generate  2025        1.0\n",
       "   3 │    26  1       storage1     electricity  generate  2025        1.0\n",
       "   4 │    36  1       gassupply    gas          generate  2025        1.0\n",
       "   5 │    46  1       solarsupply  solar        generate  2025        1.0"
      ]
     },
     "execution_count": 19,
     "metadata": {},
     "output_type": "execute_result"
    }
   ],
   "source": [
    "unique(dict_tables_demo[\"OutputActivityRatio\"][:, :f])\n",
    "\n",
    "filter(x -> (x[:y] == \"2025\"), dict_tables_demo[\"OutputActivityRatio\"])"
   ]
  },
  {
   "cell_type": "code",
   "execution_count": 160,
   "metadata": {},
   "outputs": [
    {
     "name": "stdout",
     "output_type": "stream",
     "text": [
      "VariableCost\n",
      "OperationalLife\n",
      "OutputActivityRatio\n",
      "vproductionbytechnologyannual\n",
      "vnewcapacity\n",
      "vtotalcapacityannual\n"
     ]
    }
   ],
   "source": [
    "for k in keys(dict_tables_demo)\n",
    "    \n",
    "    if \"t\" in names(dict_tables_demo[k])\n",
    "        ((\"gassupply\" in dict_tables_demo[k][:, :t]) | (\"solarsupply\" in dict_tables_demo[k][:, :t])) ? println(k) : nothing\n",
    "    end\n",
    "end"
   ]
  },
  {
   "cell_type": "code",
   "execution_count": 150,
   "metadata": {},
   "outputs": [
    {
     "data": {
      "text/plain": [
       "8-element Vector{String}:\n",
       " \"vusenn\"\n",
       " \"vdemandnn\"\n",
       " \"vproductionnn\"\n",
       " \"vtotaldiscountedcost\"\n",
       " \"vusebytechnologyannual\"\n",
       " \"vproductionbytechnologyannual\"\n",
       " \"vnewcapacity\"\n",
       " \"vtotalcapacityannual\""
      ]
     },
     "execution_count": 150,
     "metadata": {},
     "output_type": "execute_result"
    }
   ],
   "source": [
    "[x for x in keys(dict_tables_demo) if startswith(x, \"v\")]"
   ]
  },
  {
   "cell_type": "code",
   "execution_count": 168,
   "metadata": {},
   "outputs": [
    {
     "data": {
      "text/html": [
       "<div class=\"data-frame\"><p>7 rows × 6 columns</p><table class=\"data-frame\"><thead><tr><th></th><th>r</th><th>t</th><th>f</th><th>y</th><th>val</th><th>solvedtm</th></tr><tr><th></th><th title=\"String\">String</th><th title=\"String\">String</th><th title=\"String\">String</th><th title=\"String\">String</th><th title=\"Float64\">Float64</th><th title=\"String\">String</th></tr></thead><tbody><tr><th>1</th><td>1</td><td>coalsupply</td><td>coal</td><td>2021</td><td>7.09921</td><td>2022-08-18 17:14:20.730</td></tr><tr><th>2</th><td>1</td><td>gas</td><td>electricity</td><td>2021</td><td>1.7064</td><td>2022-08-18 17:14:20.730</td></tr><tr><th>3</th><td>1</td><td>coal</td><td>electricity</td><td>2021</td><td>3.54961</td><td>2022-08-18 17:14:20.730</td></tr><tr><th>4</th><td>1</td><td>storage1</td><td>electricity</td><td>2021</td><td>10.512</td><td>2022-08-18 17:14:20.730</td></tr><tr><th>5</th><td>1</td><td>solarsupply</td><td>solar</td><td>2021</td><td>57.816</td><td>2022-08-18 17:14:20.730</td></tr><tr><th>6</th><td>1</td><td>solar</td><td>electricity</td><td>2021</td><td>28.908</td><td>2022-08-18 17:14:20.730</td></tr><tr><th>7</th><td>1</td><td>gassupply</td><td>gas</td><td>2021</td><td>3.41279</td><td>2022-08-18 17:14:20.730</td></tr></tbody></table></div>"
      ],
      "text/latex": [
       "\\begin{tabular}{r|cccccc}\n",
       "\t& r & t & f & y & val & solvedtm\\\\\n",
       "\t\\hline\n",
       "\t& String & String & String & String & Float64 & String\\\\\n",
       "\t\\hline\n",
       "\t1 & 1 & coalsupply & coal & 2021 & 7.09921 & 2022-08-18 17:14:20.730 \\\\\n",
       "\t2 & 1 & gas & electricity & 2021 & 1.7064 & 2022-08-18 17:14:20.730 \\\\\n",
       "\t3 & 1 & coal & electricity & 2021 & 3.54961 & 2022-08-18 17:14:20.730 \\\\\n",
       "\t4 & 1 & storage1 & electricity & 2021 & 10.512 & 2022-08-18 17:14:20.730 \\\\\n",
       "\t5 & 1 & solarsupply & solar & 2021 & 57.816 & 2022-08-18 17:14:20.730 \\\\\n",
       "\t6 & 1 & solar & electricity & 2021 & 28.908 & 2022-08-18 17:14:20.730 \\\\\n",
       "\t7 & 1 & gassupply & gas & 2021 & 3.41279 & 2022-08-18 17:14:20.730 \\\\\n",
       "\\end{tabular}\n"
      ],
      "text/plain": [
       "\u001b[1m7×6 DataFrame\u001b[0m\n",
       "\u001b[1m Row \u001b[0m│\u001b[1m r      \u001b[0m\u001b[1m t           \u001b[0m\u001b[1m f           \u001b[0m\u001b[1m y      \u001b[0m\u001b[1m val      \u001b[0m\u001b[1m solvedtm           \u001b[0m ⋯\n",
       "\u001b[1m     \u001b[0m│\u001b[90m String \u001b[0m\u001b[90m String      \u001b[0m\u001b[90m String      \u001b[0m\u001b[90m String \u001b[0m\u001b[90m Float64  \u001b[0m\u001b[90m String             \u001b[0m ⋯\n",
       "─────┼──────────────────────────────────────────────────────────────────────────\n",
       "   1 │ 1       coalsupply   coal         2021     7.09921  2022-08-18 17:14:20 ⋯\n",
       "   2 │ 1       gas          electricity  2021     1.7064   2022-08-18 17:14:20\n",
       "   3 │ 1       coal         electricity  2021     3.54961  2022-08-18 17:14:20\n",
       "   4 │ 1       storage1     electricity  2021    10.512    2022-08-18 17:14:20\n",
       "   5 │ 1       solarsupply  solar        2021    57.816    2022-08-18 17:14:20 ⋯\n",
       "   6 │ 1       solar        electricity  2021    28.908    2022-08-18 17:14:20\n",
       "   7 │ 1       gassupply    gas          2021     3.41279  2022-08-18 17:14:20\n",
       "\u001b[36m                                                                1 column omitted\u001b[0m"
      ]
     },
     "execution_count": 168,
     "metadata": {},
     "output_type": "execute_result"
    }
   ],
   "source": [
    "filter(x -> (x[:y] == \"2021\"), dict_tables_demo[\"vproductionbytechnologyannual\"])"
   ]
  },
  {
   "cell_type": "code",
   "execution_count": 173,
   "metadata": {},
   "outputs": [
    {
     "data": {
      "text/html": [
       "<div class=\"data-frame\"><p>5 rows × 6 columns</p><table class=\"data-frame\"><thead><tr><th></th><th>id</th><th>r</th><th>t</th><th>m</th><th>y</th><th>val</th></tr><tr><th></th><th title=\"Int64\">Int64</th><th title=\"String\">String</th><th title=\"String\">String</th><th title=\"String\">String</th><th title=\"String\">String</th><th title=\"Float64\">Float64</th></tr></thead><tbody><tr><th>1</th><td>2</td><td>1</td><td>gas</td><td>generate</td><td>2021</td><td>8.76</td></tr><tr><th>2</th><td>12</td><td>1</td><td>storage1</td><td>generate</td><td>2021</td><td>10.0</td></tr><tr><th>3</th><td>22</td><td>1</td><td>gassupply</td><td>generate</td><td>2021</td><td>150.0</td></tr><tr><th>4</th><td>32</td><td>1</td><td>coal</td><td>generate</td><td>2021</td><td>8.76</td></tr><tr><th>5</th><td>42</td><td>1</td><td>coalsupply</td><td>generate</td><td>2021</td><td>150.0</td></tr></tbody></table></div>"
      ],
      "text/latex": [
       "\\begin{tabular}{r|cccccc}\n",
       "\t& id & r & t & m & y & val\\\\\n",
       "\t\\hline\n",
       "\t& Int64 & String & String & String & String & Float64\\\\\n",
       "\t\\hline\n",
       "\t1 & 2 & 1 & gas & generate & 2021 & 8.76 \\\\\n",
       "\t2 & 12 & 1 & storage1 & generate & 2021 & 10.0 \\\\\n",
       "\t3 & 22 & 1 & gassupply & generate & 2021 & 150.0 \\\\\n",
       "\t4 & 32 & 1 & coal & generate & 2021 & 8.76 \\\\\n",
       "\t5 & 42 & 1 & coalsupply & generate & 2021 & 150.0 \\\\\n",
       "\\end{tabular}\n"
      ],
      "text/plain": [
       "\u001b[1m5×6 DataFrame\u001b[0m\n",
       "\u001b[1m Row \u001b[0m│\u001b[1m id    \u001b[0m\u001b[1m r      \u001b[0m\u001b[1m t          \u001b[0m\u001b[1m m        \u001b[0m\u001b[1m y      \u001b[0m\u001b[1m val     \u001b[0m\n",
       "\u001b[1m     \u001b[0m│\u001b[90m Int64 \u001b[0m\u001b[90m String \u001b[0m\u001b[90m String     \u001b[0m\u001b[90m String   \u001b[0m\u001b[90m String \u001b[0m\u001b[90m Float64 \u001b[0m\n",
       "─────┼──────────────────────────────────────────────────────\n",
       "   1 │     2  1       gas         generate  2021       8.76\n",
       "   2 │    12  1       storage1    generate  2021      10.0\n",
       "   3 │    22  1       gassupply   generate  2021     150.0\n",
       "   4 │    32  1       coal        generate  2021       8.76\n",
       "   5 │    42  1       coalsupply  generate  2021     150.0"
      ]
     },
     "execution_count": 173,
     "metadata": {},
     "output_type": "execute_result"
    }
   ],
   "source": [
    "filter(x -> (x[:y] == \"2021\"), dict_tables_demo[\"VariableCost\"])"
   ]
  },
  {
   "cell_type": "code",
   "execution_count": 172,
   "metadata": {},
   "outputs": [
    {
     "data": {
      "text/html": [
       "<div class=\"data-frame\"><p>9 rows × 3 columns</p><table class=\"data-frame\"><thead><tr><th></th><th>id</th><th>tablename</th><th>val</th></tr><tr><th></th><th title=\"Int64\">Int64</th><th title=\"String\">String</th><th title=\"Float64\">Float64</th></tr></thead><tbody><tr><th>1</th><td>37</td><td>TotalAnnualMaxCapacity</td><td>1.0e10</td></tr><tr><th>2</th><td>38</td><td>TotalAnnualMaxCapacityInvestment</td><td>1.0e10</td></tr><tr><th>3</th><td>39</td><td>TotalAnnualMinCapacity</td><td>0.0</td></tr><tr><th>4</th><td>40</td><td>TotalAnnualMinCapacityInvestment</td><td>0.0</td></tr><tr><th>5</th><td>41</td><td>TotalTechnologyAnnualActivityUpperLimit</td><td>1.0e10</td></tr><tr><th>6</th><td>42</td><td>TotalTechnologyModelPeriodActivityLowerLimit</td><td>0.0</td></tr><tr><th>7</th><td>43</td><td>TotalTechnologyModelPeriodActivityUpperLimit</td><td>1.0e10</td></tr><tr><th>8</th><td>44</td><td>TradeRoute</td><td>0.0</td></tr><tr><th>9</th><td>45</td><td>VariableCost</td><td>0.0</td></tr></tbody></table></div>"
      ],
      "text/latex": [
       "\\begin{tabular}{r|ccc}\n",
       "\t& id & tablename & val\\\\\n",
       "\t\\hline\n",
       "\t& Int64 & String & Float64\\\\\n",
       "\t\\hline\n",
       "\t1 & 37 & TotalAnnualMaxCapacity & 1.0e10 \\\\\n",
       "\t2 & 38 & TotalAnnualMaxCapacityInvestment & 1.0e10 \\\\\n",
       "\t3 & 39 & TotalAnnualMinCapacity & 0.0 \\\\\n",
       "\t4 & 40 & TotalAnnualMinCapacityInvestment & 0.0 \\\\\n",
       "\t5 & 41 & TotalTechnologyAnnualActivityUpperLimit & 1.0e10 \\\\\n",
       "\t6 & 42 & TotalTechnologyModelPeriodActivityLowerLimit & 0.0 \\\\\n",
       "\t7 & 43 & TotalTechnologyModelPeriodActivityUpperLimit & 1.0e10 \\\\\n",
       "\t8 & 44 & TradeRoute & 0.0 \\\\\n",
       "\t9 & 45 & VariableCost & 0.0 \\\\\n",
       "\\end{tabular}\n"
      ],
      "text/plain": [
       "\u001b[1m9×3 DataFrame\u001b[0m\n",
       "\u001b[1m Row \u001b[0m│\u001b[1m id    \u001b[0m\u001b[1m tablename                         \u001b[0m\u001b[1m val     \u001b[0m\n",
       "\u001b[1m     \u001b[0m│\u001b[90m Int64 \u001b[0m\u001b[90m String                            \u001b[0m\u001b[90m Float64 \u001b[0m\n",
       "─────┼───────────────────────────────────────────────────\n",
       "   1 │    37  TotalAnnualMaxCapacity              1.0e10\n",
       "   2 │    38  TotalAnnualMaxCapacityInvestment    1.0e10\n",
       "   3 │    39  TotalAnnualMinCapacity              0.0\n",
       "   4 │    40  TotalAnnualMinCapacityInvestment    0.0\n",
       "   5 │    41  TotalTechnologyAnnualActivityUpp…   1.0e10\n",
       "   6 │    42  TotalTechnologyModelPeriodActivi…   0.0\n",
       "   7 │    43  TotalTechnologyModelPeriodActivi…   1.0e10\n",
       "   8 │    44  TradeRoute                          0.0\n",
       "   9 │    45  VariableCost                        0.0"
      ]
     },
     "execution_count": 172,
     "metadata": {},
     "output_type": "execute_result"
    }
   ],
   "source": [
    "dict_tables_demo[\"DefaultParams\"][35:end,:]"
   ]
  },
  {
   "cell_type": "code",
   "execution_count": 149,
   "metadata": {},
   "outputs": [
    {
     "data": {
      "text/html": [
       "<div class=\"data-frame\"><p>10 rows × 6 columns</p><table class=\"data-frame\"><thead><tr><th></th><th>id</th><th>r</th><th>t</th><th>m</th><th>y</th><th>val</th></tr><tr><th></th><th title=\"Int64\">Int64</th><th title=\"String\">String</th><th title=\"String\">String</th><th title=\"String\">String</th><th title=\"String\">String</th><th title=\"Float64\">Float64</th></tr></thead><tbody><tr><th>1</th><td>1</td><td>1</td><td>gas</td><td>generate</td><td>2020</td><td>8.76</td></tr><tr><th>2</th><td>2</td><td>1</td><td>gas</td><td>generate</td><td>2021</td><td>8.76</td></tr><tr><th>3</th><td>11</td><td>1</td><td>storage1</td><td>generate</td><td>2020</td><td>10.0</td></tr><tr><th>4</th><td>12</td><td>1</td><td>storage1</td><td>generate</td><td>2021</td><td>10.0</td></tr><tr><th>5</th><td>21</td><td>1</td><td>gassupply</td><td>generate</td><td>2020</td><td>150.0</td></tr><tr><th>6</th><td>22</td><td>1</td><td>gassupply</td><td>generate</td><td>2021</td><td>150.0</td></tr><tr><th>7</th><td>31</td><td>1</td><td>coal</td><td>generate</td><td>2020</td><td>8.76</td></tr><tr><th>8</th><td>32</td><td>1</td><td>coal</td><td>generate</td><td>2021</td><td>8.76</td></tr><tr><th>9</th><td>41</td><td>1</td><td>coalsupply</td><td>generate</td><td>2020</td><td>150.0</td></tr><tr><th>10</th><td>42</td><td>1</td><td>coalsupply</td><td>generate</td><td>2021</td><td>150.0</td></tr></tbody></table></div>"
      ],
      "text/latex": [
       "\\begin{tabular}{r|cccccc}\n",
       "\t& id & r & t & m & y & val\\\\\n",
       "\t\\hline\n",
       "\t& Int64 & String & String & String & String & Float64\\\\\n",
       "\t\\hline\n",
       "\t1 & 1 & 1 & gas & generate & 2020 & 8.76 \\\\\n",
       "\t2 & 2 & 1 & gas & generate & 2021 & 8.76 \\\\\n",
       "\t3 & 11 & 1 & storage1 & generate & 2020 & 10.0 \\\\\n",
       "\t4 & 12 & 1 & storage1 & generate & 2021 & 10.0 \\\\\n",
       "\t5 & 21 & 1 & gassupply & generate & 2020 & 150.0 \\\\\n",
       "\t6 & 22 & 1 & gassupply & generate & 2021 & 150.0 \\\\\n",
       "\t7 & 31 & 1 & coal & generate & 2020 & 8.76 \\\\\n",
       "\t8 & 32 & 1 & coal & generate & 2021 & 8.76 \\\\\n",
       "\t9 & 41 & 1 & coalsupply & generate & 2020 & 150.0 \\\\\n",
       "\t10 & 42 & 1 & coalsupply & generate & 2021 & 150.0 \\\\\n",
       "\\end{tabular}\n"
      ],
      "text/plain": [
       "\u001b[1m10×6 DataFrame\u001b[0m\n",
       "\u001b[1m Row \u001b[0m│\u001b[1m id    \u001b[0m\u001b[1m r      \u001b[0m\u001b[1m t          \u001b[0m\u001b[1m m        \u001b[0m\u001b[1m y      \u001b[0m\u001b[1m val     \u001b[0m\n",
       "\u001b[1m     \u001b[0m│\u001b[90m Int64 \u001b[0m\u001b[90m String \u001b[0m\u001b[90m String     \u001b[0m\u001b[90m String   \u001b[0m\u001b[90m String \u001b[0m\u001b[90m Float64 \u001b[0m\n",
       "─────┼──────────────────────────────────────────────────────\n",
       "   1 │     1  1       gas         generate  2020       8.76\n",
       "   2 │     2  1       gas         generate  2021       8.76\n",
       "   3 │    11  1       storage1    generate  2020      10.0\n",
       "   4 │    12  1       storage1    generate  2021      10.0\n",
       "   5 │    21  1       gassupply   generate  2020     150.0\n",
       "   6 │    22  1       gassupply   generate  2021     150.0\n",
       "   7 │    31  1       coal        generate  2020       8.76\n",
       "   8 │    32  1       coal        generate  2021       8.76\n",
       "   9 │    41  1       coalsupply  generate  2020     150.0\n",
       "  10 │    42  1       coalsupply  generate  2021     150.0"
      ]
     },
     "execution_count": 149,
     "metadata": {},
     "output_type": "execute_result"
    }
   ],
   "source": [
    "df_1 = dict_tables_demo[\"VariableCost\"]\n",
    "#\"gassupply\" in dict_tables_demo[\"VariableCost\"][:, :t]\n",
    "filter(z -> (z[:y] in [\"2020\", \"2021\"]), df_1)\n",
    "\n"
   ]
  },
  {
   "cell_type": "code",
   "execution_count": 135,
   "metadata": {},
   "outputs": [
    {
     "data": {
      "text/html": [
       "<div class=\"data-frame\"><p>10 rows × 7 columns</p><table class=\"data-frame\"><thead><tr><th></th><th>id</th><th>r</th><th>t</th><th>f</th><th>m</th><th>y</th><th>val</th></tr><tr><th></th><th title=\"Int64\">Int64</th><th title=\"String\">String</th><th title=\"String\">String</th><th title=\"String\">String</th><th title=\"String\">String</th><th title=\"String\">String</th><th title=\"Float64\">Float64</th></tr></thead><tbody><tr><th>1</th><td>1</td><td>1</td><td>gas</td><td>electricity</td><td>generate</td><td>2020</td><td>1.0</td></tr><tr><th>2</th><td>2</td><td>1</td><td>gas</td><td>electricity</td><td>generate</td><td>2021</td><td>1.0</td></tr><tr><th>3</th><td>3</td><td>1</td><td>gas</td><td>electricity</td><td>generate</td><td>2022</td><td>1.0</td></tr><tr><th>4</th><td>4</td><td>1</td><td>gas</td><td>electricity</td><td>generate</td><td>2023</td><td>1.0</td></tr><tr><th>5</th><td>5</td><td>1</td><td>gas</td><td>electricity</td><td>generate</td><td>2024</td><td>1.0</td></tr><tr><th>6</th><td>6</td><td>1</td><td>gas</td><td>electricity</td><td>generate</td><td>2025</td><td>1.0</td></tr><tr><th>7</th><td>7</td><td>1</td><td>gas</td><td>electricity</td><td>generate</td><td>2026</td><td>1.0</td></tr><tr><th>8</th><td>8</td><td>1</td><td>gas</td><td>electricity</td><td>generate</td><td>2027</td><td>1.0</td></tr><tr><th>9</th><td>9</td><td>1</td><td>gas</td><td>electricity</td><td>generate</td><td>2028</td><td>1.0</td></tr><tr><th>10</th><td>10</td><td>1</td><td>gas</td><td>electricity</td><td>generate</td><td>2029</td><td>1.0</td></tr></tbody></table></div>"
      ],
      "text/latex": [
       "\\begin{tabular}{r|ccccccc}\n",
       "\t& id & r & t & f & m & y & val\\\\\n",
       "\t\\hline\n",
       "\t& Int64 & String & String & String & String & String & Float64\\\\\n",
       "\t\\hline\n",
       "\t1 & 1 & 1 & gas & electricity & generate & 2020 & 1.0 \\\\\n",
       "\t2 & 2 & 1 & gas & electricity & generate & 2021 & 1.0 \\\\\n",
       "\t3 & 3 & 1 & gas & electricity & generate & 2022 & 1.0 \\\\\n",
       "\t4 & 4 & 1 & gas & electricity & generate & 2023 & 1.0 \\\\\n",
       "\t5 & 5 & 1 & gas & electricity & generate & 2024 & 1.0 \\\\\n",
       "\t6 & 6 & 1 & gas & electricity & generate & 2025 & 1.0 \\\\\n",
       "\t7 & 7 & 1 & gas & electricity & generate & 2026 & 1.0 \\\\\n",
       "\t8 & 8 & 1 & gas & electricity & generate & 2027 & 1.0 \\\\\n",
       "\t9 & 9 & 1 & gas & electricity & generate & 2028 & 1.0 \\\\\n",
       "\t10 & 10 & 1 & gas & electricity & generate & 2029 & 1.0 \\\\\n",
       "\\end{tabular}\n"
      ],
      "text/plain": [
       "\u001b[1m10×7 DataFrame\u001b[0m\n",
       "\u001b[1m Row \u001b[0m│\u001b[1m id    \u001b[0m\u001b[1m r      \u001b[0m\u001b[1m t      \u001b[0m\u001b[1m f           \u001b[0m\u001b[1m m        \u001b[0m\u001b[1m y      \u001b[0m\u001b[1m val     \u001b[0m\n",
       "\u001b[1m     \u001b[0m│\u001b[90m Int64 \u001b[0m\u001b[90m String \u001b[0m\u001b[90m String \u001b[0m\u001b[90m String      \u001b[0m\u001b[90m String   \u001b[0m\u001b[90m String \u001b[0m\u001b[90m Float64 \u001b[0m\n",
       "─────┼───────────────────────────────────────────────────────────────\n",
       "   1 │     1  1       gas     electricity  generate  2020        1.0\n",
       "   2 │     2  1       gas     electricity  generate  2021        1.0\n",
       "   3 │     3  1       gas     electricity  generate  2022        1.0\n",
       "   4 │     4  1       gas     electricity  generate  2023        1.0\n",
       "   5 │     5  1       gas     electricity  generate  2024        1.0\n",
       "   6 │     6  1       gas     electricity  generate  2025        1.0\n",
       "   7 │     7  1       gas     electricity  generate  2026        1.0\n",
       "   8 │     8  1       gas     electricity  generate  2027        1.0\n",
       "   9 │     9  1       gas     electricity  generate  2028        1.0\n",
       "  10 │    10  1       gas     electricity  generate  2029        1.0"
      ]
     },
     "execution_count": 135,
     "metadata": {},
     "output_type": "execute_result"
    }
   ],
   "source": [
    "filter(z -> (z[:t] == \"gas\"), dict_tables_demo[\"OutputActivityRatio\"])"
   ]
  },
  {
   "cell_type": "code",
   "execution_count": 92,
   "metadata": {},
   "outputs": [
    {
     "data": {
      "text/html": [
       "<div class=\"data-frame\"><p>10 rows × 7 columns</p><table class=\"data-frame\"><thead><tr><th></th><th>id</th><th>r</th><th>t</th><th>f</th><th>m</th><th>y</th><th>val</th></tr><tr><th></th><th title=\"Int64\">Int64</th><th title=\"String\">String</th><th title=\"String\">String</th><th title=\"String\">String</th><th title=\"String\">String</th><th title=\"String\">String</th><th title=\"Float64\">Float64</th></tr></thead><tbody><tr><th>1</th><td>1</td><td>1</td><td>gas</td><td>gas</td><td>generate</td><td>2020</td><td>2.0</td></tr><tr><th>2</th><td>2</td><td>1</td><td>gas</td><td>gas</td><td>generate</td><td>2021</td><td>2.0</td></tr><tr><th>3</th><td>3</td><td>1</td><td>gas</td><td>gas</td><td>generate</td><td>2022</td><td>2.0</td></tr><tr><th>4</th><td>4</td><td>1</td><td>gas</td><td>gas</td><td>generate</td><td>2023</td><td>2.0</td></tr><tr><th>5</th><td>5</td><td>1</td><td>gas</td><td>gas</td><td>generate</td><td>2024</td><td>2.0</td></tr><tr><th>6</th><td>6</td><td>1</td><td>gas</td><td>gas</td><td>generate</td><td>2025</td><td>2.0</td></tr><tr><th>7</th><td>7</td><td>1</td><td>gas</td><td>gas</td><td>generate</td><td>2026</td><td>2.0</td></tr><tr><th>8</th><td>8</td><td>1</td><td>gas</td><td>gas</td><td>generate</td><td>2027</td><td>2.0</td></tr><tr><th>9</th><td>9</td><td>1</td><td>gas</td><td>gas</td><td>generate</td><td>2028</td><td>2.0</td></tr><tr><th>10</th><td>10</td><td>1</td><td>gas</td><td>gas</td><td>generate</td><td>2029</td><td>2.0</td></tr></tbody></table></div>"
      ],
      "text/latex": [
       "\\begin{tabular}{r|ccccccc}\n",
       "\t& id & r & t & f & m & y & val\\\\\n",
       "\t\\hline\n",
       "\t& Int64 & String & String & String & String & String & Float64\\\\\n",
       "\t\\hline\n",
       "\t1 & 1 & 1 & gas & gas & generate & 2020 & 2.0 \\\\\n",
       "\t2 & 2 & 1 & gas & gas & generate & 2021 & 2.0 \\\\\n",
       "\t3 & 3 & 1 & gas & gas & generate & 2022 & 2.0 \\\\\n",
       "\t4 & 4 & 1 & gas & gas & generate & 2023 & 2.0 \\\\\n",
       "\t5 & 5 & 1 & gas & gas & generate & 2024 & 2.0 \\\\\n",
       "\t6 & 6 & 1 & gas & gas & generate & 2025 & 2.0 \\\\\n",
       "\t7 & 7 & 1 & gas & gas & generate & 2026 & 2.0 \\\\\n",
       "\t8 & 8 & 1 & gas & gas & generate & 2027 & 2.0 \\\\\n",
       "\t9 & 9 & 1 & gas & gas & generate & 2028 & 2.0 \\\\\n",
       "\t10 & 10 & 1 & gas & gas & generate & 2029 & 2.0 \\\\\n",
       "\\end{tabular}\n"
      ],
      "text/plain": [
       "\u001b[1m10×7 DataFrame\u001b[0m\n",
       "\u001b[1m Row \u001b[0m│\u001b[1m id    \u001b[0m\u001b[1m r      \u001b[0m\u001b[1m t      \u001b[0m\u001b[1m f      \u001b[0m\u001b[1m m        \u001b[0m\u001b[1m y      \u001b[0m\u001b[1m val     \u001b[0m\n",
       "\u001b[1m     \u001b[0m│\u001b[90m Int64 \u001b[0m\u001b[90m String \u001b[0m\u001b[90m String \u001b[0m\u001b[90m String \u001b[0m\u001b[90m String   \u001b[0m\u001b[90m String \u001b[0m\u001b[90m Float64 \u001b[0m\n",
       "─────┼──────────────────────────────────────────────────────────\n",
       "   1 │     1  1       gas     gas     generate  2020        2.0\n",
       "   2 │     2  1       gas     gas     generate  2021        2.0\n",
       "   3 │     3  1       gas     gas     generate  2022        2.0\n",
       "   4 │     4  1       gas     gas     generate  2023        2.0\n",
       "   5 │     5  1       gas     gas     generate  2024        2.0\n",
       "   6 │     6  1       gas     gas     generate  2025        2.0\n",
       "   7 │     7  1       gas     gas     generate  2026        2.0\n",
       "   8 │     8  1       gas     gas     generate  2027        2.0\n",
       "   9 │     9  1       gas     gas     generate  2028        2.0\n",
       "  10 │    10  1       gas     gas     generate  2029        2.0"
      ]
     },
     "execution_count": 92,
     "metadata": {},
     "output_type": "execute_result"
    }
   ],
   "source": [
    "filter(z -> (z[:t] == \"gas\"), dict_tables_demo[\"InputActivityRatio\"])\n",
    "\n"
   ]
  },
  {
   "cell_type": "code",
   "execution_count": 107,
   "metadata": {},
   "outputs": [
    {
     "data": {
      "text/html": [
       "<div class=\"data-frame\"><p>10 rows × 7 columns</p><table class=\"data-frame\"><thead><tr><th></th><th>id</th><th>r</th><th>t</th><th>f</th><th>m</th><th>y</th><th>val</th></tr><tr><th></th><th title=\"Int64\">Int64</th><th title=\"String\">String</th><th title=\"String\">String</th><th title=\"String\">String</th><th title=\"String\">String</th><th title=\"String\">String</th><th title=\"Float64\">Float64</th></tr></thead><tbody><tr><th>1</th><td>31</td><td>1</td><td>gassupply</td><td>gas</td><td>generate</td><td>2020</td><td>1.0</td></tr><tr><th>2</th><td>32</td><td>1</td><td>gassupply</td><td>gas</td><td>generate</td><td>2021</td><td>1.0</td></tr><tr><th>3</th><td>33</td><td>1</td><td>gassupply</td><td>gas</td><td>generate</td><td>2022</td><td>1.0</td></tr><tr><th>4</th><td>34</td><td>1</td><td>gassupply</td><td>gas</td><td>generate</td><td>2023</td><td>1.0</td></tr><tr><th>5</th><td>35</td><td>1</td><td>gassupply</td><td>gas</td><td>generate</td><td>2024</td><td>1.0</td></tr><tr><th>6</th><td>36</td><td>1</td><td>gassupply</td><td>gas</td><td>generate</td><td>2025</td><td>1.0</td></tr><tr><th>7</th><td>37</td><td>1</td><td>gassupply</td><td>gas</td><td>generate</td><td>2026</td><td>1.0</td></tr><tr><th>8</th><td>38</td><td>1</td><td>gassupply</td><td>gas</td><td>generate</td><td>2027</td><td>1.0</td></tr><tr><th>9</th><td>39</td><td>1</td><td>gassupply</td><td>gas</td><td>generate</td><td>2028</td><td>1.0</td></tr><tr><th>10</th><td>40</td><td>1</td><td>gassupply</td><td>gas</td><td>generate</td><td>2029</td><td>1.0</td></tr></tbody></table></div>"
      ],
      "text/latex": [
       "\\begin{tabular}{r|ccccccc}\n",
       "\t& id & r & t & f & m & y & val\\\\\n",
       "\t\\hline\n",
       "\t& Int64 & String & String & String & String & String & Float64\\\\\n",
       "\t\\hline\n",
       "\t1 & 31 & 1 & gassupply & gas & generate & 2020 & 1.0 \\\\\n",
       "\t2 & 32 & 1 & gassupply & gas & generate & 2021 & 1.0 \\\\\n",
       "\t3 & 33 & 1 & gassupply & gas & generate & 2022 & 1.0 \\\\\n",
       "\t4 & 34 & 1 & gassupply & gas & generate & 2023 & 1.0 \\\\\n",
       "\t5 & 35 & 1 & gassupply & gas & generate & 2024 & 1.0 \\\\\n",
       "\t6 & 36 & 1 & gassupply & gas & generate & 2025 & 1.0 \\\\\n",
       "\t7 & 37 & 1 & gassupply & gas & generate & 2026 & 1.0 \\\\\n",
       "\t8 & 38 & 1 & gassupply & gas & generate & 2027 & 1.0 \\\\\n",
       "\t9 & 39 & 1 & gassupply & gas & generate & 2028 & 1.0 \\\\\n",
       "\t10 & 40 & 1 & gassupply & gas & generate & 2029 & 1.0 \\\\\n",
       "\\end{tabular}\n"
      ],
      "text/plain": [
       "\u001b[1m10×7 DataFrame\u001b[0m\n",
       "\u001b[1m Row \u001b[0m│\u001b[1m id    \u001b[0m\u001b[1m r      \u001b[0m\u001b[1m t         \u001b[0m\u001b[1m f      \u001b[0m\u001b[1m m        \u001b[0m\u001b[1m y      \u001b[0m\u001b[1m val     \u001b[0m\n",
       "\u001b[1m     \u001b[0m│\u001b[90m Int64 \u001b[0m\u001b[90m String \u001b[0m\u001b[90m String    \u001b[0m\u001b[90m String \u001b[0m\u001b[90m String   \u001b[0m\u001b[90m String \u001b[0m\u001b[90m Float64 \u001b[0m\n",
       "─────┼─────────────────────────────────────────────────────────────\n",
       "   1 │    31  1       gassupply  gas     generate  2020        1.0\n",
       "   2 │    32  1       gassupply  gas     generate  2021        1.0\n",
       "   3 │    33  1       gassupply  gas     generate  2022        1.0\n",
       "   4 │    34  1       gassupply  gas     generate  2023        1.0\n",
       "   5 │    35  1       gassupply  gas     generate  2024        1.0\n",
       "   6 │    36  1       gassupply  gas     generate  2025        1.0\n",
       "   7 │    37  1       gassupply  gas     generate  2026        1.0\n",
       "   8 │    38  1       gassupply  gas     generate  2027        1.0\n",
       "   9 │    39  1       gassupply  gas     generate  2028        1.0\n",
       "  10 │    40  1       gassupply  gas     generate  2029        1.0"
      ]
     },
     "execution_count": 107,
     "metadata": {},
     "output_type": "execute_result"
    }
   ],
   "source": [
    "filter(x -> (x[:t] == \"gassupply\"), dict_tables_demo[\"OutputActivityRatio\"])\n",
    "\n",
    "\n"
   ]
  },
  {
   "cell_type": "code",
   "execution_count": 108,
   "metadata": {},
   "outputs": [
    {
     "name": "stdout",
     "output_type": "stream",
     "text": [
      "VariableCost\n",
      "OperationalLife\n",
      "OutputActivityRatio\n",
      "vproductionbytechnologyannual\n",
      "TECHNOLOGY\n",
      "vnewcapacity\n",
      "vtotalcapacityannual\n"
     ]
    }
   ],
   "source": [
    "for k in keys(dict_tables_demo)\n",
    "    if \"t\" in names(dict_tables_demo[k])\n",
    "        if \"gassupply\" in dict_tables_demo[k][:, :t]\n",
    "            println(k)\n",
    "        end\n",
    "    end\n",
    "    \n",
    "    if \"val\" in names(dict_tables_demo[k])\n",
    "        if \"gassupply\" in dict_tables_demo[k][:, :val]\n",
    "            println(k)\n",
    "        end\n",
    "    end\n",
    "    \n",
    "    if \"f\" in names(dict_tables_demo[k])\n",
    "        if \"gassupply\" in dict_tables_demo[k][:, :f]\n",
    "            println(k)\n",
    "        end\n",
    "    end\n",
    "end"
   ]
  },
  {
   "cell_type": "code",
   "execution_count": 109,
   "metadata": {},
   "outputs": [
    {
     "name": "stdout",
     "output_type": "stream",
     "text": [
      "vusenn\n",
      "vdemandnn\n",
      "FUEL\n",
      "vproductionnn\n",
      "OutputActivityRatio\n",
      "vusebytechnologyannual\n",
      "vproductionbytechnologyannual\n",
      "TECHNOLOGY\n",
      "InputActivityRatio\n"
     ]
    }
   ],
   "source": [
    "for k in keys(dict_tables_demo)\n",
    "    if \"f\" in names(dict_tables_demo[k])\n",
    "        if \"gas\" in dict_tables_demo[k][:, :f]\n",
    "            println(k)\n",
    "        end\n",
    "    end\n",
    "    \n",
    "    if \"val\" in names(dict_tables_demo[k])\n",
    "        if \"gas\" in dict_tables_demo[k][:, :val]\n",
    "            println(k)\n",
    "        end\n",
    "    end\n",
    "    \n",
    "   \n",
    "end"
   ]
  },
  {
   "cell_type": "code",
   "execution_count": 110,
   "metadata": {},
   "outputs": [
    {
     "data": {
      "text/html": [
       "<div class=\"data-frame\"><p>10 rows × 7 columns</p><table class=\"data-frame\"><thead><tr><th></th><th>id</th><th>r</th><th>t</th><th>f</th><th>m</th><th>y</th><th>val</th></tr><tr><th></th><th title=\"Int64\">Int64</th><th title=\"String\">String</th><th title=\"String\">String</th><th title=\"String\">String</th><th title=\"String\">String</th><th title=\"String\">String</th><th title=\"Float64\">Float64</th></tr></thead><tbody><tr><th>1</th><td>1</td><td>1</td><td>gas</td><td>gas</td><td>generate</td><td>2020</td><td>2.0</td></tr><tr><th>2</th><td>2</td><td>1</td><td>gas</td><td>gas</td><td>generate</td><td>2021</td><td>2.0</td></tr><tr><th>3</th><td>3</td><td>1</td><td>gas</td><td>gas</td><td>generate</td><td>2022</td><td>2.0</td></tr><tr><th>4</th><td>4</td><td>1</td><td>gas</td><td>gas</td><td>generate</td><td>2023</td><td>2.0</td></tr><tr><th>5</th><td>5</td><td>1</td><td>gas</td><td>gas</td><td>generate</td><td>2024</td><td>2.0</td></tr><tr><th>6</th><td>6</td><td>1</td><td>gas</td><td>gas</td><td>generate</td><td>2025</td><td>2.0</td></tr><tr><th>7</th><td>7</td><td>1</td><td>gas</td><td>gas</td><td>generate</td><td>2026</td><td>2.0</td></tr><tr><th>8</th><td>8</td><td>1</td><td>gas</td><td>gas</td><td>generate</td><td>2027</td><td>2.0</td></tr><tr><th>9</th><td>9</td><td>1</td><td>gas</td><td>gas</td><td>generate</td><td>2028</td><td>2.0</td></tr><tr><th>10</th><td>10</td><td>1</td><td>gas</td><td>gas</td><td>generate</td><td>2029</td><td>2.0</td></tr></tbody></table></div>"
      ],
      "text/latex": [
       "\\begin{tabular}{r|ccccccc}\n",
       "\t& id & r & t & f & m & y & val\\\\\n",
       "\t\\hline\n",
       "\t& Int64 & String & String & String & String & String & Float64\\\\\n",
       "\t\\hline\n",
       "\t1 & 1 & 1 & gas & gas & generate & 2020 & 2.0 \\\\\n",
       "\t2 & 2 & 1 & gas & gas & generate & 2021 & 2.0 \\\\\n",
       "\t3 & 3 & 1 & gas & gas & generate & 2022 & 2.0 \\\\\n",
       "\t4 & 4 & 1 & gas & gas & generate & 2023 & 2.0 \\\\\n",
       "\t5 & 5 & 1 & gas & gas & generate & 2024 & 2.0 \\\\\n",
       "\t6 & 6 & 1 & gas & gas & generate & 2025 & 2.0 \\\\\n",
       "\t7 & 7 & 1 & gas & gas & generate & 2026 & 2.0 \\\\\n",
       "\t8 & 8 & 1 & gas & gas & generate & 2027 & 2.0 \\\\\n",
       "\t9 & 9 & 1 & gas & gas & generate & 2028 & 2.0 \\\\\n",
       "\t10 & 10 & 1 & gas & gas & generate & 2029 & 2.0 \\\\\n",
       "\\end{tabular}\n"
      ],
      "text/plain": [
       "\u001b[1m10×7 DataFrame\u001b[0m\n",
       "\u001b[1m Row \u001b[0m│\u001b[1m id    \u001b[0m\u001b[1m r      \u001b[0m\u001b[1m t      \u001b[0m\u001b[1m f      \u001b[0m\u001b[1m m        \u001b[0m\u001b[1m y      \u001b[0m\u001b[1m val     \u001b[0m\n",
       "\u001b[1m     \u001b[0m│\u001b[90m Int64 \u001b[0m\u001b[90m String \u001b[0m\u001b[90m String \u001b[0m\u001b[90m String \u001b[0m\u001b[90m String   \u001b[0m\u001b[90m String \u001b[0m\u001b[90m Float64 \u001b[0m\n",
       "─────┼──────────────────────────────────────────────────────────\n",
       "   1 │     1  1       gas     gas     generate  2020        2.0\n",
       "   2 │     2  1       gas     gas     generate  2021        2.0\n",
       "   3 │     3  1       gas     gas     generate  2022        2.0\n",
       "   4 │     4  1       gas     gas     generate  2023        2.0\n",
       "   5 │     5  1       gas     gas     generate  2024        2.0\n",
       "   6 │     6  1       gas     gas     generate  2025        2.0\n",
       "   7 │     7  1       gas     gas     generate  2026        2.0\n",
       "   8 │     8  1       gas     gas     generate  2027        2.0\n",
       "   9 │     9  1       gas     gas     generate  2028        2.0\n",
       "  10 │    10  1       gas     gas     generate  2029        2.0"
      ]
     },
     "execution_count": 110,
     "metadata": {},
     "output_type": "execute_result"
    }
   ],
   "source": [
    "filter(x -> (x[:f] == \"gas\"), dict_tables_demo[\"InputActivityRatio\"])"
   ]
  },
  {
   "cell_type": "code",
   "execution_count": 102,
   "metadata": {},
   "outputs": [
    {
     "data": {
      "text/html": [
       "<div class=\"data-frame\"><p>1 rows × 4 columns</p><table class=\"data-frame\"><thead><tr><th></th><th>id</th><th>r</th><th>t</th><th>val</th></tr><tr><th></th><th title=\"Int64\">Int64</th><th title=\"String\">String</th><th title=\"String\">String</th><th title=\"Float64\">Float64</th></tr></thead><tbody><tr><th>1</th><td>4</td><td>1</td><td>gassupply</td><td>100.0</td></tr></tbody></table></div>"
      ],
      "text/latex": [
       "\\begin{tabular}{r|cccc}\n",
       "\t& id & r & t & val\\\\\n",
       "\t\\hline\n",
       "\t& Int64 & String & String & Float64\\\\\n",
       "\t\\hline\n",
       "\t1 & 4 & 1 & gassupply & 100.0 \\\\\n",
       "\\end{tabular}\n"
      ],
      "text/plain": [
       "\u001b[1m1×4 DataFrame\u001b[0m\n",
       "\u001b[1m Row \u001b[0m│\u001b[1m id    \u001b[0m\u001b[1m r      \u001b[0m\u001b[1m t         \u001b[0m\u001b[1m val     \u001b[0m\n",
       "\u001b[1m     \u001b[0m│\u001b[90m Int64 \u001b[0m\u001b[90m String \u001b[0m\u001b[90m String    \u001b[0m\u001b[90m Float64 \u001b[0m\n",
       "─────┼───────────────────────────────────\n",
       "   1 │     4  1       gassupply    100.0"
      ]
     },
     "execution_count": 102,
     "metadata": {},
     "output_type": "execute_result"
    }
   ],
   "source": [
    "filter(x -> (x[:t] == \"gassupply\"), dict_tables_demo[\"OperationalLife\"])"
   ]
  },
  {
   "cell_type": "code",
   "execution_count": null,
   "metadata": {},
   "outputs": [],
   "source": []
  }
 ],
 "metadata": {
  "kernelspec": {
   "display_name": "Julia 1.7.3",
   "language": "julia",
   "name": "julia-1.7"
  },
  "language_info": {
   "file_extension": ".jl",
   "mimetype": "application/julia",
   "name": "julia",
   "version": "1.7.3"
  }
 },
 "nbformat": 4,
 "nbformat_minor": 4
}
