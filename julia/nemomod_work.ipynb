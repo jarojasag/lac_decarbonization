{
 "cells": [
  {
   "cell_type": "code",
   "execution_count": 2,
   "metadata": {},
   "outputs": [
    {
     "name": "stderr",
     "output_type": "stream",
     "text": [
      "\u001b[32m\u001b[1m  Activating\u001b[22m\u001b[39m project at `~/Documents/Projects/git_jbus/lac_decarbonization/julia`\n"
     ]
    },
    {
     "data": {
      "text/plain": [
       "\"/Users/jsyme/Documents/Projects/git_jbus/lac_decarbonization/tmp/nemomod_intermediate_database.sqlite\""
      ]
     },
     "execution_count": 2,
     "metadata": {},
     "output_type": "execute_result"
    }
   ],
   "source": [
    "using Pkg\n",
    "Pkg.activate(\".\")\n",
    "\n",
    "using DataFrames\n",
    "using NemoMod\n",
    "using SQLite\n",
    "using Cbc\n",
    "using JuMP\n",
    "\n",
    "include(\"setup_analysis.jl\")"
   ]
  },
  {
   "cell_type": "code",
   "execution_count": 3,
   "metadata": {},
   "outputs": [
    {
     "data": {
      "text/plain": [
       "true"
      ]
     },
     "execution_count": 3,
     "metadata": {},
     "output_type": "execute_result"
    }
   ],
   "source": [
    "ispath(fp_sqlite_nemomod_db_tmp)"
   ]
  },
  {
   "cell_type": "code",
   "execution_count": null,
   "metadata": {},
   "outputs": [],
   "source": []
  },
  {
   "cell_type": "code",
   "execution_count": 32,
   "metadata": {},
   "outputs": [
    {
     "name": "stdout",
     "output_type": "stream",
     "text": [
      "2022-14-Aug 13:49:56.453 Opened SQLite database at /Users/jsyme/Documents/Projects/git_jbus/lac_decarbonization/tmp/testingdb.sqlite.\n",
      "2022-14-Aug 13:49:56.684 Added NEMO structure to SQLite database at /Users/jsyme/Documents/Projects/git_jbus/lac_decarbonization/tmp/testingdb.sqlite.\n"
     ]
    },
    {
     "data": {
      "text/plain": [
       "SQLite.DB(\"/Users/jsyme/Documents/Projects/git_jbus/lac_decarbonization/tmp/testingdb.sqlite\")"
      ]
     },
     "execution_count": 32,
     "metadata": {},
     "output_type": "execute_result"
    }
   ],
   "source": [
    "!ispath(dir_tmp) ? mkdir(dir_tmp) : nothing\n",
    "fp_db = joinpath(dir_tmp, \"testingdb.sqlite\")\n",
    "#createnemodb(fp_db)"
   ]
  },
  {
   "cell_type": "code",
   "execution_count": 31,
   "metadata": {},
   "outputs": [
    {
     "name": "stdout",
     "output_type": "stream",
     "text": [
      "2022-14-Aug 13:18:02.188 Opened SQLite database at /Users/jsyme/Documents/Projects/git_jbus/lac_decarbonization/tmp/testingdb.sqlite.\n",
      "2022-14-Aug 13:18:02.267 Added NEMO structure to SQLite database at /Users/jsyme/Documents/Projects/git_jbus/lac_decarbonization/tmp/testingdb.sqlite.\n"
     ]
    },
    {
     "data": {
      "text/plain": [
       "SQLite.DB(\"/Users/jsyme/Documents/Projects/git_jbus/lac_decarbonization/tmp/testingdb.sqlite\")"
      ]
     },
     "execution_count": 31,
     "metadata": {},
     "output_type": "execute_result"
    }
   ],
   "source": [
    "rm(fp_db)\n",
    "createnemodb(fp_db)"
   ]
  },
  {
   "cell_type": "code",
   "execution_count": 10,
   "metadata": {},
   "outputs": [],
   "source": [
    "\n",
    "db2 = SQLite.DB(fp_db)\n",
    "\n",
    "dict_tables2 = Dict{String, Dat aFrame}()\n",
    "tables_vary2 = []\n",
    "\n",
    "tabs = SQLite.tables(db2)[1]\n",
    "table_name = 0\n",
    "for k in 1:length(tabs)\n",
    "    table_name = tabs[k]\n",
    "    df_tmp = DBInterface.execute(db2, \"select * from $(table_name)\") |> DataFrame\n",
    "    dict_tables2[table_name] = df_tmp\n",
    "    (nrow(df_tmp) > 0) ? push!(tables_vary2, table_name) : nothing\n",
    "end\n",
    "\n"
   ]
  },
  {
   "cell_type": "code",
   "execution_count": 29,
   "metadata": {},
   "outputs": [
    {
     "data": {
      "text/plain": [
       "SQLite.Query(SQLite.Stmt(SQLite.DB(\"/Users/jsyme/Documents/Projects/git_jbus/lac_decarbonization/tmp/testingdb.sqlite\"), 94), Base.RefValue{Int32}(100), [:sql], Type[Union{Missing, String}], Dict(:sql => 1), Base.RefValue{Int64}(0))"
      ]
     },
     "execution_count": 29,
     "metadata": {},
     "output_type": "execute_result"
    }
   ],
   "source": [
    "df_out = DBInterface.execute(db2, \"select sql from sqlite_master where type = 'index';\")\n",
    "\n"
   ]
  },
  {
   "cell_type": "markdown",
   "metadata": {},
   "source": [
    "### Try running the model"
   ]
  },
  {
   "cell_type": "code",
   "execution_count": 11,
   "metadata": {
    "collapsed": true,
    "jupyter": {
     "outputs_hidden": true
    }
   },
   "outputs": [
    {
     "name": "stdout",
     "output_type": "stream",
     "text": [
      "2022-14-Aug 18:47:37.208 Started modeling scenario.\n",
      "2022-14-Aug 18:47:37.215 Validated run-time arguments.\n",
      "2022-14-Aug 18:47:37.224 Connected to scenario database. Path = /Users/jsyme/Documents/Projects/git_jbus/lac_decarbonization/tmp/nemomod_intermediate_database.sqlite.\n",
      "2022-14-Aug 18:47:37.257 Dropped pre-existing result tables from database.\n",
      "2022-14-Aug 18:47:37.258 Verified that transmission modeling is not enabled.\n",
      "2022-14-Aug 18:47:37.366 Created parameter views and indices.\n",
      "2022-14-Aug 18:47:37.380 Created temporary tables.\n",
      "2022-14-Aug 18:47:37.680 Executed core database queries.\n",
      "2022-14-Aug 18:47:37.692 Defined dimensions.\n",
      "2022-14-Aug 18:47:37.696 Defined demand variables.\n",
      "2022-14-Aug 18:47:37.702 Defined storage variables.\n",
      "2022-14-Aug 18:47:37.703 Defined capacity variables.\n",
      "2022-14-Aug 18:47:37.879 Defined activity variables.\n",
      "2022-14-Aug 18:47:37.880 Defined costing variables.\n",
      "2022-14-Aug 18:47:37.880 Defined reserve margin variables.\n",
      "2022-14-Aug 18:47:37.882 Defined emissions variables.\n",
      "2022-14-Aug 18:47:37.882 Defined combined nodal and non-nodal variables.\n",
      "2022-14-Aug 18:47:37.882 Finished defining model variables.\n",
      "2022-14-Aug 18:47:37.882 Scheduled task to add constraints to model.\n",
      "2022-14-Aug 18:47:37.883 Queued constraint CAa1_TotalNewCapacity for creation.\n",
      "2022-14-Aug 18:47:37.885 Queued constraint CAa2_TotalAnnualCapacity for creation.\n",
      "2022-14-Aug 18:47:37.887 Queued constraint VRateOfActivity1 for creation.\n",
      "2022-14-Aug 18:47:37.887 Queued constraint RampRate for creation.\n",
      "2022-14-Aug 18:47:37.889 Queued constraint CAa3_TotalActivityOfEachTechnology for creation.\n",
      "2022-14-Aug 18:47:37.899 Queued constraint CAa4_Constraint_Capacity for creation.\n",
      "2022-14-Aug 18:47:37.916 Queued constraint MinimumTechnologyUtilization for creation.\n",
      "2022-14-Aug 18:47:37.916 Queued constraint EBa2_RateOfFuelProduction2 for creation.\n",
      "2022-14-Aug 18:47:37.940 Queued constraint GenerationAnnualNN for creation.\n",
      "2022-14-Aug 18:47:37.940 Queued constraint ReGenerationAnnualNN for creation.\n",
      "2022-14-Aug 18:47:37.940 Queued constraint EBa3_RateOfFuelProduction3 for creation.\n",
      "2022-14-Aug 18:47:37.963 Queued constraint VRateOfProduction1 for creation.\n",
      "2022-14-Aug 18:47:37.968 Queued constraint EBa5_RateOfFuelUse2 for creation.\n",
      "2022-14-Aug 18:47:37.980 Queued constraint EBa6_RateOfFuelUse3 for creation.\n",
      "2022-14-Aug 18:47:37.986 Queued constraint VRateOfUse1 for creation.\n",
      "2022-14-Aug 18:47:37.992 Queued constraint EBa7_EnergyBalanceEachTS1 for creation.\n",
      "2022-14-Aug 18:47:38.013 Queued constraint EBa8_EnergyBalanceEachTS2 for creation.\n",
      "2022-14-Aug 18:47:38.014 Queued constraint EBa9_EnergyBalanceEachTS3 for creation.\n",
      "2022-14-Aug 18:47:38.015 Queued constraint EBa11_EnergyBalanceEachTS5 for creation.\n",
      "2022-14-Aug 18:47:38.030 Queued constraint EBb0_EnergyBalanceEachYear for creation.\n",
      "2022-14-Aug 18:47:38.031 Queued constraint EBb1_EnergyBalanceEachYear for creation.\n",
      "2022-14-Aug 18:47:38.033 Queued constraint EBb2_EnergyBalanceEachYear for creation.\n",
      "2022-14-Aug 18:47:38.034 Queued constraint EBb3_EnergyBalanceEachYear for creation.\n",
      "2022-14-Aug 18:47:38.035 Queued constraint EBb5_EnergyBalanceEachYear for creation.\n",
      "2022-14-Aug 18:47:38.038 Queued constraint Acc3_AverageAnnualRateOfActivity for creation.\n",
      "2022-14-Aug 18:47:38.049 Queued constraint NS1_RateOfStorageCharge for creation.\n",
      "2022-14-Aug 18:47:38.060 Queued constraint NS2_RateOfStorageDischarge for creation.\n",
      "2022-14-Aug 18:47:38.065 Queued constraint NS3_StorageLevelTsGroup1Start for creation.\n",
      "2022-14-Aug 18:47:38.070 Queued constraint NS4_StorageLevelTsGroup2Start for creation.\n",
      "2022-14-Aug 18:47:38.071 Queued constraint NS5_StorageLevelTimesliceEnd for creation.\n",
      "2022-14-Aug 18:47:38.071 Queued constraint NS6_StorageLevelTsGroup2End for creation.\n",
      "2022-14-Aug 18:47:38.073 Queued constraint NS6a_StorageLevelTsGroup2NetZero for creation.\n",
      "2022-14-Aug 18:47:38.073 Queued constraint NS7_StorageLevelTsGroup1End for creation.\n",
      "2022-14-Aug 18:47:38.074 Queued constraint NS7a_StorageLevelTsGroup1NetZero for creation.\n",
      "2022-14-Aug 18:47:38.074 Queued constraint NS8_StorageLevelYearEnd for creation.\n",
      "2022-14-Aug 18:47:38.082 Queued constraint NS8a_StorageLevelYearEndNetZero for creation.\n",
      "2022-14-Aug 18:47:38.082 Queued constraint SI1_StorageUpperLimit for creation.\n",
      "2022-14-Aug 18:47:38.083 Queued constraint SI2_StorageLowerLimit for creation.\n",
      "2022-14-Aug 18:47:38.084 Queued constraint SI3_TotalNewStorage for creation.\n",
      "2022-14-Aug 18:47:38.084 Queued constraint NS9a_StorageLevelTsLowerLimit for creation.\n",
      "2022-14-Aug 18:47:38.089 Queued constraint NS9b_StorageLevelTsUpperLimit for creation.\n",
      "2022-14-Aug 18:47:38.089 Queued constraint NS10_StorageChargeLimit for creation.\n",
      "2022-14-Aug 18:47:38.091 Queued constraint NS11_StorageDischargeLimit for creation.\n",
      "2022-14-Aug 18:47:38.093 Queued constraint NS12a_StorageLevelTsGroup2LowerLimit for creation.\n",
      "2022-14-Aug 18:47:38.094 Queued constraint NS12b_StorageLevelTsGroup2UpperLimit for creation.\n",
      "2022-14-Aug 18:47:38.094 Queued constraint NS13a_StorageLevelTsGroup1LowerLimit for creation.\n",
      "2022-14-Aug 18:47:38.095 Queued constraint NS13b_StorageLevelTsGroup1UpperLimit for creation.\n",
      "2022-14-Aug 18:47:38.095 Queued constraint NS14_MaxStorageCapacity for creation.\n",
      "2022-14-Aug 18:47:38.095 Queued constraint NS15_MinStorageCapacity for creation.\n",
      "2022-14-Aug 18:47:38.095 Queued constraint NS16_MaxStorageCapacityInvestment for creation.\n",
      "2022-14-Aug 18:47:38.095 Queued constraint NS17_MinStorageCapacityInvestment for creation.\n",
      "2022-14-Aug 18:47:38.096 Queued constraint NS18_FullLoadHours for creation.\n",
      "2022-14-Aug 18:47:38.096 Queued constraint SI4a_FinancingStorage for creation.\n",
      "2022-14-Aug 18:47:38.097 Queued constraint SI4_UndiscountedCapitalInvestmentStorage for creation.\n",
      "2022-14-Aug 18:47:38.097 Queued constraint SI5_DiscountingCapitalInvestmentStorage for creation.\n",
      "2022-14-Aug 18:47:38.098 Queued constraint SI6_SalvageValueStorageAtEndOfPeriod1 for creation.\n",
      "2022-14-Aug 18:47:38.099 Queued constraint SI7_SalvageValueStorageAtEndOfPeriod2 for creation.\n",
      "2022-14-Aug 18:47:38.099 Queued constraint SI8_SalvageValueStorageAtEndOfPeriod3 for creation.\n",
      "2022-14-Aug 18:47:38.100 Queued constraint SI9_SalvageValueStorageDiscountedToStartYear for creation.\n",
      "2022-14-Aug 18:47:38.101 Queued constraint SI10_TotalDiscountedCostByStorage for creation.\n",
      "2022-14-Aug 18:47:38.101 Queued constraint CC1a_FinancingTechnology for creation.\n",
      "2022-14-Aug 18:47:38.102 Queued constraint CC1_UndiscountedCapitalInvestment for creation.\n",
      "2022-14-Aug 18:47:38.103 Queued constraint CC2_DiscountingCapitalInvestment for creation.\n",
      "2022-14-Aug 18:47:38.105 Queued constraint SV1_SalvageValueAtEndOfPeriod1 for creation.\n",
      "2022-14-Aug 18:47:38.107 Queued constraint SV2_SalvageValueAtEndOfPeriod2 for creation.\n",
      "2022-14-Aug 18:47:38.108 Queued constraint SV3_SalvageValueAtEndOfPeriod3 for creation.\n",
      "2022-14-Aug 18:47:38.109 Queued constraint SV4_SalvageValueDiscountedToStartYear for creation.\n",
      "2022-14-Aug 18:47:38.109 Queued constraint OC1_OperatingCostsVariable for creation.\n",
      "2022-14-Aug 18:47:38.110 Queued constraint OC2_OperatingCostsFixedAnnual for creation.\n",
      "2022-14-Aug 18:47:38.111 Queued constraint OC3_OperatingCostsTotalAnnual for creation.\n",
      "2022-14-Aug 18:47:38.111 Queued constraint OC4_DiscountedOperatingCostsTotalAnnual for creation.\n",
      "2022-14-Aug 18:47:38.115 Queued constraint TDC1_TotalDiscountedCostByTechnology for creation.\n",
      "2022-14-Aug 18:47:38.116 Queued constraint TDC2_TotalDiscountedCost for creation.\n",
      "2022-14-Aug 18:47:38.116 Queued constraint TCC1_TotalAnnualMaxCapacityConstraint for creation.\n",
      "2022-14-Aug 18:47:38.118 Queued constraint TCC2_TotalAnnualMinCapacityConstraint for creation.\n",
      "2022-14-Aug 18:47:38.118 Queued constraint NCC1_TotalAnnualMaxNewCapacityConstraint for creation.\n",
      "2022-14-Aug 18:47:38.119 Queued constraint NCC2_TotalAnnualMinNewCapacityConstraint for creation.\n",
      "2022-14-Aug 18:47:38.120 Queued constraint RM1_ReserveMargin_TechnologiesIncluded_In_Activity_Units for creation.\n",
      "2022-14-Aug 18:47:38.121 Queued constraint RM2_ReserveMargin_FuelsIncluded for creation.\n",
      "2022-14-Aug 18:47:38.123 Queued constraint RM3_ReserveMargin_Constraint for creation.\n",
      "2022-14-Aug 18:47:38.124 Queued constraint RE1_FuelProductionByTechnologyAnnual for creation.\n",
      "2022-14-Aug 18:47:38.129 Queued constraint FuelUseByTechnologyAnnual for creation.\n",
      "2022-14-Aug 18:47:38.135 Queued constraint RE2_ProductionTarget for creation.\n",
      "2022-14-Aug 18:47:38.137 Queued constraint MinShareProduction for creation.\n",
      "2022-14-Aug 18:47:38.137 Queued constraint E2a_AnnualEmissionProduction for creation.\n",
      "2022-14-Aug 18:47:38.145 Queued constraint E2b_AnnualEmissionProduction for creation.\n",
      "2022-14-Aug 18:47:38.150 Queued constraint E4_EmissionsPenaltyByTechnology for creation.\n",
      "2022-14-Aug 18:47:38.150 Queued constraint E5_DiscountedEmissionsPenaltyByTechnology for creation.\n",
      "2022-14-Aug 18:47:38.153 Queued constraint E6_EmissionsAccounting1 for creation.\n",
      "2022-14-Aug 18:47:38.163 Queued constraint E7_EmissionsAccounting2 for creation.\n",
      "2022-14-Aug 18:47:38.164 Queued constraint E8_AnnualEmissionsLimit for creation.\n",
      "2022-14-Aug 18:47:38.165 Queued constraint E9_ModelPeriodEmissionsLimit for creation.\n",
      "2022-14-Aug 18:47:38.166 Queued 92 standard constraints for creation.\n",
      "2022-14-Aug 18:47:38.167 Finished scheduled task to add constraints to model.\n",
      "2022-14-Aug 18:47:38.167 Added 92 standard constraints to model.\n",
      "2022-14-Aug 18:47:38.167 Defined model objective.\n",
      "2022-14-Aug 18:47:38.408 Solved model. Solver status = INFEASIBLE_OR_UNBOUNDED.\n",
      "2022-14-Aug 18:47:38.412 Solver did not find an optimal solution for model. No results will be saved to database.\n",
      "2022-14-Aug 18:47:38.423 Dropped temporary tables.\n",
      "2022-14-Aug 18:47:38.423 Finished modeling scenario.\n",
      "  1.237277 seconds (1.94 M allocations: 104.270 MiB)\n",
      "Presolve 996 (-15662) rows, 739 (-15651) columns and 3651 (-40496) elements\n",
      "Perturbing problem by 0.001% of 10182.624 - largest nonzero change 0.010257592 ( 10.051585%) - largest zero change 0.010221777\n",
      "0  Obj 206210.49 Primal inf 474.60113 (108)\n",
      "94  Obj 231130.82 Primal inf 4.1779709 (144)\n",
      "188  Obj 323785.46 Primal inf 590.73876 (196)\n",
      "245  Obj 3050591.3 Primal inf 1502.1098 (177)\n",
      "Primal infeasible - objective value 3050591.3\n",
      "Presolved problem not optimal, resolve after postsolve\n",
      "After Postsolve, objective 3050534.9, infeasibilities - dual 2.8870749 (313), primal 53619.529 (268)\n",
      "Perturbing problem by 1e-08% of 18.930224 - largest nonzero change 0 ( 0%) - largest zero change 9.8622696e-05\n",
      "0  Obj 3050534.9 Primal inf 6715.7683 (372)\n",
      "3  Obj 3050534.9 Primal inf 11324.156 (431)\n",
      "Primal infeasible - objective value 3050534.9\n",
      "PrimalInfeasible objective 3050534.94 - 248 iterations time 0.072, Presolve 0.04\n"
     ]
    },
    {
     "data": {
      "text/plain": [
       "INFEASIBLE_OR_UNBOUNDED::TerminationStatusCode = 6"
      ]
     },
     "execution_count": 11,
     "metadata": {},
     "output_type": "execute_result"
    }
   ],
   "source": [
    "@time NemoMod.calculatescenario(\n",
    "    fp_sqlite_nemomod_db_tmp; \n",
    "    jumpmodel = Model(Cbc.Optimizer),\n",
    "    numprocs = 1\n",
    ")"
   ]
  },
  {
   "cell_type": "code",
   "execution_count": 64,
   "metadata": {},
   "outputs": [
    {
     "data": {
      "text/plain": [
       "Set{String} with 6 elements:\n",
       "  \"ModelPeriodEmissionLimit\"\n",
       "  \"ModelPeriodExogenousEmission\"\n",
       "  \"AnnualEmissionLimit\"\n",
       "  \"EmissionsPenalty\"\n",
       "  \"AnnualExogenousEmission\"\n",
       "  \"EmissionActivityRatio\""
      ]
     },
     "execution_count": 64,
     "metadata": {},
     "output_type": "execute_result"
    }
   ],
   "source": [
    "filter(x -> occursin(\"Emission\", x), keys(dict_tables_demo))"
   ]
  },
  {
   "cell_type": "code",
   "execution_count": 119,
   "metadata": {},
   "outputs": [],
   "source": [
    "using GLPK\n",
    "using Clp\n"
   ]
  },
  {
   "cell_type": "code",
   "execution_count": 126,
   "metadata": {},
   "outputs": [
    {
     "name": "stdout",
     "output_type": "stream",
     "text": [
      "2022-17-Aug 20:20:24.818 Started modeling scenario.\n",
      "2022-17-Aug 20:20:24.819 Validated run-time arguments.\n",
      "2022-17-Aug 20:20:24.823 Connected to scenario database. Path = /Users/jsyme/.julia/packages/NemoMod/vg6Tx/test/storage_test.sqlite.\n",
      "2022-17-Aug 20:20:24.838 Dropped pre-existing result tables from database.\n",
      "2022-17-Aug 20:20:24.838 Verified that transmission modeling is not enabled.\n",
      "2022-17-Aug 20:20:24.885 Created parameter views and indices.\n",
      "2022-17-Aug 20:20:24.894 Created temporary tables.\n",
      "2022-17-Aug 20:20:25.190 Executed core database queries.\n",
      "2022-17-Aug 20:20:25.193 Defined dimensions.\n",
      "2022-17-Aug 20:20:25.494 Defined demand variables.\n",
      "2022-17-Aug 20:20:25.495 Defined storage variables.\n",
      "2022-17-Aug 20:20:25.495 Defined capacity variables.\n",
      "2022-17-Aug 20:20:25.651 Defined activity variables.\n",
      "2022-17-Aug 20:20:25.676 Defined costing variables.\n",
      "2022-17-Aug 20:20:25.677 Defined reserve margin variables.\n",
      "2022-17-Aug 20:20:25.677 Defined emissions variables.\n",
      "2022-17-Aug 20:20:25.677 Defined combined nodal and non-nodal variables.\n",
      "2022-17-Aug 20:20:25.677 Finished defining model variables.\n",
      "2022-17-Aug 20:20:25.677 Scheduled task to add constraints to model.\n",
      "2022-17-Aug 20:20:25.677 Queued constraint CAa1_TotalNewCapacity for creation.\n",
      "2022-17-Aug 20:20:25.679 Queued constraint CAa2_TotalAnnualCapacity for creation.\n",
      "2022-17-Aug 20:20:25.679 Queued constraint VRateOfActivity1 for creation.\n",
      "2022-17-Aug 20:20:25.680 Queued constraint RampRate for creation.\n",
      "2022-17-Aug 20:20:25.681 Queued constraint CAa3_TotalActivityOfEachTechnology for creation.\n",
      "2022-17-Aug 20:20:25.698 Queued constraint CAa4_Constraint_Capacity for creation.\n",
      "2022-17-Aug 20:20:25.735 Queued constraint MinimumTechnologyUtilization for creation.\n",
      "2022-17-Aug 20:20:25.735 Queued constraint EBa2_RateOfFuelProduction2 for creation.\n",
      "2022-17-Aug 20:20:25.769 Queued constraint GenerationAnnualNN for creation.\n",
      "2022-17-Aug 20:20:25.769 Queued constraint ReGenerationAnnualNN for creation.\n",
      "2022-17-Aug 20:20:25.769 Queued constraint EBa3_RateOfFuelProduction3 for creation.\n",
      "2022-17-Aug 20:20:25.784 Queued constraint VRateOfProduction1 for creation.\n",
      "2022-17-Aug 20:20:25.787 Queued constraint EBa5_RateOfFuelUse2 for creation.\n",
      "2022-17-Aug 20:20:25.802 Queued constraint EBa6_RateOfFuelUse3 for creation.\n",
      "2022-17-Aug 20:20:25.811 Queued constraint VRateOfUse1 for creation.\n",
      "2022-17-Aug 20:20:25.814 Queued constraint EBa7_EnergyBalanceEachTS1 for creation.\n",
      "2022-17-Aug 20:20:25.837 Queued constraint EBa8_EnergyBalanceEachTS2 for creation.\n",
      "2022-17-Aug 20:20:25.837 Queued constraint EBa9_EnergyBalanceEachTS3 for creation.\n",
      "2022-17-Aug 20:20:25.839 Queued constraint EBa11_EnergyBalanceEachTS5 for creation.\n",
      "2022-17-Aug 20:20:25.860 Queued constraint EBb0_EnergyBalanceEachYear for creation.\n",
      "2022-17-Aug 20:20:25.861 Queued constraint EBb1_EnergyBalanceEachYear for creation.\n",
      "2022-17-Aug 20:20:25.862 Queued constraint EBb2_EnergyBalanceEachYear for creation.\n",
      "2022-17-Aug 20:20:25.863 Queued constraint EBb3_EnergyBalanceEachYear for creation.\n",
      "2022-17-Aug 20:20:25.863 Queued constraint EBb5_EnergyBalanceEachYear for creation.\n",
      "2022-17-Aug 20:20:25.864 Queued constraint Acc3_AverageAnnualRateOfActivity for creation.\n",
      "2022-17-Aug 20:20:26.030 Queued constraint NS1_RateOfStorageCharge for creation.\n",
      "2022-17-Aug 20:20:26.044 Queued constraint NS2_RateOfStorageDischarge for creation.\n",
      "2022-17-Aug 20:20:26.057 Queued constraint NS3_StorageLevelTsGroup1Start for creation.\n",
      "2022-17-Aug 20:20:26.072 Queued constraint NS4_StorageLevelTsGroup2Start for creation.\n",
      "2022-17-Aug 20:20:26.073 Queued constraint NS5_StorageLevelTimesliceEnd for creation.\n",
      "2022-17-Aug 20:20:26.073 Queued constraint NS6_StorageLevelTsGroup2End for creation.\n",
      "2022-17-Aug 20:20:26.076 Queued constraint NS6a_StorageLevelTsGroup2NetZero for creation.\n",
      "2022-17-Aug 20:20:26.076 Queued constraint NS7_StorageLevelTsGroup1End for creation.\n",
      "2022-17-Aug 20:20:26.077 Queued constraint NS7a_StorageLevelTsGroup1NetZero for creation.\n",
      "2022-17-Aug 20:20:26.077 Queued constraint NS8_StorageLevelYearEnd for creation.\n",
      "2022-17-Aug 20:20:26.092 Queued constraint NS8a_StorageLevelYearEndNetZero for creation.\n",
      "2022-17-Aug 20:20:26.092 Queued constraint SI1_StorageUpperLimit for creation.\n",
      "2022-17-Aug 20:20:26.093 Queued constraint SI2_StorageLowerLimit for creation.\n",
      "2022-17-Aug 20:20:26.093 Queued constraint SI3_TotalNewStorage for creation.\n",
      "2022-17-Aug 20:20:26.094 Queued constraint NS9a_StorageLevelTsLowerLimit for creation.\n",
      "2022-17-Aug 20:20:26.100 Queued constraint NS9b_StorageLevelTsUpperLimit for creation.\n",
      "2022-17-Aug 20:20:26.100 Queued constraint NS10_StorageChargeLimit for creation.\n",
      "2022-17-Aug 20:20:26.106 Queued constraint NS11_StorageDischargeLimit for creation.\n",
      "2022-17-Aug 20:20:26.112 Queued constraint NS12a_StorageLevelTsGroup2LowerLimit for creation.\n",
      "2022-17-Aug 20:20:26.112 Queued constraint NS12b_StorageLevelTsGroup2UpperLimit for creation.\n",
      "2022-17-Aug 20:20:26.112 Queued constraint NS13a_StorageLevelTsGroup1LowerLimit for creation.\n",
      "2022-17-Aug 20:20:26.113 Queued constraint NS13b_StorageLevelTsGroup1UpperLimit for creation.\n",
      "2022-17-Aug 20:20:26.113 Queued constraint NS14_MaxStorageCapacity for creation.\n",
      "2022-17-Aug 20:20:26.113 Queued constraint NS15_MinStorageCapacity for creation.\n",
      "2022-17-Aug 20:20:26.113 Queued constraint NS16_MaxStorageCapacityInvestment for creation.\n",
      "2022-17-Aug 20:20:26.113 Queued constraint NS17_MinStorageCapacityInvestment for creation.\n",
      "2022-17-Aug 20:20:26.114 Queued constraint NS18_FullLoadHours for creation.\n",
      "2022-17-Aug 20:20:26.114 Queued constraint SI4a_FinancingStorage for creation.\n",
      "2022-17-Aug 20:20:26.115 Queued constraint SI4_UndiscountedCapitalInvestmentStorage for creation.\n",
      "2022-17-Aug 20:20:26.115 Queued constraint SI5_DiscountingCapitalInvestmentStorage for creation.\n",
      "2022-17-Aug 20:20:26.116 Queued constraint SI6_SalvageValueStorageAtEndOfPeriod1 for creation.\n",
      "2022-17-Aug 20:20:26.116 Queued constraint SI7_SalvageValueStorageAtEndOfPeriod2 for creation.\n",
      "2022-17-Aug 20:20:26.117 Queued constraint SI8_SalvageValueStorageAtEndOfPeriod3 for creation.\n",
      "2022-17-Aug 20:20:26.117 Queued constraint SI9_SalvageValueStorageDiscountedToStartYear for creation.\n",
      "2022-17-Aug 20:20:26.118 Queued constraint SI10_TotalDiscountedCostByStorage for creation.\n",
      "2022-17-Aug 20:20:26.118 Queued constraint CC1a_FinancingTechnology for creation.\n",
      "2022-17-Aug 20:20:26.118 Queued constraint CC1_UndiscountedCapitalInvestment for creation.\n",
      "2022-17-Aug 20:20:26.119 Queued constraint CC2_DiscountingCapitalInvestment for creation.\n",
      "2022-17-Aug 20:20:26.121 Queued constraint SV1_SalvageValueAtEndOfPeriod1 for creation.\n",
      "2022-17-Aug 20:20:26.123 Queued constraint SV2_SalvageValueAtEndOfPeriod2 for creation.\n",
      "2022-17-Aug 20:20:26.124 Queued constraint SV3_SalvageValueAtEndOfPeriod3 for creation.\n",
      "2022-17-Aug 20:20:26.124 Queued constraint SV4_SalvageValueDiscountedToStartYear for creation.\n",
      "2022-17-Aug 20:20:26.124 Queued constraint OC1_OperatingCostsVariable for creation.\n",
      "2022-17-Aug 20:20:26.125 Queued constraint OC2_OperatingCostsFixedAnnual for creation.\n",
      "2022-17-Aug 20:20:26.126 Queued constraint OC3_OperatingCostsTotalAnnual for creation.\n",
      "2022-17-Aug 20:20:26.126 Queued constraint OC4_DiscountedOperatingCostsTotalAnnual for creation.\n",
      "2022-17-Aug 20:20:26.130 Queued constraint TDC1_TotalDiscountedCostByTechnology for creation.\n",
      "2022-17-Aug 20:20:26.131 Queued constraint TDC2_TotalDiscountedCost for creation.\n",
      "2022-17-Aug 20:20:26.131 Queued constraint TCC1_TotalAnnualMaxCapacityConstraint for creation.\n",
      "2022-17-Aug 20:20:26.131 Queued constraint TCC2_TotalAnnualMinCapacityConstraint for creation.\n",
      "2022-17-Aug 20:20:26.132 Queued constraint NCC1_TotalAnnualMaxNewCapacityConstraint for creation.\n",
      "2022-17-Aug 20:20:26.132 Queued constraint NCC2_TotalAnnualMinNewCapacityConstraint for creation.\n",
      "2022-17-Aug 20:20:26.132 Queued constraint RM1_ReserveMargin_TechnologiesIncluded_In_Activity_Units for creation.\n",
      "2022-17-Aug 20:20:26.133 Queued constraint RM2_ReserveMargin_FuelsIncluded for creation.\n",
      "2022-17-Aug 20:20:26.141 Queued constraint RM3_ReserveMargin_Constraint for creation.\n",
      "2022-17-Aug 20:20:26.148 Queued constraint RE1_FuelProductionByTechnologyAnnual for creation.\n",
      "2022-17-Aug 20:20:26.161 Queued constraint FuelUseByTechnologyAnnual for creation.\n",
      "2022-17-Aug 20:20:26.168 Queued constraint RE2_ProductionTarget for creation.\n",
      "2022-17-Aug 20:20:26.169 Queued constraint MinShareProduction for creation.\n",
      "2022-17-Aug 20:20:26.169 Queued constraint E2a_AnnualEmissionProduction for creation.\n",
      "2022-17-Aug 20:20:26.169 Queued constraint E2b_AnnualEmissionProduction for creation.\n",
      "2022-17-Aug 20:20:26.169 Queued constraint E4_EmissionsPenaltyByTechnology for creation.\n",
      "2022-17-Aug 20:20:26.169 Queued constraint E5_DiscountedEmissionsPenaltyByTechnology for creation.\n",
      "2022-17-Aug 20:20:26.173 Queued constraint E6_EmissionsAccounting1 for creation.\n",
      "2022-17-Aug 20:20:26.173 Queued constraint E7_EmissionsAccounting2 for creation.\n",
      "2022-17-Aug 20:20:26.174 Queued constraint E8_AnnualEmissionsLimit for creation.\n",
      "2022-17-Aug 20:20:26.174 Queued constraint E9_ModelPeriodEmissionsLimit for creation.\n",
      "2022-17-Aug 20:20:26.174 Queued 92 standard constraints for creation.\n",
      "2022-17-Aug 20:20:26.174 Finished scheduled task to add constraints to model.\n",
      "2022-17-Aug 20:20:26.174 Added 92 standard constraints to model.\n",
      "2022-17-Aug 20:20:26.214 Defined model objective.\n",
      "2022-17-Aug 20:20:27.336 Solved model. Solver status = OPTIMAL.\n",
      "2022-17-Aug 20:20:27.608 Saved results for vdemandnn to database.\n",
      "2022-17-Aug 20:20:27.620 Saved results for vnewcapacity to database.\n",
      "2022-17-Aug 20:20:27.633 Saved results for vtotalcapacityannual to database.\n",
      "2022-17-Aug 20:20:27.646 Saved results for vproductionbytechnologyannual to database.\n",
      "2022-17-Aug 20:20:27.898 Saved results for vproductionnn to database.\n",
      "2022-17-Aug 20:20:27.909 Saved results for vusebytechnologyannual to database.\n",
      "2022-17-Aug 20:20:28.154 Saved results for vusenn to database.\n",
      "2022-17-Aug 20:20:28.162 Saved results for vtotaldiscountedcost to database.\n",
      "2022-17-Aug 20:20:28.162 Finished saving results to database.\n",
      "2022-17-Aug 20:20:28.169 Dropped temporary tables.\n",
      "2022-17-Aug 20:20:28.169 Finished modeling scenario.\n",
      "Presolve 9303 (-39097) rows, 5900 (-37670) columns and 31379 (-97747) elements\n",
      "0  Obj 0 Primal inf 16405.888 (970) Dual inf 1.7486775e+14 (1440)\n",
      "Perturbing problem by 0.001% of 8.5040888e+08 - largest nonzero change 0.6333313 ( 0.083245842%) - largest zero change 0\n",
      "261  Obj 3970.0315 Primal inf 9399.9264 (1035) Dual inf 8.7429563e+13 (1496)\n",
      "522  Obj 3801.3189 Primal inf 8506.8171 (1036) Dual inf 8.0546539e+13 (1635)\n",
      "783  Obj 3460.8694 Primal inf 7373.7985 (1027) Dual inf 6.8526879e+13 (1741)\n",
      "1044  Obj 3673.0863 Primal inf 6307.4336 (1032) Dual inf 7.0148955e+13 (1931)\n",
      "1305  Obj 3503.8568 Primal inf 5648.132 (1059) Dual inf 9.983421e+13 (2096)\n",
      "1566  Obj 3483.5753 Primal inf 4723.3949 (1072) Dual inf 9.9520055e+13 (2234)\n",
      "1827  Obj 3440.5714 Primal inf 3621.3395 (1052) Dual inf 8.0817979e+13 (2204)\n",
      "2088  Obj 3374.3105 Primal inf 2931.6681 (1004) Dual inf 6.7480933e+13 (1916)\n",
      "2349  Obj 3724.945 Primal inf 1926.1908 (809) Dual inf 3.2021322e+13 (1763)\n",
      "2610  Obj 4056.2619 Primal inf 1177.9675 (612) Dual inf 2.0307323e+13 (1766)\n",
      "2871  Obj 4341.3473 Primal inf 597.92685 (483) Dual inf 1.1770685e+13 (1712)\n",
      "3132  Obj 5033.9995 Primal inf 146.64365 (197) Dual inf 2.7902648e+12 (1579)\n",
      "3393  Obj 5643.3172 Primal inf 63.266356 (108) Dual inf 1.6619911e+12 (1374)\n",
      "3654  Obj 7992.7353 Primal inf 1.4257519 (17) Dual inf 2.2146936e+11 (1311)\n",
      "3915  Obj 7067.8681 Dual inf 7037.8274 (895)\n",
      "4164  Obj 6383.3339 Dual inf 51027.23 (732)\n",
      "4410  Obj 5868.5894 Dual inf 25137.5 (581)\n",
      "4620  Obj 5523.5969 Dual inf 15827.236 (349)\n",
      "4641  Obj 5501.7724 Dual inf 11334.147 (396)\n",
      "4902  Obj 5148.5862 Dual inf 3565.1808 (287)\n",
      "5163  Obj 5003.3686 Dual inf 8878.7227 (263)\n",
      "5275  Obj 4942.0531 Dual inf 1544.0544 (400)\n",
      "5495  Obj 4939.2689\n",
      "5495  Obj 4938.9081 Primal inf 5.5352713e-05 (5)\n",
      "5554  Obj 4938.9081\n",
      "After Postsolve, objective 4938.9081, infeasibilities - dual 2.3090446e-05 (16), primal 1.2797428e-05 (9)\n",
      "Presolved model was optimal, full model needs cleaning up\n",
      "0  Obj 4938.9081 Primal inf 1.2532348e-06 (4) Dual inf 1.8772655e+14 (1078)\n",
      "End of values pass after 2 iterations\n",
      "2  Obj 4938.9081 Primal inf 1.2532348e-06 (4) Dual inf 1.8772655e+14 (1078)\n",
      "202  Obj 4938.9081 Dual inf 151.71549 (187)\n",
      "221  Obj 4938.9081\n",
      "Optimal - objective value 4938.9081\n",
      "Optimal objective 4938.90811 - 5775 iterations time 0.812, Presolve 0.12\n"
     ]
    },
    {
     "data": {
      "text/plain": [
       "1.660792828169395e9"
      ]
     },
     "execution_count": 126,
     "metadata": {},
     "output_type": "execute_result"
    }
   ],
   "source": [
    "dbpath = normpath(joinpath(pathof(NemoMod), \"..\", \"..\", \"test\", \"storage_test.sqlite\"))\n",
    "chmod(dbpath, 0o777)\n",
    "t0 = time()\n",
    "NemoMod.calculatescenario(dbpath; jumpmodel=Model(Cbc.Optimizer), numprocs = 1)\n",
    "t1 = time()"
   ]
  },
  {
   "cell_type": "code",
   "execution_count": 128,
   "metadata": {},
   "outputs": [
    {
     "data": {
      "text/plain": [
       "3.368569850921631"
      ]
     },
     "execution_count": 128,
     "metadata": {},
     "output_type": "execute_result"
    }
   ],
   "source": [
    "t1 - t0"
   ]
  },
  {
   "cell_type": "code",
   "execution_count": 74,
   "metadata": {},
   "outputs": [],
   "source": [
    "# get tables from SISEPUEDE\n",
    "db = SQLite.DB(fp_sqlite_nemomod_db_tmp)\n",
    "\n",
    "dict_tables = Dict{String, DataFrame}()\n",
    "tables_vary = []\n",
    "\n",
    "tabs = SQLite.tables(db)[1]\n",
    "table_name = 0\n",
    "for k in 1:length(tabs)\n",
    "    table_name = tabs[k]\n",
    "    df_tmp = DBInterface.execute(db, \"select * from $(table_name)\") |> DataFrame\n",
    "    dict_tables[table_name] = df_tmp\n",
    "    (nrow(df_tmp) > 0) ? push!(tables_vary, table_name) : nothing\n",
    "end\n",
    "\n",
    "\n",
    "# get tables from DEMO\n",
    "db_demo = SQLite.DB(dbpath)\n",
    "\n",
    "dict_tables_demo = Dict{String, DataFrame}()\n",
    "tables_vary_demo = []\n",
    "\n",
    "tabs_demo = SQLite.tables(db_demo)[1]\n",
    "for k in 1:length(tabs_demo)\n",
    "    table_name = tabs_demo[k]\n",
    "    df_tmp = DBInterface.execute(db_demo, \"select * from $(table_name)\") |> DataFrame\n",
    "    dict_tables_demo[table_name] = df_tmp\n",
    "    (nrow(df_tmp) > 0) ? push!(tables_vary_demo, table_name) : nothing\n",
    "end"
   ]
  },
  {
   "cell_type": "code",
   "execution_count": 10,
   "metadata": {},
   "outputs": [
    {
     "name": "stdout",
     "output_type": "stream",
     "text": [
      "StorageLevelStart\n",
      "StorageFullLoadHours\n"
     ]
    }
   ],
   "source": [
    "#setdiff(keys(dict_tables_demo), keys(dict_tables))\n",
    "for k in keys(dict_tables_demo)\n",
    "    #((\"f\" in names(dict_tables_demo[k])) & (nrow(dict_tables_demo[k]) > 0)) ? println(k) : nothing\n",
    "    if k in keys(dict_tables)\n",
    "        if (nrow(dict_tables_demo[k]) != 0) & (nrow(dict_tables[k]) == 0)\n",
    "            println(k)\n",
    "        end\n",
    "    end\n",
    "        \n",
    "end\n",
    "#dict_tables_demo[\"InputActivityRatio\"]"
   ]
  },
  {
   "cell_type": "code",
   "execution_count": 19,
   "metadata": {
    "collapsed": true,
    "jupyter": {
     "outputs_hidden": true
    }
   },
   "outputs": [
    {
     "data": {
      "text/html": [
       "<div class=\"data-frame\"><p>5 rows × 7 columns</p><table class=\"data-frame\"><thead><tr><th></th><th>id</th><th>r</th><th>t</th><th>f</th><th>m</th><th>y</th><th>val</th></tr><tr><th></th><th title=\"Int64\">Int64</th><th title=\"String\">String</th><th title=\"String\">String</th><th title=\"String\">String</th><th title=\"String\">String</th><th title=\"String\">String</th><th title=\"Float64\">Float64</th></tr></thead><tbody><tr><th>1</th><td>6</td><td>1</td><td>gas</td><td>electricity</td><td>generate</td><td>2025</td><td>1.0</td></tr><tr><th>2</th><td>16</td><td>1</td><td>solar</td><td>electricity</td><td>generate</td><td>2025</td><td>1.0</td></tr><tr><th>3</th><td>26</td><td>1</td><td>storage1</td><td>electricity</td><td>generate</td><td>2025</td><td>1.0</td></tr><tr><th>4</th><td>36</td><td>1</td><td>gassupply</td><td>gas</td><td>generate</td><td>2025</td><td>1.0</td></tr><tr><th>5</th><td>46</td><td>1</td><td>solarsupply</td><td>solar</td><td>generate</td><td>2025</td><td>1.0</td></tr></tbody></table></div>"
      ],
      "text/latex": [
       "\\begin{tabular}{r|ccccccc}\n",
       "\t& id & r & t & f & m & y & val\\\\\n",
       "\t\\hline\n",
       "\t& Int64 & String & String & String & String & String & Float64\\\\\n",
       "\t\\hline\n",
       "\t1 & 6 & 1 & gas & electricity & generate & 2025 & 1.0 \\\\\n",
       "\t2 & 16 & 1 & solar & electricity & generate & 2025 & 1.0 \\\\\n",
       "\t3 & 26 & 1 & storage1 & electricity & generate & 2025 & 1.0 \\\\\n",
       "\t4 & 36 & 1 & gassupply & gas & generate & 2025 & 1.0 \\\\\n",
       "\t5 & 46 & 1 & solarsupply & solar & generate & 2025 & 1.0 \\\\\n",
       "\\end{tabular}\n"
      ],
      "text/plain": [
       "\u001b[1m5×7 DataFrame\u001b[0m\n",
       "\u001b[1m Row \u001b[0m│\u001b[1m id    \u001b[0m\u001b[1m r      \u001b[0m\u001b[1m t           \u001b[0m\u001b[1m f           \u001b[0m\u001b[1m m        \u001b[0m\u001b[1m y      \u001b[0m\u001b[1m val     \u001b[0m\n",
       "\u001b[1m     \u001b[0m│\u001b[90m Int64 \u001b[0m\u001b[90m String \u001b[0m\u001b[90m String      \u001b[0m\u001b[90m String      \u001b[0m\u001b[90m String   \u001b[0m\u001b[90m String \u001b[0m\u001b[90m Float64 \u001b[0m\n",
       "─────┼────────────────────────────────────────────────────────────────────\n",
       "   1 │     6  1       gas          electricity  generate  2025        1.0\n",
       "   2 │    16  1       solar        electricity  generate  2025        1.0\n",
       "   3 │    26  1       storage1     electricity  generate  2025        1.0\n",
       "   4 │    36  1       gassupply    gas          generate  2025        1.0\n",
       "   5 │    46  1       solarsupply  solar        generate  2025        1.0"
      ]
     },
     "execution_count": 19,
     "metadata": {},
     "output_type": "execute_result"
    }
   ],
   "source": [
    "unique(dict_tables_demo[\"OutputActivityRatio\"][:, :f])\n",
    "\n",
    "filter(x -> (x[:y] == \"2025\"), dict_tables_demo[\"OutputActivityRatio\"])"
   ]
  },
  {
   "cell_type": "code",
   "execution_count": 47,
   "metadata": {},
   "outputs": [
    {
     "name": "stdout",
     "output_type": "stream",
     "text": [
      "OperationalLife\n",
      "OutputActivityRatio\n",
      "vproductionbytechnologyannual\n",
      "vnewcapacity\n",
      "vtotalcapacityannual\n"
     ]
    }
   ],
   "source": [
    "for k in keys(dict_tables_demo)\n",
    "    \n",
    "    if \"t\" in names(dict_tables_demo[k])\n",
    "        ((\"gasssupply\" in dict_tables_demo[k][:, :t]) | (\"solarsupply\" in dict_tables_demo[k][:, :t])) ? println(k) : nothing\n",
    "    end\n",
    "end"
   ]
  },
  {
   "cell_type": "code",
   "execution_count": 80,
   "metadata": {},
   "outputs": [
    {
     "data": {
      "text/plain": [
       "5-element Vector{String}:\n",
       " \"gas\"\n",
       " \"solar\"\n",
       " \"storage1\"\n",
       " \"gassupply\"\n",
       " \"solarsupply\""
      ]
     },
     "execution_count": 80,
     "metadata": {},
     "output_type": "execute_result"
    }
   ],
   "source": [
    "unique(dict_tables_demo[\"OutputActivityRatio\"][:, :t])"
   ]
  },
  {
   "cell_type": "code",
   "execution_count": 86,
   "metadata": {},
   "outputs": [
    {
     "data": {
      "text/html": [
       "<div class=\"data-frame\"><p>10 rows × 7 columns</p><table class=\"data-frame\"><thead><tr><th></th><th>id</th><th>r</th><th>t</th><th>f</th><th>m</th><th>y</th><th>val</th></tr><tr><th></th><th title=\"Int64\">Int64</th><th title=\"String\">String</th><th title=\"String\">String</th><th title=\"String\">String</th><th title=\"String\">String</th><th title=\"String\">String</th><th title=\"Float64\">Float64</th></tr></thead><tbody><tr><th>1</th><td>1</td><td>1</td><td>gas</td><td>electricity</td><td>generate</td><td>2020</td><td>1.0</td></tr><tr><th>2</th><td>2</td><td>1</td><td>gas</td><td>electricity</td><td>generate</td><td>2021</td><td>1.0</td></tr><tr><th>3</th><td>3</td><td>1</td><td>gas</td><td>electricity</td><td>generate</td><td>2022</td><td>1.0</td></tr><tr><th>4</th><td>4</td><td>1</td><td>gas</td><td>electricity</td><td>generate</td><td>2023</td><td>1.0</td></tr><tr><th>5</th><td>5</td><td>1</td><td>gas</td><td>electricity</td><td>generate</td><td>2024</td><td>1.0</td></tr><tr><th>6</th><td>6</td><td>1</td><td>gas</td><td>electricity</td><td>generate</td><td>2025</td><td>1.0</td></tr><tr><th>7</th><td>7</td><td>1</td><td>gas</td><td>electricity</td><td>generate</td><td>2026</td><td>1.0</td></tr><tr><th>8</th><td>8</td><td>1</td><td>gas</td><td>electricity</td><td>generate</td><td>2027</td><td>1.0</td></tr><tr><th>9</th><td>9</td><td>1</td><td>gas</td><td>electricity</td><td>generate</td><td>2028</td><td>1.0</td></tr><tr><th>10</th><td>10</td><td>1</td><td>gas</td><td>electricity</td><td>generate</td><td>2029</td><td>1.0</td></tr></tbody></table></div>"
      ],
      "text/latex": [
       "\\begin{tabular}{r|ccccccc}\n",
       "\t& id & r & t & f & m & y & val\\\\\n",
       "\t\\hline\n",
       "\t& Int64 & String & String & String & String & String & Float64\\\\\n",
       "\t\\hline\n",
       "\t1 & 1 & 1 & gas & electricity & generate & 2020 & 1.0 \\\\\n",
       "\t2 & 2 & 1 & gas & electricity & generate & 2021 & 1.0 \\\\\n",
       "\t3 & 3 & 1 & gas & electricity & generate & 2022 & 1.0 \\\\\n",
       "\t4 & 4 & 1 & gas & electricity & generate & 2023 & 1.0 \\\\\n",
       "\t5 & 5 & 1 & gas & electricity & generate & 2024 & 1.0 \\\\\n",
       "\t6 & 6 & 1 & gas & electricity & generate & 2025 & 1.0 \\\\\n",
       "\t7 & 7 & 1 & gas & electricity & generate & 2026 & 1.0 \\\\\n",
       "\t8 & 8 & 1 & gas & electricity & generate & 2027 & 1.0 \\\\\n",
       "\t9 & 9 & 1 & gas & electricity & generate & 2028 & 1.0 \\\\\n",
       "\t10 & 10 & 1 & gas & electricity & generate & 2029 & 1.0 \\\\\n",
       "\\end{tabular}\n"
      ],
      "text/plain": [
       "\u001b[1m10×7 DataFrame\u001b[0m\n",
       "\u001b[1m Row \u001b[0m│\u001b[1m id    \u001b[0m\u001b[1m r      \u001b[0m\u001b[1m t      \u001b[0m\u001b[1m f           \u001b[0m\u001b[1m m        \u001b[0m\u001b[1m y      \u001b[0m\u001b[1m val     \u001b[0m\n",
       "\u001b[1m     \u001b[0m│\u001b[90m Int64 \u001b[0m\u001b[90m String \u001b[0m\u001b[90m String \u001b[0m\u001b[90m String      \u001b[0m\u001b[90m String   \u001b[0m\u001b[90m String \u001b[0m\u001b[90m Float64 \u001b[0m\n",
       "─────┼───────────────────────────────────────────────────────────────\n",
       "   1 │     1  1       gas     electricity  generate  2020        1.0\n",
       "   2 │     2  1       gas     electricity  generate  2021        1.0\n",
       "   3 │     3  1       gas     electricity  generate  2022        1.0\n",
       "   4 │     4  1       gas     electricity  generate  2023        1.0\n",
       "   5 │     5  1       gas     electricity  generate  2024        1.0\n",
       "   6 │     6  1       gas     electricity  generate  2025        1.0\n",
       "   7 │     7  1       gas     electricity  generate  2026        1.0\n",
       "   8 │     8  1       gas     electricity  generate  2027        1.0\n",
       "   9 │     9  1       gas     electricity  generate  2028        1.0\n",
       "  10 │    10  1       gas     electricity  generate  2029        1.0"
      ]
     },
     "execution_count": 86,
     "metadata": {},
     "output_type": "execute_result"
    }
   ],
   "source": [
    "filter(z -> (z[:t] == \"gas\"), dict_tables_demo[\"OutputActivityRatio\"])"
   ]
  },
  {
   "cell_type": "code",
   "execution_count": 92,
   "metadata": {},
   "outputs": [
    {
     "data": {
      "text/html": [
       "<div class=\"data-frame\"><p>10 rows × 7 columns</p><table class=\"data-frame\"><thead><tr><th></th><th>id</th><th>r</th><th>t</th><th>f</th><th>m</th><th>y</th><th>val</th></tr><tr><th></th><th title=\"Int64\">Int64</th><th title=\"String\">String</th><th title=\"String\">String</th><th title=\"String\">String</th><th title=\"String\">String</th><th title=\"String\">String</th><th title=\"Float64\">Float64</th></tr></thead><tbody><tr><th>1</th><td>1</td><td>1</td><td>gas</td><td>gas</td><td>generate</td><td>2020</td><td>2.0</td></tr><tr><th>2</th><td>2</td><td>1</td><td>gas</td><td>gas</td><td>generate</td><td>2021</td><td>2.0</td></tr><tr><th>3</th><td>3</td><td>1</td><td>gas</td><td>gas</td><td>generate</td><td>2022</td><td>2.0</td></tr><tr><th>4</th><td>4</td><td>1</td><td>gas</td><td>gas</td><td>generate</td><td>2023</td><td>2.0</td></tr><tr><th>5</th><td>5</td><td>1</td><td>gas</td><td>gas</td><td>generate</td><td>2024</td><td>2.0</td></tr><tr><th>6</th><td>6</td><td>1</td><td>gas</td><td>gas</td><td>generate</td><td>2025</td><td>2.0</td></tr><tr><th>7</th><td>7</td><td>1</td><td>gas</td><td>gas</td><td>generate</td><td>2026</td><td>2.0</td></tr><tr><th>8</th><td>8</td><td>1</td><td>gas</td><td>gas</td><td>generate</td><td>2027</td><td>2.0</td></tr><tr><th>9</th><td>9</td><td>1</td><td>gas</td><td>gas</td><td>generate</td><td>2028</td><td>2.0</td></tr><tr><th>10</th><td>10</td><td>1</td><td>gas</td><td>gas</td><td>generate</td><td>2029</td><td>2.0</td></tr></tbody></table></div>"
      ],
      "text/latex": [
       "\\begin{tabular}{r|ccccccc}\n",
       "\t& id & r & t & f & m & y & val\\\\\n",
       "\t\\hline\n",
       "\t& Int64 & String & String & String & String & String & Float64\\\\\n",
       "\t\\hline\n",
       "\t1 & 1 & 1 & gas & gas & generate & 2020 & 2.0 \\\\\n",
       "\t2 & 2 & 1 & gas & gas & generate & 2021 & 2.0 \\\\\n",
       "\t3 & 3 & 1 & gas & gas & generate & 2022 & 2.0 \\\\\n",
       "\t4 & 4 & 1 & gas & gas & generate & 2023 & 2.0 \\\\\n",
       "\t5 & 5 & 1 & gas & gas & generate & 2024 & 2.0 \\\\\n",
       "\t6 & 6 & 1 & gas & gas & generate & 2025 & 2.0 \\\\\n",
       "\t7 & 7 & 1 & gas & gas & generate & 2026 & 2.0 \\\\\n",
       "\t8 & 8 & 1 & gas & gas & generate & 2027 & 2.0 \\\\\n",
       "\t9 & 9 & 1 & gas & gas & generate & 2028 & 2.0 \\\\\n",
       "\t10 & 10 & 1 & gas & gas & generate & 2029 & 2.0 \\\\\n",
       "\\end{tabular}\n"
      ],
      "text/plain": [
       "\u001b[1m10×7 DataFrame\u001b[0m\n",
       "\u001b[1m Row \u001b[0m│\u001b[1m id    \u001b[0m\u001b[1m r      \u001b[0m\u001b[1m t      \u001b[0m\u001b[1m f      \u001b[0m\u001b[1m m        \u001b[0m\u001b[1m y      \u001b[0m\u001b[1m val     \u001b[0m\n",
       "\u001b[1m     \u001b[0m│\u001b[90m Int64 \u001b[0m\u001b[90m String \u001b[0m\u001b[90m String \u001b[0m\u001b[90m String \u001b[0m\u001b[90m String   \u001b[0m\u001b[90m String \u001b[0m\u001b[90m Float64 \u001b[0m\n",
       "─────┼──────────────────────────────────────────────────────────\n",
       "   1 │     1  1       gas     gas     generate  2020        2.0\n",
       "   2 │     2  1       gas     gas     generate  2021        2.0\n",
       "   3 │     3  1       gas     gas     generate  2022        2.0\n",
       "   4 │     4  1       gas     gas     generate  2023        2.0\n",
       "   5 │     5  1       gas     gas     generate  2024        2.0\n",
       "   6 │     6  1       gas     gas     generate  2025        2.0\n",
       "   7 │     7  1       gas     gas     generate  2026        2.0\n",
       "   8 │     8  1       gas     gas     generate  2027        2.0\n",
       "   9 │     9  1       gas     gas     generate  2028        2.0\n",
       "  10 │    10  1       gas     gas     generate  2029        2.0"
      ]
     },
     "execution_count": 92,
     "metadata": {},
     "output_type": "execute_result"
    }
   ],
   "source": [
    "filter(z -> (z[:t] == \"gas\"), dict_tables_demo[\"InputActivityRatio\"])\n",
    "\n"
   ]
  },
  {
   "cell_type": "code",
   "execution_count": 107,
   "metadata": {},
   "outputs": [
    {
     "data": {
      "text/html": [
       "<div class=\"data-frame\"><p>10 rows × 7 columns</p><table class=\"data-frame\"><thead><tr><th></th><th>id</th><th>r</th><th>t</th><th>f</th><th>m</th><th>y</th><th>val</th></tr><tr><th></th><th title=\"Int64\">Int64</th><th title=\"String\">String</th><th title=\"String\">String</th><th title=\"String\">String</th><th title=\"String\">String</th><th title=\"String\">String</th><th title=\"Float64\">Float64</th></tr></thead><tbody><tr><th>1</th><td>31</td><td>1</td><td>gassupply</td><td>gas</td><td>generate</td><td>2020</td><td>1.0</td></tr><tr><th>2</th><td>32</td><td>1</td><td>gassupply</td><td>gas</td><td>generate</td><td>2021</td><td>1.0</td></tr><tr><th>3</th><td>33</td><td>1</td><td>gassupply</td><td>gas</td><td>generate</td><td>2022</td><td>1.0</td></tr><tr><th>4</th><td>34</td><td>1</td><td>gassupply</td><td>gas</td><td>generate</td><td>2023</td><td>1.0</td></tr><tr><th>5</th><td>35</td><td>1</td><td>gassupply</td><td>gas</td><td>generate</td><td>2024</td><td>1.0</td></tr><tr><th>6</th><td>36</td><td>1</td><td>gassupply</td><td>gas</td><td>generate</td><td>2025</td><td>1.0</td></tr><tr><th>7</th><td>37</td><td>1</td><td>gassupply</td><td>gas</td><td>generate</td><td>2026</td><td>1.0</td></tr><tr><th>8</th><td>38</td><td>1</td><td>gassupply</td><td>gas</td><td>generate</td><td>2027</td><td>1.0</td></tr><tr><th>9</th><td>39</td><td>1</td><td>gassupply</td><td>gas</td><td>generate</td><td>2028</td><td>1.0</td></tr><tr><th>10</th><td>40</td><td>1</td><td>gassupply</td><td>gas</td><td>generate</td><td>2029</td><td>1.0</td></tr></tbody></table></div>"
      ],
      "text/latex": [
       "\\begin{tabular}{r|ccccccc}\n",
       "\t& id & r & t & f & m & y & val\\\\\n",
       "\t\\hline\n",
       "\t& Int64 & String & String & String & String & String & Float64\\\\\n",
       "\t\\hline\n",
       "\t1 & 31 & 1 & gassupply & gas & generate & 2020 & 1.0 \\\\\n",
       "\t2 & 32 & 1 & gassupply & gas & generate & 2021 & 1.0 \\\\\n",
       "\t3 & 33 & 1 & gassupply & gas & generate & 2022 & 1.0 \\\\\n",
       "\t4 & 34 & 1 & gassupply & gas & generate & 2023 & 1.0 \\\\\n",
       "\t5 & 35 & 1 & gassupply & gas & generate & 2024 & 1.0 \\\\\n",
       "\t6 & 36 & 1 & gassupply & gas & generate & 2025 & 1.0 \\\\\n",
       "\t7 & 37 & 1 & gassupply & gas & generate & 2026 & 1.0 \\\\\n",
       "\t8 & 38 & 1 & gassupply & gas & generate & 2027 & 1.0 \\\\\n",
       "\t9 & 39 & 1 & gassupply & gas & generate & 2028 & 1.0 \\\\\n",
       "\t10 & 40 & 1 & gassupply & gas & generate & 2029 & 1.0 \\\\\n",
       "\\end{tabular}\n"
      ],
      "text/plain": [
       "\u001b[1m10×7 DataFrame\u001b[0m\n",
       "\u001b[1m Row \u001b[0m│\u001b[1m id    \u001b[0m\u001b[1m r      \u001b[0m\u001b[1m t         \u001b[0m\u001b[1m f      \u001b[0m\u001b[1m m        \u001b[0m\u001b[1m y      \u001b[0m\u001b[1m val     \u001b[0m\n",
       "\u001b[1m     \u001b[0m│\u001b[90m Int64 \u001b[0m\u001b[90m String \u001b[0m\u001b[90m String    \u001b[0m\u001b[90m String \u001b[0m\u001b[90m String   \u001b[0m\u001b[90m String \u001b[0m\u001b[90m Float64 \u001b[0m\n",
       "─────┼─────────────────────────────────────────────────────────────\n",
       "   1 │    31  1       gassupply  gas     generate  2020        1.0\n",
       "   2 │    32  1       gassupply  gas     generate  2021        1.0\n",
       "   3 │    33  1       gassupply  gas     generate  2022        1.0\n",
       "   4 │    34  1       gassupply  gas     generate  2023        1.0\n",
       "   5 │    35  1       gassupply  gas     generate  2024        1.0\n",
       "   6 │    36  1       gassupply  gas     generate  2025        1.0\n",
       "   7 │    37  1       gassupply  gas     generate  2026        1.0\n",
       "   8 │    38  1       gassupply  gas     generate  2027        1.0\n",
       "   9 │    39  1       gassupply  gas     generate  2028        1.0\n",
       "  10 │    40  1       gassupply  gas     generate  2029        1.0"
      ]
     },
     "execution_count": 107,
     "metadata": {},
     "output_type": "execute_result"
    }
   ],
   "source": [
    "filter(x -> (x[:t] == \"gassupply\"), dict_tables_demo[\"OutputActivityRatio\"])\n",
    "\n",
    "\n"
   ]
  },
  {
   "cell_type": "code",
   "execution_count": 108,
   "metadata": {},
   "outputs": [
    {
     "name": "stdout",
     "output_type": "stream",
     "text": [
      "VariableCost\n",
      "OperationalLife\n",
      "OutputActivityRatio\n",
      "vproductionbytechnologyannual\n",
      "TECHNOLOGY\n",
      "vnewcapacity\n",
      "vtotalcapacityannual\n"
     ]
    }
   ],
   "source": [
    "for k in keys(dict_tables_demo)\n",
    "    if \"t\" in names(dict_tables_demo[k])\n",
    "        if \"gassupply\" in dict_tables_demo[k][:, :t]\n",
    "            println(k)\n",
    "        end\n",
    "    end\n",
    "    \n",
    "    if \"val\" in names(dict_tables_demo[k])\n",
    "        if \"gassupply\" in dict_tables_demo[k][:, :val]\n",
    "            println(k)\n",
    "        end\n",
    "    end\n",
    "    \n",
    "    if \"f\" in names(dict_tables_demo[k])\n",
    "        if \"gassupply\" in dict_tables_demo[k][:, :f]\n",
    "            println(k)\n",
    "        end\n",
    "    end\n",
    "end"
   ]
  },
  {
   "cell_type": "code",
   "execution_count": 109,
   "metadata": {},
   "outputs": [
    {
     "name": "stdout",
     "output_type": "stream",
     "text": [
      "vusenn\n",
      "vdemandnn\n",
      "FUEL\n",
      "vproductionnn\n",
      "OutputActivityRatio\n",
      "vusebytechnologyannual\n",
      "vproductionbytechnologyannual\n",
      "TECHNOLOGY\n",
      "InputActivityRatio\n"
     ]
    }
   ],
   "source": [
    "for k in keys(dict_tables_demo)\n",
    "    if \"f\" in names(dict_tables_demo[k])\n",
    "        if \"gas\" in dict_tables_demo[k][:, :f]\n",
    "            println(k)\n",
    "        end\n",
    "    end\n",
    "    \n",
    "    if \"val\" in names(dict_tables_demo[k])\n",
    "        if \"gas\" in dict_tables_demo[k][:, :val]\n",
    "            println(k)\n",
    "        end\n",
    "    end\n",
    "    \n",
    "   \n",
    "end"
   ]
  },
  {
   "cell_type": "code",
   "execution_count": 110,
   "metadata": {},
   "outputs": [
    {
     "data": {
      "text/html": [
       "<div class=\"data-frame\"><p>10 rows × 7 columns</p><table class=\"data-frame\"><thead><tr><th></th><th>id</th><th>r</th><th>t</th><th>f</th><th>m</th><th>y</th><th>val</th></tr><tr><th></th><th title=\"Int64\">Int64</th><th title=\"String\">String</th><th title=\"String\">String</th><th title=\"String\">String</th><th title=\"String\">String</th><th title=\"String\">String</th><th title=\"Float64\">Float64</th></tr></thead><tbody><tr><th>1</th><td>1</td><td>1</td><td>gas</td><td>gas</td><td>generate</td><td>2020</td><td>2.0</td></tr><tr><th>2</th><td>2</td><td>1</td><td>gas</td><td>gas</td><td>generate</td><td>2021</td><td>2.0</td></tr><tr><th>3</th><td>3</td><td>1</td><td>gas</td><td>gas</td><td>generate</td><td>2022</td><td>2.0</td></tr><tr><th>4</th><td>4</td><td>1</td><td>gas</td><td>gas</td><td>generate</td><td>2023</td><td>2.0</td></tr><tr><th>5</th><td>5</td><td>1</td><td>gas</td><td>gas</td><td>generate</td><td>2024</td><td>2.0</td></tr><tr><th>6</th><td>6</td><td>1</td><td>gas</td><td>gas</td><td>generate</td><td>2025</td><td>2.0</td></tr><tr><th>7</th><td>7</td><td>1</td><td>gas</td><td>gas</td><td>generate</td><td>2026</td><td>2.0</td></tr><tr><th>8</th><td>8</td><td>1</td><td>gas</td><td>gas</td><td>generate</td><td>2027</td><td>2.0</td></tr><tr><th>9</th><td>9</td><td>1</td><td>gas</td><td>gas</td><td>generate</td><td>2028</td><td>2.0</td></tr><tr><th>10</th><td>10</td><td>1</td><td>gas</td><td>gas</td><td>generate</td><td>2029</td><td>2.0</td></tr></tbody></table></div>"
      ],
      "text/latex": [
       "\\begin{tabular}{r|ccccccc}\n",
       "\t& id & r & t & f & m & y & val\\\\\n",
       "\t\\hline\n",
       "\t& Int64 & String & String & String & String & String & Float64\\\\\n",
       "\t\\hline\n",
       "\t1 & 1 & 1 & gas & gas & generate & 2020 & 2.0 \\\\\n",
       "\t2 & 2 & 1 & gas & gas & generate & 2021 & 2.0 \\\\\n",
       "\t3 & 3 & 1 & gas & gas & generate & 2022 & 2.0 \\\\\n",
       "\t4 & 4 & 1 & gas & gas & generate & 2023 & 2.0 \\\\\n",
       "\t5 & 5 & 1 & gas & gas & generate & 2024 & 2.0 \\\\\n",
       "\t6 & 6 & 1 & gas & gas & generate & 2025 & 2.0 \\\\\n",
       "\t7 & 7 & 1 & gas & gas & generate & 2026 & 2.0 \\\\\n",
       "\t8 & 8 & 1 & gas & gas & generate & 2027 & 2.0 \\\\\n",
       "\t9 & 9 & 1 & gas & gas & generate & 2028 & 2.0 \\\\\n",
       "\t10 & 10 & 1 & gas & gas & generate & 2029 & 2.0 \\\\\n",
       "\\end{tabular}\n"
      ],
      "text/plain": [
       "\u001b[1m10×7 DataFrame\u001b[0m\n",
       "\u001b[1m Row \u001b[0m│\u001b[1m id    \u001b[0m\u001b[1m r      \u001b[0m\u001b[1m t      \u001b[0m\u001b[1m f      \u001b[0m\u001b[1m m        \u001b[0m\u001b[1m y      \u001b[0m\u001b[1m val     \u001b[0m\n",
       "\u001b[1m     \u001b[0m│\u001b[90m Int64 \u001b[0m\u001b[90m String \u001b[0m\u001b[90m String \u001b[0m\u001b[90m String \u001b[0m\u001b[90m String   \u001b[0m\u001b[90m String \u001b[0m\u001b[90m Float64 \u001b[0m\n",
       "─────┼──────────────────────────────────────────────────────────\n",
       "   1 │     1  1       gas     gas     generate  2020        2.0\n",
       "   2 │     2  1       gas     gas     generate  2021        2.0\n",
       "   3 │     3  1       gas     gas     generate  2022        2.0\n",
       "   4 │     4  1       gas     gas     generate  2023        2.0\n",
       "   5 │     5  1       gas     gas     generate  2024        2.0\n",
       "   6 │     6  1       gas     gas     generate  2025        2.0\n",
       "   7 │     7  1       gas     gas     generate  2026        2.0\n",
       "   8 │     8  1       gas     gas     generate  2027        2.0\n",
       "   9 │     9  1       gas     gas     generate  2028        2.0\n",
       "  10 │    10  1       gas     gas     generate  2029        2.0"
      ]
     },
     "execution_count": 110,
     "metadata": {},
     "output_type": "execute_result"
    }
   ],
   "source": [
    "filter(x -> (x[:f] == \"gas\"), dict_tables_demo[\"InputActivityRatio\"])"
   ]
  },
  {
   "cell_type": "code",
   "execution_count": 102,
   "metadata": {},
   "outputs": [
    {
     "data": {
      "text/html": [
       "<div class=\"data-frame\"><p>1 rows × 4 columns</p><table class=\"data-frame\"><thead><tr><th></th><th>id</th><th>r</th><th>t</th><th>val</th></tr><tr><th></th><th title=\"Int64\">Int64</th><th title=\"String\">String</th><th title=\"String\">String</th><th title=\"Float64\">Float64</th></tr></thead><tbody><tr><th>1</th><td>4</td><td>1</td><td>gassupply</td><td>100.0</td></tr></tbody></table></div>"
      ],
      "text/latex": [
       "\\begin{tabular}{r|cccc}\n",
       "\t& id & r & t & val\\\\\n",
       "\t\\hline\n",
       "\t& Int64 & String & String & Float64\\\\\n",
       "\t\\hline\n",
       "\t1 & 4 & 1 & gassupply & 100.0 \\\\\n",
       "\\end{tabular}\n"
      ],
      "text/plain": [
       "\u001b[1m1×4 DataFrame\u001b[0m\n",
       "\u001b[1m Row \u001b[0m│\u001b[1m id    \u001b[0m\u001b[1m r      \u001b[0m\u001b[1m t         \u001b[0m\u001b[1m val     \u001b[0m\n",
       "\u001b[1m     \u001b[0m│\u001b[90m Int64 \u001b[0m\u001b[90m String \u001b[0m\u001b[90m String    \u001b[0m\u001b[90m Float64 \u001b[0m\n",
       "─────┼───────────────────────────────────\n",
       "   1 │     4  1       gassupply    100.0"
      ]
     },
     "execution_count": 102,
     "metadata": {},
     "output_type": "execute_result"
    }
   ],
   "source": [
    "filter(x -> (x[:t] == \"gassupply\"), dict_tables_demo[\"OperationalLife\"])"
   ]
  },
  {
   "cell_type": "code",
   "execution_count": null,
   "metadata": {},
   "outputs": [],
   "source": []
  }
 ],
 "metadata": {
  "kernelspec": {
   "display_name": "Julia 1.7.3",
   "language": "julia",
   "name": "julia-1.7"
  },
  "language_info": {
   "file_extension": ".jl",
   "mimetype": "application/julia",
   "name": "julia",
   "version": "1.7.3"
  }
 },
 "nbformat": 4,
 "nbformat_minor": 4
}
