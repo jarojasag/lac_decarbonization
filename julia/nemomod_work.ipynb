{
 "cells": [
  {
   "cell_type": "code",
   "execution_count": 2,
   "metadata": {},
   "outputs": [
    {
     "name": "stderr",
     "output_type": "stream",
     "text": [
      "\u001b[32m\u001b[1m  Activating\u001b[22m\u001b[39m project at `~/Documents/Projects/git_jbus/lac_decarbonization/julia`\n"
     ]
    },
    {
     "data": {
      "text/plain": [
       "\"/Users/jsyme/Documents/Projects/git_jbus/lac_decarbonization/tmp/nemomod_intermediate_database.sqlite\""
      ]
     },
     "execution_count": 2,
     "metadata": {},
     "output_type": "execute_result"
    }
   ],
   "source": [
    "using Pkg\n",
    "Pkg.activate(\".\")\n",
    "\n",
    "using DataFrames\n",
    "using NemoMod\n",
    "using SQLite\n",
    "using Cbc\n",
    "using JuMP\n",
    "\n",
    "include(\"setup_analysis.jl\")"
   ]
  },
  {
   "cell_type": "code",
   "execution_count": 3,
   "metadata": {},
   "outputs": [
    {
     "data": {
      "text/plain": [
       "true"
      ]
     },
     "execution_count": 3,
     "metadata": {},
     "output_type": "execute_result"
    }
   ],
   "source": [
    "ispath(fp_sqlite_nemomod_db_tmp)"
   ]
  },
  {
   "cell_type": "code",
   "execution_count": null,
   "metadata": {},
   "outputs": [],
   "source": []
  },
  {
   "cell_type": "code",
   "execution_count": 32,
   "metadata": {},
   "outputs": [
    {
     "name": "stdout",
     "output_type": "stream",
     "text": [
      "2022-14-Aug 13:49:56.453 Opened SQLite database at /Users/jsyme/Documents/Projects/git_jbus/lac_decarbonization/tmp/testingdb.sqlite.\n",
      "2022-14-Aug 13:49:56.684 Added NEMO structure to SQLite database at /Users/jsyme/Documents/Projects/git_jbus/lac_decarbonization/tmp/testingdb.sqlite.\n"
     ]
    },
    {
     "data": {
      "text/plain": [
       "SQLite.DB(\"/Users/jsyme/Documents/Projects/git_jbus/lac_decarbonization/tmp/testingdb.sqlite\")"
      ]
     },
     "execution_count": 32,
     "metadata": {},
     "output_type": "execute_result"
    }
   ],
   "source": [
    "!ispath(dir_tmp) ? mkdir(dir_tmp) : nothing\n",
    "fp_db = joinpath(dir_tmp, \"testingdb.sqlite\")\n",
    "#createnemodb(fp_db)"
   ]
  },
  {
   "cell_type": "code",
   "execution_count": 31,
   "metadata": {},
   "outputs": [
    {
     "name": "stdout",
     "output_type": "stream",
     "text": [
      "2022-14-Aug 13:18:02.188 Opened SQLite database at /Users/jsyme/Documents/Projects/git_jbus/lac_decarbonization/tmp/testingdb.sqlite.\n",
      "2022-14-Aug 13:18:02.267 Added NEMO structure to SQLite database at /Users/jsyme/Documents/Projects/git_jbus/lac_decarbonization/tmp/testingdb.sqlite.\n"
     ]
    },
    {
     "data": {
      "text/plain": [
       "SQLite.DB(\"/Users/jsyme/Documents/Projects/git_jbus/lac_decarbonization/tmp/testingdb.sqlite\")"
      ]
     },
     "execution_count": 31,
     "metadata": {},
     "output_type": "execute_result"
    }
   ],
   "source": [
    "rm(fp_db)\n",
    "createnemodb(fp_db)"
   ]
  },
  {
   "cell_type": "code",
   "execution_count": 10,
   "metadata": {},
   "outputs": [],
   "source": [
    "\n",
    "db2 = SQLite.DB(fp_db)\n",
    "\n",
    "dict_tables2 = Dict{String, Dat aFrame}()\n",
    "tables_vary2 = []\n",
    "\n",
    "tabs = SQLite.tables(db2)[1]\n",
    "table_name = 0\n",
    "for k in 1:length(tabs)\n",
    "    table_name = tabs[k]\n",
    "    df_tmp = DBInterface.execute(db2, \"select * from $(table_name)\") |> DataFrame\n",
    "    dict_tables2[table_name] = df_tmp\n",
    "    (nrow(df_tmp) > 0) ? push!(tables_vary2, table_name) : nothing\n",
    "end\n",
    "\n"
   ]
  },
  {
   "cell_type": "code",
   "execution_count": 29,
   "metadata": {},
   "outputs": [
    {
     "data": {
      "text/plain": [
       "SQLite.Query(SQLite.Stmt(SQLite.DB(\"/Users/jsyme/Documents/Projects/git_jbus/lac_decarbonization/tmp/testingdb.sqlite\"), 94), Base.RefValue{Int32}(100), [:sql], Type[Union{Missing, String}], Dict(:sql => 1), Base.RefValue{Int64}(0))"
      ]
     },
     "execution_count": 29,
     "metadata": {},
     "output_type": "execute_result"
    }
   ],
   "source": [
    "df_out = DBInterface.execute(db2, \"select sql from sqlite_master where type = 'index';\")\n",
    "\n"
   ]
  },
  {
   "cell_type": "markdown",
   "metadata": {},
   "source": [
    "### Try running the model"
   ]
  },
  {
   "cell_type": "code",
   "execution_count": 11,
   "metadata": {
    "collapsed": true,
    "jupyter": {
     "outputs_hidden": true
    }
   },
   "outputs": [
    {
     "name": "stdout",
     "output_type": "stream",
     "text": [
      "2022-14-Aug 18:47:37.208 Started modeling scenario.\n",
      "2022-14-Aug 18:47:37.215 Validated run-time arguments.\n",
      "2022-14-Aug 18:47:37.224 Connected to scenario database. Path = /Users/jsyme/Documents/Projects/git_jbus/lac_decarbonization/tmp/nemomod_intermediate_database.sqlite.\n",
      "2022-14-Aug 18:47:37.257 Dropped pre-existing result tables from database.\n",
      "2022-14-Aug 18:47:37.258 Verified that transmission modeling is not enabled.\n",
      "2022-14-Aug 18:47:37.366 Created parameter views and indices.\n",
      "2022-14-Aug 18:47:37.380 Created temporary tables.\n",
      "2022-14-Aug 18:47:37.680 Executed core database queries.\n",
      "2022-14-Aug 18:47:37.692 Defined dimensions.\n",
      "2022-14-Aug 18:47:37.696 Defined demand variables.\n",
      "2022-14-Aug 18:47:37.702 Defined storage variables.\n",
      "2022-14-Aug 18:47:37.703 Defined capacity variables.\n",
      "2022-14-Aug 18:47:37.879 Defined activity variables.\n",
      "2022-14-Aug 18:47:37.880 Defined costing variables.\n",
      "2022-14-Aug 18:47:37.880 Defined reserve margin variables.\n",
      "2022-14-Aug 18:47:37.882 Defined emissions variables.\n",
      "2022-14-Aug 18:47:37.882 Defined combined nodal and non-nodal variables.\n",
      "2022-14-Aug 18:47:37.882 Finished defining model variables.\n",
      "2022-14-Aug 18:47:37.882 Scheduled task to add constraints to model.\n",
      "2022-14-Aug 18:47:37.883 Queued constraint CAa1_TotalNewCapacity for creation.\n",
      "2022-14-Aug 18:47:37.885 Queued constraint CAa2_TotalAnnualCapacity for creation.\n",
      "2022-14-Aug 18:47:37.887 Queued constraint VRateOfActivity1 for creation.\n",
      "2022-14-Aug 18:47:37.887 Queued constraint RampRate for creation.\n",
      "2022-14-Aug 18:47:37.889 Queued constraint CAa3_TotalActivityOfEachTechnology for creation.\n",
      "2022-14-Aug 18:47:37.899 Queued constraint CAa4_Constraint_Capacity for creation.\n",
      "2022-14-Aug 18:47:37.916 Queued constraint MinimumTechnologyUtilization for creation.\n",
      "2022-14-Aug 18:47:37.916 Queued constraint EBa2_RateOfFuelProduction2 for creation.\n",
      "2022-14-Aug 18:47:37.940 Queued constraint GenerationAnnualNN for creation.\n",
      "2022-14-Aug 18:47:37.940 Queued constraint ReGenerationAnnualNN for creation.\n",
      "2022-14-Aug 18:47:37.940 Queued constraint EBa3_RateOfFuelProduction3 for creation.\n",
      "2022-14-Aug 18:47:37.963 Queued constraint VRateOfProduction1 for creation.\n",
      "2022-14-Aug 18:47:37.968 Queued constraint EBa5_RateOfFuelUse2 for creation.\n",
      "2022-14-Aug 18:47:37.980 Queued constraint EBa6_RateOfFuelUse3 for creation.\n",
      "2022-14-Aug 18:47:37.986 Queued constraint VRateOfUse1 for creation.\n",
      "2022-14-Aug 18:47:37.992 Queued constraint EBa7_EnergyBalanceEachTS1 for creation.\n",
      "2022-14-Aug 18:47:38.013 Queued constraint EBa8_EnergyBalanceEachTS2 for creation.\n",
      "2022-14-Aug 18:47:38.014 Queued constraint EBa9_EnergyBalanceEachTS3 for creation.\n",
      "2022-14-Aug 18:47:38.015 Queued constraint EBa11_EnergyBalanceEachTS5 for creation.\n",
      "2022-14-Aug 18:47:38.030 Queued constraint EBb0_EnergyBalanceEachYear for creation.\n",
      "2022-14-Aug 18:47:38.031 Queued constraint EBb1_EnergyBalanceEachYear for creation.\n",
      "2022-14-Aug 18:47:38.033 Queued constraint EBb2_EnergyBalanceEachYear for creation.\n",
      "2022-14-Aug 18:47:38.034 Queued constraint EBb3_EnergyBalanceEachYear for creation.\n",
      "2022-14-Aug 18:47:38.035 Queued constraint EBb5_EnergyBalanceEachYear for creation.\n",
      "2022-14-Aug 18:47:38.038 Queued constraint Acc3_AverageAnnualRateOfActivity for creation.\n",
      "2022-14-Aug 18:47:38.049 Queued constraint NS1_RateOfStorageCharge for creation.\n",
      "2022-14-Aug 18:47:38.060 Queued constraint NS2_RateOfStorageDischarge for creation.\n",
      "2022-14-Aug 18:47:38.065 Queued constraint NS3_StorageLevelTsGroup1Start for creation.\n",
      "2022-14-Aug 18:47:38.070 Queued constraint NS4_StorageLevelTsGroup2Start for creation.\n",
      "2022-14-Aug 18:47:38.071 Queued constraint NS5_StorageLevelTimesliceEnd for creation.\n",
      "2022-14-Aug 18:47:38.071 Queued constraint NS6_StorageLevelTsGroup2End for creation.\n",
      "2022-14-Aug 18:47:38.073 Queued constraint NS6a_StorageLevelTsGroup2NetZero for creation.\n",
      "2022-14-Aug 18:47:38.073 Queued constraint NS7_StorageLevelTsGroup1End for creation.\n",
      "2022-14-Aug 18:47:38.074 Queued constraint NS7a_StorageLevelTsGroup1NetZero for creation.\n",
      "2022-14-Aug 18:47:38.074 Queued constraint NS8_StorageLevelYearEnd for creation.\n",
      "2022-14-Aug 18:47:38.082 Queued constraint NS8a_StorageLevelYearEndNetZero for creation.\n",
      "2022-14-Aug 18:47:38.082 Queued constraint SI1_StorageUpperLimit for creation.\n",
      "2022-14-Aug 18:47:38.083 Queued constraint SI2_StorageLowerLimit for creation.\n",
      "2022-14-Aug 18:47:38.084 Queued constraint SI3_TotalNewStorage for creation.\n",
      "2022-14-Aug 18:47:38.084 Queued constraint NS9a_StorageLevelTsLowerLimit for creation.\n",
      "2022-14-Aug 18:47:38.089 Queued constraint NS9b_StorageLevelTsUpperLimit for creation.\n",
      "2022-14-Aug 18:47:38.089 Queued constraint NS10_StorageChargeLimit for creation.\n",
      "2022-14-Aug 18:47:38.091 Queued constraint NS11_StorageDischargeLimit for creation.\n",
      "2022-14-Aug 18:47:38.093 Queued constraint NS12a_StorageLevelTsGroup2LowerLimit for creation.\n",
      "2022-14-Aug 18:47:38.094 Queued constraint NS12b_StorageLevelTsGroup2UpperLimit for creation.\n",
      "2022-14-Aug 18:47:38.094 Queued constraint NS13a_StorageLevelTsGroup1LowerLimit for creation.\n",
      "2022-14-Aug 18:47:38.095 Queued constraint NS13b_StorageLevelTsGroup1UpperLimit for creation.\n",
      "2022-14-Aug 18:47:38.095 Queued constraint NS14_MaxStorageCapacity for creation.\n",
      "2022-14-Aug 18:47:38.095 Queued constraint NS15_MinStorageCapacity for creation.\n",
      "2022-14-Aug 18:47:38.095 Queued constraint NS16_MaxStorageCapacityInvestment for creation.\n",
      "2022-14-Aug 18:47:38.095 Queued constraint NS17_MinStorageCapacityInvestment for creation.\n",
      "2022-14-Aug 18:47:38.096 Queued constraint NS18_FullLoadHours for creation.\n",
      "2022-14-Aug 18:47:38.096 Queued constraint SI4a_FinancingStorage for creation.\n",
      "2022-14-Aug 18:47:38.097 Queued constraint SI4_UndiscountedCapitalInvestmentStorage for creation.\n",
      "2022-14-Aug 18:47:38.097 Queued constraint SI5_DiscountingCapitalInvestmentStorage for creation.\n",
      "2022-14-Aug 18:47:38.098 Queued constraint SI6_SalvageValueStorageAtEndOfPeriod1 for creation.\n",
      "2022-14-Aug 18:47:38.099 Queued constraint SI7_SalvageValueStorageAtEndOfPeriod2 for creation.\n",
      "2022-14-Aug 18:47:38.099 Queued constraint SI8_SalvageValueStorageAtEndOfPeriod3 for creation.\n",
      "2022-14-Aug 18:47:38.100 Queued constraint SI9_SalvageValueStorageDiscountedToStartYear for creation.\n",
      "2022-14-Aug 18:47:38.101 Queued constraint SI10_TotalDiscountedCostByStorage for creation.\n",
      "2022-14-Aug 18:47:38.101 Queued constraint CC1a_FinancingTechnology for creation.\n",
      "2022-14-Aug 18:47:38.102 Queued constraint CC1_UndiscountedCapitalInvestment for creation.\n",
      "2022-14-Aug 18:47:38.103 Queued constraint CC2_DiscountingCapitalInvestment for creation.\n",
      "2022-14-Aug 18:47:38.105 Queued constraint SV1_SalvageValueAtEndOfPeriod1 for creation.\n",
      "2022-14-Aug 18:47:38.107 Queued constraint SV2_SalvageValueAtEndOfPeriod2 for creation.\n",
      "2022-14-Aug 18:47:38.108 Queued constraint SV3_SalvageValueAtEndOfPeriod3 for creation.\n",
      "2022-14-Aug 18:47:38.109 Queued constraint SV4_SalvageValueDiscountedToStartYear for creation.\n",
      "2022-14-Aug 18:47:38.109 Queued constraint OC1_OperatingCostsVariable for creation.\n",
      "2022-14-Aug 18:47:38.110 Queued constraint OC2_OperatingCostsFixedAnnual for creation.\n",
      "2022-14-Aug 18:47:38.111 Queued constraint OC3_OperatingCostsTotalAnnual for creation.\n",
      "2022-14-Aug 18:47:38.111 Queued constraint OC4_DiscountedOperatingCostsTotalAnnual for creation.\n",
      "2022-14-Aug 18:47:38.115 Queued constraint TDC1_TotalDiscountedCostByTechnology for creation.\n",
      "2022-14-Aug 18:47:38.116 Queued constraint TDC2_TotalDiscountedCost for creation.\n",
      "2022-14-Aug 18:47:38.116 Queued constraint TCC1_TotalAnnualMaxCapacityConstraint for creation.\n",
      "2022-14-Aug 18:47:38.118 Queued constraint TCC2_TotalAnnualMinCapacityConstraint for creation.\n",
      "2022-14-Aug 18:47:38.118 Queued constraint NCC1_TotalAnnualMaxNewCapacityConstraint for creation.\n",
      "2022-14-Aug 18:47:38.119 Queued constraint NCC2_TotalAnnualMinNewCapacityConstraint for creation.\n",
      "2022-14-Aug 18:47:38.120 Queued constraint RM1_ReserveMargin_TechnologiesIncluded_In_Activity_Units for creation.\n",
      "2022-14-Aug 18:47:38.121 Queued constraint RM2_ReserveMargin_FuelsIncluded for creation.\n",
      "2022-14-Aug 18:47:38.123 Queued constraint RM3_ReserveMargin_Constraint for creation.\n",
      "2022-14-Aug 18:47:38.124 Queued constraint RE1_FuelProductionByTechnologyAnnual for creation.\n",
      "2022-14-Aug 18:47:38.129 Queued constraint FuelUseByTechnologyAnnual for creation.\n",
      "2022-14-Aug 18:47:38.135 Queued constraint RE2_ProductionTarget for creation.\n",
      "2022-14-Aug 18:47:38.137 Queued constraint MinShareProduction for creation.\n",
      "2022-14-Aug 18:47:38.137 Queued constraint E2a_AnnualEmissionProduction for creation.\n",
      "2022-14-Aug 18:47:38.145 Queued constraint E2b_AnnualEmissionProduction for creation.\n",
      "2022-14-Aug 18:47:38.150 Queued constraint E4_EmissionsPenaltyByTechnology for creation.\n",
      "2022-14-Aug 18:47:38.150 Queued constraint E5_DiscountedEmissionsPenaltyByTechnology for creation.\n",
      "2022-14-Aug 18:47:38.153 Queued constraint E6_EmissionsAccounting1 for creation.\n",
      "2022-14-Aug 18:47:38.163 Queued constraint E7_EmissionsAccounting2 for creation.\n",
      "2022-14-Aug 18:47:38.164 Queued constraint E8_AnnualEmissionsLimit for creation.\n",
      "2022-14-Aug 18:47:38.165 Queued constraint E9_ModelPeriodEmissionsLimit for creation.\n",
      "2022-14-Aug 18:47:38.166 Queued 92 standard constraints for creation.\n",
      "2022-14-Aug 18:47:38.167 Finished scheduled task to add constraints to model.\n",
      "2022-14-Aug 18:47:38.167 Added 92 standard constraints to model.\n",
      "2022-14-Aug 18:47:38.167 Defined model objective.\n",
      "2022-14-Aug 18:47:38.408 Solved model. Solver status = INFEASIBLE_OR_UNBOUNDED.\n",
      "2022-14-Aug 18:47:38.412 Solver did not find an optimal solution for model. No results will be saved to database.\n",
      "2022-14-Aug 18:47:38.423 Dropped temporary tables.\n",
      "2022-14-Aug 18:47:38.423 Finished modeling scenario.\n",
      "  1.237277 seconds (1.94 M allocations: 104.270 MiB)\n",
      "Presolve 996 (-15662) rows, 739 (-15651) columns and 3651 (-40496) elements\n",
      "Perturbing problem by 0.001% of 10182.624 - largest nonzero change 0.010257592 ( 10.051585%) - largest zero change 0.010221777\n",
      "0  Obj 206210.49 Primal inf 474.60113 (108)\n",
      "94  Obj 231130.82 Primal inf 4.1779709 (144)\n",
      "188  Obj 323785.46 Primal inf 590.73876 (196)\n",
      "245  Obj 3050591.3 Primal inf 1502.1098 (177)\n",
      "Primal infeasible - objective value 3050591.3\n",
      "Presolved problem not optimal, resolve after postsolve\n",
      "After Postsolve, objective 3050534.9, infeasibilities - dual 2.8870749 (313), primal 53619.529 (268)\n",
      "Perturbing problem by 1e-08% of 18.930224 - largest nonzero change 0 ( 0%) - largest zero change 9.8622696e-05\n",
      "0  Obj 3050534.9 Primal inf 6715.7683 (372)\n",
      "3  Obj 3050534.9 Primal inf 11324.156 (431)\n",
      "Primal infeasible - objective value 3050534.9\n",
      "PrimalInfeasible objective 3050534.94 - 248 iterations time 0.072, Presolve 0.04\n"
     ]
    },
    {
     "data": {
      "text/plain": [
       "INFEASIBLE_OR_UNBOUNDED::TerminationStatusCode = 6"
      ]
     },
     "execution_count": 11,
     "metadata": {},
     "output_type": "execute_result"
    }
   ],
   "source": [
    "@time NemoMod.calculatescenario(\n",
    "    fp_sqlite_nemomod_db_tmp; \n",
    "    jumpmodel = Model(Cbc.Optimizer),\n",
    "    numprocs = 1\n",
    ")"
   ]
  },
  {
   "cell_type": "code",
   "execution_count": 64,
   "metadata": {},
   "outputs": [
    {
     "data": {
      "text/plain": [
       "Set{String} with 6 elements:\n",
       "  \"ModelPeriodEmissionLimit\"\n",
       "  \"ModelPeriodExogenousEmission\"\n",
       "  \"AnnualEmissionLimit\"\n",
       "  \"EmissionsPenalty\"\n",
       "  \"AnnualExogenousEmission\"\n",
       "  \"EmissionActivityRatio\""
      ]
     },
     "execution_count": 64,
     "metadata": {},
     "output_type": "execute_result"
    }
   ],
   "source": [
    "filter(x -> occursin(\"Emission\", x), keys(dict_tables_demo))"
   ]
  },
  {
   "cell_type": "code",
   "execution_count": 62,
   "metadata": {},
   "outputs": [
    {
     "data": {
      "text/latex": [
       "\\begin{verbatim}\n",
       "calculatescenario(dbpath::String; jumpmodel::JuMP.Model = Model(Cbc.Optimizer),\n",
       "    calcyears::Array{Int, 1} = Array{Int, 1}(),\n",
       "    varstosave::String = \"vdemandnn, vnewcapacity, vtotalcapacityannual,\n",
       "        vproductionbytechnologyannual, vproductionnn, vusebytechnologyannual,\n",
       "        vusenn, vtotaldiscountedcost\",\n",
       "    restrictvars::Bool = true, reportzeros::Bool = false,\n",
       "    continuoustransmission::Bool = false,\n",
       "    forcemip::Bool = false, startvalsdbpath::String = \"\",\n",
       "    startvalsvars::String = \"\", precalcresultspath::String = \"\",\n",
       "    quiet::Bool = false\n",
       ")\n",
       "\\end{verbatim}\n",
       "Calculates a scenario specified in a scenario database. Returns a \\texttt{MathOptInterface.TerminationStatusCode} indicating the termination status reported by the solver used for the calculation (e.g., \\texttt{OPTIMAL::TerminationStatusCode = 1}).\n",
       "\n",
       "\\section{Arguments}\n",
       "\\begin{itemize}\n",
       "\\item \\texttt{dbpath::String}: Path to the scenario database, which must be a SQLite version 3 database that   implements NEMO's scenario database structure. See NEMO's documentation on scenario databases   for details. Empty scenario databases can be generated with NEMO's \\texttt{createnemodb} function.\n",
       "\n",
       "\n",
       "\\item \\texttt{jumpmodel::JuMP.Model}: \\href{https://github.com/jump-dev/JuMP.jl}{JuMP} model object   specifying the solver to be used for the calculation.   Examples: \\texttt{Model(optimizer\\_with\\_attributes(GLPK.Optimizer, \"presolve\" => true))},   \\texttt{Model(CPLEX.Optimizer)}, \\texttt{Model(optimizer\\_with\\_attributes(Gurobi.Optimizer, \"NumericFocus\" => 1))}.   Note that the solver's Julia package (Julia wrapper) must be installed. See the   documentation for JuMP for information on how to specify a solver and set solver options.\n",
       "\n",
       "\n",
       "\\item \\texttt{calcyears::Array\\{Int, 1\\}}: Years to include in the calculation (a subset of the years specified in   the scenario database). All years in the database are included if this argument is omitted.\n",
       "\n",
       "\n",
       "\\item \\texttt{varstosave::String}: Comma-delimited list of output variables whose results should be   saved in the scenario database when the scenario is calculated. See NEMO's documentation on   outputs for information on the variables that are available.\n",
       "\n",
       "\n",
       "\\item \\texttt{restrictvars::Bool}: Indicates whether NEMO should conduct additional data analysis   to limit the set of variables created in the optimization problem for the scenario.   By default, to improve performance, NEMO selectively creates certain variables to   avoid combinations of subscripts that do not exist in the scenario's data. This option   increases the stringency of this filtering. It requires more processing time as the   problem is built, but it can substantially reduce the solve time for large models.\n",
       "\n",
       "\n",
       "\\item \\texttt{reportzeros::Bool}: Indicates whether results saved in the scenario database should   include values equal to zero. Specifying \\texttt{false} can substantially improve the   performance of large models.\n",
       "\n",
       "\n",
       "\\item \\texttt{continuoustransmission::Bool}: Indicates whether continuous (\\texttt{true}) or binary (\\texttt{false})   variables are used to represent investment decisions for candidate transmission lines. Not   relevant in scenarios that do not model transmission.\n",
       "\n",
       "\n",
       "\\item \\texttt{forcemip::Bool}: Forces NEMO to formulate the optimization problem for the scenario as a   mixed-integer problem. This can improve performance with some solvers (e.g., CPLEX, Mosek). If   this option is set to \\texttt{false}, the input parameters for the scenario (i.e., in the scenario   database) determine whether the optimization problem is mixed-integer.\n",
       "\n",
       "\n",
       "\\item \\texttt{startvalsdbpath::String}: Path to a previously calculated scenario database from which NEMO   should take starting values for variables in the optimization problem formulated in this   function. This argument is used in conjunction with \\texttt{startvalsvars}.\n",
       "\n",
       "\n",
       "\\item \\texttt{startvalsvars::String}: Comma-delimited list of variables for which starting values should be set.   See NEMO's documentation on outputs for information on the variables that are available. NEMO   takes starting values from output variable results saved in the database identified by   \\texttt{startvalsdbpath}. Saved results are matched to variables in the optimization problem using   the variables' subscripts, and starting values are set with JuMP's \\texttt{set\\_start\\_value} function.   If \\texttt{startvalsvars} is an empty string, NEMO sets starting values for all variables present in   both the optimization problem and the \\texttt{startvalsdbpath} database.\n",
       "\n",
       "\n",
       "\\item \\texttt{precalcresultspath::String}: Path to a previously calculated scenario database that NEMO should   copy over the database specified by \\texttt{dbpath}. This argument can also be a directory containing   previously calculated scenario databases, in which case NEMO copies any file in the directory   with the same name as the \\texttt{dbpath} database. The intent of the argument is to short-circuit   calculations in situations where valid results already exist.\n",
       "\n",
       "\n",
       "\\item \\texttt{quiet::Bool}: Suppresses low-priority status messages (which are otherwise printed to   \\texttt{STDOUT}).\n",
       "\n",
       "\\end{itemize}\n"
      ],
      "text/markdown": [
       "```\n",
       "calculatescenario(dbpath::String; jumpmodel::JuMP.Model = Model(Cbc.Optimizer),\n",
       "    calcyears::Array{Int, 1} = Array{Int, 1}(),\n",
       "    varstosave::String = \"vdemandnn, vnewcapacity, vtotalcapacityannual,\n",
       "        vproductionbytechnologyannual, vproductionnn, vusebytechnologyannual,\n",
       "        vusenn, vtotaldiscountedcost\",\n",
       "    restrictvars::Bool = true, reportzeros::Bool = false,\n",
       "    continuoustransmission::Bool = false,\n",
       "    forcemip::Bool = false, startvalsdbpath::String = \"\",\n",
       "    startvalsvars::String = \"\", precalcresultspath::String = \"\",\n",
       "    quiet::Bool = false\n",
       ")\n",
       "```\n",
       "\n",
       "Calculates a scenario specified in a scenario database. Returns a `MathOptInterface.TerminationStatusCode` indicating the termination status reported by the solver used for the calculation (e.g., `OPTIMAL::TerminationStatusCode = 1`).\n",
       "\n",
       "# Arguments\n",
       "\n",
       "  * `dbpath::String`: Path to the scenario database, which must be a SQLite version 3 database that   implements NEMO's scenario database structure. See NEMO's documentation on scenario databases   for details. Empty scenario databases can be generated with NEMO's `createnemodb` function.\n",
       "  * `jumpmodel::JuMP.Model`: [JuMP](https://github.com/jump-dev/JuMP.jl) model object   specifying the solver to be used for the calculation.   Examples: `Model(optimizer_with_attributes(GLPK.Optimizer, \"presolve\" => true))`,   `Model(CPLEX.Optimizer)`, `Model(optimizer_with_attributes(Gurobi.Optimizer, \"NumericFocus\" => 1))`.   Note that the solver's Julia package (Julia wrapper) must be installed. See the   documentation for JuMP for information on how to specify a solver and set solver options.\n",
       "  * `calcyears::Array{Int, 1}`: Years to include in the calculation (a subset of the years specified in   the scenario database). All years in the database are included if this argument is omitted.\n",
       "  * `varstosave::String`: Comma-delimited list of output variables whose results should be   saved in the scenario database when the scenario is calculated. See NEMO's documentation on   outputs for information on the variables that are available.\n",
       "  * `restrictvars::Bool`: Indicates whether NEMO should conduct additional data analysis   to limit the set of variables created in the optimization problem for the scenario.   By default, to improve performance, NEMO selectively creates certain variables to   avoid combinations of subscripts that do not exist in the scenario's data. This option   increases the stringency of this filtering. It requires more processing time as the   problem is built, but it can substantially reduce the solve time for large models.\n",
       "  * `reportzeros::Bool`: Indicates whether results saved in the scenario database should   include values equal to zero. Specifying `false` can substantially improve the   performance of large models.\n",
       "  * `continuoustransmission::Bool`: Indicates whether continuous (`true`) or binary (`false`)   variables are used to represent investment decisions for candidate transmission lines. Not   relevant in scenarios that do not model transmission.\n",
       "  * `forcemip::Bool`: Forces NEMO to formulate the optimization problem for the scenario as a   mixed-integer problem. This can improve performance with some solvers (e.g., CPLEX, Mosek). If   this option is set to `false`, the input parameters for the scenario (i.e., in the scenario   database) determine whether the optimization problem is mixed-integer.\n",
       "  * `startvalsdbpath::String`: Path to a previously calculated scenario database from which NEMO   should take starting values for variables in the optimization problem formulated in this   function. This argument is used in conjunction with `startvalsvars`.\n",
       "  * `startvalsvars::String`: Comma-delimited list of variables for which starting values should be set.   See NEMO's documentation on outputs for information on the variables that are available. NEMO   takes starting values from output variable results saved in the database identified by   `startvalsdbpath`. Saved results are matched to variables in the optimization problem using   the variables' subscripts, and starting values are set with JuMP's `set_start_value` function.   If `startvalsvars` is an empty string, NEMO sets starting values for all variables present in   both the optimization problem and the `startvalsdbpath` database.\n",
       "  * `precalcresultspath::String`: Path to a previously calculated scenario database that NEMO should   copy over the database specified by `dbpath`. This argument can also be a directory containing   previously calculated scenario databases, in which case NEMO copies any file in the directory   with the same name as the `dbpath` database. The intent of the argument is to short-circuit   calculations in situations where valid results already exist.\n",
       "  * `quiet::Bool`: Suppresses low-priority status messages (which are otherwise printed to   `STDOUT`).\n"
      ],
      "text/plain": [
       "\u001b[36m  calculatescenario(dbpath::String; jumpmodel::JuMP.Model = Model(Cbc.Optimizer),\u001b[39m\n",
       "\u001b[36m      calcyears::Array{Int, 1} = Array{Int, 1}(),\u001b[39m\n",
       "\u001b[36m      varstosave::String = \"vdemandnn, vnewcapacity, vtotalcapacityannual,\u001b[39m\n",
       "\u001b[36m          vproductionbytechnologyannual, vproductionnn, vusebytechnologyannual,\u001b[39m\n",
       "\u001b[36m          vusenn, vtotaldiscountedcost\",\u001b[39m\n",
       "\u001b[36m      restrictvars::Bool = true, reportzeros::Bool = false,\u001b[39m\n",
       "\u001b[36m      continuoustransmission::Bool = false,\u001b[39m\n",
       "\u001b[36m      forcemip::Bool = false, startvalsdbpath::String = \"\",\u001b[39m\n",
       "\u001b[36m      startvalsvars::String = \"\", precalcresultspath::String = \"\",\u001b[39m\n",
       "\u001b[36m      quiet::Bool = false\u001b[39m\n",
       "\u001b[36m  )\u001b[39m\n",
       "\n",
       "  Calculates a scenario specified in a scenario database. Returns a\n",
       "  \u001b[36mMathOptInterface.TerminationStatusCode\u001b[39m indicating the termination status\n",
       "  reported by the solver used for the calculation (e.g.,\n",
       "  \u001b[36mOPTIMAL::TerminationStatusCode = 1\u001b[39m).\n",
       "\n",
       "\u001b[1m  Arguments\u001b[22m\n",
       "\u001b[1m  ≡≡≡≡≡≡≡≡≡≡≡\u001b[22m\n",
       "\n",
       "    •  \u001b[36mdbpath::String\u001b[39m: Path to the scenario database, which must be a\n",
       "       SQLite version 3 database that implements NEMO's scenario database\n",
       "       structure. See NEMO's documentation on scenario databases for\n",
       "       details. Empty scenario databases can be generated with NEMO's\n",
       "       \u001b[36mcreatenemodb\u001b[39m function.\n",
       "\n",
       "    •  \u001b[36mjumpmodel::JuMP.Model\u001b[39m: JuMP (https://github.com/jump-dev/JuMP.jl)\n",
       "       model object specifying the solver to be used for the calculation.\n",
       "       Examples: \u001b[36mModel(optimizer_with_attributes(GLPK.Optimizer,\n",
       "       \"presolve\" => true))\u001b[39m, \u001b[36mModel(CPLEX.Optimizer)\u001b[39m,\n",
       "       \u001b[36mModel(optimizer_with_attributes(Gurobi.Optimizer, \"NumericFocus\"\n",
       "       => 1))\u001b[39m. Note that the solver's Julia package (Julia wrapper) must\n",
       "       be installed. See the documentation for JuMP for information on\n",
       "       how to specify a solver and set solver options.\n",
       "\n",
       "    •  \u001b[36mcalcyears::Array{Int, 1}\u001b[39m: Years to include in the calculation (a\n",
       "       subset of the years specified in the scenario database). All years\n",
       "       in the database are included if this argument is omitted.\n",
       "\n",
       "    •  \u001b[36mvarstosave::String\u001b[39m: Comma-delimited list of output variables whose\n",
       "       results should be saved in the scenario database when the scenario\n",
       "       is calculated. See NEMO's documentation on outputs for information\n",
       "       on the variables that are available.\n",
       "\n",
       "    •  \u001b[36mrestrictvars::Bool\u001b[39m: Indicates whether NEMO should conduct\n",
       "       additional data analysis to limit the set of variables created in\n",
       "       the optimization problem for the scenario. By default, to improve\n",
       "       performance, NEMO selectively creates certain variables to avoid\n",
       "       combinations of subscripts that do not exist in the scenario's\n",
       "       data. This option increases the stringency of this filtering. It\n",
       "       requires more processing time as the problem is built, but it can\n",
       "       substantially reduce the solve time for large models.\n",
       "\n",
       "    •  \u001b[36mreportzeros::Bool\u001b[39m: Indicates whether results saved in the scenario\n",
       "       database should include values equal to zero. Specifying \u001b[36mfalse\u001b[39m can\n",
       "       substantially improve the performance of large models.\n",
       "\n",
       "    •  \u001b[36mcontinuoustransmission::Bool\u001b[39m: Indicates whether continuous (\u001b[36mtrue\u001b[39m)\n",
       "       or binary (\u001b[36mfalse\u001b[39m) variables are used to represent investment\n",
       "       decisions for candidate transmission lines. Not relevant in\n",
       "       scenarios that do not model transmission.\n",
       "\n",
       "    •  \u001b[36mforcemip::Bool\u001b[39m: Forces NEMO to formulate the optimization problem\n",
       "       for the scenario as a mixed-integer problem. This can improve\n",
       "       performance with some solvers (e.g., CPLEX, Mosek). If this option\n",
       "       is set to \u001b[36mfalse\u001b[39m, the input parameters for the scenario (i.e., in\n",
       "       the scenario database) determine whether the optimization problem\n",
       "       is mixed-integer.\n",
       "\n",
       "    •  \u001b[36mstartvalsdbpath::String\u001b[39m: Path to a previously calculated scenario\n",
       "       database from which NEMO should take starting values for variables\n",
       "       in the optimization problem formulated in this function. This\n",
       "       argument is used in conjunction with \u001b[36mstartvalsvars\u001b[39m.\n",
       "\n",
       "    •  \u001b[36mstartvalsvars::String\u001b[39m: Comma-delimited list of variables for which\n",
       "       starting values should be set. See NEMO's documentation on outputs\n",
       "       for information on the variables that are available. NEMO takes\n",
       "       starting values from output variable results saved in the database\n",
       "       identified by \u001b[36mstartvalsdbpath\u001b[39m. Saved results are matched to\n",
       "       variables in the optimization problem using the variables'\n",
       "       subscripts, and starting values are set with JuMP's\n",
       "       \u001b[36mset_start_value\u001b[39m function. If \u001b[36mstartvalsvars\u001b[39m is an empty string,\n",
       "       NEMO sets starting values for all variables present in both the\n",
       "       optimization problem and the \u001b[36mstartvalsdbpath\u001b[39m database.\n",
       "\n",
       "    •  \u001b[36mprecalcresultspath::String\u001b[39m: Path to a previously calculated\n",
       "       scenario database that NEMO should copy over the database\n",
       "       specified by \u001b[36mdbpath\u001b[39m. This argument can also be a directory\n",
       "       containing previously calculated scenario databases, in which case\n",
       "       NEMO copies any file in the directory with the same name as the\n",
       "       \u001b[36mdbpath\u001b[39m database. The intent of the argument is to short-circuit\n",
       "       calculations in situations where valid results already exist.\n",
       "\n",
       "    •  \u001b[36mquiet::Bool\u001b[39m: Suppresses low-priority status messages (which are\n",
       "       otherwise printed to \u001b[36mSTDOUT\u001b[39m)."
      ]
     },
     "execution_count": 62,
     "metadata": {},
     "output_type": "execute_result"
    }
   ],
   "source": [
    "?NemoMod.calculatescenario"
   ]
  },
  {
   "cell_type": "code",
   "execution_count": 41,
   "metadata": {},
   "outputs": [
    {
     "name": "stdout",
     "output_type": "stream",
     "text": [
      "2022-14-Aug 22:22:33.992 Started modeling scenario.\n",
      "2022-14-Aug 22:22:33.996 Validated run-time arguments.\n",
      "2022-14-Aug 22:22:34.007 Connected to scenario database. Path = /Users/jsyme/.julia/packages/NemoMod/vg6Tx/test/ramp_test.sqlite.\n",
      "2022-14-Aug 22:22:34.049 Dropped pre-existing result tables from database.\n",
      "2022-14-Aug 22:22:34.051 Verified that transmission modeling is not enabled.\n",
      "2022-14-Aug 22:22:34.211 Created parameter views and indices.\n",
      "2022-14-Aug 22:22:34.219 Created temporary tables.\n",
      "2022-14-Aug 22:22:34.974 Executed core database queries.\n",
      "2022-14-Aug 22:22:34.988 Defined dimensions.\n",
      "2022-14-Aug 22:22:35.000 Defined demand variables.\n",
      "2022-14-Aug 22:22:35.014 Defined storage variables.\n",
      "2022-14-Aug 22:22:35.017 Defined capacity variables.\n",
      "2022-14-Aug 22:22:36.505 Defined activity variables.\n",
      "2022-14-Aug 22:22:36.506 Defined costing variables.\n",
      "2022-14-Aug 22:22:36.506 Defined reserve margin variables.\n",
      "2022-14-Aug 22:22:36.506 Defined emissions variables.\n",
      "2022-14-Aug 22:22:36.507 Defined combined nodal and non-nodal variables.\n",
      "2022-14-Aug 22:22:36.507 Finished defining model variables.\n",
      "2022-14-Aug 22:22:36.507 Scheduled task to add constraints to model.\n",
      "2022-14-Aug 22:22:36.508 Queued constraint CAa1_TotalNewCapacity for creation.\n",
      "2022-14-Aug 22:22:36.511 Queued constraint CAa2_TotalAnnualCapacity for creation.\n",
      "2022-14-Aug 22:22:36.512 Queued constraint VRateOfActivity1 for creation.\n",
      "2022-14-Aug 22:22:36.512 Queued constraint RampRate for creation.\n",
      "2022-14-Aug 22:22:36.757 Queued constraint CAa3_TotalActivityOfEachTechnology for creation.\n",
      "2022-14-Aug 22:22:36.787 Queued constraint CAa4_Constraint_Capacity for creation.\n",
      "2022-14-Aug 22:22:36.837 Queued constraint MinimumTechnologyUtilization for creation.\n",
      "2022-14-Aug 22:22:36.837 Queued constraint EBa2_RateOfFuelProduction2 for creation.\n",
      "2022-14-Aug 22:22:36.896 Queued constraint GenerationAnnualNN for creation.\n",
      "2022-14-Aug 22:22:36.896 Queued constraint ReGenerationAnnualNN for creation.\n",
      "2022-14-Aug 22:22:36.896 Queued constraint EBa3_RateOfFuelProduction3 for creation.\n",
      "2022-14-Aug 22:22:36.917 Queued constraint VRateOfProduction1 for creation.\n",
      "2022-14-Aug 22:22:36.925 Queued constraint EBa5_RateOfFuelUse2 for creation.\n",
      "2022-14-Aug 22:22:36.958 Queued constraint EBa6_RateOfFuelUse3 for creation.\n",
      "2022-14-Aug 22:22:36.983 Queued constraint VRateOfUse1 for creation.\n",
      "2022-14-Aug 22:22:36.992 Queued constraint EBa7_EnergyBalanceEachTS1 for creation.\n",
      "2022-14-Aug 22:22:37.041 Queued constraint EBa8_EnergyBalanceEachTS2 for creation.\n",
      "2022-14-Aug 22:22:37.041 Queued constraint EBa9_EnergyBalanceEachTS3 for creation.\n",
      "2022-14-Aug 22:22:37.046 Queued constraint EBa11_EnergyBalanceEachTS5 for creation.\n",
      "2022-14-Aug 22:22:37.087 Queued constraint EBb0_EnergyBalanceEachYear for creation.\n",
      "2022-14-Aug 22:22:37.089 Queued constraint EBb1_EnergyBalanceEachYear for creation.\n",
      "2022-14-Aug 22:22:37.090 Queued constraint EBb2_EnergyBalanceEachYear for creation.\n",
      "2022-14-Aug 22:22:37.093 Queued constraint EBb3_EnergyBalanceEachYear for creation.\n",
      "2022-14-Aug 22:22:37.093 Queued constraint EBb5_EnergyBalanceEachYear for creation.\n",
      "2022-14-Aug 22:22:37.094 Queued constraint Acc3_AverageAnnualRateOfActivity for creation.\n",
      "2022-14-Aug 22:22:37.203 Queued constraint NS1_RateOfStorageCharge for creation.\n",
      "2022-14-Aug 22:22:37.227 Queued constraint NS2_RateOfStorageDischarge for creation.\n",
      "2022-14-Aug 22:22:37.332 Queued constraint NS3_StorageLevelTsGroup1Start for creation.\n",
      "2022-14-Aug 22:22:37.347 Queued constraint NS4_StorageLevelTsGroup2Start for creation.\n",
      "2022-14-Aug 22:22:37.348 Queued constraint NS5_StorageLevelTimesliceEnd for creation.\n",
      "2022-14-Aug 22:22:37.348 Queued constraint NS6_StorageLevelTsGroup2End for creation.\n",
      "2022-14-Aug 22:22:37.352 Queued constraint NS6a_StorageLevelTsGroup2NetZero for creation.\n",
      "2022-14-Aug 22:22:37.352 Queued constraint NS7_StorageLevelTsGroup1End for creation.\n",
      "2022-14-Aug 22:22:37.353 Queued constraint NS7a_StorageLevelTsGroup1NetZero for creation.\n",
      "2022-14-Aug 22:22:37.353 Queued constraint NS8_StorageLevelYearEnd for creation.\n",
      "2022-14-Aug 22:22:37.370 Queued constraint NS8a_StorageLevelYearEndNetZero for creation.\n",
      "2022-14-Aug 22:22:37.370 Queued constraint SI1_StorageUpperLimit for creation.\n",
      "2022-14-Aug 22:22:37.370 Queued constraint SI2_StorageLowerLimit for creation.\n",
      "2022-14-Aug 22:22:37.370 Queued constraint SI3_TotalNewStorage for creation.\n",
      "2022-14-Aug 22:22:37.371 Queued constraint NS9a_StorageLevelTsLowerLimit for creation.\n",
      "2022-14-Aug 22:22:37.379 Queued constraint NS9b_StorageLevelTsUpperLimit for creation.\n",
      "2022-14-Aug 22:22:37.379 Queued constraint NS10_StorageChargeLimit for creation.\n",
      "2022-14-Aug 22:22:37.385 Queued constraint NS11_StorageDischargeLimit for creation.\n",
      "2022-14-Aug 22:22:37.390 Queued constraint NS12a_StorageLevelTsGroup2LowerLimit for creation.\n",
      "2022-14-Aug 22:22:37.391 Queued constraint NS12b_StorageLevelTsGroup2UpperLimit for creation.\n",
      "2022-14-Aug 22:22:37.391 Queued constraint NS13a_StorageLevelTsGroup1LowerLimit for creation.\n",
      "2022-14-Aug 22:22:37.391 Queued constraint NS13b_StorageLevelTsGroup1UpperLimit for creation.\n",
      "2022-14-Aug 22:22:37.392 Queued constraint NS14_MaxStorageCapacity for creation.\n",
      "2022-14-Aug 22:22:37.392 Queued constraint NS15_MinStorageCapacity for creation.\n",
      "2022-14-Aug 22:22:37.393 Queued constraint NS16_MaxStorageCapacityInvestment for creation.\n",
      "2022-14-Aug 22:22:37.393 Queued constraint NS17_MinStorageCapacityInvestment for creation.\n",
      "2022-14-Aug 22:22:37.393 Queued constraint NS18_FullLoadHours for creation.\n",
      "2022-14-Aug 22:22:37.394 Queued constraint SI4a_FinancingStorage for creation.\n",
      "2022-14-Aug 22:22:37.395 Queued constraint SI4_UndiscountedCapitalInvestmentStorage for creation.\n",
      "2022-14-Aug 22:22:37.395 Queued constraint SI5_DiscountingCapitalInvestmentStorage for creation.\n",
      "2022-14-Aug 22:22:37.396 Queued constraint SI6_SalvageValueStorageAtEndOfPeriod1 for creation.\n",
      "2022-14-Aug 22:22:37.396 Queued constraint SI7_SalvageValueStorageAtEndOfPeriod2 for creation.\n",
      "2022-14-Aug 22:22:37.397 Queued constraint SI8_SalvageValueStorageAtEndOfPeriod3 for creation.\n",
      "2022-14-Aug 22:22:37.399 Queued constraint SI9_SalvageValueStorageDiscountedToStartYear for creation.\n",
      "2022-14-Aug 22:22:37.399 Queued constraint SI10_TotalDiscountedCostByStorage for creation.\n",
      "2022-14-Aug 22:22:37.399 Queued constraint CC1a_FinancingTechnology for creation.\n",
      "2022-14-Aug 22:22:37.400 Queued constraint CC1_UndiscountedCapitalInvestment for creation.\n",
      "2022-14-Aug 22:22:37.401 Queued constraint CC2_DiscountingCapitalInvestment for creation.\n",
      "2022-14-Aug 22:22:37.410 Queued constraint SV1_SalvageValueAtEndOfPeriod1 for creation.\n",
      "2022-14-Aug 22:22:37.418 Queued constraint SV2_SalvageValueAtEndOfPeriod2 for creation.\n",
      "2022-14-Aug 22:22:37.419 Queued constraint SV3_SalvageValueAtEndOfPeriod3 for creation.\n",
      "2022-14-Aug 22:22:37.420 Queued constraint SV4_SalvageValueDiscountedToStartYear for creation.\n",
      "2022-14-Aug 22:22:37.420 Queued constraint OC1_OperatingCostsVariable for creation.\n",
      "2022-14-Aug 22:22:37.422 Queued constraint OC2_OperatingCostsFixedAnnual for creation.\n",
      "2022-14-Aug 22:22:37.423 Queued constraint OC3_OperatingCostsTotalAnnual for creation.\n",
      "2022-14-Aug 22:22:37.423 Queued constraint OC4_DiscountedOperatingCostsTotalAnnual for creation.\n",
      "2022-14-Aug 22:22:37.434 Queued constraint TDC1_TotalDiscountedCostByTechnology for creation.\n",
      "2022-14-Aug 22:22:37.434 Queued constraint TDC2_TotalDiscountedCost for creation.\n",
      "2022-14-Aug 22:22:37.434 Queued constraint TCC1_TotalAnnualMaxCapacityConstraint for creation.\n",
      "2022-14-Aug 22:22:37.435 Queued constraint TCC2_TotalAnnualMinCapacityConstraint for creation.\n",
      "2022-14-Aug 22:22:37.435 Queued constraint NCC1_TotalAnnualMaxNewCapacityConstraint for creation.\n",
      "2022-14-Aug 22:22:37.436 Queued constraint NCC2_TotalAnnualMinNewCapacityConstraint for creation.\n",
      "2022-14-Aug 22:22:37.436 Queued constraint RM1_ReserveMargin_TechnologiesIncluded_In_Activity_Units for creation.\n",
      "2022-14-Aug 22:22:37.437 Queued constraint RM2_ReserveMargin_FuelsIncluded for creation.\n",
      "2022-14-Aug 22:22:37.445 Queued constraint RM3_ReserveMargin_Constraint for creation.\n",
      "2022-14-Aug 22:22:37.451 Queued constraint RE1_FuelProductionByTechnologyAnnual for creation.\n",
      "2022-14-Aug 22:22:37.467 Queued constraint FuelUseByTechnologyAnnual for creation.\n",
      "2022-14-Aug 22:22:37.476 Queued constraint RE2_ProductionTarget for creation.\n",
      "2022-14-Aug 22:22:37.477 Queued constraint MinShareProduction for creation.\n",
      "2022-14-Aug 22:22:37.477 Queued constraint E2a_AnnualEmissionProduction for creation.\n",
      "2022-14-Aug 22:22:37.477 Queued constraint E2b_AnnualEmissionProduction for creation.\n",
      "2022-14-Aug 22:22:37.478 Queued constraint E4_EmissionsPenaltyByTechnology for creation.\n",
      "2022-14-Aug 22:22:37.478 Queued constraint E5_DiscountedEmissionsPenaltyByTechnology for creation.\n",
      "2022-14-Aug 22:22:37.488 Queued constraint E6_EmissionsAccounting1 for creation.\n",
      "2022-14-Aug 22:22:37.488 Queued constraint E7_EmissionsAccounting2 for creation.\n",
      "2022-14-Aug 22:22:37.488 Queued constraint E8_AnnualEmissionsLimit for creation.\n",
      "2022-14-Aug 22:22:37.489 Queued constraint E9_ModelPeriodEmissionsLimit for creation.\n",
      "2022-14-Aug 22:22:37.489 Queued 92 standard constraints for creation.\n",
      "2022-14-Aug 22:22:37.491 Finished scheduled task to add constraints to model.\n",
      "2022-14-Aug 22:22:37.491 Added 92 standard constraints to model.\n",
      "2022-14-Aug 22:22:37.491 Defined model objective.\n",
      "2022-14-Aug 22:22:38.866 Solved model. Solver status = OPTIMAL.\n",
      "2022-14-Aug 22:22:39.239 Saved results for vdemandnn to database.\n",
      "2022-14-Aug 22:22:39.254 Saved results for vnewcapacity to database.\n",
      "2022-14-Aug 22:22:39.273 Saved results for vtotalcapacityannual to database.\n",
      "2022-14-Aug 22:22:39.292 Saved results for vproductionbytechnologyannual to database.\n",
      "2022-14-Aug 22:22:39.720 Saved results for vproductionnn to database.\n",
      "2022-14-Aug 22:22:39.733 Saved results for vusebytechnologyannual to database.\n",
      "2022-14-Aug 22:22:40.111 Saved results for vusenn to database.\n",
      "2022-14-Aug 22:22:40.121 Saved results for vtotaldiscountedcost to database.\n",
      "2022-14-Aug 22:22:40.121 Finished saving results to database.\n",
      "2022-14-Aug 22:22:40.130 Dropped temporary tables.\n",
      "2022-14-Aug 22:22:40.130 Finished modeling scenario.\n",
      "Presolve 14531 (-49539) rows, 8337 (-49093) columns and 44754 (-129112) elements\n",
      "0  Obj 0 Primal inf 19254.693 (980) Dual inf 9.2763083e+13 (970)\n",
      "Perturbing problem by 0.001% of 9.6635798e+08 - largest nonzero change 0.69905281 ( 0.18888349%) - largest zero change 0\n",
      "297  Obj 13137.913 Primal inf 13668.619 (963) Dual inf 7.8397013e+13 (1640)\n",
      "594  Obj 4720.9557 Primal inf 11068.391 (992) Dual inf 9.4357857e+13 (2585)\n",
      "891  Obj 1732.0814 Primal inf 10282.721 (994) Dual inf 1.2393356e+14 (3273)\n",
      "1188  Obj 388.51046 Primal inf 9647.0231 (995) Dual inf 1.4699663e+14 (3688)\n",
      "1485  Obj 308.69967 Primal inf 9589.2161 (1037) Dual inf 1.3705963e+14 (3380)\n",
      "1782  Obj 122.64174 Primal inf 9288.6627 (1056) Dual inf 1.3013383e+14 (3204)\n",
      "2079  Obj 944.38098 Primal inf 7943.1185 (1014) Dual inf 1.2847025e+14 (2986)\n",
      "2376  Obj 944.40831 Primal inf 7403.8111 (947) Dual inf 1.1706086e+14 (2786)\n",
      "2673  Obj 932.99166 Primal inf 6690.9371 (848) Dual inf 1.0577567e+14 (2525)\n",
      "2970  Obj 933.00036 Primal inf 4843.6634 (673) Dual inf 9.994694e+13 (2192)\n",
      "3267  Obj 2602.4323 Primal inf 3799.6059 (652) Dual inf 7.4954097e+13 (1999)\n",
      "3564  Obj 3430.1269 Primal inf 3217.7054 (586) Dual inf 1.0743475e+14 (2519)\n",
      "3861  Obj 5416.3285 Primal inf 2457.4937 (485) Dual inf 9.06719e+13 (2482)\n",
      "4158  Obj 9621.4952 Primal inf 1713.0812 (450) Dual inf 7.5006847e+13 (2507)\n",
      "4455  Obj 15065.884 Primal inf 1118.6972 (420) Dual inf 5.7015357e+13 (2460)\n",
      "4752  Obj 25599.496 Primal inf 227.39001 (324) Dual inf 1.7575545e+13 (2377)\n",
      "5058  Obj 28254.68 Primal inf 21.950968 (89) Dual inf 2.8760837e+12 (2430)\n",
      "5355  Obj 29872.415 Primal inf 5.5978358 (23) Dual inf 2.992674e+11 (1489)\n",
      "5652  Obj 32068.347 Primal inf 2.9707333 (22) Dual inf 9.7583155e+11 (1758)\n",
      "5949  Obj 37070.465 Primal inf 1.6237633 (13) Dual inf 1.5728656e+11 (1461)\n",
      "6246  Obj 37969.922 Dual inf 108612.05 (1052)\n",
      "6517  Obj 31501.392 Dual inf 190299.19 (874)\n",
      "6812  Obj 25313.947 Dual inf 52157.178 (615)\n",
      "7109  Obj 20886.335 Dual inf 133391.01 (653)\n",
      "7406  Obj 17728.365 Dual inf 24734.339 (445)\n",
      "7703  Obj 17416.948 Dual inf 16899.926 (373)\n",
      "8000  Obj 17031.814 Dual inf 7190.8104 (387)\n",
      "8297  Obj 16279.109 Dual inf 5920.3581 (252)\n",
      "8594  Obj 16204.094 Dual inf 516.79119 (239)\n",
      "8891  Obj 16144.058 Dual inf 62.012341 (292)\n",
      "9188  Obj 16142.085 Dual inf 0.3961196 (22)\n",
      "9222  Obj 16141.909\n",
      "Optimal - objective value 16147.646\n",
      "After Postsolve, objective 16147.646, infeasibilities - dual 0 (0), primal 0 (0)\n",
      "Optimal objective 16147.64593 - 9222 iterations time 1.162, Presolve 0.16\n"
     ]
    },
    {
     "data": {
      "text/plain": [
       "OPTIMAL::TerminationStatusCode = 1"
      ]
     },
     "execution_count": 41,
     "metadata": {},
     "output_type": "execute_result"
    }
   ],
   "source": [
    "dbpath = normpath(joinpath(pathof(NemoMod), \"..\", \"..\", \"test\", \"ramp_test.sqlite\"))\n",
    "chmod(dbpath, 0o777)\n",
    "NemoMod.calculatescenario(dbpath; jumpmodel=Model(Cbc.Optimizer), numprocs = 1)"
   ]
  },
  {
   "cell_type": "code",
   "execution_count": 46,
   "metadata": {},
   "outputs": [],
   "source": [
    "# get tables from SISEPUEDE\n",
    "db = SQLite.DB(fp_sqlite_nemomod_db_tmp)\n",
    "\n",
    "dict_tables = Dict{String, DataFrame}()\n",
    "tables_vary = []\n",
    "\n",
    "tabs = SQLite.tables(db)[1]\n",
    "table_name = 0\n",
    "for k in 1:length(tabs)\n",
    "    table_name = tabs[k]\n",
    "    df_tmp = DBInterface.execute(db, \"select * from $(table_name)\") |> DataFrame\n",
    "    dict_tables[table_name] = df_tmp\n",
    "    (nrow(df_tmp) > 0) ? push!(tables_vary, table_name) : nothing\n",
    "end\n",
    "\n",
    "\n",
    "# get tables from DEMO\n",
    "db_demo = SQLite.DB(dbpath)\n",
    "\n",
    "dict_tables_demo = Dict{String, DataFrame}()\n",
    "tables_vary_demo = []\n",
    "\n",
    "tabs_demo = SQLite.tables(db_demo)[1]\n",
    "for k in 1:length(tabs_demo)\n",
    "    table_name = tabs_demo[k]\n",
    "    df_tmp = DBInterface.execute(db_demo, \"select * from $(table_name)\") |> DataFrame\n",
    "    dict_tables_demo[table_name] = df_tmp\n",
    "    (nrow(df_tmp) > 0) ? push!(tables_vary_demo, table_name) : nothing\n",
    "end"
   ]
  },
  {
   "cell_type": "code",
   "execution_count": 10,
   "metadata": {},
   "outputs": [
    {
     "name": "stdout",
     "output_type": "stream",
     "text": [
      "StorageLevelStart\n",
      "StorageFullLoadHours\n"
     ]
    }
   ],
   "source": [
    "#setdiff(keys(dict_tables_demo), keys(dict_tables))\n",
    "for k in keys(dict_tables_demo)\n",
    "    #((\"f\" in names(dict_tables_demo[k])) & (nrow(dict_tables_demo[k]) > 0)) ? println(k) : nothing\n",
    "    if k in keys(dict_tables)\n",
    "        if (nrow(dict_tables_demo[k]) != 0) & (nrow(dict_tables[k]) == 0)\n",
    "            println(k)\n",
    "        end\n",
    "    end\n",
    "        \n",
    "end\n",
    "#dict_tables_demo[\"InputActivityRatio\"]"
   ]
  },
  {
   "cell_type": "code",
   "execution_count": 19,
   "metadata": {
    "collapsed": true,
    "jupyter": {
     "outputs_hidden": true
    }
   },
   "outputs": [
    {
     "data": {
      "text/html": [
       "<div class=\"data-frame\"><p>5 rows × 7 columns</p><table class=\"data-frame\"><thead><tr><th></th><th>id</th><th>r</th><th>t</th><th>f</th><th>m</th><th>y</th><th>val</th></tr><tr><th></th><th title=\"Int64\">Int64</th><th title=\"String\">String</th><th title=\"String\">String</th><th title=\"String\">String</th><th title=\"String\">String</th><th title=\"String\">String</th><th title=\"Float64\">Float64</th></tr></thead><tbody><tr><th>1</th><td>6</td><td>1</td><td>gas</td><td>electricity</td><td>generate</td><td>2025</td><td>1.0</td></tr><tr><th>2</th><td>16</td><td>1</td><td>solar</td><td>electricity</td><td>generate</td><td>2025</td><td>1.0</td></tr><tr><th>3</th><td>26</td><td>1</td><td>storage1</td><td>electricity</td><td>generate</td><td>2025</td><td>1.0</td></tr><tr><th>4</th><td>36</td><td>1</td><td>gassupply</td><td>gas</td><td>generate</td><td>2025</td><td>1.0</td></tr><tr><th>5</th><td>46</td><td>1</td><td>solarsupply</td><td>solar</td><td>generate</td><td>2025</td><td>1.0</td></tr></tbody></table></div>"
      ],
      "text/latex": [
       "\\begin{tabular}{r|ccccccc}\n",
       "\t& id & r & t & f & m & y & val\\\\\n",
       "\t\\hline\n",
       "\t& Int64 & String & String & String & String & String & Float64\\\\\n",
       "\t\\hline\n",
       "\t1 & 6 & 1 & gas & electricity & generate & 2025 & 1.0 \\\\\n",
       "\t2 & 16 & 1 & solar & electricity & generate & 2025 & 1.0 \\\\\n",
       "\t3 & 26 & 1 & storage1 & electricity & generate & 2025 & 1.0 \\\\\n",
       "\t4 & 36 & 1 & gassupply & gas & generate & 2025 & 1.0 \\\\\n",
       "\t5 & 46 & 1 & solarsupply & solar & generate & 2025 & 1.0 \\\\\n",
       "\\end{tabular}\n"
      ],
      "text/plain": [
       "\u001b[1m5×7 DataFrame\u001b[0m\n",
       "\u001b[1m Row \u001b[0m│\u001b[1m id    \u001b[0m\u001b[1m r      \u001b[0m\u001b[1m t           \u001b[0m\u001b[1m f           \u001b[0m\u001b[1m m        \u001b[0m\u001b[1m y      \u001b[0m\u001b[1m val     \u001b[0m\n",
       "\u001b[1m     \u001b[0m│\u001b[90m Int64 \u001b[0m\u001b[90m String \u001b[0m\u001b[90m String      \u001b[0m\u001b[90m String      \u001b[0m\u001b[90m String   \u001b[0m\u001b[90m String \u001b[0m\u001b[90m Float64 \u001b[0m\n",
       "─────┼────────────────────────────────────────────────────────────────────\n",
       "   1 │     6  1       gas          electricity  generate  2025        1.0\n",
       "   2 │    16  1       solar        electricity  generate  2025        1.0\n",
       "   3 │    26  1       storage1     electricity  generate  2025        1.0\n",
       "   4 │    36  1       gassupply    gas          generate  2025        1.0\n",
       "   5 │    46  1       solarsupply  solar        generate  2025        1.0"
      ]
     },
     "execution_count": 19,
     "metadata": {},
     "output_type": "execute_result"
    }
   ],
   "source": [
    "unique(dict_tables_demo[\"OutputActivityRatio\"][:, :f])\n",
    "\n",
    "filter(x -> (x[:y] == \"2025\"), dict_tables_demo[\"OutputActivityRatio\"])"
   ]
  },
  {
   "cell_type": "code",
   "execution_count": 47,
   "metadata": {},
   "outputs": [
    {
     "name": "stdout",
     "output_type": "stream",
     "text": [
      "OperationalLife\n",
      "OutputActivityRatio\n",
      "vproductionbytechnologyannual\n",
      "vnewcapacity\n",
      "vtotalcapacityannual\n"
     ]
    }
   ],
   "source": [
    "for k in keys(dict_tables_demo)\n",
    "    \n",
    "    if \"t\" in names(dict_tables_demo[k])\n",
    "        ((\"gasssupply\" in dict_tables_demo[k][:, :t]) | (\"solarsupply\" in dict_tables_demo[k][:, :t])) ? println(k) : nothing\n",
    "    end\n",
    "end"
   ]
  },
  {
   "cell_type": "code",
   "execution_count": 51,
   "metadata": {},
   "outputs": [
    {
     "data": {
      "text/plain": [
       "7-element Vector{String}:\n",
       " \"gas\"\n",
       " \"solar\"\n",
       " \"storage1\"\n",
       " \"gassupply\"\n",
       " \"solarsupply\"\n",
       " \"coal\"\n",
       " \"coalsupply\""
      ]
     },
     "execution_count": 51,
     "metadata": {},
     "output_type": "execute_result"
    }
   ],
   "source": [
    "unique(dict_tables_demo[\"OutputActivityRatio\"][:, :t])"
   ]
  },
  {
   "cell_type": "code",
   "execution_count": 57,
   "metadata": {},
   "outputs": [
    {
     "data": {
      "text/html": [
       "<div class=\"data-frame\"><p>10 rows × 7 columns</p><table class=\"data-frame\"><thead><tr><th></th><th>id</th><th>r</th><th>t</th><th>f</th><th>m</th><th>y</th><th>val</th></tr><tr><th></th><th title=\"Int64\">Int64</th><th title=\"String\">String</th><th title=\"String\">String</th><th title=\"String\">String</th><th title=\"String\">String</th><th title=\"String\">String</th><th title=\"Float64\">Float64</th></tr></thead><tbody><tr><th>1</th><td>51</td><td>1</td><td>coal</td><td>electricity</td><td>generate</td><td>2020</td><td>1.0</td></tr><tr><th>2</th><td>52</td><td>1</td><td>coal</td><td>electricity</td><td>generate</td><td>2021</td><td>1.0</td></tr><tr><th>3</th><td>53</td><td>1</td><td>coal</td><td>electricity</td><td>generate</td><td>2022</td><td>1.0</td></tr><tr><th>4</th><td>54</td><td>1</td><td>coal</td><td>electricity</td><td>generate</td><td>2023</td><td>1.0</td></tr><tr><th>5</th><td>55</td><td>1</td><td>coal</td><td>electricity</td><td>generate</td><td>2024</td><td>1.0</td></tr><tr><th>6</th><td>56</td><td>1</td><td>coal</td><td>electricity</td><td>generate</td><td>2025</td><td>1.0</td></tr><tr><th>7</th><td>57</td><td>1</td><td>coal</td><td>electricity</td><td>generate</td><td>2026</td><td>1.0</td></tr><tr><th>8</th><td>58</td><td>1</td><td>coal</td><td>electricity</td><td>generate</td><td>2027</td><td>1.0</td></tr><tr><th>9</th><td>59</td><td>1</td><td>coal</td><td>electricity</td><td>generate</td><td>2028</td><td>1.0</td></tr><tr><th>10</th><td>60</td><td>1</td><td>coal</td><td>electricity</td><td>generate</td><td>2029</td><td>1.0</td></tr></tbody></table></div>"
      ],
      "text/latex": [
       "\\begin{tabular}{r|ccccccc}\n",
       "\t& id & r & t & f & m & y & val\\\\\n",
       "\t\\hline\n",
       "\t& Int64 & String & String & String & String & String & Float64\\\\\n",
       "\t\\hline\n",
       "\t1 & 51 & 1 & coal & electricity & generate & 2020 & 1.0 \\\\\n",
       "\t2 & 52 & 1 & coal & electricity & generate & 2021 & 1.0 \\\\\n",
       "\t3 & 53 & 1 & coal & electricity & generate & 2022 & 1.0 \\\\\n",
       "\t4 & 54 & 1 & coal & electricity & generate & 2023 & 1.0 \\\\\n",
       "\t5 & 55 & 1 & coal & electricity & generate & 2024 & 1.0 \\\\\n",
       "\t6 & 56 & 1 & coal & electricity & generate & 2025 & 1.0 \\\\\n",
       "\t7 & 57 & 1 & coal & electricity & generate & 2026 & 1.0 \\\\\n",
       "\t8 & 58 & 1 & coal & electricity & generate & 2027 & 1.0 \\\\\n",
       "\t9 & 59 & 1 & coal & electricity & generate & 2028 & 1.0 \\\\\n",
       "\t10 & 60 & 1 & coal & electricity & generate & 2029 & 1.0 \\\\\n",
       "\\end{tabular}\n"
      ],
      "text/plain": [
       "\u001b[1m10×7 DataFrame\u001b[0m\n",
       "\u001b[1m Row \u001b[0m│\u001b[1m id    \u001b[0m\u001b[1m r      \u001b[0m\u001b[1m t      \u001b[0m\u001b[1m f           \u001b[0m\u001b[1m m        \u001b[0m\u001b[1m y      \u001b[0m\u001b[1m val     \u001b[0m\n",
       "\u001b[1m     \u001b[0m│\u001b[90m Int64 \u001b[0m\u001b[90m String \u001b[0m\u001b[90m String \u001b[0m\u001b[90m String      \u001b[0m\u001b[90m String   \u001b[0m\u001b[90m String \u001b[0m\u001b[90m Float64 \u001b[0m\n",
       "─────┼───────────────────────────────────────────────────────────────\n",
       "   1 │    51  1       coal    electricity  generate  2020        1.0\n",
       "   2 │    52  1       coal    electricity  generate  2021        1.0\n",
       "   3 │    53  1       coal    electricity  generate  2022        1.0\n",
       "   4 │    54  1       coal    electricity  generate  2023        1.0\n",
       "   5 │    55  1       coal    electricity  generate  2024        1.0\n",
       "   6 │    56  1       coal    electricity  generate  2025        1.0\n",
       "   7 │    57  1       coal    electricity  generate  2026        1.0\n",
       "   8 │    58  1       coal    electricity  generate  2027        1.0\n",
       "   9 │    59  1       coal    electricity  generate  2028        1.0\n",
       "  10 │    60  1       coal    electricity  generate  2029        1.0"
      ]
     },
     "execution_count": 57,
     "metadata": {},
     "output_type": "execute_result"
    }
   ],
   "source": [
    "filter(z -> (z[:t] == \"coal\"), dict_tables_demo[\"OutputActivityRatio\"])"
   ]
  },
  {
   "cell_type": "code",
   "execution_count": 61,
   "metadata": {},
   "outputs": [
    {
     "data": {
      "text/html": [
       "<div class=\"data-frame\"><p>0 rows × 7 columns</p><table class=\"data-frame\"><thead><tr><th></th><th>id</th><th>r</th><th>t</th><th>f</th><th>m</th><th>y</th><th>val</th></tr><tr><th></th><th title=\"Int64\">Int64</th><th title=\"String\">String</th><th title=\"String\">String</th><th title=\"String\">String</th><th title=\"String\">String</th><th title=\"String\">String</th><th title=\"Float64\">Float64</th></tr></thead><tbody></tbody></table></div>"
      ],
      "text/latex": [
       "\\begin{tabular}{r|ccccccc}\n",
       "\t& id & r & t & f & m & y & val\\\\\n",
       "\t\\hline\n",
       "\t& Int64 & String & String & String & String & String & Float64\\\\\n",
       "\t\\hline\n",
       "\\end{tabular}\n"
      ],
      "text/plain": [
       "\u001b[1m0×7 DataFrame\u001b[0m"
      ]
     },
     "execution_count": 61,
     "metadata": {},
     "output_type": "execute_result"
    }
   ],
   "source": [
    " filter(x -> (x[:t] == \"coalsupply\"), dict_tables_demo[\"InputActivityRatio\"])"
   ]
  },
  {
   "cell_type": "code",
   "execution_count": 32,
   "metadata": {},
   "outputs": [
    {
     "data": {
      "text/plain": [
       "12-element Vector{String}:\n",
       " \"Manifest.toml\"\n",
       " \"Project.toml\"\n",
       " \"cbc_tests.jl\"\n",
       " \"cplex_tests.jl\"\n",
       " \"glpk_tests.jl\"\n",
       " \"gurobi_tests.jl\"\n",
       " \"mosek_tests.jl\"\n",
       " \"ramp_test.sqlite\"\n",
       " \"runtests.jl\"\n",
       " \"storage_test.sqlite\"\n",
       " \"storage_transmission_test.sqlite\"\n",
       " \"xpress_tests.jl\""
      ]
     },
     "execution_count": 32,
     "metadata": {},
     "output_type": "execute_result"
    }
   ],
   "source": [
    "readdir(normpath(joinpath(pathof(NemoMod), \"..\", \"..\", \"test\")))"
   ]
  },
  {
   "cell_type": "code",
   "execution_count": null,
   "metadata": {},
   "outputs": [],
   "source": []
  },
  {
   "cell_type": "code",
   "execution_count": null,
   "metadata": {},
   "outputs": [],
   "source": []
  }
 ],
 "metadata": {
  "kernelspec": {
   "display_name": "Julia 1.7.3",
   "language": "julia",
   "name": "julia-1.7"
  },
  "language_info": {
   "file_extension": ".jl",
   "mimetype": "application/julia",
   "name": "julia",
   "version": "1.7.3"
  }
 },
 "nbformat": 4,
 "nbformat_minor": 4
}
