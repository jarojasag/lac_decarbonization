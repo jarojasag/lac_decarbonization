{
 "cells": [
  {
   "cell_type": "code",
   "execution_count": 1,
   "metadata": {},
   "outputs": [
    {
     "name": "stderr",
     "output_type": "stream",
     "text": [
      "\u001b[32m\u001b[1m  Activating\u001b[22m\u001b[39m project at `~/Documents/Projects/git_jbus/lac_decarbonization/julia`\n",
      "┌ Info: Precompiling NemoMod [a3c327a0-d2f0-11e8-37fd-d12fd35c3c72]\n",
      "└ @ Base loading.jl:1664\n",
      "WARNING: Method definition parse_line(String) in module ConfParser at /Users/jsyme/.julia/packages/ConfParser/b2fge/src/ConfParser.jl:95 overwritten in module NemoMod at /Users/jsyme/.julia/packages/NemoMod/vg6Tx/src/other_functions.jl:35.\n",
      "  ** incremental compilation may be fatally broken for this module **\n",
      "\n",
      "┌ Info: Precompiling Gurobi [2e9cd046-0924-5485-92f1-d5272153d98b]\n",
      "└ @ Base loading.jl:1664\n",
      "┌ Info: Precompiling GAMS [1ca51c6a-1b4d-4546-9ae1-53e0a243ab12]\n",
      "└ @ Base loading.jl:1664\n",
      "┌ Info: Precompiling CSV [336ed68f-0bac-5ca0-87d4-7b16caf5d00b]\n",
      "└ @ Base loading.jl:1664\n"
     ]
    },
    {
     "data": {
      "text/plain": [
       "\"/Users/jsyme/Documents/Projects/git_jbus/lac_decarbonization/tmp/nemomod_intermediate_database.sqlite\""
      ]
     },
     "execution_count": 1,
     "metadata": {},
     "output_type": "execute_result"
    }
   ],
   "source": [
    "using Revise\n",
    "!(pwd() in LOAD_PATH) ? push!(LOAD_PATH, pwd()) : nothing\n",
    "include(\"SISEPUEDEPJSF.jl\")\n",
    "import .SISEPUEDEPJSF\n",
    "\n",
    "\n",
    "\n",
    "using Pkg\n",
    "Pkg.activate(\".\")\n",
    "\n",
    "\n",
    "using DataFrames\n",
    "using NemoMod\n",
    "using SQLite\n",
    "using Cbc\n",
    "using JuMP\n",
    "using Gurobi\n",
    "using GAMS\n",
    "\n",
    "include(\"setup_analysis.jl\")"
   ]
  },
  {
   "cell_type": "code",
   "execution_count": 2,
   "metadata": {},
   "outputs": [
    {
     "data": {
      "text/latex": [
       "\\begin{verbatim}\n",
       "calculatescenario(dbpath::String; jumpmodel::JuMP.Model = Model(Cbc.Optimizer),\n",
       "    calcyears::Array{Int, 1} = Array{Int, 1}(),\n",
       "    varstosave::String = \"vdemandnn, vnewcapacity, vtotalcapacityannual,\n",
       "        vproductionbytechnologyannual, vproductionnn, vusebytechnologyannual,\n",
       "        vusenn, vtotaldiscountedcost\",\n",
       "    restrictvars::Bool = true, reportzeros::Bool = false,\n",
       "    continuoustransmission::Bool = false,\n",
       "    forcemip::Bool = false, startvalsdbpath::String = \"\",\n",
       "    startvalsvars::String = \"\", precalcresultspath::String = \"\",\n",
       "    quiet::Bool = false\n",
       ")\n",
       "\\end{verbatim}\n",
       "Calculates a scenario specified in a scenario database. Returns a \\texttt{MathOptInterface.TerminationStatusCode} indicating the termination status reported by the solver used for the calculation (e.g., \\texttt{OPTIMAL::TerminationStatusCode = 1}).\n",
       "\n",
       "\\section{Arguments}\n",
       "\\begin{itemize}\n",
       "\\item \\texttt{dbpath::String}: Path to the scenario database, which must be a SQLite version 3 database that   implements NEMO's scenario database structure. See NEMO's documentation on scenario databases   for details. Empty scenario databases can be generated with NEMO's \\texttt{createnemodb} function.\n",
       "\n",
       "\n",
       "\\item \\texttt{jumpmodel::JuMP.Model}: \\href{https://github.com/jump-dev/JuMP.jl}{JuMP} model object   specifying the solver to be used for the calculation.   Examples: \\texttt{Model(optimizer\\_with\\_attributes(GLPK.Optimizer, \"presolve\" => true))},   \\texttt{Model(CPLEX.Optimizer)}, \\texttt{Model(optimizer\\_with\\_attributes(Gurobi.Optimizer, \"NumericFocus\" => 1))}.   Note that the solver's Julia package (Julia wrapper) must be installed. See the   documentation for JuMP for information on how to specify a solver and set solver options.\n",
       "\n",
       "\n",
       "\\item \\texttt{calcyears::Array\\{Int, 1\\}}: Years to include in the calculation (a subset of the years specified in   the scenario database). All years in the database are included if this argument is omitted.\n",
       "\n",
       "\n",
       "\\item \\texttt{varstosave::String}: Comma-delimited list of output variables whose results should be   saved in the scenario database when the scenario is calculated. See NEMO's documentation on   outputs for information on the variables that are available.\n",
       "\n",
       "\n",
       "\\item \\texttt{restrictvars::Bool}: Indicates whether NEMO should conduct additional data analysis   to limit the set of variables created in the optimization problem for the scenario.   By default, to improve performance, NEMO selectively creates certain variables to   avoid combinations of subscripts that do not exist in the scenario's data. This option   increases the stringency of this filtering. It requires more processing time as the   problem is built, but it can substantially reduce the solve time for large models.\n",
       "\n",
       "\n",
       "\\item \\texttt{reportzeros::Bool}: Indicates whether results saved in the scenario database should   include values equal to zero. Specifying \\texttt{false} can substantially improve the   performance of large models.\n",
       "\n",
       "\n",
       "\\item \\texttt{continuoustransmission::Bool}: Indicates whether continuous (\\texttt{true}) or binary (\\texttt{false})   variables are used to represent investment decisions for candidate transmission lines. Not   relevant in scenarios that do not model transmission.\n",
       "\n",
       "\n",
       "\\item \\texttt{forcemip::Bool}: Forces NEMO to formulate the optimization problem for the scenario as a   mixed-integer problem. This can improve performance with some solvers (e.g., CPLEX, Mosek). If   this option is set to \\texttt{false}, the input parameters for the scenario (i.e., in the scenario   database) determine whether the optimization problem is mixed-integer.\n",
       "\n",
       "\n",
       "\\item \\texttt{startvalsdbpath::String}: Path to a previously calculated scenario database from which NEMO   should take starting values for variables in the optimization problem formulated in this   function. This argument is used in conjunction with \\texttt{startvalsvars}.\n",
       "\n",
       "\n",
       "\\item \\texttt{startvalsvars::String}: Comma-delimited list of variables for which starting values should be set.   See NEMO's documentation on outputs for information on the variables that are available. NEMO   takes starting values from output variable results saved in the database identified by   \\texttt{startvalsdbpath}. Saved results are matched to variables in the optimization problem using   the variables' subscripts, and starting values are set with JuMP's \\texttt{set\\_start\\_value} function.   If \\texttt{startvalsvars} is an empty string, NEMO sets starting values for all variables present in   both the optimization problem and the \\texttt{startvalsdbpath} database.\n",
       "\n",
       "\n",
       "\\item \\texttt{precalcresultspath::String}: Path to a previously calculated scenario database that NEMO should   copy over the database specified by \\texttt{dbpath}. This argument can also be a directory containing   previously calculated scenario databases, in which case NEMO copies any file in the directory   with the same name as the \\texttt{dbpath} database. The intent of the argument is to short-circuit   calculations in situations where valid results already exist.\n",
       "\n",
       "\n",
       "\\item \\texttt{quiet::Bool}: Suppresses low-priority status messages (which are otherwise printed to   \\texttt{STDOUT}).\n",
       "\n",
       "\\end{itemize}\n"
      ],
      "text/markdown": [
       "```\n",
       "calculatescenario(dbpath::String; jumpmodel::JuMP.Model = Model(Cbc.Optimizer),\n",
       "    calcyears::Array{Int, 1} = Array{Int, 1}(),\n",
       "    varstosave::String = \"vdemandnn, vnewcapacity, vtotalcapacityannual,\n",
       "        vproductionbytechnologyannual, vproductionnn, vusebytechnologyannual,\n",
       "        vusenn, vtotaldiscountedcost\",\n",
       "    restrictvars::Bool = true, reportzeros::Bool = false,\n",
       "    continuoustransmission::Bool = false,\n",
       "    forcemip::Bool = false, startvalsdbpath::String = \"\",\n",
       "    startvalsvars::String = \"\", precalcresultspath::String = \"\",\n",
       "    quiet::Bool = false\n",
       ")\n",
       "```\n",
       "\n",
       "Calculates a scenario specified in a scenario database. Returns a `MathOptInterface.TerminationStatusCode` indicating the termination status reported by the solver used for the calculation (e.g., `OPTIMAL::TerminationStatusCode = 1`).\n",
       "\n",
       "# Arguments\n",
       "\n",
       "  * `dbpath::String`: Path to the scenario database, which must be a SQLite version 3 database that   implements NEMO's scenario database structure. See NEMO's documentation on scenario databases   for details. Empty scenario databases can be generated with NEMO's `createnemodb` function.\n",
       "  * `jumpmodel::JuMP.Model`: [JuMP](https://github.com/jump-dev/JuMP.jl) model object   specifying the solver to be used for the calculation.   Examples: `Model(optimizer_with_attributes(GLPK.Optimizer, \"presolve\" => true))`,   `Model(CPLEX.Optimizer)`, `Model(optimizer_with_attributes(Gurobi.Optimizer, \"NumericFocus\" => 1))`.   Note that the solver's Julia package (Julia wrapper) must be installed. See the   documentation for JuMP for information on how to specify a solver and set solver options.\n",
       "  * `calcyears::Array{Int, 1}`: Years to include in the calculation (a subset of the years specified in   the scenario database). All years in the database are included if this argument is omitted.\n",
       "  * `varstosave::String`: Comma-delimited list of output variables whose results should be   saved in the scenario database when the scenario is calculated. See NEMO's documentation on   outputs for information on the variables that are available.\n",
       "  * `restrictvars::Bool`: Indicates whether NEMO should conduct additional data analysis   to limit the set of variables created in the optimization problem for the scenario.   By default, to improve performance, NEMO selectively creates certain variables to   avoid combinations of subscripts that do not exist in the scenario's data. This option   increases the stringency of this filtering. It requires more processing time as the   problem is built, but it can substantially reduce the solve time for large models.\n",
       "  * `reportzeros::Bool`: Indicates whether results saved in the scenario database should   include values equal to zero. Specifying `false` can substantially improve the   performance of large models.\n",
       "  * `continuoustransmission::Bool`: Indicates whether continuous (`true`) or binary (`false`)   variables are used to represent investment decisions for candidate transmission lines. Not   relevant in scenarios that do not model transmission.\n",
       "  * `forcemip::Bool`: Forces NEMO to formulate the optimization problem for the scenario as a   mixed-integer problem. This can improve performance with some solvers (e.g., CPLEX, Mosek). If   this option is set to `false`, the input parameters for the scenario (i.e., in the scenario   database) determine whether the optimization problem is mixed-integer.\n",
       "  * `startvalsdbpath::String`: Path to a previously calculated scenario database from which NEMO   should take starting values for variables in the optimization problem formulated in this   function. This argument is used in conjunction with `startvalsvars`.\n",
       "  * `startvalsvars::String`: Comma-delimited list of variables for which starting values should be set.   See NEMO's documentation on outputs for information on the variables that are available. NEMO   takes starting values from output variable results saved in the database identified by   `startvalsdbpath`. Saved results are matched to variables in the optimization problem using   the variables' subscripts, and starting values are set with JuMP's `set_start_value` function.   If `startvalsvars` is an empty string, NEMO sets starting values for all variables present in   both the optimization problem and the `startvalsdbpath` database.\n",
       "  * `precalcresultspath::String`: Path to a previously calculated scenario database that NEMO should   copy over the database specified by `dbpath`. This argument can also be a directory containing   previously calculated scenario databases, in which case NEMO copies any file in the directory   with the same name as the `dbpath` database. The intent of the argument is to short-circuit   calculations in situations where valid results already exist.\n",
       "  * `quiet::Bool`: Suppresses low-priority status messages (which are otherwise printed to   `STDOUT`).\n"
      ],
      "text/plain": [
       "\u001b[36m  calculatescenario(dbpath::String; jumpmodel::JuMP.Model = Model(Cbc.Optimizer),\u001b[39m\n",
       "\u001b[36m      calcyears::Array{Int, 1} = Array{Int, 1}(),\u001b[39m\n",
       "\u001b[36m      varstosave::String = \"vdemandnn, vnewcapacity, vtotalcapacityannual,\u001b[39m\n",
       "\u001b[36m          vproductionbytechnologyannual, vproductionnn, vusebytechnologyannual,\u001b[39m\n",
       "\u001b[36m          vusenn, vtotaldiscountedcost\",\u001b[39m\n",
       "\u001b[36m      restrictvars::Bool = true, reportzeros::Bool = false,\u001b[39m\n",
       "\u001b[36m      continuoustransmission::Bool = false,\u001b[39m\n",
       "\u001b[36m      forcemip::Bool = false, startvalsdbpath::String = \"\",\u001b[39m\n",
       "\u001b[36m      startvalsvars::String = \"\", precalcresultspath::String = \"\",\u001b[39m\n",
       "\u001b[36m      quiet::Bool = false\u001b[39m\n",
       "\u001b[36m  )\u001b[39m\n",
       "\n",
       "  Calculates a scenario specified in a scenario database. Returns a\n",
       "  \u001b[36mMathOptInterface.TerminationStatusCode\u001b[39m indicating the termination status\n",
       "  reported by the solver used for the calculation (e.g.,\n",
       "  \u001b[36mOPTIMAL::TerminationStatusCode = 1\u001b[39m).\n",
       "\n",
       "\u001b[1m  Arguments\u001b[22m\n",
       "\u001b[1m  ≡≡≡≡≡≡≡≡≡≡≡\u001b[22m\n",
       "\n",
       "    •  \u001b[36mdbpath::String\u001b[39m: Path to the scenario database, which must be a\n",
       "       SQLite version 3 database that implements NEMO's scenario database\n",
       "       structure. See NEMO's documentation on scenario databases for\n",
       "       details. Empty scenario databases can be generated with NEMO's\n",
       "       \u001b[36mcreatenemodb\u001b[39m function.\n",
       "\n",
       "    •  \u001b[36mjumpmodel::JuMP.Model\u001b[39m: JuMP (https://github.com/jump-dev/JuMP.jl)\n",
       "       model object specifying the solver to be used for the calculation.\n",
       "       Examples: \u001b[36mModel(optimizer_with_attributes(GLPK.Optimizer,\n",
       "       \"presolve\" => true))\u001b[39m, \u001b[36mModel(CPLEX.Optimizer)\u001b[39m,\n",
       "       \u001b[36mModel(optimizer_with_attributes(Gurobi.Optimizer, \"NumericFocus\"\n",
       "       => 1))\u001b[39m. Note that the solver's Julia package (Julia wrapper) must\n",
       "       be installed. See the documentation for JuMP for information on\n",
       "       how to specify a solver and set solver options.\n",
       "\n",
       "    •  \u001b[36mcalcyears::Array{Int, 1}\u001b[39m: Years to include in the calculation (a\n",
       "       subset of the years specified in the scenario database). All years\n",
       "       in the database are included if this argument is omitted.\n",
       "\n",
       "    •  \u001b[36mvarstosave::String\u001b[39m: Comma-delimited list of output variables whose\n",
       "       results should be saved in the scenario database when the scenario\n",
       "       is calculated. See NEMO's documentation on outputs for information\n",
       "       on the variables that are available.\n",
       "\n",
       "    •  \u001b[36mrestrictvars::Bool\u001b[39m: Indicates whether NEMO should conduct\n",
       "       additional data analysis to limit the set of variables created in\n",
       "       the optimization problem for the scenario. By default, to improve\n",
       "       performance, NEMO selectively creates certain variables to avoid\n",
       "       combinations of subscripts that do not exist in the scenario's\n",
       "       data. This option increases the stringency of this filtering. It\n",
       "       requires more processing time as the problem is built, but it can\n",
       "       substantially reduce the solve time for large models.\n",
       "\n",
       "    •  \u001b[36mreportzeros::Bool\u001b[39m: Indicates whether results saved in the scenario\n",
       "       database should include values equal to zero. Specifying \u001b[36mfalse\u001b[39m can\n",
       "       substantially improve the performance of large models.\n",
       "\n",
       "    •  \u001b[36mcontinuoustransmission::Bool\u001b[39m: Indicates whether continuous (\u001b[36mtrue\u001b[39m)\n",
       "       or binary (\u001b[36mfalse\u001b[39m) variables are used to represent investment\n",
       "       decisions for candidate transmission lines. Not relevant in\n",
       "       scenarios that do not model transmission.\n",
       "\n",
       "    •  \u001b[36mforcemip::Bool\u001b[39m: Forces NEMO to formulate the optimization problem\n",
       "       for the scenario as a mixed-integer problem. This can improve\n",
       "       performance with some solvers (e.g., CPLEX, Mosek). If this option\n",
       "       is set to \u001b[36mfalse\u001b[39m, the input parameters for the scenario (i.e., in\n",
       "       the scenario database) determine whether the optimization problem\n",
       "       is mixed-integer.\n",
       "\n",
       "    •  \u001b[36mstartvalsdbpath::String\u001b[39m: Path to a previously calculated scenario\n",
       "       database from which NEMO should take starting values for variables\n",
       "       in the optimization problem formulated in this function. This\n",
       "       argument is used in conjunction with \u001b[36mstartvalsvars\u001b[39m.\n",
       "\n",
       "    •  \u001b[36mstartvalsvars::String\u001b[39m: Comma-delimited list of variables for which\n",
       "       starting values should be set. See NEMO's documentation on outputs\n",
       "       for information on the variables that are available. NEMO takes\n",
       "       starting values from output variable results saved in the database\n",
       "       identified by \u001b[36mstartvalsdbpath\u001b[39m. Saved results are matched to\n",
       "       variables in the optimization problem using the variables'\n",
       "       subscripts, and starting values are set with JuMP's\n",
       "       \u001b[36mset_start_value\u001b[39m function. If \u001b[36mstartvalsvars\u001b[39m is an empty string,\n",
       "       NEMO sets starting values for all variables present in both the\n",
       "       optimization problem and the \u001b[36mstartvalsdbpath\u001b[39m database.\n",
       "\n",
       "    •  \u001b[36mprecalcresultspath::String\u001b[39m: Path to a previously calculated\n",
       "       scenario database that NEMO should copy over the database\n",
       "       specified by \u001b[36mdbpath\u001b[39m. This argument can also be a directory\n",
       "       containing previously calculated scenario databases, in which case\n",
       "       NEMO copies any file in the directory with the same name as the\n",
       "       \u001b[36mdbpath\u001b[39m database. The intent of the argument is to short-circuit\n",
       "       calculations in situations where valid results already exist.\n",
       "\n",
       "    •  \u001b[36mquiet::Bool\u001b[39m: Suppresses low-priority status messages (which are\n",
       "       otherwise printed to \u001b[36mSTDOUT\u001b[39m)."
      ]
     },
     "execution_count": 2,
     "metadata": {},
     "output_type": "execute_result"
    }
   ],
   "source": [
    "?NemoMod.calculatescenario"
   ]
  },
  {
   "cell_type": "code",
   "execution_count": 122,
   "metadata": {},
   "outputs": [
    {
     "data": {
      "text/plain": [
       "SQLite.DB(\"/Users/jsyme/Documents/Projects/git_jbus/lac_decarbonization/tmp/test_nemo/nemomod_testdb.sqlite\")"
      ]
     },
     "execution_count": 122,
     "metadata": {},
     "output_type": "execute_result"
    }
   ],
   "source": [
    "fp_sqlite = \"/Users/jsyme/Documents/Projects/git_jbus/lac_decarbonization/tmp/test_nemo/nemomod_testdb.sqlite\"\n",
    "db = SQLite.DB(fp_sqlite)\n"
   ]
  },
  {
   "cell_type": "code",
   "execution_count": 123,
   "metadata": {
    "tags": []
   },
   "outputs": [
    {
     "name": "stdout",
     "output_type": "stream",
     "text": [
      "2023-17-Jan 23:43:05.545 Started modeling scenario.\n",
      "2023-17-Jan 23:43:05.545 Validated run-time arguments.\n",
      "2023-17-Jan 23:43:05.546 Connected to scenario database. Path = /Users/jsyme/Documents/Projects/git_jbus/lac_decarbonization/tmp/test_nemo/nemomod_testdb.sqlite.\n",
      "2023-17-Jan 23:43:05.553 Dropped pre-existing result tables from database.\n",
      "2023-17-Jan 23:43:05.553 Verified that transmission modeling is not enabled.\n",
      "2023-17-Jan 23:43:05.591 Created parameter views and indices.\n",
      "2023-17-Jan 23:43:05.595 Created temporary tables.\n",
      "2023-17-Jan 23:43:05.744 Executed core database queries.\n",
      "2023-17-Jan 23:43:05.747 Defined dimensions.\n",
      "2023-17-Jan 23:43:05.748 Defined demand variables.\n",
      "2023-17-Jan 23:43:05.750 Defined storage variables.\n",
      "2023-17-Jan 23:43:05.751 Defined capacity variables.\n",
      "2023-17-Jan 23:43:06.060 Defined activity variables.\n",
      "2023-17-Jan 23:43:06.060 Defined costing variables.\n",
      "2023-17-Jan 23:43:06.061 Defined reserve margin variables.\n",
      "2023-17-Jan 23:43:06.061 Defined emissions variables.\n",
      "2023-17-Jan 23:43:06.061 Defined combined nodal and non-nodal variables.\n",
      "2023-17-Jan 23:43:06.062 Finished defining model variables.\n",
      "2023-17-Jan 23:43:06.062 Scheduled task to add constraints to model.\n",
      "2023-17-Jan 23:43:06.062 Queued constraint CAa1_TotalNewCapacity for creation.\n",
      "2023-17-Jan 23:43:06.062 Queued constraint CAa2_TotalAnnualCapacity for creation.\n",
      "2023-17-Jan 23:43:06.062 Queued constraint VRateOfActivity1 for creation.\n",
      "2023-17-Jan 23:43:06.062 Queued constraint RampRate for creation.\n",
      "2023-17-Jan 23:43:06.062 Queued constraint CAa3_TotalActivityOfEachTechnology for creation.\n",
      "2023-17-Jan 23:43:06.062 Queued constraint CAa4_Constraint_Capacity for creation.\n",
      "2023-17-Jan 23:43:06.062 Queued constraint MinimumTechnologyUtilization for creation.\n",
      "2023-17-Jan 23:43:06.062 Queued constraint EBa2_RateOfFuelProduction2 for creation.\n",
      "2023-17-Jan 23:43:06.062 Queued constraint GenerationAnnualNN for creation.\n",
      "2023-17-Jan 23:43:06.063 Queued constraint ReGenerationAnnualNN for creation.\n",
      "2023-17-Jan 23:43:06.063 Queued constraint EBa3_RateOfFuelProduction3 for creation.\n",
      "2023-17-Jan 23:43:06.063 Queued constraint VRateOfProduction1 for creation.\n",
      "2023-17-Jan 23:43:06.063 Queued constraint EBa5_RateOfFuelUse2 for creation.\n",
      "2023-17-Jan 23:43:06.073 Queued constraint EBa6_RateOfFuelUse3 for creation.\n",
      "2023-17-Jan 23:43:06.073 Queued constraint VRateOfUse1 for creation.\n",
      "2023-17-Jan 23:43:06.073 Queued constraint EBa7_EnergyBalanceEachTS1 for creation.\n",
      "2023-17-Jan 23:43:06.073 Queued constraint EBa8_EnergyBalanceEachTS2 for creation.\n",
      "2023-17-Jan 23:43:06.073 Queued constraint EBa9_EnergyBalanceEachTS3 for creation.\n",
      "2023-17-Jan 23:43:06.074 Queued constraint EBa11_EnergyBalanceEachTS5 for creation.\n",
      "2023-17-Jan 23:43:06.074 Queued constraint EBb0_EnergyBalanceEachYear for creation.\n",
      "2023-17-Jan 23:43:06.074 Queued constraint EBb1_EnergyBalanceEachYear for creation.\n",
      "2023-17-Jan 23:43:06.075 Queued constraint EBb2_EnergyBalanceEachYear for creation.\n",
      "2023-17-Jan 23:43:06.076 Queued constraint EBb3_EnergyBalanceEachYear for creation.\n",
      "2023-17-Jan 23:43:06.077 Queued constraint EBb5_EnergyBalanceEachYear for creation.\n",
      "2023-17-Jan 23:43:06.077 Queued constraint Acc3_AverageAnnualRateOfActivity for creation.\n",
      "2023-17-Jan 23:43:06.077 Queued constraint NS1_RateOfStorageCharge for creation.\n",
      "2023-17-Jan 23:43:06.077 Queued constraint NS2_RateOfStorageDischarge for creation.\n",
      "2023-17-Jan 23:43:06.112 Queued constraint NS3_StorageLevelTsGroup1Start for creation.\n",
      "2023-17-Jan 23:43:06.112 Queued constraint NS4_StorageLevelTsGroup2Start for creation.\n",
      "2023-17-Jan 23:43:06.113 Queued constraint NS5_StorageLevelTimesliceEnd for creation.\n",
      "2023-17-Jan 23:43:06.113 Queued constraint NS6_StorageLevelTsGroup2End for creation.\n",
      "2023-17-Jan 23:43:06.113 Queued constraint NS6a_StorageLevelTsGroup2NetZero for creation.\n",
      "2023-17-Jan 23:43:06.113 Queued constraint NS7_StorageLevelTsGroup1End for creation.\n",
      "2023-17-Jan 23:43:06.113 Queued constraint NS7a_StorageLevelTsGroup1NetZero for creation.\n",
      "2023-17-Jan 23:43:06.113 Queued constraint NS8_StorageLevelYearEnd for creation.\n",
      "2023-17-Jan 23:43:06.168 Queued constraint NS8a_StorageLevelYearEndNetZero for creation.\n",
      "2023-17-Jan 23:43:06.168 Queued constraint SI1_StorageUpperLimit for creation.\n",
      "2023-17-Jan 23:43:06.168 Queued constraint SI2_StorageLowerLimit for creation.\n",
      "2023-17-Jan 23:43:06.169 Queued constraint SI3_TotalNewStorage for creation.\n",
      "2023-17-Jan 23:43:06.169 Queued constraint NS9a_StorageLevelTsLowerLimit for creation.\n",
      "2023-17-Jan 23:43:06.169 Queued constraint NS9b_StorageLevelTsUpperLimit for creation.\n",
      "2023-17-Jan 23:43:06.169 Queued constraint NS10_StorageChargeLimit for creation.\n",
      "2023-17-Jan 23:43:06.191 Queued constraint NS11_StorageDischargeLimit for creation.\n",
      "2023-17-Jan 23:43:06.191 Queued constraint NS12a_StorageLevelTsGroup2LowerLimit for creation.\n",
      "2023-17-Jan 23:43:06.191 Queued constraint NS12b_StorageLevelTsGroup2UpperLimit for creation.\n",
      "2023-17-Jan 23:43:06.191 Queued constraint NS13a_StorageLevelTsGroup1LowerLimit for creation.\n",
      "2023-17-Jan 23:43:06.192 Queued constraint NS13b_StorageLevelTsGroup1UpperLimit for creation.\n",
      "2023-17-Jan 23:43:06.192 Queued constraint NS14_MaxStorageCapacity for creation.\n",
      "2023-17-Jan 23:43:06.192 Queued constraint NS15_MinStorageCapacity for creation.\n",
      "2023-17-Jan 23:43:06.192 Queued constraint NS16_MaxStorageCapacityInvestment for creation.\n",
      "2023-17-Jan 23:43:06.192 Queued constraint NS17_MinStorageCapacityInvestment for creation.\n",
      "2023-17-Jan 23:43:06.192 Queued constraint NS18_FullLoadHours for creation.\n",
      "2023-17-Jan 23:43:06.192 Queued constraint SI4a_FinancingStorage for creation.\n",
      "2023-17-Jan 23:43:06.193 Queued constraint SI4_UndiscountedCapitalInvestmentStorage for creation.\n",
      "2023-17-Jan 23:43:06.193 Queued constraint SI5_DiscountingCapitalInvestmentStorage for creation.\n",
      "2023-17-Jan 23:43:06.195 Queued constraint SI6_SalvageValueStorageAtEndOfPeriod1 for creation.\n",
      "2023-17-Jan 23:43:06.195 Queued constraint SI7_SalvageValueStorageAtEndOfPeriod2 for creation.\n",
      "2023-17-Jan 23:43:06.196 Queued constraint SI8_SalvageValueStorageAtEndOfPeriod3 for creation.\n",
      "2023-17-Jan 23:43:06.196 Queued constraint SI9_SalvageValueStorageDiscountedToStartYear for creation.\n",
      "2023-17-Jan 23:43:06.196 Queued constraint SI10_TotalDiscountedCostByStorage for creation.\n",
      "2023-17-Jan 23:43:06.196 Queued constraint CC1a_FinancingTechnology for creation.\n",
      "2023-17-Jan 23:43:06.196 Queued constraint CC1_UndiscountedCapitalInvestment for creation.\n",
      "2023-17-Jan 23:43:06.202 Queued constraint CC2_DiscountingCapitalInvestment for creation.\n",
      "2023-17-Jan 23:43:06.202 Queued constraint SV1_SalvageValueAtEndOfPeriod1 for creation.\n",
      "2023-17-Jan 23:43:06.202 Queued constraint SV2_SalvageValueAtEndOfPeriod2 for creation.\n",
      "2023-17-Jan 23:43:06.202 Queued constraint SV3_SalvageValueAtEndOfPeriod3 for creation.\n",
      "2023-17-Jan 23:43:06.204 Queued constraint SV4_SalvageValueDiscountedToStartYear for creation.\n",
      "2023-17-Jan 23:43:06.204 Queued constraint OC1_OperatingCostsVariable for creation.\n",
      "2023-17-Jan 23:43:06.208 Queued constraint OC2_OperatingCostsFixedAnnual for creation.\n",
      "2023-17-Jan 23:43:06.208 Queued constraint OC3_OperatingCostsTotalAnnual for creation.\n",
      "2023-17-Jan 23:43:06.208 Queued constraint OC4_DiscountedOperatingCostsTotalAnnual for creation.\n",
      "2023-17-Jan 23:43:06.230 Queued constraint TDC1_TotalDiscountedCostByTechnology for creation.\n",
      "2023-17-Jan 23:43:06.230 Queued constraint TDC2_TotalDiscountedCost for creation.\n",
      "2023-17-Jan 23:43:06.230 Queued constraint TCC1_TotalAnnualMaxCapacityConstraint for creation.\n",
      "2023-17-Jan 23:43:06.230 Queued constraint TCC2_TotalAnnualMinCapacityConstraint for creation.\n",
      "2023-17-Jan 23:43:06.230 Queued constraint NCC1_TotalAnnualMaxNewCapacityConstraint for creation.\n",
      "2023-17-Jan 23:43:06.230 Queued constraint NCC2_TotalAnnualMinNewCapacityConstraint for creation.\n",
      "2023-17-Jan 23:43:06.230 Queued constraint RM1_ReserveMargin_TechnologiesIncluded_In_Activity_Units for creation.\n",
      "2023-17-Jan 23:43:06.234 Queued constraint RM2_ReserveMargin_FuelsIncluded for creation.\n",
      "2023-17-Jan 23:43:06.234 Queued constraint RM3_ReserveMargin_Constraint for creation.\n",
      "2023-17-Jan 23:43:06.234 Queued constraint RE1_FuelProductionByTechnologyAnnual for creation.\n",
      "2023-17-Jan 23:43:06.241 Queued constraint FuelUseByTechnologyAnnual for creation.\n",
      "2023-17-Jan 23:43:06.241 Queued constraint RE2_ProductionTarget for creation.\n",
      "2023-17-Jan 23:43:06.241 Queued constraint MinShareProduction for creation.\n",
      "2023-17-Jan 23:43:06.241 Queued constraint E2a_AnnualEmissionProduction for creation.\n",
      "2023-17-Jan 23:43:06.241 Queued constraint E2b_AnnualEmissionProduction for creation.\n",
      "2023-17-Jan 23:43:06.252 Queued constraint E4_EmissionsPenaltyByTechnology for creation.\n",
      "2023-17-Jan 23:43:06.252 Queued constraint E5_DiscountedEmissionsPenaltyByTechnology for creation.\n",
      "2023-17-Jan 23:43:06.252 Queued constraint E6_EmissionsAccounting1 for creation.\n",
      "2023-17-Jan 23:43:06.305 Queued constraint E7_EmissionsAccounting2 for creation.\n",
      "2023-17-Jan 23:43:06.305 Queued constraint E8_AnnualEmissionsLimit for creation.\n",
      "2023-17-Jan 23:43:06.306 Queued constraint E9_ModelPeriodEmissionsLimit for creation.\n",
      "2023-17-Jan 23:43:06.306 Queued 92 standard constraints for creation.\n",
      "2023-17-Jan 23:43:06.306 Finished scheduled task to add constraints to model.\n",
      "2023-17-Jan 23:43:06.306 Added 92 standard constraints to model.\n",
      "2023-17-Jan 23:43:06.306 Defined model objective.\n",
      "2023-17-Jan 23:43:06.702 Solved model. Solver status = OPTIMAL.\n",
      "2023-17-Jan 23:43:06.708 Saved results for vdemandnn to database.\n",
      "2023-17-Jan 23:43:06.710 Saved results for vnewcapacity to database.\n",
      "2023-17-Jan 23:43:06.712 Saved results for vtotalcapacityannual to database.\n",
      "2023-17-Jan 23:43:06.715 Saved results for vproductionbytechnologyannual to database.\n",
      "2023-17-Jan 23:43:06.725 Saved results for vproductionnn to database.\n",
      "2023-17-Jan 23:43:06.728 Saved results for vusebytechnologyannual to database.\n",
      "2023-17-Jan 23:43:06.736 Saved results for vusenn to database.\n",
      "2023-17-Jan 23:43:06.739 Saved results for vtotaldiscountedcost to database.\n",
      "2023-17-Jan 23:43:06.739 Finished saving results to database.\n",
      "2023-17-Jan 23:43:06.741 Dropped temporary tables.\n",
      "2023-17-Jan 23:43:06.741 Finished modeling scenario.\n",
      "  1.196261 seconds (4.06 M allocations: 208.338 MiB, 11.76% gc time)\n"
     ]
    },
    {
     "data": {
      "text/plain": [
       "OPTIMAL::TerminationStatusCode = 1"
      ]
     },
     "execution_count": 123,
     "metadata": {},
     "output_type": "execute_result"
    }
   ],
   "source": [
    "model = Model(Gurobi.Optimizer); set_silent(model)\n",
    "@time NemoMod.calculatescenario(\n",
    "    fp_sqlite; \n",
    "    jumpmodel = model,\n",
    "    numprocs = 1\n",
    ")\n",
    "\n",
    "\n",
    "\n"
   ]
  },
  {
   "cell_type": "code",
   "execution_count": 124,
   "metadata": {},
   "outputs": [],
   "source": [
    "dict_tables = Dict()\n",
    "\n",
    "tabs = SQLite.tables(db)[1]\n",
    "table_name = 0\n",
    "tabs_populated = Vector{String}()\n",
    "for k in 1:length(tabs)\n",
    "    table_name = tabs[k]\n",
    "    df_tmp = DBInterface.execute(db, \"select * from $(table_name)\") |> DataFrame\n",
    "    dict_tables[table_name] = df_tmp\n",
    "    \n",
    "    (nrow(df_tmp) > 0) ? push!(tabs_populated, table_name) : nothing\n",
    "end\n"
   ]
  },
  {
   "cell_type": "code",
   "execution_count": 125,
   "metadata": {},
   "outputs": [],
   "source": [
    "get(dict_tables, \"DefaultParams\", nothing);"
   ]
  },
  {
   "cell_type": "code",
   "execution_count": 126,
   "metadata": {},
   "outputs": [
    {
     "data": {
      "text/html": [
       "<div class=\"data-frame\"><p>3 rows × 5 columns</p><table class=\"data-frame\"><thead><tr><th></th><th>id</th><th>r</th><th>f</th><th>y</th><th>val</th></tr><tr><th></th><th title=\"Int64\">Int64</th><th title=\"String\">String</th><th title=\"String\">String</th><th title=\"String\">String</th><th title=\"Float64\">Float64</th></tr></thead><tbody><tr><th>1</th><td>4</td><td>costa_rica</td><td>fuel_oil</td><td>1000</td><td>72.0</td></tr><tr><th>2</th><td>5</td><td>costa_rica</td><td>fuel_oil</td><td>1001</td><td>73.5</td></tr><tr><th>3</th><td>6</td><td>costa_rica</td><td>fuel_oil</td><td>1002</td><td>75.0</td></tr></tbody></table></div>"
      ],
      "text/latex": [
       "\\begin{tabular}{r|ccccc}\n",
       "\t& id & r & f & y & val\\\\\n",
       "\t\\hline\n",
       "\t& Int64 & String & String & String & Float64\\\\\n",
       "\t\\hline\n",
       "\t1 & 4 & costa\\_rica & fuel\\_oil & 1000 & 72.0 \\\\\n",
       "\t2 & 5 & costa\\_rica & fuel\\_oil & 1001 & 73.5 \\\\\n",
       "\t3 & 6 & costa\\_rica & fuel\\_oil & 1002 & 75.0 \\\\\n",
       "\\end{tabular}\n"
      ],
      "text/plain": [
       "\u001b[1m3×5 DataFrame\u001b[0m\n",
       "\u001b[1m Row \u001b[0m│\u001b[1m id    \u001b[0m\u001b[1m r          \u001b[0m\u001b[1m f        \u001b[0m\u001b[1m y      \u001b[0m\u001b[1m val     \u001b[0m\n",
       "\u001b[1m     \u001b[0m│\u001b[90m Int64 \u001b[0m\u001b[90m String     \u001b[0m\u001b[90m String   \u001b[0m\u001b[90m String \u001b[0m\u001b[90m Float64 \u001b[0m\n",
       "─────┼──────────────────────────────────────────────\n",
       "   1 │     4  costa_rica  fuel_oil  1000       72.0\n",
       "   2 │     5  costa_rica  fuel_oil  1001       73.5\n",
       "   3 │     6  costa_rica  fuel_oil  1002       75.0"
      ]
     },
     "execution_count": 126,
     "metadata": {},
     "output_type": "execute_result"
    }
   ],
   "source": [
    "filter(x -> (x[:f] != \"fuel_electricity\"), get(dict_tables, \"SpecifiedAnnualDemand\", nothing))"
   ]
  },
  {
   "cell_type": "code",
   "execution_count": 99,
   "metadata": {},
   "outputs": [
    {
     "data": {
      "text/plain": [
       "8-element Vector{String}:\n",
       " \"vdemandnn\"\n",
       " \"vnewcapacity\"\n",
       " \"vproductionbytechnologyannual\"\n",
       " \"vproductionnn\"\n",
       " \"vtotalcapacityannual\"\n",
       " \"vtotaldiscountedcost\"\n",
       " \"vusebytechnologyannual\"\n",
       " \"vusenn\""
      ]
     },
     "execution_count": 99,
     "metadata": {},
     "output_type": "execute_result"
    }
   ],
   "source": [
    "sort([x for x in keys(dict_tables) if String(x[1:1]) == \"v\"])\n"
   ]
  },
  {
   "cell_type": "code",
   "execution_count": 127,
   "metadata": {},
   "outputs": [
    {
     "data": {
      "text/html": [
       "<div class=\"data-frame\"><p>3 rows × 6 columns</p><table class=\"data-frame\"><thead><tr><th></th><th>id</th><th>r</th><th>t</th><th>f</th><th>y</th><th>val</th></tr><tr><th></th><th title=\"Int64\">Int64</th><th title=\"String\">String</th><th title=\"String\">String</th><th title=\"String\">String</th><th title=\"String\">String</th><th title=\"Float64\">Float64</th></tr></thead><tbody><tr><th>1</th><td>1</td><td>costa_rica</td><td>supply_fuel_oil_from_fuel_electricity</td><td>fuel_oil</td><td>1000</td><td>0.0</td></tr><tr><th>2</th><td>2</td><td>costa_rica</td><td>supply_fuel_oil_from_fuel_electricity</td><td>fuel_oil</td><td>1001</td><td>0.15</td></tr><tr><th>3</th><td>3</td><td>costa_rica</td><td>supply_fuel_oil_from_fuel_electricity</td><td>fuel_oil</td><td>1002</td><td>0.3</td></tr></tbody></table></div>"
      ],
      "text/latex": [
       "\\begin{tabular}{r|cccccc}\n",
       "\t& id & r & t & f & y & val\\\\\n",
       "\t\\hline\n",
       "\t& Int64 & String & String & String & String & Float64\\\\\n",
       "\t\\hline\n",
       "\t1 & 1 & costa\\_rica & supply\\_fuel\\_oil\\_from\\_fuel\\_electricity & fuel\\_oil & 1000 & 0.0 \\\\\n",
       "\t2 & 2 & costa\\_rica & supply\\_fuel\\_oil\\_from\\_fuel\\_electricity & fuel\\_oil & 1001 & 0.15 \\\\\n",
       "\t3 & 3 & costa\\_rica & supply\\_fuel\\_oil\\_from\\_fuel\\_electricity & fuel\\_oil & 1002 & 0.3 \\\\\n",
       "\\end{tabular}\n"
      ],
      "text/plain": [
       "\u001b[1m3×6 DataFrame\u001b[0m\n",
       "\u001b[1m Row \u001b[0m│\u001b[1m id    \u001b[0m\u001b[1m r          \u001b[0m\u001b[1m t                                 \u001b[0m\u001b[1m f        \u001b[0m\u001b[1m y      \u001b[0m\u001b[1m\u001b[0m ⋯\n",
       "\u001b[1m     \u001b[0m│\u001b[90m Int64 \u001b[0m\u001b[90m String     \u001b[0m\u001b[90m String                            \u001b[0m\u001b[90m String   \u001b[0m\u001b[90m String \u001b[0m\u001b[90m\u001b[0m ⋯\n",
       "─────┼──────────────────────────────────────────────────────────────────────────\n",
       "   1 │     1  costa_rica  supply_fuel_oil_from_fuel_electr…  fuel_oil  1000    ⋯\n",
       "   2 │     2  costa_rica  supply_fuel_oil_from_fuel_electr…  fuel_oil  1001\n",
       "   3 │     3  costa_rica  supply_fuel_oil_from_fuel_electr…  fuel_oil  1002\n",
       "\u001b[36m                                                                1 column omitted\u001b[0m"
      ]
     },
     "execution_count": 127,
     "metadata": {},
     "output_type": "execute_result"
    }
   ],
   "source": [
    "get(dict_tables, \"MinShareProduction\", nothing)"
   ]
  },
  {
   "cell_type": "code",
   "execution_count": 130,
   "metadata": {},
   "outputs": [
    {
     "data": {
      "text/html": [
       "<div class=\"data-frame\"><p>10 rows × 6 columns (omitted printing of 1 columns)</p><table class=\"data-frame\"><thead><tr><th></th><th>r</th><th>t</th><th>f</th><th>y</th><th>val</th></tr><tr><th></th><th title=\"String\">String</th><th title=\"String\">String</th><th title=\"String\">String</th><th title=\"String\">String</th><th title=\"Float64\">Float64</th></tr></thead><tbody><tr><th>1</th><td>costa_rica</td><td>supply_fuel_crude</td><td>fuel_crude</td><td>1002</td><td>3.15576e11</td></tr><tr><th>2</th><td>costa_rica</td><td>pp_hydropower</td><td>fuel_electricity</td><td>1002</td><td>13.7627</td></tr><tr><th>3</th><td>costa_rica</td><td>pp_solar</td><td>fuel_electricity</td><td>1002</td><td>1.21603</td></tr><tr><th>4</th><td>costa_rica</td><td>st_compressed_air</td><td>fuel_electricity</td><td>1002</td><td>14.9759</td></tr><tr><th>5</th><td>costa_rica</td><td>st_batteries</td><td>fuel_electricity</td><td>1002</td><td>14.9787</td></tr><tr><th>6</th><td>costa_rica</td><td>supply_fuel_oil_from_fuel_electricity</td><td>fuel_oil</td><td>1002</td><td>22.5</td></tr><tr><th>7</th><td>costa_rica</td><td>st_flywheels</td><td>fuel_electricity</td><td>1002</td><td>14.9787</td></tr><tr><th>8</th><td>costa_rica</td><td>supply_fuel_solar</td><td>fuel_solar</td><td>1002</td><td>4.8255</td></tr><tr><th>9</th><td>costa_rica</td><td>supply_fuel_oil</td><td>fuel_oil</td><td>1002</td><td>52.5</td></tr><tr><th>10</th><td>costa_rica</td><td>supply_fuel_hydropower</td><td>fuel_hydropower</td><td>1002</td><td>16.9422</td></tr></tbody></table></div>"
      ],
      "text/latex": [
       "\\begin{tabular}{r|cccccc}\n",
       "\t& r & t & f & y & val & \\\\\n",
       "\t\\hline\n",
       "\t& String & String & String & String & Float64 & \\\\\n",
       "\t\\hline\n",
       "\t1 & costa\\_rica & supply\\_fuel\\_crude & fuel\\_crude & 1002 & 3.15576e11 & $\\dots$ \\\\\n",
       "\t2 & costa\\_rica & pp\\_hydropower & fuel\\_electricity & 1002 & 13.7627 & $\\dots$ \\\\\n",
       "\t3 & costa\\_rica & pp\\_solar & fuel\\_electricity & 1002 & 1.21603 & $\\dots$ \\\\\n",
       "\t4 & costa\\_rica & st\\_compressed\\_air & fuel\\_electricity & 1002 & 14.9759 & $\\dots$ \\\\\n",
       "\t5 & costa\\_rica & st\\_batteries & fuel\\_electricity & 1002 & 14.9787 & $\\dots$ \\\\\n",
       "\t6 & costa\\_rica & supply\\_fuel\\_oil\\_from\\_fuel\\_electricity & fuel\\_oil & 1002 & 22.5 & $\\dots$ \\\\\n",
       "\t7 & costa\\_rica & st\\_flywheels & fuel\\_electricity & 1002 & 14.9787 & $\\dots$ \\\\\n",
       "\t8 & costa\\_rica & supply\\_fuel\\_solar & fuel\\_solar & 1002 & 4.8255 & $\\dots$ \\\\\n",
       "\t9 & costa\\_rica & supply\\_fuel\\_oil & fuel\\_oil & 1002 & 52.5 & $\\dots$ \\\\\n",
       "\t10 & costa\\_rica & supply\\_fuel\\_hydropower & fuel\\_hydropower & 1002 & 16.9422 & $\\dots$ \\\\\n",
       "\\end{tabular}\n"
      ],
      "text/plain": [
       "\u001b[1m10×6 DataFrame\u001b[0m\n",
       "\u001b[1m Row \u001b[0m│\u001b[1m r          \u001b[0m\u001b[1m t                                 \u001b[0m\u001b[1m f                \u001b[0m\u001b[1m y     \u001b[0m ⋯\n",
       "\u001b[1m     \u001b[0m│\u001b[90m String     \u001b[0m\u001b[90m String                            \u001b[0m\u001b[90m String           \u001b[0m\u001b[90m String\u001b[0m ⋯\n",
       "─────┼──────────────────────────────────────────────────────────────────────────\n",
       "   1 │ costa_rica  supply_fuel_crude                  fuel_crude        1002   ⋯\n",
       "   2 │ costa_rica  pp_hydropower                      fuel_electricity  1002\n",
       "   3 │ costa_rica  pp_solar                           fuel_electricity  1002\n",
       "   4 │ costa_rica  st_compressed_air                  fuel_electricity  1002\n",
       "   5 │ costa_rica  st_batteries                       fuel_electricity  1002   ⋯\n",
       "   6 │ costa_rica  supply_fuel_oil_from_fuel_electr…  fuel_oil          1002\n",
       "   7 │ costa_rica  st_flywheels                       fuel_electricity  1002\n",
       "   8 │ costa_rica  supply_fuel_solar                  fuel_solar        1002\n",
       "   9 │ costa_rica  supply_fuel_oil                    fuel_oil          1002   ⋯\n",
       "  10 │ costa_rica  supply_fuel_hydropower             fuel_hydropower   1002\n",
       "\u001b[36m                                                               2 columns omitted\u001b[0m"
      ]
     },
     "execution_count": 130,
     "metadata": {},
     "output_type": "execute_result"
    }
   ],
   "source": [
    "t1 = get(dict_tables, \"vproductionbytechnologyannual\", nothing)\n",
    "#filter(x -> (x[:t] == \"pp_oil\"), t1)\n",
    "filter(x -> (x[:y] == \"1002\"), t1)\n"
   ]
  },
  {
   "cell_type": "code",
   "execution_count": 139,
   "metadata": {},
   "outputs": [
    {
     "data": {
      "text/plain": [
       "724.8681"
      ]
     },
     "execution_count": 139,
     "metadata": {},
     "output_type": "execute_result"
    }
   ],
   "source": [
    "(24*365*0.75*0.085)*1.298"
   ]
  },
  {
   "cell_type": "code",
   "execution_count": 109,
   "metadata": {},
   "outputs": [
    {
     "data": {
      "text/plain": [
       "37.37555310931303"
      ]
     },
     "execution_count": 109,
     "metadata": {},
     "output_type": "execute_result"
    }
   ],
   "source": [
    "tab = filter(x -> ((x[:y] == \"1002\") & (x[:f] == \"fuel_electricity\")), t1)\n",
    "sum(tab[:, :val]) - 21.7722"
   ]
  },
  {
   "cell_type": "code",
   "execution_count": 67,
   "metadata": {},
   "outputs": [
    {
     "data": {
      "text/plain": [
       "93.01024999999998"
      ]
     },
     "execution_count": 67,
     "metadata": {},
     "output_type": "execute_result"
    }
   ],
   "source": [
    "t2 = get(dict_tables, \"InputActivityRatio\", nothing)\n",
    "filter(x -> ((x[:y] == \"1000\") & (x[:t] == \"pp_oil\")), t2)\n",
    "166.262 - 36.947*2.5\n",
    "37.2041*2.5"
   ]
  },
  {
   "cell_type": "code",
   "execution_count": 105,
   "metadata": {},
   "outputs": [
    {
     "data": {
      "text/html": [
       "<div class=\"data-frame\"><p>2 rows × 5 columns</p><table class=\"data-frame\"><thead><tr><th></th><th>id</th><th>r</th><th>f</th><th>y</th><th>val</th></tr><tr><th></th><th title=\"Int64\">Int64</th><th title=\"String\">String</th><th title=\"String\">String</th><th title=\"String\">String</th><th title=\"Float64\">Float64</th></tr></thead><tbody><tr><th>1</th><td>3</td><td>costa_rica</td><td>fuel_electricity</td><td>1002</td><td>36.287</td></tr><tr><th>2</th><td>6</td><td>costa_rica</td><td>fuel_oil</td><td>1002</td><td>72.5739</td></tr></tbody></table></div>"
      ],
      "text/latex": [
       "\\begin{tabular}{r|ccccc}\n",
       "\t& id & r & f & y & val\\\\\n",
       "\t\\hline\n",
       "\t& Int64 & String & String & String & Float64\\\\\n",
       "\t\\hline\n",
       "\t1 & 3 & costa\\_rica & fuel\\_electricity & 1002 & 36.287 \\\\\n",
       "\t2 & 6 & costa\\_rica & fuel\\_oil & 1002 & 72.5739 \\\\\n",
       "\\end{tabular}\n"
      ],
      "text/plain": [
       "\u001b[1m2×5 DataFrame\u001b[0m\n",
       "\u001b[1m Row \u001b[0m│\u001b[1m id    \u001b[0m\u001b[1m r          \u001b[0m\u001b[1m f                \u001b[0m\u001b[1m y      \u001b[0m\u001b[1m val     \u001b[0m\n",
       "\u001b[1m     \u001b[0m│\u001b[90m Int64 \u001b[0m\u001b[90m String     \u001b[0m\u001b[90m String           \u001b[0m\u001b[90m String \u001b[0m\u001b[90m Float64 \u001b[0m\n",
       "─────┼──────────────────────────────────────────────────────\n",
       "   1 │     3  costa_rica  fuel_electricity  1002    36.287\n",
       "   2 │     6  costa_rica  fuel_oil          1002    72.5739"
      ]
     },
     "execution_count": 105,
     "metadata": {},
     "output_type": "execute_result"
    }
   ],
   "source": [
    "t3 = get(dict_tables, \"SpecifiedAnnualDemand\", nothing)\n",
    "#filter(x -> ((x[:y] == \"1001\") & (x[:f] == \"fuel_oil\")), t3)\n",
    "filter(x -> ((x[:y] == \"1002\")), t3)\n"
   ]
  },
  {
   "cell_type": "code",
   "execution_count": 88,
   "metadata": {
    "collapsed": true,
    "jupyter": {
     "outputs_hidden": true
    }
   },
   "outputs": [
    {
     "name": "stdout",
     "output_type": "stream",
     "text": [
      "table_name: CapacityFactor"
     ]
    },
    {
     "data": {
      "text/html": [
       "<div class=\"data-frame\"><p>5,760 rows × 6 columns</p><table class=\"data-frame\"><thead><tr><th></th><th>id</th><th>r</th><th>t</th><th>l</th><th>y</th><th>val</th></tr><tr><th></th><th title=\"Int64\">Int64</th><th title=\"String\">String</th><th title=\"String\">String</th><th title=\"String\">String</th><th title=\"String\">String</th><th title=\"Float64\">Float64</th></tr></thead><tbody><tr><th>1</th><td>1</td><td>costa_rica</td><td>pp_geothermal</td><td>fallwd0</td><td>1000</td><td>0.72</td></tr><tr><th>2</th><td>2</td><td>costa_rica</td><td>pp_geothermal</td><td>fallwd0</td><td>1001</td><td>0.72</td></tr><tr><th>3</th><td>3</td><td>costa_rica</td><td>pp_geothermal</td><td>fallwd0</td><td>1002</td><td>0.72</td></tr><tr><th>4</th><td>4</td><td>costa_rica</td><td>pp_geothermal</td><td>fallwd0</td><td>1003</td><td>0.72</td></tr><tr><th>5</th><td>5</td><td>costa_rica</td><td>pp_geothermal</td><td>fallwd0</td><td>1004</td><td>0.72</td></tr><tr><th>6</th><td>6</td><td>costa_rica</td><td>pp_geothermal</td><td>fallwd0</td><td>1005</td><td>0.72</td></tr><tr><th>7</th><td>7</td><td>costa_rica</td><td>pp_geothermal</td><td>fallwd0</td><td>1006</td><td>0.72</td></tr><tr><th>8</th><td>8</td><td>costa_rica</td><td>pp_geothermal</td><td>fallwd0</td><td>1007</td><td>0.72</td></tr><tr><th>9</th><td>9</td><td>costa_rica</td><td>pp_geothermal</td><td>fallwd0</td><td>1008</td><td>0.72</td></tr><tr><th>10</th><td>10</td><td>costa_rica</td><td>pp_geothermal</td><td>fallwd0</td><td>1009</td><td>0.72</td></tr><tr><th>11</th><td>11</td><td>costa_rica</td><td>pp_geothermal</td><td>fallwd0</td><td>1010</td><td>0.72</td></tr><tr><th>12</th><td>12</td><td>costa_rica</td><td>pp_geothermal</td><td>fallwd0</td><td>1011</td><td>0.72</td></tr><tr><th>13</th><td>13</td><td>costa_rica</td><td>pp_geothermal</td><td>fallwd0</td><td>1012</td><td>0.72</td></tr><tr><th>14</th><td>14</td><td>costa_rica</td><td>pp_geothermal</td><td>fallwd0</td><td>1013</td><td>0.72</td></tr><tr><th>15</th><td>15</td><td>costa_rica</td><td>pp_geothermal</td><td>fallwd0</td><td>1014</td><td>0.72</td></tr><tr><th>16</th><td>16</td><td>costa_rica</td><td>pp_geothermal</td><td>fallwd0</td><td>1015</td><td>0.72</td></tr><tr><th>17</th><td>17</td><td>costa_rica</td><td>pp_geothermal</td><td>fallwd0</td><td>1016</td><td>0.72</td></tr><tr><th>18</th><td>18</td><td>costa_rica</td><td>pp_geothermal</td><td>fallwd0</td><td>1017</td><td>0.72</td></tr><tr><th>19</th><td>19</td><td>costa_rica</td><td>pp_geothermal</td><td>fallwd0</td><td>1018</td><td>0.72</td></tr><tr><th>20</th><td>20</td><td>costa_rica</td><td>pp_geothermal</td><td>fallwd0</td><td>1019</td><td>0.72</td></tr><tr><th>21</th><td>21</td><td>costa_rica</td><td>pp_geothermal</td><td>fallwd0</td><td>1020</td><td>0.72</td></tr><tr><th>22</th><td>22</td><td>costa_rica</td><td>pp_geothermal</td><td>fallwd0</td><td>1021</td><td>0.72</td></tr><tr><th>23</th><td>23</td><td>costa_rica</td><td>pp_geothermal</td><td>fallwd0</td><td>1022</td><td>0.72</td></tr><tr><th>24</th><td>24</td><td>costa_rica</td><td>pp_geothermal</td><td>fallwd0</td><td>1023</td><td>0.72</td></tr><tr><th>25</th><td>25</td><td>costa_rica</td><td>pp_geothermal</td><td>fallwd0</td><td>1024</td><td>0.72</td></tr><tr><th>26</th><td>26</td><td>costa_rica</td><td>pp_geothermal</td><td>fallwd0</td><td>1025</td><td>0.72</td></tr><tr><th>27</th><td>27</td><td>costa_rica</td><td>pp_geothermal</td><td>fallwd0</td><td>1026</td><td>0.72</td></tr><tr><th>28</th><td>28</td><td>costa_rica</td><td>pp_geothermal</td><td>fallwd0</td><td>1027</td><td>0.72</td></tr><tr><th>29</th><td>29</td><td>costa_rica</td><td>pp_geothermal</td><td>fallwd0</td><td>1028</td><td>0.72</td></tr><tr><th>30</th><td>30</td><td>costa_rica</td><td>pp_geothermal</td><td>fallwd0</td><td>1029</td><td>0.72</td></tr><tr><th>&vellip;</th><td>&vellip;</td><td>&vellip;</td><td>&vellip;</td><td>&vellip;</td><td>&vellip;</td><td>&vellip;</td></tr></tbody></table></div>"
      ],
      "text/latex": [
       "\\begin{tabular}{r|cccccc}\n",
       "\t& id & r & t & l & y & val\\\\\n",
       "\t\\hline\n",
       "\t& Int64 & String & String & String & String & Float64\\\\\n",
       "\t\\hline\n",
       "\t1 & 1 & costa\\_rica & pp\\_geothermal & fallwd0 & 1000 & 0.72 \\\\\n",
       "\t2 & 2 & costa\\_rica & pp\\_geothermal & fallwd0 & 1001 & 0.72 \\\\\n",
       "\t3 & 3 & costa\\_rica & pp\\_geothermal & fallwd0 & 1002 & 0.72 \\\\\n",
       "\t4 & 4 & costa\\_rica & pp\\_geothermal & fallwd0 & 1003 & 0.72 \\\\\n",
       "\t5 & 5 & costa\\_rica & pp\\_geothermal & fallwd0 & 1004 & 0.72 \\\\\n",
       "\t6 & 6 & costa\\_rica & pp\\_geothermal & fallwd0 & 1005 & 0.72 \\\\\n",
       "\t7 & 7 & costa\\_rica & pp\\_geothermal & fallwd0 & 1006 & 0.72 \\\\\n",
       "\t8 & 8 & costa\\_rica & pp\\_geothermal & fallwd0 & 1007 & 0.72 \\\\\n",
       "\t9 & 9 & costa\\_rica & pp\\_geothermal & fallwd0 & 1008 & 0.72 \\\\\n",
       "\t10 & 10 & costa\\_rica & pp\\_geothermal & fallwd0 & 1009 & 0.72 \\\\\n",
       "\t11 & 11 & costa\\_rica & pp\\_geothermal & fallwd0 & 1010 & 0.72 \\\\\n",
       "\t12 & 12 & costa\\_rica & pp\\_geothermal & fallwd0 & 1011 & 0.72 \\\\\n",
       "\t13 & 13 & costa\\_rica & pp\\_geothermal & fallwd0 & 1012 & 0.72 \\\\\n",
       "\t14 & 14 & costa\\_rica & pp\\_geothermal & fallwd0 & 1013 & 0.72 \\\\\n",
       "\t15 & 15 & costa\\_rica & pp\\_geothermal & fallwd0 & 1014 & 0.72 \\\\\n",
       "\t16 & 16 & costa\\_rica & pp\\_geothermal & fallwd0 & 1015 & 0.72 \\\\\n",
       "\t17 & 17 & costa\\_rica & pp\\_geothermal & fallwd0 & 1016 & 0.72 \\\\\n",
       "\t18 & 18 & costa\\_rica & pp\\_geothermal & fallwd0 & 1017 & 0.72 \\\\\n",
       "\t19 & 19 & costa\\_rica & pp\\_geothermal & fallwd0 & 1018 & 0.72 \\\\\n",
       "\t20 & 20 & costa\\_rica & pp\\_geothermal & fallwd0 & 1019 & 0.72 \\\\\n",
       "\t21 & 21 & costa\\_rica & pp\\_geothermal & fallwd0 & 1020 & 0.72 \\\\\n",
       "\t22 & 22 & costa\\_rica & pp\\_geothermal & fallwd0 & 1021 & 0.72 \\\\\n",
       "\t23 & 23 & costa\\_rica & pp\\_geothermal & fallwd0 & 1022 & 0.72 \\\\\n",
       "\t24 & 24 & costa\\_rica & pp\\_geothermal & fallwd0 & 1023 & 0.72 \\\\\n",
       "\t25 & 25 & costa\\_rica & pp\\_geothermal & fallwd0 & 1024 & 0.72 \\\\\n",
       "\t26 & 26 & costa\\_rica & pp\\_geothermal & fallwd0 & 1025 & 0.72 \\\\\n",
       "\t27 & 27 & costa\\_rica & pp\\_geothermal & fallwd0 & 1026 & 0.72 \\\\\n",
       "\t28 & 28 & costa\\_rica & pp\\_geothermal & fallwd0 & 1027 & 0.72 \\\\\n",
       "\t29 & 29 & costa\\_rica & pp\\_geothermal & fallwd0 & 1028 & 0.72 \\\\\n",
       "\t30 & 30 & costa\\_rica & pp\\_geothermal & fallwd0 & 1029 & 0.72 \\\\\n",
       "\t$\\dots$ & $\\dots$ & $\\dots$ & $\\dots$ & $\\dots$ & $\\dots$ & $\\dots$ \\\\\n",
       "\\end{tabular}\n"
      ],
      "text/plain": [
       "\u001b[1m5760×6 DataFrame\u001b[0m\n",
       "\u001b[1m  Row \u001b[0m│\u001b[1m id    \u001b[0m\u001b[1m r          \u001b[0m\u001b[1m t             \u001b[0m\u001b[1m l         \u001b[0m\u001b[1m y      \u001b[0m\u001b[1m val     \u001b[0m\n",
       "\u001b[1m      \u001b[0m│\u001b[90m Int64 \u001b[0m\u001b[90m String     \u001b[0m\u001b[90m String        \u001b[0m\u001b[90m String    \u001b[0m\u001b[90m String \u001b[0m\u001b[90m Float64 \u001b[0m\n",
       "──────┼──────────────────────────────────────────────────────────────\n",
       "    1 │     1  costa_rica  pp_geothermal  fallwd0    1000    0.72\n",
       "    2 │     2  costa_rica  pp_geothermal  fallwd0    1001    0.72\n",
       "    3 │     3  costa_rica  pp_geothermal  fallwd0    1002    0.72\n",
       "    4 │     4  costa_rica  pp_geothermal  fallwd0    1003    0.72\n",
       "    5 │     5  costa_rica  pp_geothermal  fallwd0    1004    0.72\n",
       "    6 │     6  costa_rica  pp_geothermal  fallwd0    1005    0.72\n",
       "    7 │     7  costa_rica  pp_geothermal  fallwd0    1006    0.72\n",
       "    8 │     8  costa_rica  pp_geothermal  fallwd0    1007    0.72\n",
       "    9 │     9  costa_rica  pp_geothermal  fallwd0    1008    0.72\n",
       "   10 │    10  costa_rica  pp_geothermal  fallwd0    1009    0.72\n",
       "   11 │    11  costa_rica  pp_geothermal  fallwd0    1010    0.72\n",
       "  ⋮   │   ⋮        ⋮             ⋮            ⋮        ⋮        ⋮\n",
       " 5751 │  5751  costa_rica  pp_wind        winterwe6  1026    0.87875\n",
       " 5752 │  5752  costa_rica  pp_wind        winterwe6  1027    0.87875\n",
       " 5753 │  5753  costa_rica  pp_wind        winterwe6  1028    0.87875\n",
       " 5754 │  5754  costa_rica  pp_wind        winterwe6  1029    0.87875\n",
       " 5755 │  5755  costa_rica  pp_wind        winterwe6  1030    0.87875\n",
       " 5756 │  5756  costa_rica  pp_wind        winterwe6  1031    0.87875\n",
       " 5757 │  5757  costa_rica  pp_wind        winterwe6  1032    0.87875\n",
       " 5758 │  5758  costa_rica  pp_wind        winterwe6  1033    0.87875\n",
       " 5759 │  5759  costa_rica  pp_wind        winterwe6  1034    0.87875\n",
       " 5760 │  5760  costa_rica  pp_wind        winterwe6  1035    0.87875\n",
       "\u001b[36m                                                    5739 rows omitted\u001b[0m"
      ]
     },
     "execution_count": 88,
     "metadata": {},
     "output_type": "execute_result"
    }
   ],
   "source": [
    "i = 37\n",
    "print(\"table_name: $(tabs_populated[i])\")\n",
    "df_cur = get(dict_tables, tabs_populated[i], nothing);\n",
    "df_cur"
   ]
  },
  {
   "cell_type": "code",
   "execution_count": null,
   "metadata": {},
   "outputs": [],
   "source": []
  },
  {
   "cell_type": "code",
   "execution_count": 8,
   "metadata": {},
   "outputs": [],
   "source": [
    "#DBInterface.execute(db, \"select * from $(table_name)\") |> DataFrame\n",
    "#sort(collect(keys(dict_tables)))\n",
    "#get(dict_tables, \"CapacityFactor\", nothing)"
   ]
  },
  {
   "cell_type": "code",
   "execution_count": 22,
   "metadata": {},
   "outputs": [
    {
     "data": {
      "text/html": [
       "<div class=\"data-frame\"><p>0 rows × 5 columns</p><table class=\"data-frame\"><thead><tr><th></th><th>id</th><th>r</th><th>s</th><th>y</th><th>val</th></tr><tr><th></th><th title=\"Union{Missing, Int64}\">Int64?</th><th title=\"Union{Missing, String}\">String?</th><th title=\"Union{Missing, String}\">String?</th><th title=\"Union{Missing, String}\">String?</th><th title=\"Union{Missing, Float64}\">Float64?</th></tr></thead><tbody></tbody></table></div>"
      ],
      "text/latex": [
       "\\begin{tabular}{r|ccccc}\n",
       "\t& id & r & s & y & val\\\\\n",
       "\t\\hline\n",
       "\t& Int64? & String? & String? & String? & Float64?\\\\\n",
       "\t\\hline\n",
       "\\end{tabular}\n"
      ],
      "text/plain": [
       "\u001b[1m0×5 DataFrame\u001b[0m"
      ]
     },
     "execution_count": 22,
     "metadata": {},
     "output_type": "execute_result"
    }
   ],
   "source": [
    "DBInterface.execute(db, \"select * from CapitalCostStorage where (id in (1, 2, 3)) and (y in ('1005'))\") |> DataFrame"
   ]
  },
  {
   "cell_type": "code",
   "execution_count": 91,
   "metadata": {},
   "outputs": [
    {
     "data": {
      "text/plain": [
       "\"/Users/jsyme/.julia/packages/NemoMod/vg6Tx/test/storage_test.sqlite\""
      ]
     },
     "execution_count": 91,
     "metadata": {},
     "output_type": "execute_result"
    }
   ],
   "source": [
    "fp_test = normpath(joinpath(pathof(NemoMod), \"..\", \"..\", \"test\", \"storage_test.sqlite\"))\n"
   ]
  },
  {
   "cell_type": "code",
   "execution_count": 115,
   "metadata": {},
   "outputs": [
    {
     "name": "stdout",
     "output_type": "stream",
     "text": [
      "2022-31-Oct 06:35:20.388 Started modeling scenario.\n",
      "2022-31-Oct 06:35:20.389 Validated run-time arguments.\n",
      "2022-31-Oct 06:35:20.392 Connected to scenario database. Path = /Users/jsyme/Documents/Projects/git_jbus/lac_decarbonization/tmp/nemomod_intermediate_database.sqlite.\n",
      "2022-31-Oct 06:35:20.399 Dropped pre-existing result tables from database.\n",
      "2022-31-Oct 06:35:20.399 Verified that transmission modeling is not enabled.\n",
      "2022-31-Oct 06:35:20.482 Created parameter views and indices.\n",
      "2022-31-Oct 06:35:20.487 Created temporary tables.\n",
      "2022-31-Oct 06:35:22.241 Executed core database queries.\n",
      "2022-31-Oct 06:35:22.245 Defined dimensions.\n",
      "2022-31-Oct 06:35:22.264 Defined demand variables.\n",
      "2022-31-Oct 06:35:22.277 Defined storage variables.\n",
      "2022-31-Oct 06:35:22.279 Defined capacity variables.\n",
      "2022-31-Oct 06:35:25.271 Defined activity variables.\n",
      "2022-31-Oct 06:35:25.275 Defined costing variables.\n",
      "2022-31-Oct 06:35:25.276 Defined reserve margin variables.\n",
      "2022-31-Oct 06:35:25.302 Defined emissions variables.\n",
      "2022-31-Oct 06:35:25.302 Defined combined nodal and non-nodal variables.\n",
      "2022-31-Oct 06:35:25.302 Finished defining model variables.\n",
      "2022-31-Oct 06:35:25.302 Scheduled task to add constraints to model.\n",
      "2022-31-Oct 06:35:25.303 Queued constraint CAa1_TotalNewCapacity for creation.\n",
      "2022-31-Oct 06:35:25.385 Queued constraint CAa2_TotalAnnualCapacity for creation.\n",
      "2022-31-Oct 06:35:25.390 Queued constraint VRateOfActivity1 for creation.\n",
      "2022-31-Oct 06:35:25.391 Queued constraint RampRate for creation.\n",
      "2022-31-Oct 06:35:25.392 Queued constraint CAa3_TotalActivityOfEachTechnology for creation.\n",
      "2022-31-Oct 06:35:25.518 Queued constraint CAa4_Constraint_Capacity for creation.\n",
      "2022-31-Oct 06:35:25.520 Queued constraint MinimumTechnologyUtilization for creation.\n",
      "2022-31-Oct 06:35:25.520 Queued constraint EBa2_RateOfFuelProduction2 for creation.\n",
      "2022-31-Oct 06:35:25.773 Queued constraint GenerationAnnualNN for creation.\n",
      "2022-31-Oct 06:35:25.773 Queued constraint ReGenerationAnnualNN for creation.\n",
      "2022-31-Oct 06:35:25.774 Queued constraint EBa3_RateOfFuelProduction3 for creation.\n",
      "2022-31-Oct 06:35:25.936 Queued constraint VRateOfProduction1 for creation.\n",
      "2022-31-Oct 06:35:25.972 Queued constraint EBa5_RateOfFuelUse2 for creation.\n",
      "2022-31-Oct 06:35:26.744 Queued constraint EBa6_RateOfFuelUse3 for creation.\n",
      "2022-31-Oct 06:35:26.800 Queued constraint VRateOfUse1 for creation.\n",
      "2022-31-Oct 06:35:26.834 Queued constraint EBa7_EnergyBalanceEachTS1 for creation.\n",
      "2022-31-Oct 06:35:27.042 Queued constraint EBa8_EnergyBalanceEachTS2 for creation.\n",
      "2022-31-Oct 06:35:27.042 Queued constraint EBa9_EnergyBalanceEachTS3 for creation.\n",
      "2022-31-Oct 06:35:27.045 Queued constraint EBa11_EnergyBalanceEachTS5 for creation.\n",
      "2022-31-Oct 06:35:27.212 Queued constraint EBb0_EnergyBalanceEachYear for creation.\n",
      "2022-31-Oct 06:35:27.224 Queued constraint EBb1_EnergyBalanceEachYear for creation.\n",
      "2022-31-Oct 06:35:27.236 Queued constraint EBb2_EnergyBalanceEachYear for creation.\n",
      "2022-31-Oct 06:35:27.249 Queued constraint EBb3_EnergyBalanceEachYear for creation.\n",
      "2022-31-Oct 06:35:27.249 Queued constraint EBb5_EnergyBalanceEachYear for creation.\n",
      "2022-31-Oct 06:35:27.254 Queued constraint Acc3_AverageAnnualRateOfActivity for creation.\n",
      "2022-31-Oct 06:35:27.476 Queued constraint NS1_RateOfStorageCharge for creation.\n",
      "2022-31-Oct 06:35:27.655 Queued constraint NS2_RateOfStorageDischarge for creation.\n",
      "2022-31-Oct 06:35:27.689 Queued constraint NS3_StorageLevelTsGroup1Start for creation.\n",
      "2022-31-Oct 06:35:27.741 Queued constraint NS4_StorageLevelTsGroup2Start for creation.\n",
      "2022-31-Oct 06:35:27.742 Queued constraint NS5_StorageLevelTimesliceEnd for creation.\n",
      "2022-31-Oct 06:35:27.742 Queued constraint NS6_StorageLevelTsGroup2End for creation.\n",
      "2022-31-Oct 06:35:27.759 Queued constraint NS6a_StorageLevelTsGroup2NetZero for creation.\n",
      "2022-31-Oct 06:35:27.759 Queued constraint NS7_StorageLevelTsGroup1End for creation.\n",
      "2022-31-Oct 06:35:27.766 Queued constraint NS7a_StorageLevelTsGroup1NetZero for creation.\n",
      "2022-31-Oct 06:35:27.766 Queued constraint NS8_StorageLevelYearEnd for creation.\n",
      "2022-31-Oct 06:35:27.818 Queued constraint NS8a_StorageLevelYearEndNetZero for creation.\n",
      "2022-31-Oct 06:35:27.818 Queued constraint SI1_StorageUpperLimit for creation.\n",
      "2022-31-Oct 06:35:27.818 Queued constraint SI2_StorageLowerLimit for creation.\n",
      "2022-31-Oct 06:35:27.819 Queued constraint SI3_TotalNewStorage for creation.\n",
      "2022-31-Oct 06:35:27.828 Queued constraint NS9a_StorageLevelTsLowerLimit for creation.\n",
      "2022-31-Oct 06:35:27.849 Queued constraint NS9b_StorageLevelTsUpperLimit for creation.\n",
      "2022-31-Oct 06:35:27.849 Queued constraint NS10_StorageChargeLimit for creation.\n",
      "2022-31-Oct 06:35:27.849 Queued constraint NS11_StorageDischargeLimit for creation.\n",
      "2022-31-Oct 06:35:27.849 Queued constraint NS12a_StorageLevelTsGroup2LowerLimit for creation.\n",
      "2022-31-Oct 06:35:27.856 Queued constraint NS12b_StorageLevelTsGroup2UpperLimit for creation.\n",
      "2022-31-Oct 06:35:27.856 Queued constraint NS13a_StorageLevelTsGroup1LowerLimit for creation.\n",
      "2022-31-Oct 06:35:27.859 Queued constraint NS13b_StorageLevelTsGroup1UpperLimit for creation.\n",
      "2022-31-Oct 06:35:27.859 Queued constraint NS14_MaxStorageCapacity for creation.\n",
      "2022-31-Oct 06:35:27.859 Queued constraint NS15_MinStorageCapacity for creation.\n",
      "2022-31-Oct 06:35:27.859 Queued constraint NS16_MaxStorageCapacityInvestment for creation.\n",
      "2022-31-Oct 06:35:27.859 Queued constraint NS17_MinStorageCapacityInvestment for creation.\n",
      "2022-31-Oct 06:35:27.859 Queued constraint NS18_FullLoadHours for creation.\n",
      "2022-31-Oct 06:35:27.860 Queued constraint SI4a_FinancingStorage for creation.\n",
      "2022-31-Oct 06:35:27.860 Queued constraint SI4_UndiscountedCapitalInvestmentStorage for creation.\n",
      "2022-31-Oct 06:35:27.861 Queued constraint SI5_DiscountingCapitalInvestmentStorage for creation.\n",
      "2022-31-Oct 06:35:27.861 Queued constraint SI6_SalvageValueStorageAtEndOfPeriod1 for creation.\n",
      "2022-31-Oct 06:35:27.861 Queued constraint SI7_SalvageValueStorageAtEndOfPeriod2 for creation.\n",
      "2022-31-Oct 06:35:27.861 Queued constraint SI8_SalvageValueStorageAtEndOfPeriod3 for creation.\n",
      "2022-31-Oct 06:35:27.862 Queued constraint SI9_SalvageValueStorageDiscountedToStartYear for creation.\n",
      "2022-31-Oct 06:35:27.862 Queued constraint SI10_TotalDiscountedCostByStorage for creation.\n",
      "2022-31-Oct 06:35:27.862 Queued constraint CC1a_FinancingTechnology for creation.\n",
      "2022-31-Oct 06:35:27.862 Queued constraint CC1_UndiscountedCapitalInvestment for creation.\n",
      "2022-31-Oct 06:35:27.865 Queued constraint CC2_DiscountingCapitalInvestment for creation.\n",
      "2022-31-Oct 06:35:27.865 Queued constraint SV1_SalvageValueAtEndOfPeriod1 for creation.\n",
      "2022-31-Oct 06:35:27.866 Queued constraint SV2_SalvageValueAtEndOfPeriod2 for creation.\n",
      "2022-31-Oct 06:35:27.866 Queued constraint SV3_SalvageValueAtEndOfPeriod3 for creation.\n",
      "2022-31-Oct 06:35:27.867 Queued constraint SV4_SalvageValueDiscountedToStartYear for creation.\n",
      "2022-31-Oct 06:35:27.867 Queued constraint OC1_OperatingCostsVariable for creation.\n",
      "2022-31-Oct 06:35:27.870 Queued constraint OC2_OperatingCostsFixedAnnual for creation.\n",
      "2022-31-Oct 06:35:27.873 Queued constraint OC3_OperatingCostsTotalAnnual for creation.\n",
      "2022-31-Oct 06:35:27.874 Queued constraint OC4_DiscountedOperatingCostsTotalAnnual for creation.\n",
      "2022-31-Oct 06:35:27.874 Queued constraint TDC1_TotalDiscountedCostByTechnology for creation.\n",
      "2022-31-Oct 06:35:27.876 Queued constraint TDC2_TotalDiscountedCost for creation.\n",
      "2022-31-Oct 06:35:27.876 Queued constraint TCC1_TotalAnnualMaxCapacityConstraint for creation.\n",
      "2022-31-Oct 06:35:27.876 Queued constraint TCC2_TotalAnnualMinCapacityConstraint for creation.\n",
      "2022-31-Oct 06:35:27.876 Queued constraint NCC1_TotalAnnualMaxNewCapacityConstraint for creation.\n",
      "2022-31-Oct 06:35:27.877 Queued constraint NCC2_TotalAnnualMinNewCapacityConstraint for creation.\n",
      "2022-31-Oct 06:35:27.877 Queued constraint AAC1_TotalAnnualTechnologyActivity for creation.\n",
      "2022-31-Oct 06:35:28.030 Queued constraint AAC3_TotalAnnualTechnologyActivityLowerLimit for creation.\n",
      "2022-31-Oct 06:35:28.032 Queued constraint RM1_ReserveMargin_TechnologiesIncluded_In_Activity_Units for creation.\n",
      "2022-31-Oct 06:35:28.033 Queued constraint RM2_ReserveMargin_FuelsIncluded for creation.\n",
      "2022-31-Oct 06:35:28.041 Queued constraint RM3_ReserveMargin_Constraint for creation.\n",
      "2022-31-Oct 06:35:28.047 Queued constraint RE1_FuelProductionByTechnologyAnnual for creation.\n",
      "2022-31-Oct 06:35:28.379 Queued constraint FuelUseByTechnologyAnnual for creation.\n",
      "2022-31-Oct 06:35:28.422 Queued constraint RE2_ProductionTarget for creation.\n",
      "2022-31-Oct 06:35:28.423 Queued constraint MinShareProduction for creation.\n",
      "2022-31-Oct 06:35:28.423 Queued constraint E2a_AnnualEmissionProduction for creation.\n",
      "2022-31-Oct 06:35:28.427 Queued constraint E2b_AnnualEmissionProduction for creation.\n",
      "2022-31-Oct 06:35:28.561 Queued constraint E4_EmissionsPenaltyByTechnology for creation.\n",
      "2022-31-Oct 06:35:28.573 Queued constraint E5_DiscountedEmissionsPenaltyByTechnology for creation.\n",
      "2022-31-Oct 06:35:28.638 Queued constraint E6_EmissionsAccounting1 for creation.\n",
      "2022-31-Oct 06:35:28.646 Queued constraint E7_EmissionsAccounting2 for creation.\n",
      "2022-31-Oct 06:35:28.646 Queued constraint E8_AnnualEmissionsLimit for creation.\n",
      "2022-31-Oct 06:35:28.646 Queued constraint E9_ModelPeriodEmissionsLimit for creation.\n",
      "2022-31-Oct 06:35:28.646 Queued 94 standard constraints for creation.\n",
      "2022-31-Oct 06:35:28.646 Finished scheduled task to add constraints to model.\n",
      "2022-31-Oct 06:35:28.647 Added 94 standard constraints to model.\n",
      "2022-31-Oct 06:35:28.647 Defined model objective.\n",
      "Gurobi Optimizer version 9.5.2 build v9.5.2rc0 (mac64[x86])\n",
      "Thread count: 6 physical cores, 12 logical processors, using up to 12 threads\n",
      "Optimize a model with 313397 rows, 356030 columns and 914328 nonzeros\n",
      "Model fingerprint: 0xc39cf451\n",
      "Coefficient statistics:\n",
      "  Matrix range     [1e-07, 3e+06]\n",
      "  Objective range  [1e+00, 1e+00]\n",
      "  Bounds range     [0e+00, 0e+00]\n",
      "  RHS range        [1e-02, 1e+03]\n",
      "Warning: Model contains large matrix coefficient range\n",
      "         Consider reformulating model or setting NumericFocus parameter\n",
      "         to avoid numerical issues.\n",
      "\n",
      "Concurrent LP optimizer: primal simplex, dual simplex, and barrier\n",
      "Showing barrier log only...\n",
      "\n",
      "Presolve time: 0.28s\n",
      "\n",
      "Solved with dual simplex\n",
      "Solved in 0 iterations and 0.28 seconds (0.03 work units)\n",
      "Infeasible or unbounded model\n",
      "\n",
      "User-callback calls 23, time in user-callback 0.00 sec\n",
      "2022-31-Oct 06:35:30.378 Solved model. Solver status = INFEASIBLE_OR_UNBOUNDED.\n",
      "2022-31-Oct 06:35:30.378 Solver did not find an optimal solution for model. No results will be saved to database.\n",
      "2022-31-Oct 06:35:30.382 Dropped temporary tables.\n",
      "2022-31-Oct 06:35:30.382 Finished modeling scenario.\n",
      "  9.994092 seconds (38.75 M allocations: 1.910 GiB, 27.64% gc time)\n"
     ]
    },
    {
     "data": {
      "text/plain": [
       "INFEASIBLE_OR_UNBOUNDED::TerminationStatusCode = 6"
      ]
     },
     "execution_count": 115,
     "metadata": {},
     "output_type": "execute_result"
    }
   ],
   "source": [
    "\n",
    "model = Model(Gurobi.Optimizer)\n",
    "#set_optimizer_attribute(model, \"Solver\", \"cplex\")\n",
    "@time NemoMod.calculatescenario(\n",
    "    fp_sqlite_nemomod_db_tmp; \n",
    "    jumpmodel = model,\n",
    "    numprocs = 1\n",
    ")"
   ]
  },
  {
   "cell_type": "code",
   "execution_count": 114,
   "metadata": {},
   "outputs": [
    {
     "data": {
      "text/plain": [
       "Model"
      ]
     },
     "execution_count": 114,
     "metadata": {},
     "output_type": "execute_result"
    }
   ],
   "source": [
    "typeof(model)"
   ]
  },
  {
   "cell_type": "code",
   "execution_count": null,
   "metadata": {},
   "outputs": [],
   "source": []
  },
  {
   "cell_type": "code",
   "execution_count": 106,
   "metadata": {},
   "outputs": [
    {
     "name": "stdout",
     "output_type": "stream",
     "text": [
      "IIS runtime: 0.02 seconds (0.00 work units)\n"
     ]
    },
    {
     "ename": "LoadError",
     "evalue": "Gurobi Error 10015: Cannot compute IIS on a feasible model",
     "output_type": "error",
     "traceback": [
      "Gurobi Error 10015: Cannot compute IIS on a feasible model",
      "",
      "Stacktrace:",
      " [1] _check_ret",
      "   @ ~/.julia/packages/Gurobi/VPomg/src/MOI_wrapper/MOI_wrapper.jl:368 [inlined]",
      " [2] compute_conflict!(model::Gurobi.Optimizer)",
      "   @ Gurobi ~/.julia/packages/Gurobi/VPomg/src/MOI_wrapper/MOI_wrapper.jl:3687",
      " [3] top-level scope",
      "   @ In[106]:1",
      " [4] eval",
      "   @ ./boot.jl:368 [inlined]",
      " [5] include_string(mapexpr::typeof(REPL.softscope), mod::Module, code::String, filename::String)",
      "   @ Base ./loading.jl:1428"
     ]
    }
   ],
   "source": [
    "MOI.compute_conflict!(model.moi_backend.optimizer.model)\n",
    "MOI.get(model.moi_backend, Gurobi.ConstraintConflictStatus(), con1.index)\n",
    "\n"
   ]
  },
  {
   "cell_type": "code",
   "execution_count": null,
   "metadata": {},
   "outputs": [],
   "source": []
  },
  {
   "cell_type": "code",
   "execution_count": null,
   "metadata": {},
   "outputs": [],
   "source": []
  }
 ],
 "metadata": {
  "kernelspec": {
   "display_name": "Julia 10 Threads 1.8.2",
   "language": "julia",
   "name": "julia-10-threads-1.8"
  },
  "language_info": {
   "file_extension": ".jl",
   "mimetype": "application/julia",
   "name": "julia",
   "version": "1.8.2"
  }
 },
 "nbformat": 4,
 "nbformat_minor": 4
}
