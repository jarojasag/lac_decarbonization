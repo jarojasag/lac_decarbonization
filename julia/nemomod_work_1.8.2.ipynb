{
 "cells": [
  {
   "cell_type": "code",
   "execution_count": 1,
   "metadata": {},
   "outputs": [
    {
     "name": "stderr",
     "output_type": "stream",
     "text": [
      "\u001b[32m\u001b[1m  Activating\u001b[22m\u001b[39m project at `~/Documents/Projects/git_jbus/lac_decarbonization/julia`\n"
     ]
    },
    {
     "data": {
      "text/plain": [
       "\"/Users/jsyme/Documents/Projects/git_jbus/lac_decarbonization/tmp/nemomod_intermediate_database.sqlite\""
      ]
     },
     "execution_count": 1,
     "metadata": {},
     "output_type": "execute_result"
    }
   ],
   "source": [
    "using Revise\n",
    "!(pwd() in LOAD_PATH) ? push!(LOAD_PATH, pwd()) : nothing\n",
    "include(\"SISEPUEDEPJSF.jl\")\n",
    "import .SISEPUEDEPJSF\n",
    "\n",
    "\n",
    "\n",
    "using Pkg\n",
    "Pkg.activate(\".\")\n",
    "\n",
    "\n",
    "using DataFrames\n",
    "using NemoMod\n",
    "using SQLite\n",
    "using Cbc\n",
    "using JuMP\n",
    "using Gurobi\n",
    "using GAMS\n",
    "\n",
    "include(\"setup_analysis.jl\")"
   ]
  },
  {
   "cell_type": "code",
   "execution_count": null,
   "metadata": {},
   "outputs": [],
   "source": []
  },
  {
   "cell_type": "code",
   "execution_count": 2,
   "metadata": {},
   "outputs": [
    {
     "data": {
      "text/plain": [
       "SQLite.DB(\"/Users/jsyme/Documents/Projects/git_jbus/lac_decarbonization/tmp/nemomod_intermediate_database.sqlite\")"
      ]
     },
     "execution_count": 2,
     "metadata": {},
     "output_type": "execute_result"
    }
   ],
   "source": [
    "db = SQLite.DB(fp_sqlite_nemomod_db_tmp)"
   ]
  },
  {
   "cell_type": "code",
   "execution_count": null,
   "metadata": {},
   "outputs": [
    {
     "name": "stdout",
     "output_type": "stream",
     "text": [
      "2022-14-Nov 09:49:18.217 Started modeling scenario.\n",
      "2022-14-Nov 09:49:18.226 Validated run-time arguments.\n",
      "2022-14-Nov 09:49:18.233 Connected to scenario database. Path = /Users/jsyme/Documents/Projects/git_jbus/lac_decarbonization/tmp/nemomod_intermediate_database.sqlite.\n",
      "2022-14-Nov 09:49:18.241 Dropped pre-existing result tables from database.\n",
      "2022-14-Nov 09:49:18.248 Verified that transmission modeling is not enabled.\n",
      "2022-14-Nov 09:49:18.433 Created parameter views and indices.\n",
      "2022-14-Nov 09:49:18.439 Created temporary tables.\n",
      "2022-14-Nov 09:49:22.843 Executed core database queries.\n",
      "2022-14-Nov 09:49:23.226 Defined dimensions.\n",
      "2022-14-Nov 09:49:24.531 Defined demand variables.\n",
      "2022-14-Nov 09:49:24.694 Defined storage variables.\n",
      "2022-14-Nov 09:49:24.695 Defined capacity variables.\n",
      "2022-14-Nov 09:49:28.694 Defined activity variables.\n",
      "2022-14-Nov 09:49:28.720 Defined costing variables.\n",
      "2022-14-Nov 09:49:28.721 Defined reserve margin variables.\n",
      "2022-14-Nov 09:49:28.748 Defined emissions variables.\n",
      "2022-14-Nov 09:49:28.748 Defined combined nodal and non-nodal variables.\n",
      "2022-14-Nov 09:49:28.748 Finished defining model variables.\n",
      "2022-14-Nov 09:49:28.748 Scheduled task to add constraints to model.\n",
      "2022-14-Nov 09:49:28.921 Queued constraint CAa1_TotalNewCapacity for creation.\n",
      "2022-14-Nov 09:49:29.618 Queued constraint CAa2_TotalAnnualCapacity for creation.\n",
      "2022-14-Nov 09:49:29.757 Queued constraint VRateOfActivity1 for creation.\n",
      "2022-14-Nov 09:49:30.301 Queued constraint RampRate for creation.\n",
      "2022-14-Nov 09:49:30.413 Queued constraint CAa3_TotalActivityOfEachTechnology for creation.\n",
      "2022-14-Nov 09:49:30.726 Queued constraint CAa4_Constraint_Capacity for creation.\n",
      "2022-14-Nov 09:49:31.771 Queued constraint MinimumTechnologyUtilization for creation.\n",
      "2022-14-Nov 09:49:31.771 Queued constraint EBa2_RateOfFuelProduction2 for creation.\n",
      "2022-14-Nov 09:49:32.801 Queued constraint GenerationAnnualNN for creation.\n",
      "2022-14-Nov 09:49:32.801 Queued constraint ReGenerationAnnualNN for creation.\n",
      "2022-14-Nov 09:49:32.801 Queued constraint EBa3_RateOfFuelProduction3 for creation.\n",
      "2022-14-Nov 09:49:33.390 Queued constraint VRateOfProduction1 for creation.\n",
      "2022-14-Nov 09:49:33.788 Queued constraint EBa5_RateOfFuelUse2 for creation.\n",
      "2022-14-Nov 09:49:34.128 Queued constraint EBa6_RateOfFuelUse3 for creation.\n",
      "2022-14-Nov 09:49:34.385 Queued constraint VRateOfUse1 for creation.\n",
      "2022-14-Nov 09:49:34.875 Queued constraint EBa7_EnergyBalanceEachTS1 for creation.\n",
      "2022-14-Nov 09:49:35.229 Queued constraint EBa8_EnergyBalanceEachTS2 for creation.\n",
      "2022-14-Nov 09:49:35.229 Queued constraint EBa9_EnergyBalanceEachTS3 for creation.\n",
      "2022-14-Nov 09:49:35.432 Queued constraint EBa11_EnergyBalanceEachTS5 for creation.\n",
      "2022-14-Nov 09:49:36.303 Queued constraint EBb0_EnergyBalanceEachYear for creation.\n",
      "2022-14-Nov 09:49:36.409 Queued constraint EBb1_EnergyBalanceEachYear for creation.\n",
      "2022-14-Nov 09:49:36.496 Queued constraint EBb2_EnergyBalanceEachYear for creation.\n",
      "2022-14-Nov 09:49:36.584 Queued constraint EBb3_EnergyBalanceEachYear for creation.\n",
      "2022-14-Nov 09:49:36.771 Queued constraint EBb5_EnergyBalanceEachYear for creation.\n",
      "2022-14-Nov 09:49:36.956 Queued constraint Acc3_AverageAnnualRateOfActivity for creation.\n",
      "2022-14-Nov 09:49:37.295 Queued constraint NS1_RateOfStorageCharge for creation.\n",
      "2022-14-Nov 09:49:37.628 Queued constraint NS2_RateOfStorageDischarge for creation.\n",
      "2022-14-Nov 09:49:37.782 Queued constraint NS3_StorageLevelTsGroup1Start for creation.\n",
      "2022-14-Nov 09:49:38.140 Queued constraint NS4_StorageLevelTsGroup2Start for creation.\n",
      "2022-14-Nov 09:49:38.142 Queued constraint NS5_StorageLevelTimesliceEnd for creation.\n",
      "2022-14-Nov 09:49:38.142 Queued constraint NS6_StorageLevelTsGroup2End for creation.\n",
      "2022-14-Nov 09:49:38.337 Queued constraint NS6a_StorageLevelTsGroup2NetZero for creation.\n",
      "2022-14-Nov 09:49:38.337 Queued constraint NS7_StorageLevelTsGroup1End for creation.\n",
      "2022-14-Nov 09:49:38.390 Queued constraint NS7a_StorageLevelTsGroup1NetZero for creation.\n",
      "2022-14-Nov 09:49:38.391 Queued constraint NS8_StorageLevelYearEnd for creation.\n",
      "2022-14-Nov 09:49:38.965 Queued constraint NS8a_StorageLevelYearEndNetZero for creation.\n",
      "2022-14-Nov 09:49:38.965 Queued constraint SI1_StorageUpperLimit for creation.\n",
      "2022-14-Nov 09:49:38.996 Queued constraint SI2_StorageLowerLimit for creation.\n",
      "2022-14-Nov 09:49:39.057 Queued constraint SI3_TotalNewStorage for creation.\n",
      "2022-14-Nov 09:49:39.137 Queued constraint NS9a_StorageLevelTsLowerLimit for creation.\n",
      "2022-14-Nov 09:49:39.208 Queued constraint NS9b_StorageLevelTsUpperLimit for creation.\n",
      "2022-14-Nov 09:49:39.208 Queued constraint NS10_StorageChargeLimit for creation.\n",
      "2022-14-Nov 09:49:39.264 Queued constraint NS11_StorageDischargeLimit for creation.\n",
      "2022-14-Nov 09:49:39.316 Queued constraint NS12a_StorageLevelTsGroup2LowerLimit for creation.\n",
      "2022-14-Nov 09:49:39.363 Queued constraint NS12b_StorageLevelTsGroup2UpperLimit for creation.\n",
      "2022-14-Nov 09:49:39.363 Queued constraint NS13a_StorageLevelTsGroup1LowerLimit for creation.\n",
      "2022-14-Nov 09:49:39.405 Queued constraint NS13b_StorageLevelTsGroup1UpperLimit for creation.\n",
      "2022-14-Nov 09:49:39.405 Queued constraint NS14_MaxStorageCapacity for creation.\n",
      "2022-14-Nov 09:49:39.429 Queued constraint NS15_MinStorageCapacity for creation.\n",
      "2022-14-Nov 09:49:39.451 Queued constraint NS16_MaxStorageCapacityInvestment for creation.\n",
      "2022-14-Nov 09:49:39.513 Queued constraint NS17_MinStorageCapacityInvestment for creation.\n",
      "2022-14-Nov 09:49:39.576 Queued constraint NS18_FullLoadHours for creation.\n",
      "2022-14-Nov 09:49:39.702 Queued constraint SI4a_FinancingStorage for creation.\n",
      "2022-14-Nov 09:49:39.810 Queued constraint SI4_UndiscountedCapitalInvestmentStorage for creation.\n",
      "2022-14-Nov 09:49:39.849 Queued constraint SI5_DiscountingCapitalInvestmentStorage for creation.\n",
      "2022-14-Nov 09:49:40.000 Queued constraint SI6_SalvageValueStorageAtEndOfPeriod1 for creation.\n",
      "2022-14-Nov 09:49:40.029 Queued constraint SI7_SalvageValueStorageAtEndOfPeriod2 for creation.\n",
      "2022-14-Nov 09:49:40.158 Queued constraint SI8_SalvageValueStorageAtEndOfPeriod3 for creation.\n",
      "2022-14-Nov 09:49:40.286 Queued constraint SI9_SalvageValueStorageDiscountedToStartYear for creation.\n",
      "2022-14-Nov 09:49:40.322 Queued constraint SI10_TotalDiscountedCostByStorage for creation.\n",
      "2022-14-Nov 09:49:40.377 Queued constraint CC1a_FinancingTechnology for creation.\n",
      "2022-14-Nov 09:49:40.418 Queued constraint CC1_UndiscountedCapitalInvestment for creation.\n",
      "2022-14-Nov 09:49:40.453 Queued constraint CC2_DiscountingCapitalInvestment for creation.\n",
      "2022-14-Nov 09:49:40.608 Queued constraint SV1_SalvageValueAtEndOfPeriod1 for creation.\n",
      "2022-14-Nov 09:49:40.750 Queued constraint SV2_SalvageValueAtEndOfPeriod2 for creation.\n",
      "2022-14-Nov 09:49:40.791 Queued constraint SV3_SalvageValueAtEndOfPeriod3 for creation.\n",
      "2022-14-Nov 09:49:40.878 Queued constraint SV4_SalvageValueDiscountedToStartYear for creation.\n",
      "2022-14-Nov 09:49:41.013 Queued constraint OC1_OperatingCostsVariable for creation.\n",
      "2022-14-Nov 09:49:41.110 Queued constraint OC2_OperatingCostsFixedAnnual for creation.\n",
      "2022-14-Nov 09:49:41.148 Queued constraint OC3_OperatingCostsTotalAnnual for creation.\n",
      "2022-14-Nov 09:49:41.205 Queued constraint OC4_DiscountedOperatingCostsTotalAnnual for creation.\n",
      "2022-14-Nov 09:49:41.672 Queued constraint TDC1_TotalDiscountedCostByTechnology for creation.\n",
      "2022-14-Nov 09:49:41.745 Queued constraint TDC2_TotalDiscountedCost for creation.\n",
      "2022-14-Nov 09:49:42.453 Queued constraint TCC1_TotalAnnualMaxCapacityConstraint for creation.\n",
      "2022-14-Nov 09:49:42.486 Queued constraint TCC2_TotalAnnualMinCapacityConstraint for creation.\n",
      "2022-14-Nov 09:49:42.512 Queued constraint NCC1_TotalAnnualMaxNewCapacityConstraint for creation.\n",
      "2022-14-Nov 09:49:42.559 Queued constraint NCC2_TotalAnnualMinNewCapacityConstraint for creation.\n",
      "2022-14-Nov 09:49:42.587 Queued constraint AAC1_TotalAnnualTechnologyActivity for creation.\n",
      "2022-14-Nov 09:49:42.897 Queued constraint AAC3_TotalAnnualTechnologyActivityLowerLimit for creation.\n",
      "2022-14-Nov 09:49:42.937 Queued constraint RM1_ReserveMargin_TechnologiesIncluded_In_Activity_Units for creation.\n",
      "2022-14-Nov 09:49:43.023 Queued constraint RM2_ReserveMargin_FuelsIncluded for creation.\n",
      "2022-14-Nov 09:49:43.182 Queued constraint RM3_ReserveMargin_Constraint for creation.\n",
      "2022-14-Nov 09:49:43.272 Queued constraint RE1_FuelProductionByTechnologyAnnual for creation.\n",
      "2022-14-Nov 09:49:43.632 Queued constraint FuelUseByTechnologyAnnual for creation.\n",
      "2022-14-Nov 09:49:43.951 Queued constraint RE2_ProductionTarget for creation.\n",
      "2022-14-Nov 09:49:44.070 Queued constraint MinShareProduction for creation.\n",
      "2022-14-Nov 09:49:44.224 Queued constraint E2a_AnnualEmissionProduction for creation.\n",
      "2022-14-Nov 09:49:44.947 Queued constraint E2b_AnnualEmissionProduction for creation.\n",
      "2022-14-Nov 09:49:45.198 Queued constraint E4_EmissionsPenaltyByTechnology for creation.\n",
      "2022-14-Nov 09:49:45.479 Queued constraint E5_DiscountedEmissionsPenaltyByTechnology for creation.\n",
      "2022-14-Nov 09:49:45.677 Queued constraint E6_EmissionsAccounting1 for creation.\n",
      "2022-14-Nov 09:49:45.980 Queued constraint E7_EmissionsAccounting2 for creation.\n",
      "2022-14-Nov 09:49:46.081 Queued constraint E8_AnnualEmissionsLimit for creation.\n",
      "2022-14-Nov 09:49:46.112 Queued constraint E9_ModelPeriodEmissionsLimit for creation.\n",
      "2022-14-Nov 09:49:46.192 Queued 94 standard constraints for creation.\n"
     ]
    }
   ],
   "source": [
    "\n",
    "model = Model(Gurobi.Optimizer)\n",
    "#set_optimizer_attribute(model, \"Solver\", \"cplex\")\n",
    "@time NemoMod.calculatescenario(\n",
    "    fp_sqlite_nemomod_db_tmp; \n",
    "    jumpmodel = model,\n",
    "    numprocs = 1\n",
    ")"
   ]
  },
  {
   "cell_type": "code",
   "execution_count": 3,
   "metadata": {},
   "outputs": [],
   "source": [
    "dict_tables = Dict()\n",
    "\n",
    "tabs = SQLite.tables(db)[1]\n",
    "table_name = 0\n",
    "tabs_populated = Vector{String}()\n",
    "for k in 1:length(tabs)\n",
    "    table_name = tabs[k]\n",
    "    df_tmp = DBInterface.execute(db, \"select * from $(table_name)\") |> DataFrame\n",
    "    dict_tables[table_name] = df_tmp\n",
    "    \n",
    "    (nrow(df_tmp) > 0) ? push!(tabs_populated, table_name) : nothing\n",
    "end\n"
   ]
  },
  {
   "cell_type": "code",
   "execution_count": 5,
   "metadata": {},
   "outputs": [],
   "source": [
    "#get(dict_tables, \"DefaultParams\", nothing)"
   ]
  },
  {
   "cell_type": "code",
   "execution_count": null,
   "metadata": {},
   "outputs": [],
   "source": []
  },
  {
   "cell_type": "code",
   "execution_count": 88,
   "metadata": {
    "collapsed": true,
    "jupyter": {
     "outputs_hidden": true
    }
   },
   "outputs": [
    {
     "name": "stdout",
     "output_type": "stream",
     "text": [
      "table_name: CapacityFactor"
     ]
    },
    {
     "data": {
      "text/html": [
       "<div class=\"data-frame\"><p>5,760 rows × 6 columns</p><table class=\"data-frame\"><thead><tr><th></th><th>id</th><th>r</th><th>t</th><th>l</th><th>y</th><th>val</th></tr><tr><th></th><th title=\"Int64\">Int64</th><th title=\"String\">String</th><th title=\"String\">String</th><th title=\"String\">String</th><th title=\"String\">String</th><th title=\"Float64\">Float64</th></tr></thead><tbody><tr><th>1</th><td>1</td><td>costa_rica</td><td>pp_geothermal</td><td>fallwd0</td><td>1000</td><td>0.72</td></tr><tr><th>2</th><td>2</td><td>costa_rica</td><td>pp_geothermal</td><td>fallwd0</td><td>1001</td><td>0.72</td></tr><tr><th>3</th><td>3</td><td>costa_rica</td><td>pp_geothermal</td><td>fallwd0</td><td>1002</td><td>0.72</td></tr><tr><th>4</th><td>4</td><td>costa_rica</td><td>pp_geothermal</td><td>fallwd0</td><td>1003</td><td>0.72</td></tr><tr><th>5</th><td>5</td><td>costa_rica</td><td>pp_geothermal</td><td>fallwd0</td><td>1004</td><td>0.72</td></tr><tr><th>6</th><td>6</td><td>costa_rica</td><td>pp_geothermal</td><td>fallwd0</td><td>1005</td><td>0.72</td></tr><tr><th>7</th><td>7</td><td>costa_rica</td><td>pp_geothermal</td><td>fallwd0</td><td>1006</td><td>0.72</td></tr><tr><th>8</th><td>8</td><td>costa_rica</td><td>pp_geothermal</td><td>fallwd0</td><td>1007</td><td>0.72</td></tr><tr><th>9</th><td>9</td><td>costa_rica</td><td>pp_geothermal</td><td>fallwd0</td><td>1008</td><td>0.72</td></tr><tr><th>10</th><td>10</td><td>costa_rica</td><td>pp_geothermal</td><td>fallwd0</td><td>1009</td><td>0.72</td></tr><tr><th>11</th><td>11</td><td>costa_rica</td><td>pp_geothermal</td><td>fallwd0</td><td>1010</td><td>0.72</td></tr><tr><th>12</th><td>12</td><td>costa_rica</td><td>pp_geothermal</td><td>fallwd0</td><td>1011</td><td>0.72</td></tr><tr><th>13</th><td>13</td><td>costa_rica</td><td>pp_geothermal</td><td>fallwd0</td><td>1012</td><td>0.72</td></tr><tr><th>14</th><td>14</td><td>costa_rica</td><td>pp_geothermal</td><td>fallwd0</td><td>1013</td><td>0.72</td></tr><tr><th>15</th><td>15</td><td>costa_rica</td><td>pp_geothermal</td><td>fallwd0</td><td>1014</td><td>0.72</td></tr><tr><th>16</th><td>16</td><td>costa_rica</td><td>pp_geothermal</td><td>fallwd0</td><td>1015</td><td>0.72</td></tr><tr><th>17</th><td>17</td><td>costa_rica</td><td>pp_geothermal</td><td>fallwd0</td><td>1016</td><td>0.72</td></tr><tr><th>18</th><td>18</td><td>costa_rica</td><td>pp_geothermal</td><td>fallwd0</td><td>1017</td><td>0.72</td></tr><tr><th>19</th><td>19</td><td>costa_rica</td><td>pp_geothermal</td><td>fallwd0</td><td>1018</td><td>0.72</td></tr><tr><th>20</th><td>20</td><td>costa_rica</td><td>pp_geothermal</td><td>fallwd0</td><td>1019</td><td>0.72</td></tr><tr><th>21</th><td>21</td><td>costa_rica</td><td>pp_geothermal</td><td>fallwd0</td><td>1020</td><td>0.72</td></tr><tr><th>22</th><td>22</td><td>costa_rica</td><td>pp_geothermal</td><td>fallwd0</td><td>1021</td><td>0.72</td></tr><tr><th>23</th><td>23</td><td>costa_rica</td><td>pp_geothermal</td><td>fallwd0</td><td>1022</td><td>0.72</td></tr><tr><th>24</th><td>24</td><td>costa_rica</td><td>pp_geothermal</td><td>fallwd0</td><td>1023</td><td>0.72</td></tr><tr><th>25</th><td>25</td><td>costa_rica</td><td>pp_geothermal</td><td>fallwd0</td><td>1024</td><td>0.72</td></tr><tr><th>26</th><td>26</td><td>costa_rica</td><td>pp_geothermal</td><td>fallwd0</td><td>1025</td><td>0.72</td></tr><tr><th>27</th><td>27</td><td>costa_rica</td><td>pp_geothermal</td><td>fallwd0</td><td>1026</td><td>0.72</td></tr><tr><th>28</th><td>28</td><td>costa_rica</td><td>pp_geothermal</td><td>fallwd0</td><td>1027</td><td>0.72</td></tr><tr><th>29</th><td>29</td><td>costa_rica</td><td>pp_geothermal</td><td>fallwd0</td><td>1028</td><td>0.72</td></tr><tr><th>30</th><td>30</td><td>costa_rica</td><td>pp_geothermal</td><td>fallwd0</td><td>1029</td><td>0.72</td></tr><tr><th>&vellip;</th><td>&vellip;</td><td>&vellip;</td><td>&vellip;</td><td>&vellip;</td><td>&vellip;</td><td>&vellip;</td></tr></tbody></table></div>"
      ],
      "text/latex": [
       "\\begin{tabular}{r|cccccc}\n",
       "\t& id & r & t & l & y & val\\\\\n",
       "\t\\hline\n",
       "\t& Int64 & String & String & String & String & Float64\\\\\n",
       "\t\\hline\n",
       "\t1 & 1 & costa\\_rica & pp\\_geothermal & fallwd0 & 1000 & 0.72 \\\\\n",
       "\t2 & 2 & costa\\_rica & pp\\_geothermal & fallwd0 & 1001 & 0.72 \\\\\n",
       "\t3 & 3 & costa\\_rica & pp\\_geothermal & fallwd0 & 1002 & 0.72 \\\\\n",
       "\t4 & 4 & costa\\_rica & pp\\_geothermal & fallwd0 & 1003 & 0.72 \\\\\n",
       "\t5 & 5 & costa\\_rica & pp\\_geothermal & fallwd0 & 1004 & 0.72 \\\\\n",
       "\t6 & 6 & costa\\_rica & pp\\_geothermal & fallwd0 & 1005 & 0.72 \\\\\n",
       "\t7 & 7 & costa\\_rica & pp\\_geothermal & fallwd0 & 1006 & 0.72 \\\\\n",
       "\t8 & 8 & costa\\_rica & pp\\_geothermal & fallwd0 & 1007 & 0.72 \\\\\n",
       "\t9 & 9 & costa\\_rica & pp\\_geothermal & fallwd0 & 1008 & 0.72 \\\\\n",
       "\t10 & 10 & costa\\_rica & pp\\_geothermal & fallwd0 & 1009 & 0.72 \\\\\n",
       "\t11 & 11 & costa\\_rica & pp\\_geothermal & fallwd0 & 1010 & 0.72 \\\\\n",
       "\t12 & 12 & costa\\_rica & pp\\_geothermal & fallwd0 & 1011 & 0.72 \\\\\n",
       "\t13 & 13 & costa\\_rica & pp\\_geothermal & fallwd0 & 1012 & 0.72 \\\\\n",
       "\t14 & 14 & costa\\_rica & pp\\_geothermal & fallwd0 & 1013 & 0.72 \\\\\n",
       "\t15 & 15 & costa\\_rica & pp\\_geothermal & fallwd0 & 1014 & 0.72 \\\\\n",
       "\t16 & 16 & costa\\_rica & pp\\_geothermal & fallwd0 & 1015 & 0.72 \\\\\n",
       "\t17 & 17 & costa\\_rica & pp\\_geothermal & fallwd0 & 1016 & 0.72 \\\\\n",
       "\t18 & 18 & costa\\_rica & pp\\_geothermal & fallwd0 & 1017 & 0.72 \\\\\n",
       "\t19 & 19 & costa\\_rica & pp\\_geothermal & fallwd0 & 1018 & 0.72 \\\\\n",
       "\t20 & 20 & costa\\_rica & pp\\_geothermal & fallwd0 & 1019 & 0.72 \\\\\n",
       "\t21 & 21 & costa\\_rica & pp\\_geothermal & fallwd0 & 1020 & 0.72 \\\\\n",
       "\t22 & 22 & costa\\_rica & pp\\_geothermal & fallwd0 & 1021 & 0.72 \\\\\n",
       "\t23 & 23 & costa\\_rica & pp\\_geothermal & fallwd0 & 1022 & 0.72 \\\\\n",
       "\t24 & 24 & costa\\_rica & pp\\_geothermal & fallwd0 & 1023 & 0.72 \\\\\n",
       "\t25 & 25 & costa\\_rica & pp\\_geothermal & fallwd0 & 1024 & 0.72 \\\\\n",
       "\t26 & 26 & costa\\_rica & pp\\_geothermal & fallwd0 & 1025 & 0.72 \\\\\n",
       "\t27 & 27 & costa\\_rica & pp\\_geothermal & fallwd0 & 1026 & 0.72 \\\\\n",
       "\t28 & 28 & costa\\_rica & pp\\_geothermal & fallwd0 & 1027 & 0.72 \\\\\n",
       "\t29 & 29 & costa\\_rica & pp\\_geothermal & fallwd0 & 1028 & 0.72 \\\\\n",
       "\t30 & 30 & costa\\_rica & pp\\_geothermal & fallwd0 & 1029 & 0.72 \\\\\n",
       "\t$\\dots$ & $\\dots$ & $\\dots$ & $\\dots$ & $\\dots$ & $\\dots$ & $\\dots$ \\\\\n",
       "\\end{tabular}\n"
      ],
      "text/plain": [
       "\u001b[1m5760×6 DataFrame\u001b[0m\n",
       "\u001b[1m  Row \u001b[0m│\u001b[1m id    \u001b[0m\u001b[1m r          \u001b[0m\u001b[1m t             \u001b[0m\u001b[1m l         \u001b[0m\u001b[1m y      \u001b[0m\u001b[1m val     \u001b[0m\n",
       "\u001b[1m      \u001b[0m│\u001b[90m Int64 \u001b[0m\u001b[90m String     \u001b[0m\u001b[90m String        \u001b[0m\u001b[90m String    \u001b[0m\u001b[90m String \u001b[0m\u001b[90m Float64 \u001b[0m\n",
       "──────┼──────────────────────────────────────────────────────────────\n",
       "    1 │     1  costa_rica  pp_geothermal  fallwd0    1000    0.72\n",
       "    2 │     2  costa_rica  pp_geothermal  fallwd0    1001    0.72\n",
       "    3 │     3  costa_rica  pp_geothermal  fallwd0    1002    0.72\n",
       "    4 │     4  costa_rica  pp_geothermal  fallwd0    1003    0.72\n",
       "    5 │     5  costa_rica  pp_geothermal  fallwd0    1004    0.72\n",
       "    6 │     6  costa_rica  pp_geothermal  fallwd0    1005    0.72\n",
       "    7 │     7  costa_rica  pp_geothermal  fallwd0    1006    0.72\n",
       "    8 │     8  costa_rica  pp_geothermal  fallwd0    1007    0.72\n",
       "    9 │     9  costa_rica  pp_geothermal  fallwd0    1008    0.72\n",
       "   10 │    10  costa_rica  pp_geothermal  fallwd0    1009    0.72\n",
       "   11 │    11  costa_rica  pp_geothermal  fallwd0    1010    0.72\n",
       "  ⋮   │   ⋮        ⋮             ⋮            ⋮        ⋮        ⋮\n",
       " 5751 │  5751  costa_rica  pp_wind        winterwe6  1026    0.87875\n",
       " 5752 │  5752  costa_rica  pp_wind        winterwe6  1027    0.87875\n",
       " 5753 │  5753  costa_rica  pp_wind        winterwe6  1028    0.87875\n",
       " 5754 │  5754  costa_rica  pp_wind        winterwe6  1029    0.87875\n",
       " 5755 │  5755  costa_rica  pp_wind        winterwe6  1030    0.87875\n",
       " 5756 │  5756  costa_rica  pp_wind        winterwe6  1031    0.87875\n",
       " 5757 │  5757  costa_rica  pp_wind        winterwe6  1032    0.87875\n",
       " 5758 │  5758  costa_rica  pp_wind        winterwe6  1033    0.87875\n",
       " 5759 │  5759  costa_rica  pp_wind        winterwe6  1034    0.87875\n",
       " 5760 │  5760  costa_rica  pp_wind        winterwe6  1035    0.87875\n",
       "\u001b[36m                                                    5739 rows omitted\u001b[0m"
      ]
     },
     "execution_count": 88,
     "metadata": {},
     "output_type": "execute_result"
    }
   ],
   "source": [
    "i = 37\n",
    "print(\"table_name: $(tabs_populated[i])\")\n",
    "df_cur = get(dict_tables, tabs_populated[i], nothing);\n",
    "df_cur"
   ]
  },
  {
   "cell_type": "code",
   "execution_count": null,
   "metadata": {},
   "outputs": [],
   "source": []
  },
  {
   "cell_type": "code",
   "execution_count": 8,
   "metadata": {},
   "outputs": [],
   "source": [
    "#DBInterface.execute(db, \"select * from $(table_name)\") |> DataFrame\n",
    "#sort(collect(keys(dict_tables)))\n",
    "#get(dict_tables, \"CapacityFactor\", nothing)"
   ]
  },
  {
   "cell_type": "code",
   "execution_count": 22,
   "metadata": {},
   "outputs": [
    {
     "data": {
      "text/html": [
       "<div class=\"data-frame\"><p>0 rows × 5 columns</p><table class=\"data-frame\"><thead><tr><th></th><th>id</th><th>r</th><th>s</th><th>y</th><th>val</th></tr><tr><th></th><th title=\"Union{Missing, Int64}\">Int64?</th><th title=\"Union{Missing, String}\">String?</th><th title=\"Union{Missing, String}\">String?</th><th title=\"Union{Missing, String}\">String?</th><th title=\"Union{Missing, Float64}\">Float64?</th></tr></thead><tbody></tbody></table></div>"
      ],
      "text/latex": [
       "\\begin{tabular}{r|ccccc}\n",
       "\t& id & r & s & y & val\\\\\n",
       "\t\\hline\n",
       "\t& Int64? & String? & String? & String? & Float64?\\\\\n",
       "\t\\hline\n",
       "\\end{tabular}\n"
      ],
      "text/plain": [
       "\u001b[1m0×5 DataFrame\u001b[0m"
      ]
     },
     "execution_count": 22,
     "metadata": {},
     "output_type": "execute_result"
    }
   ],
   "source": [
    "DBInterface.execute(db, \"select * from CapitalCostStorage where (id in (1, 2, 3)) and (y in ('1005'))\") |> DataFrame"
   ]
  },
  {
   "cell_type": "code",
   "execution_count": 91,
   "metadata": {},
   "outputs": [
    {
     "data": {
      "text/plain": [
       "\"/Users/jsyme/.julia/packages/NemoMod/vg6Tx/test/storage_test.sqlite\""
      ]
     },
     "execution_count": 91,
     "metadata": {},
     "output_type": "execute_result"
    }
   ],
   "source": [
    "fp_test = normpath(joinpath(pathof(NemoMod), \"..\", \"..\", \"test\", \"storage_test.sqlite\"))\n"
   ]
  },
  {
   "cell_type": "code",
   "execution_count": 115,
   "metadata": {},
   "outputs": [
    {
     "name": "stdout",
     "output_type": "stream",
     "text": [
      "2022-31-Oct 06:35:20.388 Started modeling scenario.\n",
      "2022-31-Oct 06:35:20.389 Validated run-time arguments.\n",
      "2022-31-Oct 06:35:20.392 Connected to scenario database. Path = /Users/jsyme/Documents/Projects/git_jbus/lac_decarbonization/tmp/nemomod_intermediate_database.sqlite.\n",
      "2022-31-Oct 06:35:20.399 Dropped pre-existing result tables from database.\n",
      "2022-31-Oct 06:35:20.399 Verified that transmission modeling is not enabled.\n",
      "2022-31-Oct 06:35:20.482 Created parameter views and indices.\n",
      "2022-31-Oct 06:35:20.487 Created temporary tables.\n",
      "2022-31-Oct 06:35:22.241 Executed core database queries.\n",
      "2022-31-Oct 06:35:22.245 Defined dimensions.\n",
      "2022-31-Oct 06:35:22.264 Defined demand variables.\n",
      "2022-31-Oct 06:35:22.277 Defined storage variables.\n",
      "2022-31-Oct 06:35:22.279 Defined capacity variables.\n",
      "2022-31-Oct 06:35:25.271 Defined activity variables.\n",
      "2022-31-Oct 06:35:25.275 Defined costing variables.\n",
      "2022-31-Oct 06:35:25.276 Defined reserve margin variables.\n",
      "2022-31-Oct 06:35:25.302 Defined emissions variables.\n",
      "2022-31-Oct 06:35:25.302 Defined combined nodal and non-nodal variables.\n",
      "2022-31-Oct 06:35:25.302 Finished defining model variables.\n",
      "2022-31-Oct 06:35:25.302 Scheduled task to add constraints to model.\n",
      "2022-31-Oct 06:35:25.303 Queued constraint CAa1_TotalNewCapacity for creation.\n",
      "2022-31-Oct 06:35:25.385 Queued constraint CAa2_TotalAnnualCapacity for creation.\n",
      "2022-31-Oct 06:35:25.390 Queued constraint VRateOfActivity1 for creation.\n",
      "2022-31-Oct 06:35:25.391 Queued constraint RampRate for creation.\n",
      "2022-31-Oct 06:35:25.392 Queued constraint CAa3_TotalActivityOfEachTechnology for creation.\n",
      "2022-31-Oct 06:35:25.518 Queued constraint CAa4_Constraint_Capacity for creation.\n",
      "2022-31-Oct 06:35:25.520 Queued constraint MinimumTechnologyUtilization for creation.\n",
      "2022-31-Oct 06:35:25.520 Queued constraint EBa2_RateOfFuelProduction2 for creation.\n",
      "2022-31-Oct 06:35:25.773 Queued constraint GenerationAnnualNN for creation.\n",
      "2022-31-Oct 06:35:25.773 Queued constraint ReGenerationAnnualNN for creation.\n",
      "2022-31-Oct 06:35:25.774 Queued constraint EBa3_RateOfFuelProduction3 for creation.\n",
      "2022-31-Oct 06:35:25.936 Queued constraint VRateOfProduction1 for creation.\n",
      "2022-31-Oct 06:35:25.972 Queued constraint EBa5_RateOfFuelUse2 for creation.\n",
      "2022-31-Oct 06:35:26.744 Queued constraint EBa6_RateOfFuelUse3 for creation.\n",
      "2022-31-Oct 06:35:26.800 Queued constraint VRateOfUse1 for creation.\n",
      "2022-31-Oct 06:35:26.834 Queued constraint EBa7_EnergyBalanceEachTS1 for creation.\n",
      "2022-31-Oct 06:35:27.042 Queued constraint EBa8_EnergyBalanceEachTS2 for creation.\n",
      "2022-31-Oct 06:35:27.042 Queued constraint EBa9_EnergyBalanceEachTS3 for creation.\n",
      "2022-31-Oct 06:35:27.045 Queued constraint EBa11_EnergyBalanceEachTS5 for creation.\n",
      "2022-31-Oct 06:35:27.212 Queued constraint EBb0_EnergyBalanceEachYear for creation.\n",
      "2022-31-Oct 06:35:27.224 Queued constraint EBb1_EnergyBalanceEachYear for creation.\n",
      "2022-31-Oct 06:35:27.236 Queued constraint EBb2_EnergyBalanceEachYear for creation.\n",
      "2022-31-Oct 06:35:27.249 Queued constraint EBb3_EnergyBalanceEachYear for creation.\n",
      "2022-31-Oct 06:35:27.249 Queued constraint EBb5_EnergyBalanceEachYear for creation.\n",
      "2022-31-Oct 06:35:27.254 Queued constraint Acc3_AverageAnnualRateOfActivity for creation.\n",
      "2022-31-Oct 06:35:27.476 Queued constraint NS1_RateOfStorageCharge for creation.\n",
      "2022-31-Oct 06:35:27.655 Queued constraint NS2_RateOfStorageDischarge for creation.\n",
      "2022-31-Oct 06:35:27.689 Queued constraint NS3_StorageLevelTsGroup1Start for creation.\n",
      "2022-31-Oct 06:35:27.741 Queued constraint NS4_StorageLevelTsGroup2Start for creation.\n",
      "2022-31-Oct 06:35:27.742 Queued constraint NS5_StorageLevelTimesliceEnd for creation.\n",
      "2022-31-Oct 06:35:27.742 Queued constraint NS6_StorageLevelTsGroup2End for creation.\n",
      "2022-31-Oct 06:35:27.759 Queued constraint NS6a_StorageLevelTsGroup2NetZero for creation.\n",
      "2022-31-Oct 06:35:27.759 Queued constraint NS7_StorageLevelTsGroup1End for creation.\n",
      "2022-31-Oct 06:35:27.766 Queued constraint NS7a_StorageLevelTsGroup1NetZero for creation.\n",
      "2022-31-Oct 06:35:27.766 Queued constraint NS8_StorageLevelYearEnd for creation.\n",
      "2022-31-Oct 06:35:27.818 Queued constraint NS8a_StorageLevelYearEndNetZero for creation.\n",
      "2022-31-Oct 06:35:27.818 Queued constraint SI1_StorageUpperLimit for creation.\n",
      "2022-31-Oct 06:35:27.818 Queued constraint SI2_StorageLowerLimit for creation.\n",
      "2022-31-Oct 06:35:27.819 Queued constraint SI3_TotalNewStorage for creation.\n",
      "2022-31-Oct 06:35:27.828 Queued constraint NS9a_StorageLevelTsLowerLimit for creation.\n",
      "2022-31-Oct 06:35:27.849 Queued constraint NS9b_StorageLevelTsUpperLimit for creation.\n",
      "2022-31-Oct 06:35:27.849 Queued constraint NS10_StorageChargeLimit for creation.\n",
      "2022-31-Oct 06:35:27.849 Queued constraint NS11_StorageDischargeLimit for creation.\n",
      "2022-31-Oct 06:35:27.849 Queued constraint NS12a_StorageLevelTsGroup2LowerLimit for creation.\n",
      "2022-31-Oct 06:35:27.856 Queued constraint NS12b_StorageLevelTsGroup2UpperLimit for creation.\n",
      "2022-31-Oct 06:35:27.856 Queued constraint NS13a_StorageLevelTsGroup1LowerLimit for creation.\n",
      "2022-31-Oct 06:35:27.859 Queued constraint NS13b_StorageLevelTsGroup1UpperLimit for creation.\n",
      "2022-31-Oct 06:35:27.859 Queued constraint NS14_MaxStorageCapacity for creation.\n",
      "2022-31-Oct 06:35:27.859 Queued constraint NS15_MinStorageCapacity for creation.\n",
      "2022-31-Oct 06:35:27.859 Queued constraint NS16_MaxStorageCapacityInvestment for creation.\n",
      "2022-31-Oct 06:35:27.859 Queued constraint NS17_MinStorageCapacityInvestment for creation.\n",
      "2022-31-Oct 06:35:27.859 Queued constraint NS18_FullLoadHours for creation.\n",
      "2022-31-Oct 06:35:27.860 Queued constraint SI4a_FinancingStorage for creation.\n",
      "2022-31-Oct 06:35:27.860 Queued constraint SI4_UndiscountedCapitalInvestmentStorage for creation.\n",
      "2022-31-Oct 06:35:27.861 Queued constraint SI5_DiscountingCapitalInvestmentStorage for creation.\n",
      "2022-31-Oct 06:35:27.861 Queued constraint SI6_SalvageValueStorageAtEndOfPeriod1 for creation.\n",
      "2022-31-Oct 06:35:27.861 Queued constraint SI7_SalvageValueStorageAtEndOfPeriod2 for creation.\n",
      "2022-31-Oct 06:35:27.861 Queued constraint SI8_SalvageValueStorageAtEndOfPeriod3 for creation.\n",
      "2022-31-Oct 06:35:27.862 Queued constraint SI9_SalvageValueStorageDiscountedToStartYear for creation.\n",
      "2022-31-Oct 06:35:27.862 Queued constraint SI10_TotalDiscountedCostByStorage for creation.\n",
      "2022-31-Oct 06:35:27.862 Queued constraint CC1a_FinancingTechnology for creation.\n",
      "2022-31-Oct 06:35:27.862 Queued constraint CC1_UndiscountedCapitalInvestment for creation.\n",
      "2022-31-Oct 06:35:27.865 Queued constraint CC2_DiscountingCapitalInvestment for creation.\n",
      "2022-31-Oct 06:35:27.865 Queued constraint SV1_SalvageValueAtEndOfPeriod1 for creation.\n",
      "2022-31-Oct 06:35:27.866 Queued constraint SV2_SalvageValueAtEndOfPeriod2 for creation.\n",
      "2022-31-Oct 06:35:27.866 Queued constraint SV3_SalvageValueAtEndOfPeriod3 for creation.\n",
      "2022-31-Oct 06:35:27.867 Queued constraint SV4_SalvageValueDiscountedToStartYear for creation.\n",
      "2022-31-Oct 06:35:27.867 Queued constraint OC1_OperatingCostsVariable for creation.\n",
      "2022-31-Oct 06:35:27.870 Queued constraint OC2_OperatingCostsFixedAnnual for creation.\n",
      "2022-31-Oct 06:35:27.873 Queued constraint OC3_OperatingCostsTotalAnnual for creation.\n",
      "2022-31-Oct 06:35:27.874 Queued constraint OC4_DiscountedOperatingCostsTotalAnnual for creation.\n",
      "2022-31-Oct 06:35:27.874 Queued constraint TDC1_TotalDiscountedCostByTechnology for creation.\n",
      "2022-31-Oct 06:35:27.876 Queued constraint TDC2_TotalDiscountedCost for creation.\n",
      "2022-31-Oct 06:35:27.876 Queued constraint TCC1_TotalAnnualMaxCapacityConstraint for creation.\n",
      "2022-31-Oct 06:35:27.876 Queued constraint TCC2_TotalAnnualMinCapacityConstraint for creation.\n",
      "2022-31-Oct 06:35:27.876 Queued constraint NCC1_TotalAnnualMaxNewCapacityConstraint for creation.\n",
      "2022-31-Oct 06:35:27.877 Queued constraint NCC2_TotalAnnualMinNewCapacityConstraint for creation.\n",
      "2022-31-Oct 06:35:27.877 Queued constraint AAC1_TotalAnnualTechnologyActivity for creation.\n",
      "2022-31-Oct 06:35:28.030 Queued constraint AAC3_TotalAnnualTechnologyActivityLowerLimit for creation.\n",
      "2022-31-Oct 06:35:28.032 Queued constraint RM1_ReserveMargin_TechnologiesIncluded_In_Activity_Units for creation.\n",
      "2022-31-Oct 06:35:28.033 Queued constraint RM2_ReserveMargin_FuelsIncluded for creation.\n",
      "2022-31-Oct 06:35:28.041 Queued constraint RM3_ReserveMargin_Constraint for creation.\n",
      "2022-31-Oct 06:35:28.047 Queued constraint RE1_FuelProductionByTechnologyAnnual for creation.\n",
      "2022-31-Oct 06:35:28.379 Queued constraint FuelUseByTechnologyAnnual for creation.\n",
      "2022-31-Oct 06:35:28.422 Queued constraint RE2_ProductionTarget for creation.\n",
      "2022-31-Oct 06:35:28.423 Queued constraint MinShareProduction for creation.\n",
      "2022-31-Oct 06:35:28.423 Queued constraint E2a_AnnualEmissionProduction for creation.\n",
      "2022-31-Oct 06:35:28.427 Queued constraint E2b_AnnualEmissionProduction for creation.\n",
      "2022-31-Oct 06:35:28.561 Queued constraint E4_EmissionsPenaltyByTechnology for creation.\n",
      "2022-31-Oct 06:35:28.573 Queued constraint E5_DiscountedEmissionsPenaltyByTechnology for creation.\n",
      "2022-31-Oct 06:35:28.638 Queued constraint E6_EmissionsAccounting1 for creation.\n",
      "2022-31-Oct 06:35:28.646 Queued constraint E7_EmissionsAccounting2 for creation.\n",
      "2022-31-Oct 06:35:28.646 Queued constraint E8_AnnualEmissionsLimit for creation.\n",
      "2022-31-Oct 06:35:28.646 Queued constraint E9_ModelPeriodEmissionsLimit for creation.\n",
      "2022-31-Oct 06:35:28.646 Queued 94 standard constraints for creation.\n",
      "2022-31-Oct 06:35:28.646 Finished scheduled task to add constraints to model.\n",
      "2022-31-Oct 06:35:28.647 Added 94 standard constraints to model.\n",
      "2022-31-Oct 06:35:28.647 Defined model objective.\n",
      "Gurobi Optimizer version 9.5.2 build v9.5.2rc0 (mac64[x86])\n",
      "Thread count: 6 physical cores, 12 logical processors, using up to 12 threads\n",
      "Optimize a model with 313397 rows, 356030 columns and 914328 nonzeros\n",
      "Model fingerprint: 0xc39cf451\n",
      "Coefficient statistics:\n",
      "  Matrix range     [1e-07, 3e+06]\n",
      "  Objective range  [1e+00, 1e+00]\n",
      "  Bounds range     [0e+00, 0e+00]\n",
      "  RHS range        [1e-02, 1e+03]\n",
      "Warning: Model contains large matrix coefficient range\n",
      "         Consider reformulating model or setting NumericFocus parameter\n",
      "         to avoid numerical issues.\n",
      "\n",
      "Concurrent LP optimizer: primal simplex, dual simplex, and barrier\n",
      "Showing barrier log only...\n",
      "\n",
      "Presolve time: 0.28s\n",
      "\n",
      "Solved with dual simplex\n",
      "Solved in 0 iterations and 0.28 seconds (0.03 work units)\n",
      "Infeasible or unbounded model\n",
      "\n",
      "User-callback calls 23, time in user-callback 0.00 sec\n",
      "2022-31-Oct 06:35:30.378 Solved model. Solver status = INFEASIBLE_OR_UNBOUNDED.\n",
      "2022-31-Oct 06:35:30.378 Solver did not find an optimal solution for model. No results will be saved to database.\n",
      "2022-31-Oct 06:35:30.382 Dropped temporary tables.\n",
      "2022-31-Oct 06:35:30.382 Finished modeling scenario.\n",
      "  9.994092 seconds (38.75 M allocations: 1.910 GiB, 27.64% gc time)\n"
     ]
    },
    {
     "data": {
      "text/plain": [
       "INFEASIBLE_OR_UNBOUNDED::TerminationStatusCode = 6"
      ]
     },
     "execution_count": 115,
     "metadata": {},
     "output_type": "execute_result"
    }
   ],
   "source": [
    "\n",
    "model = Model(Gurobi.Optimizer)\n",
    "#set_optimizer_attribute(model, \"Solver\", \"cplex\")\n",
    "@time NemoMod.calculatescenario(\n",
    "    fp_sqlite_nemomod_db_tmp; \n",
    "    jumpmodel = model,\n",
    "    numprocs = 1\n",
    ")"
   ]
  },
  {
   "cell_type": "code",
   "execution_count": 114,
   "metadata": {},
   "outputs": [
    {
     "data": {
      "text/plain": [
       "Model"
      ]
     },
     "execution_count": 114,
     "metadata": {},
     "output_type": "execute_result"
    }
   ],
   "source": [
    "typeof(model)"
   ]
  },
  {
   "cell_type": "code",
   "execution_count": null,
   "metadata": {},
   "outputs": [],
   "source": []
  },
  {
   "cell_type": "code",
   "execution_count": 106,
   "metadata": {},
   "outputs": [
    {
     "name": "stdout",
     "output_type": "stream",
     "text": [
      "IIS runtime: 0.02 seconds (0.00 work units)\n"
     ]
    },
    {
     "ename": "LoadError",
     "evalue": "Gurobi Error 10015: Cannot compute IIS on a feasible model",
     "output_type": "error",
     "traceback": [
      "Gurobi Error 10015: Cannot compute IIS on a feasible model",
      "",
      "Stacktrace:",
      " [1] _check_ret",
      "   @ ~/.julia/packages/Gurobi/VPomg/src/MOI_wrapper/MOI_wrapper.jl:368 [inlined]",
      " [2] compute_conflict!(model::Gurobi.Optimizer)",
      "   @ Gurobi ~/.julia/packages/Gurobi/VPomg/src/MOI_wrapper/MOI_wrapper.jl:3687",
      " [3] top-level scope",
      "   @ In[106]:1",
      " [4] eval",
      "   @ ./boot.jl:368 [inlined]",
      " [5] include_string(mapexpr::typeof(REPL.softscope), mod::Module, code::String, filename::String)",
      "   @ Base ./loading.jl:1428"
     ]
    }
   ],
   "source": [
    "MOI.compute_conflict!(model.moi_backend.optimizer.model)\n",
    "MOI.get(model.moi_backend, Gurobi.ConstraintConflictStatus(), con1.index)\n",
    "\n"
   ]
  },
  {
   "cell_type": "code",
   "execution_count": null,
   "metadata": {},
   "outputs": [],
   "source": []
  },
  {
   "cell_type": "code",
   "execution_count": null,
   "metadata": {},
   "outputs": [],
   "source": []
  }
 ],
 "metadata": {
  "kernelspec": {
   "display_name": "Julia 1.8.2",
   "language": "julia",
   "name": "julia-1.8"
  },
  "language_info": {
   "file_extension": ".jl",
   "mimetype": "application/julia",
   "name": "julia",
   "version": "1.8.2"
  }
 },
 "nbformat": 4,
 "nbformat_minor": 4
}
