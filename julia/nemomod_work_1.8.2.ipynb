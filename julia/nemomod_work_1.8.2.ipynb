{
 "cells": [
  {
   "cell_type": "code",
   "execution_count": 1,
   "metadata": {},
   "outputs": [
    {
     "name": "stderr",
     "output_type": "stream",
     "text": [
      "\u001b[32m\u001b[1m  Activating\u001b[22m\u001b[39m project at `~/Documents/Projects/git_jbus/lac_decarbonization/julia`\n"
     ]
    },
    {
     "data": {
      "text/plain": [
       "\"/Users/jsyme/Documents/Projects/git_jbus/lac_decarbonization/tmp/nemomod_intermediate_database.sqlite\""
      ]
     },
     "execution_count": 1,
     "metadata": {},
     "output_type": "execute_result"
    }
   ],
   "source": [
    "using Revise\n",
    "!(pwd() in LOAD_PATH) ? push!(LOAD_PATH, pwd()) : nothing\n",
    "include(\"SISEPUEDEPJSF.jl\")\n",
    "import .SISEPUEDEPJSF\n",
    "\n",
    "ENV[\"COLUMNS\"] = 240\n",
    "\n",
    "\n",
    "using Pkg\n",
    "Pkg.activate(\".\")\n",
    "\n",
    "\n",
    "using DataFrames\n",
    "using NemoMod\n",
    "using SQLite\n",
    "using Cbc\n",
    "using JuMP\n",
    "using Gurobi\n",
    "using GAMS\n",
    "\n",
    "include(\"setup_analysis.jl\")"
   ]
  },
  {
   "cell_type": "code",
   "execution_count": 193,
   "metadata": {},
   "outputs": [
    {
     "data": {
      "text/plain": [
       "\"/Users/jsyme/Documents/Projects/git_jbus/lac_decarbonization/tmp/nemomod_intermediate_database.sqlite\""
      ]
     },
     "execution_count": 193,
     "metadata": {},
     "output_type": "execute_result"
    }
   ],
   "source": [
    "rm(fp_sqlite)\n",
    "cp(replace(fp_sqlite, \".sqlite\" => \"_base.sqlite\"), fp_sqlite)\n"
   ]
  },
  {
   "cell_type": "code",
   "execution_count": 82,
   "metadata": {},
   "outputs": [
    {
     "data": {
      "text/plain": [
       "\"/Users/jsyme/Documents/Projects/git_jbus/lac_decarbonization/tmp/nemomod_intermediate_database_base.sqlite\""
      ]
     },
     "execution_count": 82,
     "metadata": {},
     "output_type": "execute_result"
    }
   ],
   "source": [
    "fp_sqlite = \"/Users/jsyme/Documents/Projects/git_jbus/lac_decarbonization/tmp/nemomod_intermediate_database.sqlite\"\n",
    "db = SQLite.DB(fp_sqlite)\n",
    "cp(fp_sqlite, replace(fp_sqlite, \".sqlite\" => \"_base.sqlite\"), force = true)\n"
   ]
  },
  {
   "cell_type": "code",
   "execution_count": 55,
   "metadata": {
    "tags": []
   },
   "outputs": [
    {
     "data": {
      "text/plain": [
       "\"/Users/jsyme/Documents/Projects/git_jbus/lac_decarbonization/tmp/nemomod_intermediate_database.sqlite\""
      ]
     },
     "execution_count": 55,
     "metadata": {},
     "output_type": "execute_result"
    }
   ],
   "source": [
    "cp(replace(fp_sqlite, \".sqlite\" => \"_base.sqlite\"), fp_sqlite, force = true)"
   ]
  },
  {
   "cell_type": "code",
   "execution_count": 215,
   "metadata": {
    "tags": []
   },
   "outputs": [
    {
     "data": {
      "text/plain": [
       "SQLite.DB(\"/Users/jsyme/Documents/Projects/git_jbus/lac_decarbonization/tmp/nemomod_intermediate_database.sqlite\")"
      ]
     },
     "execution_count": 215,
     "metadata": {},
     "output_type": "execute_result"
    }
   ],
   "source": [
    "rm(fp_sqlite)\n",
    "cp(replace(fp_sqlite, \".sqlite\" => \"_base.sqlite\"), fp_sqlite, force = true)\n",
    "fp_sqlite = \"/Users/jsyme/Documents/Projects/git_jbus/lac_decarbonization/tmp/nemomod_intermediate_database.sqlite\"\n",
    "db = SQLite.DB(fp_sqlite)\n",
    "\n"
   ]
  },
  {
   "cell_type": "code",
   "execution_count": 112,
   "metadata": {},
   "outputs": [
    {
     "data": {
      "text/html": [
       "<div class=\"data-frame\"><p>36 rows × 5 columns</p><table class=\"data-frame\"><thead><tr><th></th><th>id</th><th>r</th><th>t</th><th>y</th><th>val</th></tr><tr><th></th><th title=\"Int64\">Int64</th><th title=\"String\">String</th><th title=\"String\">String</th><th title=\"String\">String</th><th title=\"Float64\">Float64</th></tr></thead><tbody><tr><th>1</th><td>1</td><td>mexico</td><td>pp_hydropower</td><td>1000</td><td>18.6643</td></tr><tr><th>2</th><td>2</td><td>mexico</td><td>pp_hydropower</td><td>1001</td><td>18.6643</td></tr><tr><th>3</th><td>3</td><td>mexico</td><td>pp_hydropower</td><td>1002</td><td>18.6643</td></tr><tr><th>4</th><td>4</td><td>mexico</td><td>pp_hydropower</td><td>1003</td><td>18.6643</td></tr><tr><th>5</th><td>5</td><td>mexico</td><td>pp_hydropower</td><td>1004</td><td>18.6643</td></tr><tr><th>6</th><td>6</td><td>mexico</td><td>pp_hydropower</td><td>1005</td><td>18.6643</td></tr><tr><th>7</th><td>7</td><td>mexico</td><td>pp_hydropower</td><td>1006</td><td>18.6643</td></tr><tr><th>8</th><td>8</td><td>mexico</td><td>pp_hydropower</td><td>1007</td><td>18.6643</td></tr><tr><th>9</th><td>9</td><td>mexico</td><td>pp_hydropower</td><td>1008</td><td>18.6643</td></tr><tr><th>10</th><td>10</td><td>mexico</td><td>pp_hydropower</td><td>1009</td><td>18.6643</td></tr><tr><th>11</th><td>11</td><td>mexico</td><td>pp_hydropower</td><td>1010</td><td>18.6643</td></tr><tr><th>12</th><td>12</td><td>mexico</td><td>pp_hydropower</td><td>1011</td><td>18.6643</td></tr><tr><th>13</th><td>13</td><td>mexico</td><td>pp_hydropower</td><td>1012</td><td>18.6643</td></tr><tr><th>14</th><td>14</td><td>mexico</td><td>pp_hydropower</td><td>1013</td><td>18.6643</td></tr><tr><th>15</th><td>15</td><td>mexico</td><td>pp_hydropower</td><td>1014</td><td>18.6643</td></tr><tr><th>16</th><td>16</td><td>mexico</td><td>pp_hydropower</td><td>1015</td><td>18.6643</td></tr><tr><th>17</th><td>17</td><td>mexico</td><td>pp_hydropower</td><td>1016</td><td>18.6643</td></tr><tr><th>18</th><td>18</td><td>mexico</td><td>pp_hydropower</td><td>1017</td><td>18.6643</td></tr><tr><th>19</th><td>19</td><td>mexico</td><td>pp_hydropower</td><td>1018</td><td>18.6643</td></tr><tr><th>20</th><td>20</td><td>mexico</td><td>pp_hydropower</td><td>1019</td><td>18.6643</td></tr><tr><th>21</th><td>21</td><td>mexico</td><td>pp_hydropower</td><td>1020</td><td>18.6643</td></tr><tr><th>22</th><td>22</td><td>mexico</td><td>pp_hydropower</td><td>1021</td><td>18.6643</td></tr><tr><th>23</th><td>23</td><td>mexico</td><td>pp_hydropower</td><td>1022</td><td>18.6643</td></tr><tr><th>24</th><td>24</td><td>mexico</td><td>pp_hydropower</td><td>1023</td><td>18.6643</td></tr><tr><th>25</th><td>25</td><td>mexico</td><td>pp_hydropower</td><td>1024</td><td>18.6643</td></tr><tr><th>26</th><td>26</td><td>mexico</td><td>pp_hydropower</td><td>1025</td><td>18.6643</td></tr><tr><th>27</th><td>27</td><td>mexico</td><td>pp_hydropower</td><td>1026</td><td>18.6643</td></tr><tr><th>28</th><td>28</td><td>mexico</td><td>pp_hydropower</td><td>1027</td><td>18.6643</td></tr><tr><th>29</th><td>29</td><td>mexico</td><td>pp_hydropower</td><td>1028</td><td>18.6643</td></tr><tr><th>30</th><td>30</td><td>mexico</td><td>pp_hydropower</td><td>1029</td><td>18.6643</td></tr><tr><th>&vellip;</th><td>&vellip;</td><td>&vellip;</td><td>&vellip;</td><td>&vellip;</td><td>&vellip;</td></tr></tbody></table></div>"
      ],
      "text/latex": [
       "\\begin{tabular}{r|ccccc}\n",
       "\t& id & r & t & y & val\\\\\n",
       "\t\\hline\n",
       "\t& Int64 & String & String & String & Float64\\\\\n",
       "\t\\hline\n",
       "\t1 & 1 & mexico & pp\\_hydropower & 1000 & 18.6643 \\\\\n",
       "\t2 & 2 & mexico & pp\\_hydropower & 1001 & 18.6643 \\\\\n",
       "\t3 & 3 & mexico & pp\\_hydropower & 1002 & 18.6643 \\\\\n",
       "\t4 & 4 & mexico & pp\\_hydropower & 1003 & 18.6643 \\\\\n",
       "\t5 & 5 & mexico & pp\\_hydropower & 1004 & 18.6643 \\\\\n",
       "\t6 & 6 & mexico & pp\\_hydropower & 1005 & 18.6643 \\\\\n",
       "\t7 & 7 & mexico & pp\\_hydropower & 1006 & 18.6643 \\\\\n",
       "\t8 & 8 & mexico & pp\\_hydropower & 1007 & 18.6643 \\\\\n",
       "\t9 & 9 & mexico & pp\\_hydropower & 1008 & 18.6643 \\\\\n",
       "\t10 & 10 & mexico & pp\\_hydropower & 1009 & 18.6643 \\\\\n",
       "\t11 & 11 & mexico & pp\\_hydropower & 1010 & 18.6643 \\\\\n",
       "\t12 & 12 & mexico & pp\\_hydropower & 1011 & 18.6643 \\\\\n",
       "\t13 & 13 & mexico & pp\\_hydropower & 1012 & 18.6643 \\\\\n",
       "\t14 & 14 & mexico & pp\\_hydropower & 1013 & 18.6643 \\\\\n",
       "\t15 & 15 & mexico & pp\\_hydropower & 1014 & 18.6643 \\\\\n",
       "\t16 & 16 & mexico & pp\\_hydropower & 1015 & 18.6643 \\\\\n",
       "\t17 & 17 & mexico & pp\\_hydropower & 1016 & 18.6643 \\\\\n",
       "\t18 & 18 & mexico & pp\\_hydropower & 1017 & 18.6643 \\\\\n",
       "\t19 & 19 & mexico & pp\\_hydropower & 1018 & 18.6643 \\\\\n",
       "\t20 & 20 & mexico & pp\\_hydropower & 1019 & 18.6643 \\\\\n",
       "\t21 & 21 & mexico & pp\\_hydropower & 1020 & 18.6643 \\\\\n",
       "\t22 & 22 & mexico & pp\\_hydropower & 1021 & 18.6643 \\\\\n",
       "\t23 & 23 & mexico & pp\\_hydropower & 1022 & 18.6643 \\\\\n",
       "\t24 & 24 & mexico & pp\\_hydropower & 1023 & 18.6643 \\\\\n",
       "\t25 & 25 & mexico & pp\\_hydropower & 1024 & 18.6643 \\\\\n",
       "\t26 & 26 & mexico & pp\\_hydropower & 1025 & 18.6643 \\\\\n",
       "\t27 & 27 & mexico & pp\\_hydropower & 1026 & 18.6643 \\\\\n",
       "\t28 & 28 & mexico & pp\\_hydropower & 1027 & 18.6643 \\\\\n",
       "\t29 & 29 & mexico & pp\\_hydropower & 1028 & 18.6643 \\\\\n",
       "\t30 & 30 & mexico & pp\\_hydropower & 1029 & 18.6643 \\\\\n",
       "\t$\\dots$ & $\\dots$ & $\\dots$ & $\\dots$ & $\\dots$ & $\\dots$ \\\\\n",
       "\\end{tabular}\n"
      ],
      "text/plain": [
       "\u001b[1m36×5 DataFrame\u001b[0m\n",
       "\u001b[1m Row \u001b[0m│\u001b[1m id    \u001b[0m\u001b[1m r      \u001b[0m\u001b[1m t             \u001b[0m\u001b[1m y      \u001b[0m\u001b[1m val     \u001b[0m\n",
       "\u001b[1m     \u001b[0m│\u001b[90m Int64 \u001b[0m\u001b[90m String \u001b[0m\u001b[90m String        \u001b[0m\u001b[90m String \u001b[0m\u001b[90m Float64 \u001b[0m\n",
       "─────┼───────────────────────────────────────────────\n",
       "   1 │     1  mexico  pp_hydropower  1000    18.6643\n",
       "   2 │     2  mexico  pp_hydropower  1001    18.6643\n",
       "   3 │     3  mexico  pp_hydropower  1002    18.6643\n",
       "   4 │     4  mexico  pp_hydropower  1003    18.6643\n",
       "   5 │     5  mexico  pp_hydropower  1004    18.6643\n",
       "   6 │     6  mexico  pp_hydropower  1005    18.6643\n",
       "   7 │     7  mexico  pp_hydropower  1006    18.6643\n",
       "   8 │     8  mexico  pp_hydropower  1007    18.6643\n",
       "   9 │     9  mexico  pp_hydropower  1008    18.6643\n",
       "  10 │    10  mexico  pp_hydropower  1009    18.6643\n",
       "  11 │    11  mexico  pp_hydropower  1010    18.6643\n",
       "  ⋮  │   ⋮      ⋮           ⋮          ⋮        ⋮\n",
       "  27 │    27  mexico  pp_hydropower  1026    18.6643\n",
       "  28 │    28  mexico  pp_hydropower  1027    18.6643\n",
       "  29 │    29  mexico  pp_hydropower  1028    18.6643\n",
       "  30 │    30  mexico  pp_hydropower  1029    18.6643\n",
       "  31 │    31  mexico  pp_hydropower  1030    18.6643\n",
       "  32 │    32  mexico  pp_hydropower  1031    18.6643\n",
       "  33 │    33  mexico  pp_hydropower  1032    18.6643\n",
       "  34 │    34  mexico  pp_hydropower  1033    18.6643\n",
       "  35 │    35  mexico  pp_hydropower  1034    18.6643\n",
       "  36 │    36  mexico  pp_hydropower  1035    18.6643\n",
       "\u001b[36m                                      15 rows omitted\u001b[0m"
      ]
     },
     "execution_count": 112,
     "metadata": {},
     "output_type": "execute_result"
    }
   ],
   "source": [
    "dict_tables[\"TotalAnnualMaxCapacity\"]"
   ]
  },
  {
   "cell_type": "code",
   "execution_count": 109,
   "metadata": {},
   "outputs": [
    {
     "name": "stdout",
     "output_type": "stream",
     "text": [
      "CapacityFactor\n",
      "CapitalCost\n",
      "CapitalCostStorage\n",
      "DefaultParams\n",
      "EmissionActivityRatio\n",
      "FixedCost\n",
      "InputActivityRatio\n",
      "LTsGroup\n",
      "MinStorageCharge\n",
      "OperationalLife\n",
      "OperationalLifeStorage\n",
      "OutputActivityRatio\n",
      "RETagTechnology\n",
      "ReserveMargin\n",
      "ReserveMarginTagFuel\n",
      "ReserveMarginTagTechnology\n",
      "ResidualCapacity\n",
      "ResidualStorageCapacity\n",
      "SpecifiedAnnualDemand\n",
      "SpecifiedDemandProfile\n",
      "StorageLevelStart\n",
      "TechnologyFromStorage\n",
      "TechnologyToStorage\n",
      "TotalAnnualMaxCapacity\n",
      "VariableCost\n",
      "Version\n",
      "YearSplit\n",
      "sqlite_sequence\n"
     ]
    }
   ],
   "source": [
    "dict_tables = Dict()\n",
    "\n",
    "tabs = SQLite.tables(db)[1]\n",
    "table_name = 0\n",
    "tabs_populated = Vector{String}()\n",
    "for k in 1:length(tabs)\n",
    "    table_name = tabs[k]\n",
    "    df_tmp = DBInterface.execute(db, \"select * from $(table_name)\") |> DataFrame\n",
    "    dict_tables[table_name] = df_tmp\n",
    "    \n",
    "    (nrow(df_tmp) > 0) ? push!(tabs_populated, table_name) : nothing\n",
    "end\n",
    "\n",
    "\n",
    "tabs = sort([x for x in tabs_populated if (x != uppercase(x)) & !startswith(x, \"v\")])\n",
    "println.(tabs);"
   ]
  },
  {
   "cell_type": "code",
   "execution_count": 110,
   "metadata": {},
   "outputs": [],
   "source": [
    "SQLite.DBInterface.execute(db, \"delete from TotalAnnualMaxCapacity;\");\n",
    "# REMOVED:\n",
    "# MinShareProduction\n",
    "# TotalTechnologyAnnualActivityUpperLimit\n",
    "# TotalAnnualMaxCapacityInvestment\n",
    "# REMinProductionTarget\n",
    "# TotalAnnualMaxCapacityInvestmentStorage\n",
    "# TotalTechnologyAnnualActivityLowerLimit\n",
    "# TotalAnnualMaxCapacity"
   ]
  },
  {
   "cell_type": "code",
   "execution_count": 111,
   "metadata": {
    "tags": []
   },
   "outputs": [
    {
     "name": "stdout",
     "output_type": "stream",
     "text": [
      "2023-08-May 23:13:40.343 Started modeling scenario.\n",
      "2023-08-May 23:13:40.343 Validated run-time arguments.\n",
      "2023-08-May 23:13:40.344 Connected to scenario database. Path = /Users/jsyme/Documents/Projects/git_jbus/lac_decarbonization/tmp/nemomod_intermediate_database.sqlite.\n",
      "2023-08-May 23:13:40.346 Dropped pre-existing result tables from database.\n",
      "2023-08-May 23:13:40.347 Verified that transmission modeling is not enabled.\n",
      "2023-08-May 23:13:40.458 Created parameter views and indices.\n",
      "2023-08-May 23:13:40.461 Created temporary tables.\n",
      "2023-08-May 23:13:40.814 Executed core database queries.\n",
      "2023-08-May 23:13:40.815 Defined dimensions.\n",
      "2023-08-May 23:13:40.818 Defined demand variables.\n",
      "2023-08-May 23:13:40.820 Defined storage variables.\n",
      "2023-08-May 23:13:40.820 Defined capacity variables.\n",
      "2023-08-May 23:13:41.109 Defined activity variables.\n",
      "2023-08-May 23:13:41.111 Defined costing variables.\n",
      "2023-08-May 23:13:41.111 Defined reserve margin variables.\n",
      "2023-08-May 23:13:41.125 Defined emissions variables.\n",
      "2023-08-May 23:13:41.125 Defined combined nodal and non-nodal variables.\n",
      "2023-08-May 23:13:41.125 Finished defining model variables.\n",
      "2023-08-May 23:13:41.126 Scheduled task to add constraints to model.\n",
      "2023-08-May 23:13:41.126 Queued constraint CAa1_TotalNewCapacity for creation.\n",
      "2023-08-May 23:13:41.126 Queued constraint CAa2_TotalAnnualCapacity for creation.\n",
      "2023-08-May 23:13:41.126 Queued constraint VRateOfActivity1 for creation.\n",
      "2023-08-May 23:13:41.126 Queued constraint RampRate for creation.\n",
      "2023-08-May 23:13:41.126 Queued constraint CAa3_TotalActivityOfEachTechnology for creation.\n",
      "2023-08-May 23:13:41.126 Queued constraint CAa4_Constraint_Capacity for creation.\n",
      "2023-08-May 23:13:41.126 Queued constraint MinimumTechnologyUtilization for creation.\n",
      "2023-08-May 23:13:41.126 Queued constraint EBa2_RateOfFuelProduction2 for creation.\n",
      "2023-08-May 23:13:41.126 Queued constraint GenerationAnnualNN for creation.\n",
      "2023-08-May 23:13:41.126 Queued constraint ReGenerationAnnualNN for creation.\n",
      "2023-08-May 23:13:41.127 Queued constraint EBa3_RateOfFuelProduction3 for creation.\n",
      "2023-08-May 23:13:41.127 Queued constraint VRateOfProduction1 for creation.\n",
      "2023-08-May 23:13:41.127 Queued constraint EBa5_RateOfFuelUse2 for creation.\n",
      "2023-08-May 23:13:41.514 Queued constraint EBa6_RateOfFuelUse3 for creation.\n",
      "2023-08-May 23:13:41.514 Queued constraint VRateOfUse1 for creation.\n",
      "2023-08-May 23:13:41.514 Queued constraint EBa7_EnergyBalanceEachTS1 for creation.\n",
      "2023-08-May 23:13:41.514 Queued constraint EBa8_EnergyBalanceEachTS2 for creation.\n",
      "2023-08-May 23:13:41.514 Queued constraint EBa9_EnergyBalanceEachTS3 for creation.\n",
      "2023-08-May 23:13:41.514 Queued constraint EBa11_EnergyBalanceEachTS5 for creation.\n",
      "2023-08-May 23:13:41.514 Queued constraint EBb0_EnergyBalanceEachYear for creation.\n",
      "2023-08-May 23:13:41.514 Queued constraint EBb1_EnergyBalanceEachYear for creation.\n",
      "2023-08-May 23:13:41.515 Queued constraint EBb2_EnergyBalanceEachYear for creation.\n",
      "2023-08-May 23:13:41.523 Queued constraint EBb3_EnergyBalanceEachYear for creation.\n",
      "2023-08-May 23:13:41.523 Queued constraint EBb5_EnergyBalanceEachYear for creation.\n",
      "2023-08-May 23:13:41.523 Queued constraint Acc3_AverageAnnualRateOfActivity for creation.\n",
      "2023-08-May 23:13:41.523 Queued constraint NS1_RateOfStorageCharge for creation.\n",
      "2023-08-May 23:13:41.664 Queued constraint NS2_RateOfStorageDischarge for creation.\n",
      "2023-08-May 23:13:41.665 Queued constraint NS3_StorageLevelTsGroup1Start for creation.\n",
      "2023-08-May 23:13:41.665 Queued constraint NS4_StorageLevelTsGroup2Start for creation.\n",
      "2023-08-May 23:13:41.665 Queued constraint NS5_StorageLevelTimesliceEnd for creation.\n",
      "2023-08-May 23:13:41.665 Queued constraint NS6_StorageLevelTsGroup2End for creation.\n",
      "2023-08-May 23:13:41.665 Queued constraint NS6a_StorageLevelTsGroup2NetZero for creation.\n",
      "2023-08-May 23:13:41.665 Queued constraint NS7_StorageLevelTsGroup1End for creation.\n",
      "2023-08-May 23:13:41.665 Queued constraint NS7a_StorageLevelTsGroup1NetZero for creation.\n",
      "2023-08-May 23:13:41.665 Queued constraint NS8_StorageLevelYearEnd for creation.\n",
      "2023-08-May 23:13:41.665 Queued constraint NS8a_StorageLevelYearEndNetZero for creation.\n",
      "2023-08-May 23:13:41.665 Queued constraint SI1_StorageUpperLimit for creation.\n",
      "2023-08-May 23:13:41.709 Queued constraint SI2_StorageLowerLimit for creation.\n",
      "2023-08-May 23:13:41.714 Queued constraint SI3_TotalNewStorage for creation.\n",
      "2023-08-May 23:13:41.740 Queued constraint NS9a_StorageLevelTsLowerLimit for creation.\n",
      "2023-08-May 23:13:41.740 Queued constraint NS9b_StorageLevelTsUpperLimit for creation.\n",
      "2023-08-May 23:13:41.740 Queued constraint NS10_StorageChargeLimit for creation.\n",
      "2023-08-May 23:13:41.875 Queued constraint NS11_StorageDischargeLimit for creation.\n",
      "2023-08-May 23:13:41.875 Queued constraint NS12a_StorageLevelTsGroup2LowerLimit for creation.\n",
      "2023-08-May 23:13:41.875 Queued constraint NS12b_StorageLevelTsGroup2UpperLimit for creation.\n",
      "2023-08-May 23:13:41.875 Queued constraint NS13a_StorageLevelTsGroup1LowerLimit for creation.\n",
      "2023-08-May 23:13:41.876 Queued constraint NS13b_StorageLevelTsGroup1UpperLimit for creation.\n",
      "2023-08-May 23:13:41.876 Queued constraint NS14_MaxStorageCapacity for creation.\n",
      "2023-08-May 23:13:41.876 Queued constraint NS15_MinStorageCapacity for creation.\n",
      "2023-08-May 23:13:41.876 Queued constraint NS16_MaxStorageCapacityInvestment for creation.\n",
      "2023-08-May 23:13:41.877 Queued constraint NS17_MinStorageCapacityInvestment for creation.\n",
      "2023-08-May 23:13:41.877 Queued constraint NS18_FullLoadHours for creation.\n",
      "2023-08-May 23:13:41.878 Queued constraint SI4a_FinancingStorage for creation.\n",
      "2023-08-May 23:13:41.878 Queued constraint SI4_UndiscountedCapitalInvestmentStorage for creation.\n",
      "2023-08-May 23:13:41.883 Queued constraint SI5_DiscountingCapitalInvestmentStorage for creation.\n",
      "2023-08-May 23:13:41.891 Queued constraint SI6_SalvageValueStorageAtEndOfPeriod1 for creation.\n",
      "2023-08-May 23:13:41.891 Queued constraint SI7_SalvageValueStorageAtEndOfPeriod2 for creation.\n",
      "2023-08-May 23:13:41.899 Queued constraint SI8_SalvageValueStorageAtEndOfPeriod3 for creation.\n",
      "2023-08-May 23:13:41.899 Queued constraint SI9_SalvageValueStorageDiscountedToStartYear for creation.\n",
      "2023-08-May 23:13:41.903 Queued constraint SI10_TotalDiscountedCostByStorage for creation.\n",
      "2023-08-May 23:13:41.903 Queued constraint CC1a_FinancingTechnology for creation.\n",
      "2023-08-May 23:13:41.903 Queued constraint CC1_UndiscountedCapitalInvestment for creation.\n",
      "2023-08-May 23:13:41.948 Queued constraint CC2_DiscountingCapitalInvestment for creation.\n",
      "2023-08-May 23:13:41.948 Queued constraint SV1_SalvageValueAtEndOfPeriod1 for creation.\n",
      "2023-08-May 23:13:41.948 Queued constraint SV2_SalvageValueAtEndOfPeriod2 for creation.\n",
      "2023-08-May 23:13:41.989 Queued constraint SV3_SalvageValueAtEndOfPeriod3 for creation.\n",
      "2023-08-May 23:13:41.989 Queued constraint SV4_SalvageValueDiscountedToStartYear for creation.\n",
      "2023-08-May 23:13:41.989 Queued constraint OC1_OperatingCostsVariable for creation.\n",
      "2023-08-May 23:13:41.989 Queued constraint OC2_OperatingCostsFixedAnnual for creation.\n",
      "2023-08-May 23:13:42.030 Queued constraint OC3_OperatingCostsTotalAnnual for creation.\n",
      "2023-08-May 23:13:42.030 Queued constraint OC4_DiscountedOperatingCostsTotalAnnual for creation.\n",
      "2023-08-May 23:13:42.030 Queued constraint TDC1_TotalDiscountedCostByTechnology for creation.\n",
      "2023-08-May 23:13:42.030 Queued constraint TDC2_TotalDiscountedCost for creation.\n",
      "2023-08-May 23:13:42.030 Queued constraint TCC1_TotalAnnualMaxCapacityConstraint for creation.\n",
      "2023-08-May 23:13:42.030 Queued constraint TCC2_TotalAnnualMinCapacityConstraint for creation.\n",
      "2023-08-May 23:13:42.041 Queued constraint NCC1_TotalAnnualMaxNewCapacityConstraint for creation.\n",
      "2023-08-May 23:13:42.041 Queued constraint NCC2_TotalAnnualMinNewCapacityConstraint for creation.\n",
      "2023-08-May 23:13:42.042 Queued constraint RM1_ReserveMargin_TechnologiesIncluded_In_Activity_Units for creation.\n",
      "2023-08-May 23:13:42.042 Queued constraint RM2_ReserveMargin_FuelsIncluded for creation.\n",
      "2023-08-May 23:13:42.043 Queued constraint RM3_ReserveMargin_Constraint for creation.\n",
      "2023-08-May 23:13:42.078 Queued constraint RE1_FuelProductionByTechnologyAnnual for creation.\n",
      "2023-08-May 23:13:42.078 Queued constraint FuelUseByTechnologyAnnual for creation.\n",
      "2023-08-May 23:13:42.134 Queued constraint RE2_ProductionTarget for creation.\n",
      "2023-08-May 23:13:42.134 Queued constraint MinShareProduction for creation.\n",
      "2023-08-May 23:13:42.134 Queued constraint E2a_AnnualEmissionProduction for creation.\n",
      "2023-08-May 23:13:42.134 Queued constraint E2b_AnnualEmissionProduction for creation.\n",
      "2023-08-May 23:13:42.422 Queued constraint E4_EmissionsPenaltyByTechnology for creation.\n",
      "2023-08-May 23:13:42.422 Queued constraint E5_DiscountedEmissionsPenaltyByTechnology for creation.\n",
      "2023-08-May 23:13:42.422 Queued constraint E6_EmissionsAccounting1 for creation.\n",
      "2023-08-May 23:13:42.422 Queued constraint E7_EmissionsAccounting2 for creation.\n",
      "2023-08-May 23:13:42.422 Queued constraint E8_AnnualEmissionsLimit for creation.\n",
      "2023-08-May 23:13:42.451 Queued constraint E9_ModelPeriodEmissionsLimit for creation.\n",
      "2023-08-May 23:13:42.451 Queued 92 standard constraints for creation.\n"
     ]
    },
    {
     "name": "stderr",
     "output_type": "stream",
     "text": [
      "\u001b[33m\u001b[1m┌ \u001b[22m\u001b[39m\u001b[33m\u001b[1mWarning: \u001b[22m\u001b[39mModel period emission limits (ModelPeriodEmissionLimit parameter) are not enforced when modeling selected years.\n",
      "\u001b[33m\u001b[1m└ \u001b[22m\u001b[39m\u001b[90m@ NemoMod ~/.julia/packages/NemoMod/vg6Tx/src/scenario_calculation.jl:6107\u001b[39m\n"
     ]
    },
    {
     "name": "stdout",
     "output_type": "stream",
     "text": [
      "2023-08-May 23:13:42.802 Finished scheduled task to add constraints to model.\n",
      "2023-08-May 23:13:42.802 Added 92 standard constraints to model.\n",
      "2023-08-May 23:13:42.802 Defined model objective.\n",
      "Gurobi Optimizer version 9.5.2 build v9.5.2rc0 (mac64[x86])\n",
      "Thread count: 6 physical cores, 12 logical processors, using up to 12 threads\n",
      "Optimize a model with 188343 rows, 181699 columns and 521370 nonzeros\n",
      "Model fingerprint: 0x0580de0f\n",
      "Coefficient statistics:\n",
      "  Matrix range     [6e-09, 8e+05]\n",
      "  Objective range  [1e+00, 1e+00]\n",
      "  Bounds range     [0e+00, 0e+00]\n",
      "  RHS range        [1e-02, 1e+10]\n",
      "Warning: Model contains large matrix coefficient range\n",
      "Warning: Model contains large rhs\n",
      "         Consider reformulating model or setting NumericFocus parameter\n",
      "         to avoid numerical issues.\n",
      "\n",
      "Concurrent LP optimizer: primal simplex, dual simplex, and barrier\n",
      "Showing barrier log only...\n",
      "\n",
      "Presolve removed 159965 rows and 160952 columns\n",
      "Presolve time: 0.63s\n",
      "Presolved: 28378 rows, 20747 columns, 119603 nonzeros\n",
      "\n",
      "Ordering time: 0.39s\n",
      "\n",
      "Barrier statistics:\n",
      " AA' NZ     : 5.034e+05\n",
      " Factor NZ  : 3.255e+06 (roughly 50 MB of memory)\n",
      " Factor Ops : 7.171e+08 (less than 1 second per iteration)\n",
      " Threads    : 4\n",
      "\n",
      "                  Objective                Residual\n",
      "Iter       Primal          Dual         Primal    Dual     Compl     Time\n",
      "   0   2.41038680e+18 -2.88543339e+19  5.88e+11 4.03e+04  2.58e+15     1s\n",
      "   1   2.44119403e+18 -1.04082243e+23  5.90e+11 2.53e+05  2.60e+15     1s\n",
      "   2   2.43669011e+18 -1.52890072e+23  5.90e+11 2.49e+05  2.63e+15     1s\n",
      "   3   2.41038680e+18 -2.88543339e+19  5.88e+11 4.03e+04  2.58e+15     1s\n",
      "   4   2.44119404e+18 -1.04082242e+23  5.90e+11 2.53e+05  2.60e+15     1s\n",
      "   5   2.43669012e+18 -1.52890070e+23  5.90e+11 2.49e+05  2.63e+15     1s\n",
      "   6   2.43681376e+18 -1.99923394e+23  5.90e+11 2.41e+05  2.66e+15     1s\n",
      "   7   2.42926525e+18 -5.26354357e+23  5.91e+11 2.53e+05  2.86e+15     2s\n",
      "   8   2.41740232e+18 -7.03719056e+23  5.91e+11 2.53e+05  2.98e+15     2s\n",
      "   9   2.42695070e+18 -3.69765172e+24  5.91e+11 2.34e+05  5.15e+15     2s\n",
      "  10   2.51005332e+18 -1.12402420e+25  5.92e+11 2.43e+05  1.05e+16     2s\n",
      "  11   2.55343967e+18 -1.83610149e+25  5.92e+11 2.32e+05  1.57e+16     2s\n",
      "  12   2.55981010e+18 -3.02371274e+25  5.92e+11 2.40e+05  2.43e+16     2s\n",
      "  13   2.57805202e+18 -7.02522560e+25  5.92e+11 2.31e+05  5.35e+16     2s\n",
      "  14   2.61029207e+18 -7.07669728e+26  5.92e+11 2.29e+05  5.21e+17     2s\n",
      "  15   2.67277055e+18 -1.44274569e+28  5.92e+11 2.30e+05  1.08e+19     2s\n",
      "  16   2.87438560e+18 -4.91748690e+29  5.91e+11 2.29e+05  3.90e+20     2s\n",
      "\n",
      "Barrier performed 16 iterations in 1.95 seconds (1.36 work units)\n",
      "Numerical trouble encountered\n",
      "\n",
      "Model may be infeasible or unbounded.  Consider using the\n",
      "homogeneous algorithm (through parameter 'BarHomogeneous')\n",
      "\n",
      "Iteration    Objective       Primal Inf.    Dual Inf.      Time\n",
      "       0    0.0000000e+00   1.340197e+06   0.000000e+00      2s\n",
      "\n",
      "Solved with dual simplex\n",
      "Solved in 36926 iterations and 3.51 seconds (2.95 work units)\n",
      "Optimal objective  8.142811276e+05\n",
      "\n",
      "User-callback calls 29065, time in user-callback 0.01 sec\n",
      "2023-08-May 23:13:46.965 Solved model. Solver status = OPTIMAL.\n",
      "2023-08-May 23:13:47.004 Saved results for vdemandnn to database.\n",
      "2023-08-May 23:13:47.008 Saved results for vnewcapacity to database.\n",
      "2023-08-May 23:13:47.014 Saved results for vtotalcapacityannual to database.\n",
      "2023-08-May 23:13:47.019 Saved results for vproductionbytechnologyannual to database.\n",
      "2023-08-May 23:13:47.083 Saved results for vproductionnn to database.\n",
      "2023-08-May 23:13:47.090 Saved results for vusebytechnologyannual to database.\n",
      "2023-08-May 23:13:47.140 Saved results for vusenn to database.\n",
      "2023-08-May 23:13:47.144 Saved results for vtotaldiscountedcost to database.\n",
      "2023-08-May 23:13:47.144 Finished saving results to database.\n",
      "2023-08-May 23:13:47.146 Dropped temporary tables.\n",
      "2023-08-May 23:13:47.146 Finished modeling scenario.\n",
      "  6.803267 seconds (29.26 M allocations: 1.357 GiB, 3.81% gc time)\n"
     ]
    },
    {
     "data": {
      "text/plain": [
       "OPTIMAL::TerminationStatusCode = 1"
      ]
     },
     "execution_count": 111,
     "metadata": {},
     "output_type": "execute_result"
    }
   ],
   "source": [
    "model = Model(Gurobi.Optimizer); #set_silent(model)\n",
    "@time NemoMod.calculatescenario(\n",
    "    fp_sqlite; \n",
    "    calcyears = collect(1000:1010),\n",
    "    jumpmodel = model,\n",
    "    numprocs = 1\n",
    ")\n",
    "\n",
    "\n",
    "\n"
   ]
  },
  {
   "cell_type": "code",
   "execution_count": null,
   "metadata": {},
   "outputs": [],
   "source": []
  },
  {
   "cell_type": "code",
   "execution_count": 100,
   "metadata": {},
   "outputs": [
    {
     "data": {
      "text/plain": [
       "360-element Vector{Float64}:\n",
       " 343.40338999388996\n",
       " 166.260743240093\n",
       " 317.57131828315437\n",
       " 287.0634718536966\n",
       " 348.50913428029935\n",
       " 141.7188064967662\n",
       " 143.84129468389045\n",
       " 145.9714552970422\n",
       " 148.11439856594149\n",
       " 150.26794575662922\n",
       " 152.4300156623278\n",
       " 157.38204483949866\n",
       " 162.3931849352637\n",
       "   ⋮\n",
       " 681.0166325448566\n",
       " 694.930493915321\n",
       " 709.9013470984116\n",
       " 725.2084700921108\n",
       " 740.8552346253726\n",
       " 756.8455968452607\n",
       " 773.1840637666146\n",
       " 790.8844535054608\n",
       " 808.9589037005766\n",
       " 827.4138441791765\n",
       " 846.2561859329517\n",
       " 865.4933320302162"
      ]
     },
     "execution_count": 100,
     "metadata": {},
     "output_type": "execute_result"
    }
   ],
   "source": [
    "dict_tables[\"SpecifiedAnnualDemand\"][:, :val]"
   ]
  },
  {
   "cell_type": "code",
   "execution_count": 85,
   "metadata": {},
   "outputs": [
    {
     "data": {
      "text/plain": [
       "0.9933727066246939"
      ]
     },
     "execution_count": 85,
     "metadata": {},
     "output_type": "execute_result"
    }
   ],
   "source": [
    "df_tmp = DBInterface.execute(db, \"select * from MinShareProduction\") |> DataFrame;\n",
    "sum(filter(x -> ((x[:y] == \"1006\") & (x[:f] == \"fuel_electricity\")), df_tmp)[:, :val])"
   ]
  },
  {
   "cell_type": "code",
   "execution_count": 86,
   "metadata": {},
   "outputs": [
    {
     "data": {
      "text/html": [
       "<div class=\"data-frame\"><p>17 rows × 6 columns</p><table class=\"data-frame\"><thead><tr><th></th><th>id</th><th>r</th><th>t</th><th>f</th><th>y</th><th>val</th></tr><tr><th></th><th title=\"Int64\">Int64</th><th title=\"String\">String</th><th title=\"String\">String</th><th title=\"String\">String</th><th title=\"String\">String</th><th title=\"Float64\">Float64</th></tr></thead><tbody><tr><th>1</th><td>7</td><td>mexico</td><td>pp_coal</td><td>fuel_electricity</td><td>1006</td><td>0.0401529</td></tr><tr><th>2</th><td>43</td><td>mexico</td><td>pp_gas</td><td>fuel_electricity</td><td>1006</td><td>0.588903</td></tr><tr><th>3</th><td>79</td><td>mexico</td><td>pp_geothermal</td><td>fuel_electricity</td><td>1006</td><td>0.0156325</td></tr><tr><th>4</th><td>115</td><td>mexico</td><td>pp_hydropower</td><td>fuel_electricity</td><td>1006</td><td>0.112589</td></tr><tr><th>5</th><td>151</td><td>mexico</td><td>pp_nuclear</td><td>fuel_electricity</td><td>1006</td><td>0.0367622</td></tr><tr><th>6</th><td>187</td><td>mexico</td><td>pp_oil</td><td>fuel_electricity</td><td>1006</td><td>0.150896</td></tr><tr><th>7</th><td>223</td><td>mexico</td><td>pp_solar</td><td>fuel_electricity</td><td>1006</td><td>0.0403472</td></tr><tr><th>8</th><td>259</td><td>mexico</td><td>supply_fuel_coal</td><td>fuel_coal</td><td>1006</td><td>0.389911</td></tr><tr><th>9</th><td>295</td><td>mexico</td><td>supply_fuel_crude</td><td>fuel_crude</td><td>1006</td><td>0.0</td></tr><tr><th>10</th><td>331</td><td>mexico</td><td>supply_fuel_diesel</td><td>fuel_diesel</td><td>1006</td><td>0.273843</td></tr><tr><th>11</th><td>367</td><td>mexico</td><td>supply_fuel_electricity</td><td>fuel_electricity</td><td>1006</td><td>0.00808977</td></tr><tr><th>12</th><td>403</td><td>mexico</td><td>supply_fuel_gasoline</td><td>fuel_gasoline</td><td>1006</td><td>0.284711</td></tr><tr><th>13</th><td>439</td><td>mexico</td><td>supply_fuel_hydrocarbon_gas_liquids</td><td>fuel_hydrocarbon_gas_liquids</td><td>1006</td><td>0.0</td></tr><tr><th>14</th><td>475</td><td>mexico</td><td>supply_fuel_hydrogen</td><td>fuel_hydrogen</td><td>1006</td><td>0.00283688</td></tr><tr><th>15</th><td>511</td><td>mexico</td><td>supply_fuel_kerosene</td><td>fuel_kerosene</td><td>1006</td><td>0.253668</td></tr><tr><th>16</th><td>547</td><td>mexico</td><td>supply_fuel_natural_gas</td><td>fuel_natural_gas</td><td>1006</td><td>0.442348</td></tr><tr><th>17</th><td>583</td><td>mexico</td><td>supply_fuel_oil</td><td>fuel_oil</td><td>1006</td><td>0.00245795</td></tr></tbody></table></div>"
      ],
      "text/latex": [
       "\\begin{tabular}{r|cccccc}\n",
       "\t& id & r & t & f & y & val\\\\\n",
       "\t\\hline\n",
       "\t& Int64 & String & String & String & String & Float64\\\\\n",
       "\t\\hline\n",
       "\t1 & 7 & mexico & pp\\_coal & fuel\\_electricity & 1006 & 0.0401529 \\\\\n",
       "\t2 & 43 & mexico & pp\\_gas & fuel\\_electricity & 1006 & 0.588903 \\\\\n",
       "\t3 & 79 & mexico & pp\\_geothermal & fuel\\_electricity & 1006 & 0.0156325 \\\\\n",
       "\t4 & 115 & mexico & pp\\_hydropower & fuel\\_electricity & 1006 & 0.112589 \\\\\n",
       "\t5 & 151 & mexico & pp\\_nuclear & fuel\\_electricity & 1006 & 0.0367622 \\\\\n",
       "\t6 & 187 & mexico & pp\\_oil & fuel\\_electricity & 1006 & 0.150896 \\\\\n",
       "\t7 & 223 & mexico & pp\\_solar & fuel\\_electricity & 1006 & 0.0403472 \\\\\n",
       "\t8 & 259 & mexico & supply\\_fuel\\_coal & fuel\\_coal & 1006 & 0.389911 \\\\\n",
       "\t9 & 295 & mexico & supply\\_fuel\\_crude & fuel\\_crude & 1006 & 0.0 \\\\\n",
       "\t10 & 331 & mexico & supply\\_fuel\\_diesel & fuel\\_diesel & 1006 & 0.273843 \\\\\n",
       "\t11 & 367 & mexico & supply\\_fuel\\_electricity & fuel\\_electricity & 1006 & 0.00808977 \\\\\n",
       "\t12 & 403 & mexico & supply\\_fuel\\_gasoline & fuel\\_gasoline & 1006 & 0.284711 \\\\\n",
       "\t13 & 439 & mexico & supply\\_fuel\\_hydrocarbon\\_gas\\_liquids & fuel\\_hydrocarbon\\_gas\\_liquids & 1006 & 0.0 \\\\\n",
       "\t14 & 475 & mexico & supply\\_fuel\\_hydrogen & fuel\\_hydrogen & 1006 & 0.00283688 \\\\\n",
       "\t15 & 511 & mexico & supply\\_fuel\\_kerosene & fuel\\_kerosene & 1006 & 0.253668 \\\\\n",
       "\t16 & 547 & mexico & supply\\_fuel\\_natural\\_gas & fuel\\_natural\\_gas & 1006 & 0.442348 \\\\\n",
       "\t17 & 583 & mexico & supply\\_fuel\\_oil & fuel\\_oil & 1006 & 0.00245795 \\\\\n",
       "\\end{tabular}\n"
      ],
      "text/plain": [
       "\u001b[1m17×6 DataFrame\u001b[0m\n",
       "\u001b[1m Row \u001b[0m│\u001b[1m id    \u001b[0m\u001b[1m r      \u001b[0m\u001b[1m t                                 \u001b[0m\u001b[1m f                            \u001b[0m\u001b[1m y      \u001b[0m\u001b[1m val        \u001b[0m\n",
       "\u001b[1m     \u001b[0m│\u001b[90m Int64 \u001b[0m\u001b[90m String \u001b[0m\u001b[90m String                            \u001b[0m\u001b[90m String                       \u001b[0m\u001b[90m String \u001b[0m\u001b[90m Float64    \u001b[0m\n",
       "─────┼────────────────────────────────────────────────────────────────────────────────────────────────────\n",
       "   1 │     7  mexico  pp_coal                            fuel_electricity              1006    0.0401529\n",
       "   2 │    43  mexico  pp_gas                             fuel_electricity              1006    0.588903\n",
       "   3 │    79  mexico  pp_geothermal                      fuel_electricity              1006    0.0156325\n",
       "   4 │   115  mexico  pp_hydropower                      fuel_electricity              1006    0.112589\n",
       "   5 │   151  mexico  pp_nuclear                         fuel_electricity              1006    0.0367622\n",
       "   6 │   187  mexico  pp_oil                             fuel_electricity              1006    0.150896\n",
       "   7 │   223  mexico  pp_solar                           fuel_electricity              1006    0.0403472\n",
       "   8 │   259  mexico  supply_fuel_coal                   fuel_coal                     1006    0.389911\n",
       "   9 │   295  mexico  supply_fuel_crude                  fuel_crude                    1006    0.0\n",
       "  10 │   331  mexico  supply_fuel_diesel                 fuel_diesel                   1006    0.273843\n",
       "  11 │   367  mexico  supply_fuel_electricity            fuel_electricity              1006    0.00808977\n",
       "  12 │   403  mexico  supply_fuel_gasoline               fuel_gasoline                 1006    0.284711\n",
       "  13 │   439  mexico  supply_fuel_hydrocarbon_gas_liqu…  fuel_hydrocarbon_gas_liquids  1006    0.0\n",
       "  14 │   475  mexico  supply_fuel_hydrogen               fuel_hydrogen                 1006    0.00283688\n",
       "  15 │   511  mexico  supply_fuel_kerosene               fuel_kerosene                 1006    0.253668\n",
       "  16 │   547  mexico  supply_fuel_natural_gas            fuel_natural_gas              1006    0.442348\n",
       "  17 │   583  mexico  supply_fuel_oil                    fuel_oil                      1006    0.00245795"
      ]
     },
     "execution_count": 86,
     "metadata": {},
     "output_type": "execute_result"
    }
   ],
   "source": [
    "tab_name = \"MinShareProduction\"\n",
    "#df_tmp = DBInterface.execute(db, \"select * from MinShareProduction\") |> DataFrame;\n",
    "# & (x[:f] in [\"fuel_electricity\"])\n",
    "df = filter(x -> ((x[:y] == \"1006\")), get(dict_tables, tab_name, nothing))\n",
    "#combine(groupby(df[:, [:t, :f, :val]], [:f]), :val => sum)"
   ]
  },
  {
   "cell_type": "code",
   "execution_count": 105,
   "metadata": {},
   "outputs": [
    {
     "name": "stdout",
     "output_type": "stream",
     "text": [
      "CapacityFactor\n",
      "CapitalCost\n",
      "CapitalCostStorage\n",
      "DefaultParams\n",
      "EmissionActivityRatio\n",
      "FixedCost\n",
      "InputActivityRatio\n",
      "LTsGroup\n",
      "MinStorageCharge\n",
      "OperationalLife\n",
      "OperationalLifeStorage\n",
      "OutputActivityRatio\n",
      "RETagTechnology\n",
      "ReserveMargin\n",
      "ReserveMarginTagFuel\n",
      "ReserveMarginTagTechnology\n",
      "ResidualCapacity\n",
      "ResidualStorageCapacity\n",
      "SpecifiedAnnualDemand\n",
      "SpecifiedDemandProfile\n",
      "StorageLevelStart\n",
      "TechnologyFromStorage\n",
      "TechnologyToStorage\n",
      "TotalAnnualMaxCapacity\n",
      "TotalAnnualMaxCapacityInvestment\n",
      "VariableCost\n",
      "Version\n",
      "YearSplit\n",
      "sqlite_sequence\n"
     ]
    }
   ],
   "source": [
    "dict_tables\n"
   ]
  },
  {
   "cell_type": "code",
   "execution_count": 24,
   "metadata": {},
   "outputs": [
    {
     "data": {
      "text/html": [
       "<div class=\"data-frame\"><p>7 rows × 5 columns</p><table class=\"data-frame\"><thead><tr><th></th><th>id</th><th>r</th><th>t</th><th>y</th><th>val</th></tr><tr><th></th><th title=\"Int64\">Int64</th><th title=\"String\">String</th><th title=\"String\">String</th><th title=\"String\">String</th><th title=\"Float64\">Float64</th></tr></thead><tbody><tr><th>1</th><td>6</td><td>brazil</td><td>pp_biogas</td><td>1005</td><td>0.0</td></tr><tr><th>2</th><td>7</td><td>brazil</td><td>pp_biogas</td><td>1006</td><td>0.0</td></tr><tr><th>3</th><td>36</td><td>brazil</td><td>pp_biogas</td><td>1035</td><td>0.0</td></tr><tr><th>4</th><td>62</td><td>brazil</td><td>pp_hydropower</td><td>1035</td><td>1857.23</td></tr><tr><th>5</th><td>68</td><td>brazil</td><td>pp_waste_incineration</td><td>1005</td><td>0.0</td></tr><tr><th>6</th><td>69</td><td>brazil</td><td>pp_waste_incineration</td><td>1006</td><td>0.0</td></tr><tr><th>7</th><td>98</td><td>brazil</td><td>pp_waste_incineration</td><td>1035</td><td>0.0</td></tr></tbody></table></div>"
      ],
      "text/latex": [
       "\\begin{tabular}{r|ccccc}\n",
       "\t& id & r & t & y & val\\\\\n",
       "\t\\hline\n",
       "\t& Int64 & String & String & String & Float64\\\\\n",
       "\t\\hline\n",
       "\t1 & 6 & brazil & pp\\_biogas & 1005 & 0.0 \\\\\n",
       "\t2 & 7 & brazil & pp\\_biogas & 1006 & 0.0 \\\\\n",
       "\t3 & 36 & brazil & pp\\_biogas & 1035 & 0.0 \\\\\n",
       "\t4 & 62 & brazil & pp\\_hydropower & 1035 & 1857.23 \\\\\n",
       "\t5 & 68 & brazil & pp\\_waste\\_incineration & 1005 & 0.0 \\\\\n",
       "\t6 & 69 & brazil & pp\\_waste\\_incineration & 1006 & 0.0 \\\\\n",
       "\t7 & 98 & brazil & pp\\_waste\\_incineration & 1035 & 0.0 \\\\\n",
       "\\end{tabular}\n"
      ],
      "text/plain": [
       "\u001b[1m7×5 DataFrame\u001b[0m\n",
       "\u001b[1m Row \u001b[0m│\u001b[1m id    \u001b[0m\u001b[1m r      \u001b[0m\u001b[1m t                     \u001b[0m\u001b[1m y      \u001b[0m\u001b[1m val     \u001b[0m\n",
       "\u001b[1m     \u001b[0m│\u001b[90m Int64 \u001b[0m\u001b[90m String \u001b[0m\u001b[90m String                \u001b[0m\u001b[90m String \u001b[0m\u001b[90m Float64 \u001b[0m\n",
       "─────┼───────────────────────────────────────────────────────\n",
       "   1 │     6  brazil  pp_biogas              1005       0.0\n",
       "   2 │     7  brazil  pp_biogas              1006       0.0\n",
       "   3 │    36  brazil  pp_biogas              1035       0.0\n",
       "   4 │    62  brazil  pp_hydropower          1035    1857.23\n",
       "   5 │    68  brazil  pp_waste_incineration  1005       0.0\n",
       "   6 │    69  brazil  pp_waste_incineration  1006       0.0\n",
       "   7 │    98  brazil  pp_waste_incineration  1035       0.0"
      ]
     },
     "execution_count": 24,
     "metadata": {},
     "output_type": "execute_result"
    }
   ],
   "source": [
    "df_tmp = DBInterface.execute(db, \"select * from TotalTechnologyAnnualActivityLowerLimit\") |> DataFrame;\n",
    "filter(x -> (x[:y] in [\"1005\", \"1006\", \"1035\"]), df_tmp)"
   ]
  },
  {
   "cell_type": "code",
   "execution_count": 146,
   "metadata": {},
   "outputs": [],
   "source": [
    "tables_check = []\n",
    "for k in 1:length(tabs)\n",
    "    table_name = tabs[k]\n",
    "    \n",
    "    (\n",
    "        (\"y\" in names(dict_tables[table_name])) &\n",
    "        (nrow(dict_tables[table_name]) > 0)\n",
    "    ) ? push!(tables_check, table_name) : nothing\n",
    "end"
   ]
  },
  {
   "cell_type": "code",
   "execution_count": 147,
   "metadata": {},
   "outputs": [
    {
     "data": {
      "text/plain": [
       "19-element Vector{Any}:\n",
       " \"YearSplit\"\n",
       " \"VariableCost\"\n",
       " \"TotalAnnualMaxCapacityInvestmentStorage\"\n",
       " \"SpecifiedDemandProfile\"\n",
       " \"SpecifiedAnnualDemand\"\n",
       " \"ResidualStorageCapacity\"\n",
       " \"ResidualCapacity\"\n",
       " \"ReserveMarginTagTechnology\"\n",
       " \"ReserveMarginTagFuel\"\n",
       " \"ReserveMargin\"\n",
       " \"RETagTechnology\"\n",
       " \"OutputActivityRatio\"\n",
       " \"MinStorageCharge\"\n",
       " \"InputActivityRatio\"\n",
       " \"FixedCost\"\n",
       " \"EmissionActivityRatio\"\n",
       " \"CapitalCostStorage\"\n",
       " \"CapitalCost\"\n",
       " \"CapacityFactor\""
      ]
     },
     "execution_count": 147,
     "metadata": {},
     "output_type": "execute_result"
    }
   ],
   "source": [
    "tables_check"
   ]
  },
  {
   "cell_type": "code",
   "execution_count": 186,
   "metadata": {},
   "outputs": [
    {
     "data": {
      "text/html": [
       "<div class=\"data-frame\"><p>36 rows × 5 columns</p><table class=\"data-frame\"><thead><tr><th></th><th>id</th><th>r</th><th>f</th><th>y</th><th>val</th></tr><tr><th></th><th title=\"Int64\">Int64</th><th title=\"String\">String</th><th title=\"String\">String</th><th title=\"String\">String</th><th title=\"Float64\">Float64</th></tr></thead><tbody><tr><th>1</th><td>1</td><td>brazil</td><td>fuel_electricity</td><td>1000</td><td>0.0</td></tr><tr><th>2</th><td>2</td><td>brazil</td><td>fuel_electricity</td><td>1001</td><td>0.0</td></tr><tr><th>3</th><td>3</td><td>brazil</td><td>fuel_electricity</td><td>1002</td><td>0.0</td></tr><tr><th>4</th><td>4</td><td>brazil</td><td>fuel_electricity</td><td>1003</td><td>0.0</td></tr><tr><th>5</th><td>5</td><td>brazil</td><td>fuel_electricity</td><td>1004</td><td>0.0</td></tr><tr><th>6</th><td>6</td><td>brazil</td><td>fuel_electricity</td><td>1005</td><td>0.0</td></tr><tr><th>7</th><td>7</td><td>brazil</td><td>fuel_electricity</td><td>1006</td><td>0.0</td></tr><tr><th>8</th><td>8</td><td>brazil</td><td>fuel_electricity</td><td>1007</td><td>0.0</td></tr><tr><th>9</th><td>9</td><td>brazil</td><td>fuel_electricity</td><td>1008</td><td>0.0</td></tr><tr><th>10</th><td>10</td><td>brazil</td><td>fuel_electricity</td><td>1009</td><td>0.0</td></tr><tr><th>11</th><td>11</td><td>brazil</td><td>fuel_electricity</td><td>1010</td><td>0.0</td></tr><tr><th>12</th><td>12</td><td>brazil</td><td>fuel_electricity</td><td>1011</td><td>0.0350543</td></tr><tr><th>13</th><td>13</td><td>brazil</td><td>fuel_electricity</td><td>1012</td><td>0.0701086</td></tr><tr><th>14</th><td>14</td><td>brazil</td><td>fuel_electricity</td><td>1013</td><td>0.105163</td></tr><tr><th>15</th><td>15</td><td>brazil</td><td>fuel_electricity</td><td>1014</td><td>0.140217</td></tr><tr><th>16</th><td>16</td><td>brazil</td><td>fuel_electricity</td><td>1015</td><td>0.175272</td></tr><tr><th>17</th><td>17</td><td>brazil</td><td>fuel_electricity</td><td>1016</td><td>0.210326</td></tr><tr><th>18</th><td>18</td><td>brazil</td><td>fuel_electricity</td><td>1017</td><td>0.24538</td></tr><tr><th>19</th><td>19</td><td>brazil</td><td>fuel_electricity</td><td>1018</td><td>0.280434</td></tr><tr><th>20</th><td>20</td><td>brazil</td><td>fuel_electricity</td><td>1019</td><td>0.315489</td></tr><tr><th>21</th><td>21</td><td>brazil</td><td>fuel_electricity</td><td>1020</td><td>0.350543</td></tr><tr><th>22</th><td>22</td><td>brazil</td><td>fuel_electricity</td><td>1021</td><td>0.385597</td></tr><tr><th>23</th><td>23</td><td>brazil</td><td>fuel_electricity</td><td>1022</td><td>0.420652</td></tr><tr><th>24</th><td>24</td><td>brazil</td><td>fuel_electricity</td><td>1023</td><td>0.455706</td></tr><tr><th>25</th><td>25</td><td>brazil</td><td>fuel_electricity</td><td>1024</td><td>0.49076</td></tr><tr><th>26</th><td>26</td><td>brazil</td><td>fuel_electricity</td><td>1025</td><td>0.525815</td></tr><tr><th>27</th><td>27</td><td>brazil</td><td>fuel_electricity</td><td>1026</td><td>0.560869</td></tr><tr><th>28</th><td>28</td><td>brazil</td><td>fuel_electricity</td><td>1027</td><td>0.595923</td></tr><tr><th>29</th><td>29</td><td>brazil</td><td>fuel_electricity</td><td>1028</td><td>0.630978</td></tr><tr><th>30</th><td>30</td><td>brazil</td><td>fuel_electricity</td><td>1029</td><td>0.666032</td></tr><tr><th>&vellip;</th><td>&vellip;</td><td>&vellip;</td><td>&vellip;</td><td>&vellip;</td><td>&vellip;</td></tr></tbody></table></div>"
      ],
      "text/latex": [
       "\\begin{tabular}{r|ccccc}\n",
       "\t& id & r & f & y & val\\\\\n",
       "\t\\hline\n",
       "\t& Int64 & String & String & String & Float64\\\\\n",
       "\t\\hline\n",
       "\t1 & 1 & brazil & fuel\\_electricity & 1000 & 0.0 \\\\\n",
       "\t2 & 2 & brazil & fuel\\_electricity & 1001 & 0.0 \\\\\n",
       "\t3 & 3 & brazil & fuel\\_electricity & 1002 & 0.0 \\\\\n",
       "\t4 & 4 & brazil & fuel\\_electricity & 1003 & 0.0 \\\\\n",
       "\t5 & 5 & brazil & fuel\\_electricity & 1004 & 0.0 \\\\\n",
       "\t6 & 6 & brazil & fuel\\_electricity & 1005 & 0.0 \\\\\n",
       "\t7 & 7 & brazil & fuel\\_electricity & 1006 & 0.0 \\\\\n",
       "\t8 & 8 & brazil & fuel\\_electricity & 1007 & 0.0 \\\\\n",
       "\t9 & 9 & brazil & fuel\\_electricity & 1008 & 0.0 \\\\\n",
       "\t10 & 10 & brazil & fuel\\_electricity & 1009 & 0.0 \\\\\n",
       "\t11 & 11 & brazil & fuel\\_electricity & 1010 & 0.0 \\\\\n",
       "\t12 & 12 & brazil & fuel\\_electricity & 1011 & 0.0350543 \\\\\n",
       "\t13 & 13 & brazil & fuel\\_electricity & 1012 & 0.0701086 \\\\\n",
       "\t14 & 14 & brazil & fuel\\_electricity & 1013 & 0.105163 \\\\\n",
       "\t15 & 15 & brazil & fuel\\_electricity & 1014 & 0.140217 \\\\\n",
       "\t16 & 16 & brazil & fuel\\_electricity & 1015 & 0.175272 \\\\\n",
       "\t17 & 17 & brazil & fuel\\_electricity & 1016 & 0.210326 \\\\\n",
       "\t18 & 18 & brazil & fuel\\_electricity & 1017 & 0.24538 \\\\\n",
       "\t19 & 19 & brazil & fuel\\_electricity & 1018 & 0.280434 \\\\\n",
       "\t20 & 20 & brazil & fuel\\_electricity & 1019 & 0.315489 \\\\\n",
       "\t21 & 21 & brazil & fuel\\_electricity & 1020 & 0.350543 \\\\\n",
       "\t22 & 22 & brazil & fuel\\_electricity & 1021 & 0.385597 \\\\\n",
       "\t23 & 23 & brazil & fuel\\_electricity & 1022 & 0.420652 \\\\\n",
       "\t24 & 24 & brazil & fuel\\_electricity & 1023 & 0.455706 \\\\\n",
       "\t25 & 25 & brazil & fuel\\_electricity & 1024 & 0.49076 \\\\\n",
       "\t26 & 26 & brazil & fuel\\_electricity & 1025 & 0.525815 \\\\\n",
       "\t27 & 27 & brazil & fuel\\_electricity & 1026 & 0.560869 \\\\\n",
       "\t28 & 28 & brazil & fuel\\_electricity & 1027 & 0.595923 \\\\\n",
       "\t29 & 29 & brazil & fuel\\_electricity & 1028 & 0.630978 \\\\\n",
       "\t30 & 30 & brazil & fuel\\_electricity & 1029 & 0.666032 \\\\\n",
       "\t$\\dots$ & $\\dots$ & $\\dots$ & $\\dots$ & $\\dots$ & $\\dots$ \\\\\n",
       "\\end{tabular}\n"
      ],
      "text/plain": [
       "\u001b[1m36×5 DataFrame\u001b[0m\n",
       "\u001b[1m Row \u001b[0m│\u001b[1m id    \u001b[0m\u001b[1m r      \u001b[0m\u001b[1m f                \u001b[0m\u001b[1m y      \u001b[0m\u001b[1m val       \u001b[0m\n",
       "\u001b[1m     \u001b[0m│\u001b[90m Int64 \u001b[0m\u001b[90m String \u001b[0m\u001b[90m String           \u001b[0m\u001b[90m String \u001b[0m\u001b[90m Float64   \u001b[0m\n",
       "─────┼────────────────────────────────────────────────────\n",
       "   1 │     1  brazil  fuel_electricity  1000    0.0\n",
       "   2 │     2  brazil  fuel_electricity  1001    0.0\n",
       "   3 │     3  brazil  fuel_electricity  1002    0.0\n",
       "   4 │     4  brazil  fuel_electricity  1003    0.0\n",
       "   5 │     5  brazil  fuel_electricity  1004    0.0\n",
       "   6 │     6  brazil  fuel_electricity  1005    0.0\n",
       "   7 │     7  brazil  fuel_electricity  1006    0.0\n",
       "   8 │     8  brazil  fuel_electricity  1007    0.0\n",
       "   9 │     9  brazil  fuel_electricity  1008    0.0\n",
       "  10 │    10  brazil  fuel_electricity  1009    0.0\n",
       "  11 │    11  brazil  fuel_electricity  1010    0.0\n",
       "  ⋮  │   ⋮      ⋮            ⋮            ⋮         ⋮\n",
       "  27 │    27  brazil  fuel_electricity  1026    0.560869\n",
       "  28 │    28  brazil  fuel_electricity  1027    0.595923\n",
       "  29 │    29  brazil  fuel_electricity  1028    0.630978\n",
       "  30 │    30  brazil  fuel_electricity  1029    0.666032\n",
       "  31 │    31  brazil  fuel_electricity  1030    0.701086\n",
       "  32 │    32  brazil  fuel_electricity  1031    0.73614\n",
       "  33 │    33  brazil  fuel_electricity  1032    0.771195\n",
       "  34 │    34  brazil  fuel_electricity  1033    0.806249\n",
       "  35 │    35  brazil  fuel_electricity  1034    0.841303\n",
       "  36 │    36  brazil  fuel_electricity  1035    0.876358\n",
       "\u001b[36m                                           15 rows omitted\u001b[0m"
      ]
     },
     "execution_count": 186,
     "metadata": {},
     "output_type": "execute_result"
    }
   ],
   "source": [
    "df = get(dict_tables, \"REMinProductionTarget\", nothing)\n",
    "df\n",
    "#filter(x -> (x[:y] == \"1034\"), df)\n",
    "\n",
    "\n"
   ]
  },
  {
   "cell_type": "code",
   "execution_count": 95,
   "metadata": {},
   "outputs": [
    {
     "data": {
      "text/html": [
       "<div class=\"data-frame\"><p>60 rows × 7 columns</p><table class=\"data-frame\"><thead><tr><th></th><th>id</th><th>r</th><th>t</th><th>f</th><th>m</th><th>y</th><th>val</th></tr><tr><th></th><th title=\"Int64\">Int64</th><th title=\"String\">String</th><th title=\"String\">String</th><th title=\"String\">String</th><th title=\"String\">String</th><th title=\"String\">String</th><th title=\"Float64\">Float64</th></tr></thead><tbody><tr><th>1</th><td>36</td><td>brazil</td><td>fp_hydrogen_electrolysis</td><td>fuel_electricity</td><td>generate</td><td>1035</td><td>1.56127</td></tr><tr><th>2</th><td>72</td><td>brazil</td><td>fp_hydrogen_gasification</td><td>fuel_coal</td><td>generate</td><td>1035</td><td>1.967</td></tr><tr><th>3</th><td>108</td><td>brazil</td><td>fp_hydrogen_reformation</td><td>fuel_natural_gas</td><td>generate</td><td>1035</td><td>1.315</td></tr><tr><th>4</th><td>144</td><td>brazil</td><td>fp_natural_gas</td><td>fuel_electricity</td><td>generate</td><td>1035</td><td>0.0106328</td></tr><tr><th>5</th><td>180</td><td>brazil</td><td>fp_natural_gas</td><td>fuel_natural_gas_unprocessed</td><td>generate</td><td>1035</td><td>1.0</td></tr><tr><th>6</th><td>216</td><td>brazil</td><td>fp_petroleum_refinement</td><td>fuel_crude</td><td>generate</td><td>1035</td><td>1.08696</td></tr><tr><th>7</th><td>252</td><td>brazil</td><td>me_coal</td><td>fuel_coal_deposits</td><td>generate</td><td>1035</td><td>1.0023</td></tr><tr><th>8</th><td>288</td><td>brazil</td><td>me_coal</td><td>fuel_diesel</td><td>generate</td><td>1035</td><td>0.00782609</td></tr><tr><th>9</th><td>324</td><td>brazil</td><td>me_coal</td><td>fuel_electricity</td><td>generate</td><td>1035</td><td>0.00882271</td></tr><tr><th>10</th><td>360</td><td>brazil</td><td>me_coal</td><td>fuel_gasoline</td><td>generate</td><td>1035</td><td>0.000460358</td></tr><tr><th>11</th><td>396</td><td>brazil</td><td>me_coal</td><td>fuel_natural_gas</td><td>generate</td><td>1035</td><td>0.00506394</td></tr><tr><th>12</th><td>432</td><td>brazil</td><td>me_crude</td><td>fuel_diesel</td><td>generate</td><td>1035</td><td>0.0376344</td></tr><tr><th>13</th><td>468</td><td>brazil</td><td>me_crude</td><td>fuel_electricity</td><td>generate</td><td>1035</td><td>0.042427</td></tr><tr><th>14</th><td>504</td><td>brazil</td><td>me_crude</td><td>fuel_gasoline</td><td>generate</td><td>1035</td><td>0.00221379</td></tr><tr><th>15</th><td>540</td><td>brazil</td><td>me_natural_gas</td><td>fuel_diesel</td><td>generate</td><td>1035</td><td>0.0405405</td></tr><tr><th>16</th><td>576</td><td>brazil</td><td>me_natural_gas</td><td>fuel_electricity</td><td>generate</td><td>1035</td><td>0.0457032</td></tr><tr><th>17</th><td>612</td><td>brazil</td><td>me_natural_gas</td><td>fuel_gasoline</td><td>generate</td><td>1035</td><td>0.00238474</td></tr><tr><th>18</th><td>648</td><td>brazil</td><td>pp_biogas</td><td>fuel_biogas</td><td>generate</td><td>1035</td><td>2.98507</td></tr><tr><th>19</th><td>684</td><td>brazil</td><td>pp_biomass</td><td>fuel_biomass</td><td>generate</td><td>1035</td><td>2.5</td></tr><tr><th>20</th><td>720</td><td>brazil</td><td>pp_coal</td><td>fuel_coal</td><td>generate</td><td>1035</td><td>2.22222</td></tr><tr><th>21</th><td>756</td><td>brazil</td><td>pp_coal_ccs</td><td>fuel_coal</td><td>generate</td><td>1035</td><td>2.22222</td></tr><tr><th>22</th><td>792</td><td>brazil</td><td>pp_gas</td><td>fuel_natural_gas</td><td>generate</td><td>1035</td><td>2.5</td></tr><tr><th>23</th><td>828</td><td>brazil</td><td>pp_gas_ccs</td><td>fuel_natural_gas</td><td>generate</td><td>1035</td><td>2.5</td></tr><tr><th>24</th><td>864</td><td>brazil</td><td>pp_geothermal</td><td>fuel_geothermal</td><td>generate</td><td>1035</td><td>1.0</td></tr><tr><th>25</th><td>900</td><td>brazil</td><td>pp_hydropower</td><td>fuel_hydropower</td><td>generate</td><td>1035</td><td>1.0</td></tr><tr><th>26</th><td>936</td><td>brazil</td><td>pp_nuclear</td><td>fuel_nuclear</td><td>generate</td><td>1035</td><td>370.37</td></tr><tr><th>27</th><td>972</td><td>brazil</td><td>pp_ocean</td><td>fuel_ocean</td><td>generate</td><td>1035</td><td>1.0</td></tr><tr><th>28</th><td>1008</td><td>brazil</td><td>pp_oil</td><td>fuel_oil</td><td>generate</td><td>1035</td><td>2.5</td></tr><tr><th>29</th><td>1044</td><td>brazil</td><td>pp_solar</td><td>fuel_solar</td><td>generate</td><td>1035</td><td>1.0</td></tr><tr><th>30</th><td>1080</td><td>brazil</td><td>pp_waste_incineration</td><td>fuel_waste</td><td>generate</td><td>1035</td><td>2.5</td></tr><tr><th>&vellip;</th><td>&vellip;</td><td>&vellip;</td><td>&vellip;</td><td>&vellip;</td><td>&vellip;</td><td>&vellip;</td><td>&vellip;</td></tr></tbody></table></div>"
      ],
      "text/latex": [
       "\\begin{tabular}{r|ccccccc}\n",
       "\t& id & r & t & f & m & y & val\\\\\n",
       "\t\\hline\n",
       "\t& Int64 & String & String & String & String & String & Float64\\\\\n",
       "\t\\hline\n",
       "\t1 & 36 & brazil & fp\\_hydrogen\\_electrolysis & fuel\\_electricity & generate & 1035 & 1.56127 \\\\\n",
       "\t2 & 72 & brazil & fp\\_hydrogen\\_gasification & fuel\\_coal & generate & 1035 & 1.967 \\\\\n",
       "\t3 & 108 & brazil & fp\\_hydrogen\\_reformation & fuel\\_natural\\_gas & generate & 1035 & 1.315 \\\\\n",
       "\t4 & 144 & brazil & fp\\_natural\\_gas & fuel\\_electricity & generate & 1035 & 0.0106328 \\\\\n",
       "\t5 & 180 & brazil & fp\\_natural\\_gas & fuel\\_natural\\_gas\\_unprocessed & generate & 1035 & 1.0 \\\\\n",
       "\t6 & 216 & brazil & fp\\_petroleum\\_refinement & fuel\\_crude & generate & 1035 & 1.08696 \\\\\n",
       "\t7 & 252 & brazil & me\\_coal & fuel\\_coal\\_deposits & generate & 1035 & 1.0023 \\\\\n",
       "\t8 & 288 & brazil & me\\_coal & fuel\\_diesel & generate & 1035 & 0.00782609 \\\\\n",
       "\t9 & 324 & brazil & me\\_coal & fuel\\_electricity & generate & 1035 & 0.00882271 \\\\\n",
       "\t10 & 360 & brazil & me\\_coal & fuel\\_gasoline & generate & 1035 & 0.000460358 \\\\\n",
       "\t11 & 396 & brazil & me\\_coal & fuel\\_natural\\_gas & generate & 1035 & 0.00506394 \\\\\n",
       "\t12 & 432 & brazil & me\\_crude & fuel\\_diesel & generate & 1035 & 0.0376344 \\\\\n",
       "\t13 & 468 & brazil & me\\_crude & fuel\\_electricity & generate & 1035 & 0.042427 \\\\\n",
       "\t14 & 504 & brazil & me\\_crude & fuel\\_gasoline & generate & 1035 & 0.00221379 \\\\\n",
       "\t15 & 540 & brazil & me\\_natural\\_gas & fuel\\_diesel & generate & 1035 & 0.0405405 \\\\\n",
       "\t16 & 576 & brazil & me\\_natural\\_gas & fuel\\_electricity & generate & 1035 & 0.0457032 \\\\\n",
       "\t17 & 612 & brazil & me\\_natural\\_gas & fuel\\_gasoline & generate & 1035 & 0.00238474 \\\\\n",
       "\t18 & 648 & brazil & pp\\_biogas & fuel\\_biogas & generate & 1035 & 2.98507 \\\\\n",
       "\t19 & 684 & brazil & pp\\_biomass & fuel\\_biomass & generate & 1035 & 2.5 \\\\\n",
       "\t20 & 720 & brazil & pp\\_coal & fuel\\_coal & generate & 1035 & 2.22222 \\\\\n",
       "\t21 & 756 & brazil & pp\\_coal\\_ccs & fuel\\_coal & generate & 1035 & 2.22222 \\\\\n",
       "\t22 & 792 & brazil & pp\\_gas & fuel\\_natural\\_gas & generate & 1035 & 2.5 \\\\\n",
       "\t23 & 828 & brazil & pp\\_gas\\_ccs & fuel\\_natural\\_gas & generate & 1035 & 2.5 \\\\\n",
       "\t24 & 864 & brazil & pp\\_geothermal & fuel\\_geothermal & generate & 1035 & 1.0 \\\\\n",
       "\t25 & 900 & brazil & pp\\_hydropower & fuel\\_hydropower & generate & 1035 & 1.0 \\\\\n",
       "\t26 & 936 & brazil & pp\\_nuclear & fuel\\_nuclear & generate & 1035 & 370.37 \\\\\n",
       "\t27 & 972 & brazil & pp\\_ocean & fuel\\_ocean & generate & 1035 & 1.0 \\\\\n",
       "\t28 & 1008 & brazil & pp\\_oil & fuel\\_oil & generate & 1035 & 2.5 \\\\\n",
       "\t29 & 1044 & brazil & pp\\_solar & fuel\\_solar & generate & 1035 & 1.0 \\\\\n",
       "\t30 & 1080 & brazil & pp\\_waste\\_incineration & fuel\\_waste & generate & 1035 & 2.5 \\\\\n",
       "\t$\\dots$ & $\\dots$ & $\\dots$ & $\\dots$ & $\\dots$ & $\\dots$ & $\\dots$ & $\\dots$ \\\\\n",
       "\\end{tabular}\n"
      ],
      "text/plain": [
       "\u001b[1m60×7 DataFrame\u001b[0m\n",
       "\u001b[1m Row \u001b[0m│\u001b[1m id    \u001b[0m\u001b[1m r      \u001b[0m\u001b[1m t                                 \u001b[0m\u001b[1m f                            \u001b[0m\u001b[1m m        \u001b[0m\u001b[1m y      \u001b[0m\u001b[1m val         \u001b[0m\n",
       "\u001b[1m     \u001b[0m│\u001b[90m Int64 \u001b[0m\u001b[90m String \u001b[0m\u001b[90m String                            \u001b[0m\u001b[90m String                       \u001b[0m\u001b[90m String   \u001b[0m\u001b[90m String \u001b[0m\u001b[90m Float64     \u001b[0m\n",
       "─────┼───────────────────────────────────────────────────────────────────────────────────────────────────────────────\n",
       "   1 │    36  brazil  fp_hydrogen_electrolysis           fuel_electricity              generate  1035    1.56127\n",
       "   2 │    72  brazil  fp_hydrogen_gasification           fuel_coal                     generate  1035    1.967\n",
       "   3 │   108  brazil  fp_hydrogen_reformation            fuel_natural_gas              generate  1035    1.315\n",
       "   4 │   144  brazil  fp_natural_gas                     fuel_electricity              generate  1035    0.0106328\n",
       "   5 │   180  brazil  fp_natural_gas                     fuel_natural_gas_unprocessed  generate  1035    1.0\n",
       "   6 │   216  brazil  fp_petroleum_refinement            fuel_crude                    generate  1035    1.08696\n",
       "   7 │   252  brazil  me_coal                            fuel_coal_deposits            generate  1035    1.0023\n",
       "   8 │   288  brazil  me_coal                            fuel_diesel                   generate  1035    0.00782609\n",
       "   9 │   324  brazil  me_coal                            fuel_electricity              generate  1035    0.00882271\n",
       "  10 │   360  brazil  me_coal                            fuel_gasoline                 generate  1035    0.000460358\n",
       "  11 │   396  brazil  me_coal                            fuel_natural_gas              generate  1035    0.00506394\n",
       "  ⋮  │   ⋮      ⋮                     ⋮                               ⋮                   ⋮        ⋮          ⋮\n",
       "  51 │  1836  brazil  supply_fuel_kerosene               fuel_QUANTITY_PRODUCED        generate  1035    1.0\n",
       "  52 │  1872  brazil  supply_fuel_natural_gas            fuel_QUANTITY_PRODUCED        generate  1035    1.0\n",
       "  53 │  1908  brazil  supply_fuel_natural_gas_unproces…  fuel_QUANTITY_PRODUCED        generate  1035    1.0\n",
       "  54 │  1944  brazil  supply_fuel_nuclear                fuel_QUANTITY_PRODUCED        generate  1035    1.0\n",
       "  55 │  1980  brazil  supply_fuel_ocean                  fuel_QUANTITY_PRODUCED        generate  1035    1.0\n",
       "  56 │  2016  brazil  supply_fuel_oil                    fuel_QUANTITY_PRODUCED        generate  1035    1.0\n",
       "  57 │  2052  brazil  supply_fuel_other                  fuel_QUANTITY_PRODUCED        generate  1035    1.0\n",
       "  58 │  2088  brazil  supply_fuel_solar                  fuel_QUANTITY_PRODUCED        generate  1035    1.0\n",
       "  59 │  2124  brazil  supply_fuel_waste                  fuel_QUANTITY_PRODUCED        generate  1035    1.0\n",
       "  60 │  2160  brazil  supply_fuel_wind                   fuel_QUANTITY_PRODUCED        generate  1035    1.0\n",
       "\u001b[36m                                                                                                      39 rows omitted\u001b[0m"
      ]
     },
     "execution_count": 97,
     "metadata": {},
     "output_type": "execute_result"
    }
   ],
   "source": [
    "df = get(dict_tables, \"SpecifiedAnnualDemand\", nothing)\n",
    "filter(x -> (x[:y] == \"1035\"), df)\n",
    "\n",
    "\n"
   ]
  },
  {
   "cell_type": "code",
   "execution_count": 68,
   "metadata": {
    "tags": []
   },
   "outputs": [
    {
     "name": "stdout",
     "output_type": "stream",
     "text": [
      "AccumulatedAnnualDemand\n",
      "AnnualEmissionLimit\n",
      "AnnualExogenousEmission\n",
      "AvailabilityFactor\n",
      "CapacityFactor\n",
      "CapacityOfOneTechnologyUnit\n",
      "CapacityToActivityUnit\n",
      "CapitalCost\n",
      "CapitalCostStorage\n",
      "DefaultParams\n",
      "DepreciationMethod\n",
      "DiscountRate\n",
      "EMISSION\n",
      "EmissionActivityRatio\n",
      "EmissionsPenalty\n",
      "FUEL\n",
      "FixedCost\n",
      "InputActivityRatio\n",
      "InterestRateStorage\n",
      "InterestRateTechnology\n",
      "LTsGroup\n",
      "MODE_OF_OPERATION\n",
      "MinShareProduction\n",
      "MinStorageCharge\n",
      "MinimumUtilization\n",
      "ModelPeriodEmissionLimit\n",
      "ModelPeriodExogenousEmission\n",
      "NODE\n",
      "NodalDistributionDemand\n",
      "NodalDistributionStorageCapacity\n",
      "NodalDistributionTechnologyCapacity\n",
      "OperationalLife\n",
      "OperationalLifeStorage\n",
      "OutputActivityRatio\n",
      "REGION\n",
      "REMinProductionTarget\n",
      "RETagTechnology\n",
      "RampRate\n",
      "RampingReset\n",
      "ReserveMargin\n",
      "ReserveMarginTagFuel\n",
      "ReserveMarginTagTechnology\n",
      "ResidualCapacity\n",
      "ResidualStorageCapacity\n",
      "STORAGE\n",
      "SpecifiedAnnualDemand\n",
      "SpecifiedDemandProfile\n",
      "StorageFullLoadHours\n",
      "StorageLevelStart\n",
      "StorageMaxChargeRate\n",
      "StorageMaxDischargeRate\n",
      "TECHNOLOGY\n",
      "TIMESLICE\n",
      "TSGROUP1\n",
      "TSGROUP2\n",
      "TechnologyFromStorage\n",
      "TechnologyToStorage\n",
      "TotalAnnualMaxCapacity\n",
      "TotalAnnualMaxCapacityInvestment\n",
      "TotalAnnualMaxCapacityInvestmentStorage\n",
      "TotalAnnualMaxCapacityStorage\n",
      "TotalAnnualMinCapacity\n",
      "TotalAnnualMinCapacityInvestment\n",
      "TotalAnnualMinCapacityInvestmentStorage\n",
      "TotalAnnualMinCapacityStorage\n",
      "TotalTechnologyAnnualActivityLowerLimit\n",
      "TotalTechnologyAnnualActivityUpperLimit\n",
      "TotalTechnologyModelPeriodActivityLowerLimit\n",
      "TotalTechnologyModelPeriodActivityUpperLimit\n",
      "TradeRoute\n",
      "TransmissionCapacityToActivityUnit\n",
      "TransmissionLine\n",
      "TransmissionModelingEnabled\n",
      "VariableCost\n",
      "Version\n",
      "YEAR\n",
      "YearSplit\n",
      "sqlite_sequence\n"
     ]
    }
   ],
   "source": [
    "println.(sort(collect(keys(dict_tables))));"
   ]
  },
  {
   "cell_type": "code",
   "execution_count": null,
   "metadata": {},
   "outputs": [],
   "source": []
  },
  {
   "cell_type": "code",
   "execution_count": 44,
   "metadata": {},
   "outputs": [
    {
     "data": {
      "text/plain": [
       "\"TotalAnnualMaxCapacityInvestment\""
      ]
     },
     "execution_count": 44,
     "metadata": {},
     "output_type": "execute_result"
    }
   ],
   "source": [
    "#df_max_investment = get(dict_tables, \"TotalAnnualMaxCapacityInvestment\", nothing)\n",
    "yrs_keep = [string(x) for x in 1000:1034]\n",
    "filter!(x -> ((x[:y] in yrs_keep) | (x[:t] == \"pp_biomass\")), df_max_investment)\n",
    "SQLite.load!(df_max_investment, db, \"TotalAnnualMaxCapacityInvestment\"; replace = true)"
   ]
  },
  {
   "cell_type": "code",
   "execution_count": 70,
   "metadata": {},
   "outputs": [
    {
     "data": {
      "text/plain": [
       "\"TotalAnnualMinCapacity\""
      ]
     },
     "execution_count": 70,
     "metadata": {},
     "output_type": "execute_result"
    }
   ],
   "source": [
    "SQLite.load!(df_max_investment, db, \"TotalAnnualMaxCapacityInvestment\"; replace = true)\n",
    "\n"
   ]
  },
  {
   "cell_type": "code",
   "execution_count": 77,
   "metadata": {},
   "outputs": [
    {
     "data": {
      "text/html": [
       "<div class=\"data-frame\"><p>4 rows × 7 columns</p><table class=\"data-frame\"><thead><tr><th></th><th>id</th><th>r</th><th>t</th><th>f</th><th>m</th><th>y</th><th>val</th></tr><tr><th></th><th title=\"Int64\">Int64</th><th title=\"String\">String</th><th title=\"String\">String</th><th title=\"String\">String</th><th title=\"String\">String</th><th title=\"String\">String</th><th title=\"Float64\">Float64</th></tr></thead><tbody><tr><th>1</th><td>36</td><td>brazil</td><td>fp_hydrogen_electrolysis</td><td>fuel_hydrogen</td><td>generate</td><td>1035</td><td>1.0</td></tr><tr><th>2</th><td>72</td><td>brazil</td><td>fp_hydrogen_gasification</td><td>fuel_hydrogen</td><td>generate</td><td>1035</td><td>1.0</td></tr><tr><th>3</th><td>108</td><td>brazil</td><td>fp_hydrogen_reformation</td><td>fuel_hydrogen</td><td>generate</td><td>1035</td><td>1.0</td></tr><tr><th>4</th><td>1656</td><td>brazil</td><td>supply_fuel_hydrogen</td><td>fuel_hydrogen</td><td>generate</td><td>1035</td><td>1.0</td></tr></tbody></table></div>"
      ],
      "text/latex": [
       "\\begin{tabular}{r|ccccccc}\n",
       "\t& id & r & t & f & m & y & val\\\\\n",
       "\t\\hline\n",
       "\t& Int64 & String & String & String & String & String & Float64\\\\\n",
       "\t\\hline\n",
       "\t1 & 36 & brazil & fp\\_hydrogen\\_electrolysis & fuel\\_hydrogen & generate & 1035 & 1.0 \\\\\n",
       "\t2 & 72 & brazil & fp\\_hydrogen\\_gasification & fuel\\_hydrogen & generate & 1035 & 1.0 \\\\\n",
       "\t3 & 108 & brazil & fp\\_hydrogen\\_reformation & fuel\\_hydrogen & generate & 1035 & 1.0 \\\\\n",
       "\t4 & 1656 & brazil & supply\\_fuel\\_hydrogen & fuel\\_hydrogen & generate & 1035 & 1.0 \\\\\n",
       "\\end{tabular}\n"
      ],
      "text/plain": [
       "\u001b[1m4×7 DataFrame\u001b[0m\n",
       "\u001b[1m Row \u001b[0m│\u001b[1m id    \u001b[0m\u001b[1m r      \u001b[0m\u001b[1m t                        \u001b[0m\u001b[1m f             \u001b[0m\u001b[1m m        \u001b[0m\u001b[1m y      \u001b[0m\u001b[1m val     \u001b[0m\n",
       "\u001b[1m     \u001b[0m│\u001b[90m Int64 \u001b[0m\u001b[90m String \u001b[0m\u001b[90m String                   \u001b[0m\u001b[90m String        \u001b[0m\u001b[90m String   \u001b[0m\u001b[90m String \u001b[0m\u001b[90m Float64 \u001b[0m\n",
       "─────┼───────────────────────────────────────────────────────────────────────────────────\n",
       "   1 │    36  brazil  fp_hydrogen_electrolysis  fuel_hydrogen  generate  1035        1.0\n",
       "   2 │    72  brazil  fp_hydrogen_gasification  fuel_hydrogen  generate  1035        1.0\n",
       "   3 │   108  brazil  fp_hydrogen_reformation   fuel_hydrogen  generate  1035        1.0\n",
       "   4 │  1656  brazil  supply_fuel_hydrogen      fuel_hydrogen  generate  1035        1.0"
      ]
     },
     "execution_count": 77,
     "metadata": {},
     "output_type": "execute_result"
    }
   ],
   "source": [
    "df_view = get(dict_tables, \"OutputActivityRatio\", nothing)\n",
    "\n",
    "filter(x -> ((x[:y] == \"1035\") & (x[:f] == \"fuel_hydrogen\")), df_view)"
   ]
  },
  {
   "cell_type": "code",
   "execution_count": 10,
   "metadata": {},
   "outputs": [
    {
     "data": {
      "text/html": [
       "<div class=\"data-frame\"><p>19 rows × 6 columns</p><table class=\"data-frame\"><thead><tr><th></th><th>id</th><th>r</th><th>t</th><th>f</th><th>y</th><th>val</th></tr><tr><th></th><th title=\"Int64\">Int64</th><th title=\"String\">String</th><th title=\"String\">String</th><th title=\"String\">String</th><th title=\"String\">String</th><th title=\"Float64\">Float64</th></tr></thead><tbody><tr><th>1</th><td>35</td><td>brazil</td><td>fp_hydrogen_electrolysis</td><td>fuel_hydrogen</td><td>1034</td><td>0.889205</td></tr><tr><th>2</th><td>71</td><td>brazil</td><td>pp_coal</td><td>fuel_electricity</td><td>1034</td><td>0.0</td></tr><tr><th>3</th><td>107</td><td>brazil</td><td>pp_gas</td><td>fuel_electricity</td><td>1034</td><td>0.0</td></tr><tr><th>4</th><td>143</td><td>brazil</td><td>pp_geothermal</td><td>fuel_electricity</td><td>1034</td><td>0.0855676</td></tr><tr><th>5</th><td>179</td><td>brazil</td><td>pp_hydropower</td><td>fuel_electricity</td><td>1034</td><td>0.565988</td></tr><tr><th>6</th><td>215</td><td>brazil</td><td>pp_nuclear</td><td>fuel_electricity</td><td>1034</td><td>0.0</td></tr><tr><th>7</th><td>251</td><td>brazil</td><td>pp_oil</td><td>fuel_electricity</td><td>1034</td><td>0.0</td></tr><tr><th>8</th><td>287</td><td>brazil</td><td>pp_solar</td><td>fuel_electricity</td><td>1034</td><td>0.128803</td></tr><tr><th>9</th><td>323</td><td>brazil</td><td>pp_wind</td><td>fuel_electricity</td><td>1034</td><td>0.131397</td></tr><tr><th>10</th><td>359</td><td>brazil</td><td>supply_fuel_coal</td><td>fuel_coal</td><td>1034</td><td>0.595391</td></tr><tr><th>11</th><td>395</td><td>brazil</td><td>supply_fuel_crude</td><td>fuel_crude</td><td>1034</td><td>0.0</td></tr><tr><th>12</th><td>431</td><td>brazil</td><td>supply_fuel_diesel</td><td>fuel_diesel</td><td>1034</td><td>0.16625</td></tr><tr><th>13</th><td>467</td><td>brazil</td><td>supply_fuel_electricity</td><td>fuel_electricity</td><td>1034</td><td>0.0774806</td></tr><tr><th>14</th><td>503</td><td>brazil</td><td>supply_fuel_gasoline</td><td>fuel_gasoline</td><td>1034</td><td>0.165411</td></tr><tr><th>15</th><td>539</td><td>brazil</td><td>supply_fuel_hydrocarbon_gas_liquids</td><td>fuel_hydrocarbon_gas_liquids</td><td>1034</td><td>0.130057</td></tr><tr><th>16</th><td>575</td><td>brazil</td><td>supply_fuel_hydrogen</td><td>fuel_hydrogen</td><td>1034</td><td>0.0249944</td></tr><tr><th>17</th><td>611</td><td>brazil</td><td>supply_fuel_kerosene</td><td>fuel_kerosene</td><td>1034</td><td>0.156192</td></tr><tr><th>18</th><td>647</td><td>brazil</td><td>supply_fuel_natural_gas</td><td>fuel_natural_gas</td><td>1034</td><td>0.23035</td></tr><tr><th>19</th><td>683</td><td>brazil</td><td>supply_fuel_oil</td><td>fuel_oil</td><td>1034</td><td>0.0406532</td></tr></tbody></table></div>"
      ],
      "text/latex": [
       "\\begin{tabular}{r|cccccc}\n",
       "\t& id & r & t & f & y & val\\\\\n",
       "\t\\hline\n",
       "\t& Int64 & String & String & String & String & Float64\\\\\n",
       "\t\\hline\n",
       "\t1 & 35 & brazil & fp\\_hydrogen\\_electrolysis & fuel\\_hydrogen & 1034 & 0.889205 \\\\\n",
       "\t2 & 71 & brazil & pp\\_coal & fuel\\_electricity & 1034 & 0.0 \\\\\n",
       "\t3 & 107 & brazil & pp\\_gas & fuel\\_electricity & 1034 & 0.0 \\\\\n",
       "\t4 & 143 & brazil & pp\\_geothermal & fuel\\_electricity & 1034 & 0.0855676 \\\\\n",
       "\t5 & 179 & brazil & pp\\_hydropower & fuel\\_electricity & 1034 & 0.565988 \\\\\n",
       "\t6 & 215 & brazil & pp\\_nuclear & fuel\\_electricity & 1034 & 0.0 \\\\\n",
       "\t7 & 251 & brazil & pp\\_oil & fuel\\_electricity & 1034 & 0.0 \\\\\n",
       "\t8 & 287 & brazil & pp\\_solar & fuel\\_electricity & 1034 & 0.128803 \\\\\n",
       "\t9 & 323 & brazil & pp\\_wind & fuel\\_electricity & 1034 & 0.131397 \\\\\n",
       "\t10 & 359 & brazil & supply\\_fuel\\_coal & fuel\\_coal & 1034 & 0.595391 \\\\\n",
       "\t11 & 395 & brazil & supply\\_fuel\\_crude & fuel\\_crude & 1034 & 0.0 \\\\\n",
       "\t12 & 431 & brazil & supply\\_fuel\\_diesel & fuel\\_diesel & 1034 & 0.16625 \\\\\n",
       "\t13 & 467 & brazil & supply\\_fuel\\_electricity & fuel\\_electricity & 1034 & 0.0774806 \\\\\n",
       "\t14 & 503 & brazil & supply\\_fuel\\_gasoline & fuel\\_gasoline & 1034 & 0.165411 \\\\\n",
       "\t15 & 539 & brazil & supply\\_fuel\\_hydrocarbon\\_gas\\_liquids & fuel\\_hydrocarbon\\_gas\\_liquids & 1034 & 0.130057 \\\\\n",
       "\t16 & 575 & brazil & supply\\_fuel\\_hydrogen & fuel\\_hydrogen & 1034 & 0.0249944 \\\\\n",
       "\t17 & 611 & brazil & supply\\_fuel\\_kerosene & fuel\\_kerosene & 1034 & 0.156192 \\\\\n",
       "\t18 & 647 & brazil & supply\\_fuel\\_natural\\_gas & fuel\\_natural\\_gas & 1034 & 0.23035 \\\\\n",
       "\t19 & 683 & brazil & supply\\_fuel\\_oil & fuel\\_oil & 1034 & 0.0406532 \\\\\n",
       "\\end{tabular}\n"
      ],
      "text/plain": [
       "\u001b[1m19×6 DataFrame\u001b[0m\n",
       "\u001b[1m Row \u001b[0m│\u001b[1m id    \u001b[0m\u001b[1m r      \u001b[0m\u001b[1m t                                 \u001b[0m\u001b[1m f                            \u001b[0m\u001b[1m y      \u001b[0m\u001b[1m val       \u001b[0m\n",
       "\u001b[1m     \u001b[0m│\u001b[90m Int64 \u001b[0m\u001b[90m String \u001b[0m\u001b[90m String                            \u001b[0m\u001b[90m String                       \u001b[0m\u001b[90m String \u001b[0m\u001b[90m Float64   \u001b[0m\n",
       "─────┼───────────────────────────────────────────────────────────────────────────────────────────────────\n",
       "   1 │    35  brazil  fp_hydrogen_electrolysis           fuel_hydrogen                 1034    0.889205\n",
       "   2 │    71  brazil  pp_coal                            fuel_electricity              1034    0.0\n",
       "   3 │   107  brazil  pp_gas                             fuel_electricity              1034    0.0\n",
       "   4 │   143  brazil  pp_geothermal                      fuel_electricity              1034    0.0855676\n",
       "   5 │   179  brazil  pp_hydropower                      fuel_electricity              1034    0.565988\n",
       "   6 │   215  brazil  pp_nuclear                         fuel_electricity              1034    0.0\n",
       "   7 │   251  brazil  pp_oil                             fuel_electricity              1034    0.0\n",
       "   8 │   287  brazil  pp_solar                           fuel_electricity              1034    0.128803\n",
       "   9 │   323  brazil  pp_wind                            fuel_electricity              1034    0.131397\n",
       "  10 │   359  brazil  supply_fuel_coal                   fuel_coal                     1034    0.595391\n",
       "  11 │   395  brazil  supply_fuel_crude                  fuel_crude                    1034    0.0\n",
       "  12 │   431  brazil  supply_fuel_diesel                 fuel_diesel                   1034    0.16625\n",
       "  13 │   467  brazil  supply_fuel_electricity            fuel_electricity              1034    0.0774806\n",
       "  14 │   503  brazil  supply_fuel_gasoline               fuel_gasoline                 1034    0.165411\n",
       "  15 │   539  brazil  supply_fuel_hydrocarbon_gas_liqu…  fuel_hydrocarbon_gas_liquids  1034    0.130057\n",
       "  16 │   575  brazil  supply_fuel_hydrogen               fuel_hydrogen                 1034    0.0249944\n",
       "  17 │   611  brazil  supply_fuel_kerosene               fuel_kerosene                 1034    0.156192\n",
       "  18 │   647  brazil  supply_fuel_natural_gas            fuel_natural_gas              1034    0.23035\n",
       "  19 │   683  brazil  supply_fuel_oil                    fuel_oil                      1034    0.0406532"
      ]
     },
     "execution_count": 10,
     "metadata": {},
     "output_type": "execute_result"
    }
   ],
   "source": [
    "df_view = get(dict_tables, \"MinShareProduction\", nothing)\n",
    "\n",
    "filter(x -> (x[:y] == \"1034\"), df_view)"
   ]
  },
  {
   "cell_type": "code",
   "execution_count": 63,
   "metadata": {},
   "outputs": [
    {
     "name": "stdout",
     "output_type": "stream",
     "text": [
      "\u001b[1m0×6 DataFrame\u001b[0m\n",
      "\u001b[1m0×5 DataFrame\u001b[0m\n",
      "\u001b[1m0×6 DataFrame\u001b[0m\n",
      "\u001b[1m0×6 DataFrame\u001b[0m\n",
      "\u001b[1m0×5 DataFrame\u001b[0m\n",
      "\u001b[1m0×4 DataFrame\u001b[0m\n",
      "\u001b[1m0×6 DataFrame\u001b[0m\n",
      "\u001b[1m0×6 DataFrame\u001b[0m\n"
     ]
    }
   ],
   "source": [
    "for k in sort(collect(keys(dict_tables)))\n",
    "    \n",
    "    (string(k[1:1]) == \"v\") ? println(get(dict_tables, k, nothing)) : nothing\n",
    "end"
   ]
  },
  {
   "cell_type": "code",
   "execution_count": 48,
   "metadata": {},
   "outputs": [
    {
     "data": {
      "text/plain": [
       "SQLite.Query(SQLite.Stmt(SQLite.DB(\"/Users/jsyme/Documents/Projects/git_jbus/lac_decarbonization/tmp/nemomod_intermediate_database.sqlite\"), 1), Base.RefValue{Int32}(101), Symbol[], Type[], Dict{Symbol, Int64}(), Base.RefValue{Int64}(0))"
      ]
     },
     "execution_count": 48,
     "metadata": {},
     "output_type": "execute_result"
    }
   ],
   "source": [
    "#df = get(dict_tables, \"CapacityFactor\", nothing)\n",
    "#filter(x -> ((x[:y] == \"1000\") & (x[:t] == \"pp_hydropower\")), df)\n",
    "#DBInterface.execute(db, \"drop * from SpecifiedDemandProfile\")\n",
    "table_name = \"SpecifiedDemandProfile\"\n",
    "DBInterface.execute(db, \"delete from $(table_name)\")"
   ]
  },
  {
   "cell_type": "code",
   "execution_count": 36,
   "metadata": {},
   "outputs": [],
   "source": [
    "#keys(dict_tables)\n",
    "for tab in sort(collect(keys(dict_tables)))\n",
    "    \n",
    "    df = get(dict_tables, tab, nothing)\n",
    "    #if \"r\" in names(df)\n",
    "    #    println(tab)\n",
    "    #    all_regions = Set(df[:, :r])\n",
    "    #    println(\"regions:\\t\\n$(all_regions)\")\n",
    "    #    (nrow(df) == 0) ? println(\"**NO ROWS**\\n\\n\") : println(\"\\n\\n\")\n",
    "    \n",
    "    if \"id\" in names(df)\n",
    "        s_id = Set(df[:, :id])\n",
    "        (length(s_id) != nrow(df)) ? println(\"ID MISTMATCH IN $(tab)\") : nothing\n",
    "    end\n",
    "    \n",
    "end\n",
    "\n"
   ]
  },
  {
   "cell_type": "code",
   "execution_count": 18,
   "metadata": {},
   "outputs": [
    {
     "data": {
      "text/html": [
       "<div class=\"data-frame\"><p>0 rows × 5 columns</p><table class=\"data-frame\"><thead><tr><th></th><th>r</th><th>t</th><th>y</th><th>val</th><th>solvedtm</th></tr><tr><th></th><th title=\"Union{Missing, String}\">String?</th><th title=\"Union{Missing, String}\">String?</th><th title=\"Union{Missing, String}\">String?</th><th title=\"Union{Missing, Float64}\">Float64?</th><th title=\"Union{Missing, String}\">String?</th></tr></thead><tbody></tbody></table></div>"
      ],
      "text/latex": [
       "\\begin{tabular}{r|ccccc}\n",
       "\t& r & t & y & val & solvedtm\\\\\n",
       "\t\\hline\n",
       "\t& String? & String? & String? & Float64? & String?\\\\\n",
       "\t\\hline\n",
       "\\end{tabular}\n"
      ],
      "text/plain": [
       "\u001b[1m0×5 DataFrame\u001b[0m"
      ]
     },
     "execution_count": 18,
     "metadata": {},
     "output_type": "execute_result"
    }
   ],
   "source": [
    "get(dict_tables, \"vtotalcapacityannual\", nothing)"
   ]
  },
  {
   "cell_type": "code",
   "execution_count": 126,
   "metadata": {},
   "outputs": [
    {
     "data": {
      "text/html": [
       "<div class=\"data-frame\"><p>3 rows × 5 columns</p><table class=\"data-frame\"><thead><tr><th></th><th>id</th><th>r</th><th>f</th><th>y</th><th>val</th></tr><tr><th></th><th title=\"Int64\">Int64</th><th title=\"String\">String</th><th title=\"String\">String</th><th title=\"String\">String</th><th title=\"Float64\">Float64</th></tr></thead><tbody><tr><th>1</th><td>4</td><td>costa_rica</td><td>fuel_oil</td><td>1000</td><td>72.0</td></tr><tr><th>2</th><td>5</td><td>costa_rica</td><td>fuel_oil</td><td>1001</td><td>73.5</td></tr><tr><th>3</th><td>6</td><td>costa_rica</td><td>fuel_oil</td><td>1002</td><td>75.0</td></tr></tbody></table></div>"
      ],
      "text/latex": [
       "\\begin{tabular}{r|ccccc}\n",
       "\t& id & r & f & y & val\\\\\n",
       "\t\\hline\n",
       "\t& Int64 & String & String & String & Float64\\\\\n",
       "\t\\hline\n",
       "\t1 & 4 & costa\\_rica & fuel\\_oil & 1000 & 72.0 \\\\\n",
       "\t2 & 5 & costa\\_rica & fuel\\_oil & 1001 & 73.5 \\\\\n",
       "\t3 & 6 & costa\\_rica & fuel\\_oil & 1002 & 75.0 \\\\\n",
       "\\end{tabular}\n"
      ],
      "text/plain": [
       "\u001b[1m3×5 DataFrame\u001b[0m\n",
       "\u001b[1m Row \u001b[0m│\u001b[1m id    \u001b[0m\u001b[1m r          \u001b[0m\u001b[1m f        \u001b[0m\u001b[1m y      \u001b[0m\u001b[1m val     \u001b[0m\n",
       "\u001b[1m     \u001b[0m│\u001b[90m Int64 \u001b[0m\u001b[90m String     \u001b[0m\u001b[90m String   \u001b[0m\u001b[90m String \u001b[0m\u001b[90m Float64 \u001b[0m\n",
       "─────┼──────────────────────────────────────────────\n",
       "   1 │     4  costa_rica  fuel_oil  1000       72.0\n",
       "   2 │     5  costa_rica  fuel_oil  1001       73.5\n",
       "   3 │     6  costa_rica  fuel_oil  1002       75.0"
      ]
     },
     "execution_count": 126,
     "metadata": {},
     "output_type": "execute_result"
    }
   ],
   "source": [
    "filter(x -> (x[:f] != \"fuel_electricity\"), get(dict_tables, \"SpecifiedAnnualDemand\", nothing))"
   ]
  },
  {
   "cell_type": "code",
   "execution_count": 99,
   "metadata": {},
   "outputs": [
    {
     "data": {
      "text/plain": [
       "8-element Vector{String}:\n",
       " \"vdemandnn\"\n",
       " \"vnewcapacity\"\n",
       " \"vproductionbytechnologyannual\"\n",
       " \"vproductionnn\"\n",
       " \"vtotalcapacityannual\"\n",
       " \"vtotaldiscountedcost\"\n",
       " \"vusebytechnologyannual\"\n",
       " \"vusenn\""
      ]
     },
     "execution_count": 99,
     "metadata": {},
     "output_type": "execute_result"
    }
   ],
   "source": [
    "sort([x for x in keys(dict_tables) if String(x[1:1]) == \"v\"])\n"
   ]
  },
  {
   "cell_type": "code",
   "execution_count": 127,
   "metadata": {},
   "outputs": [
    {
     "data": {
      "text/html": [
       "<div class=\"data-frame\"><p>3 rows × 6 columns</p><table class=\"data-frame\"><thead><tr><th></th><th>id</th><th>r</th><th>t</th><th>f</th><th>y</th><th>val</th></tr><tr><th></th><th title=\"Int64\">Int64</th><th title=\"String\">String</th><th title=\"String\">String</th><th title=\"String\">String</th><th title=\"String\">String</th><th title=\"Float64\">Float64</th></tr></thead><tbody><tr><th>1</th><td>1</td><td>costa_rica</td><td>supply_fuel_oil_from_fuel_electricity</td><td>fuel_oil</td><td>1000</td><td>0.0</td></tr><tr><th>2</th><td>2</td><td>costa_rica</td><td>supply_fuel_oil_from_fuel_electricity</td><td>fuel_oil</td><td>1001</td><td>0.15</td></tr><tr><th>3</th><td>3</td><td>costa_rica</td><td>supply_fuel_oil_from_fuel_electricity</td><td>fuel_oil</td><td>1002</td><td>0.3</td></tr></tbody></table></div>"
      ],
      "text/latex": [
       "\\begin{tabular}{r|cccccc}\n",
       "\t& id & r & t & f & y & val\\\\\n",
       "\t\\hline\n",
       "\t& Int64 & String & String & String & String & Float64\\\\\n",
       "\t\\hline\n",
       "\t1 & 1 & costa\\_rica & supply\\_fuel\\_oil\\_from\\_fuel\\_electricity & fuel\\_oil & 1000 & 0.0 \\\\\n",
       "\t2 & 2 & costa\\_rica & supply\\_fuel\\_oil\\_from\\_fuel\\_electricity & fuel\\_oil & 1001 & 0.15 \\\\\n",
       "\t3 & 3 & costa\\_rica & supply\\_fuel\\_oil\\_from\\_fuel\\_electricity & fuel\\_oil & 1002 & 0.3 \\\\\n",
       "\\end{tabular}\n"
      ],
      "text/plain": [
       "\u001b[1m3×6 DataFrame\u001b[0m\n",
       "\u001b[1m Row \u001b[0m│\u001b[1m id    \u001b[0m\u001b[1m r          \u001b[0m\u001b[1m t                                 \u001b[0m\u001b[1m f        \u001b[0m\u001b[1m y      \u001b[0m\u001b[1m\u001b[0m ⋯\n",
       "\u001b[1m     \u001b[0m│\u001b[90m Int64 \u001b[0m\u001b[90m String     \u001b[0m\u001b[90m String                            \u001b[0m\u001b[90m String   \u001b[0m\u001b[90m String \u001b[0m\u001b[90m\u001b[0m ⋯\n",
       "─────┼──────────────────────────────────────────────────────────────────────────\n",
       "   1 │     1  costa_rica  supply_fuel_oil_from_fuel_electr…  fuel_oil  1000    ⋯\n",
       "   2 │     2  costa_rica  supply_fuel_oil_from_fuel_electr…  fuel_oil  1001\n",
       "   3 │     3  costa_rica  supply_fuel_oil_from_fuel_electr…  fuel_oil  1002\n",
       "\u001b[36m                                                                1 column omitted\u001b[0m"
      ]
     },
     "execution_count": 127,
     "metadata": {},
     "output_type": "execute_result"
    }
   ],
   "source": [
    "get(dict_tables, \"MinShareProduction\", nothing)"
   ]
  },
  {
   "cell_type": "code",
   "execution_count": 130,
   "metadata": {},
   "outputs": [
    {
     "data": {
      "text/html": [
       "<div class=\"data-frame\"><p>10 rows × 6 columns (omitted printing of 1 columns)</p><table class=\"data-frame\"><thead><tr><th></th><th>r</th><th>t</th><th>f</th><th>y</th><th>val</th></tr><tr><th></th><th title=\"String\">String</th><th title=\"String\">String</th><th title=\"String\">String</th><th title=\"String\">String</th><th title=\"Float64\">Float64</th></tr></thead><tbody><tr><th>1</th><td>costa_rica</td><td>supply_fuel_crude</td><td>fuel_crude</td><td>1002</td><td>3.15576e11</td></tr><tr><th>2</th><td>costa_rica</td><td>pp_hydropower</td><td>fuel_electricity</td><td>1002</td><td>13.7627</td></tr><tr><th>3</th><td>costa_rica</td><td>pp_solar</td><td>fuel_electricity</td><td>1002</td><td>1.21603</td></tr><tr><th>4</th><td>costa_rica</td><td>st_compressed_air</td><td>fuel_electricity</td><td>1002</td><td>14.9759</td></tr><tr><th>5</th><td>costa_rica</td><td>st_batteries</td><td>fuel_electricity</td><td>1002</td><td>14.9787</td></tr><tr><th>6</th><td>costa_rica</td><td>supply_fuel_oil_from_fuel_electricity</td><td>fuel_oil</td><td>1002</td><td>22.5</td></tr><tr><th>7</th><td>costa_rica</td><td>st_flywheels</td><td>fuel_electricity</td><td>1002</td><td>14.9787</td></tr><tr><th>8</th><td>costa_rica</td><td>supply_fuel_solar</td><td>fuel_solar</td><td>1002</td><td>4.8255</td></tr><tr><th>9</th><td>costa_rica</td><td>supply_fuel_oil</td><td>fuel_oil</td><td>1002</td><td>52.5</td></tr><tr><th>10</th><td>costa_rica</td><td>supply_fuel_hydropower</td><td>fuel_hydropower</td><td>1002</td><td>16.9422</td></tr></tbody></table></div>"
      ],
      "text/latex": [
       "\\begin{tabular}{r|cccccc}\n",
       "\t& r & t & f & y & val & \\\\\n",
       "\t\\hline\n",
       "\t& String & String & String & String & Float64 & \\\\\n",
       "\t\\hline\n",
       "\t1 & costa\\_rica & supply\\_fuel\\_crude & fuel\\_crude & 1002 & 3.15576e11 & $\\dots$ \\\\\n",
       "\t2 & costa\\_rica & pp\\_hydropower & fuel\\_electricity & 1002 & 13.7627 & $\\dots$ \\\\\n",
       "\t3 & costa\\_rica & pp\\_solar & fuel\\_electricity & 1002 & 1.21603 & $\\dots$ \\\\\n",
       "\t4 & costa\\_rica & st\\_compressed\\_air & fuel\\_electricity & 1002 & 14.9759 & $\\dots$ \\\\\n",
       "\t5 & costa\\_rica & st\\_batteries & fuel\\_electricity & 1002 & 14.9787 & $\\dots$ \\\\\n",
       "\t6 & costa\\_rica & supply\\_fuel\\_oil\\_from\\_fuel\\_electricity & fuel\\_oil & 1002 & 22.5 & $\\dots$ \\\\\n",
       "\t7 & costa\\_rica & st\\_flywheels & fuel\\_electricity & 1002 & 14.9787 & $\\dots$ \\\\\n",
       "\t8 & costa\\_rica & supply\\_fuel\\_solar & fuel\\_solar & 1002 & 4.8255 & $\\dots$ \\\\\n",
       "\t9 & costa\\_rica & supply\\_fuel\\_oil & fuel\\_oil & 1002 & 52.5 & $\\dots$ \\\\\n",
       "\t10 & costa\\_rica & supply\\_fuel\\_hydropower & fuel\\_hydropower & 1002 & 16.9422 & $\\dots$ \\\\\n",
       "\\end{tabular}\n"
      ],
      "text/plain": [
       "\u001b[1m10×6 DataFrame\u001b[0m\n",
       "\u001b[1m Row \u001b[0m│\u001b[1m r          \u001b[0m\u001b[1m t                                 \u001b[0m\u001b[1m f                \u001b[0m\u001b[1m y     \u001b[0m ⋯\n",
       "\u001b[1m     \u001b[0m│\u001b[90m String     \u001b[0m\u001b[90m String                            \u001b[0m\u001b[90m String           \u001b[0m\u001b[90m String\u001b[0m ⋯\n",
       "─────┼──────────────────────────────────────────────────────────────────────────\n",
       "   1 │ costa_rica  supply_fuel_crude                  fuel_crude        1002   ⋯\n",
       "   2 │ costa_rica  pp_hydropower                      fuel_electricity  1002\n",
       "   3 │ costa_rica  pp_solar                           fuel_electricity  1002\n",
       "   4 │ costa_rica  st_compressed_air                  fuel_electricity  1002\n",
       "   5 │ costa_rica  st_batteries                       fuel_electricity  1002   ⋯\n",
       "   6 │ costa_rica  supply_fuel_oil_from_fuel_electr…  fuel_oil          1002\n",
       "   7 │ costa_rica  st_flywheels                       fuel_electricity  1002\n",
       "   8 │ costa_rica  supply_fuel_solar                  fuel_solar        1002\n",
       "   9 │ costa_rica  supply_fuel_oil                    fuel_oil          1002   ⋯\n",
       "  10 │ costa_rica  supply_fuel_hydropower             fuel_hydropower   1002\n",
       "\u001b[36m                                                               2 columns omitted\u001b[0m"
      ]
     },
     "execution_count": 130,
     "metadata": {},
     "output_type": "execute_result"
    }
   ],
   "source": [
    "t1 = get(dict_tables, \"vproductionbytechnologyannual\", nothing)\n",
    "#filter(x -> (x[:t] == \"pp_oil\"), t1)\n",
    "filter(x -> (x[:y] == \"1002\"), t1)\n"
   ]
  },
  {
   "cell_type": "code",
   "execution_count": 139,
   "metadata": {},
   "outputs": [
    {
     "data": {
      "text/plain": [
       "724.8681"
      ]
     },
     "execution_count": 139,
     "metadata": {},
     "output_type": "execute_result"
    }
   ],
   "source": [
    "(24*365*0.75*0.085)*1.298"
   ]
  },
  {
   "cell_type": "code",
   "execution_count": 109,
   "metadata": {},
   "outputs": [
    {
     "data": {
      "text/plain": [
       "37.37555310931303"
      ]
     },
     "execution_count": 109,
     "metadata": {},
     "output_type": "execute_result"
    }
   ],
   "source": [
    "tab = filter(x -> ((x[:y] == \"1002\") & (x[:f] == \"fuel_electricity\")), t1)\n",
    "sum(tab[:, :val]) - 21.7722"
   ]
  },
  {
   "cell_type": "code",
   "execution_count": 67,
   "metadata": {},
   "outputs": [
    {
     "data": {
      "text/plain": [
       "93.01024999999998"
      ]
     },
     "execution_count": 67,
     "metadata": {},
     "output_type": "execute_result"
    }
   ],
   "source": [
    "t2 = get(dict_tables, \"InputActivityRatio\", nothing)\n",
    "filter(x -> ((x[:y] == \"1000\") & (x[:t] == \"pp_oil\")), t2)\n",
    "166.262 - 36.947*2.5\n",
    "37.2041*2.5"
   ]
  },
  {
   "cell_type": "code",
   "execution_count": 105,
   "metadata": {},
   "outputs": [
    {
     "data": {
      "text/html": [
       "<div class=\"data-frame\"><p>2 rows × 5 columns</p><table class=\"data-frame\"><thead><tr><th></th><th>id</th><th>r</th><th>f</th><th>y</th><th>val</th></tr><tr><th></th><th title=\"Int64\">Int64</th><th title=\"String\">String</th><th title=\"String\">String</th><th title=\"String\">String</th><th title=\"Float64\">Float64</th></tr></thead><tbody><tr><th>1</th><td>3</td><td>costa_rica</td><td>fuel_electricity</td><td>1002</td><td>36.287</td></tr><tr><th>2</th><td>6</td><td>costa_rica</td><td>fuel_oil</td><td>1002</td><td>72.5739</td></tr></tbody></table></div>"
      ],
      "text/latex": [
       "\\begin{tabular}{r|ccccc}\n",
       "\t& id & r & f & y & val\\\\\n",
       "\t\\hline\n",
       "\t& Int64 & String & String & String & Float64\\\\\n",
       "\t\\hline\n",
       "\t1 & 3 & costa\\_rica & fuel\\_electricity & 1002 & 36.287 \\\\\n",
       "\t2 & 6 & costa\\_rica & fuel\\_oil & 1002 & 72.5739 \\\\\n",
       "\\end{tabular}\n"
      ],
      "text/plain": [
       "\u001b[1m2×5 DataFrame\u001b[0m\n",
       "\u001b[1m Row \u001b[0m│\u001b[1m id    \u001b[0m\u001b[1m r          \u001b[0m\u001b[1m f                \u001b[0m\u001b[1m y      \u001b[0m\u001b[1m val     \u001b[0m\n",
       "\u001b[1m     \u001b[0m│\u001b[90m Int64 \u001b[0m\u001b[90m String     \u001b[0m\u001b[90m String           \u001b[0m\u001b[90m String \u001b[0m\u001b[90m Float64 \u001b[0m\n",
       "─────┼──────────────────────────────────────────────────────\n",
       "   1 │     3  costa_rica  fuel_electricity  1002    36.287\n",
       "   2 │     6  costa_rica  fuel_oil          1002    72.5739"
      ]
     },
     "execution_count": 105,
     "metadata": {},
     "output_type": "execute_result"
    }
   ],
   "source": [
    "t3 = get(dict_tables, \"SpecifiedAnnualDemand\", nothing)\n",
    "#filter(x -> ((x[:y] == \"1001\") & (x[:f] == \"fuel_oil\")), t3)\n",
    "filter(x -> ((x[:y] == \"1002\")), t3)\n"
   ]
  },
  {
   "cell_type": "code",
   "execution_count": 88,
   "metadata": {
    "collapsed": true,
    "jupyter": {
     "outputs_hidden": true
    }
   },
   "outputs": [
    {
     "name": "stdout",
     "output_type": "stream",
     "text": [
      "table_name: CapacityFactor"
     ]
    },
    {
     "data": {
      "text/html": [
       "<div class=\"data-frame\"><p>5,760 rows × 6 columns</p><table class=\"data-frame\"><thead><tr><th></th><th>id</th><th>r</th><th>t</th><th>l</th><th>y</th><th>val</th></tr><tr><th></th><th title=\"Int64\">Int64</th><th title=\"String\">String</th><th title=\"String\">String</th><th title=\"String\">String</th><th title=\"String\">String</th><th title=\"Float64\">Float64</th></tr></thead><tbody><tr><th>1</th><td>1</td><td>costa_rica</td><td>pp_geothermal</td><td>fallwd0</td><td>1000</td><td>0.72</td></tr><tr><th>2</th><td>2</td><td>costa_rica</td><td>pp_geothermal</td><td>fallwd0</td><td>1001</td><td>0.72</td></tr><tr><th>3</th><td>3</td><td>costa_rica</td><td>pp_geothermal</td><td>fallwd0</td><td>1002</td><td>0.72</td></tr><tr><th>4</th><td>4</td><td>costa_rica</td><td>pp_geothermal</td><td>fallwd0</td><td>1003</td><td>0.72</td></tr><tr><th>5</th><td>5</td><td>costa_rica</td><td>pp_geothermal</td><td>fallwd0</td><td>1004</td><td>0.72</td></tr><tr><th>6</th><td>6</td><td>costa_rica</td><td>pp_geothermal</td><td>fallwd0</td><td>1005</td><td>0.72</td></tr><tr><th>7</th><td>7</td><td>costa_rica</td><td>pp_geothermal</td><td>fallwd0</td><td>1006</td><td>0.72</td></tr><tr><th>8</th><td>8</td><td>costa_rica</td><td>pp_geothermal</td><td>fallwd0</td><td>1007</td><td>0.72</td></tr><tr><th>9</th><td>9</td><td>costa_rica</td><td>pp_geothermal</td><td>fallwd0</td><td>1008</td><td>0.72</td></tr><tr><th>10</th><td>10</td><td>costa_rica</td><td>pp_geothermal</td><td>fallwd0</td><td>1009</td><td>0.72</td></tr><tr><th>11</th><td>11</td><td>costa_rica</td><td>pp_geothermal</td><td>fallwd0</td><td>1010</td><td>0.72</td></tr><tr><th>12</th><td>12</td><td>costa_rica</td><td>pp_geothermal</td><td>fallwd0</td><td>1011</td><td>0.72</td></tr><tr><th>13</th><td>13</td><td>costa_rica</td><td>pp_geothermal</td><td>fallwd0</td><td>1012</td><td>0.72</td></tr><tr><th>14</th><td>14</td><td>costa_rica</td><td>pp_geothermal</td><td>fallwd0</td><td>1013</td><td>0.72</td></tr><tr><th>15</th><td>15</td><td>costa_rica</td><td>pp_geothermal</td><td>fallwd0</td><td>1014</td><td>0.72</td></tr><tr><th>16</th><td>16</td><td>costa_rica</td><td>pp_geothermal</td><td>fallwd0</td><td>1015</td><td>0.72</td></tr><tr><th>17</th><td>17</td><td>costa_rica</td><td>pp_geothermal</td><td>fallwd0</td><td>1016</td><td>0.72</td></tr><tr><th>18</th><td>18</td><td>costa_rica</td><td>pp_geothermal</td><td>fallwd0</td><td>1017</td><td>0.72</td></tr><tr><th>19</th><td>19</td><td>costa_rica</td><td>pp_geothermal</td><td>fallwd0</td><td>1018</td><td>0.72</td></tr><tr><th>20</th><td>20</td><td>costa_rica</td><td>pp_geothermal</td><td>fallwd0</td><td>1019</td><td>0.72</td></tr><tr><th>21</th><td>21</td><td>costa_rica</td><td>pp_geothermal</td><td>fallwd0</td><td>1020</td><td>0.72</td></tr><tr><th>22</th><td>22</td><td>costa_rica</td><td>pp_geothermal</td><td>fallwd0</td><td>1021</td><td>0.72</td></tr><tr><th>23</th><td>23</td><td>costa_rica</td><td>pp_geothermal</td><td>fallwd0</td><td>1022</td><td>0.72</td></tr><tr><th>24</th><td>24</td><td>costa_rica</td><td>pp_geothermal</td><td>fallwd0</td><td>1023</td><td>0.72</td></tr><tr><th>25</th><td>25</td><td>costa_rica</td><td>pp_geothermal</td><td>fallwd0</td><td>1024</td><td>0.72</td></tr><tr><th>26</th><td>26</td><td>costa_rica</td><td>pp_geothermal</td><td>fallwd0</td><td>1025</td><td>0.72</td></tr><tr><th>27</th><td>27</td><td>costa_rica</td><td>pp_geothermal</td><td>fallwd0</td><td>1026</td><td>0.72</td></tr><tr><th>28</th><td>28</td><td>costa_rica</td><td>pp_geothermal</td><td>fallwd0</td><td>1027</td><td>0.72</td></tr><tr><th>29</th><td>29</td><td>costa_rica</td><td>pp_geothermal</td><td>fallwd0</td><td>1028</td><td>0.72</td></tr><tr><th>30</th><td>30</td><td>costa_rica</td><td>pp_geothermal</td><td>fallwd0</td><td>1029</td><td>0.72</td></tr><tr><th>&vellip;</th><td>&vellip;</td><td>&vellip;</td><td>&vellip;</td><td>&vellip;</td><td>&vellip;</td><td>&vellip;</td></tr></tbody></table></div>"
      ],
      "text/latex": [
       "\\begin{tabular}{r|cccccc}\n",
       "\t& id & r & t & l & y & val\\\\\n",
       "\t\\hline\n",
       "\t& Int64 & String & String & String & String & Float64\\\\\n",
       "\t\\hline\n",
       "\t1 & 1 & costa\\_rica & pp\\_geothermal & fallwd0 & 1000 & 0.72 \\\\\n",
       "\t2 & 2 & costa\\_rica & pp\\_geothermal & fallwd0 & 1001 & 0.72 \\\\\n",
       "\t3 & 3 & costa\\_rica & pp\\_geothermal & fallwd0 & 1002 & 0.72 \\\\\n",
       "\t4 & 4 & costa\\_rica & pp\\_geothermal & fallwd0 & 1003 & 0.72 \\\\\n",
       "\t5 & 5 & costa\\_rica & pp\\_geothermal & fallwd0 & 1004 & 0.72 \\\\\n",
       "\t6 & 6 & costa\\_rica & pp\\_geothermal & fallwd0 & 1005 & 0.72 \\\\\n",
       "\t7 & 7 & costa\\_rica & pp\\_geothermal & fallwd0 & 1006 & 0.72 \\\\\n",
       "\t8 & 8 & costa\\_rica & pp\\_geothermal & fallwd0 & 1007 & 0.72 \\\\\n",
       "\t9 & 9 & costa\\_rica & pp\\_geothermal & fallwd0 & 1008 & 0.72 \\\\\n",
       "\t10 & 10 & costa\\_rica & pp\\_geothermal & fallwd0 & 1009 & 0.72 \\\\\n",
       "\t11 & 11 & costa\\_rica & pp\\_geothermal & fallwd0 & 1010 & 0.72 \\\\\n",
       "\t12 & 12 & costa\\_rica & pp\\_geothermal & fallwd0 & 1011 & 0.72 \\\\\n",
       "\t13 & 13 & costa\\_rica & pp\\_geothermal & fallwd0 & 1012 & 0.72 \\\\\n",
       "\t14 & 14 & costa\\_rica & pp\\_geothermal & fallwd0 & 1013 & 0.72 \\\\\n",
       "\t15 & 15 & costa\\_rica & pp\\_geothermal & fallwd0 & 1014 & 0.72 \\\\\n",
       "\t16 & 16 & costa\\_rica & pp\\_geothermal & fallwd0 & 1015 & 0.72 \\\\\n",
       "\t17 & 17 & costa\\_rica & pp\\_geothermal & fallwd0 & 1016 & 0.72 \\\\\n",
       "\t18 & 18 & costa\\_rica & pp\\_geothermal & fallwd0 & 1017 & 0.72 \\\\\n",
       "\t19 & 19 & costa\\_rica & pp\\_geothermal & fallwd0 & 1018 & 0.72 \\\\\n",
       "\t20 & 20 & costa\\_rica & pp\\_geothermal & fallwd0 & 1019 & 0.72 \\\\\n",
       "\t21 & 21 & costa\\_rica & pp\\_geothermal & fallwd0 & 1020 & 0.72 \\\\\n",
       "\t22 & 22 & costa\\_rica & pp\\_geothermal & fallwd0 & 1021 & 0.72 \\\\\n",
       "\t23 & 23 & costa\\_rica & pp\\_geothermal & fallwd0 & 1022 & 0.72 \\\\\n",
       "\t24 & 24 & costa\\_rica & pp\\_geothermal & fallwd0 & 1023 & 0.72 \\\\\n",
       "\t25 & 25 & costa\\_rica & pp\\_geothermal & fallwd0 & 1024 & 0.72 \\\\\n",
       "\t26 & 26 & costa\\_rica & pp\\_geothermal & fallwd0 & 1025 & 0.72 \\\\\n",
       "\t27 & 27 & costa\\_rica & pp\\_geothermal & fallwd0 & 1026 & 0.72 \\\\\n",
       "\t28 & 28 & costa\\_rica & pp\\_geothermal & fallwd0 & 1027 & 0.72 \\\\\n",
       "\t29 & 29 & costa\\_rica & pp\\_geothermal & fallwd0 & 1028 & 0.72 \\\\\n",
       "\t30 & 30 & costa\\_rica & pp\\_geothermal & fallwd0 & 1029 & 0.72 \\\\\n",
       "\t$\\dots$ & $\\dots$ & $\\dots$ & $\\dots$ & $\\dots$ & $\\dots$ & $\\dots$ \\\\\n",
       "\\end{tabular}\n"
      ],
      "text/plain": [
       "\u001b[1m5760×6 DataFrame\u001b[0m\n",
       "\u001b[1m  Row \u001b[0m│\u001b[1m id    \u001b[0m\u001b[1m r          \u001b[0m\u001b[1m t             \u001b[0m\u001b[1m l         \u001b[0m\u001b[1m y      \u001b[0m\u001b[1m val     \u001b[0m\n",
       "\u001b[1m      \u001b[0m│\u001b[90m Int64 \u001b[0m\u001b[90m String     \u001b[0m\u001b[90m String        \u001b[0m\u001b[90m String    \u001b[0m\u001b[90m String \u001b[0m\u001b[90m Float64 \u001b[0m\n",
       "──────┼──────────────────────────────────────────────────────────────\n",
       "    1 │     1  costa_rica  pp_geothermal  fallwd0    1000    0.72\n",
       "    2 │     2  costa_rica  pp_geothermal  fallwd0    1001    0.72\n",
       "    3 │     3  costa_rica  pp_geothermal  fallwd0    1002    0.72\n",
       "    4 │     4  costa_rica  pp_geothermal  fallwd0    1003    0.72\n",
       "    5 │     5  costa_rica  pp_geothermal  fallwd0    1004    0.72\n",
       "    6 │     6  costa_rica  pp_geothermal  fallwd0    1005    0.72\n",
       "    7 │     7  costa_rica  pp_geothermal  fallwd0    1006    0.72\n",
       "    8 │     8  costa_rica  pp_geothermal  fallwd0    1007    0.72\n",
       "    9 │     9  costa_rica  pp_geothermal  fallwd0    1008    0.72\n",
       "   10 │    10  costa_rica  pp_geothermal  fallwd0    1009    0.72\n",
       "   11 │    11  costa_rica  pp_geothermal  fallwd0    1010    0.72\n",
       "  ⋮   │   ⋮        ⋮             ⋮            ⋮        ⋮        ⋮\n",
       " 5751 │  5751  costa_rica  pp_wind        winterwe6  1026    0.87875\n",
       " 5752 │  5752  costa_rica  pp_wind        winterwe6  1027    0.87875\n",
       " 5753 │  5753  costa_rica  pp_wind        winterwe6  1028    0.87875\n",
       " 5754 │  5754  costa_rica  pp_wind        winterwe6  1029    0.87875\n",
       " 5755 │  5755  costa_rica  pp_wind        winterwe6  1030    0.87875\n",
       " 5756 │  5756  costa_rica  pp_wind        winterwe6  1031    0.87875\n",
       " 5757 │  5757  costa_rica  pp_wind        winterwe6  1032    0.87875\n",
       " 5758 │  5758  costa_rica  pp_wind        winterwe6  1033    0.87875\n",
       " 5759 │  5759  costa_rica  pp_wind        winterwe6  1034    0.87875\n",
       " 5760 │  5760  costa_rica  pp_wind        winterwe6  1035    0.87875\n",
       "\u001b[36m                                                    5739 rows omitted\u001b[0m"
      ]
     },
     "execution_count": 88,
     "metadata": {},
     "output_type": "execute_result"
    }
   ],
   "source": [
    "i = 37\n",
    "print(\"table_name: $(tabs_populated[i])\")\n",
    "df_cur = get(dict_tables, tabs_populated[i], nothing);\n",
    "df_cur"
   ]
  },
  {
   "cell_type": "code",
   "execution_count": null,
   "metadata": {},
   "outputs": [],
   "source": []
  },
  {
   "cell_type": "code",
   "execution_count": 8,
   "metadata": {},
   "outputs": [],
   "source": [
    "#DBInterface.execute(db, \"select * from $(table_name)\") |> DataFrame\n",
    "#sort(collect(keys(dict_tables)))\n",
    "#get(dict_tables, \"CapacityFactor\", nothing)"
   ]
  },
  {
   "cell_type": "code",
   "execution_count": 22,
   "metadata": {},
   "outputs": [
    {
     "data": {
      "text/html": [
       "<div class=\"data-frame\"><p>0 rows × 5 columns</p><table class=\"data-frame\"><thead><tr><th></th><th>id</th><th>r</th><th>s</th><th>y</th><th>val</th></tr><tr><th></th><th title=\"Union{Missing, Int64}\">Int64?</th><th title=\"Union{Missing, String}\">String?</th><th title=\"Union{Missing, String}\">String?</th><th title=\"Union{Missing, String}\">String?</th><th title=\"Union{Missing, Float64}\">Float64?</th></tr></thead><tbody></tbody></table></div>"
      ],
      "text/latex": [
       "\\begin{tabular}{r|ccccc}\n",
       "\t& id & r & s & y & val\\\\\n",
       "\t\\hline\n",
       "\t& Int64? & String? & String? & String? & Float64?\\\\\n",
       "\t\\hline\n",
       "\\end{tabular}\n"
      ],
      "text/plain": [
       "\u001b[1m0×5 DataFrame\u001b[0m"
      ]
     },
     "execution_count": 22,
     "metadata": {},
     "output_type": "execute_result"
    }
   ],
   "source": [
    "DBInterface.execute(db, \"select * from CapitalCostStorage where (id in (1, 2, 3)) and (y in ('1005'))\") |> DataFrame"
   ]
  },
  {
   "cell_type": "code",
   "execution_count": 91,
   "metadata": {},
   "outputs": [
    {
     "data": {
      "text/plain": [
       "\"/Users/jsyme/.julia/packages/NemoMod/vg6Tx/test/storage_test.sqlite\""
      ]
     },
     "execution_count": 91,
     "metadata": {},
     "output_type": "execute_result"
    }
   ],
   "source": [
    "fp_test = normpath(joinpath(pathof(NemoMod), \"..\", \"..\", \"test\", \"storage_test.sqlite\"))\n"
   ]
  },
  {
   "cell_type": "code",
   "execution_count": 115,
   "metadata": {},
   "outputs": [
    {
     "name": "stdout",
     "output_type": "stream",
     "text": [
      "2022-31-Oct 06:35:20.388 Started modeling scenario.\n",
      "2022-31-Oct 06:35:20.389 Validated run-time arguments.\n",
      "2022-31-Oct 06:35:20.392 Connected to scenario database. Path = /Users/jsyme/Documents/Projects/git_jbus/lac_decarbonization/tmp/nemomod_intermediate_database.sqlite.\n",
      "2022-31-Oct 06:35:20.399 Dropped pre-existing result tables from database.\n",
      "2022-31-Oct 06:35:20.399 Verified that transmission modeling is not enabled.\n",
      "2022-31-Oct 06:35:20.482 Created parameter views and indices.\n",
      "2022-31-Oct 06:35:20.487 Created temporary tables.\n",
      "2022-31-Oct 06:35:22.241 Executed core database queries.\n",
      "2022-31-Oct 06:35:22.245 Defined dimensions.\n",
      "2022-31-Oct 06:35:22.264 Defined demand variables.\n",
      "2022-31-Oct 06:35:22.277 Defined storage variables.\n",
      "2022-31-Oct 06:35:22.279 Defined capacity variables.\n",
      "2022-31-Oct 06:35:25.271 Defined activity variables.\n",
      "2022-31-Oct 06:35:25.275 Defined costing variables.\n",
      "2022-31-Oct 06:35:25.276 Defined reserve margin variables.\n",
      "2022-31-Oct 06:35:25.302 Defined emissions variables.\n",
      "2022-31-Oct 06:35:25.302 Defined combined nodal and non-nodal variables.\n",
      "2022-31-Oct 06:35:25.302 Finished defining model variables.\n",
      "2022-31-Oct 06:35:25.302 Scheduled task to add constraints to model.\n",
      "2022-31-Oct 06:35:25.303 Queued constraint CAa1_TotalNewCapacity for creation.\n",
      "2022-31-Oct 06:35:25.385 Queued constraint CAa2_TotalAnnualCapacity for creation.\n",
      "2022-31-Oct 06:35:25.390 Queued constraint VRateOfActivity1 for creation.\n",
      "2022-31-Oct 06:35:25.391 Queued constraint RampRate for creation.\n",
      "2022-31-Oct 06:35:25.392 Queued constraint CAa3_TotalActivityOfEachTechnology for creation.\n",
      "2022-31-Oct 06:35:25.518 Queued constraint CAa4_Constraint_Capacity for creation.\n",
      "2022-31-Oct 06:35:25.520 Queued constraint MinimumTechnologyUtilization for creation.\n",
      "2022-31-Oct 06:35:25.520 Queued constraint EBa2_RateOfFuelProduction2 for creation.\n",
      "2022-31-Oct 06:35:25.773 Queued constraint GenerationAnnualNN for creation.\n",
      "2022-31-Oct 06:35:25.773 Queued constraint ReGenerationAnnualNN for creation.\n",
      "2022-31-Oct 06:35:25.774 Queued constraint EBa3_RateOfFuelProduction3 for creation.\n",
      "2022-31-Oct 06:35:25.936 Queued constraint VRateOfProduction1 for creation.\n",
      "2022-31-Oct 06:35:25.972 Queued constraint EBa5_RateOfFuelUse2 for creation.\n",
      "2022-31-Oct 06:35:26.744 Queued constraint EBa6_RateOfFuelUse3 for creation.\n",
      "2022-31-Oct 06:35:26.800 Queued constraint VRateOfUse1 for creation.\n",
      "2022-31-Oct 06:35:26.834 Queued constraint EBa7_EnergyBalanceEachTS1 for creation.\n",
      "2022-31-Oct 06:35:27.042 Queued constraint EBa8_EnergyBalanceEachTS2 for creation.\n",
      "2022-31-Oct 06:35:27.042 Queued constraint EBa9_EnergyBalanceEachTS3 for creation.\n",
      "2022-31-Oct 06:35:27.045 Queued constraint EBa11_EnergyBalanceEachTS5 for creation.\n",
      "2022-31-Oct 06:35:27.212 Queued constraint EBb0_EnergyBalanceEachYear for creation.\n",
      "2022-31-Oct 06:35:27.224 Queued constraint EBb1_EnergyBalanceEachYear for creation.\n",
      "2022-31-Oct 06:35:27.236 Queued constraint EBb2_EnergyBalanceEachYear for creation.\n",
      "2022-31-Oct 06:35:27.249 Queued constraint EBb3_EnergyBalanceEachYear for creation.\n",
      "2022-31-Oct 06:35:27.249 Queued constraint EBb5_EnergyBalanceEachYear for creation.\n",
      "2022-31-Oct 06:35:27.254 Queued constraint Acc3_AverageAnnualRateOfActivity for creation.\n",
      "2022-31-Oct 06:35:27.476 Queued constraint NS1_RateOfStorageCharge for creation.\n",
      "2022-31-Oct 06:35:27.655 Queued constraint NS2_RateOfStorageDischarge for creation.\n",
      "2022-31-Oct 06:35:27.689 Queued constraint NS3_StorageLevelTsGroup1Start for creation.\n",
      "2022-31-Oct 06:35:27.741 Queued constraint NS4_StorageLevelTsGroup2Start for creation.\n",
      "2022-31-Oct 06:35:27.742 Queued constraint NS5_StorageLevelTimesliceEnd for creation.\n",
      "2022-31-Oct 06:35:27.742 Queued constraint NS6_StorageLevelTsGroup2End for creation.\n",
      "2022-31-Oct 06:35:27.759 Queued constraint NS6a_StorageLevelTsGroup2NetZero for creation.\n",
      "2022-31-Oct 06:35:27.759 Queued constraint NS7_StorageLevelTsGroup1End for creation.\n",
      "2022-31-Oct 06:35:27.766 Queued constraint NS7a_StorageLevelTsGroup1NetZero for creation.\n",
      "2022-31-Oct 06:35:27.766 Queued constraint NS8_StorageLevelYearEnd for creation.\n",
      "2022-31-Oct 06:35:27.818 Queued constraint NS8a_StorageLevelYearEndNetZero for creation.\n",
      "2022-31-Oct 06:35:27.818 Queued constraint SI1_StorageUpperLimit for creation.\n",
      "2022-31-Oct 06:35:27.818 Queued constraint SI2_StorageLowerLimit for creation.\n",
      "2022-31-Oct 06:35:27.819 Queued constraint SI3_TotalNewStorage for creation.\n",
      "2022-31-Oct 06:35:27.828 Queued constraint NS9a_StorageLevelTsLowerLimit for creation.\n",
      "2022-31-Oct 06:35:27.849 Queued constraint NS9b_StorageLevelTsUpperLimit for creation.\n",
      "2022-31-Oct 06:35:27.849 Queued constraint NS10_StorageChargeLimit for creation.\n",
      "2022-31-Oct 06:35:27.849 Queued constraint NS11_StorageDischargeLimit for creation.\n",
      "2022-31-Oct 06:35:27.849 Queued constraint NS12a_StorageLevelTsGroup2LowerLimit for creation.\n",
      "2022-31-Oct 06:35:27.856 Queued constraint NS12b_StorageLevelTsGroup2UpperLimit for creation.\n",
      "2022-31-Oct 06:35:27.856 Queued constraint NS13a_StorageLevelTsGroup1LowerLimit for creation.\n",
      "2022-31-Oct 06:35:27.859 Queued constraint NS13b_StorageLevelTsGroup1UpperLimit for creation.\n",
      "2022-31-Oct 06:35:27.859 Queued constraint NS14_MaxStorageCapacity for creation.\n",
      "2022-31-Oct 06:35:27.859 Queued constraint NS15_MinStorageCapacity for creation.\n",
      "2022-31-Oct 06:35:27.859 Queued constraint NS16_MaxStorageCapacityInvestment for creation.\n",
      "2022-31-Oct 06:35:27.859 Queued constraint NS17_MinStorageCapacityInvestment for creation.\n",
      "2022-31-Oct 06:35:27.859 Queued constraint NS18_FullLoadHours for creation.\n",
      "2022-31-Oct 06:35:27.860 Queued constraint SI4a_FinancingStorage for creation.\n",
      "2022-31-Oct 06:35:27.860 Queued constraint SI4_UndiscountedCapitalInvestmentStorage for creation.\n",
      "2022-31-Oct 06:35:27.861 Queued constraint SI5_DiscountingCapitalInvestmentStorage for creation.\n",
      "2022-31-Oct 06:35:27.861 Queued constraint SI6_SalvageValueStorageAtEndOfPeriod1 for creation.\n",
      "2022-31-Oct 06:35:27.861 Queued constraint SI7_SalvageValueStorageAtEndOfPeriod2 for creation.\n",
      "2022-31-Oct 06:35:27.861 Queued constraint SI8_SalvageValueStorageAtEndOfPeriod3 for creation.\n",
      "2022-31-Oct 06:35:27.862 Queued constraint SI9_SalvageValueStorageDiscountedToStartYear for creation.\n",
      "2022-31-Oct 06:35:27.862 Queued constraint SI10_TotalDiscountedCostByStorage for creation.\n",
      "2022-31-Oct 06:35:27.862 Queued constraint CC1a_FinancingTechnology for creation.\n",
      "2022-31-Oct 06:35:27.862 Queued constraint CC1_UndiscountedCapitalInvestment for creation.\n",
      "2022-31-Oct 06:35:27.865 Queued constraint CC2_DiscountingCapitalInvestment for creation.\n",
      "2022-31-Oct 06:35:27.865 Queued constraint SV1_SalvageValueAtEndOfPeriod1 for creation.\n",
      "2022-31-Oct 06:35:27.866 Queued constraint SV2_SalvageValueAtEndOfPeriod2 for creation.\n",
      "2022-31-Oct 06:35:27.866 Queued constraint SV3_SalvageValueAtEndOfPeriod3 for creation.\n",
      "2022-31-Oct 06:35:27.867 Queued constraint SV4_SalvageValueDiscountedToStartYear for creation.\n",
      "2022-31-Oct 06:35:27.867 Queued constraint OC1_OperatingCostsVariable for creation.\n",
      "2022-31-Oct 06:35:27.870 Queued constraint OC2_OperatingCostsFixedAnnual for creation.\n",
      "2022-31-Oct 06:35:27.873 Queued constraint OC3_OperatingCostsTotalAnnual for creation.\n",
      "2022-31-Oct 06:35:27.874 Queued constraint OC4_DiscountedOperatingCostsTotalAnnual for creation.\n",
      "2022-31-Oct 06:35:27.874 Queued constraint TDC1_TotalDiscountedCostByTechnology for creation.\n",
      "2022-31-Oct 06:35:27.876 Queued constraint TDC2_TotalDiscountedCost for creation.\n",
      "2022-31-Oct 06:35:27.876 Queued constraint TCC1_TotalAnnualMaxCapacityConstraint for creation.\n",
      "2022-31-Oct 06:35:27.876 Queued constraint TCC2_TotalAnnualMinCapacityConstraint for creation.\n",
      "2022-31-Oct 06:35:27.876 Queued constraint NCC1_TotalAnnualMaxNewCapacityConstraint for creation.\n",
      "2022-31-Oct 06:35:27.877 Queued constraint NCC2_TotalAnnualMinNewCapacityConstraint for creation.\n",
      "2022-31-Oct 06:35:27.877 Queued constraint AAC1_TotalAnnualTechnologyActivity for creation.\n",
      "2022-31-Oct 06:35:28.030 Queued constraint AAC3_TotalAnnualTechnologyActivityLowerLimit for creation.\n",
      "2022-31-Oct 06:35:28.032 Queued constraint RM1_ReserveMargin_TechnologiesIncluded_In_Activity_Units for creation.\n",
      "2022-31-Oct 06:35:28.033 Queued constraint RM2_ReserveMargin_FuelsIncluded for creation.\n",
      "2022-31-Oct 06:35:28.041 Queued constraint RM3_ReserveMargin_Constraint for creation.\n",
      "2022-31-Oct 06:35:28.047 Queued constraint RE1_FuelProductionByTechnologyAnnual for creation.\n",
      "2022-31-Oct 06:35:28.379 Queued constraint FuelUseByTechnologyAnnual for creation.\n",
      "2022-31-Oct 06:35:28.422 Queued constraint RE2_ProductionTarget for creation.\n",
      "2022-31-Oct 06:35:28.423 Queued constraint MinShareProduction for creation.\n",
      "2022-31-Oct 06:35:28.423 Queued constraint E2a_AnnualEmissionProduction for creation.\n",
      "2022-31-Oct 06:35:28.427 Queued constraint E2b_AnnualEmissionProduction for creation.\n",
      "2022-31-Oct 06:35:28.561 Queued constraint E4_EmissionsPenaltyByTechnology for creation.\n",
      "2022-31-Oct 06:35:28.573 Queued constraint E5_DiscountedEmissionsPenaltyByTechnology for creation.\n",
      "2022-31-Oct 06:35:28.638 Queued constraint E6_EmissionsAccounting1 for creation.\n",
      "2022-31-Oct 06:35:28.646 Queued constraint E7_EmissionsAccounting2 for creation.\n",
      "2022-31-Oct 06:35:28.646 Queued constraint E8_AnnualEmissionsLimit for creation.\n",
      "2022-31-Oct 06:35:28.646 Queued constraint E9_ModelPeriodEmissionsLimit for creation.\n",
      "2022-31-Oct 06:35:28.646 Queued 94 standard constraints for creation.\n",
      "2022-31-Oct 06:35:28.646 Finished scheduled task to add constraints to model.\n",
      "2022-31-Oct 06:35:28.647 Added 94 standard constraints to model.\n",
      "2022-31-Oct 06:35:28.647 Defined model objective.\n",
      "Gurobi Optimizer version 9.5.2 build v9.5.2rc0 (mac64[x86])\n",
      "Thread count: 6 physical cores, 12 logical processors, using up to 12 threads\n",
      "Optimize a model with 313397 rows, 356030 columns and 914328 nonzeros\n",
      "Model fingerprint: 0xc39cf451\n",
      "Coefficient statistics:\n",
      "  Matrix range     [1e-07, 3e+06]\n",
      "  Objective range  [1e+00, 1e+00]\n",
      "  Bounds range     [0e+00, 0e+00]\n",
      "  RHS range        [1e-02, 1e+03]\n",
      "Warning: Model contains large matrix coefficient range\n",
      "         Consider reformulating model or setting NumericFocus parameter\n",
      "         to avoid numerical issues.\n",
      "\n",
      "Concurrent LP optimizer: primal simplex, dual simplex, and barrier\n",
      "Showing barrier log only...\n",
      "\n",
      "Presolve time: 0.28s\n",
      "\n",
      "Solved with dual simplex\n",
      "Solved in 0 iterations and 0.28 seconds (0.03 work units)\n",
      "Infeasible or unbounded model\n",
      "\n",
      "User-callback calls 23, time in user-callback 0.00 sec\n",
      "2022-31-Oct 06:35:30.378 Solved model. Solver status = INFEASIBLE_OR_UNBOUNDED.\n",
      "2022-31-Oct 06:35:30.378 Solver did not find an optimal solution for model. No results will be saved to database.\n",
      "2022-31-Oct 06:35:30.382 Dropped temporary tables.\n",
      "2022-31-Oct 06:35:30.382 Finished modeling scenario.\n",
      "  9.994092 seconds (38.75 M allocations: 1.910 GiB, 27.64% gc time)\n"
     ]
    },
    {
     "data": {
      "text/plain": [
       "INFEASIBLE_OR_UNBOUNDED::TerminationStatusCode = 6"
      ]
     },
     "execution_count": 115,
     "metadata": {},
     "output_type": "execute_result"
    }
   ],
   "source": [
    "\n",
    "model = Model(Gurobi.Optimizer)\n",
    "#set_optimizer_attribute(model, \"Solver\", \"cplex\")\n",
    "@time NemoMod.calculatescenario(\n",
    "    fp_sqlite_nemomod_db_tmp; \n",
    "    jumpmodel = model,\n",
    "    numprocs = 1\n",
    ")"
   ]
  },
  {
   "cell_type": "code",
   "execution_count": 114,
   "metadata": {},
   "outputs": [
    {
     "data": {
      "text/plain": [
       "Model"
      ]
     },
     "execution_count": 114,
     "metadata": {},
     "output_type": "execute_result"
    }
   ],
   "source": [
    "typeof(model)"
   ]
  },
  {
   "cell_type": "code",
   "execution_count": null,
   "metadata": {},
   "outputs": [],
   "source": []
  },
  {
   "cell_type": "code",
   "execution_count": 106,
   "metadata": {},
   "outputs": [
    {
     "name": "stdout",
     "output_type": "stream",
     "text": [
      "IIS runtime: 0.02 seconds (0.00 work units)\n"
     ]
    },
    {
     "ename": "LoadError",
     "evalue": "Gurobi Error 10015: Cannot compute IIS on a feasible model",
     "output_type": "error",
     "traceback": [
      "Gurobi Error 10015: Cannot compute IIS on a feasible model",
      "",
      "Stacktrace:",
      " [1] _check_ret",
      "   @ ~/.julia/packages/Gurobi/VPomg/src/MOI_wrapper/MOI_wrapper.jl:368 [inlined]",
      " [2] compute_conflict!(model::Gurobi.Optimizer)",
      "   @ Gurobi ~/.julia/packages/Gurobi/VPomg/src/MOI_wrapper/MOI_wrapper.jl:3687",
      " [3] top-level scope",
      "   @ In[106]:1",
      " [4] eval",
      "   @ ./boot.jl:368 [inlined]",
      " [5] include_string(mapexpr::typeof(REPL.softscope), mod::Module, code::String, filename::String)",
      "   @ Base ./loading.jl:1428"
     ]
    }
   ],
   "source": [
    "MOI.compute_conflict!(model.moi_backend.optimizer.model)\n",
    "MOI.get(model.moi_backend, Gurobi.ConstraintConflictStatus(), con1.index)\n",
    "\n"
   ]
  },
  {
   "cell_type": "code",
   "execution_count": null,
   "metadata": {},
   "outputs": [],
   "source": []
  },
  {
   "cell_type": "code",
   "execution_count": null,
   "metadata": {},
   "outputs": [],
   "source": []
  }
 ],
 "metadata": {
  "kernelspec": {
   "display_name": "Julia 10 Threads 1.8.2",
   "language": "julia",
   "name": "julia-10-threads-1.8"
  },
  "language_info": {
   "file_extension": ".jl",
   "mimetype": "application/julia",
   "name": "julia",
   "version": "1.8.2"
  }
 },
 "nbformat": 4,
 "nbformat_minor": 4
}
