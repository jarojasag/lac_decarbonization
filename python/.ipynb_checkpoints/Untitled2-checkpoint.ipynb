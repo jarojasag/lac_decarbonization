{
 "cells": [
  {
   "cell_type": "code",
   "execution_count": 1,
   "metadata": {},
   "outputs": [],
   "source": [
    "import os, os.path\n",
    "import numpy as np\n",
    "import pandas as pd\n",
    "from typing import *\n",
    "# very useful: https://stackoverflow.com/questions/427453/how-can-i-get-the-source-code-of-a-python-function\n",
    "#print(inspect.getsource(FUNCTIONHERE))\n",
    "import inspect\n",
    "from julia.api import Julia\n",
    "julia = Julia(compiled_modules = False)\n"
   ]
  },
  {
   "cell_type": "code",
   "execution_count": 2,
   "metadata": {},
   "outputs": [],
   "source": [
    "import importlib"
   ]
  },
  {
   "cell_type": "code",
   "execution_count": 6,
   "metadata": {},
   "outputs": [],
   "source": [
    "base = importlib.import_module(\"julia.Base\")\n",
    "main = importlib.import_module(\"julia.Main\")\n",
    "pkg = importlib.import_module(\"julia.Pkg\")"
   ]
  },
  {
   "cell_type": "code",
   "execution_count": 7,
   "metadata": {},
   "outputs": [
    {
     "data": {
      "text/plain": [
       "['CSV',\n",
       " 'CUDA',\n",
       " 'Statistics',\n",
       " 'GLPK',\n",
       " 'Revise',\n",
       " 'SQLite',\n",
       " 'Random',\n",
       " 'Clp',\n",
       " 'Atom',\n",
       " 'StructArrays',\n",
       " 'JuMP',\n",
       " 'Shapefile',\n",
       " 'ExcelReaders',\n",
       " 'Juniper',\n",
       " 'LatinHypercubeSampling',\n",
       " 'Ipopt',\n",
       " 'IJulia',\n",
       " 'Flux',\n",
       " 'Plots',\n",
       " 'GeoInterface',\n",
       " 'SCIP',\n",
       " 'NEOSServer',\n",
       " 'XLSX',\n",
       " 'ExcelFiles',\n",
       " 'Cbc',\n",
       " 'DataFrames',\n",
       " 'MathOptInterface']"
      ]
     },
     "execution_count": 7,
     "metadata": {},
     "output_type": "execute_result"
    }
   ],
   "source": [
    "main.collect(main.keys(pkg.project().dependencies))"
   ]
  },
  {
   "cell_type": "code",
   "execution_count": null,
   "metadata": {},
   "outputs": [],
   "source": []
  }
 ],
 "metadata": {
  "kernelspec": {
   "display_name": "Python 3",
   "language": "python",
   "name": "python3"
  },
  "language_info": {
   "codemirror_mode": {
    "name": "ipython",
    "version": 3
   },
   "file_extension": ".py",
   "mimetype": "text/x-python",
   "name": "python",
   "nbconvert_exporter": "python",
   "pygments_lexer": "ipython3",
   "version": "3.8.5"
  }
 },
 "nbformat": 4,
 "nbformat_minor": 4
}
