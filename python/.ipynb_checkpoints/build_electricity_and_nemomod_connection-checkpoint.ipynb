{
 "cells": [
  {
   "cell_type": "code",
   "execution_count": 2005,
   "metadata": {},
   "outputs": [
    {
     "data": {
      "text/plain": [
       "<module 'model_electricity' from '/Users/jsyme/Documents/Projects/git_jbus/lac_decarbonization/python/model_electricity.py'>"
      ]
     },
     "execution_count": 2005,
     "metadata": {},
     "output_type": "execute_result"
    }
   ],
   "source": [
    "import os, os.path\n",
    "import numpy as np\n",
    "import pandas as pd\n",
    "import model_attributes as ma\n",
    "from attribute_table import AttributeTable\n",
    "import model_afolu as mafl\n",
    "import model_ippu as mi\n",
    "import model_circular_economy as mc\n",
    "import model_energy as me\n",
    "import model_electricity as ml\n",
    "import model_socioeconomic as se\n",
    "from model_socioeconomic import Socioeconomic\n",
    "import setup_analysis as sa\n",
    "import support_functions as sf\n",
    "import importlib\n",
    "import time\n",
    "import warnings\n",
    "import matplotlib.pyplot as plt\n",
    "import sqlalchemy\n",
    "import sqlite3\n",
    "from typing import Union\n",
    "# very useful: https://stackoverflow.com/questions/427453/how-can-i-get-the-source-code-of-a-python-function\n",
    "#print(inspect.getsource(FUNCTIONHERE))\n",
    "import inspect\n",
    "import sql_utilities as sqlutil\n",
    "from julia.api import Julia\n",
    "\n",
    "importlib.reload(ma)\n",
    "importlib.reload(sa)\n",
    "importlib.reload(sf)\n",
    "importlib.reload(mafl)\n",
    "importlib.reload(mc)\n",
    "importlib.reload(mi)\n",
    "importlib.reload(me)\n",
    "importlib.reload(se)\n",
    "importlib.reload(ml)\n"
   ]
  },
  {
   "cell_type": "code",
   "execution_count": 2245,
   "metadata": {},
   "outputs": [],
   "source": [
    "dir_read = \"/Users/jsyme/Downloads\"\n",
    "df_afolu = pd.read_csv(os.path.join(dir_read, \"data_complete_future_2022_08_18_test2.csv\")).rename(columns = {\"Nation\": \"nation\"})\n",
    "df_ippu = pd.read_csv(os.path.join(dir_read, \"data_complete_future_2022_06_21.csv\"))\n",
    "df_ce = pd.read_csv(os.path.join(dir_read, \"data_complete_future_2022_06_13-2.csv\"))\n",
    "\n",
    "country = \"colombia\"\n",
    "\n",
    "df_input = df_afolu\n",
    "#df_input = pd.merge(df_input, df_ippu.drop([x for x in df_ippu.columns if (x in set(df_input.columns) - set([\"time_period\", \"nation\"]))], axis = 1))\n",
    "#df_input = pd.merge(df_input, df_ce.drop([x for x in df_ce.columns if (x in set(df_input.columns) - set([\"time_period\", \"nation\"]))], axis = 1))\n",
    "\n",
    "all_vars = list(sa.model_attributes.dict_variables_to_model_variables.keys())\n",
    "df_input = df_input[df_input[\"nation\"] == country][[\"time_period\"] + [x for x in df_input.columns if x in all_vars]]\n",
    "\n",
    "\n",
    "luf = 1\n",
    "df_input[\"lndu_reallocation_factor\"] = luf\n",
    "df_input[\"frac_gnrl_eating_red_meat\"] = [0.95, 0.95, 0.95] + [(0.95 - x*0.015) for x in range(33)]\n"
   ]
  },
  {
   "cell_type": "code",
   "execution_count": 2342,
   "metadata": {},
   "outputs": [],
   "source": [
    "def adj_df_afolu(df_afolu):\n",
    "    \n",
    "    dict_max_probs = {\n",
    "        \"pij_lndu_forests_primary_to_forests_secondary\": 0.00005, \n",
    "        \"pij_lndu_forests_primary_to_other\": 0.0001, \n",
    "        \"pij_lndu_forests_primary_to_settlements\": 0.00001,\n",
    "        \"pij_lndu_forests_primary_to_forests_mangroves\": 0.00001\n",
    "    }\n",
    "    \n",
    "    elast_agrc = [x for x in df_afolu.columns if (\"elasticity_agrc\" in x) or (\"elasticity_lvst\" in x)]\n",
    "    elast_lvst = [x for x in df_afolu.columns if (\"elasticity_lvst\" in x)]\n",
    "\n",
    "    for x in elast_agrc:\n",
    "        df_afolu[x] = sf.vec_bounds(np.array(df_afolu[x])/5, (0, 0.1))\n",
    "\n",
    "    for x in elast_lvst:\n",
    "        df_afolu[x] = sf.vec_bounds(np.array(df_afolu[x])/10, (0, 0.075))\n",
    "        \n",
    "        \n",
    "    ##  adjust primary forest probabilities\n",
    "    val_add = 0.0\n",
    "    for field in [\n",
    "        \"pij_lndu_forests_primary_to_forests_secondary\", \n",
    "        \"pij_lndu_forests_primary_to_other\", \n",
    "        \"pij_lndu_forests_primary_to_settlements\",\n",
    "        \"pij_lndu_forests_primary_to_forests_mangroves\"\n",
    "    ]:\n",
    "        val_cur = np.array(df_afolu[field])\n",
    "        val_first = val_cur[0] if (field != \"pij_lndu_forests_primary_to_forests_secondary\") else 0.00005\n",
    "\n",
    "        val_excess = sf.vec_bounds(val_cur - val_first, (0, np.inf))\n",
    "        val_add += val_excess\n",
    "\n",
    "        df_afolu[field] = val_cur - val_excess\n",
    "    \n",
    "    field = \"pij_lndu_forests_primary_to_forests_primary\"\n",
    "    df_afolu[field] = np.array(df_afolu[field]) + val_add\n",
    "    \n",
    "    return df_afolu\n"
   ]
  },
  {
   "cell_type": "code",
   "execution_count": 2340,
   "metadata": {},
   "outputs": [
    {
     "data": {
      "text/html": [
       "<div>\n",
       "<style scoped>\n",
       "    .dataframe tbody tr th:only-of-type {\n",
       "        vertical-align: middle;\n",
       "    }\n",
       "\n",
       "    .dataframe tbody tr th {\n",
       "        vertical-align: top;\n",
       "    }\n",
       "\n",
       "    .dataframe thead th {\n",
       "        text-align: right;\n",
       "    }\n",
       "</style>\n",
       "<table border=\"1\" class=\"dataframe\">\n",
       "  <thead>\n",
       "    <tr style=\"text-align: right;\">\n",
       "      <th></th>\n",
       "      <th>croplands</th>\n",
       "      <th>forests_mangroves</th>\n",
       "      <th>forests_primary</th>\n",
       "      <th>forests_secondary</th>\n",
       "      <th>grasslands</th>\n",
       "      <th>other</th>\n",
       "      <th>settlements</th>\n",
       "      <th>wetlands</th>\n",
       "    </tr>\n",
       "  </thead>\n",
       "  <tbody>\n",
       "    <tr>\n",
       "      <th>0</th>\n",
       "      <td>0.001046</td>\n",
       "      <td>0.000254</td>\n",
       "      <td>0.989639</td>\n",
       "      <td>0.00005</td>\n",
       "      <td>0.004316</td>\n",
       "      <td>0.003916</td>\n",
       "      <td>0.00028</td>\n",
       "      <td>0.0005</td>\n",
       "    </tr>\n",
       "  </tbody>\n",
       "</table>\n",
       "</div>"
      ],
      "text/plain": [
       "   croplands  forests_mangroves  forests_primary  forests_secondary  \\\n",
       "0   0.001046           0.000254         0.989639            0.00005   \n",
       "\n",
       "   grasslands     other  settlements  wetlands  \n",
       "0    0.004316  0.003916      0.00028    0.0005  "
      ]
     },
     "execution_count": 2340,
     "metadata": {},
     "output_type": "execute_result"
    }
   ],
   "source": [
    "cats = sa.model_attributes.get_attribute_table(\"Land Use\").key_values\n",
    "\n",
    "pd.DataFrame([model_afolu.mat_trans_adj[-1, 2, :]], columns = cats)"
   ]
  },
  {
   "cell_type": "code",
   "execution_count": 2339,
   "metadata": {},
   "outputs": [
    {
     "data": {
      "text/html": [
       "<div>\n",
       "<style scoped>\n",
       "    .dataframe tbody tr th:only-of-type {\n",
       "        vertical-align: middle;\n",
       "    }\n",
       "\n",
       "    .dataframe tbody tr th {\n",
       "        vertical-align: top;\n",
       "    }\n",
       "\n",
       "    .dataframe thead th {\n",
       "        text-align: right;\n",
       "    }\n",
       "</style>\n",
       "<table border=\"1\" class=\"dataframe\">\n",
       "  <thead>\n",
       "    <tr style=\"text-align: right;\">\n",
       "      <th></th>\n",
       "      <th>croplands</th>\n",
       "      <th>forests_mangroves</th>\n",
       "      <th>forests_primary</th>\n",
       "      <th>forests_secondary</th>\n",
       "      <th>grasslands</th>\n",
       "      <th>other</th>\n",
       "      <th>settlements</th>\n",
       "      <th>wetlands</th>\n",
       "    </tr>\n",
       "  </thead>\n",
       "  <tbody>\n",
       "    <tr>\n",
       "      <th>0</th>\n",
       "      <td>0.001269</td>\n",
       "      <td>0.000028</td>\n",
       "      <td>0.990877</td>\n",
       "      <td>0.00005</td>\n",
       "      <td>0.003001</td>\n",
       "      <td>0.003995</td>\n",
       "      <td>0.00028</td>\n",
       "      <td>0.0005</td>\n",
       "    </tr>\n",
       "  </tbody>\n",
       "</table>\n",
       "</div>"
      ],
      "text/plain": [
       "   croplands  forests_mangroves  forests_primary  forests_secondary  \\\n",
       "0   0.001269           0.000028         0.990877            0.00005   \n",
       "\n",
       "   grasslands     other  settlements  wetlands  \n",
       "0    0.003001  0.003995      0.00028    0.0005  "
      ]
     },
     "execution_count": 2339,
     "metadata": {},
     "output_type": "execute_result"
    }
   ],
   "source": [
    "pd.DataFrame([model_afolu.mat_trans_adj[0, 2, :]], columns = cats)"
   ]
  },
  {
   "cell_type": "code",
   "execution_count": 2354,
   "metadata": {},
   "outputs": [
    {
     "data": {
      "text/plain": [
       "0.8691141982766448"
      ]
     },
     "execution_count": 2354,
     "metadata": {},
     "output_type": "execute_result"
    }
   ],
   "source": [
    "np.cumprod(model_afolu.mat_trans_adj[:, 2, 2])\n"
   ]
  },
  {
   "cell_type": "code",
   "execution_count": 2343,
   "metadata": {},
   "outputs": [
    {
     "data": {
      "text/plain": [
       "<AxesSubplot:>"
      ]
     },
     "execution_count": 2343,
     "metadata": {},
     "output_type": "execute_result"
    },
    {
     "data": {
      "image/png": "[encoded data removed]",
      "text/plain": [
       "<Figure size 432x288 with 1 Axes>"
      ]
     },
     "metadata": {
      "needs_background": "light"
     },
     "output_type": "display_data"
    }
   ],
   "source": [
    "\n",
    "importlib.reload(mafl)\n",
    "model_afolu = mafl.AFOLU(sa.model_attributes);\n",
    "warnings.filterwarnings(\"ignore\")\n",
    "\n",
    "country = \"brazil\"\n",
    "field = \"area_lndu_forests_primary\"\n",
    "\n",
    "dir_read = \"/Users/jsyme/Downloads\"\n",
    "df_afolu = pd.read_csv(os.path.join(dir_read, \"data_complete_future_2022_08_18_test2.csv\")).rename(columns = {\"Nation\": \"nation\"})\n",
    "df_input = df_afolu[df_afolu[\"nation\"] == country][[\"time_period\"] + [x for x in df_afolu.columns if x in all_vars]]\n",
    "df_input = adj_df_afolu(df_input)\n",
    "all_vars = list(sa.model_attributes.dict_variables_to_model_variables.keys())\n",
    "df_input[\"frac_gnrl_eating_red_meat\"] = [0.95, 0.95, 0.95] + [(0.95 - x*0.025) for x in range(33)]\n",
    "\n",
    "df_input[[x for x in df_input.columns if \"pij_lndu_forests_primary\" in x]].iloc[0]\n",
    "df_plot = pd.DataFrame({})\n",
    "\n",
    "for luf in [0, 1]:\n",
    "\n",
    "    df_input[\"lndu_reallocation_factor\"] = luf\n",
    "\n",
    "    df_cs_integrated = pd.read_csv(os.path.join(sa.dir_ref, \"fake_data\", \"fake_data_complete.csv\"))\n",
    "    df_cs_integrated = pd.merge(df_input, df_cs_integrated.drop([x for x in df_cs_integrated.columns if (x in set(df_input.columns) - set([\"time_period\", \"nation\"]))], axis = 1))\n",
    "    # \n",
    "    df_project_afolu = model_afolu.project(df_cs_integrated)\n",
    "    df_cs_integrated = sf.merge_output_df_list([df_cs_integrated, df_project_afolu], sa.model_attributes, \"concatenate\")\n",
    "\n",
    "    df_plot[f\"lu_{luf}\"] = np.array(df_cs_integrated[field])\n",
    "df_plot.plot()"
   ]
  },
  {
   "cell_type": "code",
   "execution_count": 2327,
   "metadata": {},
   "outputs": [
    {
     "data": {
      "text/plain": [
       "pij_lndu_forests_primary_to_croplands            0.000459\n",
       "pij_lndu_forests_primary_to_forests_mangroves    0.000028\n",
       "pij_lndu_forests_primary_to_forests_primary      0.993530\n",
       "pij_lndu_forests_primary_to_forests_secondary    0.000423\n",
       "pij_lndu_forests_primary_to_grasslands           0.000785\n",
       "pij_lndu_forests_primary_to_other                0.003995\n",
       "pij_lndu_forests_primary_to_settlements          0.000280\n",
       "pij_lndu_forests_primary_to_wetlands             0.000500\n",
       "Name: 180, dtype: float64"
      ]
     },
     "execution_count": 2327,
     "metadata": {},
     "output_type": "execute_result"
    }
   ],
   "source": [
    "df_input[[x for x in df_input.columns if \"pij_lndu_forests_primary\" in x]].iloc[0]\n",
    "#df_calc[[x for x in df_calc.columns if \"frac_lndu_init\" in x]]"
   ]
  },
  {
   "cell_type": "code",
   "execution_count": 2297,
   "metadata": {},
   "outputs": [
    {
     "data": {
      "text/plain": [
       "1.9785894206549117"
      ]
     },
     "execution_count": 2297,
     "metadata": {},
     "output_type": "execute_result"
    }
   ],
   "source": [
    "0.001571/0.000794"
   ]
  },
  {
   "cell_type": "code",
   "execution_count": 2311,
   "metadata": {},
   "outputs": [
    {
     "data": {
      "text/plain": [
       "pij_lndu_forests_primary_to_croplands            0.000794\n",
       "pij_lndu_forests_primary_to_forests_mangroves    0.000157\n",
       "pij_lndu_forests_primary_to_forests_primary      0.992149\n",
       "pij_lndu_forests_primary_to_forests_secondary    0.000056\n",
       "pij_lndu_forests_primary_to_grasslands           0.002803\n",
       "pij_lndu_forests_primary_to_other                0.003541\n",
       "pij_lndu_forests_primary_to_settlements          0.000000\n",
       "pij_lndu_forests_primary_to_wetlands             0.000500\n",
       "Name: 200, dtype: float64"
      ]
     },
     "execution_count": 2311,
     "metadata": {},
     "output_type": "execute_result"
    }
   ],
   "source": [
    "df_input[[x for x in df_input.columns if \"pij_lndu_forests_primary\" in x]].iloc[20]"
   ]
  },
  {
   "cell_type": "code",
   "execution_count": 2275,
   "metadata": {},
   "outputs": [
    {
     "data": {
      "text/html": [
       "<div>\n",
       "<style scoped>\n",
       "    .dataframe tbody tr th:only-of-type {\n",
       "        vertical-align: middle;\n",
       "    }\n",
       "\n",
       "    .dataframe tbody tr th {\n",
       "        vertical-align: top;\n",
       "    }\n",
       "\n",
       "    .dataframe thead th {\n",
       "        text-align: right;\n",
       "    }\n",
       "</style>\n",
       "<table border=\"1\" class=\"dataframe\">\n",
       "  <thead>\n",
       "    <tr style=\"text-align: right;\">\n",
       "      <th></th>\n",
       "      <th>time_period</th>\n",
       "      <th>area_forests_initial</th>\n",
       "    </tr>\n",
       "  </thead>\n",
       "  <tbody>\n",
       "    <tr>\n",
       "      <th>0</th>\n",
       "      <td>0</td>\n",
       "      <td>9.649851e+08</td>\n",
       "    </tr>\n",
       "    <tr>\n",
       "      <th>1</th>\n",
       "      <td>1</td>\n",
       "      <td>9.649851e+08</td>\n",
       "    </tr>\n",
       "    <tr>\n",
       "      <th>2</th>\n",
       "      <td>2</td>\n",
       "      <td>9.649851e+08</td>\n",
       "    </tr>\n",
       "    <tr>\n",
       "      <th>3</th>\n",
       "      <td>3</td>\n",
       "      <td>9.649851e+08</td>\n",
       "    </tr>\n",
       "    <tr>\n",
       "      <th>4</th>\n",
       "      <td>4</td>\n",
       "      <td>9.649851e+08</td>\n",
       "    </tr>\n",
       "    <tr>\n",
       "      <th>5</th>\n",
       "      <td>5</td>\n",
       "      <td>9.649851e+08</td>\n",
       "    </tr>\n",
       "    <tr>\n",
       "      <th>6</th>\n",
       "      <td>6</td>\n",
       "      <td>9.649851e+08</td>\n",
       "    </tr>\n",
       "    <tr>\n",
       "      <th>7</th>\n",
       "      <td>7</td>\n",
       "      <td>9.649851e+08</td>\n",
       "    </tr>\n",
       "    <tr>\n",
       "      <th>8</th>\n",
       "      <td>8</td>\n",
       "      <td>9.649851e+08</td>\n",
       "    </tr>\n",
       "    <tr>\n",
       "      <th>9</th>\n",
       "      <td>9</td>\n",
       "      <td>9.649851e+08</td>\n",
       "    </tr>\n",
       "    <tr>\n",
       "      <th>10</th>\n",
       "      <td>10</td>\n",
       "      <td>9.649851e+08</td>\n",
       "    </tr>\n",
       "    <tr>\n",
       "      <th>11</th>\n",
       "      <td>11</td>\n",
       "      <td>9.649851e+08</td>\n",
       "    </tr>\n",
       "    <tr>\n",
       "      <th>12</th>\n",
       "      <td>12</td>\n",
       "      <td>9.649851e+08</td>\n",
       "    </tr>\n",
       "    <tr>\n",
       "      <th>13</th>\n",
       "      <td>13</td>\n",
       "      <td>9.649851e+08</td>\n",
       "    </tr>\n",
       "    <tr>\n",
       "      <th>14</th>\n",
       "      <td>14</td>\n",
       "      <td>9.649851e+08</td>\n",
       "    </tr>\n",
       "    <tr>\n",
       "      <th>15</th>\n",
       "      <td>15</td>\n",
       "      <td>9.649851e+08</td>\n",
       "    </tr>\n",
       "    <tr>\n",
       "      <th>16</th>\n",
       "      <td>16</td>\n",
       "      <td>9.649851e+08</td>\n",
       "    </tr>\n",
       "    <tr>\n",
       "      <th>17</th>\n",
       "      <td>17</td>\n",
       "      <td>9.649851e+08</td>\n",
       "    </tr>\n",
       "    <tr>\n",
       "      <th>18</th>\n",
       "      <td>18</td>\n",
       "      <td>9.649851e+08</td>\n",
       "    </tr>\n",
       "    <tr>\n",
       "      <th>19</th>\n",
       "      <td>19</td>\n",
       "      <td>9.649851e+08</td>\n",
       "    </tr>\n",
       "    <tr>\n",
       "      <th>20</th>\n",
       "      <td>20</td>\n",
       "      <td>9.649851e+08</td>\n",
       "    </tr>\n",
       "    <tr>\n",
       "      <th>21</th>\n",
       "      <td>21</td>\n",
       "      <td>9.649851e+08</td>\n",
       "    </tr>\n",
       "    <tr>\n",
       "      <th>22</th>\n",
       "      <td>22</td>\n",
       "      <td>9.649851e+08</td>\n",
       "    </tr>\n",
       "    <tr>\n",
       "      <th>23</th>\n",
       "      <td>23</td>\n",
       "      <td>9.649851e+08</td>\n",
       "    </tr>\n",
       "    <tr>\n",
       "      <th>24</th>\n",
       "      <td>24</td>\n",
       "      <td>9.649851e+08</td>\n",
       "    </tr>\n",
       "    <tr>\n",
       "      <th>25</th>\n",
       "      <td>25</td>\n",
       "      <td>9.649851e+08</td>\n",
       "    </tr>\n",
       "    <tr>\n",
       "      <th>26</th>\n",
       "      <td>26</td>\n",
       "      <td>9.649851e+08</td>\n",
       "    </tr>\n",
       "    <tr>\n",
       "      <th>27</th>\n",
       "      <td>27</td>\n",
       "      <td>9.649851e+08</td>\n",
       "    </tr>\n",
       "    <tr>\n",
       "      <th>28</th>\n",
       "      <td>28</td>\n",
       "      <td>9.649851e+08</td>\n",
       "    </tr>\n",
       "    <tr>\n",
       "      <th>29</th>\n",
       "      <td>29</td>\n",
       "      <td>9.649851e+08</td>\n",
       "    </tr>\n",
       "    <tr>\n",
       "      <th>30</th>\n",
       "      <td>30</td>\n",
       "      <td>9.649851e+08</td>\n",
       "    </tr>\n",
       "    <tr>\n",
       "      <th>31</th>\n",
       "      <td>31</td>\n",
       "      <td>9.649851e+08</td>\n",
       "    </tr>\n",
       "    <tr>\n",
       "      <th>32</th>\n",
       "      <td>32</td>\n",
       "      <td>9.649851e+08</td>\n",
       "    </tr>\n",
       "    <tr>\n",
       "      <th>33</th>\n",
       "      <td>33</td>\n",
       "      <td>9.649851e+08</td>\n",
       "    </tr>\n",
       "    <tr>\n",
       "      <th>34</th>\n",
       "      <td>34</td>\n",
       "      <td>9.649851e+08</td>\n",
       "    </tr>\n",
       "    <tr>\n",
       "      <th>35</th>\n",
       "      <td>35</td>\n",
       "      <td>9.649851e+08</td>\n",
       "    </tr>\n",
       "  </tbody>\n",
       "</table>\n",
       "</div>"
      ],
      "text/plain": [
       "    time_period  area_forests_initial\n",
       "0             0          9.649851e+08\n",
       "1             1          9.649851e+08\n",
       "2             2          9.649851e+08\n",
       "3             3          9.649851e+08\n",
       "4             4          9.649851e+08\n",
       "5             5          9.649851e+08\n",
       "6             6          9.649851e+08\n",
       "7             7          9.649851e+08\n",
       "8             8          9.649851e+08\n",
       "9             9          9.649851e+08\n",
       "10           10          9.649851e+08\n",
       "11           11          9.649851e+08\n",
       "12           12          9.649851e+08\n",
       "13           13          9.649851e+08\n",
       "14           14          9.649851e+08\n",
       "15           15          9.649851e+08\n",
       "16           16          9.649851e+08\n",
       "17           17          9.649851e+08\n",
       "18           18          9.649851e+08\n",
       "19           19          9.649851e+08\n",
       "20           20          9.649851e+08\n",
       "21           21          9.649851e+08\n",
       "22           22          9.649851e+08\n",
       "23           23          9.649851e+08\n",
       "24           24          9.649851e+08\n",
       "25           25          9.649851e+08\n",
       "26           26          9.649851e+08\n",
       "27           27          9.649851e+08\n",
       "28           28          9.649851e+08\n",
       "29           29          9.649851e+08\n",
       "30           30          9.649851e+08\n",
       "31           31          9.649851e+08\n",
       "32           32          9.649851e+08\n",
       "33           33          9.649851e+08\n",
       "34           34          9.649851e+08\n",
       "35           35          9.649851e+08"
      ]
     },
     "execution_count": 2275,
     "metadata": {},
     "output_type": "execute_result"
    }
   ],
   "source": [
    "df_calc = df_afolu.copy()\n",
    "df_calc[\"area_forests_initial\"] = np.array(df_calc[\"area_gnrl_country_ha\"])*np.array(df_calc[\"frac_lndu_initial_forests_primary\"])\n",
    "\n",
    "df_calc = df_calc[[\"time_period\", \"area_forests_initial\"]].groupby([\"time_period\"]).agg({\n",
    "    \"time_period\": \"first\", \"area_forests_initial\": \"sum\"\n",
    "}).reset_index(drop = True)\n",
    "\n",
    "df_calc"
   ]
  },
  {
   "cell_type": "code",
   "execution_count": 2260,
   "metadata": {},
   "outputs": [
    {
     "data": {
      "text/plain": [
       "pij_lndu_forests_primary_to_croplands            0.000710\n",
       "pij_lndu_forests_primary_to_forests_mangroves    0.000125\n",
       "pij_lndu_forests_primary_to_forests_primary      0.989272\n",
       "pij_lndu_forests_primary_to_forests_secondary    0.001886\n",
       "pij_lndu_forests_primary_to_grasslands           0.002298\n",
       "pij_lndu_forests_primary_to_other                0.003961\n",
       "pij_lndu_forests_primary_to_settlements          0.001248\n",
       "pij_lndu_forests_primary_to_wetlands             0.000500\n",
       "Name: 195, dtype: float64"
      ]
     },
     "execution_count": 2260,
     "metadata": {},
     "output_type": "execute_result"
    }
   ],
   "source": [
    "df_input[[x for x in df_input.columns if \"pij_lndu_forests_primary\" in x]].iloc[15]"
   ]
  },
  {
   "cell_type": "code",
   "execution_count": 2259,
   "metadata": {},
   "outputs": [
    {
     "data": {
      "text/plain": [
       "array([0.99339565, 0.99325059, 0.99296756, 0.99271194, 0.99243243,\n",
       "       0.99215408, 0.99187514, 0.9915964 , 0.99131797, 0.99103999,\n",
       "       0.99076468, 0.99048762, 0.99021095, 0.98993483, 0.98965927,\n",
       "       0.98938766, 0.98911359, 0.98884032, 0.98856797, 0.98829665,\n",
       "       0.98803011, 0.98776145, 0.98749435, 0.98722908, 0.98696594,\n",
       "       0.98670938, 0.98645194, 0.98619815, 0.98594885, 0.98570511,\n",
       "       0.98547342, 0.985246  , 0.98503061, 0.98483157, 0.98465559,\n",
       "       0.98359454])"
      ]
     },
     "execution_count": 2259,
     "metadata": {},
     "output_type": "execute_result"
    }
   ],
   "source": [
    "model_afolu.mat_trans_adj[:,2,2]"
   ]
  },
  {
   "cell_type": "code",
   "execution_count": 2216,
   "metadata": {
    "collapsed": true,
    "jupyter": {
     "outputs_hidden": true
    }
   },
   "outputs": [
    {
     "name": "stdout",
     "output_type": "stream",
     "text": [
      "jere\n",
      "jere\n",
      "jere\n",
      "jere\n",
      "jere\n",
      "jere\n",
      "jere\n",
      "jere\n",
      "jere\n",
      "jere\n",
      "jere\n",
      "jere\n",
      "jere\n",
      "jere\n",
      "jere\n",
      "jere\n",
      "jere\n",
      "jere\n",
      "jere\n",
      "jere\n",
      "jere\n",
      "jere\n",
      "jere\n",
      "jere\n",
      "jere\n",
      "jere\n",
      "jere\n",
      "jere\n",
      "jere\n",
      "jere\n",
      "jere\n",
      "jere\n",
      "jere\n",
      "jere\n",
      "jere\n"
     ]
    }
   ],
   "source": [
    "importlib.reload(ma)\n",
    "importlib.reload(mc)\n",
    "importlib.reload(me)\n",
    "importlib.reload(mafl)\n",
    "\n",
    "warnings.filterwarnings(\"ignore\")\n",
    "\n",
    "df_cs_integrated = pd.read_csv(os.path.join(sa.dir_ref, \"fake_data\", \"fake_data_complete.csv\"))\n",
    "df_cs_integrated = pd.merge(df_input, df_cs_integrated.drop([x for x in df_cs_integrated.columns if (x in set(df_input.columns) - set([\"time_period\", \"nation\"]))], axis = 1))\n",
    "\n",
    "\n",
    "\n",
    "model_afolu = mafl.AFOLU(sa.model_attributes);\n",
    "model_circecon = mc.CircularEconomy(sa.model_attributes);\n",
    "model_ippu = mi.IPPU(sa.model_attributes);\n",
    "model_energy = me.NonElectricEnergy(sa.model_attributes);\n",
    "\n",
    "# \n",
    "df_project_afolu = model_afolu.project(df_cs_integrated)\n",
    "df_cs_integrated = sf.merge_output_df_list([df_cs_integrated, df_project_afolu], sa.model_attributes, \"concatenate\")\n",
    "\n",
    "if False:\n",
    "    # pass integrated df\n",
    "    df_project_ce = model_circecon.project(df_cs_integrated)\n",
    "    df_cs_integrated = sf.merge_output_df_list([df_cs_integrated, df_project_ce], sa.model_attributes, \"concatenate\")\n",
    "\n",
    "    # pass integrated df\n",
    "    df_project_ip = model_ippu.project(df_cs_integrated)\n",
    "    df_cs_integrated = sf.merge_output_df_list([df_cs_integrated, df_project_ip], sa.model_attributes, \"concatenate\")\n",
    "\n",
    "    # pass integrated df\n",
    "    df_project_en = model_energy.project(df_cs_integrated)\n",
    "    df_cs_integrated = sf.merge_output_df_list([df_cs_integrated, df_project_en], sa.model_attributes, \"concatenate\")\n",
    "\n",
    "field = \"area_lndu_forests_primary\"#\"area_lndu_conversion_from_forests_primary\"\n",
    "if luf == 0:\n",
    "    df_lu0 = df_cs_integrated[[x for x in df_cs_integrated.columns if (field in x)]].copy()\n",
    "elif luf ==1:\n",
    "    df_lu1 = df_cs_integrated[[x for x in df_cs_integrated.columns if (field in x)]].copy()\n",
    "\n",
    "\n",
    "df_lu0.rename(columns = {field: \"lu0\"}, inplace = True)\n",
    "df_lu1.rename(columns = {field: \"lu1\"}, inplace = True)\n",
    "\n",
    "df_plot = pd.concat([df_lu0, df_lu1], axis = 1).reset_index(drop = True)"
   ]
  },
  {
   "cell_type": "code",
   "execution_count": 2218,
   "metadata": {},
   "outputs": [],
   "source": [
    "#df_cs_integrated[[x for x in df_cs_integrated.columns if ((\"gdp_mmm_usd\" in x) or (\"population_gnrl_total\" in x))]]\n",
    " \n",
    "#df_cs_integrated[[x for x in df_cs_integrated.columns if \"pij_lndu_forests_primary\" in x]]\n",
    "\n",
    "#df_cs_integrated[[x for x in df_cs_integrated.columns if (\"area_lndu_forests_primary\" in x)]]     \n",
    "\n"
   ]
  },
  {
   "cell_type": "code",
   "execution_count": null,
   "metadata": {},
   "outputs": [],
   "source": []
  },
  {
   "cell_type": "code",
   "execution_count": null,
   "metadata": {},
   "outputs": [],
   "source": []
  },
  {
   "cell_type": "code",
   "execution_count": 2185,
   "metadata": {},
   "outputs": [
    {
     "data": {
      "text/plain": [
       "<AxesSubplot:>"
      ]
     },
     "execution_count": 2185,
     "metadata": {},
     "output_type": "execute_result"
    },
    {
     "data": {
      "image/png": "[encoded data removed]",
      "text/plain": [
       "<Figure size 432x288 with 1 Axes>"
      ]
     },
     "metadata": {
      "needs_background": "light"
     },
     "output_type": "display_data"
    }
   ],
   "source": [
    "\n",
    "#fig, ax = plt.subplots(figsize = (12, 10))\n",
    "#df_cs_integrated[][x for x in df_cs_integrated.columns if (\"emission_co2e\" in x) and (\"agrc\" in x)]].plot(ax = ax)#.area(ax = ax)\n",
    "# land \n",
    "#df_lu0 = df_cs_integrated[[x for x in df_cs_integrated.columns if (\"area_lndu_conversion_from_forests_primary\" in x)]].copy()\n",
    "\n",
    "df_plot.plot()\n",
    "\n"
   ]
  },
  {
   "cell_type": "code",
   "execution_count": 2093,
   "metadata": {},
   "outputs": [],
   "source": [
    "#tr0 = model_afolu.mat_trans_adj.copy()\n",
    "#tr1 = model_afolu.mat_trans_adj.copy()"
   ]
  },
  {
   "cell_type": "code",
   "execution_count": 2074,
   "metadata": {},
   "outputs": [
    {
     "data": {
      "text/plain": [
       "array([ 3.85972454e-05, -7.70521599e-06, -8.74258873e-06, -9.75101965e-06,\n",
       "       -1.07746579e-05, -5.50289750e-06, -6.27545724e-06, -7.07721973e-06,\n",
       "       -7.90754735e-06, -8.76578609e-06, -6.63943805e-06, -7.63320988e-06,\n",
       "       -8.65855879e-06, -9.71372407e-06, -1.07969735e-05, -1.53283996e-05,\n",
       "       -1.65677148e-05, -1.78315084e-05, -1.91182671e-05, -2.04266033e-05,\n",
       "       -2.45031962e-05, -2.59715589e-05, -2.74589276e-05, -2.89638582e-05,\n",
       "       -3.04848332e-05, -3.55468046e-05, -3.72262696e-05, -3.89200733e-05,\n",
       "       -4.06267000e-05, -4.23447936e-05, -4.89105518e-05, -5.08092771e-05,\n",
       "       -5.27190619e-05, -5.46383982e-05, -5.65659154e-05,  0.00000000e+00])"
      ]
     },
     "execution_count": 2074,
     "metadata": {},
     "output_type": "execute_result"
    }
   ],
   "source": [
    "np.round(tr0[0], 3)\n",
    "tr0[:, 2, 2] - tr1[:, 2, 2]"
   ]
  },
  {
   "cell_type": "code",
   "execution_count": 2069,
   "metadata": {},
   "outputs": [
    {
     "data": {
      "text/plain": [
       "array([0.99349126, 0.99325365, 0.99297088, 0.99268797, 0.99240519,\n",
       "       0.99211601, 0.99183297, 0.99154986, 0.99126678, 0.99098383,\n",
       "       0.99069779, 0.99041498, 0.99013211, 0.9898493 , 0.98956651,\n",
       "       0.98928718, 0.98900455, 0.98872195, 0.98843937, 0.98815682,\n",
       "       0.98787703, 0.98759463, 0.98731225, 0.98702989, 0.98674755,\n",
       "       0.98646874, 0.98618656, 0.98590439, 0.98562223, 0.98534008,\n",
       "       0.98506278, 0.98478081, 0.98449886, 0.98421691, 0.98393497,\n",
       "       0.98359454])"
      ]
     },
     "execution_count": 2069,
     "metadata": {},
     "output_type": "execute_result"
    }
   ],
   "source": [
    "np.round(tr1[0], 3)\n"
   ]
  },
  {
   "cell_type": "code",
   "execution_count": 1989,
   "metadata": {},
   "outputs": [
    {
     "data": {
      "text/plain": [
       "<AxesSubplot:>"
      ]
     },
     "execution_count": 1989,
     "metadata": {},
     "output_type": "execute_result"
    },
    {
     "data": {
      "image/png": "[encoded data removed]",
      "text/plain": [
       "<Figure size 432x288 with 1 Axes>"
      ]
     },
     "metadata": {
      "needs_background": "light"
     },
     "output_type": "display_data"
    }
   ],
   "source": [
    "df_lu0.rename(columns = {\"area_lndu_conversion_from_forests_primary\": \"lu0\"}, inplace = True)\n",
    "df_lu1.rename(columns = {\"area_lndu_conversion_from_forests_primary\": \"lu1\"}, inplace = True)\n",
    "\n",
    "df_plot = pd.concat([df_lu0, df_lu1], axis = 1).reset_index(drop = True)\n",
    "df_plot.plot()\n"
   ]
  },
  {
   "cell_type": "code",
   "execution_count": 1859,
   "metadata": {},
   "outputs": [],
   "source": [
    "df_tmp = pd.read_csv(os.path.join(sa.dir_ref, \"fake_data\", \"fake_data_complete.csv\"))\n",
    "df_tmp.iloc[0:11].to_csv(os.path.join(sa.dir_ref, \"fake_data\", \"fake_data_complete_.csv\"), index = None, encoding = \"UTF-8\")"
   ]
  },
  {
   "cell_type": "code",
   "execution_count": 1872,
   "metadata": {},
   "outputs": [
    {
     "data": {
      "text/plain": [
       "['emission_co2e_n2o_agrc_biomass_burning',\n",
       " 'emission_co2e_n2o_agrc_crop_residues',\n",
       " 'emission_co2e_n2o_ccsq_direct_air_capture',\n",
       " 'emission_co2e_n2o_fgtv_fuel_coal',\n",
       " 'emission_co2e_n2o_fgtv_fuel_natural_gas',\n",
       " 'emission_co2e_n2o_fgtv_fuel_oil',\n",
       " 'emission_co2e_n2o_inen_cement',\n",
       " 'emission_co2e_n2o_inen_chemicals',\n",
       " 'emission_co2e_n2o_inen_electronics',\n",
       " 'emission_co2e_n2o_inen_glass',\n",
       " 'emission_co2e_n2o_inen_lime_and_carbonite',\n",
       " 'emission_co2e_n2o_inen_metals',\n",
       " 'emission_co2e_n2o_inen_other_product_manufacturing',\n",
       " 'emission_co2e_n2o_inen_paper',\n",
       " 'emission_co2e_n2o_inen_plastic',\n",
       " 'emission_co2e_n2o_inen_recycled_glass',\n",
       " 'emission_co2e_n2o_inen_recycled_metals',\n",
       " 'emission_co2e_n2o_inen_recycled_paper',\n",
       " 'emission_co2e_n2o_inen_recycled_plastic',\n",
       " 'emission_co2e_n2o_inen_recycled_rubber_and_leather',\n",
       " 'emission_co2e_n2o_inen_recycled_textiles',\n",
       " 'emission_co2e_n2o_inen_recycled_wood',\n",
       " 'emission_co2e_n2o_inen_rubber_and_leather',\n",
       " 'emission_co2e_n2o_inen_textiles',\n",
       " 'emission_co2e_n2o_ippu_chemicals',\n",
       " 'emission_co2e_n2o_ippu_other_product_manufacturing',\n",
       " 'emission_co2e_n2o_ippu_paper',\n",
       " 'emission_co2e_n2o_ippu_plastic',\n",
       " 'emission_co2e_n2o_lsmm_anaerobic_digester',\n",
       " 'emission_co2e_n2o_lsmm_anaerobic_lagoon',\n",
       " 'emission_co2e_n2o_lsmm_composting',\n",
       " 'emission_co2e_n2o_lsmm_daily_spread',\n",
       " 'emission_co2e_n2o_lsmm_deep_bedding',\n",
       " 'emission_co2e_n2o_lsmm_dry_lot',\n",
       " 'emission_co2e_n2o_lsmm_incineration',\n",
       " 'emission_co2e_n2o_lsmm_liquid_slurry',\n",
       " 'emission_co2e_n2o_lsmm_paddock_pasture_range',\n",
       " 'emission_co2e_n2o_lsmm_poultry_manure',\n",
       " 'emission_co2e_n2o_lsmm_storage_solid',\n",
       " 'emission_co2e_n2o_power_generation_pp_biogas',\n",
       " 'emission_co2e_n2o_power_generation_pp_biomass',\n",
       " 'emission_co2e_n2o_power_generation_pp_coal',\n",
       " 'emission_co2e_n2o_power_generation_pp_gas',\n",
       " 'emission_co2e_n2o_power_generation_pp_geothermal',\n",
       " 'emission_co2e_n2o_power_generation_pp_hydropower',\n",
       " 'emission_co2e_n2o_power_generation_pp_nuclear',\n",
       " 'emission_co2e_n2o_power_generation_pp_ocean',\n",
       " 'emission_co2e_n2o_power_generation_pp_oil',\n",
       " 'emission_co2e_n2o_power_generation_pp_solar',\n",
       " 'emission_co2e_n2o_power_generation_pp_waste_incineration',\n",
       " 'emission_co2e_n2o_power_generation_pp_wind',\n",
       " 'emission_co2e_n2o_scoe_commercial_municipal',\n",
       " 'emission_co2e_n2o_scoe_other_se',\n",
       " 'emission_co2e_n2o_scoe_residential',\n",
       " 'emission_co2e_n2o_soil_fertilizer',\n",
       " 'emission_co2e_n2o_soil_mineral_soils',\n",
       " 'emission_co2e_n2o_soil_organic_soils',\n",
       " 'emission_co2e_n2o_soil_paddock_pasture_range',\n",
       " 'emission_co2e_n2o_trns_aviation',\n",
       " 'emission_co2e_n2o_trns_human_powered',\n",
       " 'emission_co2e_n2o_trns_powered_bikes',\n",
       " 'emission_co2e_n2o_trns_public',\n",
       " 'emission_co2e_n2o_trns_rail_freight',\n",
       " 'emission_co2e_n2o_trns_rail_passenger',\n",
       " 'emission_co2e_n2o_trns_road_heavy_freight',\n",
       " 'emission_co2e_n2o_trns_road_heavy_regional',\n",
       " 'emission_co2e_n2o_trns_road_light',\n",
       " 'emission_co2e_n2o_trns_water_borne',\n",
       " 'emission_co2e_n2o_trww_treated_advanced_aerobic_effluent',\n",
       " 'emission_co2e_n2o_trww_treated_advanced_aerobic_treatment',\n",
       " 'emission_co2e_n2o_trww_treated_advanced_anaerobic_effluent',\n",
       " 'emission_co2e_n2o_trww_treated_advanced_anaerobic_treatment',\n",
       " 'emission_co2e_n2o_trww_treated_latrine_improved_effluent',\n",
       " 'emission_co2e_n2o_trww_treated_latrine_improved_treatment',\n",
       " 'emission_co2e_n2o_trww_treated_latrine_unimproved_effluent',\n",
       " 'emission_co2e_n2o_trww_treated_latrine_unimproved_treatment',\n",
       " 'emission_co2e_n2o_trww_treated_primary_effluent',\n",
       " 'emission_co2e_n2o_trww_treated_primary_treatment',\n",
       " 'emission_co2e_n2o_trww_treated_secondary_aerobic_effluent',\n",
       " 'emission_co2e_n2o_trww_treated_secondary_aerobic_treatment',\n",
       " 'emission_co2e_n2o_trww_treated_secondary_anaerobic_effluent',\n",
       " 'emission_co2e_n2o_trww_treated_secondary_anaerobic_treatment',\n",
       " 'emission_co2e_n2o_trww_treated_septic_effluent',\n",
       " 'emission_co2e_n2o_trww_treated_septic_treatment',\n",
       " 'emission_co2e_n2o_trww_untreated_no_sewerage_effluent',\n",
       " 'emission_co2e_n2o_trww_untreated_no_sewerage_treatment',\n",
       " 'emission_co2e_n2o_trww_untreated_with_sewerage_effluent',\n",
       " 'emission_co2e_n2o_trww_untreated_with_sewerage_treatment',\n",
       " 'emission_co2e_n2o_waso_compost_food',\n",
       " 'emission_co2e_n2o_waso_compost_sludge',\n",
       " 'emission_co2e_n2o_waso_compost_yard',\n",
       " 'emission_co2e_n2o_waso_incineration']"
      ]
     },
     "execution_count": 1872,
     "metadata": {},
     "output_type": "execute_result"
    }
   ],
   "source": [
    "[x for x in df_in.columns if \"emission_co2e_n2o_\" in x]"
   ]
  },
  {
   "cell_type": "code",
   "execution_count": 1877,
   "metadata": {
    "collapsed": true,
    "jupyter": {
     "outputs_hidden": true
    }
   },
   "outputs": [
    {
     "data": {
      "text/plain": [
       "<AxesSubplot:>"
      ]
     },
     "execution_count": 1877,
     "metadata": {},
     "output_type": "execute_result"
    },
    {
     "data": {
      "image/png": "[encoded data removed]",
      "text/plain": [
       "<Figure size 864x720 with 1 Axes>"
      ]
     },
     "metadata": {
      "needs_background": "light"
     },
     "output_type": "display_data"
    }
   ],
   "source": [
    "df_in = pd.read_csv(\"/Users/jsyme/Documents/Projects/git_jbus/lac_decarbonization/out/single_run_output.csv\")\n",
    "\n",
    "fig, ax = plt.subplots(figsize = (12, 10))\n",
    "df_in[[x for x in df_in.columns if \"emission_co2e_subsector\" in x]].plot.area(ax = ax)\n"
   ]
  },
  {
   "cell_type": "code",
   "execution_count": 1879,
   "metadata": {},
   "outputs": [
    {
     "data": {
      "text/html": [
       "<div>\n",
       "<style scoped>\n",
       "    .dataframe tbody tr th:only-of-type {\n",
       "        vertical-align: middle;\n",
       "    }\n",
       "\n",
       "    .dataframe tbody tr th {\n",
       "        vertical-align: top;\n",
       "    }\n",
       "\n",
       "    .dataframe thead th {\n",
       "        text-align: right;\n",
       "    }\n",
       "</style>\n",
       "<table border=\"1\" class=\"dataframe\">\n",
       "  <thead>\n",
       "    <tr style=\"text-align: right;\">\n",
       "      <th></th>\n",
       "      <th>exports_enfu_unused_fuel_biogas_pj</th>\n",
       "      <th>exports_enfu_unused_fuel_waste_pj</th>\n",
       "    </tr>\n",
       "  </thead>\n",
       "  <tbody>\n",
       "    <tr>\n",
       "      <th>0</th>\n",
       "      <td>2.605308</td>\n",
       "      <td>3.102058</td>\n",
       "    </tr>\n",
       "    <tr>\n",
       "      <th>1</th>\n",
       "      <td>2.787295</td>\n",
       "      <td>3.189526</td>\n",
       "    </tr>\n",
       "    <tr>\n",
       "      <th>2</th>\n",
       "      <td>2.932082</td>\n",
       "      <td>3.231930</td>\n",
       "    </tr>\n",
       "    <tr>\n",
       "      <th>3</th>\n",
       "      <td>3.065398</td>\n",
       "      <td>3.260719</td>\n",
       "    </tr>\n",
       "    <tr>\n",
       "      <th>4</th>\n",
       "      <td>3.186943</td>\n",
       "      <td>3.293954</td>\n",
       "    </tr>\n",
       "    <tr>\n",
       "      <th>5</th>\n",
       "      <td>3.298882</td>\n",
       "      <td>3.324919</td>\n",
       "    </tr>\n",
       "    <tr>\n",
       "      <th>6</th>\n",
       "      <td>3.402178</td>\n",
       "      <td>3.359305</td>\n",
       "    </tr>\n",
       "    <tr>\n",
       "      <th>7</th>\n",
       "      <td>3.535653</td>\n",
       "      <td>3.431559</td>\n",
       "    </tr>\n",
       "    <tr>\n",
       "      <th>8</th>\n",
       "      <td>3.665998</td>\n",
       "      <td>3.509649</td>\n",
       "    </tr>\n",
       "    <tr>\n",
       "      <th>9</th>\n",
       "      <td>3.794507</td>\n",
       "      <td>3.593637</td>\n",
       "    </tr>\n",
       "    <tr>\n",
       "      <th>10</th>\n",
       "      <td>3.922332</td>\n",
       "      <td>3.679743</td>\n",
       "    </tr>\n",
       "    <tr>\n",
       "      <th>11</th>\n",
       "      <td>4.049957</td>\n",
       "      <td>3.768051</td>\n",
       "    </tr>\n",
       "    <tr>\n",
       "      <th>12</th>\n",
       "      <td>4.177819</td>\n",
       "      <td>3.858639</td>\n",
       "    </tr>\n",
       "    <tr>\n",
       "      <th>13</th>\n",
       "      <td>4.306309</td>\n",
       "      <td>3.951592</td>\n",
       "    </tr>\n",
       "    <tr>\n",
       "      <th>14</th>\n",
       "      <td>4.435783</td>\n",
       "      <td>4.046997</td>\n",
       "    </tr>\n",
       "    <tr>\n",
       "      <th>15</th>\n",
       "      <td>4.566566</td>\n",
       "      <td>4.144945</td>\n",
       "    </tr>\n",
       "    <tr>\n",
       "      <th>16</th>\n",
       "      <td>4.698958</td>\n",
       "      <td>4.245532</td>\n",
       "    </tr>\n",
       "    <tr>\n",
       "      <th>17</th>\n",
       "      <td>4.833239</td>\n",
       "      <td>4.348869</td>\n",
       "    </tr>\n",
       "    <tr>\n",
       "      <th>18</th>\n",
       "      <td>4.969673</td>\n",
       "      <td>4.455059</td>\n",
       "    </tr>\n",
       "    <tr>\n",
       "      <th>19</th>\n",
       "      <td>5.108512</td>\n",
       "      <td>4.564230</td>\n",
       "    </tr>\n",
       "    <tr>\n",
       "      <th>20</th>\n",
       "      <td>5.249999</td>\n",
       "      <td>4.676500</td>\n",
       "    </tr>\n",
       "    <tr>\n",
       "      <th>21</th>\n",
       "      <td>5.394354</td>\n",
       "      <td>4.791972</td>\n",
       "    </tr>\n",
       "    <tr>\n",
       "      <th>22</th>\n",
       "      <td>5.541815</td>\n",
       "      <td>4.910784</td>\n",
       "    </tr>\n",
       "    <tr>\n",
       "      <th>23</th>\n",
       "      <td>5.692606</td>\n",
       "      <td>5.033060</td>\n",
       "    </tr>\n",
       "    <tr>\n",
       "      <th>24</th>\n",
       "      <td>5.846945</td>\n",
       "      <td>5.158933</td>\n",
       "    </tr>\n",
       "    <tr>\n",
       "      <th>25</th>\n",
       "      <td>6.005050</td>\n",
       "      <td>5.288541</td>\n",
       "    </tr>\n",
       "    <tr>\n",
       "      <th>26</th>\n",
       "      <td>6.167137</td>\n",
       "      <td>5.422022</td>\n",
       "    </tr>\n",
       "    <tr>\n",
       "      <th>27</th>\n",
       "      <td>6.333422</td>\n",
       "      <td>5.559522</td>\n",
       "    </tr>\n",
       "    <tr>\n",
       "      <th>28</th>\n",
       "      <td>6.504120</td>\n",
       "      <td>5.701185</td>\n",
       "    </tr>\n",
       "    <tr>\n",
       "      <th>29</th>\n",
       "      <td>6.679450</td>\n",
       "      <td>5.847154</td>\n",
       "    </tr>\n",
       "    <tr>\n",
       "      <th>30</th>\n",
       "      <td>6.859626</td>\n",
       "      <td>5.997583</td>\n",
       "    </tr>\n",
       "    <tr>\n",
       "      <th>31</th>\n",
       "      <td>7.044873</td>\n",
       "      <td>6.152641</td>\n",
       "    </tr>\n",
       "    <tr>\n",
       "      <th>32</th>\n",
       "      <td>7.235411</td>\n",
       "      <td>6.312501</td>\n",
       "    </tr>\n",
       "    <tr>\n",
       "      <th>33</th>\n",
       "      <td>7.431470</td>\n",
       "      <td>6.477345</td>\n",
       "    </tr>\n",
       "    <tr>\n",
       "      <th>34</th>\n",
       "      <td>7.633285</td>\n",
       "      <td>6.647360</td>\n",
       "    </tr>\n",
       "    <tr>\n",
       "      <th>35</th>\n",
       "      <td>7.841098</td>\n",
       "      <td>6.822740</td>\n",
       "    </tr>\n",
       "  </tbody>\n",
       "</table>\n",
       "</div>"
      ],
      "text/plain": [
       "    exports_enfu_unused_fuel_biogas_pj  exports_enfu_unused_fuel_waste_pj\n",
       "0                             2.605308                           3.102058\n",
       "1                             2.787295                           3.189526\n",
       "2                             2.932082                           3.231930\n",
       "3                             3.065398                           3.260719\n",
       "4                             3.186943                           3.293954\n",
       "5                             3.298882                           3.324919\n",
       "6                             3.402178                           3.359305\n",
       "7                             3.535653                           3.431559\n",
       "8                             3.665998                           3.509649\n",
       "9                             3.794507                           3.593637\n",
       "10                            3.922332                           3.679743\n",
       "11                            4.049957                           3.768051\n",
       "12                            4.177819                           3.858639\n",
       "13                            4.306309                           3.951592\n",
       "14                            4.435783                           4.046997\n",
       "15                            4.566566                           4.144945\n",
       "16                            4.698958                           4.245532\n",
       "17                            4.833239                           4.348869\n",
       "18                            4.969673                           4.455059\n",
       "19                            5.108512                           4.564230\n",
       "20                            5.249999                           4.676500\n",
       "21                            5.394354                           4.791972\n",
       "22                            5.541815                           4.910784\n",
       "23                            5.692606                           5.033060\n",
       "24                            5.846945                           5.158933\n",
       "25                            6.005050                           5.288541\n",
       "26                            6.167137                           5.422022\n",
       "27                            6.333422                           5.559522\n",
       "28                            6.504120                           5.701185\n",
       "29                            6.679450                           5.847154\n",
       "30                            6.859626                           5.997583\n",
       "31                            7.044873                           6.152641\n",
       "32                            7.235411                           6.312501\n",
       "33                            7.431470                           6.477345\n",
       "34                            7.633285                           6.647360\n",
       "35                            7.841098                           6.822740"
      ]
     },
     "execution_count": 1879,
     "metadata": {},
     "output_type": "execute_result"
    }
   ],
   "source": [
    "df_in[[x for x in df_in.columns if \"unused\" in x]]"
   ]
  },
  {
   "cell_type": "code",
   "execution_count": 1515,
   "metadata": {},
   "outputs": [],
   "source": [
    "importlib.reload(sf)\n",
    "importlib.reload(sqlutil)\n",
    "importlib.reload(ml)\n",
    "\n",
    "model_elec = ml.ElectricEnergy(sa.model_attributes, sa.dir_ref_nemo)\n"
   ]
  },
  {
   "cell_type": "code",
   "execution_count": null,
   "metadata": {},
   "outputs": [],
   "source": []
  },
  {
   "cell_type": "code",
   "execution_count": 1416,
   "metadata": {},
   "outputs": [],
   "source": [
    "importlib.reload(me)\n",
    "\n",
    "model_energy = me.NonElectricEnergy(sa.model_attributes)\n",
    "\n",
    "df_out = model_elec.retrieve_output_tables_from_sql(\n",
    "    engine, \n",
    "    df_cs_integrated\n",
    ")\n",
    "\n",
    "df_cs_integrated2 = sf.merge_output_df_list([df_cs_integrated, df_out], sa.model_attributes, \"concatenate\")\n",
    "df_ret = model_energy.project(df_cs_integrated2, subsectors_project = \"Fugitive Emissions\")\n"
   ]
  },
  {
   "cell_type": "code",
   "execution_count": 1245,
   "metadata": {},
   "outputs": [],
   "source": [
    "engine = sqlalchemy.create_engin e(f\"sqlite:///{sa.fp_sqlite_nemomod_db_tmp}\")"
   ]
  },
  {
   "cell_type": "code",
   "execution_count": 1393,
   "metadata": {},
   "outputs": [],
   "source": []
  },
  {
   "cell_type": "code",
   "execution_count": null,
   "metadata": {},
   "outputs": [],
   "source": []
  },
  {
   "cell_type": "code",
   "execution_count": null,
   "metadata": {},
   "outputs": [],
   "source": []
  },
  {
   "cell_type": "code",
   "execution_count": 10,
   "metadata": {},
   "outputs": [],
   "source": [
    "from julia import Base\n",
    "from julia import Pkg\n",
    "Pkg.activate(sa.dir_jl)\n",
    "\n",
    "from julia import NemoMod\n",
    "from julia import Cbc\n",
    "from julia import JuMP\n",
    "from julia import Clp\n"
   ]
  },
  {
   "cell_type": "code",
   "execution_count": null,
   "metadata": {},
   "outputs": [],
   "source": [
    "##  PyJulia commands\n",
    "\n",
    "#NemoMod.createnemodb(sa.fp_sqlite_nemomod_db_tmp)\n"
   ]
  },
  {
   "cell_type": "code",
   "execution_count": null,
   "metadata": {},
   "outputs": [],
   "source": []
  },
  {
   "cell_type": "code",
   "execution_count": null,
   "metadata": {},
   "outputs": [],
   "source": []
  },
  {
   "cell_type": "code",
   "execution_count": 121,
   "metadata": {},
   "outputs": [],
   "source": []
  },
  {
   "cell_type": "code",
   "execution_count": null,
   "metadata": {},
   "outputs": [],
   "source": []
  },
  {
   "cell_type": "code",
   "execution_count": null,
   "metadata": {},
   "outputs": [],
   "source": []
  },
  {
   "cell_type": "code",
   "execution_count": null,
   "metadata": {},
   "outputs": [],
   "source": [
    "?model_elec.format_model_variable_as_nemomod_table"
   ]
  },
  {
   "cell_type": "code",
   "execution_count": 1849,
   "metadata": {},
   "outputs": [
    {
     "name": "stdout",
     "output_type": "stream",
     "text": [
      "Warning in project_enfu_production_and_demands: Variable 'Energy Demand by Fuel in Electricity' not found in the data frame. Its fuel demands will not be included.\n"
     ]
    }
   ],
   "source": [
    "##  GENERATE INPUT DICTIONARY\n",
    "\n",
    "importlib.reload(sf)\n",
    "importlib.reload(ml)\n",
    "model_elec = ml.ElectricEnergy(sa.model_attributes, sa.dir_ref_nemo)\n",
    "fp_in = sa.dict_fp_csv_nemomod.get(sa.model_attributes.table_nemomod_specified_demand_profile)\n",
    "df_spd = pd.read_csv(fp_in)\n",
    "\n",
    "fp_in = sa.dict_fp_csv_nemomod[sa.model_attributes.table_nemomod_capacity_factor]\n",
    "df_capfactor = pd.read_csv(fp_in)\n",
    "\n",
    "#dict_from_storage, dict_to_storage, dict_storage_techs_to_storage = model_elec.format_nemomod_table_technology_from_and_to_storage()\n",
    "t0 =time.time()\n",
    "dict_to_sql = model_elec.generate_input_tables_for_sql(df_cs_integrated, df_capfactor, df_spd);\n",
    "\n",
    "\n",
    "##  REDUCED FOR TESTINS\n",
    "\n",
    "dict_to_sql2 = {}\n",
    "#dict_to_sql2[\"CapacityToActivityUnit\"]\n",
    "write_always = [\n",
    "    \"EMISSION\", \n",
    "    \"FUEL\", \n",
    "    \"MODE_OF_OPERATION\",\n",
    "    \"REGION\",\n",
    "    \"STORAGE\",\n",
    "    \"TECHNOLOGY\",\n",
    "    \"YEAR\",\n",
    "    \"LTsGroup\",\n",
    "    \"TIMESLICE\",\n",
    "    \"TSGROUP1\",\n",
    "    \"TSGROUP2\",\n",
    "    \"YearSplit\"\n",
    "]\n",
    "others = sorted([\n",
    "    x for x in dict_to_sql.keys() if x not in write_always\n",
    "])\n",
    "\n",
    "years_keep = [\"0\", \"1\"]\n",
    "for k in write_always + others:\n",
    "    df_tmp = dict_to_sql[k].copy() \n",
    "    if \"y\" in df_tmp.columns:  \n",
    "        dict_to_sql2[k] = df_tmp[df_tmp[\"y\"].isin(years_keep)].reset_index(drop = True)\n",
    "    elif k == \"YEAR\":\n",
    "        dict_to_sql2[k] = df_tmp[df_tmp[\"val\"].isin(years_keep)].reset_index(drop = True)\n",
    "    else:\n",
    "        dict_to_sql2[k] = df_tmp\n",
    "\n",
    "        \n",
    "dict_to_sql[model_elec.model_attributes.table_nemomod_total_technology_annual_activity_lower_limit][\"val\"] = 0.9*np.array(\n",
    "    dict_to_sql[model_elec.model_attributes.table_nemomod_total_technology_annual_activity_lower_limit][\"val\"] \n",
    ")\n",
    "if True:\n",
    "    #dict_to_sql.pop(model_elec.model_attributes.table_nemomod_total_annual_max_capacity)\n",
    "    sqlutil._write_dataframes_to_db(\n",
    "        dict_to_sql,\n",
    "        engine\n",
    "    )\n"
   ]
  },
  {
   "cell_type": "code",
   "execution_count": 1850,
   "metadata": {},
   "outputs": [
    {
     "data": {
      "text/html": [
       "<div>\n",
       "<style scoped>\n",
       "    .dataframe tbody tr th:only-of-type {\n",
       "        vertical-align: middle;\n",
       "    }\n",
       "\n",
       "    .dataframe tbody tr th {\n",
       "        vertical-align: top;\n",
       "    }\n",
       "\n",
       "    .dataframe thead th {\n",
       "        text-align: right;\n",
       "    }\n",
       "</style>\n",
       "<table border=\"1\" class=\"dataframe\">\n",
       "  <thead>\n",
       "    <tr style=\"text-align: right;\">\n",
       "      <th></th>\n",
       "      <th>id</th>\n",
       "      <th>r</th>\n",
       "      <th>f</th>\n",
       "      <th>y</th>\n",
       "      <th>val</th>\n",
       "    </tr>\n",
       "  </thead>\n",
       "  <tbody>\n",
       "    <tr>\n",
       "      <th>0</th>\n",
       "      <td>1</td>\n",
       "      <td>costa_rica</td>\n",
       "      <td>fuel_electricity</td>\n",
       "      <td>1000</td>\n",
       "      <td>21.398632</td>\n",
       "    </tr>\n",
       "    <tr>\n",
       "      <th>1</th>\n",
       "      <td>2</td>\n",
       "      <td>costa_rica</td>\n",
       "      <td>fuel_electricity</td>\n",
       "      <td>1001</td>\n",
       "      <td>21.785653</td>\n",
       "    </tr>\n",
       "    <tr>\n",
       "      <th>2</th>\n",
       "      <td>3</td>\n",
       "      <td>costa_rica</td>\n",
       "      <td>fuel_electricity</td>\n",
       "      <td>1002</td>\n",
       "      <td>22.150589</td>\n",
       "    </tr>\n",
       "    <tr>\n",
       "      <th>3</th>\n",
       "      <td>4</td>\n",
       "      <td>costa_rica</td>\n",
       "      <td>fuel_electricity</td>\n",
       "      <td>1003</td>\n",
       "      <td>22.466948</td>\n",
       "    </tr>\n",
       "    <tr>\n",
       "      <th>4</th>\n",
       "      <td>5</td>\n",
       "      <td>costa_rica</td>\n",
       "      <td>fuel_electricity</td>\n",
       "      <td>1004</td>\n",
       "      <td>22.801719</td>\n",
       "    </tr>\n",
       "  </tbody>\n",
       "</table>\n",
       "</div>"
      ],
      "text/plain": [
       "   id           r                 f     y        val\n",
       "0   1  costa_rica  fuel_electricity  1000  21.398632\n",
       "1   2  costa_rica  fuel_electricity  1001  21.785653\n",
       "2   3  costa_rica  fuel_electricity  1002  22.150589\n",
       "3   4  costa_rica  fuel_electricity  1003  22.466948\n",
       "4   5  costa_rica  fuel_electricity  1004  22.801719"
      ]
     },
     "execution_count": 1850,
     "metadata": {},
     "output_type": "execute_result"
    }
   ],
   "source": [
    "#dict_to_sql[\"DefaultParams\"]\n",
    "dict_to_sql[\"SpecifiedAnnualDemand\"].head()"
   ]
  },
  {
   "cell_type": "code",
   "execution_count": 1806,
   "metadata": {},
   "outputs": [],
   "source": [
    "df1 = dict_to_sql[model_elec.model_attributes.table_nemomod_total_annual_max_capacity]\n",
    "df1 = df1[df1[\"t\"] == \"pp_waste_incineration\"]\n"
   ]
  },
  {
   "cell_type": "code",
   "execution_count": 1807,
   "metadata": {},
   "outputs": [],
   "source": [
    "df2 = dict_to_sql[model_elec.model_attributes.table_nemomod_total_technology_annual_activity_lower_limit]\n",
    "df2 = df2[df2[\"t\"] == \"pp_waste_incineration\"]\n"
   ]
  },
  {
   "cell_type": "code",
   "execution_count": 1822,
   "metadata": {},
   "outputs": [
    {
     "data": {
      "text/html": [
       "<div>\n",
       "<style scoped>\n",
       "    .dataframe tbody tr th:only-of-type {\n",
       "        vertical-align: middle;\n",
       "    }\n",
       "\n",
       "    .dataframe tbody tr th {\n",
       "        vertical-align: top;\n",
       "    }\n",
       "\n",
       "    .dataframe thead th {\n",
       "        text-align: right;\n",
       "    }\n",
       "</style>\n",
       "<table border=\"1\" class=\"dataframe\">\n",
       "  <thead>\n",
       "    <tr style=\"text-align: right;\">\n",
       "      <th></th>\n",
       "      <th>id</th>\n",
       "      <th>r</th>\n",
       "      <th>f</th>\n",
       "      <th>y</th>\n",
       "      <th>val</th>\n",
       "    </tr>\n",
       "  </thead>\n",
       "  <tbody>\n",
       "    <tr>\n",
       "      <th>0</th>\n",
       "      <td>1</td>\n",
       "      <td>costa_rica</td>\n",
       "      <td>fuel_electricity</td>\n",
       "      <td>1000</td>\n",
       "      <td>22.138809</td>\n",
       "    </tr>\n",
       "    <tr>\n",
       "      <th>1</th>\n",
       "      <td>2</td>\n",
       "      <td>costa_rica</td>\n",
       "      <td>fuel_electricity</td>\n",
       "      <td>1001</td>\n",
       "      <td>22.559484</td>\n",
       "    </tr>\n",
       "    <tr>\n",
       "      <th>2</th>\n",
       "      <td>3</td>\n",
       "      <td>costa_rica</td>\n",
       "      <td>fuel_electricity</td>\n",
       "      <td>1002</td>\n",
       "      <td>22.956154</td>\n",
       "    </tr>\n",
       "    <tr>\n",
       "      <th>3</th>\n",
       "      <td>4</td>\n",
       "      <td>costa_rica</td>\n",
       "      <td>fuel_electricity</td>\n",
       "      <td>1003</td>\n",
       "      <td>23.300022</td>\n",
       "    </tr>\n",
       "    <tr>\n",
       "      <th>4</th>\n",
       "      <td>5</td>\n",
       "      <td>costa_rica</td>\n",
       "      <td>fuel_electricity</td>\n",
       "      <td>1004</td>\n",
       "      <td>23.663904</td>\n",
       "    </tr>\n",
       "  </tbody>\n",
       "</table>\n",
       "</div>"
      ],
      "text/plain": [
       "   id           r                 f     y        val\n",
       "0   1  costa_rica  fuel_electricity  1000  22.138809\n",
       "1   2  costa_rica  fuel_electricity  1001  22.559484\n",
       "2   3  costa_rica  fuel_electricity  1002  22.956154\n",
       "3   4  costa_rica  fuel_electricity  1003  23.300022\n",
       "4   5  costa_rica  fuel_electricity  1004  23.663904"
      ]
     },
     "execution_count": 1822,
     "metadata": {},
     "output_type": "execute_result"
    }
   ],
   "source": [
    "dict_to_sql[\"SpecifiedAnnualDemand\"].head()"
   ]
  },
  {
   "cell_type": "code",
   "execution_count": 1816,
   "metadata": {},
   "outputs": [],
   "source": [
    "scalar = sa.model_attributes.get_energy_equivalent(\"pj\", \"gwy\")\n",
    "df3 = pd.merge(\n",
    "    df1.rename(columns = {\"val\": \"maxcap\"}).drop([\"id\"], axis = 1), \n",
    "    df2.rename(columns = {\"val\": \"lowerlim\"}).drop([\"id\"], axis = 1)\n",
    ")\n",
    "\n",
    "df3[\"lowerlim\"] = np.array(df3[\"lowerlim\"])*scalar\n"
   ]
  },
  {
   "cell_type": "code",
   "execution_count": null,
   "metadata": {},
   "outputs": [],
   "source": []
  },
  {
   "cell_type": "code",
   "execution_count": null,
   "metadata": {},
   "outputs": [],
   "source": []
  },
  {
   "cell_type": "code",
   "execution_count": null,
   "metadata": {},
   "outputs": [],
   "source": []
  },
  {
   "cell_type": "code",
   "execution_count": 1675,
   "metadata": {},
   "outputs": [
    {
     "data": {
      "text/plain": [
       "0.031688087999999996"
      ]
     },
     "execution_count": 1675,
     "metadata": {},
     "output_type": "execute_result"
    }
   ],
   "source": [
    "#importlib.reload(ma)\n",
    "#importlib.reload(sa)\n",
    "\n",
    "units_energy_config = sa.model_attributes.configuration.get(\"energy_units\")\n",
    "units_power_config = sa.model_attributes.configuration.get(\"power_units\")\n",
    "units_energy_power_equivalent = sa.model_attributes.get_energy_power_swap(units_power_config)\n",
    "\n",
    "#units_energy_power_equivalent\n",
    "sa.model_attributes.get_energy_power_swap(\"gwy\")\n",
    "sa.model_attributes.get_energy_equivalent(units_energy_config, units_energy_power_equivalent)"
   ]
  },
  {
   "cell_type": "code",
   "execution_count": null,
   "metadata": {},
   "outputs": [],
   "source": []
  },
  {
   "cell_type": "code",
   "execution_count": 1848,
   "metadata": {},
   "outputs": [
    {
     "data": {
      "text/plain": [
       "<PyCall.jlwrap SQLite.DB(\"/Users/jsyme/Documents/Projects/git_jbus/lac_decarbonization/tmp/nemomod_intermediate_database.sqlite\")>"
      ]
     },
     "execution_count": 1848,
     "metadata": {},
     "output_type": "execute_result"
    }
   ],
   "source": [
    "NemoMod.createnemodb(sa.fp_sqlite_nemomod_db_tmp)"
   ]
  },
  {
   "cell_type": "code",
   "execution_count": 1851,
   "metadata": {},
   "outputs": [],
   "source": [
    "base = 1000\n",
    "optimizer = JuMP.Model(Clp.Optimizer)\n",
    "result = NemoMod.calculatescenario(\n",
    "    sa.fp_sqlite_nemomod_db_tmp, \n",
    "    jumpmodel = optimizer, \n",
    "    numprocs = 1, \n",
    "    #calcyears = [base, base + 10, base + 20, base + 30, base + 35],#[1, 36],#10, 35],\n",
    "    reportzeros = False,\n",
    "    varstosave = \"vusebytechnologyannual, vdiscountedcapitalinvestment, vtotalcapacityannual, vcapitalinvestment, vdiscountedcapitalinvestmentstorage, vaccumulatednewstoragecapacity, vproductionbytechnologyannual, vdiscountedoperatingcost, vannualtechnologyemission\"\n",
    ")\n"
   ]
  },
  {
   "cell_type": "code",
   "execution_count": 1857,
   "metadata": {},
   "outputs": [
    {
     "data": {
      "text/plain": [
       "4"
      ]
     },
     "execution_count": 1857,
     "metadata": {},
     "output_type": "execute_result"
    }
   ],
   "source": [
    "#result\n",
    "x = [1, 2, 3, 4]\n",
    "x[-1]"
   ]
  },
  {
   "cell_type": "code",
   "execution_count": 1685,
   "metadata": {},
   "outputs": [
    {
     "name": "stdout",
     "output_type": "stream",
     "text": [
      "NemoMod\n"
     ]
    }
   ],
   "source": [
    "\"infeasible\" not in str(result).lower()\n",
    "\n",
    "#c = inspect.getmembers(model_elec)\n",
    "a = \"CapacityCheck2\"\n",
    "try:\n",
    "    sf.check_set_values([a], [\"NemoMod\", \"CapacityCheck\"])\n",
    "except:\n",
    "    a = \"NemoMod\"\n",
    "print(a)"
   ]
  },
  {
   "cell_type": "code",
   "execution_count": 1781,
   "metadata": {},
   "outputs": [
    {
     "data": {
      "text/html": [
       "<div>\n",
       "<style scoped>\n",
       "    .dataframe tbody tr th:only-of-type {\n",
       "        vertical-align: middle;\n",
       "    }\n",
       "\n",
       "    .dataframe tbody tr th {\n",
       "        vertical-align: top;\n",
       "    }\n",
       "\n",
       "    .dataframe thead th {\n",
       "        text-align: right;\n",
       "    }\n",
       "</style>\n",
       "<table border=\"1\" class=\"dataframe\">\n",
       "  <thead>\n",
       "    <tr style=\"text-align: right;\">\n",
       "      <th></th>\n",
       "      <th>r</th>\n",
       "      <th>t</th>\n",
       "      <th>y</th>\n",
       "      <th>val</th>\n",
       "      <th>solvedtm</th>\n",
       "    </tr>\n",
       "  </thead>\n",
       "  <tbody>\n",
       "    <tr>\n",
       "      <th>9</th>\n",
       "      <td>costa_rica</td>\n",
       "      <td>pp_biogas</td>\n",
       "      <td>1010</td>\n",
       "      <td>0.002191</td>\n",
       "      <td>2022-08-22 00:18:54.117</td>\n",
       "    </tr>\n",
       "    <tr>\n",
       "      <th>22</th>\n",
       "      <td>costa_rica</td>\n",
       "      <td>pp_biogas</td>\n",
       "      <td>1020</td>\n",
       "      <td>0.002933</td>\n",
       "      <td>2022-08-22 00:18:54.117</td>\n",
       "    </tr>\n",
       "    <tr>\n",
       "      <th>34</th>\n",
       "      <td>costa_rica</td>\n",
       "      <td>pp_biogas</td>\n",
       "      <td>1030</td>\n",
       "      <td>0.003833</td>\n",
       "      <td>2022-08-22 00:18:54.117</td>\n",
       "    </tr>\n",
       "    <tr>\n",
       "      <th>46</th>\n",
       "      <td>costa_rica</td>\n",
       "      <td>pp_biogas</td>\n",
       "      <td>1035</td>\n",
       "      <td>0.004381</td>\n",
       "      <td>2022-08-22 00:18:54.117</td>\n",
       "    </tr>\n",
       "    <tr>\n",
       "      <th>14</th>\n",
       "      <td>costa_rica</td>\n",
       "      <td>pp_waste_incineration</td>\n",
       "      <td>1010</td>\n",
       "      <td>0.002455</td>\n",
       "      <td>2022-08-22 00:18:54.117</td>\n",
       "    </tr>\n",
       "    <tr>\n",
       "      <th>26</th>\n",
       "      <td>costa_rica</td>\n",
       "      <td>pp_waste_incineration</td>\n",
       "      <td>1020</td>\n",
       "      <td>0.003120</td>\n",
       "      <td>2022-08-22 00:18:54.117</td>\n",
       "    </tr>\n",
       "    <tr>\n",
       "      <th>36</th>\n",
       "      <td>costa_rica</td>\n",
       "      <td>pp_waste_incineration</td>\n",
       "      <td>1030</td>\n",
       "      <td>0.004001</td>\n",
       "      <td>2022-08-22 00:18:54.117</td>\n",
       "    </tr>\n",
       "    <tr>\n",
       "      <th>48</th>\n",
       "      <td>costa_rica</td>\n",
       "      <td>pp_waste_incineration</td>\n",
       "      <td>1035</td>\n",
       "      <td>0.004552</td>\n",
       "      <td>2022-08-22 00:18:54.117</td>\n",
       "    </tr>\n",
       "  </tbody>\n",
       "</table>\n",
       "</div>"
      ],
      "text/plain": [
       "             r                      t     y       val                 solvedtm\n",
       "9   costa_rica              pp_biogas  1010  0.002191  2022-08-22 00:18:54.117\n",
       "22  costa_rica              pp_biogas  1020  0.002933  2022-08-22 00:18:54.117\n",
       "34  costa_rica              pp_biogas  1030  0.003833  2022-08-22 00:18:54.117\n",
       "46  costa_rica              pp_biogas  1035  0.004381  2022-08-22 00:18:54.117\n",
       "14  costa_rica  pp_waste_incineration  1010  0.002455  2022-08-22 00:18:54.117\n",
       "26  costa_rica  pp_waste_incineration  1020  0.003120  2022-08-22 00:18:54.117\n",
       "36  costa_rica  pp_waste_incineration  1030  0.004001  2022-08-22 00:18:54.117\n",
       "48  costa_rica  pp_waste_incineration  1035  0.004552  2022-08-22 00:18:54.117"
      ]
     },
     "execution_count": 1781,
     "metadata": {},
     "output_type": "execute_result"
    }
   ],
   "source": [
    "df1 = sqlutil.sql_table_to_df(engine, \"vproductionbytechnologyannual\")\n",
    "df1[df1[\"t\"].isin([\"pp_biogas\", \"pp_waste_incineration\"])].sort_values(by = [\"t\", \"y\"])\n",
    "\n",
    "df1 = sqlutil.sql_table_to_df(engine, \"vtotalcapacityannual\")\n",
    "df1[df1[\"t\"].isin([\"pp_biogas\", \"pp_waste_incineration\"])].sort_values(by = [\"t\", \"y\"])\n"
   ]
  },
  {
   "cell_type": "code",
   "execution_count": 1778,
   "metadata": {},
   "outputs": [
    {
     "data": {
      "text/html": [
       "<div>\n",
       "<style scoped>\n",
       "    .dataframe tbody tr th:only-of-type {\n",
       "        vertical-align: middle;\n",
       "    }\n",
       "\n",
       "    .dataframe tbody tr th {\n",
       "        vertical-align: top;\n",
       "    }\n",
       "\n",
       "    .dataframe thead th {\n",
       "        text-align: right;\n",
       "    }\n",
       "</style>\n",
       "<table border=\"1\" class=\"dataframe\">\n",
       "  <thead>\n",
       "    <tr style=\"text-align: right;\">\n",
       "      <th></th>\n",
       "      <th>id</th>\n",
       "      <th>r</th>\n",
       "      <th>t</th>\n",
       "      <th>y</th>\n",
       "      <th>val</th>\n",
       "    </tr>\n",
       "  </thead>\n",
       "  <tbody>\n",
       "    <tr>\n",
       "      <th>10</th>\n",
       "      <td>11</td>\n",
       "      <td>costa_rica</td>\n",
       "      <td>pp_biogas</td>\n",
       "      <td>1010</td>\n",
       "      <td>0.069157</td>\n",
       "    </tr>\n",
       "    <tr>\n",
       "      <th>20</th>\n",
       "      <td>21</td>\n",
       "      <td>costa_rica</td>\n",
       "      <td>pp_biogas</td>\n",
       "      <td>1020</td>\n",
       "      <td>0.092566</td>\n",
       "    </tr>\n",
       "    <tr>\n",
       "      <th>30</th>\n",
       "      <td>31</td>\n",
       "      <td>costa_rica</td>\n",
       "      <td>pp_biogas</td>\n",
       "      <td>1030</td>\n",
       "      <td>0.120946</td>\n",
       "    </tr>\n",
       "    <tr>\n",
       "      <th>35</th>\n",
       "      <td>36</td>\n",
       "      <td>costa_rica</td>\n",
       "      <td>pp_biogas</td>\n",
       "      <td>1035</td>\n",
       "      <td>0.138251</td>\n",
       "    </tr>\n",
       "    <tr>\n",
       "      <th>46</th>\n",
       "      <td>47</td>\n",
       "      <td>costa_rica</td>\n",
       "      <td>pp_waste_incineration</td>\n",
       "      <td>1010</td>\n",
       "      <td>0.077468</td>\n",
       "    </tr>\n",
       "    <tr>\n",
       "      <th>56</th>\n",
       "      <td>57</td>\n",
       "      <td>costa_rica</td>\n",
       "      <td>pp_waste_incineration</td>\n",
       "      <td>1020</td>\n",
       "      <td>0.098453</td>\n",
       "    </tr>\n",
       "    <tr>\n",
       "      <th>66</th>\n",
       "      <td>67</td>\n",
       "      <td>costa_rica</td>\n",
       "      <td>pp_waste_incineration</td>\n",
       "      <td>1030</td>\n",
       "      <td>0.126265</td>\n",
       "    </tr>\n",
       "    <tr>\n",
       "      <th>71</th>\n",
       "      <td>72</td>\n",
       "      <td>costa_rica</td>\n",
       "      <td>pp_waste_incineration</td>\n",
       "      <td>1035</td>\n",
       "      <td>0.143637</td>\n",
       "    </tr>\n",
       "  </tbody>\n",
       "</table>\n",
       "</div>"
      ],
      "text/plain": [
       "    id           r                      t     y       val\n",
       "10  11  costa_rica              pp_biogas  1010  0.069157\n",
       "20  21  costa_rica              pp_biogas  1020  0.092566\n",
       "30  31  costa_rica              pp_biogas  1030  0.120946\n",
       "35  36  costa_rica              pp_biogas  1035  0.138251\n",
       "46  47  costa_rica  pp_waste_incineration  1010  0.077468\n",
       "56  57  costa_rica  pp_waste_incineration  1020  0.098453\n",
       "66  67  costa_rica  pp_waste_incineration  1030  0.126265\n",
       "71  72  costa_rica  pp_waste_incineration  1035  0.143637"
      ]
     },
     "execution_count": 1778,
     "metadata": {},
     "output_type": "execute_result"
    }
   ],
   "source": [
    "df2 = sqlutil.sql_table_to_df(engine, \"TotalTechnologyAnnualActivityLowerLimit\")\n",
    "df2[df2[\"y\"].isin([\"1010\", \"1020\", \"1030\", \"1035\"])]"
   ]
  },
  {
   "cell_type": "code",
   "execution_count": null,
   "metadata": {},
   "outputs": [],
   "source": []
  },
  {
   "cell_type": "code",
   "execution_count": 1166,
   "metadata": {},
   "outputs": [
    {
     "data": {
      "text/html": [
       "<div>\n",
       "<style scoped>\n",
       "    .dataframe tbody tr th:only-of-type {\n",
       "        vertical-align: middle;\n",
       "    }\n",
       "\n",
       "    .dataframe tbody tr th {\n",
       "        vertical-align: top;\n",
       "    }\n",
       "\n",
       "    .dataframe thead th {\n",
       "        text-align: right;\n",
       "    }\n",
       "</style>\n",
       "<table border=\"1\" class=\"dataframe\">\n",
       "  <thead>\n",
       "    <tr style=\"text-align: right;\">\n",
       "      <th></th>\n",
       "      <th>r</th>\n",
       "      <th>t</th>\n",
       "      <th>f</th>\n",
       "      <th>y</th>\n",
       "      <th>val</th>\n",
       "      <th>solvedtm</th>\n",
       "    </tr>\n",
       "  </thead>\n",
       "  <tbody>\n",
       "    <tr>\n",
       "      <th>8</th>\n",
       "      <td>costa_rica</td>\n",
       "      <td>pp_gas</td>\n",
       "      <td>fuel_natural_gas</td>\n",
       "      <td>1035</td>\n",
       "      <td>99.036868</td>\n",
       "      <td>2022-08-19 10:04:16.164</td>\n",
       "    </tr>\n",
       "    <tr>\n",
       "      <th>10</th>\n",
       "      <td>costa_rica</td>\n",
       "      <td>st_compressed_air</td>\n",
       "      <td>fuel_electricity</td>\n",
       "      <td>1035</td>\n",
       "      <td>1.049425</td>\n",
       "      <td>2022-08-19 10:04:16.164</td>\n",
       "    </tr>\n",
       "  </tbody>\n",
       "</table>\n",
       "</div>"
      ],
      "text/plain": [
       "             r                  t                 f     y        val  \\\n",
       "8   costa_rica             pp_gas  fuel_natural_gas  1035  99.036868   \n",
       "10  costa_rica  st_compressed_air  fuel_electricity  1035   1.049425   \n",
       "\n",
       "                   solvedtm  \n",
       "8   2022-08-19 10:04:16.164  \n",
       "10  2022-08-19 10:04:16.164  "
      ]
     },
     "execution_count": 1166,
     "metadata": {},
     "output_type": "execute_result"
    }
   ],
   "source": [
    "df_1 = sqlutil.sql_table_to_df(engine, \"vusebytechnologyannual\")\n",
    "df_1[df_1[\"y\"] == \"1035\"]"
   ]
  },
  {
   "cell_type": "code",
   "execution_count": 1160,
   "metadata": {},
   "outputs": [
    {
     "data": {
      "text/html": [
       "<div>\n",
       "<style scoped>\n",
       "    .dataframe tbody tr th:only-of-type {\n",
       "        vertical-align: middle;\n",
       "    }\n",
       "\n",
       "    .dataframe tbody tr th {\n",
       "        vertical-align: top;\n",
       "    }\n",
       "\n",
       "    .dataframe thead th {\n",
       "        text-align: right;\n",
       "    }\n",
       "</style>\n",
       "<table border=\"1\" class=\"dataframe\">\n",
       "  <thead>\n",
       "    <tr style=\"text-align: right;\">\n",
       "      <th></th>\n",
       "      <th>r</th>\n",
       "      <th>t</th>\n",
       "      <th>f</th>\n",
       "      <th>y</th>\n",
       "      <th>val</th>\n",
       "      <th>solvedtm</th>\n",
       "    </tr>\n",
       "  </thead>\n",
       "  <tbody>\n",
       "    <tr>\n",
       "      <th>5</th>\n",
       "      <td>costa_rica</td>\n",
       "      <td>pp_gas</td>\n",
       "      <td>fuel_electricity</td>\n",
       "      <td>1035</td>\n",
       "      <td>3.961475e+01</td>\n",
       "      <td>2022-08-19 10:04:16.164</td>\n",
       "    </tr>\n",
       "    <tr>\n",
       "      <th>14</th>\n",
       "      <td>costa_rica</td>\n",
       "      <td>supply_fuel_nuclear</td>\n",
       "      <td>fuel_nuclear</td>\n",
       "      <td>1035</td>\n",
       "      <td>1.076530e-10</td>\n",
       "      <td>2022-08-19 10:04:16.164</td>\n",
       "    </tr>\n",
       "    <tr>\n",
       "      <th>16</th>\n",
       "      <td>costa_rica</td>\n",
       "      <td>supply_fuel_natural_gas</td>\n",
       "      <td>fuel_natural_gas</td>\n",
       "      <td>1035</td>\n",
       "      <td>1.022945e+02</td>\n",
       "      <td>2022-08-19 10:04:16.164</td>\n",
       "    </tr>\n",
       "    <tr>\n",
       "      <th>17</th>\n",
       "      <td>costa_rica</td>\n",
       "      <td>supply_fuel_oil</td>\n",
       "      <td>fuel_oil</td>\n",
       "      <td>1035</td>\n",
       "      <td>1.031676e+02</td>\n",
       "      <td>2022-08-19 10:04:16.164</td>\n",
       "    </tr>\n",
       "    <tr>\n",
       "      <th>29</th>\n",
       "      <td>costa_rica</td>\n",
       "      <td>st_compressed_air</td>\n",
       "      <td>fuel_electricity</td>\n",
       "      <td>1035</td>\n",
       "      <td>7.870685e-01</td>\n",
       "      <td>2022-08-19 10:04:16.164</td>\n",
       "    </tr>\n",
       "  </tbody>\n",
       "</table>\n",
       "</div>"
      ],
      "text/plain": [
       "             r                        t                 f     y           val  \\\n",
       "5   costa_rica                   pp_gas  fuel_electricity  1035  3.961475e+01   \n",
       "14  costa_rica      supply_fuel_nuclear      fuel_nuclear  1035  1.076530e-10   \n",
       "16  costa_rica  supply_fuel_natural_gas  fuel_natural_gas  1035  1.022945e+02   \n",
       "17  costa_rica          supply_fuel_oil          fuel_oil  1035  1.031676e+02   \n",
       "29  costa_rica        st_compressed_air  fuel_electricity  1035  7.870685e-01   \n",
       "\n",
       "                   solvedtm  \n",
       "5   2022-08-19 10:04:16.164  \n",
       "14  2022-08-19 10:04:16.164  \n",
       "16  2022-08-19 10:04:16.164  \n",
       "17  2022-08-19 10:04:16.164  \n",
       "29  2022-08-19 10:04:16.164  "
      ]
     },
     "execution_count": 1160,
     "metadata": {},
     "output_type": "execute_result"
    }
   ],
   "source": [
    "df_2 = sqlutil.sql_table_to_df(engine, \"vproductionbytechnologyannual\")\n",
    "df_2[df_2[\"y\"] == \"1035\"]"
   ]
  },
  {
   "cell_type": "code",
   "execution_count": null,
   "metadata": {},
   "outputs": [],
   "source": [
    "model_elec.retrieve_nemomod_technology_table(\n",
    "    engine,\n",
    "    model_elec.modvar_enfu_energy_demand_by_fuel_elec,\n",
    "    model_elec.model_attributes.table_nemomod_capital_investment_storage_discounted,\n",
    "    df_cs_integrated[\"time_period\"],\n",
    "    techs_to_pivot = [\"all_techs_dummy\"]\n",
    ")"
   ]
  },
  {
   "cell_type": "code",
   "execution_count": 1827,
   "metadata": {},
   "outputs": [],
   "source": [
    "df_out = model_elec.retrieve_output_tables_from_sql(engine, df_cs_integrated)"
   ]
  },
  {
   "cell_type": "code",
   "execution_count": 1830,
   "metadata": {},
   "outputs": [
    {
     "data": {
      "text/html": [
       "<div>\n",
       "<style scoped>\n",
       "    .dataframe tbody tr th:only-of-type {\n",
       "        vertical-align: middle;\n",
       "    }\n",
       "\n",
       "    .dataframe tbody tr th {\n",
       "        vertical-align: top;\n",
       "    }\n",
       "\n",
       "    .dataframe thead th {\n",
       "        text-align: right;\n",
       "    }\n",
       "</style>\n",
       "<table border=\"1\" class=\"dataframe\">\n",
       "  <thead>\n",
       "    <tr style=\"text-align: right;\">\n",
       "      <th></th>\n",
       "    </tr>\n",
       "  </thead>\n",
       "  <tbody>\n",
       "    <tr>\n",
       "      <th>0</th>\n",
       "    </tr>\n",
       "    <tr>\n",
       "      <th>1</th>\n",
       "    </tr>\n",
       "    <tr>\n",
       "      <th>2</th>\n",
       "    </tr>\n",
       "    <tr>\n",
       "      <th>3</th>\n",
       "    </tr>\n",
       "    <tr>\n",
       "      <th>4</th>\n",
       "    </tr>\n",
       "    <tr>\n",
       "      <th>5</th>\n",
       "    </tr>\n",
       "    <tr>\n",
       "      <th>6</th>\n",
       "    </tr>\n",
       "    <tr>\n",
       "      <th>7</th>\n",
       "    </tr>\n",
       "    <tr>\n",
       "      <th>8</th>\n",
       "    </tr>\n",
       "    <tr>\n",
       "      <th>9</th>\n",
       "    </tr>\n",
       "    <tr>\n",
       "      <th>10</th>\n",
       "    </tr>\n",
       "    <tr>\n",
       "      <th>11</th>\n",
       "    </tr>\n",
       "    <tr>\n",
       "      <th>12</th>\n",
       "    </tr>\n",
       "    <tr>\n",
       "      <th>13</th>\n",
       "    </tr>\n",
       "    <tr>\n",
       "      <th>14</th>\n",
       "    </tr>\n",
       "    <tr>\n",
       "      <th>15</th>\n",
       "    </tr>\n",
       "    <tr>\n",
       "      <th>16</th>\n",
       "    </tr>\n",
       "    <tr>\n",
       "      <th>17</th>\n",
       "    </tr>\n",
       "    <tr>\n",
       "      <th>18</th>\n",
       "    </tr>\n",
       "    <tr>\n",
       "      <th>19</th>\n",
       "    </tr>\n",
       "    <tr>\n",
       "      <th>20</th>\n",
       "    </tr>\n",
       "    <tr>\n",
       "      <th>21</th>\n",
       "    </tr>\n",
       "    <tr>\n",
       "      <th>22</th>\n",
       "    </tr>\n",
       "    <tr>\n",
       "      <th>23</th>\n",
       "    </tr>\n",
       "    <tr>\n",
       "      <th>24</th>\n",
       "    </tr>\n",
       "    <tr>\n",
       "      <th>25</th>\n",
       "    </tr>\n",
       "    <tr>\n",
       "      <th>26</th>\n",
       "    </tr>\n",
       "    <tr>\n",
       "      <th>27</th>\n",
       "    </tr>\n",
       "    <tr>\n",
       "      <th>28</th>\n",
       "    </tr>\n",
       "    <tr>\n",
       "      <th>29</th>\n",
       "    </tr>\n",
       "    <tr>\n",
       "      <th>30</th>\n",
       "    </tr>\n",
       "    <tr>\n",
       "      <th>31</th>\n",
       "    </tr>\n",
       "    <tr>\n",
       "      <th>32</th>\n",
       "    </tr>\n",
       "    <tr>\n",
       "      <th>33</th>\n",
       "    </tr>\n",
       "    <tr>\n",
       "      <th>34</th>\n",
       "    </tr>\n",
       "    <tr>\n",
       "      <th>35</th>\n",
       "    </tr>\n",
       "  </tbody>\n",
       "</table>\n",
       "</div>"
      ],
      "text/plain": [
       "Empty DataFrame\n",
       "Columns: []\n",
       "Index: [0, 1, 2, 3, 4, 5, 6, 7, 8, 9, 10, 11, 12, 13, 14, 15, 16, 17, 18, 19, 20, 21, 22, 23, 24, 25, 26, 27, 28, 29, 30, 31, 32, 33, 34, 35]"
      ]
     },
     "execution_count": 1830,
     "metadata": {},
     "output_type": "execute_result"
    }
   ],
   "source": [
    "df_out[[x for x in df_out.columns if \"use\" in x]]"
   ]
  },
  {
   "cell_type": "code",
   "execution_count": null,
   "metadata": {},
   "outputs": [],
   "source": []
  },
  {
   "cell_type": "code",
   "execution_count": null,
   "metadata": {},
   "outputs": [],
   "source": []
  },
  {
   "cell_type": "code",
   "execution_count": null,
   "metadata": {},
   "outputs": [],
   "source": []
  },
  {
   "cell_type": "code",
   "execution_count": null,
   "metadata": {},
   "outputs": [],
   "source": [
    "m = 2999\n",
    "ma = 0\n",
    "for k in dict_to_sql.keys():\n",
    "    if \"y\" in dict_to_sql[k].columns:\n",
    "        if len(dict_to_sql[k]) > 0:\n",
    "            print(f\"{k}:\\n\")\n",
    "            print(min(dict_to_sql[k][\"y\"]))\n",
    "            print(\"\\n\")\n",
    "            \n",
    "            mi = min([int(x) for x in list(dict_to_sql[k][\"y\"])])\n",
    "            m = min(m, mi)\n",
    "            ma = max(ma, mi)"
   ]
  }
 ],
 "metadata": {
  "kernelspec": {
   "display_name": "Python 3",
   "language": "python",
   "name": "python3"
  },
  "language_info": {
   "codemirror_mode": {
    "name": "ipython",
    "version": 3
   },
   "file_extension": ".py",
   "mimetype": "text/x-python",
   "name": "python",
   "nbconvert_exporter": "python",
   "pygments_lexer": "ipython3",
   "version": "3.8.5"
  }
 },
 "nbformat": 4,
 "nbformat_minor": 4
}
