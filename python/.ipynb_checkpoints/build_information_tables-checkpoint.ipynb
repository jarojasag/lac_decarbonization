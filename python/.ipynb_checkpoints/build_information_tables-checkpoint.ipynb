{
 "cells": [
  {
   "cell_type": "code",
   "execution_count": 14,
   "id": "54ddfa3f-15fc-4106-9c5d-1b14472830a9",
   "metadata": {},
   "outputs": [],
   "source": [
    "from attribute_table import AttributeTable\n",
    "import build_model_attributes_metadata as bma\n",
    "import importlib\n",
    "import model_attributes as ma\n",
    "import model_afolu as mafl\n",
    "import model_ippu as mi\n",
    "import model_circular_economy as mc\n",
    "import model_energy as me\n",
    "import model_electricity as ml\n",
    "import model_socioeconomic as se\n",
    "import numpy as np\n",
    "import os, os.path\n",
    "import pandas as pd\n",
    "import setup_analysis as sa\n",
    "import support_classes as sc\n",
    "import support_functions as sf\n",
    "import time\n",
    "from typing import *\n",
    "import warnings\n",
    "\n",
    "warnings.filterwarnings(\"ignore\")\n",
    "\n",
    "\n",
    "\n",
    "# get models to access variables\n",
    "model_socioeconomic = se.Socioeconomic(sa.model_attributes)\n",
    "model_afolu = mafl.AFOLU(sa.model_attributes)\n",
    "model_circecon = mc.CircularEconomy(sa.model_attributes)\n",
    "model_ippu = mi.IPPU(sa.model_attributes)\n",
    "model_elec = ml.ElectricEnergy(sa.model_attributes, sa.dir_jl, sa.dir_ref_nemo, logger = None, initialize_julia = False)\n",
    "model_energy = me.NonElectricEnergy(sa.model_attributes)\n"
   ]
  },
  {
   "cell_type": "code",
   "execution_count": null,
   "id": "4e12570e-4b9c-41ae-a5a1-ca1679d7c83d",
   "metadata": {},
   "outputs": [],
   "source": [
    "importlib.reload(bma)"
   ]
  },
  {
   "cell_type": "markdown",
   "id": "10f55c24-52fd-49c2-92bd-e1c475ecea47",
   "metadata": {},
   "source": [
    "##  Emissions Information"
   ]
  },
  {
   "cell_type": "code",
   "execution_count": 30,
   "id": "c9c829a7-5c5a-4d21-9e0b-88a18497e4fa",
   "metadata": {},
   "outputs": [],
   "source": [
    "df_emission_totals = bma.build_emissions_information_table(sa.model_attributes)\n",
    "\n",
    "df_emission_totals.to_csv(\n",
    "    os.path.join(sa.dir_out, \"emission_variables_taxonomy_20230510.csv\"),\n",
    "    index = None,\n",
    "    encoding = \"UTF-8\",\n",
    ")\n"
   ]
  },
  {
   "cell_type": "markdown",
   "id": "ec5ceb4d-e8f1-49e7-b015-81b929e40666",
   "metadata": {},
   "source": [
    "##  Drivers Information"
   ]
  },
  {
   "cell_type": "code",
   "execution_count": 32,
   "id": "fa6cae3f-f192-4470-9b19-01cac20538e4",
   "metadata": {},
   "outputs": [],
   "source": [
    "modvars_drivers = [\n",
    "    model_socioeconomic.modvar_econ_gdp,\n",
    "    model_socioeconomic.modvar_econ_gdp_per_capita,\n",
    "    model_socioeconomic.modvar_grnl_num_hh,\n",
    "    model_socioeconomic.modvar_gnrl_subpop,\n",
    "    model_afolu.modvar_agrc_area_crop,\n",
    "    model_afolu.modvar_lndu_area_by_cat,\n",
    "    model_afolu.modvar_lndu_area_converted_from_type,\n",
    "    model_afolu.modvar_lvst_pop,\n",
    "    model_afolu.modvar_soil_fertuse_final_synthetic,\n",
    "    model_circecon.modvar_wali_protein_per_capita,\n",
    "    model_circecon.modvar_waso_waste_total_biogas,\n",
    "    model_circecon.modvar_waso_waste_total_compost,\n",
    "    model_circecon.modvar_waso_waste_total_incineration,\n",
    "    model_circecon.modvar_waso_waste_total_landfilled,\n",
    "    model_circecon.modvar_waso_waste_total_open_dumped,\n",
    "    model_ippu.modvar_ippu_qty_total_production,\n",
    "    model_ippu.modvar_ippu_qty_recycled_used_in_production,\n",
    "    model_energy.modvar_enfu_energy_demand_by_fuel_ccsq,\n",
    "    model_energy.modvar_enfu_energy_demand_by_fuel_entc,\n",
    "    model_energy.modvar_enfu_energy_demand_by_fuel_inen,\n",
    "    model_energy.modvar_enfu_energy_demand_by_fuel_scoe,\n",
    "    model_energy.modvar_enfu_energy_demand_by_fuel_trns,\n",
    "    model_energy.modvar_trde_demand_mtkm,\n",
    "    model_energy.modvar_trde_demand_pkm,\n",
    "]\n",
    "\n",
    "\n",
    "df_drivers = bma.build_variable_information_table(sa.model_attributes, modvars_drivers)\n",
    "\n",
    "df_drivers.to_csv(\n",
    "    os.path.join(sa.dir_out, \"driver_variables_taxonomy_20230510.csv\"),\n",
    "    index = None,\n",
    "    encoding = \"UTF-8\",\n",
    ")"
   ]
  },
  {
   "cell_type": "code",
   "execution_count": null,
   "id": "04b96fb1-b21a-400b-8927-48d7aff57b5c",
   "metadata": {},
   "outputs": [],
   "source": []
  },
  {
   "cell_type": "code",
   "execution_count": null,
   "id": "1327f425-e062-48f5-ba01-6ee10de8ee61",
   "metadata": {},
   "outputs": [],
   "source": []
  }
 ],
 "metadata": {
  "kernelspec": {
   "display_name": "Python 3 (ipykernel)",
   "language": "python",
   "name": "python3"
  },
  "language_info": {
   "codemirror_mode": {
    "name": "ipython",
    "version": 3
   },
   "file_extension": ".py",
   "mimetype": "text/x-python",
   "name": "python",
   "nbconvert_exporter": "python",
   "pygments_lexer": "ipython3",
   "version": "3.11.0"
  }
 },
 "nbformat": 4,
 "nbformat_minor": 5
}
