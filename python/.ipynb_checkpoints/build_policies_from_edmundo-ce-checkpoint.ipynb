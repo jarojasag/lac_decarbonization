{
 "cells": [
  {
   "cell_type": "code",
   "execution_count": 17,
   "metadata": {},
   "outputs": [
    {
     "name": "stderr",
     "output_type": "stream",
     "text": [
      "/Users/jsyme/Documents/Projects/git_jbus/lac_decarbonization/python/model_attributes.py:1769: UserWarning: Invalid subsector attribute 'key_varreqs_partial'. Valid return type values are:'pycategory_primary', 'abv_subsector', 'sector', 'abv_sector', 'key_varreqs_all'\n",
      "  warnings.warn(f\"Invalid subsector attribute '{return_type}'. Valid return type values are:{valid_rts}\")\n"
     ]
    },
    {
     "data": {
      "text/plain": [
       "<module 'model_circular_economy' from '/Users/jsyme/Documents/Projects/git_jbus/lac_decarbonization/python/model_circular_economy.py'>"
      ]
     },
     "execution_count": 17,
     "metadata": {},
     "output_type": "execute_result"
    }
   ],
   "source": [
    "import os, os.path\n",
    "import numpy as np\n",
    "import pandas as pd\n",
    "import model_attributes as ma\n",
    "import model_circular_economy as mc\n",
    "\n",
    "import setup_analysis as sa\n",
    "import support_functions as sf\n",
    "import importlib\n",
    "import time\n",
    "import warnings\n",
    "import matplotlib.pyplot as plt\n",
    "from typing import Union\n",
    "\n",
    "importlib.reload(sa)\n",
    "importlib.reload(sf)\n",
    "importlib.reload(mc)\n",
    "\n",
    "\n"
   ]
  },
  {
   "cell_type": "code",
   "execution_count": 38,
   "metadata": {},
   "outputs": [],
   "source": [
    "\n",
    "# set some directories\n",
    "dir_input_data = os.path.join(sa.dir_ref, \"fake_data\")\n",
    "dir_input_transformations = \"/Users/jsyme/Downloads/troubleshoot/Transformations\"\n",
    "df_input_data =  pd.read_csv(os.path.join(dir_input_data, \"fake_data_complete.csv\"))\n",
    "                            \n",
    "\n",
    "#load transformations files\n",
    "\n",
    "#load combinations of transformations to be run\n",
    "exp_file =  \"transformations_experiment_new.csv\"\n",
    "df_exp =  pd.read_csv(os.path.join(dir_input_transformations, exp_file))\n",
    "\n",
    "\n",
    "waste_reduction = \"WasteReductionTransformation_2022_06_13.csv\"\n",
    "df_wr =  pd.read_csv(os.path.join(dir_input_transformations, waste_reduction))\n",
    "\n",
    "\n",
    "#load liquid waste-sanitation and treatment\n",
    "sanitation =  \"SanitationTransformation.csv\"\n",
    "df_st =  pd.read_csv(os.path.join(dir_input_transformations, sanitation))\n",
    "\n",
    "\n",
    "#load solid waste transformation\n",
    "solid =  \"SolidWasteTransformation.csv\"\n",
    "df_sot =  pd.read_csv(os.path.join(dir_input_transformations, solid))\n",
    "\n",
    "\n",
    "#list all policies\n",
    "policies = np.unique(df_exp['Policy_ID'])\n",
    "\n",
    "#load calibration parameters\n",
    "dir_calib_data = os.path.join(os.path.dirname(dir_input_transformations), \"CalibrationVectors\")\n",
    "df_data_calib = pd.read_csv(os.path.join(dir_calib_data, \"data_complete_future_2022_06_13.csv\"))\n",
    "\n",
    "\n",
    "## RENAME\n",
    "dict_rnm = {\n",
    "    \"population_urban\": \"population_gnrl_urban\",\n",
    "    \"population_rural\": \"population_gnrl_rural\",\n",
    "}\n",
    "df_data_calib.rename(columns = dict_rnm, inplace = True)"
   ]
  },
  {
   "cell_type": "code",
   "execution_count": 24,
   "metadata": {},
   "outputs": [],
   "source": [
    "#df_data_calib.to_csv(\n",
    "#    \"/Users/jsyme/Documents/Projects/FY21/SWCHE131_1000/Data/calibrated_input_files_from_edmundo/ce/data_complete_future_2022_06_13_cleaned.csv\",\n",
    "#    index = None,\n",
    "#    encoding = \"UTF-8\"\n",
    "#)\n"
   ]
  },
  {
   "cell_type": "code",
   "execution_count": 51,
   "metadata": {
    "collapsed": true,
    "jupyter": {
     "outputs_hidden": true
    },
    "tags": []
   },
   "outputs": [
    {
     "name": "stderr",
     "output_type": "stream",
     "text": [
      "/var/folders/8m/3ll2cn6d1hdcs6gjqxr2jx5d2hffc9/T/ipykernel_40823/3817668652.py:53: PerformanceWarning: DataFrame is highly fragmented.  This is usually the result of calling `frame.insert` many times, which has poor performance.  Consider joining all columns at once using pd.concat(axis=1) instead. To get a de-fragmented frame, use `newframe = frame.copy()`\n",
      "  df_input_new[\"nation\"] = i\n",
      "/var/folders/8m/3ll2cn6d1hdcs6gjqxr2jx5d2hffc9/T/ipykernel_40823/3817668652.py:53: PerformanceWarning: DataFrame is highly fragmented.  This is usually the result of calling `frame.insert` many times, which has poor performance.  Consider joining all columns at once using pd.concat(axis=1) instead. To get a de-fragmented frame, use `newframe = frame.copy()`\n",
      "  df_input_new[\"nation\"] = i\n",
      "/var/folders/8m/3ll2cn6d1hdcs6gjqxr2jx5d2hffc9/T/ipykernel_40823/3817668652.py:53: PerformanceWarning: DataFrame is highly fragmented.  This is usually the result of calling `frame.insert` many times, which has poor performance.  Consider joining all columns at once using pd.concat(axis=1) instead. To get a de-fragmented frame, use `newframe = frame.copy()`\n",
      "  df_input_new[\"nation\"] = i\n",
      "/var/folders/8m/3ll2cn6d1hdcs6gjqxr2jx5d2hffc9/T/ipykernel_40823/3817668652.py:53: PerformanceWarning: DataFrame is highly fragmented.  This is usually the result of calling `frame.insert` many times, which has poor performance.  Consider joining all columns at once using pd.concat(axis=1) instead. To get a de-fragmented frame, use `newframe = frame.copy()`\n",
      "  df_input_new[\"nation\"] = i\n",
      "/var/folders/8m/3ll2cn6d1hdcs6gjqxr2jx5d2hffc9/T/ipykernel_40823/3817668652.py:53: PerformanceWarning: DataFrame is highly fragmented.  This is usually the result of calling `frame.insert` many times, which has poor performance.  Consider joining all columns at once using pd.concat(axis=1) instead. To get a de-fragmented frame, use `newframe = frame.copy()`\n",
      "  df_input_new[\"nation\"] = i\n",
      "/var/folders/8m/3ll2cn6d1hdcs6gjqxr2jx5d2hffc9/T/ipykernel_40823/3817668652.py:53: PerformanceWarning: DataFrame is highly fragmented.  This is usually the result of calling `frame.insert` many times, which has poor performance.  Consider joining all columns at once using pd.concat(axis=1) instead. To get a de-fragmented frame, use `newframe = frame.copy()`\n",
      "  df_input_new[\"nation\"] = i\n",
      "/var/folders/8m/3ll2cn6d1hdcs6gjqxr2jx5d2hffc9/T/ipykernel_40823/3817668652.py:53: PerformanceWarning: DataFrame is highly fragmented.  This is usually the result of calling `frame.insert` many times, which has poor performance.  Consider joining all columns at once using pd.concat(axis=1) instead. To get a de-fragmented frame, use `newframe = frame.copy()`\n",
      "  df_input_new[\"nation\"] = i\n",
      "/var/folders/8m/3ll2cn6d1hdcs6gjqxr2jx5d2hffc9/T/ipykernel_40823/3817668652.py:53: PerformanceWarning: DataFrame is highly fragmented.  This is usually the result of calling `frame.insert` many times, which has poor performance.  Consider joining all columns at once using pd.concat(axis=1) instead. To get a de-fragmented frame, use `newframe = frame.copy()`\n",
      "  df_input_new[\"nation\"] = i\n",
      "/var/folders/8m/3ll2cn6d1hdcs6gjqxr2jx5d2hffc9/T/ipykernel_40823/3817668652.py:53: PerformanceWarning: DataFrame is highly fragmented.  This is usually the result of calling `frame.insert` many times, which has poor performance.  Consider joining all columns at once using pd.concat(axis=1) instead. To get a de-fragmented frame, use `newframe = frame.copy()`\n",
      "  df_input_new[\"nation\"] = i\n",
      "/var/folders/8m/3ll2cn6d1hdcs6gjqxr2jx5d2hffc9/T/ipykernel_40823/3817668652.py:53: PerformanceWarning: DataFrame is highly fragmented.  This is usually the result of calling `frame.insert` many times, which has poor performance.  Consider joining all columns at once using pd.concat(axis=1) instead. To get a de-fragmented frame, use `newframe = frame.copy()`\n",
      "  df_input_new[\"nation\"] = i\n",
      "/var/folders/8m/3ll2cn6d1hdcs6gjqxr2jx5d2hffc9/T/ipykernel_40823/3817668652.py:53: PerformanceWarning: DataFrame is highly fragmented.  This is usually the result of calling `frame.insert` many times, which has poor performance.  Consider joining all columns at once using pd.concat(axis=1) instead. To get a de-fragmented frame, use `newframe = frame.copy()`\n",
      "  df_input_new[\"nation\"] = i\n",
      "/var/folders/8m/3ll2cn6d1hdcs6gjqxr2jx5d2hffc9/T/ipykernel_40823/3817668652.py:53: PerformanceWarning: DataFrame is highly fragmented.  This is usually the result of calling `frame.insert` many times, which has poor performance.  Consider joining all columns at once using pd.concat(axis=1) instead. To get a de-fragmented frame, use `newframe = frame.copy()`\n",
      "  df_input_new[\"nation\"] = i\n",
      "/var/folders/8m/3ll2cn6d1hdcs6gjqxr2jx5d2hffc9/T/ipykernel_40823/3817668652.py:53: PerformanceWarning: DataFrame is highly fragmented.  This is usually the result of calling `frame.insert` many times, which has poor performance.  Consider joining all columns at once using pd.concat(axis=1) instead. To get a de-fragmented frame, use `newframe = frame.copy()`\n",
      "  df_input_new[\"nation\"] = i\n",
      "/var/folders/8m/3ll2cn6d1hdcs6gjqxr2jx5d2hffc9/T/ipykernel_40823/3817668652.py:53: PerformanceWarning: DataFrame is highly fragmented.  This is usually the result of calling `frame.insert` many times, which has poor performance.  Consider joining all columns at once using pd.concat(axis=1) instead. To get a de-fragmented frame, use `newframe = frame.copy()`\n",
      "  df_input_new[\"nation\"] = i\n",
      "/var/folders/8m/3ll2cn6d1hdcs6gjqxr2jx5d2hffc9/T/ipykernel_40823/3817668652.py:53: PerformanceWarning: DataFrame is highly fragmented.  This is usually the result of calling `frame.insert` many times, which has poor performance.  Consider joining all columns at once using pd.concat(axis=1) instead. To get a de-fragmented frame, use `newframe = frame.copy()`\n",
      "  df_input_new[\"nation\"] = i\n",
      "/var/folders/8m/3ll2cn6d1hdcs6gjqxr2jx5d2hffc9/T/ipykernel_40823/3817668652.py:53: PerformanceWarning: DataFrame is highly fragmented.  This is usually the result of calling `frame.insert` many times, which has poor performance.  Consider joining all columns at once using pd.concat(axis=1) instead. To get a de-fragmented frame, use `newframe = frame.copy()`\n",
      "  df_input_new[\"nation\"] = i\n",
      "/var/folders/8m/3ll2cn6d1hdcs6gjqxr2jx5d2hffc9/T/ipykernel_40823/3817668652.py:53: PerformanceWarning: DataFrame is highly fragmented.  This is usually the result of calling `frame.insert` many times, which has poor performance.  Consider joining all columns at once using pd.concat(axis=1) instead. To get a de-fragmented frame, use `newframe = frame.copy()`\n",
      "  df_input_new[\"nation\"] = i\n",
      "/var/folders/8m/3ll2cn6d1hdcs6gjqxr2jx5d2hffc9/T/ipykernel_40823/3817668652.py:53: PerformanceWarning: DataFrame is highly fragmented.  This is usually the result of calling `frame.insert` many times, which has poor performance.  Consider joining all columns at once using pd.concat(axis=1) instead. To get a de-fragmented frame, use `newframe = frame.copy()`\n",
      "  df_input_new[\"nation\"] = i\n",
      "/var/folders/8m/3ll2cn6d1hdcs6gjqxr2jx5d2hffc9/T/ipykernel_40823/3817668652.py:53: PerformanceWarning: DataFrame is highly fragmented.  This is usually the result of calling `frame.insert` many times, which has poor performance.  Consider joining all columns at once using pd.concat(axis=1) instead. To get a de-fragmented frame, use `newframe = frame.copy()`\n",
      "  df_input_new[\"nation\"] = i\n",
      "/var/folders/8m/3ll2cn6d1hdcs6gjqxr2jx5d2hffc9/T/ipykernel_40823/3817668652.py:53: PerformanceWarning: DataFrame is highly fragmented.  This is usually the result of calling `frame.insert` many times, which has poor performance.  Consider joining all columns at once using pd.concat(axis=1) instead. To get a de-fragmented frame, use `newframe = frame.copy()`\n",
      "  df_input_new[\"nation\"] = i\n",
      "/var/folders/8m/3ll2cn6d1hdcs6gjqxr2jx5d2hffc9/T/ipykernel_40823/3817668652.py:53: PerformanceWarning: DataFrame is highly fragmented.  This is usually the result of calling `frame.insert` many times, which has poor performance.  Consider joining all columns at once using pd.concat(axis=1) instead. To get a de-fragmented frame, use `newframe = frame.copy()`\n",
      "  df_input_new[\"nation\"] = i\n",
      "/var/folders/8m/3ll2cn6d1hdcs6gjqxr2jx5d2hffc9/T/ipykernel_40823/3817668652.py:53: PerformanceWarning: DataFrame is highly fragmented.  This is usually the result of calling `frame.insert` many times, which has poor performance.  Consider joining all columns at once using pd.concat(axis=1) instead. To get a de-fragmented frame, use `newframe = frame.copy()`\n",
      "  df_input_new[\"nation\"] = i\n"
     ]
    }
   ],
   "source": [
    "\n",
    "#aggregate results to obtain mean values of calibration\n",
    "#df_data_calib = df_data_calib.groupby([\"nation\"]).mean()\n",
    "#df_data_calib['nation'] = df_data_calib.index\n",
    "\n",
    "#check column names, always check if calib and policy parameters are interrelated\n",
    "#df_sot.columns.isin(df_data_calib.columns)\n",
    "#df_sot.columns[df_sot.columns.isin(df_data_calib.columns)==True]\n",
    "\n",
    "\n",
    "#list all nations in  data calib\n",
    "nations = np.unique(df_data_calib['nation'])\n",
    "\n",
    "#Initialize loop\n",
    "df_all = []\n",
    "\n",
    "for policy in policies[0:1]:\n",
    "    #policy = policies[0]\n",
    "    #load transformation tables\n",
    "    tt = list(df_exp[df_exp['Policy_ID']==policy]['waste_reduction'])[0]\n",
    "    st = list(df_exp[df_exp['Policy_ID']==policy]['sanitation'])[0]\n",
    "    sot = list(df_exp[df_exp['Policy_ID']==policy]['solid'])[0]\n",
    "    df_wrp = df_wr[df_wr['TransformationName']==tt]\n",
    "    df_stp = df_st[df_st['TransformationName']==st]\n",
    "    df_sotp = df_sot[df_sot['TransformationName']==sot]\n",
    "    \n",
    "    for i in nations:\n",
    "\n",
    "        df_input_new = df_input_data.copy(deep=True).reset_index(drop=True)\n",
    "        df_dcp = df_data_calib[df_data_calib['nation']==i]\n",
    "        target_vars = df_dcp.columns[df_dcp.columns.isin(df_input_new.columns)]\n",
    "\n",
    "        for j in target_vars:\n",
    "            df_input_new[j] = list(df_dcp[j].astype(float)) \n",
    "      \n",
    "        #waste reduction\n",
    "        target_Tvars = df_wrp.columns[df_wrp.columns.isin(df_input_new.columns)]\n",
    "        for j in target_Tvars:\n",
    "            df_input_new[j] = list(df_wrp[j].astype(float)) \n",
    "        \n",
    "        #sanitation\n",
    "        target_Svars = df_stp.columns[df_stp.columns.isin(df_input_new.columns)]\n",
    "        for j in target_Svars:\n",
    "            #j= 'frac_wali_ww_domestic_rural_treatment_path_advanced_aerobic'\n",
    "            df_input_new[j] = list(df_stp[j].astype(float))\n",
    "        \n",
    "\n",
    "        #solid waste\n",
    "        target_SOvars = df_sotp.columns[df_sotp.columns.isin(df_input_new.columns)]\n",
    "        for j in target_SOvars:\n",
    "            #j= 'factor_waso_waste_per_capita_scalar_metal'\n",
    "            df_input_new[j] = list(df_sotp[j].astype(float)) #I'm passing a whole vector to a column\n",
    "        \n",
    "        df_input_new[\"nation\"] = i\n",
    "        df_all.append(df_input_new)\n",
    "\n",
    "df_all = pd.concat(df_all, axis = 0).sort_values(by = [\"nation\", \"time_period\"]).reset_index(drop = True)\n",
    "df_all[\"time_period\"] = df_all[\"time_period\"].astype(int)\n",
    "\n",
    "\n",
    "\n",
    "\n"
   ]
  },
  {
   "cell_type": "code",
   "execution_count": 59,
   "metadata": {
    "tags": []
   },
   "outputs": [],
   "source": [
    "df_all.to_csv(\n",
    "    \"/Users/jsyme/Documents/Projects/FY21/SWCHE131_1000/Data/calibrated_input_files_from_edmundo/ce/data_complete_future_2022_06_13_cleaned.csv\",\n",
    "    index = None,\n",
    "    encoding = \"UTF-8\"\n",
    ")"
   ]
  },
  {
   "cell_type": "code",
   "execution_count": null,
   "metadata": {},
   "outputs": [],
   "source": [
    "\n"
   ]
  },
  {
   "cell_type": "code",
   "execution_count": null,
   "metadata": {},
   "outputs": [],
   "source": []
  },
  {
   "cell_type": "code",
   "execution_count": null,
   "metadata": {},
   "outputs": [],
   "source": []
  },
  {
   "cell_type": "code",
   "execution_count": null,
   "metadata": {},
   "outputs": [],
   "source": []
  }
 ],
 "metadata": {
  "kernelspec": {
   "display_name": "Python 3 (ipykernel)",
   "language": "python",
   "name": "python3"
  },
  "language_info": {
   "codemirror_mode": {
    "name": "ipython",
    "version": 3
   },
   "file_extension": ".py",
   "mimetype": "text/x-python",
   "name": "python",
   "nbconvert_exporter": "python",
   "pygments_lexer": "ipython3",
   "version": "3.11.0"
  }
 },
 "nbformat": 4,
 "nbformat_minor": 4
}
