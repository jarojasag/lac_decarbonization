{
 "cells": [
  {
   "cell_type": "code",
   "execution_count": 1,
   "metadata": {},
   "outputs": [
    {
     "name": "stderr",
     "output_type": "stream",
     "text": [
      "/Users/jsyme/Documents/Projects/git_jbus/lac_decarbonization/python/data_structures.py:931: UserWarning: Invalid subsector attribute 'key_varreqs_partial'. Valid return type values are:'pycategory_primary', 'abv_subsector', 'sector', 'abv_sector', 'key_varreqs_all'\n",
      "  warnings.warn(f\"Invalid subsector attribute '{return_type}'. Valid return type values are:{valid_rts}\")\n"
     ]
    }
   ],
   "source": [
    "import os, os.path\n",
    "import numpy as np\n",
    "import pandas as pd\n",
    "import data_structures as ds\n",
    "import setup_analysis as sa\n",
    "import support_functions as sf\n",
    "import importlib\n",
    "import time\n",
    "import warnings\n",
    "import matplotlib.pyplot as plt\n",
    "\n"
   ]
  },
  {
   "cell_type": "code",
   "execution_count": 2,
   "metadata": {},
   "outputs": [],
   "source": [
    "# read in fertilizer data from IFA Database\n",
    "df_data = pd.read_excel(\"/Users/jsyme/Documents/Projects/FY21/SWCHE131_1000/Data/AFOLU/IFADATA Plant Nutrition query - 06-Aug-2022_01.30.xlsx\", skiprows = 2)\n",
    "# check forest products\n",
    "encode = \"ISO-8859-1\"\n",
    "dir_faostat = \"/Users/jsyme/Documents/Projects/FY21/SWCHE131_1000/Data/ingestion/FAOSTAT/\"\n",
    "df_frst_emission = pd.read_csv(os.path.join(dir_faostat, \"Emissions_Totals_E_All_Data_(Normalized)\", \"Emissions_Totals_E_All_Data_(Normalized).csv\"),\n",
    "    encoding = encode\n",
    ")\n",
    "df_ag_production = pd.read_csv(os.path.join(dir_faostat, \"Production_Crops_Livestock_E_All_Data_(Normalized)\", \"Production_Crops_Livestock_E_All_Data_(Normalized).csv\"),\n",
    "    encoding = encode\n",
    ")\n"
   ]
  },
  {
   "cell_type": "code",
   "execution_count": 10,
   "metadata": {},
   "outputs": [
    {
     "data": {
      "text/html": [
       "<div>\n",
       "<style scoped>\n",
       "    .dataframe tbody tr th:only-of-type {\n",
       "        vertical-align: middle;\n",
       "    }\n",
       "\n",
       "    .dataframe tbody tr th {\n",
       "        vertical-align: top;\n",
       "    }\n",
       "\n",
       "    .dataframe thead th {\n",
       "        text-align: right;\n",
       "    }\n",
       "</style>\n",
       "<table border=\"1\" class=\"dataframe\">\n",
       "  <thead>\n",
       "    <tr style=\"text-align: right;\">\n",
       "      <th></th>\n",
       "      <th>ï»¿Area Code</th>\n",
       "      <th>Area</th>\n",
       "      <th>Item Code</th>\n",
       "      <th>Item</th>\n",
       "      <th>Element Code</th>\n",
       "      <th>Element</th>\n",
       "      <th>Year Code</th>\n",
       "      <th>Year</th>\n",
       "      <th>Source Code</th>\n",
       "      <th>Source</th>\n",
       "      <th>Unit</th>\n",
       "      <th>Value</th>\n",
       "      <th>Flag</th>\n",
       "      <th>Note</th>\n",
       "    </tr>\n",
       "  </thead>\n",
       "  <tbody>\n",
       "    <tr>\n",
       "      <th>115469</th>\n",
       "      <td>21</td>\n",
       "      <td>Brazil</td>\n",
       "      <td>6751</td>\n",
       "      <td>Forestland</td>\n",
       "      <td>723113</td>\n",
       "      <td>Emissions (CO2eq) (AR5)</td>\n",
       "      <td>2019</td>\n",
       "      <td>2019</td>\n",
       "      <td>3050</td>\n",
       "      <td>FAO TIER 1</td>\n",
       "      <td>kilotonnes</td>\n",
       "      <td>-269412.8448</td>\n",
       "      <td>Fc</td>\n",
       "      <td>NaN</td>\n",
       "    </tr>\n",
       "    <tr>\n",
       "      <th>201534</th>\n",
       "      <td>44</td>\n",
       "      <td>Colombia</td>\n",
       "      <td>6751</td>\n",
       "      <td>Forestland</td>\n",
       "      <td>723113</td>\n",
       "      <td>Emissions (CO2eq) (AR5)</td>\n",
       "      <td>2019</td>\n",
       "      <td>2019</td>\n",
       "      <td>3050</td>\n",
       "      <td>FAO TIER 1</td>\n",
       "      <td>kilotonnes</td>\n",
       "      <td>-281.4225</td>\n",
       "      <td>Fc</td>\n",
       "      <td>NaN</td>\n",
       "    </tr>\n",
       "    <tr>\n",
       "      <th>219942</th>\n",
       "      <td>48</td>\n",
       "      <td>Costa Rica</td>\n",
       "      <td>6751</td>\n",
       "      <td>Forestland</td>\n",
       "      <td>723113</td>\n",
       "      <td>Emissions (CO2eq) (AR5)</td>\n",
       "      <td>2019</td>\n",
       "      <td>2019</td>\n",
       "      <td>3050</td>\n",
       "      <td>FAO TIER 1</td>\n",
       "      <td>kilotonnes</td>\n",
       "      <td>-7441.9840</td>\n",
       "      <td>Fc</td>\n",
       "      <td>NaN</td>\n",
       "    </tr>\n",
       "    <tr>\n",
       "      <th>715492</th>\n",
       "      <td>170</td>\n",
       "      <td>Peru</td>\n",
       "      <td>6751</td>\n",
       "      <td>Forestland</td>\n",
       "      <td>723113</td>\n",
       "      <td>Emissions (CO2eq) (AR5)</td>\n",
       "      <td>2019</td>\n",
       "      <td>2019</td>\n",
       "      <td>3050</td>\n",
       "      <td>FAO TIER 1</td>\n",
       "      <td>kilotonnes</td>\n",
       "      <td>-3246.9785</td>\n",
       "      <td>Fc</td>\n",
       "      <td>NaN</td>\n",
       "    </tr>\n",
       "  </tbody>\n",
       "</table>\n",
       "</div>"
      ],
      "text/plain": [
       "        ï»¿Area Code        Area  Item Code        Item  Element Code  \\\n",
       "115469            21      Brazil       6751  Forestland        723113   \n",
       "201534            44    Colombia       6751  Forestland        723113   \n",
       "219942            48  Costa Rica       6751  Forestland        723113   \n",
       "715492           170        Peru       6751  Forestland        723113   \n",
       "\n",
       "                        Element  Year Code  Year  Source Code      Source  \\\n",
       "115469  Emissions (CO2eq) (AR5)       2019  2019         3050  FAO TIER 1   \n",
       "201534  Emissions (CO2eq) (AR5)       2019  2019         3050  FAO TIER 1   \n",
       "219942  Emissions (CO2eq) (AR5)       2019  2019         3050  FAO TIER 1   \n",
       "715492  Emissions (CO2eq) (AR5)       2019  2019         3050  FAO TIER 1   \n",
       "\n",
       "              Unit        Value Flag Note  \n",
       "115469  kilotonnes -269412.8448   Fc  NaN  \n",
       "201534  kilotonnes    -281.4225   Fc  NaN  \n",
       "219942  kilotonnes   -7441.9840   Fc  NaN  \n",
       "715492  kilotonnes   -3246.9785   Fc  NaN  "
      ]
     },
     "execution_count": 10,
     "metadata": {},
     "output_type": "execute_result"
    }
   ],
   "source": [
    "df_frst_emission[\n",
    "    df_frst_emission[\"Area\"].isin([\"Bolivia\", \"Brazil\", \"Colombia\", \"Costa Rica\", \"Peru\"]) & \n",
    "    df_frst_emission[\"Year\"].isin([2019]) & \n",
    "    df_frst_emission[\"Element\"].isin([\"Emissions (CO2eq) (AR5)\"]) & \n",
    "    df_frst_emission[\"Item Code\"].isin([6751])\n",
    "]\n",
    "\n"
   ]
  },
  {
   "cell_type": "code",
   "execution_count": 165,
   "metadata": {},
   "outputs": [],
   "source": [
    "\n",
    "\n",
    "##  format the regional data\n",
    "def format_regional_data(\n",
    "    df_data_by_region: pd.DataFrame,\n",
    "    fields_ind: list = [\"Country\", \"Year\"],\n",
    "    fields_values: list = [\"Consumption\"],\n",
    "    fields_pivot: list = [\"Product\"],\n",
    "    dict_rnm_out: dict = None\n",
    ") -> pd.DataFrame:\n",
    "    \n",
    "    # pivot the data\n",
    "    df_data_by_region_wide = pd.pivot(df_data_by_region, index = fields_ind, columns = fields_pivot, values = [\"Consumption\"]).reset_index()\n",
    "    df_data_by_region_wide.columns = df_data_by_region_wide.columns.to_flat_index()\n",
    "\n",
    "    # rename\n",
    "    dict_rnm = dict([((a, x), x.lower().replace(\"(\", \"\").replace(\")\", \"\").replace(\" \", \"_\")) for x in keep_products for a in fields_values])\n",
    "    dict_rnm.update(\n",
    "        dict([((x, \"\"), x.lower()) for x in fields_ind])\n",
    "    )\n",
    "    df_data_by_region_wide.rename(columns = dict_rnm, inplace = True)\n",
    "\n",
    "    # clean some columns\n",
    "    df_data_by_region_wide[\"year\"] = df_data_by_region_wide[\"year\"].astype(int)\n",
    "    \n",
    "    if dict_rnm is not None:\n",
    "        df_data_by_region_wide.rename(columns = dict_rnm_out, inplace = True)\n",
    "        \n",
    "    return df_data_by_region_wide\n",
    "\n",
    "\n",
    "\n",
    "\n",
    "# some sets\n",
    "keep_products = set([\"Grand Total N\", \"Urea (N)\"])\n",
    "regions_all = set(sa.model_attributes.dict_attributes[\"region\"].table[\"category_name\"])\n",
    "regions_available = set(df_data[\"Country\"])\n",
    "regions_to_allocate = regions_all - regions_available\n",
    "region_to_allocate = \"Others Latin America\"\n",
    "\n",
    "# reduce dataset - piece out to data available bty country and values to allocate proportionally to ag production\n",
    "df_data = df_data[df_data[\"Product\"].isin(keep_products)].reset_index(drop = True)\n",
    "df_data_by_region = df_data[df_data[\"Country\"].isin(regions_all)].copy().reset_index(drop = True)\n",
    "df_data_to_allocate = df_data[df_data[\"Country\"].isin([region_to_allocate])].copy().reset_index(drop = True)\n",
    "\n",
    "# format fields\n",
    "field_qty = \"qtyinit_soil_synthetic_fertilizer_kt\"\n",
    "field_frac = \"frac_soil_synthetic_fertilizer_urea\"\n",
    "dict_rnm = {\n",
    "    \"grand_total_n\": field_qty,\n",
    "    \"urea_n\": field_frac\n",
    "}\n",
    "# get data for which information is available per region\n",
    "df_data_by_region_wide = format_regional_data(df_data_by_region, dict_rnm_out = dict_rnm)\n",
    "df_data_by_region_wide[field_frac] = np.array(df_data_by_region_wide[field_frac])/np.array(df_data_by_region_wide[field_qty])\n",
    "\n",
    "\n",
    "##  do the allocation to countries for which fertilizer data is not available\n",
    "\n",
    "# get production area by country to allocate fertilizer\n",
    "df_ag_production_agg = df_ag_production[\n",
    "    df_ag_production[\"Element\"].isin([\"Area harvested\"]) &\n",
    "    df_ag_production[\"Year\"].isin(range(2015, 2020))\n",
    "][[\"Area\", \"Item\", \"Year\", \"Value\"]];\n",
    "# grouping fields\n",
    "fields_grp = [\"Area\", \"Year\"]\n",
    "fields_sum = [\"Value\"]\n",
    "dict_agg = dict(zip(fields_grp, [\"first\" for x in fields_grp]))\n",
    "dict_agg.update(dict(zip(fields_sum, [\"sum\" for x in fields_sum])))\n",
    "# aggregation\n",
    "df_ag_production_agg = df_ag_production_agg.groupby(fields_grp).agg(dict_agg).reset_index(drop = True)\n",
    "df_ag_production_agg[\"Area\"] = df_ag_production_agg[\"Area\"].replace({\"Bolivia (Plurinational State of)\": \"Bolivia\"})\n",
    "df_ag_production_agg = df_ag_production_agg[df_ag_production_agg[\"Area\"].isin(regions_to_allocate)].reset_index(drop = True)\n",
    "# get total area and merge back in, then get fractional allocation\n",
    "df_ag_production_agg_total = df_ag_production_agg[[\"Year\", \"Value\"]].groupby([\"Year\"]).agg({\"Year\": \"first\", \"Value\": \"sum\"}).reset_index(drop = True).rename(columns = {\"Value\": \"Value_Total\"})\n",
    "df_ag_production_agg = pd.merge(df_ag_production_agg, df_ag_production_agg_total)\n",
    "df_ag_production_agg[\"frac_allocation\"] = np.array(df_ag_production_agg[\"Value\"])/np.array(df_ag_production_agg[\"Value_Total\"])\n",
    "\n",
    "# setup the allocation\n",
    "df_data_to_allocate_wide = format_regional_data(df_data_to_allocate, dict_rnm_out = dict_rnm)\n",
    "df_data_to_allocate_wide[field_frac] = np.array(df_data_to_allocate_wide[field_frac])/np.array(df_data_to_allocate_wide[field_qty])\n",
    "df_data_to_allocate_wide.drop([\"country\"], axis = 1, inplace = True)\n",
    "# merge in production data\n",
    "df_ag_production_agg = df_ag_production_agg[[\"Area\", \"Year\", \"frac_allocation\"]].rename(columns = {\"Area\": \"country\", \"Year\": \"year\"})\n",
    "df_data_to_allocate_wide = pd.merge(df_data_to_allocate_wide, df_ag_production_agg)\n",
    "df_data_to_allocate_wide[field_qty] = np.array(df_data_to_allocate_wide[field_qty])*np.array(df_data_to_allocate_wide[\"frac_allocation\"])\n",
    "df_data_to_allocate_wide = df_data_to_allocate_wide[df_data_by_region_wide.columns]\n",
    "\n",
    "# final dataset\n",
    "df_data_out = pd.concat([df_data_by_region_wide, df_data_to_allocate_wide], axis = 0).sort_values(by = [\"country\", \"year\"]).reset_index(drop = True)\n",
    "# functio to reformat the country name for integration\n",
    "def format_country_name(country: str) -> str:\n",
    "    country_out = country.split(\"(\")[0].strip().lower().replace(\" \", \"_\")\n",
    "    return country_out\n",
    "df_data_out[\"country\"] = df_data_out[\"country\"].apply(format_country_name)\n",
    "fp_out = \"/Users/jsyme/Documents/Projects/FY21/SWCHE131_1000/Data/AFOLU/ifa_data_fertilizer_input_estimates_by_country_by_year.csv\"\n",
    "df_data_out.to_csv(fp_out, index = None, encoding = \"UTF-8\")"
   ]
  },
  {
   "cell_type": "code",
   "execution_count": 167,
   "metadata": {},
   "outputs": [
    {
     "data": {
      "text/plain": [
       "26"
      ]
     },
     "execution_count": 167,
     "metadata": {},
     "output_type": "execute_result"
    }
   ],
   "source": [
    "len(set(df_data_out[\"country\"]))"
   ]
  },
  {
   "cell_type": "code",
   "execution_count": 161,
   "metadata": {},
   "outputs": [],
   "source": [
    "(\"(\")[0].strip().lower().replace(\" \", \"_\")\n",
    "    return country_out\n"
   ]
  },
  {
   "cell_type": "code",
   "execution_count": 178,
   "metadata": {},
   "outputs": [
    {
     "data": {
      "text/plain": [
       "array(['Forestland', 'Net Forest conversion',\n",
       "       'Carbon stock change in forests'], dtype=object)"
      ]
     },
     "execution_count": 178,
     "metadata": {},
     "output_type": "execute_result"
    }
   ],
   "source": [
    "df_frst_emission[\"Item\"].unique()"
   ]
  },
  {
   "cell_type": "code",
   "execution_count": 182,
   "metadata": {},
   "outputs": [
    {
     "data": {
      "text/plain": [
       "['AFOLU',\n",
       " 'Agricultural Soils',\n",
       " 'Burning - Crop residues',\n",
       " 'Crop Residues',\n",
       " 'Drained organic soils',\n",
       " 'Drained organic soils (CO2)',\n",
       " 'Drained organic soils (N2O)',\n",
       " 'Emissions on agricultural land',\n",
       " 'Enteric Fermentation',\n",
       " 'Farm-gate emissions',\n",
       " 'Fires in humid tropical forests',\n",
       " 'Fires in organic soils',\n",
       " 'Forest fires',\n",
       " 'Forestland',\n",
       " 'IPCC Agriculture',\n",
       " 'LULUCF',\n",
       " 'Manure Management',\n",
       " 'Manure applied to Soils',\n",
       " 'Manure left on Pasture',\n",
       " 'Net Forest conversion',\n",
       " 'On-farm energy use',\n",
       " 'Rice Cultivation',\n",
       " 'Savanna fires',\n",
       " 'Synthetic Fertilizers']"
      ]
     },
     "execution_count": 182,
     "metadata": {},
     "output_type": "execute_result"
    }
   ],
   "source": [
    "sorted(list(df_frst_emission[\"Item\"].unique()))"
   ]
  },
  {
   "cell_type": "code",
   "execution_count": null,
   "metadata": {},
   "outputs": [],
   "source": []
  }
 ],
 "metadata": {
  "kernelspec": {
   "display_name": "Python 3",
   "language": "python",
   "name": "python3"
  },
  "language_info": {
   "codemirror_mode": {
    "name": "ipython",
    "version": 3
   },
   "file_extension": ".py",
   "mimetype": "text/x-python",
   "name": "python",
   "nbconvert_exporter": "python",
   "pygments_lexer": "ipython3",
   "version": "3.8.5"
  }
 },
 "nbformat": 4,
 "nbformat_minor": 4
}
