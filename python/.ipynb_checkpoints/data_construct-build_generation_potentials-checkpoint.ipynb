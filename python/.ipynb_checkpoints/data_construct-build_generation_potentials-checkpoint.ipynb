{
 "cells": [
  {
   "cell_type": "code",
   "execution_count": null,
   "id": "1ba0980e-ce35-4f86-992a-3745e0e07c08",
   "metadata": {},
   "outputs": [],
   "source": [
    "import os, os.path\n",
    "import numpy as np\n",
    "import pandas as pd\n",
    "import model_attributes as ma\n",
    "from attribute_table import AttributeTable\n",
    "import model_afolu as mafl\n",
    "import model_ippu as mi\n",
    "import model_circular_economy as mc\n",
    "import model_energy as me\n",
    "import model_electricity as ml\n",
    "import model_socioeconomic as se\n",
    "from model_socioeconomic import Socioeconomic\n",
    "import setup_analysis as sa\n",
    "import support_functions as sf\n",
    "import importlib\n",
    "import time\n",
    "import warnings\n",
    "import matplotlib.pyplot as plt\n",
    "\n",
    "importlib.reload(ma)\n",
    "importlib.reload(sa)\n",
    "importlib.reload(sf)\n",
    "importlib.reload(mafl)\n",
    "importlib.reload(mc)\n",
    "importlib.reload(mi)\n",
    "importlib.reload(me)\n",
    "importlib.reload(se)\n",
    "importlib.reload(ml)\n"
   ]
  },
  {
   "cell_type": "markdown",
   "id": "46940575-9dbd-49c4-8bb4-8c571d81e12a",
   "metadata": {},
   "source": [
    "# Renewable generation potentials are important for constraining capacities\n",
    "- Use this notebook to esimate renewable generation potentials"
   ]
  },
  {
   "cell_type": "markdown",
   "id": "9a5d5a55-299a-4295-9a54-d198f340939f",
   "metadata": {},
   "source": [
    "# General Data Sources\n",
    "- International Renewable ENergy Agency (IRENA)\n",
    "    - IRENA Global Atlas: https://globalatlas.irena.org/"
   ]
  },
  {
   "cell_type": "markdown",
   "id": "9b354d15-edf0-4048-9136-4dfefe9206b3",
   "metadata": {},
   "source": [
    "# Hydropower Generation Potential\n",
    "\n",
    "IRENA_tudelft_global_hydropower.csv\n",
    "-----------------------------------\n",
    "\n",
    "#### RAW DATA\n",
    "https://data.4tu.nl/articles/dataset/Global_potential_hydropower_locations/12708413/1\n",
    "\n",
    "#### CITE\n",
    "Hoes O.A.C. (2014): Global potential hydropower locations. 4TU.ResearchData. Dataset. https://doi.org/10.4121/uuid:99b42e30-5a69-4a53-8e77-c954f11dbc76 Copy citation\n",
    "\n",
    "\n",
    "#### IRENA LAYER (box around LAC)\n",
    "\"Global hydropower potential\" (TU-Delft)\n",
    "\n",
    "#### ACCESS DATE: \n",
    "2/20/2023"
   ]
  },
  {
   "cell_type": "code",
   "execution_count": null,
   "id": "7a64fd5f-7dbf-4699-b233-5b318ef972c7",
   "metadata": {},
   "outputs": [],
   "source": []
  },
  {
   "cell_type": "code",
   "execution_count": null,
   "id": "5516b48d-e2c7-4a99-8fb4-aaf17b790f77",
   "metadata": {},
   "outputs": [],
   "source": []
  },
  {
   "cell_type": "code",
   "execution_count": null,
   "id": "5ac92df1-c8fa-4cbc-81c4-6f0be374be63",
   "metadata": {},
   "outputs": [],
   "source": []
  },
  {
   "cell_type": "code",
   "execution_count": null,
   "id": "6ae97e55-69df-4e3b-bcfb-65d0374f297a",
   "metadata": {},
   "outputs": [],
   "source": []
  },
  {
   "cell_type": "markdown",
   "id": "9625fcff-57cb-4e3a-a1c6-29fafe5ad2f8",
   "metadata": {},
   "source": [
    "# Geothermal Generation Potential\n",
    "\n",
    "IRENA_hdr_Pt_14_global.tiff (BEARDSMORE)\n",
    "----------------------------------------\n",
    "\n",
    "#### RAW DATA\n",
    "\n",
    "\n",
    "#### CITE\n",
    "Beardsmore et al. (2011). A Protocol for Estimating and Mapping Global EGS Potential. DOI: 10.13140/RG.2.2.33475.71204\n",
    "\n",
    "#### IRENA LAYER (box around LAC)\n",
    "Layer \"Global total EGS technical potential 14% recovery\" (HDR)\n",
    "\n",
    "#### ACCESS DATE: \n",
    "2/20/2023\n",
    "\n",
    "\n",
    "\n",
    "IRENA_hdr_TotalTheoretical_global.tiff (BEARDSMORE)\n",
    "---------------------------------------------------\n",
    "\n",
    "#### RAW DATA\n",
    "\n",
    "\n",
    "#### CITE\n",
    "Beardsmore et al. (2011). A Protocol for Estimating and Mapping Global EGS Potential. DOI: 10.13140/RG.2.2.33475.71204\n",
    "\n",
    "#### IRENA LAYER (box around LAC)\n",
    "Layer \"Global EGS theoretical potential 2.5–3.5 km depth\" (HDR)\n",
    "\n",
    "#### ACCESS DATE: \n",
    "2/20/2023\n"
   ]
  },
  {
   "cell_type": "markdown",
   "id": "ce5eddd9-78dd-4e0c-a668-9e45ef1647c1",
   "metadata": {},
   "source": []
  },
  {
   "cell_type": "code",
   "execution_count": null,
   "id": "cc4f961e-8938-4635-a238-22d9caf8aba7",
   "metadata": {},
   "outputs": [],
   "source": []
  }
 ],
 "metadata": {
  "kernelspec": {
   "display_name": "Python 3 (ipykernel)",
   "language": "python",
   "name": "python3"
  },
  "language_info": {
   "codemirror_mode": {
    "name": "ipython",
    "version": 3
   },
   "file_extension": ".py",
   "mimetype": "text/x-python",
   "name": "python",
   "nbconvert_exporter": "python",
   "pygments_lexer": "ipython3",
   "version": "3.8.5"
  }
 },
 "nbformat": 4,
 "nbformat_minor": 5
}
