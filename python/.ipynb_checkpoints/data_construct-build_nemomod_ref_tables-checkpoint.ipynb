{
 "cells": [
  {
   "cell_type": "code",
   "execution_count": 434,
   "metadata": {},
   "outputs": [
    {
     "name": "stderr",
     "output_type": "stream",
     "text": [
      "/Users/jsyme/Documents/Projects/git_jbus/lac_decarbonization/python/data_structures.py:771: UserWarning: Invalid subsector attribute 'key_varreqs_partial'. Valid return type values are:'pycategory_primary', 'abv_subsector', 'sector', 'abv_sector', 'key_varreqs_all'\n",
      "  warnings.warn(f\"Invalid subsector attribute '{return_type}'. Valid return type values are:{valid_rts}\")\n"
     ]
    },
    {
     "data": {
      "text/plain": [
       "<module 'model_electricity' from '/Users/jsyme/Documents/Projects/git_jbus/lac_decarbonization/python/model_electricity.py'>"
      ]
     },
     "execution_count": 434,
     "metadata": {},
     "output_type": "execute_result"
    }
   ],
   "source": [
    "import os, os.path\n",
    "import numpy as np\n",
    "import pandas as pd\n",
    "import data_structures as ds\n",
    "import model_afolu as ma\n",
    "import model_ippu as mi\n",
    "import model_circular_economy as mc\n",
    "import model_energy as me\n",
    "import model_electricity as ml\n",
    "import model_socioeconomic as se\n",
    "from model_socioeconomic import Socioeconomic\n",
    "import setup_analysis as sa\n",
    "import support_functions as sf\n",
    "import importlib\n",
    "import time\n",
    "import warnings\n",
    "import matplotlib.pyplot as plt\n",
    "\n",
    "importlib.reload(ds)\n",
    "importlib.reload(sa)\n",
    "importlib.reload(sf)\n",
    "importlib.reload(ma)\n",
    "importlib.reload(mc)\n",
    "importlib.reload(mi)\n",
    "importlib.reload(me)\n",
    "importlib.reload(se)\n",
    "importlib.reload(ml)\n"
   ]
  },
  {
   "cell_type": "code",
   "execution_count": 437,
   "metadata": {},
   "outputs": [
    {
     "data": {
      "text/html": [
       "<div>\n",
       "<style scoped>\n",
       "    .dataframe tbody tr th:only-of-type {\n",
       "        vertical-align: middle;\n",
       "    }\n",
       "\n",
       "    .dataframe tbody tr th {\n",
       "        vertical-align: top;\n",
       "    }\n",
       "\n",
       "    .dataframe thead th {\n",
       "        text-align: right;\n",
       "    }\n",
       "</style>\n",
       "<table border=\"1\" class=\"dataframe\">\n",
       "  <thead>\n",
       "    <tr style=\"text-align: right;\">\n",
       "      <th></th>\n",
       "      <th>ts_group_1</th>\n",
       "      <th>description</th>\n",
       "      <th>multiplier</th>\n",
       "    </tr>\n",
       "  </thead>\n",
       "  <tbody>\n",
       "    <tr>\n",
       "      <th>0</th>\n",
       "      <td>summer</td>\n",
       "      <td>Season of summer</td>\n",
       "      <td>13.035714</td>\n",
       "    </tr>\n",
       "    <tr>\n",
       "      <th>1</th>\n",
       "      <td>fall</td>\n",
       "      <td>Season of fall</td>\n",
       "      <td>13.035714</td>\n",
       "    </tr>\n",
       "    <tr>\n",
       "      <th>2</th>\n",
       "      <td>winter</td>\n",
       "      <td>Season of winter</td>\n",
       "      <td>13.035714</td>\n",
       "    </tr>\n",
       "    <tr>\n",
       "      <th>3</th>\n",
       "      <td>spring</td>\n",
       "      <td>Season of spring</td>\n",
       "      <td>13.035714</td>\n",
       "    </tr>\n",
       "  </tbody>\n",
       "</table>\n",
       "</div>"
      ],
      "text/plain": [
       "  ts_group_1       description  multiplier\n",
       "0     summer  Season of summer   13.035714\n",
       "1       fall    Season of fall   13.035714\n",
       "2     winter  Season of winter   13.035714\n",
       "3     spring  Season of spring   13.035714"
      ]
     },
     "execution_count": 437,
     "metadata": {},
     "output_type": "execute_result"
    }
   ],
   "source": [
    "sa.model_attributes.dict_attributes[\"ts_group_1\"].table"
   ]
  },
  {
   "cell_type": "code",
   "execution_count": null,
   "metadata": {},
   "outputs": [],
   "source": []
  },
  {
   "cell_type": "code",
   "execution_count": null,
   "metadata": {},
   "outputs": [],
   "source": []
  },
  {
   "cell_type": "code",
   "execution_count": 345,
   "metadata": {},
   "outputs": [],
   "source": [
    "##  SpecifiedDemandProfile\n",
    "\n",
    "# get the baseline specified demand profiles\n",
    "fp_spd_excel = \"/Users/jsyme/Documents/Projects/FY21/SWCHE131_1000/Data/Energy/estimate_of_nemomod_specified_demand_profile.xlsx\"\n",
    "df_spd = pd.read_excel(fp_spd_excel, sheet_name = \"SpecifiedDemandProfile\")\n",
    "# get regions, fuels, and time periods, then initialize\n",
    "regions = sa.model_attributes.dict_attributes[\"region\"].key_values;\n",
    "df_spd_out = pd.DataFrame({\"r\": regions})\n",
    "# add dummy key to both and merge\n",
    "field_key_dummy = \"key_merge\"\n",
    "df_spd[field_key_dummy] = 0\n",
    "df_spd_out[field_key_dummy] = 0\n",
    "df_spd_out = pd.merge(df_spd_out, df_spd, on = [field_key_dummy], how = \"outer\").drop([field_key_dummy], axis = 1).sort_values(by = [\"r\", \"id\"])\n",
    "df_spd_out = df_spd_out.drop([\"id\"], axis = 1).reset_index(drop = True)\n",
    "\n",
    "# write to output\n",
    "#df_spd_out.to_csv(sa.fp_csv_nemomod_input_specified_demand_profile, index = None, encoding = \"UTF-8\")\n"
   ]
  },
  {
   "cell_type": "code",
   "execution_count": null,
   "metadata": {},
   "outputs": [],
   "source": []
  },
  {
   "cell_type": "code",
   "execution_count": 372,
   "metadata": {},
   "outputs": [],
   "source": [
    "# check TimeSlice attribute\n",
    "df_tmp = sa.model_attributes.dict_attributes[\"time_slice\"].table.copy()\n",
    "\n",
    "\n",
    "dict_repl = {\"weekday\": 5/7, \"weekend\": 2/7}\n",
    "df_tmp[\"weight\"] = df_tmp[\"tg2\"].replace(dict_repl)\n",
    "\n",
    "dict_denom = {}\n",
    "for k in dict_repl.keys():\n",
    "    df_filt = df_tmp[df_tmp[\"tg2\"].isin([k])]\n",
    "    dict_denom.update({k: len(df_filt)})\n",
    "\n",
    "df_tmp[\"denom\"] = df_tmp[\"tg2\"].replace(dict_denom)\n",
    "df_tmp[\"weight\"] = np.array(df_tmp[\"weight\"])/np.array(df_tmp[\"denom\"])\n",
    "df_tmp.drop([\"denom\"], axis = 1, inplace = True)\n",
    "df_tmp.rename(columns = {\"time_slice\": \"``$TIME-SLICE$``\"}, inplace = True)\n",
    "# uncomment to export\n",
    "#df_tmp.to_csv(sa.model_attributes.dict_attributes[\"time_slice\"].fp_table, index = None, encoding = \"UTF-8\")"
   ]
  },
  {
   "cell_type": "code",
   "execution_count": 441,
   "metadata": {},
   "outputs": [
    {
     "name": "stderr",
     "output_type": "stream",
     "text": [
      "/Users/jsyme/Documents/Projects/git_jbus/lac_decarbonization/python/data_structures.py:771: UserWarning: Invalid subsector attribute 'key_varreqs_partial'. Valid return type values are:'pycategory_primary', 'abv_subsector', 'sector', 'abv_sector', 'key_varreqs_all'\n",
      "  warnings.warn(f\"Invalid subsector attribute '{return_type}'. Valid return type values are:{valid_rts}\")\n"
     ]
    },
    {
     "data": {
      "text/plain": [
       "(   id       r                  t                  s         m  val\n",
       " 0   1  brazil       st_batteries       st_batteries  generate  1.0\n",
       " 1   2  brazil  st_compressed_air  st_compressed_air  generate  1.0\n",
       " 2   3  brazil       st_flywheels       st_flywheels  generate  1.0,\n",
       "     id       r                  t                  s         m  val\n",
       " 0    1  brazil      pp_geothermal       st_batteries  generate  1.0\n",
       " 1    2  brazil            pp_wind       st_batteries  generate  1.0\n",
       " 2    3  brazil       st_flywheels       st_flywheels     store  1.0\n",
       " 3    4  brazil  st_compressed_air  st_compressed_air     store  1.0\n",
       " 4    5  brazil       st_batteries       st_batteries     store  1.0\n",
       " 5    6  brazil           pp_solar       st_flywheels  generate  1.0\n",
       " 6    7  brazil           pp_solar  st_compressed_air  generate  1.0\n",
       " 7    8  brazil           pp_solar       st_batteries  generate  1.0\n",
       " 8    9  brazil           pp_ocean       st_flywheels  generate  1.0\n",
       " 9   10  brazil           pp_ocean  st_compressed_air  generate  1.0\n",
       " 10  11  brazil           pp_ocean       st_batteries  generate  1.0\n",
       " 11  12  brazil      pp_hydropower       st_flywheels  generate  1.0\n",
       " 12  13  brazil      pp_hydropower  st_compressed_air  generate  1.0\n",
       " 13  14  brazil      pp_hydropower       st_batteries  generate  1.0\n",
       " 14  15  brazil      pp_geothermal       st_flywheels  generate  1.0\n",
       " 15  16  brazil      pp_geothermal  st_compressed_air  generate  1.0\n",
       " 16  17  brazil            pp_wind  st_compressed_air  generate  1.0\n",
       " 17  18  brazil            pp_wind       st_flywheels  generate  1.0)"
      ]
     },
     "execution_count": 441,
     "metadata": {},
     "output_type": "execute_result"
    }
   ],
   "source": [
    "importlib.reload(ml)\n",
    "model_elec = ml.ElectricEnergy(sa.model_attributes)\n",
    "#df_spd = pd.read_csv(sa.fp_csv_nemomod_input_specified_demand_profile)\n",
    "\n",
    "#dict_from_storage, dict_to_storage, dict_storage_techs_to_storage = model_elec.format_nemomod_table_technology_from_and_to_storage()\n",
    "model_elec.format_nemomod_table_technology_from_and_to_storage()\n"
   ]
  },
  {
   "cell_type": "code",
   "execution_count": 379,
   "metadata": {},
   "outputs": [],
   "source": [
    "df_ltsgroup, df_yearsplit = model_elec.format_nemomod_table_ltsgroup_and_year_split()\n"
   ]
  },
  {
   "cell_type": "code",
   "execution_count": 427,
   "metadata": {},
   "outputs": [
    {
     "data": {
      "text/plain": [
       "4.999999871999993"
      ]
     },
     "execution_count": 427,
     "metadata": {},
     "output_type": "execute_result"
    }
   ],
   "source": [
    "df_tmp = sa.model_attributes.dict_attributes[\"time_slice\"].table\n",
    "7*sum(np.array(df_tmp[df_tmp[\"tg2\"] == \"weekday\"][\"weight\"])*8760)/8760"
   ]
  },
  {
   "cell_type": "code",
   "execution_count": 386,
   "metadata": {},
   "outputs": [
    {
     "data": {
      "text/html": [
       "<div>\n",
       "<style scoped>\n",
       "    .dataframe tbody tr th:only-of-type {\n",
       "        vertical-align: middle;\n",
       "    }\n",
       "\n",
       "    .dataframe tbody tr th {\n",
       "        vertical-align: top;\n",
       "    }\n",
       "\n",
       "    .dataframe thead th {\n",
       "        text-align: right;\n",
       "    }\n",
       "</style>\n",
       "<table border=\"1\" class=\"dataframe\">\n",
       "  <thead>\n",
       "    <tr style=\"text-align: right;\">\n",
       "      <th></th>\n",
       "      <th>val</th>\n",
       "      <th>desc</th>\n",
       "    </tr>\n",
       "  </thead>\n",
       "  <tbody>\n",
       "    <tr>\n",
       "      <th>0</th>\n",
       "      <td>generate</td>\n",
       "      <td>Storage technologies (``st_``) can generate an...</td>\n",
       "    </tr>\n",
       "    <tr>\n",
       "      <th>1</th>\n",
       "      <td>store</td>\n",
       "      <td>Storage technologies (``st_``) can generate an...</td>\n",
       "    </tr>\n",
       "  </tbody>\n",
       "</table>\n",
       "</div>"
      ],
      "text/plain": [
       "        val                                               desc\n",
       "0  generate  Storage technologies (``st_``) can generate an...\n",
       "1     store  Storage technologies (``st_``) can generate an..."
      ]
     },
     "execution_count": 386,
     "metadata": {},
     "output_type": "execute_result"
    }
   ],
   "source": [
    "model_elec.format_nemomod_attribute_table_mode_of_operation()"
   ]
  },
  {
   "cell_type": "code",
   "execution_count": 433,
   "metadata": {},
   "outputs": [
    {
     "data": {
      "text/html": [
       "<div>\n",
       "<style scoped>\n",
       "    .dataframe tbody tr th:only-of-type {\n",
       "        vertical-align: middle;\n",
       "    }\n",
       "\n",
       "    .dataframe tbody tr th {\n",
       "        vertical-align: top;\n",
       "    }\n",
       "\n",
       "    .dataframe thead th {\n",
       "        text-align: right;\n",
       "    }\n",
       "</style>\n",
       "<table border=\"1\" class=\"dataframe\">\n",
       "  <thead>\n",
       "    <tr style=\"text-align: right;\">\n",
       "      <th></th>\n",
       "      <th>tg2</th>\n",
       "      <th>val</th>\n",
       "    </tr>\n",
       "    <tr>\n",
       "      <th>tg2</th>\n",
       "      <th></th>\n",
       "      <th></th>\n",
       "    </tr>\n",
       "  </thead>\n",
       "  <tbody>\n",
       "    <tr>\n",
       "      <th>weekday</th>\n",
       "      <td>weekday</td>\n",
       "      <td>0.714286</td>\n",
       "    </tr>\n",
       "    <tr>\n",
       "      <th>weekend</th>\n",
       "      <td>weekend</td>\n",
       "      <td>0.285714</td>\n",
       "    </tr>\n",
       "  </tbody>\n",
       "</table>\n",
       "</div>"
      ],
      "text/plain": [
       "             tg2       val\n",
       "tg2                       \n",
       "weekday  weekday  0.714286\n",
       "weekend  weekend  0.285714"
      ]
     },
     "execution_count": 433,
     "metadata": {},
     "output_type": "execute_result"
    }
   ],
   "source": [
    "df_tgs[[\"tg2\", \"val\"]].groupby([\"tg2\"]).agg({\"tg2\": \"first\", \"val\": \"sum\"})"
   ]
  },
  {
   "cell_type": "code",
   "execution_count": 395,
   "metadata": {},
   "outputs": [],
   "source": [
    "# get time groups\n",
    "df_tgs = pd.merge(\n",
    "    df_ltsgroup[[model_elec.field_nemomod_id, model_elec.field_nemomod_time_slice, model_elec.field_nemomod_tg1, model_elec.field_nemomod_tg2]],\n",
    "    df_yearsplit[df_yearsplit[model_elec.field_nemomod_year] == min(df_yearsplit[model_elec.field_nemomod_year])][[model_elec.field_nemomod_time_slice, model_elec.field_nemomod_value]],\n",
    "    how = \"left\"\n",
    ").sort_values(by = [model_elec.field_nemomod_id])\n",
    "\n",
    "# assume ordering is correct from attribute table"
   ]
  },
  {
   "cell_type": "code",
   "execution_count": 445,
   "metadata": {},
   "outputs": [
    {
     "data": {
      "text/html": [
       "<div>\n",
       "<style scoped>\n",
       "    .dataframe tbody tr th:only-of-type {\n",
       "        vertical-align: middle;\n",
       "    }\n",
       "\n",
       "    .dataframe tbody tr th {\n",
       "        vertical-align: top;\n",
       "    }\n",
       "\n",
       "    .dataframe thead th {\n",
       "        text-align: right;\n",
       "    }\n",
       "</style>\n",
       "<table border=\"1\" class=\"dataframe\">\n",
       "  <thead>\n",
       "    <tr style=\"text-align: right;\">\n",
       "      <th></th>\n",
       "      <th>ts_group_1</th>\n",
       "      <th>description</th>\n",
       "      <th>multiplier</th>\n",
       "    </tr>\n",
       "  </thead>\n",
       "  <tbody>\n",
       "    <tr>\n",
       "      <th>0</th>\n",
       "      <td>summer</td>\n",
       "      <td>Season of summer</td>\n",
       "      <td>13.035714</td>\n",
       "    </tr>\n",
       "    <tr>\n",
       "      <th>1</th>\n",
       "      <td>fall</td>\n",
       "      <td>Season of fall</td>\n",
       "      <td>13.035714</td>\n",
       "    </tr>\n",
       "    <tr>\n",
       "      <th>2</th>\n",
       "      <td>winter</td>\n",
       "      <td>Season of winter</td>\n",
       "      <td>13.035714</td>\n",
       "    </tr>\n",
       "    <tr>\n",
       "      <th>3</th>\n",
       "      <td>spring</td>\n",
       "      <td>Season of spring</td>\n",
       "      <td>13.035714</td>\n",
       "    </tr>\n",
       "  </tbody>\n",
       "</table>\n",
       "</div>"
      ],
      "text/plain": [
       "  ts_group_1       description  multiplier\n",
       "0     summer  Season of summer   13.035714\n",
       "1       fall    Season of fall   13.035714\n",
       "2     winter  Season of winter   13.035714\n",
       "3     spring  Season of spring   13.035714"
      ]
     },
     "execution_count": 445,
     "metadata": {},
     "output_type": "execute_result"
    }
   ],
   "source": [
    "model_elec.model_attributes.dict_attributes[\"ts_group_1\"].table\n"
   ]
  },
  {
   "cell_type": "code",
   "execution_count": 447,
   "metadata": {},
   "outputs": [],
   "source": [
    "\n",
    "##  format TSGROUP1 and TSGROUP2 \n",
    "\n",
    "# some dictionaries\n",
    "dict_field_to_attribute = {model_elec.field_nemomod_tg1: \"ts_group_1\", model_elec.field_nemomod_tg2: \"ts_group_2\"}\n",
    "dict_tg = {}\n",
    "\n",
    "for fld in [model_elec.field_nemomod_tg1, model_elec.field_nemomod_tg2]:\n",
    "    \n",
    "    # prepare from LTsGroup table\n",
    "    dict_agg = {\n",
    "        model_elec.field_nemomod_id: \"first\",\n",
    "        fld: \"first\"\n",
    "    }\n",
    "\n",
    "    df_tgs_out = df_tgs[[\n",
    "        model_elec.field_nemomod_id, fld\n",
    "    ]].groupby(\n",
    "        [fld]\n",
    "    ).agg(dict_agg).sort_values(\n",
    "        by = [model_elec.field_nemomod_id]\n",
    "    ).reset_index(\n",
    "        drop = True\n",
    "    )\n",
    "\n",
    "    # get attribute for time slice group\n",
    "    attr_cur = model_elec.model_attributes.dict_attributes[dict_field_to_attribute[fld]].table.copy()\n",
    "    attr_cur.rename(\n",
    "        columns = {\n",
    "            dict_field_to_attribute[fld]: model_elec.field_nemomod_name,\n",
    "            \"description\": model_elec.field_nemomod_description,\n",
    "            \"multiplier\": model_elec.field_nemomod_multiplier\n",
    "        }, inplace = True\n",
    "    )\n",
    "   \n",
    "    df_tgs_out[model_elec.field_nemomod_order] = range(1, len(df_tgs_out) + 1)\n",
    "    df_tgs_out = df_tgs_out.drop([model_elec.field_nemomod_id], axis = 1).rename(\n",
    "        columns = {\n",
    "            fld: model_elec.field_nemomod_name\n",
    "        }\n",
    "    )\n",
    "    df_tgs_out = pd.merge(df_tgs_out, attr_cur).sort_values(by = [model_elec.field_nemomod_order]).reset_index(drop = True)\n",
    "    \n",
    "    # order for output\n",
    "    df_tgs_out = df_tgs_out[[\n",
    "        model_elec.field_nemomod_name, \n",
    "        model_elec.field_nemomod_description,\n",
    "        model_elec.field_nemomod_order, \n",
    "        model_elec.field_nemomod_multiplier,\n",
    "    ]]\n",
    "    \n",
    "    dict_tg.update({fld: df_tgs_out})\n",
    "    \n",
    "    \n",
    "\n",
    "\n",
    "\n",
    "\n",
    "\n",
    "    \n",
    "    \n",
    "    \n",
    "    "
   ]
  },
  {
   "cell_type": "code",
   "execution_count": 449,
   "metadata": {},
   "outputs": [
    {
     "data": {
      "text/html": [
       "<div>\n",
       "<style scoped>\n",
       "    .dataframe tbody tr th:only-of-type {\n",
       "        vertical-align: middle;\n",
       "    }\n",
       "\n",
       "    .dataframe tbody tr th {\n",
       "        vertical-align: top;\n",
       "    }\n",
       "\n",
       "    .dataframe thead th {\n",
       "        text-align: right;\n",
       "    }\n",
       "</style>\n",
       "<table border=\"1\" class=\"dataframe\">\n",
       "  <thead>\n",
       "    <tr style=\"text-align: right;\">\n",
       "      <th></th>\n",
       "      <th>name</th>\n",
       "      <th>desc</th>\n",
       "      <th>order</th>\n",
       "      <th>multiplier</th>\n",
       "    </tr>\n",
       "  </thead>\n",
       "  <tbody>\n",
       "    <tr>\n",
       "      <th>0</th>\n",
       "      <td>summer</td>\n",
       "      <td>Season of summer</td>\n",
       "      <td>1</td>\n",
       "      <td>13.035714</td>\n",
       "    </tr>\n",
       "    <tr>\n",
       "      <th>1</th>\n",
       "      <td>fall</td>\n",
       "      <td>Season of fall</td>\n",
       "      <td>2</td>\n",
       "      <td>13.035714</td>\n",
       "    </tr>\n",
       "    <tr>\n",
       "      <th>2</th>\n",
       "      <td>winter</td>\n",
       "      <td>Season of winter</td>\n",
       "      <td>3</td>\n",
       "      <td>13.035714</td>\n",
       "    </tr>\n",
       "    <tr>\n",
       "      <th>3</th>\n",
       "      <td>spring</td>\n",
       "      <td>Season of spring</td>\n",
       "      <td>4</td>\n",
       "      <td>13.035714</td>\n",
       "    </tr>\n",
       "  </tbody>\n",
       "</table>\n",
       "</div>"
      ],
      "text/plain": [
       "     name              desc  order  multiplier\n",
       "0  summer  Season of summer      1   13.035714\n",
       "1    fall    Season of fall      2   13.035714\n",
       "2  winter  Season of winter      3   13.035714\n",
       "3  spring  Season of spring      4   13.035714"
      ]
     },
     "execution_count": 449,
     "metadata": {},
     "output_type": "execute_result"
    }
   ],
   "source": [
    "dict_tg[\"tg1\"]"
   ]
  },
  {
   "cell_type": "code",
   "execution_count": 452,
   "metadata": {},
   "outputs": [
    {
     "data": {
      "text/plain": [
       "364.999992"
      ]
     },
     "execution_count": 452,
     "metadata": {},
     "output_type": "execute_result"
    }
   ],
   "source": [
    "13.035714*28"
   ]
  },
  {
   "cell_type": "code",
   "execution_count": null,
   "metadata": {},
   "outputs": [],
   "source": []
  },
  {
   "cell_type": "code",
   "execution_count": null,
   "metadata": {},
   "outputs": [],
   "source": []
  }
 ],
 "metadata": {
  "kernelspec": {
   "display_name": "Python 3",
   "language": "python",
   "name": "python3"
  },
  "language_info": {
   "codemirror_mode": {
    "name": "ipython",
    "version": 3
   },
   "file_extension": ".py",
   "mimetype": "text/x-python",
   "name": "python",
   "nbconvert_exporter": "python",
   "pygments_lexer": "ipython3",
   "version": "3.8.5"
  }
 },
 "nbformat": 4,
 "nbformat_minor": 4
}
