{
 "cells": [
  {
   "cell_type": "code",
   "execution_count": 59,
   "metadata": {},
   "outputs": [],
   "source": [
    "import os, os.path\n",
    "import numpy as np\n",
    "import pandas as pd\n",
    "import data_structures as ds\n",
    "import setup_analysis as sa\n",
    "import support_functions as sf\n",
    "import importlib\n",
    "import time\n",
    "import warnings\n",
    "import matplotlib.pyplot as plt\n",
    "import geopandas as gpd\n",
    "import rioxarray as rx\n",
    "import itertools\n",
    "import model_afolu as ma\n",
    "import owslib\n",
    "from owslib.wcs import WebCoverageService\n",
    "from soilgrids import SoilGrids\n",
    "import pyproj"
   ]
  },
  {
   "cell_type": "code",
   "execution_count": 217,
   "metadata": {},
   "outputs": [],
   "source": [
    "dir_data = \"/Users/jsyme/Documents/Projects/FY21/SWCHE131_1000/Data/AFOLU\"\n",
    "\n",
    "# set names \n",
    "# source of tif: https://files.isric.org/soilgrids/latest/data_aggregated/1000m/ocs/\n",
    "fn_soils = \"ocs_0-30cm_mean_1000.tif\"\n",
    "fn_countries = \"WB_countries_Admin0_10m\"\n",
    "\n",
    "fp_soils = os.path.join(dir_data, fn_soils)\n",
    "fp_countries = os.path.join(dir_data, fn_countries, f\"{fn_countries}.shp\")\n",
    "\n",
    "model_afolu = ma.AFOLU(sa.model_attributes)\n",
    "\n",
    "\n",
    "# get some geo data: \n",
    "# WKT for SoilGrids from https://www.isric.org/explore/soilgrids/faq-soilgrids\n",
    "#\n",
    "wkt_soil_grid = \"\"\"\n",
    "    PROJCS[\"Homolosine\", \n",
    "    GEOGCS[\"WGS 84\", \n",
    "        DATUM[\"WGS_1984\", \n",
    "            SPHEROID[\"WGS 84\",6378137,298.257223563, \n",
    "                AUTHORITY[\"EPSG\",\"7030\"]], \n",
    "   AUTHORITY[\"EPSG\",\"6326\"]], \n",
    "        PRIMEM[\"Greenwich\",0, \n",
    "            AUTHORITY[\"EPSG\",\"8901\"]], \n",
    "        UNIT[\"degree\",0.0174532925199433, \n",
    "            AUTHORITY[\"EPSG\",\"9122\"]], \n",
    "        AUTHORITY[\"EPSG\",\"4326\"]], \n",
    "    PROJECTION[\"Interrupted_Goode_Homolosine\"], \n",
    "    UNIT[\"Meter\",1]]\n",
    "\"\"\"\n",
    "#\n",
    "# information on reprojecting using WKT: https://pyproj4.github.io/pyproj/dev/gotchas.html\n",
    "#\n",
    "wkt_soil_grid = wkt_soil_grid.replace(\"\\n\", \"\").replace(\"    \", \"\")\n",
    "crs_base = pyproj.CRS.from_epsg(4326)\n",
    "crs_soil = pyproj.CRS.from_wkt(wkt_soil_grid)\n",
    "tform = pyproj.Transformer.from_crs(crs_base,crs_soil)"
   ]
  },
  {
   "cell_type": "code",
   "execution_count": 83,
   "metadata": {},
   "outputs": [],
   "source": [
    "# convert geotiff to dataframe\n",
    "rx_array = rx.open_rasterio(fp_soils)\n",
    "df_soils = rx_array[0].to_pandas()\n"
   ]
  },
  {
   "cell_type": "code",
   "execution_count": 256,
   "metadata": {},
   "outputs": [],
   "source": [
    "pts = [\n",
    "    (x_min, y_min),\n",
    "    (x_min, y_max),\n",
    "    (x_max, y_max),\n",
    "    (x_max, y_min)\n",
    "]\n",
    "\n",
    "# create points in soil grids projection\n",
    "gdf_test = gpd.GeoDataFrame(\n",
    "    range(1, len(pts) + 1), \n",
    "    geometry = gpd.points_from_xy([x[0] for x in pts], [x[1] for x in pts])\n",
    ")\n",
    "gdf_test.crs = crs_base\n",
    "gdf_test = gdf_test.to_crs(crs_soil)\n",
    "bds = gdf_test.bounds#[\"minx\"]\n",
    "min_x = min(bds[\"minx\"])\n",
    "min_y = min(bds[\"miny\"])\n",
    "max_x = max(bds[\"maxx\"])\n",
    "max_y = max(bds[\"maxy\"])\n",
    "\n",
    "\n",
    "flag_empty = -32768\n",
    "inds_all = list(df_soils.index)\n",
    "inds_keep = [x for x in inds_all if (x <= max_y) and (x >= min_y)]\n",
    "inds_keep = [inds_all.index(x) for x in inds_keep]\n",
    "fields_keep = [x for x in df_soils.columns if (x <= max_x) and (x >= min_x)]\n",
    "\n",
    "df_soils_red = df_soils[fields_keep].iloc[inds_keep]\n",
    "\n",
    "# drop columns\n",
    "drops = []\n",
    "for k in df_soils_red.columns:\n",
    "    if len(set(df_soils_red[k])) == 1:\n",
    "        drops.append(k)\n",
    "\n",
    "# rows to drop\n",
    "drops_row = []\n",
    "for i in range(len(df_soils_red)):\n",
    "    s = set(df_soils_red.iloc[i])\n",
    "    if (len(s) == 1) and (flag_empty in s):\n",
    "        drops_row.append(i)\n",
    "\n",
    "\n",
    "df_soils_red.drop(drops, axis = 1, inplace = True)\n",
    "df_soils_red.drop(df_soils_red.index[drops_row], axis = 0, inplace = True)\n",
    "df_soils_red.reset_index(inplace = True)\n",
    "# reshape\n",
    "dfs = pd.melt(df_soils_red, [\"y\"]);\n",
    "dfs = dfs[dfs[\"value\"] != flag_empty].reset_index(drop = True)\n",
    "\n",
    "# create points with soils\n",
    "gdf_soils = gpd.GeoDataFrame(\n",
    "    dfs, \n",
    "    geometry = gpd.points_from_xy(dfs[\"x\"], dfs[\"y\"])\n",
    ")\n",
    "gdf_soils.crs = crs_soil\n",
    "# reproject\n",
    "print(\"reprojecting...\")\n",
    "gdf_soils = gdf_soils.to_crs(crs_base)\n"
   ]
  },
  {
   "cell_type": "code",
   "execution_count": 304,
   "metadata": {},
   "outputs": [],
   "source": [
    "gdf_soils = gdf_soils.to_crs(crs_base)"
   ]
  },
  {
   "cell_type": "code",
   "execution_count": null,
   "metadata": {},
   "outputs": [],
   "source": [
    "gdf_soils.to_file(os.path.join(dir_data, \"soil_grids_lac.shp\"))"
   ]
  },
  {
   "cell_type": "code",
   "execution_count": 307,
   "metadata": {},
   "outputs": [
    {
     "data": {
      "text/plain": [
       "'/Users/jsyme/Documents/Projects/FY21/SWCHE131_1000/Data/AFOLU'"
      ]
     },
     "execution_count": 307,
     "metadata": {},
     "output_type": "execute_result"
    }
   ],
   "source": []
  },
  {
   "cell_type": "code",
   "execution_count": null,
   "metadata": {},
   "outputs": [],
   "source": []
  },
  {
   "cell_type": "code",
   "execution_count": 216,
   "metadata": {},
   "outputs": [
    {
     "ename": "ValueError",
     "evalue": "Please provide a coordinate system code from the following options for crs: \nurn:ogc:def:crs:EPSG::152160\nurn:ogc:def:crs:EPSG::4326\nurn:ogc:def:crs:EPSG::3857\nurn:ogc:def:crs:EPSG::54009\nurn:ogc:def:crs:EPSG::54012\nurn:ogc:def:crs:EPSG::152160",
     "output_type": "error",
     "traceback": [
      "\u001b[0;31m---------------------------------------------------------------------------\u001b[0m",
      "\u001b[0;31mValueError\u001b[0m                                Traceback (most recent call last)",
      "\u001b[0;32m<ipython-input-216-3eeae00f4a5d>\u001b[0m in \u001b[0;36m<module>\u001b[0;34m\u001b[0m\n\u001b[1;32m     10\u001b[0m \u001b[0;34m\u001b[0m\u001b[0m\n\u001b[1;32m     11\u001b[0m \u001b[0msoil_grids\u001b[0m \u001b[0;34m=\u001b[0m \u001b[0mSoilGrids\u001b[0m\u001b[0;34m(\u001b[0m\u001b[0;34m)\u001b[0m\u001b[0;34m\u001b[0m\u001b[0;34m\u001b[0m\u001b[0m\n\u001b[0;32m---> 12\u001b[0;31m response = soil_grids.get_coverage_data(\n\u001b[0m\u001b[1;32m     13\u001b[0m     \u001b[0mservice_id\u001b[0m \u001b[0;34m=\u001b[0m \u001b[0;34m\"ocs\"\u001b[0m\u001b[0;34m,\u001b[0m\u001b[0;34m\u001b[0m\u001b[0;34m\u001b[0m\u001b[0m\n\u001b[1;32m     14\u001b[0m     \u001b[0mcoverage_id\u001b[0m \u001b[0;34m=\u001b[0m \u001b[0;34m\"ocs_0-30cm_mean\"\u001b[0m\u001b[0;34m,\u001b[0m\u001b[0;34m\u001b[0m\u001b[0;34m\u001b[0m\u001b[0m\n",
      "\u001b[0;32m~/anaconda3/lib/python3.8/site-packages/soilgrids/soilgrids.py\u001b[0m in \u001b[0;36mget_coverage_data\u001b[0;34m(self, service_id, coverage_id, crs, west, south, east, north, output, resx, resy, width, height, response_crs, local_file)\u001b[0m\n\u001b[1;32m    126\u001b[0m         \u001b[0mcrs_list\u001b[0m \u001b[0;34m=\u001b[0m \u001b[0;34m[\u001b[0m\u001b[0mCRS\u001b[0m\u001b[0;34m.\u001b[0m\u001b[0mgetcodeurn\u001b[0m\u001b[0;34m(\u001b[0m\u001b[0;34m)\u001b[0m \u001b[0;32mfor\u001b[0m \u001b[0mCRS\u001b[0m \u001b[0;32min\u001b[0m \u001b[0mcoverage_obj\u001b[0m\u001b[0;34m.\u001b[0m\u001b[0msupportedCRS\u001b[0m\u001b[0;34m]\u001b[0m\u001b[0;34m\u001b[0m\u001b[0;34m\u001b[0m\u001b[0m\n\u001b[1;32m    127\u001b[0m         \u001b[0;32mif\u001b[0m \u001b[0mcrs\u001b[0m \u001b[0;32mnot\u001b[0m \u001b[0;32min\u001b[0m \u001b[0mcrs_list\u001b[0m\u001b[0;34m:\u001b[0m\u001b[0;34m\u001b[0m\u001b[0;34m\u001b[0m\u001b[0m\n\u001b[0;32m--> 128\u001b[0;31m             raise ValueError('Please provide a coordinate system code from the following options for crs: \\n{}'.\n\u001b[0m\u001b[1;32m    129\u001b[0m                              format('\\n'.join(crs_list)))\n\u001b[1;32m    130\u001b[0m         \u001b[0;32mif\u001b[0m \u001b[0;34m'4326'\u001b[0m \u001b[0;32min\u001b[0m \u001b[0mcrs\u001b[0m\u001b[0;34m:\u001b[0m\u001b[0;34m\u001b[0m\u001b[0;34m\u001b[0m\u001b[0m\n",
      "\u001b[0;31mValueError\u001b[0m: Please provide a coordinate system code from the following options for crs: \nurn:ogc:def:crs:EPSG::152160\nurn:ogc:def:crs:EPSG::4326\nurn:ogc:def:crs:EPSG::3857\nurn:ogc:def:crs:EPSG::54009\nurn:ogc:def:crs:EPSG::54012\nurn:ogc:def:crs:EPSG::152160"
     ]
    }
   ],
   "source": [
    "key_ocs = \"ocs_0-30cm_mean\"\n",
    "\n",
    "# see rough bounds: http://bboxfinder.com/#-55.776573,-126.386719,33.431441,-33.398438\n",
    "x_max = -34\n",
    "x_min = -119\n",
    "y_max = 33\n",
    "y_min = -58\n",
    "# ymin, xmin, ymax, xmax \n",
    "\n",
    "\n",
    "soil_grids = SoilGrids()\n",
    "response = soil_grids.get_coverage_data(\n",
    "    service_id = \"ocs\", \n",
    "    coverage_id = \"ocs_0-30cm_mean\",\n",
    "    west = min_x,\n",
    "    south = min_y, \n",
    "    east = max_x, \n",
    "    north = max_y,\n",
    "    crs = \"urn:ogc:def:crs:EPSG::28992\",\n",
    "    output = \"output.tif\"\n",
    ")\n"
   ]
  },
  {
   "cell_type": "code",
   "execution_count": 4,
   "metadata": {},
   "outputs": [],
   "source": [
    "# get countries \n",
    "countries_keep = list(sa.model_attributes.dict_attributes.get(\"region\").table[\"category_name\"])\n",
    "gdf_world = gpd.read_file(fp_countries)\n",
    "\n",
    "# some replacements\n",
    "field_en = \"NAME_EN\"\n",
    "dict_repl = {\"The Bahamas\": \"Bahamas\"}\n",
    "gdf_world[field_en] = gdf_world[field_en].replace(dict_repl)\n",
    "gdf_world_red = gdf_world[gdf_world[field_en].isin(countries_keep)]\n",
    "gdf_lac = gdf_world_red[[\"NAME_EN\", \"geometry\"]]\n",
    "gdf_lac_bounds = gdf_lac.bounds"
   ]
  },
  {
   "cell_type": "code",
   "execution_count": 154,
   "metadata": {},
   "outputs": [],
   "source": [
    "#\n",
    "#  get web coverage service for soil\n",
    "#  maps: https://maps.isric.org\n",
    "#\n",
    "#  OWSLib documentation: https://geopython.github.io/OWSLib/usage.html#wcs\n",
    "#\n",
    "#\n",
    "\n",
    "# retrieve OCS: organic carbon stock at 30 cm\n",
    "wcs_soil = WebCoverageService('https://maps.isric.org/mapserv?map=/map/ocs.map', version='2.0.1')\n",
    "key_ocs = \"ocs_0-30cm_mean\"\n",
    "\n",
    "# see rough bounds: http://bboxfinder.com/#-55.776573,-126.386719,33.431441,-33.398438\n",
    "x_max = -34\n",
    "x_min = -119\n",
    "y_max = 33\n",
    "y_min = -58\n",
    "# ymin, xmin, ymax, xmax \n",
    "\n",
    "\n",
    "soil_grids = SoilGrids()"
   ]
  },
  {
   "cell_type": "code",
   "execution_count": 155,
   "metadata": {},
   "outputs": [
    {
     "ename": "AttributeError",
     "evalue": "'SoilGrids' object has no attribute 'getCategory'",
     "output_type": "error",
     "traceback": [
      "\u001b[0;31m---------------------------------------------------------------------------\u001b[0m",
      "\u001b[0;31mAttributeError\u001b[0m                            Traceback (most recent call last)",
      "\u001b[0;32m<ipython-input-155-953d869c85e0>\u001b[0m in \u001b[0;36m<module>\u001b[0;34m\u001b[0m\n\u001b[1;32m      2\u001b[0m \u001b[0;34m\u001b[0m\u001b[0m\n\u001b[1;32m      3\u001b[0m \u001b[0;34m\u001b[0m\u001b[0m\n\u001b[0;32m----> 4\u001b[0;31m \u001b[0msoil_grids\u001b[0m\u001b[0;34m.\u001b[0m\u001b[0mgetCategory\u001b[0m\u001b[0;34m\u001b[0m\u001b[0;34m\u001b[0m\u001b[0m\n\u001b[0m",
      "\u001b[0;31mAttributeError\u001b[0m: 'SoilGrids' object has no attribute 'getCategory'"
     ]
    }
   ],
   "source": [
    "# see definition here: https://www.isric.org/explore/soilgrids/faq-soilgrids\n",
    "\n",
    "\n",
    "soil_grids.get\n"
   ]
  },
  {
   "cell_type": "code",
   "execution_count": null,
   "metadata": {},
   "outputs": [],
   "source": []
  },
  {
   "cell_type": "code",
   "execution_count": null,
   "metadata": {},
   "outputs": [],
   "source": []
  }
 ],
 "metadata": {
  "kernelspec": {
   "display_name": "Python 3",
   "language": "python",
   "name": "python3"
  },
  "language_info": {
   "codemirror_mode": {
    "name": "ipython",
    "version": 3
   },
   "file_extension": ".py",
   "mimetype": "text/x-python",
   "name": "python",
   "nbconvert_exporter": "python",
   "pygments_lexer": "ipython3",
   "version": "3.8.5"
  }
 },
 "nbformat": 4,
 "nbformat_minor": 4
}
