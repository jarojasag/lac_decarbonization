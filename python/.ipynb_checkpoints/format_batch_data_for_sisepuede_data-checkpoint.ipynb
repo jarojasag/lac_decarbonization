{
 "cells": [
  {
   "cell_type": "markdown",
   "id": "25216484-3889-41a8-9471-b445b5185f96",
   "metadata": {},
   "source": [
    "# Format Batch Data for SISEPEUDE Data\n",
    "- Transform batch data generation to inputs usable for data input pipelines"
   ]
  },
  {
   "cell_type": "code",
   "execution_count": null,
   "id": "c68c291e-3c33-4afc-89a2-865ca56097d5",
   "metadata": {},
   "outputs": [],
   "source": [
    "import os, os.path\n",
    "import numpy as np\n",
    "import pandas as pd\n",
    "import model_attributes as ma\n",
    "from attribute_table import AttributeTable\n",
    "import model_afolu as mafl\n",
    "import model_ippu as mi\n",
    "import model_circular_economy as mc\n",
    "import model_energy as me\n",
    "import model_electricity as ml\n",
    "import model_socioeconomic as se\n",
    "from model_socioeconomic import Socioeconomic\n",
    "import setup_analysis as sa\n",
    "import sisepuede as ssp\n",
    "import support_functions as sf\n",
    "import importlib\n",
    "import time\n",
    "import warnings\n",
    "import matplotlib.pyplot as plt\n",
    "import sql_utilities as sq\n",
    "from typing import *\n",
    "import sqlalchemy\n",
    "import sql_utilities as sqlutil\n",
    "import time\n",
    "importlib.reload(ma)\n",
    "importlib.reload(sa)\n",
    "importlib.reload(sf)\n",
    "importlib.reload(mafl)\n",
    "importlib.reload(mc)\n",
    "importlib.reload(mi)\n",
    "importlib.reload(me)\n",
    "importlib.reload(se)\n",
    "importlib.reload(ml)\n"
   ]
  },
  {
   "cell_type": "code",
   "execution_count": null,
   "id": "8dc88e58-2270-492b-ac91-c66886d42b95",
   "metadata": {},
   "outputs": [],
   "source": [
    "# read in some data sets\n",
    "#  set up a dictionary that maps datasets to \n",
    "\n",
    "\n",
    "dir_\n"
   ]
  },
  {
   "cell_type": "code",
   "execution_count": null,
   "id": "0cc7092a-587b-4a09-97f3-ff8aba30aba5",
   "metadata": {},
   "outputs": [],
   "source": []
  }
 ],
 "metadata": {
  "kernelspec": {
   "display_name": "Python 3 (ipykernel)",
   "language": "python",
   "name": "python3"
  },
  "language_info": {
   "codemirror_mode": {
    "name": "ipython",
    "version": 3
   },
   "file_extension": ".py",
   "mimetype": "text/x-python",
   "name": "python",
   "nbconvert_exporter": "python",
   "pygments_lexer": "ipython3",
   "version": "3.11.0"
  }
 },
 "nbformat": 4,
 "nbformat_minor": 5
}
