{
 "cells": [
  {
   "cell_type": "code",
   "execution_count": 165,
   "metadata": {},
   "outputs": [
    {
     "data": {
      "text/plain": [
       "<module 'model_electricity' from '/Users/jsyme/Documents/Projects/git_jbus/lac_decarbonization/python/model_electricity.py'>"
      ]
     },
     "execution_count": 165,
     "metadata": {},
     "output_type": "execute_result"
    }
   ],
   "source": [
    "import os, os.path\n",
    "import numpy as np\n",
    "import pandas as pd\n",
    "import data_structures as ds\n",
    "import model_afolu as ma\n",
    "import model_ippu as mi\n",
    "import model_circular_economy as mc\n",
    "import model_energy as me\n",
    "import model_electricity as ml\n",
    "import model_socioeconomic as se\n",
    "from model_socioeconomic import Socioeconomic\n",
    "import setup_analysis as sa\n",
    "import support_functions as sf\n",
    "import importlib\n",
    "import time\n",
    "import warnings\n",
    "import matplotlib.pyplot as plt\n",
    "import sqlalchemy\n",
    "import sqlite3\n",
    "from typing import Union\n",
    "# very useful: https://stackoverflow.com/questions/427453/how-can-i-get-the-source-code-of-a-python-function\n",
    "#print(inspect.getsource(FUNCTIONHERE))\n",
    "import inspect\n",
    "import sql_utilities as sqlutil\n",
    "from julia.api import Julia\n",
    "\n",
    "importlib.reload(ds)\n",
    "importlib.reload(sa)\n",
    "importlib.reload(sf)\n",
    "importlib.reload(ma)\n",
    "importlib.reload(mc)\n",
    "importlib.reload(mi)\n",
    "importlib.reload(me)\n",
    "importlib.reload(se)\n",
    "importlib.reload(ml)\n"
   ]
  },
  {
   "cell_type": "code",
   "execution_count": 2,
   "metadata": {},
   "outputs": [],
   "source": [
    "jl = Julia(compiled_modules = False)"
   ]
  },
  {
   "cell_type": "code",
   "execution_count": 10,
   "metadata": {},
   "outputs": [],
   "source": [
    "from julia import Base\n",
    "from julia import Pkg\n",
    "Pkg.activate(sa.dir_jl)\n",
    "\n",
    "from julia import NemoMod\n",
    "from julia import Cbc\n",
    "from julia import JuMP\n",
    "\n"
   ]
  },
  {
   "cell_type": "code",
   "execution_count": 25,
   "metadata": {},
   "outputs": [],
   "source": []
  },
  {
   "cell_type": "code",
   "execution_count": 12,
   "metadata": {},
   "outputs": [
    {
     "data": {
      "text/plain": [
       "<PyCall.jlwrap SQLite.DB(\"/Users/jsyme/Documents/Projects/git_jbus/lac_decarbonization/tmp/nemomod_intermediate_database.sqlite\")>"
      ]
     },
     "execution_count": 12,
     "metadata": {},
     "output_type": "execute_result"
    }
   ],
   "source": [
    "NemoMod.createnemodb(sa.fp_sqlite_nemomod_db_tmp)"
   ]
  },
  {
   "cell_type": "code",
   "execution_count": null,
   "metadata": {},
   "outputs": [],
   "source": []
  },
  {
   "cell_type": "code",
   "execution_count": 121,
   "metadata": {},
   "outputs": [],
   "source": [
    "engine = sqlalchemy.create_engine(f\"sqlite:///{sa.fp_sqlite_nemomod_db_tmp}\")"
   ]
  },
  {
   "cell_type": "code",
   "execution_count": 23,
   "metadata": {},
   "outputs": [],
   "source": [
    "with engine.connect() as con:\n",
    "    df1 = pd.read_sql_query(\"select * from OutputActivityRatio;\", con)\n",
    "#df1"
   ]
  },
  {
   "cell_type": "code",
   "execution_count": 46,
   "metadata": {},
   "outputs": [],
   "source": [
    "sqlutil._write_dataframes_to_db(\n",
    "    dict_to_sql2,\n",
    "    engine\n",
    ")"
   ]
  },
  {
   "cell_type": "code",
   "execution_count": 45,
   "metadata": {},
   "outputs": [
    {
     "ename": "KeyError",
     "evalue": "'StorageLevelStart'",
     "output_type": "error",
     "traceback": [
      "\u001b[0;31m---------------------------------------------------------------------------\u001b[0m",
      "\u001b[0;31mKeyError\u001b[0m                                  Traceback (most recent call last)",
      "\u001b[0;32m<ipython-input-45-cca279308afa>\u001b[0m in \u001b[0;36m<module>\u001b[0;34m\u001b[0m\n\u001b[0;32m----> 1\u001b[0;31m \u001b[0mdict_to_sql2\u001b[0m\u001b[0;34m[\u001b[0m\u001b[0;34m\"StorageLevelStart\"\u001b[0m\u001b[0;34m]\u001b[0m\u001b[0;34m\u001b[0m\u001b[0;34m\u001b[0m\u001b[0m\n\u001b[0m",
      "\u001b[0;31mKeyError\u001b[0m: 'StorageLevelStart'"
     ]
    }
   ],
   "source": [
    "dict_to_sql2[\"StorageLevelStart\"]"
   ]
  },
  {
   "cell_type": "code",
   "execution_count": 47,
   "metadata": {},
   "outputs": [
    {
     "data": {
      "text/plain": [
       "<PyCall.jlwrap INFEASIBLE_OR_UNBOUNDED>"
      ]
     },
     "execution_count": 47,
     "metadata": {},
     "output_type": "execute_result"
    }
   ],
   "source": []
  },
  {
   "cell_type": "code",
   "execution_count": 122,
   "metadata": {},
   "outputs": [],
   "source": [
    "##  GENERATE INPUT DICTIONARY\n",
    "\n",
    "importlib.reload(sf)\n",
    "importlib.reload(ml)\n",
    "model_elec = ml.ElectricEnergy(sa.model_attributes)\n",
    "fp_in = sa.dict_fp_csv_nemomod.get(sa.model_attributes.table_nemomod_specified_demand_profile)\n",
    "df_spd = pd.read_csv(fp_in)\n",
    "\n",
    "fp_in = sa.dict_fp_csv_nemomod[sa.model_attributes.table_nemomod_capacity_factor]\n",
    "df_capfactor = pd.read_csv(fp_in)\n",
    "\n",
    "#dict_from_storage, dict_to_storage, dict_storage_techs_to_storage = model_elec.format_nemomod_table_technology_from_and_to_storage()\n",
    "t0 =time.time()\n",
    "dict_to_sql = model_elec.retrieve_tables_for_sql(df_cs_integrated, df_capfactor, df_spd);\n",
    "\n",
    "\n",
    "##  REDUCED FOR TESTINS\n",
    "\n",
    "dict_to_sql2 = {}\n",
    "#dict_to_sql2[\"CapacityToActivityUnit\"]\n",
    "write_always = [\n",
    "    \"EMISSION\", \n",
    "    \"FUEL\", \n",
    "    \"MODE_OF_OPERATION\",\n",
    "    \"REGION\",\n",
    "    \"STORAGE\",\n",
    "    \"TECHNOLOGY\",\n",
    "    \"YEAR\",\n",
    "    \"LTsGroup\",\n",
    "    \"TIMESLICE\",\n",
    "    \"TSGROUP1\",\n",
    "    \"TSGROUP2\",\n",
    "    \"YearSplit\"\n",
    "]\n",
    "others = sorted([\n",
    "    x for x in dict_to_sql.keys() if x not in write_always\n",
    "])\n",
    "\n",
    "for k in write_always + others:\n",
    "    df_tmp = dict_to_sql[k].copy() \n",
    "    if \"y\" in df_tmp.columns:  \n",
    "        dict_to_sql2[k] = df_tmp[df_tmp[\"y\"].isin([\"2020\", \"2021\"])].reset_index(drop = True)\n",
    "    elif k == \"YEAR\":\n",
    "        dict_to_sql2[k] = df_tmp[df_tmp[\"val\"].isin([\"2020\", \"2021\"])].reset_index(drop = True)\n",
    "    else:\n",
    "        dict_to_sql2[k] = df_tmp\n",
    "\n",
    "\n",
    "sqlutil._write_dataframes_to_db(\n",
    "    dict_to_sql,\n",
    "    engine\n",
    ")\n"
   ]
  },
  {
   "cell_type": "code",
   "execution_count": 160,
   "metadata": {},
   "outputs": [
    {
     "data": {
      "text/plain": [
       "<PyCall.jlwrap OPTIMAL>"
      ]
     },
     "execution_count": 160,
     "metadata": {},
     "output_type": "execute_result"
    }
   ],
   "source": [
    "NemoMod.calculatescenario(\n",
    "    sa.fp_sqlite_nemomod_db_tmp, \n",
    "    jumpmodel = JuMP.Model(Cbc.Optimizer), \n",
    "    numprocs = 1, \n",
    "    calcyears = [2020, 2055],\n",
    "    reportzeros = False,\n",
    "    varstosave = \"vdemandnn, vnewcapacity, vtotalcapacityannual, vannualemissions, vcapitalinvestment, vaccumulatednewstoragecapacity, vproductionbytechnologyannual\"\n",
    ")\n"
   ]
  },
  {
   "cell_type": "code",
   "execution_count": 161,
   "metadata": {},
   "outputs": [
    {
     "data": {
      "text/plain": [
       "['vaccumulatednewstoragecapacity',\n",
       " 'vannualemissions',\n",
       " 'vcapitalinvestment',\n",
       " 'vdemandnn',\n",
       " 'vnewcapacity',\n",
       " 'vproductionbytechnologyannual',\n",
       " 'vtotalcapacityannual']"
      ]
     },
     "execution_count": 161,
     "metadata": {},
     "output_type": "execute_result"
    }
   ],
   "source": [
    "[x for x in engine.table_names() if x.startswith(\"v\")]"
   ]
  },
  {
   "cell_type": "code",
   "execution_count": 162,
   "metadata": {},
   "outputs": [
    {
     "data": {
      "text/html": [
       "<div>\n",
       "<style scoped>\n",
       "    .dataframe tbody tr th:only-of-type {\n",
       "        vertical-align: middle;\n",
       "    }\n",
       "\n",
       "    .dataframe tbody tr th {\n",
       "        vertical-align: top;\n",
       "    }\n",
       "\n",
       "    .dataframe thead th {\n",
       "        text-align: right;\n",
       "    }\n",
       "</style>\n",
       "<table border=\"1\" class=\"dataframe\">\n",
       "  <thead>\n",
       "    <tr style=\"text-align: right;\">\n",
       "      <th></th>\n",
       "      <th>r</th>\n",
       "      <th>t</th>\n",
       "      <th>f</th>\n",
       "      <th>y</th>\n",
       "      <th>val</th>\n",
       "      <th>solvedtm</th>\n",
       "    </tr>\n",
       "  </thead>\n",
       "  <tbody>\n",
       "    <tr>\n",
       "      <th>0</th>\n",
       "      <td>costa_rica</td>\n",
       "      <td>st_flywheels</td>\n",
       "      <td>fuel_electricity</td>\n",
       "      <td>2020</td>\n",
       "      <td>0.025511</td>\n",
       "      <td>2022-08-14 23:49:07.966</td>\n",
       "    </tr>\n",
       "    <tr>\n",
       "      <th>3</th>\n",
       "      <td>costa_rica</td>\n",
       "      <td>st_compressed_air</td>\n",
       "      <td>fuel_electricity</td>\n",
       "      <td>2020</td>\n",
       "      <td>0.025511</td>\n",
       "      <td>2022-08-14 23:49:07.966</td>\n",
       "    </tr>\n",
       "    <tr>\n",
       "      <th>4</th>\n",
       "      <td>costa_rica</td>\n",
       "      <td>st_batteries</td>\n",
       "      <td>fuel_electricity</td>\n",
       "      <td>2055</td>\n",
       "      <td>0.035925</td>\n",
       "      <td>2022-08-14 23:49:07.966</td>\n",
       "    </tr>\n",
       "    <tr>\n",
       "      <th>5</th>\n",
       "      <td>costa_rica</td>\n",
       "      <td>st_compressed_air</td>\n",
       "      <td>fuel_electricity</td>\n",
       "      <td>2055</td>\n",
       "      <td>0.035925</td>\n",
       "      <td>2022-08-14 23:49:07.966</td>\n",
       "    </tr>\n",
       "    <tr>\n",
       "      <th>7</th>\n",
       "      <td>costa_rica</td>\n",
       "      <td>pp_geothermal</td>\n",
       "      <td>fuel_electricity</td>\n",
       "      <td>2020</td>\n",
       "      <td>0.005937</td>\n",
       "      <td>2022-08-14 23:49:07.966</td>\n",
       "    </tr>\n",
       "    <tr>\n",
       "      <th>8</th>\n",
       "      <td>costa_rica</td>\n",
       "      <td>pp_hydropower</td>\n",
       "      <td>fuel_electricity</td>\n",
       "      <td>2055</td>\n",
       "      <td>0.035925</td>\n",
       "      <td>2022-08-14 23:49:07.966</td>\n",
       "    </tr>\n",
       "    <tr>\n",
       "      <th>9</th>\n",
       "      <td>costa_rica</td>\n",
       "      <td>st_batteries</td>\n",
       "      <td>fuel_electricity</td>\n",
       "      <td>2020</td>\n",
       "      <td>0.025511</td>\n",
       "      <td>2022-08-14 23:49:07.966</td>\n",
       "    </tr>\n",
       "    <tr>\n",
       "      <th>10</th>\n",
       "      <td>costa_rica</td>\n",
       "      <td>st_flywheels</td>\n",
       "      <td>fuel_electricity</td>\n",
       "      <td>2055</td>\n",
       "      <td>0.035925</td>\n",
       "      <td>2022-08-14 23:49:07.966</td>\n",
       "    </tr>\n",
       "    <tr>\n",
       "      <th>13</th>\n",
       "      <td>costa_rica</td>\n",
       "      <td>pp_solar</td>\n",
       "      <td>fuel_electricity</td>\n",
       "      <td>2020</td>\n",
       "      <td>0.019574</td>\n",
       "      <td>2022-08-14 23:49:07.966</td>\n",
       "    </tr>\n",
       "  </tbody>\n",
       "</table>\n",
       "</div>"
      ],
      "text/plain": [
       "             r                  t                 f     y       val  \\\n",
       "0   costa_rica       st_flywheels  fuel_electricity  2020  0.025511   \n",
       "3   costa_rica  st_compressed_air  fuel_electricity  2020  0.025511   \n",
       "4   costa_rica       st_batteries  fuel_electricity  2055  0.035925   \n",
       "5   costa_rica  st_compressed_air  fuel_electricity  2055  0.035925   \n",
       "7   costa_rica      pp_geothermal  fuel_electricity  2020  0.005937   \n",
       "8   costa_rica      pp_hydropower  fuel_electricity  2055  0.035925   \n",
       "9   costa_rica       st_batteries  fuel_electricity  2020  0.025511   \n",
       "10  costa_rica       st_flywheels  fuel_electricity  2055  0.035925   \n",
       "13  costa_rica           pp_solar  fuel_electricity  2020  0.019574   \n",
       "\n",
       "                   solvedtm  \n",
       "0   2022-08-14 23:49:07.966  \n",
       "3   2022-08-14 23:49:07.966  \n",
       "4   2022-08-14 23:49:07.966  \n",
       "5   2022-08-14 23:49:07.966  \n",
       "7   2022-08-14 23:49:07.966  \n",
       "8   2022-08-14 23:49:07.966  \n",
       "9   2022-08-14 23:49:07.966  \n",
       "10  2022-08-14 23:49:07.966  \n",
       "13  2022-08-14 23:49:07.966  "
      ]
     },
     "execution_count": 162,
     "metadata": {},
     "output_type": "execute_result"
    }
   ],
   "source": [
    "with engine.connect() as con:\n",
    "    df1 = pd.read_sql_query(\"select * from vproductionbytechnologyannual;\", con)\n",
    "#df1[df1[\"e\"] == \"co2\"]\n",
    "df1[df1[\"f\"] == \"fuel_electricity\"]"
   ]
  },
  {
   "cell_type": "code",
   "execution_count": null,
   "metadata": {},
   "outputs": [],
   "source": []
  },
  {
   "cell_type": "code",
   "execution_count": 166,
   "metadata": {},
   "outputs": [],
   "source": [
    "importlib.reload(ds)\n",
    "importlib.reload(mi)\n",
    "\n",
    "warnings.filterwarnings(\"ignore\")\n",
    "\n",
    "df_cs_integrated = pd.read_csv(os.path.join(sa.dir_ref, \"fake_data\", \"fake_data_complete.csv\"))\n",
    "\n",
    "model_afolu = ma.AFOLU(sa.model_attributes);\n",
    "model_circecon = mc.CircularEconomy(sa.model_attributes);\n",
    "model_ippu = mi.IPPU(sa.model_attributes);\n",
    "model_energy = me.NonElectricEnergy(sa.model_attributes);\n",
    "\n",
    "# \n",
    "df_project_afolu = model_afolu.project(df_cs_integrated)\n",
    "df_cs_integrated = sf.merge_output_df_list([df_cs_integrated, df_project_afolu], sa.model_attributes, \"concatenate\")\n",
    "\n",
    "# pass integrated df\n",
    "df_project_ce = model_circecon.project(df_cs_integrated)\n",
    "df_cs_integrated = sf.merge_output_df_list([df_cs_integrated, df_project_ce], sa.model_attributes, \"concatenate\")\n",
    "\n",
    "# pass integrated df\n",
    "df_project_ip = model_ippu.project(df_cs_integrated)\n",
    "df_cs_integrated = sf.merge_output_df_list([df_cs_integrated, df_project_ip], sa.model_attributes, \"concatenate\")\n",
    "\n",
    "# pass integrated df\n",
    "df_project_en = model_energy.project(df_cs_integrated)\n",
    "df_cs_integrated = sf.merge_output_df_list([df_cs_integrated, df_project_en], sa.model_attributes, \"concatenate\")\n"
   ]
  },
  {
   "cell_type": "code",
   "execution_count": 183,
   "metadata": {},
   "outputs": [],
   "source": [
    "\n"
   ]
  },
  {
   "cell_type": "code",
   "execution_count": null,
   "metadata": {},
   "outputs": [],
   "source": []
  },
  {
   "cell_type": "code",
   "execution_count": 181,
   "metadata": {},
   "outputs": [],
   "source": []
  },
  {
   "cell_type": "code",
   "execution_count": 126,
   "metadata": {},
   "outputs": [
    {
     "data": {
      "text/html": [
       "<div>\n",
       "<style scoped>\n",
       "    .dataframe tbody tr th:only-of-type {\n",
       "        vertical-align: middle;\n",
       "    }\n",
       "\n",
       "    .dataframe tbody tr th {\n",
       "        vertical-align: top;\n",
       "    }\n",
       "\n",
       "    .dataframe thead th {\n",
       "        text-align: right;\n",
       "    }\n",
       "</style>\n",
       "<table border=\"1\" class=\"dataframe\">\n",
       "  <thead>\n",
       "    <tr style=\"text-align: right;\">\n",
       "      <th></th>\n",
       "      <th>id</th>\n",
       "      <th>r</th>\n",
       "      <th>t</th>\n",
       "      <th>y</th>\n",
       "      <th>val</th>\n",
       "    </tr>\n",
       "  </thead>\n",
       "  <tbody>\n",
       "  </tbody>\n",
       "</table>\n",
       "</div>"
      ],
      "text/plain": [
       "Empty DataFrame\n",
       "Columns: [id, r, t, y, val]\n",
       "Index: []"
      ]
     },
     "execution_count": 126,
     "metadata": {},
     "output_type": "execute_result"
    }
   ],
   "source": [
    "julia.install()"
   ]
  },
  {
   "cell_type": "code",
   "execution_count": null,
   "metadata": {},
   "outputs": [],
   "source": []
  },
  {
   "cell_type": "code",
   "execution_count": null,
   "metadata": {},
   "outputs": [],
   "source": []
  },
  {
   "cell_type": "code",
   "execution_count": null,
   "metadata": {},
   "outputs": [],
   "source": []
  },
  {
   "cell_type": "code",
   "execution_count": null,
   "metadata": {},
   "outputs": [],
   "source": []
  },
  {
   "cell_type": "code",
   "execution_count": null,
   "metadata": {},
   "outputs": [],
   "source": []
  }
 ],
 "metadata": {
  "kernelspec": {
   "display_name": "Python 3",
   "language": "python",
   "name": "python3"
  },
  "language_info": {
   "codemirror_mode": {
    "name": "ipython",
    "version": 3
   },
   "file_extension": ".py",
   "mimetype": "text/x-python",
   "name": "python",
   "nbconvert_exporter": "python",
   "pygments_lexer": "ipython3",
   "version": "3.8.5"
  }
 },
 "nbformat": 4,
 "nbformat_minor": 4
}
