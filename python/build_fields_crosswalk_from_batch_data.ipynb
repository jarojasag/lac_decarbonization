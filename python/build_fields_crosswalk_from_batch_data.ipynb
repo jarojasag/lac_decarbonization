{
 "cells": [
  {
   "cell_type": "code",
   "execution_count": 1,
   "id": "5819602b-76a7-434c-9768-a303d952db51",
   "metadata": {},
   "outputs": [
    {
     "name": "stderr",
     "output_type": "stream",
     "text": [
      "/Users/jsyme/Documents/Projects/git_jbus/lac_decarbonization/python/model_attributes.py:2194: UserWarning: Invalid subsector attribute 'key_varreqs_partial'. Valid return type values are:'pycategory_primary', 'abv_subsector', 'sector', 'abv_sector', 'key_varreqs_all'\n",
      "  warnings.warn(f\"Invalid subsector attribute '{return_type}'. Valid return type values are:{valid_rts}\")\n",
      "/Users/jsyme/Documents/Projects/git_jbus/lac_decarbonization/python/model_attributes.py:2194: UserWarning: Invalid subsector attribute 'key_varreqs_partial'. Valid return type values are:'pycategory_primary', 'abv_subsector', 'sector', 'abv_sector', 'key_varreqs_all'\n",
      "  warnings.warn(f\"Invalid subsector attribute '{return_type}'. Valid return type values are:{valid_rts}\")\n"
     ]
    },
    {
     "data": {
      "text/plain": [
       "<module 'auxiliary_definitions_transformations' from '/Users/jsyme/Documents/Projects/git_jbus/lac_decarbonization/python/auxiliary_definitions_transformations.py'>"
      ]
     },
     "execution_count": 1,
     "metadata": {},
     "output_type": "execute_result"
    }
   ],
   "source": [
    "import os, os.path\n",
    "import numpy as np\n",
    "import pandas as pd\n",
    "#from model_attributes import *\n",
    "import model_attributes as ma\n",
    "from attribute_table import AttributeTable\n",
    "import model_afolu as mafl\n",
    "import model_ippu as mi\n",
    "import model_circular_economy as mc\n",
    "import model_electricity as ml\n",
    "import model_energy as me\n",
    "import model_socioeconomic as se\n",
    "from model_socioeconomic import Socioeconomic\n",
    "import setup_analysis as sa\n",
    "import support_functions as sf\n",
    "import importlib\n",
    "import time\n",
    "import warnings\n",
    "import matplotlib.pyplot as plt\n",
    "from typing import Union\n",
    "import inspect\n",
    "import ingestion as ing\n",
    "import logging\n",
    "from sisepuede_file_structure import *\n",
    "import auxiliary_definitions_transformations as adt\n",
    "\n",
    "importlib.reload(ma)\n",
    "importlib.reload(sa)\n",
    "importlib.reload(sf)\n",
    "importlib.reload(mafl)\n",
    "importlib.reload(mc)\n",
    "importlib.reload(mi)\n",
    "importlib.reload(me)\n",
    "importlib.reload(se)\n",
    "importlib.reload(adt)\n"
   ]
  },
  {
   "cell_type": "code",
   "execution_count": 2,
   "id": "a4fcab00-b76b-481f-82de-5f3524424a00",
   "metadata": {},
   "outputs": [],
   "source": [
    "\n",
    "\n",
    "# initialize \n",
    "all_regions = None\n",
    "dict_isos = {}\n",
    "dict_replace_iso = sa.model_attributes.dict_attributes.get(\"region\").field_maps.get(\"iso_alpha_3_to_region\")\n",
    "dict_sets = {}\n",
    "field_country = \"country\"\n",
    "field_iso = \"iso_code3\"\n",
    "field_region = \"nation\"\n",
    "field_year = \"year\"\n",
    "fields_drop = [field_iso, field_region, field_year] # only apply later\n",
    "field_time_period = sa.model_attributes.dim_time_period\n",
    "\n",
    "# get some attributes\n",
    "attr_region = sa.model_attributes.dict_attributes.get(\"region\")\n",
    "attr_sector = sa.model_attributes.dict_attributes.get(\"abbreviation_sector\")\n",
    "attr_strat = sa.model_attributes.dict_attributes.get(f\"dim_{sa.model_attributes.dim_strategy_id}\")\n",
    "attr_time_period = sa.model_attributes.dict_attributes.get(f\"dim_{sa.model_attributes.dim_time_period}\")\n",
    "\n",
    "# map each country to ISO code 3 and each code to \n",
    "dict_country_to_iso = dict((k, v.upper()) for k, v in attr_region.field_maps.get(f\"{attr_region.key}_to_{attr_region.key}_abbreviation\").items())\n",
    "dict_iso_to_country = sf.reverse_dict(dict_country_to_iso)\n",
    "dict_country_to_cf_region = attr_region.field_maps.get(f\"{attr_region.key}_to_hourly_capacity_factor_region\")\n",
    "dict_iso_to_cf_region = dict((dict_country_to_iso.get(k), v) for k, v in dict_country_to_cf_region.items())"
   ]
  },
  {
   "cell_type": "code",
   "execution_count": 36,
   "id": "b62f4a49-e7a6-4bf2-85a2-36148f6d2876",
   "metadata": {},
   "outputs": [],
   "source": [
    "dict_fns_to_calib_note = {\n",
    "    sa.fp_csv_climate_fields_by_country_simple: \"Data are not specified for pre-2015, though can use 2015 values for previous years in calibration (can be treated as constant).\",\n",
    "    sa.fp_csv_soc_fields_by_country_simple: \"Data are not specified for pre-2015, though can use 2015 values for previous years in calibration (can be treated as constant).\",\n",
    "    sa.fp_csv_nemomod_minimum_share_of_production_baselines: \"Data need to be acquired for early calibration years, e.g., 2010-2014.\",\n",
    "    sa.fp_csv_nemomod_residual_capacity_inputs: \"Data is based on empirical observations for all years, except for some very early years.\",\n",
    "    sa.fp_csv_nemomod_transmission_losses: \"Data are based on most recent available. In some cases, obsrevations stop around 2014. Data are extended backward from earliest available time and forward from latest available time.\"\n",
    "}"
   ]
  },
  {
   "cell_type": "code",
   "execution_count": 41,
   "id": "601f4a47-7fa2-4e97-8bf2-a672e1c69196",
   "metadata": {},
   "outputs": [],
   "source": [
    "fields_ignore = [field_iso, field_country, field_time_period, field_year]\n",
    "\n",
    "df_cols = []\n",
    "for fp in dict_fns_to_calib_note.keys():\n",
    "    \n",
    "    desc = dict_fns_to_calib_note.get(fp)\n",
    "    df_tmp = pd.read_csv(fp)\n",
    "    \n",
    "    fp_print = fns[0].split(\"lac_decarbonization\")[1]\n",
    "    df_cols += [(x, fp_print, desc) for x in df_tmp.columns if (x not in fields_ignore)] \n",
    "    \n",
    "    \n",
    "df_cols = pd.DataFrame(df_cols, columns = [\"field\", \"path_in_lac_decarbonization\", \"calibration_note\"])\n",
    "df_cols.to_csv(\n",
    "    sa.fp_csv_batch_data_field_index,\n",
    "    index = None,\n",
    "    encoding = \"UTF-8\"\n",
    ")\n"
   ]
  },
  {
   "cell_type": "code",
   "execution_count": null,
   "id": "5a3a6f1d-52ac-4c4c-a9e4-5361ae7363a4",
   "metadata": {},
   "outputs": [],
   "source": []
  },
  {
   "cell_type": "code",
   "execution_count": null,
   "id": "3f8efbc6-6db7-4fd2-9cda-2e1cdb2dcbfa",
   "metadata": {},
   "outputs": [],
   "source": []
  },
  {
   "cell_type": "code",
   "execution_count": null,
   "id": "cdc69d74-a633-46b1-898f-a231852c0f53",
   "metadata": {},
   "outputs": [],
   "source": []
  },
  {
   "cell_type": "code",
   "execution_count": null,
   "id": "c861f1ba-bd5a-48f8-a91d-ffb57d410df5",
   "metadata": {},
   "outputs": [],
   "source": []
  }
 ],
 "metadata": {
  "kernelspec": {
   "display_name": "Python 3 (ipykernel)",
   "language": "python",
   "name": "python3"
  },
  "language_info": {
   "codemirror_mode": {
    "name": "ipython",
    "version": 3
   },
   "file_extension": ".py",
   "mimetype": "text/x-python",
   "name": "python",
   "nbconvert_exporter": "python",
   "pygments_lexer": "ipython3",
   "version": "3.8.5"
  }
 },
 "nbformat": 4,
 "nbformat_minor": 5
}
