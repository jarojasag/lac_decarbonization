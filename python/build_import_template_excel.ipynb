{
 "cells": [
  {
   "cell_type": "code",
   "execution_count": 1,
   "metadata": {},
   "outputs": [
    {
     "name": "stderr",
     "output_type": "stream",
     "text": [
      "/Users/jsyme/Documents/Projects/git_jbus/lac_decarbonization/python/model_attributes.py:2194: UserWarning: Invalid subsector attribute 'key_varreqs_partial'. Valid return type values are:'pycategory_primary', 'abv_subsector', 'sector', 'abv_sector', 'key_varreqs_all'\n",
      "  warnings.warn(f\"Invalid subsector attribute '{return_type}'. Valid return type values are:{valid_rts}\")\n",
      "/Users/jsyme/Documents/Projects/git_jbus/lac_decarbonization/python/model_attributes.py:2194: UserWarning: Invalid subsector attribute 'key_varreqs_partial'. Valid return type values are:'pycategory_primary', 'abv_subsector', 'sector', 'abv_sector', 'key_varreqs_all'\n",
      "  warnings.warn(f\"Invalid subsector attribute '{return_type}'. Valid return type values are:{valid_rts}\")\n"
     ]
    },
    {
     "data": {
      "text/plain": [
       "<module 'setup_analysis' from '/Users/jsyme/Documents/Projects/git_jbus/lac_decarbonization/python/setup_analysis.py'>"
      ]
     },
     "execution_count": 1,
     "metadata": {},
     "output_type": "execute_result"
    }
   ],
   "source": [
    "import pandas as pd\n",
    "import model_afolu as mafl\n",
    "import model_circular_economy as mc\n",
    "import model_ippu as mi\n",
    "import numpy as np\n",
    "import os, os.path\n",
    "import model_attributes as ma\n",
    "from attribute_table import AttributeTable\n",
    "import setup_analysis as sa\n",
    "import support_functions as sf\n",
    "import importlib\n",
    "import warnings\n",
    "importlib.reload(ma)\n",
    "importlib.reload(sa)\n",
    "\n",
    "\n",
    "#import model_attributes as mafrom attribute_table import AttributeTable\n",
    "#importlib.reload(ma)"
   ]
  },
  {
   "cell_type": "code",
   "execution_count": null,
   "metadata": {},
   "outputs": [],
   "source": []
  },
  {
   "cell_type": "code",
   "execution_count": 2,
   "metadata": {},
   "outputs": [
    {
     "name": "stderr",
     "output_type": "stream",
     "text": [
      "/Users/jsyme/Documents/Projects/git_jbus/lac_decarbonization/python/model_attributes.py:1996: FutureWarning: Index.__and__ operating as a set operation is deprecated, in the future this will be a logical operation matching Series.__and__.  Use index.intersection(other) instead.\n",
      "  cols = list(set(attr_table.table.columns & set(fields_to_filter_on)))\n",
      "/Users/jsyme/Documents/Projects/git_jbus/lac_decarbonization/python/model_attributes.py:1996: FutureWarning: Index.__and__ operating as a set operation is deprecated, in the future this will be a logical operation matching Series.__and__.  Use index.intersection(other) instead.\n",
      "  cols = list(set(attr_table.table.columns & set(fields_to_filter_on)))\n",
      "/Users/jsyme/Documents/Projects/git_jbus/lac_decarbonization/python/model_attributes.py:1996: FutureWarning: Index.__and__ operating as a set operation is deprecated, in the future this will be a logical operation matching Series.__and__.  Use index.intersection(other) instead.\n",
      "  cols = list(set(attr_table.table.columns & set(fields_to_filter_on)))\n",
      "/Users/jsyme/Documents/Projects/git_jbus/lac_decarbonization/python/model_attributes.py:1996: FutureWarning: Index.__and__ operating as a set operation is deprecated, in the future this will be a logical operation matching Series.__and__.  Use index.intersection(other) instead.\n",
      "  cols = list(set(attr_table.table.columns & set(fields_to_filter_on)))\n"
     ]
    }
   ],
   "source": [
    "model_ce = mc.CircularEconomy(sa.model_attributes)\n",
    "model_afolu = mafl.AFOLU(sa.model_attributes)\n",
    "model_ippu = mi.IPPU(sa.model_attributes)\n",
    "\n"
   ]
  },
  {
   "cell_type": "code",
   "execution_count": 52,
   "metadata": {},
   "outputs": [],
   "source": [
    "#df_all_vars_ippu = pd.DataFrame({\"variable\": sa.model_attributes.build_varlist(\"IPPU\", variable_type = \"input\")})\n",
    "#df_all_vars_ippu[\"subsector\"] = \"IPPU\"\n",
    "#df_cur = pd.read_excel(sa.excel_template_path(\"IPPU\", \"arg\", \"demo\"))\n",
    "#df_all_vars_ippu = pd.merge(df_all_vars_ippu, df_cur, how = \"left\")\n",
    "#df_all_vars_ippu = df_all_vars_ippu[df_cur.columns].drop_duplicates().sort_values(by = [\"subsector\", \"variable\"]).reset_index(drop = True)\n",
    "#df_all_vars_ippu.to_csv(\"/Users/jsyme/Desktop/tmp.csv\", index = None, encoding = \"UTF-8\")\n",
    "\n"
   ]
  },
  {
   "cell_type": "code",
   "execution_count": 50,
   "metadata": {},
   "outputs": [],
   "source": []
  },
  {
   "cell_type": "code",
   "execution_count": 59,
   "metadata": {},
   "outputs": [
    {
     "name": "stderr",
     "output_type": "stream",
     "text": [
      "/Users/jsyme/anaconda3/lib/python3.8/site-packages/pandas/core/indexing.py:670: SettingWithCopyWarning: \n",
      "A value is trying to be set on a copy of a slice from a DataFrame\n",
      "\n",
      "See the caveats in the documentation: https://pandas.pydata.org/pandas-docs/stable/user_guide/indexing.html#returning-a-view-versus-a-copy\n",
      "  iloc._setitem_with_indexer(indexer, value)\n",
      "/Users/jsyme/Documents/Projects/git_jbus/lac_decarbonization/python/data_structures.py:579: UserWarning: Invalid subsector attribute 'key_varreqs_partial'. Valid return type values are:'pycategory_primary', 'abv_subsector', 'sector', 'abv_sector', 'key_varreqs_all'\n",
      "  warnings.warn(f\"Invalid subsector attribute '{return_type}'. Valid return type values are:{valid_rts}\")\n"
     ]
    }
   ],
   "source": [
    "# build AFOLU and SOCIOECONOMIC templates\n",
    "if True:\n",
    "    # get the\n",
    "    tp = max(sa.model_attributes.get_time_periods()[0])\n",
    "    f0, f1 = (f\"min_{tp}\", f\"max_{tp}\")\n",
    "    df_template_afolu = pd.read_csv(os.path.join(sa.dir_ref, \"fake_data\", \"tmp_afolu_vars_with_mcmc_new.csv\"))\n",
    "    df_template_afolu.drop([f0, f1], axis = 1, inplace = True)\n",
    "\n",
    "    df_sampling_range_defaults = sa.model_attributes.build_default_sampling_range_df()\n",
    "\n",
    "    df_template_afolu = pd.merge(df_template_afolu, df_sampling_range_defaults, how = \"left\", on = [\"variable\"])\n",
    "    df_template_afolu = df_template_afolu.dropna(subset = [\"max_35\", \"min_35\"], how = \"any\")\n",
    "    df_template_afolu.drop([\"src\"], axis = 1, inplace = True)\n",
    "\n",
    "    df_template_afolu[\"time_series_id\"] = np.zeros(len(df_template_afolu)).astype(int)\n",
    "    df_template_afolu[\"strategy_id\"] = np.zeros(len(df_template_afolu)).astype(int)\n",
    "    df_template_afolu[\"uniform_scaling_q\"].iloc[~df_template_afolu[\"uniform_scaling_q\"].isna()] = df_template_afolu[\"uniform_scaling_q\"].iloc[2]\n",
    "\n",
    "    # order\n",
    "    tp_max = max(sa.model_attributes.get_time_periods()[0])\n",
    "    fields_minmax = [f\"min_{tp_max}\", f\"max_{tp_max}\"]\n",
    "    fields_prep = [x for x in df_template_afolu.columns if not x.isnumeric() and (x not in fields_minmax)] + fields_minmax\n",
    "    fields_times = [x for x in df_template_afolu.columns if (x not in fields_prep)]\n",
    "\n",
    "    df_template_afolu = df_template_afolu[fields_prep + fields_times]\n",
    "    subsectors = [sa.model_attributes.dict_model_variable_to_subsector[sa.model_attributes.dict_variables_to_model_variables[x]] for x in df_template_afolu[\"variable\"]]\n",
    "    df_template_afolu[\"subsector\"] = subsectors\n",
    "\n",
    "    for sec in [\"AFOLU\", \"Socioeconomic\"]:\n",
    "\n",
    "        vars_keep = sa.model_attributes.get_variables_by_sector(sec, \"input\")\n",
    "        df_exp = df_template_afolu[df_template_afolu[\"variable\"].isin(vars_keep)].copy().reset_index(drop = True).drop_duplicates().sort_values(by = [\"subsector\", \"variable\"])\n",
    "\n",
    "        dict_out = {\n",
    "            \"strategy_id-0\": df_exp, \n",
    "            \"strategy_id-1\": df_exp.iloc[0:0]\n",
    "        }\n",
    "        #sf.dict_to_excel(sa.excel_template_path(sec, \"arg\", \"demo\", True), dict_out)\n",
    "else:\n",
    "    print(\"Not running AFOLU and SOCIOECONOMIC\")"
   ]
  },
  {
   "cell_type": "code",
   "execution_count": 5,
   "metadata": {},
   "outputs": [
    {
     "name": "stdout",
     "output_type": "stream",
     "text": [
      "Note running CIRCULAR ECONOMY\n"
     ]
    }
   ],
   "source": [
    "# build CIRCULAR ECONOMY template\n",
    "if False:\n",
    "    ##############################\n",
    "    #    BUILD WASTE TEMPLATE    #\n",
    "    ##############################\n",
    "\n",
    "    sec = \"Circular Economy\"\n",
    "    l_vars = sa.model_attributes.get_variables_by_sector(sec, \"input\")\n",
    "    l_vars.sort()\n",
    "\n",
    "    df_base = df_exp.iloc[0:0].copy()\n",
    "    df_base[\"variable\"] = l_vars\n",
    "    # add subsectors\n",
    "    subsectors = [sa.model_attributes.dict_model_variable_to_subsector[sa.model_attributes.dict_variables_to_model_variables[x]] for x in df_base[\"variable\"]]\n",
    "    df_base[\"subsector\"] = subsectors\n",
    "    df_base.drop([\"min_35\", \"max_35\"], axis = 1, inplace = True)\n",
    "    df_base = pd.merge(df_base, df_sampling_range_defaults)\n",
    "\n",
    "    df_safe = pd.read_excel(sa.excel_template_path(sec, \"arg\", \"demo\", True).replace(\"_demo.xlsx\", \"_demo_safe.xlsx\"))\n",
    "    dft_out = pd.merge(df_base[[x for x in df_base.columns if (x != \"0\")]], df_safe[[\"variable\", \"0\"]].dropna(subset = [\"0\"]).reset_index(drop = True), how = \"left\")\n",
    "    dft_out = dft_out[df_template_afolu.columns]\n",
    "\n",
    "    if True:\n",
    "\n",
    "\n",
    "\n",
    "        dict_out = {\n",
    "            \"strategy_id-0\": dft_out, \n",
    "            \"strategy_id-1\": dft_out.iloc[0:0]\n",
    "        }\n",
    "        sf.dict_to_excel(sa.excel_template_path(sec, \"arg\", \"demo\", True), dict_out)\n",
    "else:\n",
    "    print(\"Note running CIRCULAR ECONOMY\")\n"
   ]
  },
  {
   "cell_type": "code",
   "execution_count": 32,
   "metadata": {},
   "outputs": [
    {
     "data": {
      "text/html": [
       "<div>\n",
       "<style scoped>\n",
       "    .dataframe tbody tr th:only-of-type {\n",
       "        vertical-align: middle;\n",
       "    }\n",
       "\n",
       "    .dataframe tbody tr th {\n",
       "        vertical-align: top;\n",
       "    }\n",
       "\n",
       "    .dataframe thead th {\n",
       "        text-align: right;\n",
       "    }\n",
       "</style>\n",
       "<table border=\"1\" class=\"dataframe\">\n",
       "  <thead>\n",
       "    <tr style=\"text-align: right;\">\n",
       "      <th></th>\n",
       "      <th>variable</th>\n",
       "      <th>max_35</th>\n",
       "      <th>min_35</th>\n",
       "    </tr>\n",
       "  </thead>\n",
       "  <tbody>\n",
       "    <tr>\n",
       "      <th>605</th>\n",
       "      <td>ef_ippu_tonne_ch4_per_tonne_production_chemicals</td>\n",
       "      <td>1.0</td>\n",
       "      <td>1.0</td>\n",
       "    </tr>\n",
       "    <tr>\n",
       "      <th>606</th>\n",
       "      <td>ef_ippu_tonne_ch4_per_tonne_production_metals</td>\n",
       "      <td>1.0</td>\n",
       "      <td>1.0</td>\n",
       "    </tr>\n",
       "    <tr>\n",
       "      <th>607</th>\n",
       "      <td>ef_ippu_tonne_co2_per_mmm_gdp_non_energy_products</td>\n",
       "      <td>1.0</td>\n",
       "      <td>1.0</td>\n",
       "    </tr>\n",
       "    <tr>\n",
       "      <th>608</th>\n",
       "      <td>ef_ippu_tonne_co2_per_tonne_production_cement</td>\n",
       "      <td>1.0</td>\n",
       "      <td>1.0</td>\n",
       "    </tr>\n",
       "    <tr>\n",
       "      <th>609</th>\n",
       "      <td>ef_ippu_tonne_co2_per_tonne_production_chemicals</td>\n",
       "      <td>1.0</td>\n",
       "      <td>1.0</td>\n",
       "    </tr>\n",
       "    <tr>\n",
       "      <th>...</th>\n",
       "      <td>...</td>\n",
       "      <td>...</td>\n",
       "      <td>...</td>\n",
       "    </tr>\n",
       "    <tr>\n",
       "      <th>709</th>\n",
       "      <td>vol_ippu_recycled_plastic_m3_ww_per_tonne_prod...</td>\n",
       "      <td>1.0</td>\n",
       "      <td>1.0</td>\n",
       "    </tr>\n",
       "    <tr>\n",
       "      <th>710</th>\n",
       "      <td>vol_ippu_recycled_rubber_and_leather_m3_ww_per...</td>\n",
       "      <td>1.0</td>\n",
       "      <td>1.0</td>\n",
       "    </tr>\n",
       "    <tr>\n",
       "      <th>711</th>\n",
       "      <td>vol_ippu_recycled_textiles_m3_ww_per_tonne_pro...</td>\n",
       "      <td>1.0</td>\n",
       "      <td>1.0</td>\n",
       "    </tr>\n",
       "    <tr>\n",
       "      <th>712</th>\n",
       "      <td>vol_ippu_rubber_and_leather_m3_ww_per_tonne_pr...</td>\n",
       "      <td>1.0</td>\n",
       "      <td>1.0</td>\n",
       "    </tr>\n",
       "    <tr>\n",
       "      <th>713</th>\n",
       "      <td>vol_ippu_textiles_m3_ww_per_tonne_production</td>\n",
       "      <td>1.0</td>\n",
       "      <td>1.0</td>\n",
       "    </tr>\n",
       "  </tbody>\n",
       "</table>\n",
       "<p>109 rows × 3 columns</p>\n",
       "</div>"
      ],
      "text/plain": [
       "                                              variable  max_35  min_35\n",
       "605   ef_ippu_tonne_ch4_per_tonne_production_chemicals     1.0     1.0\n",
       "606      ef_ippu_tonne_ch4_per_tonne_production_metals     1.0     1.0\n",
       "607  ef_ippu_tonne_co2_per_mmm_gdp_non_energy_products     1.0     1.0\n",
       "608      ef_ippu_tonne_co2_per_tonne_production_cement     1.0     1.0\n",
       "609   ef_ippu_tonne_co2_per_tonne_production_chemicals     1.0     1.0\n",
       "..                                                 ...     ...     ...\n",
       "709  vol_ippu_recycled_plastic_m3_ww_per_tonne_prod...     1.0     1.0\n",
       "710  vol_ippu_recycled_rubber_and_leather_m3_ww_per...     1.0     1.0\n",
       "711  vol_ippu_recycled_textiles_m3_ww_per_tonne_pro...     1.0     1.0\n",
       "712  vol_ippu_rubber_and_leather_m3_ww_per_tonne_pr...     1.0     1.0\n",
       "713       vol_ippu_textiles_m3_ww_per_tonne_production     1.0     1.0\n",
       "\n",
       "[109 rows x 3 columns]"
      ]
     },
     "execution_count": 32,
     "metadata": {},
     "output_type": "execute_result"
    }
   ],
   "source": [
    "df_sampling_range_defaults = sa.model_attributes.build_default_sampling_range_df()\n",
    "df_sampling_range_defaults_ippu = df_sampling_range_defaults[\n",
    "    df_sampling_range_defaults[\"variable\"].isin(sa.model_attributes.build_varlist(\"IPPU\"))\n",
    "]\n",
    "df_sampling_range_defaults_ippu.to_csv(\"/Users/jsyme/Desktop/ippu_tmp.csv\", index = None, encoding = \"UTF-8\")\n",
    "\n",
    "\n",
    "df_sampling_range_defaults_ippu\n",
    "\n"
   ]
  },
  {
   "cell_type": "code",
   "execution_count": null,
   "metadata": {},
   "outputs": [],
   "source": []
  },
  {
   "cell_type": "code",
   "execution_count": 9,
   "metadata": {
    "collapsed": true,
    "jupyter": {
     "outputs_hidden": true
    }
   },
   "outputs": [
    {
     "ename": "FileNotFoundError",
     "evalue": "[Errno 2] No such file or directory: '/Users/jsyme/Documents/Projects/git_jbus/lac_decarbonization/ref/ingestion/parameters_demo/model_input_variables_ip_demo_safe.xlsx'",
     "output_type": "error",
     "traceback": [
      "\u001b[0;31m---------------------------------------------------------------------------\u001b[0m",
      "\u001b[0;31mFileNotFoundError\u001b[0m                         Traceback (most recent call last)",
      "\u001b[0;32m<ipython-input-9-c7e2c76b96e9>\u001b[0m in \u001b[0;36m<module>\u001b[0;34m\u001b[0m\n\u001b[1;32m     17\u001b[0m     \u001b[0mdf_base\u001b[0m \u001b[0;34m=\u001b[0m \u001b[0mpd\u001b[0m\u001b[0;34m.\u001b[0m\u001b[0mmerge\u001b[0m\u001b[0;34m(\u001b[0m\u001b[0mdf_base\u001b[0m\u001b[0;34m,\u001b[0m \u001b[0mdf_sampling_range_defaults\u001b[0m\u001b[0;34m)\u001b[0m\u001b[0;34m\u001b[0m\u001b[0;34m\u001b[0m\u001b[0m\n\u001b[1;32m     18\u001b[0m \u001b[0;34m\u001b[0m\u001b[0m\n\u001b[0;32m---> 19\u001b[0;31m     \u001b[0mdf_safe\u001b[0m \u001b[0;34m=\u001b[0m \u001b[0mpd\u001b[0m\u001b[0;34m.\u001b[0m\u001b[0mread_excel\u001b[0m\u001b[0;34m(\u001b[0m\u001b[0msa\u001b[0m\u001b[0;34m.\u001b[0m\u001b[0mexcel_template_path\u001b[0m\u001b[0;34m(\u001b[0m\u001b[0msec\u001b[0m\u001b[0;34m,\u001b[0m \u001b[0;34m\"arg\"\u001b[0m\u001b[0;34m,\u001b[0m \u001b[0;34m\"demo\"\u001b[0m\u001b[0;34m,\u001b[0m \u001b[0;32mTrue\u001b[0m\u001b[0;34m)\u001b[0m\u001b[0;34m.\u001b[0m\u001b[0mreplace\u001b[0m\u001b[0;34m(\u001b[0m\u001b[0;34m\"_demo.xlsx\"\u001b[0m\u001b[0;34m,\u001b[0m \u001b[0;34m\"_demo_safe.xlsx\"\u001b[0m\u001b[0;34m)\u001b[0m\u001b[0;34m)\u001b[0m\u001b[0;34m\u001b[0m\u001b[0;34m\u001b[0m\u001b[0m\n\u001b[0m\u001b[1;32m     20\u001b[0m     \u001b[0mdft_out\u001b[0m \u001b[0;34m=\u001b[0m \u001b[0mpd\u001b[0m\u001b[0;34m.\u001b[0m\u001b[0mmerge\u001b[0m\u001b[0;34m(\u001b[0m\u001b[0mdf_base\u001b[0m\u001b[0;34m[\u001b[0m\u001b[0;34m[\u001b[0m\u001b[0mx\u001b[0m \u001b[0;32mfor\u001b[0m \u001b[0mx\u001b[0m \u001b[0;32min\u001b[0m \u001b[0mdf_base\u001b[0m\u001b[0;34m.\u001b[0m\u001b[0mcolumns\u001b[0m \u001b[0;32mif\u001b[0m \u001b[0;34m(\u001b[0m\u001b[0mx\u001b[0m \u001b[0;34m!=\u001b[0m \u001b[0;34m\"0\"\u001b[0m\u001b[0;34m)\u001b[0m\u001b[0;34m]\u001b[0m\u001b[0;34m]\u001b[0m\u001b[0;34m,\u001b[0m \u001b[0mdf_safe\u001b[0m\u001b[0;34m[\u001b[0m\u001b[0;34m[\u001b[0m\u001b[0;34m\"variable\"\u001b[0m\u001b[0;34m,\u001b[0m \u001b[0;34m\"0\"\u001b[0m\u001b[0;34m]\u001b[0m\u001b[0;34m]\u001b[0m\u001b[0;34m.\u001b[0m\u001b[0mdropna\u001b[0m\u001b[0;34m(\u001b[0m\u001b[0msubset\u001b[0m \u001b[0;34m=\u001b[0m \u001b[0;34m[\u001b[0m\u001b[0;34m\"0\"\u001b[0m\u001b[0;34m]\u001b[0m\u001b[0;34m)\u001b[0m\u001b[0;34m.\u001b[0m\u001b[0mreset_index\u001b[0m\u001b[0;34m(\u001b[0m\u001b[0mdrop\u001b[0m \u001b[0;34m=\u001b[0m \u001b[0;32mTrue\u001b[0m\u001b[0;34m)\u001b[0m\u001b[0;34m,\u001b[0m \u001b[0mhow\u001b[0m \u001b[0;34m=\u001b[0m \u001b[0;34m\"left\"\u001b[0m\u001b[0;34m)\u001b[0m\u001b[0;34m\u001b[0m\u001b[0;34m\u001b[0m\u001b[0m\n\u001b[1;32m     21\u001b[0m     \u001b[0mdft_out\u001b[0m \u001b[0;34m=\u001b[0m \u001b[0mdft_out\u001b[0m\u001b[0;34m[\u001b[0m\u001b[0mdf_template_afolu\u001b[0m\u001b[0;34m.\u001b[0m\u001b[0mcolumns\u001b[0m\u001b[0;34m]\u001b[0m\u001b[0;34m\u001b[0m\u001b[0;34m\u001b[0m\u001b[0m\n",
      "\u001b[0;32m~/anaconda3/lib/python3.8/site-packages/pandas/util/_decorators.py\u001b[0m in \u001b[0;36mwrapper\u001b[0;34m(*args, **kwargs)\u001b[0m\n\u001b[1;32m    294\u001b[0m                 )\n\u001b[1;32m    295\u001b[0m                 \u001b[0mwarnings\u001b[0m\u001b[0;34m.\u001b[0m\u001b[0mwarn\u001b[0m\u001b[0;34m(\u001b[0m\u001b[0mmsg\u001b[0m\u001b[0;34m,\u001b[0m \u001b[0mFutureWarning\u001b[0m\u001b[0;34m,\u001b[0m \u001b[0mstacklevel\u001b[0m\u001b[0;34m=\u001b[0m\u001b[0mstacklevel\u001b[0m\u001b[0;34m)\u001b[0m\u001b[0;34m\u001b[0m\u001b[0;34m\u001b[0m\u001b[0m\n\u001b[0;32m--> 296\u001b[0;31m             \u001b[0;32mreturn\u001b[0m \u001b[0mfunc\u001b[0m\u001b[0;34m(\u001b[0m\u001b[0;34m*\u001b[0m\u001b[0margs\u001b[0m\u001b[0;34m,\u001b[0m \u001b[0;34m**\u001b[0m\u001b[0mkwargs\u001b[0m\u001b[0;34m)\u001b[0m\u001b[0;34m\u001b[0m\u001b[0;34m\u001b[0m\u001b[0m\n\u001b[0m\u001b[1;32m    297\u001b[0m \u001b[0;34m\u001b[0m\u001b[0m\n\u001b[1;32m    298\u001b[0m         \u001b[0;32mreturn\u001b[0m \u001b[0mwrapper\u001b[0m\u001b[0;34m\u001b[0m\u001b[0;34m\u001b[0m\u001b[0m\n",
      "\u001b[0;32m~/anaconda3/lib/python3.8/site-packages/pandas/io/excel/_base.py\u001b[0m in \u001b[0;36mread_excel\u001b[0;34m(io, sheet_name, header, names, index_col, usecols, squeeze, dtype, engine, converters, true_values, false_values, skiprows, nrows, na_values, keep_default_na, na_filter, verbose, parse_dates, date_parser, thousands, comment, skipfooter, convert_float, mangle_dupe_cols)\u001b[0m\n\u001b[1;32m    302\u001b[0m \u001b[0;34m\u001b[0m\u001b[0m\n\u001b[1;32m    303\u001b[0m     \u001b[0;32mif\u001b[0m \u001b[0;32mnot\u001b[0m \u001b[0misinstance\u001b[0m\u001b[0;34m(\u001b[0m\u001b[0mio\u001b[0m\u001b[0;34m,\u001b[0m \u001b[0mExcelFile\u001b[0m\u001b[0;34m)\u001b[0m\u001b[0;34m:\u001b[0m\u001b[0;34m\u001b[0m\u001b[0;34m\u001b[0m\u001b[0m\n\u001b[0;32m--> 304\u001b[0;31m         \u001b[0mio\u001b[0m \u001b[0;34m=\u001b[0m \u001b[0mExcelFile\u001b[0m\u001b[0;34m(\u001b[0m\u001b[0mio\u001b[0m\u001b[0;34m,\u001b[0m \u001b[0mengine\u001b[0m\u001b[0;34m=\u001b[0m\u001b[0mengine\u001b[0m\u001b[0;34m)\u001b[0m\u001b[0;34m\u001b[0m\u001b[0;34m\u001b[0m\u001b[0m\n\u001b[0m\u001b[1;32m    305\u001b[0m     \u001b[0;32melif\u001b[0m \u001b[0mengine\u001b[0m \u001b[0;32mand\u001b[0m \u001b[0mengine\u001b[0m \u001b[0;34m!=\u001b[0m \u001b[0mio\u001b[0m\u001b[0;34m.\u001b[0m\u001b[0mengine\u001b[0m\u001b[0;34m:\u001b[0m\u001b[0;34m\u001b[0m\u001b[0;34m\u001b[0m\u001b[0m\n\u001b[1;32m    306\u001b[0m         raise ValueError(\n",
      "\u001b[0;32m~/anaconda3/lib/python3.8/site-packages/pandas/io/excel/_base.py\u001b[0m in \u001b[0;36m__init__\u001b[0;34m(self, path_or_buffer, engine)\u001b[0m\n\u001b[1;32m    865\u001b[0m         \u001b[0mself\u001b[0m\u001b[0;34m.\u001b[0m\u001b[0m_io\u001b[0m \u001b[0;34m=\u001b[0m \u001b[0mstringify_path\u001b[0m\u001b[0;34m(\u001b[0m\u001b[0mpath_or_buffer\u001b[0m\u001b[0;34m)\u001b[0m\u001b[0;34m\u001b[0m\u001b[0;34m\u001b[0m\u001b[0m\n\u001b[1;32m    866\u001b[0m \u001b[0;34m\u001b[0m\u001b[0m\n\u001b[0;32m--> 867\u001b[0;31m         \u001b[0mself\u001b[0m\u001b[0;34m.\u001b[0m\u001b[0m_reader\u001b[0m \u001b[0;34m=\u001b[0m \u001b[0mself\u001b[0m\u001b[0;34m.\u001b[0m\u001b[0m_engines\u001b[0m\u001b[0;34m[\u001b[0m\u001b[0mengine\u001b[0m\u001b[0;34m]\u001b[0m\u001b[0;34m(\u001b[0m\u001b[0mself\u001b[0m\u001b[0;34m.\u001b[0m\u001b[0m_io\u001b[0m\u001b[0;34m)\u001b[0m\u001b[0;34m\u001b[0m\u001b[0;34m\u001b[0m\u001b[0m\n\u001b[0m\u001b[1;32m    868\u001b[0m \u001b[0;34m\u001b[0m\u001b[0m\n\u001b[1;32m    869\u001b[0m     \u001b[0;32mdef\u001b[0m \u001b[0m__fspath__\u001b[0m\u001b[0;34m(\u001b[0m\u001b[0mself\u001b[0m\u001b[0;34m)\u001b[0m\u001b[0;34m:\u001b[0m\u001b[0;34m\u001b[0m\u001b[0;34m\u001b[0m\u001b[0m\n",
      "\u001b[0;32m~/anaconda3/lib/python3.8/site-packages/pandas/io/excel/_xlrd.py\u001b[0m in \u001b[0;36m__init__\u001b[0;34m(self, filepath_or_buffer)\u001b[0m\n\u001b[1;32m     20\u001b[0m         \u001b[0merr_msg\u001b[0m \u001b[0;34m=\u001b[0m \u001b[0;34m\"Install xlrd >= 1.0.0 for Excel support\"\u001b[0m\u001b[0;34m\u001b[0m\u001b[0;34m\u001b[0m\u001b[0m\n\u001b[1;32m     21\u001b[0m         \u001b[0mimport_optional_dependency\u001b[0m\u001b[0;34m(\u001b[0m\u001b[0;34m\"xlrd\"\u001b[0m\u001b[0;34m,\u001b[0m \u001b[0mextra\u001b[0m\u001b[0;34m=\u001b[0m\u001b[0merr_msg\u001b[0m\u001b[0;34m)\u001b[0m\u001b[0;34m\u001b[0m\u001b[0;34m\u001b[0m\u001b[0m\n\u001b[0;32m---> 22\u001b[0;31m         \u001b[0msuper\u001b[0m\u001b[0;34m(\u001b[0m\u001b[0;34m)\u001b[0m\u001b[0;34m.\u001b[0m\u001b[0m__init__\u001b[0m\u001b[0;34m(\u001b[0m\u001b[0mfilepath_or_buffer\u001b[0m\u001b[0;34m)\u001b[0m\u001b[0;34m\u001b[0m\u001b[0;34m\u001b[0m\u001b[0m\n\u001b[0m\u001b[1;32m     23\u001b[0m \u001b[0;34m\u001b[0m\u001b[0m\n\u001b[1;32m     24\u001b[0m     \u001b[0;34m@\u001b[0m\u001b[0mproperty\u001b[0m\u001b[0;34m\u001b[0m\u001b[0;34m\u001b[0m\u001b[0m\n",
      "\u001b[0;32m~/anaconda3/lib/python3.8/site-packages/pandas/io/excel/_base.py\u001b[0m in \u001b[0;36m__init__\u001b[0;34m(self, filepath_or_buffer)\u001b[0m\n\u001b[1;32m    351\u001b[0m             \u001b[0mself\u001b[0m\u001b[0;34m.\u001b[0m\u001b[0mbook\u001b[0m \u001b[0;34m=\u001b[0m \u001b[0mself\u001b[0m\u001b[0;34m.\u001b[0m\u001b[0mload_workbook\u001b[0m\u001b[0;34m(\u001b[0m\u001b[0mfilepath_or_buffer\u001b[0m\u001b[0;34m)\u001b[0m\u001b[0;34m\u001b[0m\u001b[0;34m\u001b[0m\u001b[0m\n\u001b[1;32m    352\u001b[0m         \u001b[0;32melif\u001b[0m \u001b[0misinstance\u001b[0m\u001b[0;34m(\u001b[0m\u001b[0mfilepath_or_buffer\u001b[0m\u001b[0;34m,\u001b[0m \u001b[0mstr\u001b[0m\u001b[0;34m)\u001b[0m\u001b[0;34m:\u001b[0m\u001b[0;34m\u001b[0m\u001b[0;34m\u001b[0m\u001b[0m\n\u001b[0;32m--> 353\u001b[0;31m             \u001b[0mself\u001b[0m\u001b[0;34m.\u001b[0m\u001b[0mbook\u001b[0m \u001b[0;34m=\u001b[0m \u001b[0mself\u001b[0m\u001b[0;34m.\u001b[0m\u001b[0mload_workbook\u001b[0m\u001b[0;34m(\u001b[0m\u001b[0mfilepath_or_buffer\u001b[0m\u001b[0;34m)\u001b[0m\u001b[0;34m\u001b[0m\u001b[0;34m\u001b[0m\u001b[0m\n\u001b[0m\u001b[1;32m    354\u001b[0m         \u001b[0;32melif\u001b[0m \u001b[0misinstance\u001b[0m\u001b[0;34m(\u001b[0m\u001b[0mfilepath_or_buffer\u001b[0m\u001b[0;34m,\u001b[0m \u001b[0mbytes\u001b[0m\u001b[0;34m)\u001b[0m\u001b[0;34m:\u001b[0m\u001b[0;34m\u001b[0m\u001b[0;34m\u001b[0m\u001b[0m\n\u001b[1;32m    355\u001b[0m             \u001b[0mself\u001b[0m\u001b[0;34m.\u001b[0m\u001b[0mbook\u001b[0m \u001b[0;34m=\u001b[0m \u001b[0mself\u001b[0m\u001b[0;34m.\u001b[0m\u001b[0mload_workbook\u001b[0m\u001b[0;34m(\u001b[0m\u001b[0mBytesIO\u001b[0m\u001b[0;34m(\u001b[0m\u001b[0mfilepath_or_buffer\u001b[0m\u001b[0;34m)\u001b[0m\u001b[0;34m)\u001b[0m\u001b[0;34m\u001b[0m\u001b[0;34m\u001b[0m\u001b[0m\n",
      "\u001b[0;32m~/anaconda3/lib/python3.8/site-packages/pandas/io/excel/_xlrd.py\u001b[0m in \u001b[0;36mload_workbook\u001b[0;34m(self, filepath_or_buffer)\u001b[0m\n\u001b[1;32m     35\u001b[0m             \u001b[0;32mreturn\u001b[0m \u001b[0mopen_workbook\u001b[0m\u001b[0;34m(\u001b[0m\u001b[0mfile_contents\u001b[0m\u001b[0;34m=\u001b[0m\u001b[0mdata\u001b[0m\u001b[0;34m)\u001b[0m\u001b[0;34m\u001b[0m\u001b[0;34m\u001b[0m\u001b[0m\n\u001b[1;32m     36\u001b[0m         \u001b[0;32melse\u001b[0m\u001b[0;34m:\u001b[0m\u001b[0;34m\u001b[0m\u001b[0;34m\u001b[0m\u001b[0m\n\u001b[0;32m---> 37\u001b[0;31m             \u001b[0;32mreturn\u001b[0m \u001b[0mopen_workbook\u001b[0m\u001b[0;34m(\u001b[0m\u001b[0mfilepath_or_buffer\u001b[0m\u001b[0;34m)\u001b[0m\u001b[0;34m\u001b[0m\u001b[0;34m\u001b[0m\u001b[0m\n\u001b[0m\u001b[1;32m     38\u001b[0m \u001b[0;34m\u001b[0m\u001b[0m\n\u001b[1;32m     39\u001b[0m     \u001b[0;34m@\u001b[0m\u001b[0mproperty\u001b[0m\u001b[0;34m\u001b[0m\u001b[0;34m\u001b[0m\u001b[0m\n",
      "\u001b[0;32m~/anaconda3/lib/python3.8/site-packages/xlrd/__init__.py\u001b[0m in \u001b[0;36mopen_workbook\u001b[0;34m(filename, logfile, verbosity, use_mmap, file_contents, encoding_override, formatting_info, on_demand, ragged_rows)\u001b[0m\n\u001b[1;32m    109\u001b[0m     \u001b[0;32melse\u001b[0m\u001b[0;34m:\u001b[0m\u001b[0;34m\u001b[0m\u001b[0;34m\u001b[0m\u001b[0m\n\u001b[1;32m    110\u001b[0m         \u001b[0mfilename\u001b[0m \u001b[0;34m=\u001b[0m \u001b[0mos\u001b[0m\u001b[0;34m.\u001b[0m\u001b[0mpath\u001b[0m\u001b[0;34m.\u001b[0m\u001b[0mexpanduser\u001b[0m\u001b[0;34m(\u001b[0m\u001b[0mfilename\u001b[0m\u001b[0;34m)\u001b[0m\u001b[0;34m\u001b[0m\u001b[0;34m\u001b[0m\u001b[0m\n\u001b[0;32m--> 111\u001b[0;31m         \u001b[0;32mwith\u001b[0m \u001b[0mopen\u001b[0m\u001b[0;34m(\u001b[0m\u001b[0mfilename\u001b[0m\u001b[0;34m,\u001b[0m \u001b[0;34m\"rb\"\u001b[0m\u001b[0;34m)\u001b[0m \u001b[0;32mas\u001b[0m \u001b[0mf\u001b[0m\u001b[0;34m:\u001b[0m\u001b[0;34m\u001b[0m\u001b[0;34m\u001b[0m\u001b[0m\n\u001b[0m\u001b[1;32m    112\u001b[0m             \u001b[0mpeek\u001b[0m \u001b[0;34m=\u001b[0m \u001b[0mf\u001b[0m\u001b[0;34m.\u001b[0m\u001b[0mread\u001b[0m\u001b[0;34m(\u001b[0m\u001b[0mpeeksz\u001b[0m\u001b[0;34m)\u001b[0m\u001b[0;34m\u001b[0m\u001b[0;34m\u001b[0m\u001b[0m\n\u001b[1;32m    113\u001b[0m     \u001b[0;32mif\u001b[0m \u001b[0mpeek\u001b[0m \u001b[0;34m==\u001b[0m \u001b[0;34mb\"PK\\x03\\x04\"\u001b[0m\u001b[0;34m:\u001b[0m \u001b[0;31m# a ZIP file\u001b[0m\u001b[0;34m\u001b[0m\u001b[0;34m\u001b[0m\u001b[0m\n",
      "\u001b[0;31mFileNotFoundError\u001b[0m: [Errno 2] No such file or directory: '/Users/jsyme/Documents/Projects/git_jbus/lac_decarbonization/ref/ingestion/parameters_demo/model_input_variables_ip_demo_safe.xlsx'"
     ]
    }
   ],
   "source": [
    "# build IPPU template\n",
    "if True:\n",
    "    df_sampling_range_defaults = sa.model_attributes.build_default_sampling_range_df()\n",
    "    df_sampling_range_defaults_ippu = df_sampling_range_defaults[\n",
    "        df_sampling_range_defaults[\"variable\"].isin(sa.model_attributes.build_varlist(\"IPPU\"))\n",
    "    ]\n",
    "    \n",
    "    ##############################\n",
    "    #    BUILD WASTE TEMPLATE    #\n",
    "    ##############################\n",
    "\n",
    "    sec = \"IPPU\"\n",
    "    l_vars = sa.model_attributes.get_variables_by_sector(sec, \"input\")\n",
    "    l_vars.sort()\n",
    "\n",
    "    df_base = df_exp.iloc[0:0].copy()\n",
    "    df_base[\"variable\"] = l_vars\n",
    "    # add subsectors\n",
    "    subsectors = [sa.model_attributes.dict_model_variable_to_subsector[sa.model_attributes.dict_variables_to_model_variables[x]] for x in df_base[\"variable\"]]\n",
    "    df_base[\"subsector\"] = subsectors\n",
    "    df_base.drop([\"min_35\", \"max_35\"], axis = 1, inplace = True)\n",
    "    df_base = pd.merge(df_base, df_sampling_range_defaults)\n",
    "\n",
    "    df_safe = pd.read_excel(sa.excel_template_path(sec, \"arg\", \"demo\", True).replace(\"_demo.xlsx\", \"_demo_safe.xlsx\"))\n",
    "    dft_out = pd.merge(df_base[[x for x in df_base.columns if (x != \"0\")]], df_safe[[\"variable\", \"0\"]].dropna(subset = [\"0\"]).reset_index(drop = True), how = \"left\")\n",
    "    dft_out = dft_out[df_template_afolu.columns]\n",
    "\n",
    "    if True:\n",
    "\n",
    "\n",
    "\n",
    "        dict_out = {\n",
    "            \"strategy_id-0\": dft_out, \n",
    "            \"strategy_id-1\": dft_out.iloc[0:0]\n",
    "        }\n",
    "        sf.dict_to_excel(sa.excel_template_path(sec, \"arg\", \"demo\", True), dict_out)\n",
    "else:\n",
    "    print(\"Note running IPPU\")\n"
   ]
  },
  {
   "cell_type": "code",
   "execution_count": 57,
   "metadata": {},
   "outputs": [],
   "source": [
    "subsectors = [\"Industrial Energy\", \"Energy Fuels\"]#sa.model_attributes.get_sector_subsectors(\"Energy\")\n",
    "vars_subsectors = set().union(*[set(sa.model_attributes.build_varlist(x)) for x in subsectors])\n",
    "\n",
    "\n",
    "\n",
    "#subsectors = sa.model_attributes.get_sector_subsectors(\"Energy\")\n",
    "#vars_subsectors = set().union([set(sa.model_attributes.build_varlist(\"Energy\"))])\n",
    "df_sampling_range_defaults = sa.model_attributes.build_default_sampling_range_df()\n",
    "df_sampling_range_defaults_energy = df_sampling_range_defaults[\n",
    "    df_sampling_range_defaults[\"variable\"].isin(vars_subsectors)\n",
    "].reset_index(drop = True)\n",
    "df_sampling_range_defaults_energy.to_csv(\"/Users/jsyme/Desktop/ener_tmp.csv\", index = None, encoding = \"UTF-8\")\n",
    "\n",
    "\n"
   ]
  },
  {
   "cell_type": "code",
   "execution_count": 66,
   "metadata": {},
   "outputs": [],
   "source": [
    "subsectors = [\"Industrial Energy\", \"Energy Fuels\"]#sa.model_attributes.get_sector_subsectors(\"Energy\")\n",
    "vars_subsectors = set().union(*[set(sa.model_attributes.build_varlist(x)) for x in subsectors])\n",
    "#subsectors = sa.model_attributes.get_sector_subsectors(\"Energy\")\n",
    "#vars_subsectors = set().union([set(sa.model_attributes.build_varlist(\"Energy\"))])\n",
    "df_sampling_range_defaults = sa.model_attributes.build_default_sampling_range_df()\n",
    "df_sampling_range_defaults_energy = df_sampling_range_defaults[\n",
    "    df_sampling_range_defaults[\"variable\"].isin(vars_subsectors)\n",
    "].reset_index(drop = True)\n",
    "#df_sampling_range_defaults_energy.to_csv(\"/Users/jsyme/Desktop/ener_tmp.csv\", index = None, encoding = \"UTF-8\")\n",
    "##############################\n",
    "#    BUILD ENERGY TEMPLATE    #\n",
    "##############################\n",
    "\n",
    "sec = \"Energy\"\n",
    "l_vars = sa.model_attributes.get_variables_by_sector(sec, \"input\")\n",
    "l_vars = list(vars_subsectors)\n",
    "l_vars.sort()\n",
    "\n",
    "df_base = df_exp.iloc[0:0].copy()\n",
    "df_base[\"variable\"] = l_vars\n",
    "# add subsectors\n",
    "subsectors = [sa.model_attributes.dict_model_variable_to_subsector[sa.model_attributes.dict_variables_to_model_variables[x]] for x in df_base[\"variable\"]]\n",
    "df_base[\"subsector\"] = subsectors\n",
    "df_base.drop([\"min_35\", \"max_35\"], axis = 1, inplace = True)\n",
    "df_base = pd.merge(df_base, df_sampling_range_defaults)\n",
    "\n",
    "#df_safe = pd.read_excel(sa.excel_template_path(sec, \"arg\", \"demo\", True).replace(\"_demo.xlsx\", \"_demo_safe.xlsx\"))\n",
    "#dft_out = pd.merge(df_base[[x for x in df_base.columns if (x != \"0\")]], df_safe[[\"variable\", \"0\"]].dropna(subset = [\"0\"]).reset_index(drop = True), how = \"left\")\n",
    "dft_out = df_base\n",
    "dft_out = dft_out[df_template_afolu.columns].sort_values(by = [\"subsector\", \"variable\"]).reset_index(drop = True)\n",
    "\n",
    "if True:\n",
    "\n",
    "    dict_out = {\n",
    "        \"strategy_id-0\": dft_out, \n",
    "        \"strategy_id-1\": dft_out.iloc[0:0]\n",
    "    }\n",
    "    sf.dict_to_excel(sa.excel_template_path(sec, \"arg\", \"demo\", True), dict_out)\n",
    "else:\n",
    "    print(\"Note running IPPU\")\n",
    "\n"
   ]
  },
  {
   "cell_type": "code",
   "execution_count": 73,
   "metadata": {},
   "outputs": [],
   "source": [
    "dict_1 = {\"a\": 34, \"b\": 4}\n",
    "dict_2 = {\"c\": 34, \"d\": 41}\n",
    "\n",
    "sf.check_keys(dict_1, [\"a\", \"b\"]) if (1 > 0) else sf.check_keys(dict_2, [\"a\", \"b\"]);\n"
   ]
  },
  {
   "cell_type": "code",
   "execution_count": 20,
   "metadata": {},
   "outputs": [
    {
     "data": {
      "text/plain": [
       "['Energy Fuels',\n",
       " 'Energy Storage',\n",
       " 'Energy Technology',\n",
       " 'Industrial Energy',\n",
       " 'Other Energy: Stationary Emissions and Carbon Capture and Sequestration',\n",
       " 'Transportation']"
      ]
     },
     "execution_count": 20,
     "metadata": {},
     "output_type": "execute_result"
    }
   ],
   "source": [
    "\n",
    "\n",
    "#sa.model_attributes.dict_attributes[\"abbreviation_subsector\"].table\n"
   ]
  },
  {
   "cell_type": "code",
   "execution_count": 2,
   "metadata": {},
   "outputs": [],
   "source": [
    "# expand later to integrate strategy dimension\n",
    "def build_modvar_input_db_from_templates(\n",
    "    model_attributes: ma.ModelAttributes,\n",
    "    sectors: list, \n",
    "    region: str, \n",
    "    template_type: str,\n",
    "    repl_missing_with_base: bool = True\n",
    ") -> pd.DataFrame:\n",
    "    \n",
    "    ##  run some checksee\n",
    "    \n",
    "    # check region\n",
    "    region = region.lower()\n",
    "    if region not in model_attributes.dict_attributes[\"region\"].key_values:\n",
    "        valid_regions = sf.format_print_list(model_attributes.dict_attributes[\"region\"].key_values)\n",
    "        raise ValueError(f\"Invalid region '{region}' specified. Valid regions are {valid_regions}\")\n",
    "        \n",
    "    # check sectors\n",
    "    sectors_drop = [x for x in sectors if (x not in model_attributes.all_sectors)]\n",
    "    if len(sectors_drop) > 0:\n",
    "        secs_drop = sf.format_print_list(sectors_drop)\n",
    "        raise ValueError(f\"Invalid sectors {secs_drop} found. Valid sectors are {model_attributes.all_sectors}.\")\n",
    "    \n",
    "    \n",
    "    ##\n",
    "    ##  TEMP: 0 only\n",
    "    ##\n",
    "    strat_base = 0\n",
    "    sheet_base = f\"{model_attributes.dim_strategy_id}-{strat_base}\"\n",
    "    \n",
    "    strats_eval = [strat_base]\n",
    "    \n",
    "    df_out = []\n",
    "    \n",
    "        \n",
    "    for sec in sectors:\n",
    "        fp_templ = sa.excel_template_path(sec, region, template_type, True)\n",
    "        if not os.path.exists(fp_templ):\n",
    "            raise ValueError(f\"Error: path '{fp_templ}' to template not found.\")\n",
    "        # check available sheets and ensure baseline is available\n",
    "        sheets_avail = pd.ExcelFile(fp_templ).sheet_names\n",
    "        if sheet_base not in sheets_avail:\n",
    "             raise ValueError(f\"Baseline strategy sheet {sheet_base} not found in '{fp_templ}'. The template must have a sheet for the baseline strategy.\")\n",
    "        \n",
    "        \n",
    "        for strat in strats_eval:\n",
    "            sheet = f\"{model_attributes.dim_strategy_id}-{strat}\"\n",
    "            if not sheet in sheets_avail:\n",
    "                msg = f\"Sheet {sheet} not found in '{fp_templ}'. Check the template.\"\n",
    "                if repl_missing_with_base:\n",
    "                    warnings.warn(f\"{msg}. The baseline strategy will be used.\")\n",
    "                    sheet = sheet_base\n",
    "                else:\n",
    "                    raise ValueError(msg)\n",
    "            \n",
    "            # \n",
    "            df_tmp = pd.read_excel(fp_templ, sheet_name = sheet)\n",
    "            df_tmp[model_attributes.dim_strategy_id] = strat\n",
    "            \n",
    "            new_cols = [str(x) for x in df_tmp.columns]#[str(x) if not str(x).isnumeric() else int(x) for x in df_tmp.columns]\n",
    "            dict_rnm = dict(zip(list(df_tmp.columns), new_cols))\n",
    "            df_tmp.rename(columns = dict_rnm, inplace = True)\n",
    "            #print(df_tmp.columns)\n",
    "            \n",
    "            #\n",
    "            #   ADD CHECKS FOR TIME PERIODS\n",
    "            #\n",
    "            \n",
    "            \n",
    "            #\n",
    "            #   ADD DIFFERENT STEPS FOR NON-BASELINE STRATEGY\n",
    "            #\n",
    "            \n",
    "            if len(df_out) == 0:\n",
    "                df_out.append(df_tmp)\n",
    "            else:\n",
    "                df_out.append(df_tmp[df_out[0].columns])\n",
    "                \n",
    "    df_out = pd.concat(df_out, axis = 0).sort_values(by = [\"subsector\", \"variable\"]).reset_index(drop = True)\n",
    "        \n",
    "    return df_out\n",
    "        \n",
    "# function to convert a model variable input database into a simple projection input dataframe\n",
    "def build_basic_df_from_modvar_inputs(\n",
    "    model_attributes: ma.ModelAttributes, \n",
    "    df_mv: pd.DataFrame\n",
    ") -> pd.DataFrame:\n",
    "    \"\"\"\n",
    "        build_basic_df_from_modvar_inputs will take a model input database and transform it (under baseline assumptions) into a projection dataframe.\n",
    "\n",
    "        - model_attributes: a ModelAttributes class\n",
    "\n",
    "        - df_mv: a dataframe of model variables\n",
    "    \"\"\"\n",
    "\n",
    "    df_mv_out = df_mv[[str(x) for x in model_attributes.get_time_periods()[0]]].transpose().reset_index(drop = True)\n",
    "    var_fields = list(df_mv[\"variable\"])\n",
    "    df_mv_out.rename(columns = dict(zip([(x) for x in range(len(df_mv_out.columns))], var_fields)), inplace = True)\n",
    "\n",
    "    df_mv_out[model_attributes.dim_time_period] = list(range(len(df_mv_out)))\n",
    "    var_fields.sort()\n",
    "\n",
    "    return df_mv_out[[model_attributes.dim_time_period] + var_fields]\n",
    "\n",
    "region = \"argentina\"\n",
    "# everything\n",
    "df_mv_tmp = build_modvar_input_db_from_templates(sa.model_attributes, [\"Socioeconomic\", \"Circular Economy\", \"AFOLU\", \"IPPU\", \"Energy\"], region, \"demo\")       \n",
    "df_mv_out = build_basic_df_from_modvar_inputs(sa.model_attributes, df_mv_tmp)\n",
    "df_mv_out.to_csv(os.path.join(sa.dir_ref, \"fake_data\", \"fake_data_complete.csv\"), index = None, encoding = \"UTF-8\")\n",
    "\n",
    "# afolu vars\n",
    "df_mv_tmp = build_modvar_input_db_from_templates(sa.model_attributes, [\"Socioeconomic\", \"AFOLU\"], region, \"demo\")       \n",
    "df_mv_out = build_basic_df_from_modvar_inputs(sa.model_attributes, df_mv_tmp)\n",
    "df_mv_out.to_csv(os.path.join(sa.dir_ref, \"fake_data\", \"fake_data_afolu.csv\"), index = None, encoding = \"UTF-8\")\n",
    "\n",
    "# ce vars\n",
    "df_mv_tmp = build_modvar_input_db_from_templates(sa.model_attributes, [\"Socioeconomic\", \"Circular Economy\"], region, \"demo\")       \n",
    "df_mv_out = build_basic_df_from_modvar_inputs(sa.model_attributes, df_mv_tmp)\n",
    "df_mv_out.to_csv(os.path.join(sa.dir_ref, \"fake_data\", \"fake_data_circular_economy.csv\"), index = None, encoding = \"UTF-8\")\n",
    "\n",
    "# ippu\n",
    "df_mv_tmp = build_modvar_input_db_from_templates(sa.model_attributes, [\"Socioeconomic\", \"IPPU\"], region, \"demo\")       \n",
    "df_mv_out = build_basic_df_from_modvar_inputs(sa.model_attributes, df_mv_tmp)\n",
    "df_mv_out.to_csv(os.path.join(sa.dir_ref, \"fake_data\", \"fake_data_ippu.csv\"), index = None, encoding = \"UTF-8\")\n",
    "\n",
    "# energy\n",
    "df_mv_tmp = build_modvar_input_db_from_templates(sa.model_attributes, [\"Socioeconomic\", \"IPPU\", \"Energy\"], region, \"demo\")       \n",
    "df_mv_out = build_basic_df_from_modvar_inputs(sa.model_attributes, df_mv_tmp)\n",
    "df_mv_out.to_csv(os.path.join(sa.dir_ref, \"fake_data\", \"fake_data_energy.csv\"), index = None, encoding = \"UTF-8\")\n",
    "\n",
    "# socioeconomic vars\n",
    "df_mv_tmp = build_modvar_input_db_from_templates(sa.model_attributes, [\"Socioeconomic\"], region, \"demo\")       \n",
    "df_mv_out = build_basic_df_from_modvar_inputs(sa.model_attributes, df_mv_tmp)\n",
    "df_mv_out.to_csv(os.path.join(sa.dir_ref, \"fake_data\", \"fake_data_socioeconomic.csv\"), index = None, encoding = \"UTF-8\")\n"
   ]
  },
  {
   "cell_type": "code",
   "execution_count": 3,
   "metadata": {},
   "outputs": [
    {
     "data": {
      "text/plain": [
       "22"
      ]
     },
     "execution_count": 3,
     "metadata": {},
     "output_type": "execute_result"
    }
   ],
   "source": [
    "22"
   ]
  },
  {
   "cell_type": "code",
   "execution_count": null,
   "metadata": {},
   "outputs": [],
   "source": []
  },
  {
   "cell_type": "code",
   "execution_count": 99,
   "metadata": {},
   "outputs": [],
   "source": [
    "\n",
    "df_mv_tmp = build_modvar_input_db_from_templates(sa.model_attributes, [\"Socioeconomic\", \"AFOLU\"], \"arg\", \"demo\")   \n",
    "df_import = pd.read_csv(\"/Users/jsyme/Downloads/predefined_data_vars_revised.csv\")\n",
    "df_check = df_mv_tmp[df_mv_tmp[\"variable\"].isin(list(df_import[\"file\"]))]\n",
    "df_check[[\"subsector\", \"variable\", \"min_35\", \"max_35\"]].sort_values(by = [\"subsector\", \"variable\"]).to_csv(\"~/tmp.csv\", index = None, encoding = \"UTF-8\")"
   ]
  },
  {
   "cell_type": "code",
   "execution_count": 106,
   "metadata": {},
   "outputs": [
    {
     "data": {
      "text/plain": [
       "['ef_agrc_soilcarbon_bevs_and_spices_kg_co2_ha',\n",
       " 'ef_agrc_soilcarbon_cereals_kg_co2_ha',\n",
       " 'ef_agrc_soilcarbon_fibers_kg_co2_ha',\n",
       " 'ef_agrc_soilcarbon_fruits_kg_co2_ha',\n",
       " 'ef_agrc_soilcarbon_herbs_and_other_perennial_crops_kg_co2_ha',\n",
       " 'ef_agrc_soilcarbon_nuts_kg_co2_ha',\n",
       " 'ef_agrc_soilcarbon_other_annual_kg_co2_ha',\n",
       " 'ef_agrc_soilcarbon_other_woody_perennial_kg_co2_ha',\n",
       " 'ef_agrc_soilcarbon_pulses_kg_co2_ha',\n",
       " 'ef_agrc_soilcarbon_rice_kg_co2_ha',\n",
       " 'ef_agrc_soilcarbon_sugar_cane_kg_co2_ha',\n",
       " 'ef_agrc_soilcarbon_tubers_kg_co2_ha',\n",
       " 'ef_agrc_soilcarbon_vegetables_and_vines_kg_co2_ha',\n",
       " 'ef_lndu_soilcarbon_grasslands_gg_co2_ha']"
      ]
     },
     "execution_count": 106,
     "metadata": {},
     "output_type": "execute_result"
    }
   ],
   "source": [
    "[x for x in df_import[\"file\"] if \"soilcarbon\" in x]"
   ]
  },
  {
   "cell_type": "code",
   "execution_count": null,
   "metadata": {},
   "outputs": [],
   "source": [
    "# random work\n",
    "df_safe = pd.read_excel(sa.excel_template_path(sec, \"arg\", \"demo\", True).replace(\"_demo.xlsx\", \"_demo_safe.xlsx\"))\n",
    "#dft = dict_out[\"strategy_id-0\"]\n",
    "#dft_out = pd.merge(dft[[x for x in dft.columns if (x != \"0\")]], df_safe[[\"variable\", \"0\"]].dropna(subset = [\"0\"]).reset_index(drop = True), how = \"left\")\n",
    "\n",
    "\n"
   ]
  },
  {
   "cell_type": "code",
   "execution_count": null,
   "metadata": {},
   "outputs": [],
   "source": [
    "dft = sa.model_attributes.dict_attributes[\"region\"].table.copy()\n",
    "dft[\"region\"] = [x.upper() for x in dft[\"region\"]]\n",
    "\n",
    "df_wb_waste = pd.read_csv(\"/Users/jsyme/Documents/Projects/FY21/SWCHE131_1000/Data/waste_management_data/wb_whatawaste_country_level_data_0.csv\")\n",
    "df_wb_waste = pd.merge(df_wb_waste, dft[[\"region\"]], left_on = [\"iso3c\"], right_on = [\"region\"], how = \"inner\")\n",
    "[x for x in df_wb_waste.columns if \"recy\" in x]\n",
    "\n",
    "np.mean(df_wb_waste[\"waste_treatment_recycling_percent\"].dropna())"
   ]
  },
  {
   "cell_type": "code",
   "execution_count": null,
   "metadata": {},
   "outputs": [],
   "source": [
    "arr = np.array(df_wb_waste[[\"total_msw_total_msw_generated_tons_year\", \"population_population_number_of_people\"]])#.columns\n",
    "np.dot(arr[:, 0], arr[:, 1])/(sum(arr[:, 1])*sum(arr[:, 0]))\n",
    "               \n",
    "sum((arr[:, 1]*(arr[:, 0]/arr[:, 1]))/sum(arr[:, 1]))\n",
    "\n",
    "ind_waste = np.array(df_wb_waste[[x for x in df_wb_waste.columns if \"special_waste_industrial_waste_tons_year\" in x]].fillna(0).sum(axis = 1))\n",
    "gdp = (np.array(df_wb_waste[\"gdp\"])/1000)\n",
    "np.mean(ind_waste/gdp)\n"
   ]
  },
  {
   "cell_type": "code",
   "execution_count": null,
   "metadata": {},
   "outputs": [],
   "source": [
    "### importlib.reload(sf)\n",
    "importlib.reload(ma)\n",
    "importlib.reload(sa)\n",
    "sa.excel_template_path(\"AFOLU\", \"arg\", \"demo\", True)\n"
   ]
  },
  {
   "cell_type": "code",
   "execution_count": null,
   "metadata": {},
   "outputs": [],
   "source": []
  }
 ],
 "metadata": {
  "kernelspec": {
   "display_name": "Python 3 (ipykernel)",
   "language": "python",
   "name": "python3"
  },
  "language_info": {
   "codemirror_mode": {
    "name": "ipython",
    "version": 3
   },
   "file_extension": ".py",
   "mimetype": "text/x-python",
   "name": "python",
   "nbconvert_exporter": "python",
   "pygments_lexer": "ipython3",
   "version": "3.8.5"
  }
 },
 "nbformat": 4,
 "nbformat_minor": 4
}
