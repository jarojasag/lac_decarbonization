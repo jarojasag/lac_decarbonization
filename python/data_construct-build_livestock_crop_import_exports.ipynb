{
 "cells": [
  {
   "cell_type": "code",
   "execution_count": 11,
   "metadata": {},
   "outputs": [],
   "source": [
    "import os, os.path\n",
    "import numpy as np\n",
    "import pandas as pd\n",
    "import model_attributes as ma\n",
    "from attribute_table import AttributeTable\n",
    "import setup_analysis as sa\n",
    "import support_functions as sf\n",
    "import importlib\n",
    "import time\n",
    "import warnings\n",
    "import matplotlib.pyplot as plt\n",
    "\n"
   ]
  },
  {
   "cell_type": "code",
   "execution_count": 12,
   "metadata": {},
   "outputs": [],
   "source": [
    "# read in fertilizer data from IFA Database\n",
    "df_data = pd.read_excel(\"/Users/jsyme/Documents/Projects/FY21/SWCHE131_1000/Data/AFOLU/IFADATA Plant Nutrition query - 06-Aug-2022_01.30.xlsx\", skiprows = 2)\n",
    "# check forest products\n",
    "encode = \"ISO-8859-1\"\n",
    "df_trade = pd.read_csv(os.path.join(dir_faostat, \"Trade_CropsLivestock_E_All_Data_(Normalized)\", \"Trade_Crops_Livestock_E_All_Data_(Normalized).csv\"),\n",
    "    encoding = encode\n",
    ")"
   ]
  },
  {
   "cell_type": "code",
   "execution_count": 15,
   "metadata": {},
   "outputs": [
    {
     "data": {
      "text/plain": [
       "array(['Export Quantity', 'Export Value', 'Import Quantity',\n",
       "       'Import Value'], dtype=object)"
      ]
     },
     "execution_count": 15,
     "metadata": {},
     "output_type": "execute_result"
    }
   ],
   "source": [
    "\n",
    "df_trade = pd.read_csv(os.path.join(dir_faostat, \"Trade_CropsLivestock_E_All_Data_(Normalized)\", \"Trade_Crops_Livestock_E_All_Data_(Normalized).csv\"),\n",
    "    encoding = encode\n",
    ")\n",
    "#df_trade[\"Element\"].unique()\n",
    "df_trade = df_trade[\n",
    "    df_trade[\"Year\"].isin([2018, 2019])\n",
    "].reset_index(drop = True)\n"
   ]
  },
  {
   "cell_type": "code",
   "execution_count": 24,
   "metadata": {},
   "outputs": [],
   "source": []
  },
  {
   "cell_type": "code",
   "execution_count": 165,
   "metadata": {},
   "outputs": [],
   "source": [
    "\n",
    "\n",
    "##  format the regional data\n",
    "def format_regional_data(\n",
    "    df_data_by_region: pd.DataFrame,\n",
    "    fields_ind: list = [\"Country\", \"Year\"],\n",
    "    fields_values: list = [\"Consumption\"],\n",
    "    fields_pivot: list = [\"Product\"],\n",
    "    dict_rnm_out: dict = None\n",
    ") -> pd.DataFrame:\n",
    "    \n",
    "    # pivot the data\n",
    "    df_data_by_region_wide = pd.pivot(df_data_by_region, index = fields_ind, columns = fields_pivot, values = [\"Consumption\"]).reset_index()\n",
    "    df_data_by_region_wide.columns = df_data_by_region_wide.columns.to_flat_index()\n",
    "\n",
    "    # rename\n",
    "    dict_rnm = dict([((a, x), x.lower().replace(\"(\", \"\").replace(\")\", \"\").replace(\" \", \"_\")) for x in keep_products for a in fields_values])\n",
    "    dict_rnm.update(\n",
    "        dict([((x, \"\"), x.lower()) for x in fields_ind])\n",
    "    )\n",
    "    df_data_by_region_wide.rename(columns = dict_rnm, inplace = True)\n",
    "\n",
    "    # clean some columns\n",
    "    df_data_by_region_wide[\"year\"] = df_data_by_region_wide[\"year\"].astype(int)\n",
    "    \n",
    "    if dict_rnm is not None:\n",
    "        df_data_by_region_wide.rename(columns = dict_rnm_out, inplace = True)\n",
    "        \n",
    "    return df_data_by_region_wide\n",
    "\n",
    "\n",
    "\n",
    "\n",
    "# some sets\n",
    "keep_products = set([\"Grand Total N\", \"Urea (N)\"])\n",
    "regions_all = set(sa.model_attributes.dict_attributes[\"region\"].table[\"category_name\"])\n",
    "regions_available = set(df_data[\"Country\"])\n",
    "regions_to_allocate = regions_all - regions_available\n",
    "region_to_allocate = \"Others Latin America\"\n",
    "\n",
    "# reduce dataset - piece out to data available bty country and values to allocate proportionally to ag production\n",
    "df_data = df_data[df_data[\"Product\"].isin(keep_products)].reset_index(drop = True)\n",
    "df_data_by_region = df_data[df_data[\"Country\"].isin(regions_all)].copy().reset_index(drop = True)\n",
    "df_data_to_allocate = df_data[df_data[\"Country\"].isin([region_to_allocate])].copy().reset_index(drop = True)\n",
    "\n",
    "# format fields\n",
    "field_qty = \"qtyinit_soil_synthetic_fertilizer_kt\"\n",
    "field_frac = \"frac_soil_synthetic_fertilizer_urea\"\n",
    "dict_rnm = {\n",
    "    \"grand_total_n\": field_qty,\n",
    "    \"urea_n\": field_frac\n",
    "}\n",
    "# get data for which information is available per region\n",
    "df_data_by_region_wide = format_regional_data(df_data_by_region, dict_rnm_out = dict_rnm)\n",
    "df_data_by_region_wide[field_frac] = np.array(df_data_by_region_wide[field_frac])/np.array(df_data_by_region_wide[field_qty])\n",
    "\n",
    "\n",
    "##  do the allocation to countries for which fertilizer data is not available\n",
    "\n",
    "# get production area by country to allocate fertilizer\n",
    "df_ag_production_agg = df_ag_production[\n",
    "    df_ag_production[\"Element\"].isin([\"Area harvested\"]) &\n",
    "    df_ag_production[\"Year\"].isin(range(2015, 2020))\n",
    "][[\"Area\", \"Item\", \"Year\", \"Value\"]];\n",
    "# grouping fields\n",
    "fields_grp = [\"Area\", \"Year\"]\n",
    "fields_sum = [\"Value\"]\n",
    "dict_agg = dict(zip(fields_grp, [\"first\" for x in fields_grp]))\n",
    "dict_agg.update(dict(zip(fields_sum, [\"sum\" for x in fields_sum])))\n",
    "# aggregation\n",
    "df_ag_production_agg = df_ag_production_agg.groupby(fields_grp).agg(dict_agg).reset_index(drop = True)\n",
    "df_ag_production_agg[\"Area\"] = df_ag_production_agg[\"Area\"].replace({\"Bolivia (Plurinational State of)\": \"Bolivia\"})\n",
    "df_ag_production_agg = df_ag_production_agg[df_ag_production_agg[\"Area\"].isin(regions_to_allocate)].reset_index(drop = True)\n",
    "# get total area and merge back in, then get fractional allocation\n",
    "df_ag_production_agg_total = df_ag_production_agg[[\"Year\", \"Value\"]].groupby([\"Year\"]).agg({\"Year\": \"first\", \"Value\": \"sum\"}).reset_index(drop = True).rename(columns = {\"Value\": \"Value_Total\"})\n",
    "df_ag_production_agg = pd.merge(df_ag_production_agg, df_ag_production_agg_total)\n",
    "df_ag_production_agg[\"frac_allocation\"] = np.array(df_ag_production_agg[\"Value\"])/np.array(df_ag_production_agg[\"Value_Total\"])\n",
    "\n",
    "# setup the allocation\n",
    "df_data_to_allocate_wide = format_regional_data(df_data_to_allocate, dict_rnm_out = dict_rnm)\n",
    "df_data_to_allocate_wide[field_frac] = np.array(df_data_to_allocate_wide[field_frac])/np.array(df_data_to_allocate_wide[field_qty])\n",
    "df_data_to_allocate_wide.drop([\"country\"], axis = 1, inplace = True)\n",
    "# merge in production data\n",
    "df_ag_production_agg = df_ag_production_agg[[\"Area\", \"Year\", \"frac_allocation\"]].rename(columns = {\"Area\": \"country\", \"Year\": \"year\"})\n",
    "df_data_to_allocate_wide = pd.merge(df_data_to_allocate_wide, df_ag_production_agg)\n",
    "df_data_to_allocate_wide[field_qty] = np.array(df_data_to_allocate_wide[field_qty])*np.array(df_data_to_allocate_wide[\"frac_allocation\"])\n",
    "df_data_to_allocate_wide = df_data_to_allocate_wide[df_data_by_region_wide.columns]\n",
    "\n",
    "# final dataset\n",
    "df_data_out = pd.concat([df_data_by_region_wide, df_data_to_allocate_wide], axis = 0).sort_values(by = [\"country\", \"year\"]).reset_index(drop = True)\n",
    "# functio to reformat the country name for integration\n",
    "def format_country_name(country: str) -> str:\n",
    "    country_out = country.split(\"(\")[0].strip().lower().replace(\" \", \"_\")\n",
    "    return country_out\n",
    "df_data_out[\"country\"] = df_data_out[\"country\"].apply(format_country_name)\n",
    "fp_out = \"/Users/jsyme/Documents/Projects/FY21/SWCHE131_1000/Data/AFOLU/ifa_data_fertilizer_input_estimates_by_country_by_year.csv\"\n",
    "df_data_out.to_csv(fp_out, index = None, encoding = \"UTF-8\")"
   ]
  },
  {
   "cell_type": "code",
   "execution_count": 167,
   "metadata": {},
   "outputs": [
    {
     "data": {
      "text/plain": [
       "26"
      ]
     },
     "execution_count": 167,
     "metadata": {},
     "output_type": "execute_result"
    }
   ],
   "source": [
    "len(set(df_data_out[\"country\"]))"
   ]
  },
  {
   "cell_type": "code",
   "execution_count": 161,
   "metadata": {},
   "outputs": [],
   "source": [
    "(\"(\")[0].strip().lower().replace(\" \", \"_\")\n",
    "    return country_out\n"
   ]
  },
  {
   "cell_type": "code",
   "execution_count": 178,
   "metadata": {},
   "outputs": [
    {
     "data": {
      "text/plain": [
       "array(['Forestland', 'Net Forest conversion',\n",
       "       'Carbon stock change in forests'], dtype=object)"
      ]
     },
     "execution_count": 178,
     "metadata": {},
     "output_type": "execute_result"
    }
   ],
   "source": [
    "df_frst_emission[\"Item\"].unique()"
   ]
  },
  {
   "cell_type": "code",
   "execution_count": 182,
   "metadata": {},
   "outputs": [
    {
     "data": {
      "text/plain": [
       "['AFOLU',\n",
       " 'Agricultural Soils',\n",
       " 'Burning - Crop residues',\n",
       " 'Crop Residues',\n",
       " 'Drained organic soils',\n",
       " 'Drained organic soils (CO2)',\n",
       " 'Drained organic soils (N2O)',\n",
       " 'Emissions on agricultural land',\n",
       " 'Enteric Fermentation',\n",
       " 'Farm-gate emissions',\n",
       " 'Fires in humid tropical forests',\n",
       " 'Fires in organic soils',\n",
       " 'Forest fires',\n",
       " 'Forestland',\n",
       " 'IPCC Agriculture',\n",
       " 'LULUCF',\n",
       " 'Manure Management',\n",
       " 'Manure applied to Soils',\n",
       " 'Manure left on Pasture',\n",
       " 'Net Forest conversion',\n",
       " 'On-farm energy use',\n",
       " 'Rice Cultivation',\n",
       " 'Savanna fires',\n",
       " 'Synthetic Fertilizers']"
      ]
     },
     "execution_count": 182,
     "metadata": {},
     "output_type": "execute_result"
    }
   ],
   "source": [
    "sorted(list(df_frst_emission[\"Item\"].unique()))"
   ]
  },
  {
   "cell_type": "code",
   "execution_count": null,
   "metadata": {},
   "outputs": [],
   "source": []
  }
 ],
 "metadata": {
  "kernelspec": {
   "display_name": "Python 3",
   "language": "python",
   "name": "python3"
  },
  "language_info": {
   "codemirror_mode": {
    "name": "ipython",
    "version": 3
   },
   "file_extension": ".py",
   "mimetype": "text/x-python",
   "name": "python",
   "nbconvert_exporter": "python",
   "pygments_lexer": "ipython3",
   "version": "3.8.5"
  }
 },
 "nbformat": 4,
 "nbformat_minor": 4
}
